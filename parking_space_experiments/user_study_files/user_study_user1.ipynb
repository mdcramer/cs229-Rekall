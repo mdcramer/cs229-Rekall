{
 "cells": [
  {
   "cell_type": "code",
   "execution_count": 1,
   "metadata": {},
   "outputs": [],
   "source": [
    "%load_ext autoreload\n",
    "%autoreload 2\n",
    "from user_study_helpers import *"
   ]
  },
  {
   "cell_type": "markdown",
   "metadata": {},
   "source": [
    "# Load Dev Set and primitive data\n",
    "\n",
    "Expand a video by clicking on it; then use `;` to play the video."
   ]
  },
  {
   "cell_type": "code",
   "execution_count": 2,
   "metadata": {},
   "outputs": [
    {
     "name": "stderr",
     "output_type": "stream",
     "text": [
      "100%|██████████| 2/2 [00:00<00:00, 68.18it/s]\n",
      "100%|██████████| 2/2 [00:00<00:00, 488.02it/s]\n"
     ]
    },
    {
     "data": {
      "application/vnd.jupyter.widget-view+json": {
       "model_id": "428550add6ef48f1acfebc493877e6b6",
       "version_major": 2,
       "version_minor": 0
      },
      "text/plain": [
       "VGridWidget(vgrid_spec={'compressed': True, 'data': b'x\\x9c\\xc4\\xbd\\xcb\\xae$Kr\\xae\\xf7*\\x07=\\x16\\x04\\xbf_4\\xd4…"
      ]
     },
     "metadata": {},
     "output_type": "display_data"
    }
   ],
   "source": [
    "bounding_boxes = get_bboxes('dev')\n",
    "parking_space_gt = get_gt( )\n",
    "visualize_boxes([bounding_boxes, parking_space_gt])"
   ]
  },
  {
   "cell_type": "markdown",
   "metadata": {},
   "source": [
    "# Task: detect all empty parking spaces\n",
    "\n",
    "Your goal is to write a Rekall program to detect all empty parking spaces (visualized in the second timeline above).\n",
    "\n",
    "You're given a Rekall `IntervalSetMapping` object, `bounding_boxes`, that contains detections from Mask R-CNN. The Intervals contain 3D bounds, and the payloads contain the class and the class score:"
   ]
  },
  {
   "cell_type": "code",
   "execution_count": 22,
   "metadata": {},
   "outputs": [
    {
     "data": {
      "text/plain": [
       "<Interval t1:0.0 t2:30.0 x1:0.0 x2:0.08424050211906434 y1:0.5207680172390408 y2:0.6528446621365017 payload:{'class': 'car', 'score': 0.9638893008232117}>"
      ]
     },
     "execution_count": 22,
     "metadata": {},
     "output_type": "execute_result"
    }
   ],
   "source": [
    "bounding_boxes[0].get_intervals()[0]"
   ]
  },
  {
   "cell_type": "markdown",
   "metadata": {},
   "source": [
    "The bounding boxes are sampled every thirty seconds (hence why the Interval above has time bounds of 0 to 30), and so are the ground truth annotations.\n",
    "\n",
    "Your goal is to fill in the following function:\n",
    "\n",
    "```Python\n",
    "def detect_empty_parking_spaces(bounding_boxes, reference_video):\n",
    "    \"\"\"\n",
    "    Function to detect empty parking spaces.\n",
    "    \n",
    "    bounding_boxes is a Rekall IntervalSetMapping object whose intervals are\n",
    "    bounding box outputs from Mask R-CNN.\n",
    "    \n",
    "    first_video_id is the video ID of the first video. We guarantee that at\n",
    "    time 0 in this video, all the car detections are parking spots.\n",
    "    \n",
    "    This function needs to return a Rekall IntervalSetMapping object whose\n",
    "    Intervals are empty parking spots in the video.\n",
    "    \n",
    "    The output Intervals need to have time extent (0, 30), (30, 60), etc.\n",
    "    Each Interval should have the spatial extent of a single empty parking\n",
    "    spot.\n",
    "    \"\"\"\n",
    "    \n",
    "    # Your code here\n",
    "```\n",
    "\n",
    "This function takes in bounding box outputs from Mask R-CNN, and detects empty parking spaces. We also pass in the video ID of the first video - we guarantee that at time zero of this video, all the car detections will be parked cars.\n",
    "\n",
    "This function will be evaluated against an unseen test set at the end of the user study. We'll be using the Average Precision metric.\n",
    "\n",
    "We provide some helper functions to evaluate your programs on the dev set below!\n",
    "\n",
    "This task is inspired by [this Medium blog post](https://medium.com/@ageitgey/snagging-parking-spaces-with-mask-r-cnn-and-python-955f2231c400):\n",
    "* They use an off-the-shelf object detector to detect cars (like what you have in `bounding_boxes`)\n",
    "* They take a timestamp where all the parking spots are full, and use car detections to get parking spots (like time 0 of `reference_video`)\n",
    "* Then empty parking spots are just parking spots where there are no cars"
   ]
  },
  {
   "cell_type": "code",
   "execution_count": 156,
   "metadata": {},
   "outputs": [],
   "source": [
    "def detect_empty_parking_spaces(bounding_boxes, reference_video):\n",
    "    \"\"\"\n",
    "    Function to detect empty parking spaces.\n",
    "    \n",
    "    bounding_boxes is a Rekall IntervalSetMapping object whose intervals are\n",
    "    bounding box outputs from Mask R-CNN.\n",
    "    \n",
    "    reference_video is the video ID of the first video. We guarantee that at\n",
    "    time 0 in this video, all the car detections are parking spots.\n",
    "    \n",
    "    This function needs to return a Rekall IntervalSetMapping object whose\n",
    "    Intervals are empty parking spots in the video.\n",
    "    \n",
    "    The output Intervals need to have time extent (0, 30), (30, 60), etc.\n",
    "    Each Interval should have the spatial extent of a single empty parking\n",
    "    spot.\n",
    "    \"\"\"\n",
    "        \n",
    "    # Your code here\n",
    "    all_car_spots = bounding_boxes[reference_video].filter(\n",
    "    lambda interval: interval['t1'] == 0 and interval['payload']['class'] == 'car'\n",
    "    ).get_intervals()\n",
    "\n",
    "    video_lengths = {\n",
    "        key: bounding_boxes[key].get_intervals()[-1]['t2']\n",
    "        for key in bounding_boxes\n",
    "    }\n",
    "    \n",
    "    car_positions_duplicated = IntervalSetMapping({\n",
    "        key: IntervalSet([\n",
    "            Interval(Bounds3D(\n",
    "                t1 = t,\n",
    "                t2 = t + 30,\n",
    "                x1 = interval['x1'],\n",
    "                x2 = interval['x2'],\n",
    "                y1 = interval['y1'],\n",
    "                y2 = interval['y2']\n",
    "            ))\n",
    "            for t in range(0, int(video_lengths[key]), 30)\n",
    "            for interval in all_car_spots\n",
    "        ])\n",
    "        for key in bounding_boxes\n",
    "    })\n",
    "    \n",
    "    all_cars = bounding_boxes.filter(lambda interval: interval['payload']['class'] == 'car')\n",
    "    all_cars = all_cars.dilate(\n",
    "    20\n",
    "    ).map(\n",
    "        lambda interval: Interval(interval['bounds'], payload=[interval])\n",
    "    ).coalesce(\n",
    "        ('t1', 't2'),\n",
    "        bounds_merge_op = lambda bounds1, bounds2: bounds1.span(bounds2),\n",
    "        payload_merge_op = lambda p1, p2: p1 + p2,\n",
    "        predicate = iou_at_least(0.8)\n",
    "    ).dilate(-20)\n",
    "    \n",
    "    empty_spaces = car_positions_duplicated.minus(\n",
    "        all_cars,\n",
    "        predicate = and_pred(\n",
    "            Bounds3D.T(overlaps()),\n",
    "            Bounds3D.X(overlaps()),\n",
    "            Bounds3D.Y(overlaps()),\n",
    "            iou_at_least(0.3)\n",
    "        ),\n",
    "        window = 0.0,\n",
    "        progress_bar = True\n",
    "    )\n",
    "    \n",
    "    empty_spaces = empty_spaces.filter(lambda interval: interval['t2'] - interval['t1'] > 10)\n",
    "    \n",
    "    return empty_spaces"
   ]
  },
  {
   "cell_type": "markdown",
   "metadata": {},
   "source": [
    "## Helper functions\n",
    "\n",
    "`evaluate_on_dev` runs `detect_empty_parking_spaces` on `bounding_boxes`, and visualizes the results along with the ground truth in the dev set. Then it computes the AP score on the dev set.\n",
    "\n",
    "Of course, you can also run these functions yourself!\n",
    "\n",
    "`compute_ap` takes the predicted parking spaces and the ground truth set, and computes the AP score. As we saw before, `visualize_boxes` takes a list of `IntervalSetMapping` objects and visualizes them."
   ]
  },
  {
   "cell_type": "code",
   "execution_count": 157,
   "metadata": {},
   "outputs": [],
   "source": [
    "def evaluate_on_dev():\n",
    "    empty_parking_spaces = detect_empty_parking_spaces(bounding_boxes, 0)\n",
    "    \n",
    "    # Visualize the predictions the first row will be your predictions, second\n",
    "    # row will be the ground truth\n",
    "    widget = visualize_boxes([empty_parking_spaces, parking_space_gt])\n",
    "    display(widget)\n",
    "    \n",
    "    # Compute average precision on the dev set\n",
    "    ap = compute_ap(empty_parking_spaces, parking_space_gt)\n",
    "    \n",
    "    print('Average precision: ', ap)"
   ]
  },
  {
   "cell_type": "code",
   "execution_count": 158,
   "metadata": {},
   "outputs": [
    {
     "name": "stderr",
     "output_type": "stream",
     "text": [
      "100%|██████████| 2/2 [00:01<00:00,  1.61it/s]\n"
     ]
    },
    {
     "data": {
      "application/vnd.jupyter.widget-view+json": {
       "model_id": "d4cf4abadbfc4789aa8aad0c66f84311",
       "version_major": 2,
       "version_minor": 0
      },
      "text/plain": [
       "VGridWidget(vgrid_spec={'compressed': True, 'data': b'x\\x9c\\xdd\\x9dOo\\xdbH\\x12\\xc5\\xbfJ\\xe0\\xf3\"&\\xfb\\x7f\\xe7\\…"
      ]
     },
     "metadata": {},
     "output_type": "display_data"
    },
    {
     "name": "stderr",
     "output_type": "stream",
     "text": [
      "100%|██████████| 2/2 [00:00<00:00, 33.04it/s]\n",
      "100%|██████████| 2/2 [00:00<00:00,  3.04it/s]\n",
      "100%|██████████| 2/2 [00:00<00:00,  3.26it/s]"
     ]
    },
    {
     "name": "stdout",
     "output_type": "stream",
     "text": [
      "Average precision:  0.8064516129032258\n"
     ]
    },
    {
     "name": "stderr",
     "output_type": "stream",
     "text": [
      "\n"
     ]
    }
   ],
   "source": [
    "evaluate_on_dev()"
   ]
  },
  {
   "cell_type": "code",
   "execution_count": 159,
   "metadata": {},
   "outputs": [
    {
     "name": "stderr",
     "output_type": "stream",
     "text": [
      "100%|██████████| 2/2 [00:00<00:00, 738.69it/s]\n",
      "100%|██████████| 2/2 [00:00<00:00, 70.43it/s]\n",
      "100%|██████████| 2/2 [00:01<00:00,  1.50it/s]\n",
      "100%|██████████| 2/2 [00:00<00:00, 80.88it/s]\n",
      "100%|██████████| 2/2 [00:00<00:00,  6.78it/s]\n",
      "100%|██████████| 2/2 [00:00<00:00,  7.99it/s]"
     ]
    },
    {
     "name": "stdout",
     "output_type": "stream",
     "text": [
      "Average precision:  0.7424242424242424\n"
     ]
    },
    {
     "name": "stderr",
     "output_type": "stream",
     "text": [
      "\n"
     ]
    }
   ],
   "source": [
    "evaluate_on_test(detect_empty_parking_spaces)"
   ]
  },
  {
   "cell_type": "markdown",
   "metadata": {},
   "source": [
    "# Post-hoc analysis"
   ]
  },
  {
   "cell_type": "code",
   "execution_count": 176,
   "metadata": {},
   "outputs": [],
   "source": [
    "def detect_empty_parking_spaces_modified(bounding_boxes, reference_video):\n",
    "    \"\"\"\n",
    "    Function to detect empty parking spaces.\n",
    "    \n",
    "    bounding_boxes is a Rekall IntervalSetMapping object whose intervals are\n",
    "    bounding box outputs from Mask R-CNN.\n",
    "    \n",
    "    reference_video is the video ID of the first video. We guarantee that at\n",
    "    time 0 in this video, all the car detections are parking spots.\n",
    "    \n",
    "    This function needs to return a Rekall IntervalSetMapping object whose\n",
    "    Intervals are empty parking spots in the video.\n",
    "    \n",
    "    The output Intervals need to have time extent (0, 30), (30, 60), etc.\n",
    "    Each Interval should have the spatial extent of a single empty parking\n",
    "    spot.\n",
    "    \"\"\"\n",
    "        \n",
    "    # Your code here\n",
    "    all_car_spots = bounding_boxes[reference_video].filter(\n",
    "    lambda interval: interval['t1'] == 0 and interval['payload']['class'] == 'car'\n",
    "    ).get_intervals()\n",
    "\n",
    "    video_lengths = {\n",
    "        key: bounding_boxes[key].get_intervals()[-1]['t2']\n",
    "        for key in bounding_boxes\n",
    "    }\n",
    "    \n",
    "    car_positions_duplicated = IntervalSetMapping({\n",
    "        key: IntervalSet([\n",
    "            Interval(Bounds3D(\n",
    "                t1 = t,\n",
    "                t2 = t + 30,\n",
    "                x1 = interval['x1'],\n",
    "                x2 = interval['x2'],\n",
    "                y1 = interval['y1'],\n",
    "                y2 = interval['y2']\n",
    "            ))\n",
    "            for t in range(0, int(video_lengths[key]), 30)\n",
    "            for interval in all_car_spots\n",
    "        ])\n",
    "        for key in bounding_boxes\n",
    "    })\n",
    "    \n",
    "    all_cars = bounding_boxes.filter(lambda interval: True)\n",
    "    all_cars = all_cars.dilate(\n",
    "    20\n",
    "    ).map(\n",
    "        lambda interval: Interval(interval['bounds'], payload=[interval])\n",
    "    ).coalesce(\n",
    "        ('t1', 't2'),\n",
    "        bounds_merge_op = lambda bounds1, bounds2: bounds1.span(bounds2),\n",
    "        payload_merge_op = lambda p1, p2: p1 + p2,\n",
    "        predicate = iou_at_least(0.8)\n",
    "    ).dilate(-20)\n",
    "    \n",
    "    empty_spaces = car_positions_duplicated.minus(\n",
    "        all_cars,\n",
    "        predicate = and_pred(\n",
    "            Bounds3D.T(overlaps()),\n",
    "            Bounds3D.X(overlaps()),\n",
    "            Bounds3D.Y(overlaps()),\n",
    "            iou_at_least(0.3)\n",
    "        ),\n",
    "        window = 0.0,\n",
    "        progress_bar = True\n",
    "    )\n",
    "    \n",
    "    empty_spaces = empty_spaces.filter(lambda interval: interval['t2'] - interval['t1'] > 10)\n",
    "    \n",
    "    return empty_spaces"
   ]
  },
  {
   "cell_type": "code",
   "execution_count": 177,
   "metadata": {},
   "outputs": [],
   "source": [
    "def evaluate_on_dev_modified():\n",
    "    empty_parking_spaces = detect_empty_parking_spaces_modified(bounding_boxes, 0)\n",
    "    \n",
    "    # Visualize the predictions the first row will be your predictions, second\n",
    "    # row will be the ground truth\n",
    "    widget = visualize_boxes([empty_parking_spaces, parking_space_gt])\n",
    "    display(widget)\n",
    "    \n",
    "    # Compute average precision on the dev set\n",
    "    ap = compute_ap(empty_parking_spaces, parking_space_gt)\n",
    "    \n",
    "    print('Average precision: ', ap)"
   ]
  },
  {
   "cell_type": "code",
   "execution_count": 178,
   "metadata": {},
   "outputs": [
    {
     "name": "stderr",
     "output_type": "stream",
     "text": [
      "100%|██████████| 2/2 [00:02<00:00,  1.20it/s]\n"
     ]
    },
    {
     "data": {
      "application/vnd.jupyter.widget-view+json": {
       "model_id": "1d13ef78d4d54c35a213b03d65e3dfb6",
       "version_major": 2,
       "version_minor": 0
      },
      "text/plain": [
       "VGridWidget(vgrid_spec={'compressed': True, 'data': b'x\\x9c\\xdd\\x9cOo\\xdbH\\x16\\xc4\\xbfJ\\xa0\\xf3\"&\\xfb\\x7f\\xe7\\…"
      ]
     },
     "metadata": {},
     "output_type": "display_data"
    },
    {
     "name": "stderr",
     "output_type": "stream",
     "text": [
      "100%|██████████| 2/2 [00:00<00:00, 37.11it/s]\n",
      "100%|██████████| 1/1 [00:00<00:00,  1.83it/s]\n",
      "100%|██████████| 2/2 [00:00<00:00,  3.73it/s]"
     ]
    },
    {
     "name": "stdout",
     "output_type": "stream",
     "text": [
      "Average precision:  0.9414225941422594\n"
     ]
    },
    {
     "name": "stderr",
     "output_type": "stream",
     "text": [
      "\n"
     ]
    }
   ],
   "source": [
    "evaluate_on_dev_modified()"
   ]
  },
  {
   "cell_type": "code",
   "execution_count": 179,
   "metadata": {},
   "outputs": [
    {
     "name": "stderr",
     "output_type": "stream",
     "text": [
      "100%|██████████| 2/2 [00:00<00:00, 652.91it/s]\n",
      "100%|██████████| 2/2 [00:00<00:00, 68.09it/s]\n",
      "100%|██████████| 2/2 [00:02<00:00,  1.06it/s]\n",
      "100%|██████████| 2/2 [00:00<00:00, 86.58it/s]\n",
      "100%|██████████| 2/2 [00:00<00:00,  8.88it/s]\n",
      "100%|██████████| 2/2 [00:00<00:00,  8.91it/s]"
     ]
    },
    {
     "name": "stdout",
     "output_type": "stream",
     "text": [
      "Average precision:  0.98\n"
     ]
    },
    {
     "name": "stderr",
     "output_type": "stream",
     "text": [
      "\n"
     ]
    }
   ],
   "source": [
    "evaluate_on_test(detect_empty_parking_spaces_modified)"
   ]
  },
  {
   "cell_type": "code",
   "execution_count": null,
   "metadata": {},
   "outputs": [],
   "source": []
  }
 ],
 "metadata": {
  "kernelspec": {
   "display_name": "Python 3",
   "language": "python",
   "name": "python3"
  },
  "language_info": {
   "codemirror_mode": {
    "name": "ipython",
    "version": 3
   },
   "file_extension": ".py",
   "mimetype": "text/x-python",
   "name": "python",
   "nbconvert_exporter": "python",
   "pygments_lexer": "ipython3",
   "version": "3.7.3"
  }
 },
 "nbformat": 4,
 "nbformat_minor": 2
}
