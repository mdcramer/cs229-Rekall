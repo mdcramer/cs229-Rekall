{
 "cells": [
  {
   "cell_type": "code",
   "execution_count": 1,
   "metadata": {},
   "outputs": [],
   "source": [
    "%load_ext autoreload\n",
    "%autoreload 2\n",
    "from user_study_helpers import *"
   ]
  },
  {
   "cell_type": "markdown",
   "metadata": {},
   "source": [
    "# Load Dev Set and primitive data\n",
    "\n",
    "Expand a video by clicking on it; then use `;` to play the video."
   ]
  },
  {
   "cell_type": "code",
   "execution_count": 67,
   "metadata": {},
   "outputs": [
    {
     "name": "stderr",
     "output_type": "stream",
     "text": [
      "100%|██████████| 2/2 [00:00<00:00, 14.01it/s]\n",
      "100%|██████████| 2/2 [00:00<00:00, 475.65it/s]\n"
     ]
    },
    {
     "data": {
      "application/vnd.jupyter.widget-view+json": {
       "model_id": "154f44ee60394dc7b3b8e032d159b836",
       "version_major": 2,
       "version_minor": 0
      },
      "text/plain": [
       "VGridWidget(vgrid_spec={'compressed': True, 'data': b'x\\x9c\\xc4\\xbd\\xdb\\xaeeKV\\xb5\\xf7*\\xbf\\xea\\xdaFq>\\xf8\\xd2…"
      ]
     },
     "metadata": {},
     "output_type": "display_data"
    }
   ],
   "source": [
    "bounding_boxes = get_bboxes('dev')\n",
    "parking_space_gt = get_gt( )\n",
    "visualize_boxes([bounding_boxes.filter(lambda i: i['payload']['class'] == 'car'), parking_space_gt])"
   ]
  },
  {
   "cell_type": "markdown",
   "metadata": {},
   "source": [
    "# Task: detect all empty parking spaces\n",
    "\n",
    "Your goal is to write a Rekall program to detect all empty parking spaces (visualized in the second timeline above).\n",
    "\n",
    "You're given a Rekall `IntervalSetMapping` object, `bounding_boxes`, that contains detections from Mask R-CNN. The Intervals contain 3D bounds, and the payloads contain the class and the class score:"
   ]
  },
  {
   "cell_type": "code",
   "execution_count": 33,
   "metadata": {},
   "outputs": [
    {
     "data": {
      "text/plain": [
       "<Interval t1:0.0 t2:30.0 x1:0.0 x2:0.08424050211906434 y1:0.5207680172390408 y2:0.6528446621365017 payload:{'class': 'car', 'score': 0.9638893008232117}>"
      ]
     },
     "execution_count": 33,
     "metadata": {},
     "output_type": "execute_result"
    }
   ],
   "source": [
    "bounding_boxes[0].get_intervals()[0]"
   ]
  },
  {
   "cell_type": "markdown",
   "metadata": {},
   "source": [
    "The bounding boxes are sampled every thirty seconds (hence why the Interval above has time bounds of 0 to 30), and so are the ground truth annotations.\n",
    "\n",
    "Your goal is to fill in the following function:\n",
    "\n",
    "```Python\n",
    "def detect_empty_parking_spaces(bounding_boxes, reference_video):\n",
    "    \"\"\"\n",
    "    Function to detect empty parking spaces.\n",
    "    \n",
    "    bounding_boxes is a Rekall IntervalSetMapping object whose intervals are\n",
    "    bounding box outputs from Mask R-CNN.\n",
    "    \n",
    "    first_video_id is the video ID of the first video. We guarantee that at\n",
    "    time 0 in this video, all the car detections are parking spots.\n",
    "    \n",
    "    This function needs to return a Rekall IntervalSetMapping object whose\n",
    "    Intervals are empty parking spots in the video.\n",
    "    \n",
    "    The output Intervals need to have time extent (0, 30), (30, 60), etc.\n",
    "    Each Interval should have the spatial extent of a single empty parking\n",
    "    spot.\n",
    "    \"\"\"\n",
    "    \n",
    "    # Your code here\n",
    "```\n",
    "\n",
    "This function takes in bounding box outputs from Mask R-CNN, and detects empty parking spaces. We also pass in the video ID of the first video - we guarantee that at time zero of this video, all the car detections will be parked cars.\n",
    "\n",
    "This function will be evaluated against an unseen test set at the end of the user study. We'll be using the Average Precision metric.\n",
    "\n",
    "We provide some helper functions to evaluate your programs on the dev set below!\n",
    "\n",
    "This task is inspired by [this Medium blog post](https://medium.com/@ageitgey/snagging-parking-spaces-with-mask-r-cnn-and-python-955f2231c400):\n",
    "* They use an off-the-shelf object detector to detect cars (like what you have in `bounding_boxes`)\n",
    "* They take a timestamp where all the parking spots are full, and use car detections to get parking spots (like time 0 of `reference_video`)\n",
    "* Then empty parking spots are just parking spots where there are no cars"
   ]
  },
  {
   "cell_type": "code",
   "execution_count": 116,
   "metadata": {},
   "outputs": [],
   "source": [
    "def detect_empty_parking_spaces(bounding_boxes, reference_video):\n",
    "    \"\"\"\n",
    "    Function to detect empty parking spaces.\n",
    "    \n",
    "    bounding_boxes is a Rekall IntervalSetMapping object whose intervals are\n",
    "    bounding box outputs from Mask R-CNN.\n",
    "    \n",
    "    first_video_id is the video ID of the first video. We guarantee that at\n",
    "    time 0 in this video, all the car detections are parking spots.\n",
    "    \n",
    "    This function needs to return a Rekall IntervalSetMapping object whose\n",
    "    Intervals are empty parking spots in the video.\n",
    "    \n",
    "    The output Intervals need to have time extent (0, 30), (30, 60), etc.\n",
    "    Each Interval should have the spatial extent of a single empty parking\n",
    "    spot.\n",
    "    \"\"\"\n",
    "    \n",
    "    # Reference video (minus) bounding boxes\n",
    "    join_ref_intervals = bounding_boxes[reference_video].dilate(30).coalesce(\n",
    "        ('t1', 't2'), lambda b1, b2: b1.span(b2), predicate=iou_at_least(0.5)\n",
    "    ).dilate(-30).filter(lambda e: e['t1'] == 0)\n",
    "    \n",
    "    parking_spots = IntervalSetMapping({\n",
    "        k : IntervalSet([\n",
    "            Interval(Bounds3D(\n",
    "                t1 = 0,\n",
    "                t2 = int(bounding_boxes[k].get_intervals()[-1]['t2']),\n",
    "                x1 = interval['x1'],\n",
    "                x2 = interval['x2'],\n",
    "                y1 = interval['y1'],\n",
    "                y2 = interval['y2']\n",
    "            ))\n",
    "            for interval in join_ref_intervals.get_intervals()\n",
    "        ])\n",
    "        for k in bounding_boxes\n",
    "    })\n",
    "    \n",
    "    cars = bounding_boxes.filter(lambda i: i['payload']['class'] == 'car')\n",
    "    \n",
    "    join_cars = cars.dilate(15).coalesce(\n",
    "        ('t1', 't2'), lambda bounds1, bounds2: bounds1.span(bounds2), predicate = iou_at_least(0.5)\n",
    "    ).dilate(-15)\n",
    "    \n",
    "    return parking_spots.minus(\n",
    "        join_cars,\n",
    "        predicate = and_pred(\n",
    "            Bounds3D.T(overlaps()),\n",
    "            Bounds3D.X(overlaps()),\n",
    "            Bounds3D.Y(overlaps()),\n",
    "            iou_at_least(0.25)\n",
    "        ),\n",
    "        window = 0.0,\n",
    "    )\n",
    "    \n",
    "    # BAD example - return all the car detections (this is obviously incorrect...)"
   ]
  },
  {
   "cell_type": "markdown",
   "metadata": {},
   "source": [
    "## Helper functions\n",
    "\n",
    "`evaluate_on_dev` runs `detect_empty_parking_spaces` on `bounding_boxes`, and visualizes the results along with the ground truth in the dev set. Then it computes the AP score on the dev set.\n",
    "\n",
    "Of course, you can also run these functions yourself!\n",
    "\n",
    "`compute_ap` takes the predicted parking spaces and the ground truth set, and computes the AP score. As we saw before, `visualize_boxes` takes a list of `IntervalSetMapping` objects and visualizes them."
   ]
  },
  {
   "cell_type": "code",
   "execution_count": 70,
   "metadata": {},
   "outputs": [],
   "source": [
    "def evaluate_on_dev():\n",
    "    empty_parking_spaces = detect_empty_parking_spaces(bounding_boxes, 0)\n",
    "    \n",
    "    # Visualize the predictions the first row will be your predictions, second\n",
    "    # row will be the ground truth\n",
    "    widget = visualize_boxes([empty_parking_spaces, parking_space_gt])\n",
    "    display(widget)\n",
    "    \n",
    "    # Compute average precision on the dev set\n",
    "    ap = compute_ap(empty_parking_spaces, parking_space_gt)\n",
    "    \n",
    "    print('Average precision: ', ap)"
   ]
  },
  {
   "cell_type": "code",
   "execution_count": 117,
   "metadata": {},
   "outputs": [
    {
     "data": {
      "application/vnd.jupyter.widget-view+json": {
       "model_id": "55c3ad9e63384d0da7c7e2ac2bddde2f",
       "version_major": 2,
       "version_minor": 0
      },
      "text/plain": [
       "VGridWidget(vgrid_spec={'compressed': True, 'data': b'x\\x9c\\xdd\\x9dIo\\x1bG\\x10\\x85\\xff\\x8a\\xc1s \\xf5\\xbe\\xe8\\x…"
      ]
     },
     "metadata": {},
     "output_type": "display_data"
    },
    {
     "name": "stderr",
     "output_type": "stream",
     "text": [
      "100%|██████████| 2/2 [00:00<00:00, 31.70it/s]\n",
      "100%|██████████| 2/2 [00:00<00:00,  3.03it/s]\n",
      "100%|██████████| 2/2 [00:00<00:00,  3.21it/s]"
     ]
    },
    {
     "name": "stdout",
     "output_type": "stream",
     "text": [
      "Average precision:  0.8122743682310469\n"
     ]
    },
    {
     "name": "stderr",
     "output_type": "stream",
     "text": [
      "\n"
     ]
    }
   ],
   "source": [
    "evaluate_on_dev()"
   ]
  },
  {
   "cell_type": "code",
   "execution_count": 119,
   "metadata": {},
   "outputs": [
    {
     "name": "stderr",
     "output_type": "stream",
     "text": [
      "100%|██████████| 2/2 [00:00<00:00, 583.64it/s]\n",
      "100%|██████████| 2/2 [00:00<00:00, 65.77it/s]\n",
      "100%|██████████| 2/2 [00:00<00:00, 74.04it/s]\n",
      "100%|██████████| 2/2 [00:00<00:00,  6.18it/s]\n",
      "100%|██████████| 2/2 [00:00<00:00,  7.89it/s]"
     ]
    },
    {
     "name": "stdout",
     "output_type": "stream",
     "text": [
      "Average precision:  0.75\n"
     ]
    },
    {
     "name": "stderr",
     "output_type": "stream",
     "text": [
      "\n"
     ]
    }
   ],
   "source": [
    "evaluate_on_test(detect_empty_parking_spaces)"
   ]
  },
  {
   "cell_type": "markdown",
   "metadata": {},
   "source": [
    "# Post-hoc analysis"
   ]
  },
  {
   "cell_type": "code",
   "execution_count": 129,
   "metadata": {},
   "outputs": [],
   "source": [
    "def detect_empty_parking_spaces_modified(bounding_boxes, reference_video):\n",
    "    \"\"\"\n",
    "    Function to detect empty parking spaces.\n",
    "    \n",
    "    bounding_boxes is a Rekall IntervalSetMapping object whose intervals are\n",
    "    bounding box outputs from Mask R-CNN.\n",
    "    \n",
    "    first_video_id is the video ID of the first video. We guarantee that at\n",
    "    time 0 in this video, all the car detections are parking spots.\n",
    "    \n",
    "    This function needs to return a Rekall IntervalSetMapping object whose\n",
    "    Intervals are empty parking spots in the video.\n",
    "    \n",
    "    The output Intervals need to have time extent (0, 30), (30, 60), etc.\n",
    "    Each Interval should have the spatial extent of a single empty parking\n",
    "    spot.\n",
    "    \"\"\"\n",
    "    \n",
    "    # Reference video (minus) bounding boxes\n",
    "    join_ref_intervals = bounding_boxes[reference_video].dilate(30).coalesce(\n",
    "        ('t1', 't2'), lambda b1, b2: b1.span(b2), predicate=iou_at_least(0.5)\n",
    "    ).dilate(-30).filter(lambda e: e['t1'] == 0)\n",
    "    \n",
    "    parking_spots = IntervalSetMapping({\n",
    "        k : IntervalSet([\n",
    "            Interval(Bounds3D(\n",
    "                t1 = 0,\n",
    "                t2 = int(bounding_boxes[k].get_intervals()[-1]['t2']),\n",
    "                x1 = interval['x1'],\n",
    "                x2 = interval['x2'],\n",
    "                y1 = interval['y1'],\n",
    "                y2 = interval['y2']\n",
    "            ))\n",
    "            for interval in join_ref_intervals.get_intervals()\n",
    "        ])\n",
    "        for k in bounding_boxes\n",
    "    })\n",
    "    \n",
    "    cars = bounding_boxes.filter(lambda i: True)\n",
    "    \n",
    "    join_cars = cars.dilate(15).coalesce(\n",
    "        ('t1', 't2'), lambda bounds1, bounds2: bounds1.span(bounds2), predicate = iou_at_least(0.5)\n",
    "    ).dilate(-15)\n",
    "    \n",
    "    return parking_spots.minus(\n",
    "        join_cars,\n",
    "        predicate = and_pred(\n",
    "            Bounds3D.T(overlaps()),\n",
    "            Bounds3D.X(overlaps()),\n",
    "            Bounds3D.Y(overlaps()),\n",
    "            iou_at_least(0.25)\n",
    "        ),\n",
    "        window = 0.0,\n",
    "    )\n",
    "    \n",
    "    # BAD example - return all the car detections (this is obviously incorrect...)"
   ]
  },
  {
   "cell_type": "code",
   "execution_count": 130,
   "metadata": {},
   "outputs": [],
   "source": [
    "def evaluate_on_dev_modified():\n",
    "    empty_parking_spaces = detect_empty_parking_spaces_modified(bounding_boxes, 0)\n",
    "    \n",
    "    # Visualize the predictions the first row will be your predictions, second\n",
    "    # row will be the ground truth\n",
    "    widget = visualize_boxes([empty_parking_spaces, parking_space_gt])\n",
    "    display(widget)\n",
    "    \n",
    "    # Compute average precision on the dev set\n",
    "    ap = compute_ap(empty_parking_spaces, parking_space_gt)\n",
    "    \n",
    "    print('Average precision: ', ap)"
   ]
  },
  {
   "cell_type": "code",
   "execution_count": 131,
   "metadata": {},
   "outputs": [
    {
     "data": {
      "application/vnd.jupyter.widget-view+json": {
       "model_id": "e3da28aa2db74f5683f6627668e25e49",
       "version_major": 2,
       "version_minor": 0
      },
      "text/plain": [
       "VGridWidget(vgrid_spec={'compressed': True, 'data': b'x\\x9c\\xdd\\x9d[O\\x1bI\\x10\\x85\\xffJ\\xe4\\xe7\\x15\\xf4\\xfd\\xc…"
      ]
     },
     "metadata": {},
     "output_type": "display_data"
    },
    {
     "name": "stderr",
     "output_type": "stream",
     "text": [
      "100%|██████████| 2/2 [00:00<00:00, 38.01it/s]\n",
      "100%|██████████| 1/1 [00:00<00:00,  1.86it/s]\n",
      "100%|██████████| 2/2 [00:00<00:00,  3.75it/s]"
     ]
    },
    {
     "name": "stdout",
     "output_type": "stream",
     "text": [
      "Average precision:  0.9453781512605042\n"
     ]
    },
    {
     "name": "stderr",
     "output_type": "stream",
     "text": [
      "\n"
     ]
    }
   ],
   "source": [
    "evaluate_on_dev_modified()"
   ]
  },
  {
   "cell_type": "code",
   "execution_count": 132,
   "metadata": {},
   "outputs": [
    {
     "name": "stderr",
     "output_type": "stream",
     "text": [
      "100%|██████████| 2/2 [00:00<00:00, 734.43it/s]\n",
      "100%|██████████| 2/2 [00:00<00:00, 12.21it/s]\n",
      "100%|██████████| 2/2 [00:00<00:00, 85.35it/s]\n",
      "100%|██████████| 2/2 [00:00<00:00,  8.97it/s]\n",
      "100%|██████████| 2/2 [00:00<00:00,  9.25it/s]"
     ]
    },
    {
     "name": "stdout",
     "output_type": "stream",
     "text": [
      "Average precision:  0.9865771812080537\n"
     ]
    },
    {
     "name": "stderr",
     "output_type": "stream",
     "text": [
      "\n"
     ]
    }
   ],
   "source": [
    "evaluate_on_test(detect_empty_parking_spaces_modified)"
   ]
  },
  {
   "cell_type": "code",
   "execution_count": null,
   "metadata": {},
   "outputs": [],
   "source": []
  }
 ],
 "metadata": {
  "kernelspec": {
   "display_name": "Python 3",
   "language": "python",
   "name": "python3"
  },
  "language_info": {
   "codemirror_mode": {
    "name": "ipython",
    "version": 3
   },
   "file_extension": ".py",
   "mimetype": "text/x-python",
   "name": "python",
   "nbconvert_exporter": "python",
   "pygments_lexer": "ipython3",
   "version": "3.7.3"
  }
 },
 "nbformat": 4,
 "nbformat_minor": 2
}
