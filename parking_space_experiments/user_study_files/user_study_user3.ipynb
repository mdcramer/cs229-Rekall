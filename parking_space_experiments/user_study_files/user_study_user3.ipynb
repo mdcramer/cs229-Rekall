{
 "cells": [
  {
   "cell_type": "code",
   "execution_count": 1,
   "metadata": {},
   "outputs": [],
   "source": [
    "%load_ext autoreload\n",
    "%autoreload 2\n",
    "from user_study_helpers import *"
   ]
  },
  {
   "cell_type": "markdown",
   "metadata": {},
   "source": [
    "# Load Dev Set and primitive data\n",
    "\n",
    "Expand a video by clicking on it; then use `;` to play the video."
   ]
  },
  {
   "cell_type": "code",
   "execution_count": 2,
   "metadata": {},
   "outputs": [
    {
     "name": "stderr",
     "output_type": "stream",
     "text": [
      "100%|██████████| 2/2 [00:00<00:00, 66.88it/s]\n",
      "100%|██████████| 2/2 [00:00<00:00, 473.40it/s]\n"
     ]
    },
    {
     "data": {
      "application/vnd.jupyter.widget-view+json": {
       "model_id": "0d0d3c88647c49229f03d6e181e79c0b",
       "version_major": 2,
       "version_minor": 0
      },
      "text/plain": [
       "VGridWidget(vgrid_spec={'compressed': True, 'data': b'x\\x9c\\xc4\\xbd\\xcb\\xae$Kr\\xae\\xf7*\\x07=\\x16\\x04\\xbf_4\\xd4…"
      ]
     },
     "metadata": {},
     "output_type": "display_data"
    }
   ],
   "source": [
    "bounding_boxes = get_bboxes('dev')\n",
    "parking_space_gt = get_gt( )\n",
    "visualize_boxes([bounding_boxes, parking_space_gt])"
   ]
  },
  {
   "cell_type": "markdown",
   "metadata": {},
   "source": [
    "# Task: detect all empty parking spaces\n",
    "\n",
    "Your goal is to write a Rekall program to detect all empty parking spaces (visualized in the second timeline above).\n",
    "\n",
    "You're given a Rekall `IntervalSetMapping` object, `bounding_boxes`, that contains detections from Mask R-CNN. The Intervals contain 3D bounds, and the payloads contain the class and the class score:"
   ]
  },
  {
   "cell_type": "code",
   "execution_count": 50,
   "metadata": {},
   "outputs": [
    {
     "data": {
      "text/plain": [
       "<Interval t1:0.0 t2:30.0 x1:0.0 x2:0.08424050211906434 y1:0.5207680172390408 y2:0.6528446621365017 payload:{'class': 'car', 'score': 0.9638893008232117}>"
      ]
     },
     "execution_count": 50,
     "metadata": {},
     "output_type": "execute_result"
    }
   ],
   "source": [
    "bounding_boxes[0].get_intervals()[0]"
   ]
  },
  {
   "cell_type": "markdown",
   "metadata": {},
   "source": [
    "The bounding boxes are sampled every thirty seconds (hence why the Interval above has time bounds of 0 to 30), and so are the ground truth annotations.\n",
    "\n",
    "Your goal is to fill in the following function:\n",
    "\n",
    "```Python\n",
    "def detect_empty_parking_spaces(bounding_boxes, reference_video):\n",
    "    \"\"\"\n",
    "    Function to detect empty parking spaces.\n",
    "    \n",
    "    bounding_boxes is a Rekall IntervalSetMapping object whose intervals are\n",
    "    bounding box outputs from Mask R-CNN.\n",
    "    \n",
    "    first_video_id is the video ID of the first video. We guarantee that at\n",
    "    time 0 in this video, all the car detections are parking spots.\n",
    "    \n",
    "    This function needs to return a Rekall IntervalSetMapping object whose\n",
    "    Intervals are empty parking spots in the video.\n",
    "    \n",
    "    The output Intervals need to have time extent (0, 30), (30, 60), etc.\n",
    "    Each Interval should have the spatial extent of a single empty parking\n",
    "    spot.\n",
    "    \"\"\"\n",
    "    \n",
    "    # Your code here\n",
    "```\n",
    "\n",
    "This function takes in bounding box outputs from Mask R-CNN, and detects empty parking spaces. We also pass in the video ID of the first video - we guarantee that at time zero of this video, all the car detections will be parked cars.\n",
    "\n",
    "This function will be evaluated against an unseen test set at the end of the user study. We'll be using the Average Precision metric.\n",
    "\n",
    "We provide some helper functions to evaluate your programs on the dev set below!\n",
    "\n",
    "This task is inspired by [this Medium blog post](https://medium.com/@ageitgey/snagging-parking-spaces-with-mask-r-cnn-and-python-955f2231c400):\n",
    "* They use an off-the-shelf object detector to detect cars (like what you have in `bounding_boxes`)\n",
    "* They take a timestamp where all the parking spots are full, and use car detections to get parking spots (like time 0 of `reference_video`)\n",
    "* Then empty parking spots are just parking spots where there are no cars"
   ]
  },
  {
   "cell_type": "code",
   "execution_count": 130,
   "metadata": {},
   "outputs": [],
   "source": [
    "def detect_empty_parking_spaces(bounding_boxes, reference_video):\n",
    "    \"\"\"\n",
    "    Function to detect empty parking spaces.\n",
    "    \n",
    "    bounding_boxes is a Rekall IntervalSetMapping object whose intervals are\n",
    "    bounding box outputs from Mask R-CNN.\n",
    "    \n",
    "    reference_video is the video ID of the first video. We guarantee that at\n",
    "    time 0 in this video, all the car detections are parking spots.\n",
    "    \n",
    "    This function needs to return a Rekall IntervalSetMapping object whose\n",
    "    Intervals are empty parking spots in the video.\n",
    "    \n",
    "    The output Intervals need to have time extent (0, 30), (30, 60), etc.\n",
    "    Each Interval should have the spatial extent of a single empty parking\n",
    "    spot.\n",
    "    \"\"\"\n",
    "    \n",
    "    # Your code here \n",
    "    #Ideas for approaching the problem:\n",
    "        #Payload filteirng\n",
    "        #Time filtering\n",
    "        \n",
    "    #First program: detects and filters for all cars\n",
    "    bounding_not_car = bounding_boxes.filter(lambda interval: interval['payload']['class'] == None)\n",
    "    return bounding_not_car\n"
   ]
  },
  {
   "cell_type": "markdown",
   "metadata": {},
   "source": [
    "## Helper functions\n",
    "\n",
    "`evaluate_on_dev` runs `detect_empty_parking_spaces` on `bounding_boxes`, and visualizes the results along with the ground truth in the dev set. Then it computes the AP score on the dev set.\n",
    "\n",
    "Of course, you can also run these functions yourself!\n",
    "\n",
    "`compute_ap` takes the predicted parking spaces and the ground truth set, and computes the AP score. As we saw before, `visualize_boxes` takes a list of `IntervalSetMapping` objects and visualizes them."
   ]
  },
  {
   "cell_type": "code",
   "execution_count": 131,
   "metadata": {},
   "outputs": [],
   "source": [
    "def evaluate_on_dev():\n",
    "    empty_parking_spaces = detect_empty_parking_spaces(bounding_boxes, 0)\n",
    "    print(empty_parking_spaces)\n",
    "    # Visualize the predictions the first row will be your predictions, second\n",
    "    # row will be the ground truth\n",
    "    widget = visualize_boxes([empty_parking_spaces, parking_space_gt])\n",
    "    display(widget)\n",
    "    \n",
    "    # Compute average precision on the dev set\n",
    "    ap = compute_ap(empty_parking_spaces, parking_space_gt)\n",
    "    \n",
    "    print('Average precision: ', ap)"
   ]
  },
  {
   "cell_type": "code",
   "execution_count": 132,
   "metadata": {},
   "outputs": [
    {
     "name": "stdout",
     "output_type": "stream",
     "text": [
      "{}\n"
     ]
    },
    {
     "data": {
      "application/vnd.jupyter.widget-view+json": {
       "model_id": "a8a4c95271d74fa39081cbbf0a25606d",
       "version_major": 2,
       "version_minor": 0
      },
      "text/plain": [
       "VGridWidget(vgrid_spec={'compressed': True, 'data': b'x\\x9c\\x9d\\x90\\xd1n\\xc20\\x0cE\\x7f\\x05\\xe5yj\\x92\\x16\\x06\\x…"
      ]
     },
     "metadata": {},
     "output_type": "display_data"
    },
    {
     "name": "stderr",
     "output_type": "stream",
     "text": [
      "100%|██████████| 2/2 [00:00<00:00, 5745.62it/s]\n",
      "0it [00:00, ?it/s]\n",
      "100%|██████████| 2/2 [00:00<00:00, 1006.67it/s]"
     ]
    },
    {
     "name": "stdout",
     "output_type": "stream",
     "text": [
      "Average precision:  0.000999000999000999\n"
     ]
    },
    {
     "name": "stderr",
     "output_type": "stream",
     "text": [
      "\n"
     ]
    }
   ],
   "source": [
    "evaluate_on_dev()"
   ]
  },
  {
   "cell_type": "code",
   "execution_count": 101,
   "metadata": {},
   "outputs": [
    {
     "name": "stderr",
     "output_type": "stream",
     "text": [
      "100%|██████████| 2/2 [00:00<00:00, 642.26it/s]\n",
      "100%|██████████| 2/2 [00:00<00:00, 70.42it/s]\n",
      "100%|██████████| 2/2 [00:16<00:00,  6.37s/it]\n",
      "100%|██████████| 2/2 [00:00<00:00,  2.72it/s]\n",
      "100%|██████████| 2/2 [00:00<00:00,  6.80it/s]\n",
      "100%|██████████| 2/2 [00:00<00:00, 146.45it/s]\n",
      "100%|██████████| 2/2 [00:01<00:00,  1.44it/s]"
     ]
    },
    {
     "name": "stdout",
     "output_type": "stream",
     "text": [
      "Average precision:  0.0009878169245966415\n"
     ]
    },
    {
     "name": "stderr",
     "output_type": "stream",
     "text": [
      "\n"
     ]
    }
   ],
   "source": [
    "evaluate_on_test(detect_empty_parking_spaces)"
   ]
  },
  {
   "cell_type": "code",
   "execution_count": null,
   "metadata": {},
   "outputs": [],
   "source": []
  }
 ],
 "metadata": {
  "kernelspec": {
   "display_name": "Python 3",
   "language": "python",
   "name": "python3"
  },
  "language_info": {
   "codemirror_mode": {
    "name": "ipython",
    "version": 3
   },
   "file_extension": ".py",
   "mimetype": "text/x-python",
   "name": "python",
   "nbconvert_exporter": "python",
   "pygments_lexer": "ipython3",
   "version": "3.7.3"
  }
 },
 "nbformat": 4,
 "nbformat_minor": 2
}
