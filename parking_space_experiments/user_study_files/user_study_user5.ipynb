{
 "cells": [
  {
   "cell_type": "code",
   "execution_count": 1,
   "metadata": {},
   "outputs": [],
   "source": [
    "%load_ext autoreload\n",
    "%autoreload 2\n",
    "from user_study_helpers import *"
   ]
  },
  {
   "cell_type": "markdown",
   "metadata": {},
   "source": [
    "# Load Dev Set and primitive data\n",
    "\n",
    "Expand a video by clicking on it; then use `;` to play the video."
   ]
  },
  {
   "cell_type": "code",
   "execution_count": 2,
   "metadata": {},
   "outputs": [
    {
     "name": "stderr",
     "output_type": "stream",
     "text": [
      "100%|██████████| 2/2 [00:00<00:00, 70.24it/s]\n",
      "100%|██████████| 2/2 [00:00<00:00, 497.81it/s]\n"
     ]
    },
    {
     "data": {
      "application/vnd.jupyter.widget-view+json": {
       "model_id": "b54f1d718ee249b0b24fbe32180e37fc",
       "version_major": 2,
       "version_minor": 0
      },
      "text/plain": [
       "VGridWidget(vgrid_spec={'compressed': True, 'data': b'x\\x9c\\xc4\\xbd\\xcb\\xae$Kr\\xae\\xf7*\\x07=\\x16\\x04\\xbf_4\\xd4…"
      ]
     },
     "metadata": {},
     "output_type": "display_data"
    }
   ],
   "source": [
    "bounding_boxes = get_bboxes('dev')\n",
    "parking_space_gt = get_gt( )\n",
    "visualize_boxes([bounding_boxes, parking_space_gt])"
   ]
  },
  {
   "cell_type": "markdown",
   "metadata": {},
   "source": [
    "# Task: detect all empty parking spaces\n",
    "\n",
    "Your goal is to write a Rekall program to detect all empty parking spaces (visualized in the second timeline above).\n",
    "\n",
    "You're given a Rekall `IntervalSetMapping` object, `bounding_boxes`, that contains detections from Mask R-CNN. The Intervals contain 3D bounds, and the payloads contain the class and the class score:"
   ]
  },
  {
   "cell_type": "code",
   "execution_count": 3,
   "metadata": {},
   "outputs": [
    {
     "data": {
      "text/plain": [
       "<Interval t1:0.0 t2:30.0 x1:0.0 x2:0.08424050211906434 y1:0.5207680172390408 y2:0.6528446621365017 payload:{'class': 'car', 'score': 0.9638893008232117}>"
      ]
     },
     "execution_count": 3,
     "metadata": {},
     "output_type": "execute_result"
    }
   ],
   "source": [
    "bounding_boxes[0].get_intervals()[0]"
   ]
  },
  {
   "cell_type": "markdown",
   "metadata": {},
   "source": [
    "The bounding boxes are sampled every thirty seconds (hence why the Interval above has time bounds of 0 to 30), and so are the ground truth annotations.\n",
    "\n",
    "Your goal is to fill in the following function:\n",
    "\n",
    "```Python\n",
    "def detect_empty_parking_spaces(bounding_boxes, reference_video):\n",
    "    \"\"\"\n",
    "    Function to detect empty parking spaces.\n",
    "    \n",
    "    bounding_boxes is a Rekall IntervalSetMapping object whose intervals are\n",
    "    bounding box outputs from Mask R-CNN.\n",
    "    \n",
    "    first_video_id is the video ID of the first video. We guarantee that at\n",
    "    time 0 in this video, all the car detections are parking spots.\n",
    "    \n",
    "    This function needs to return a Rekall IntervalSetMapping object whose\n",
    "    Intervals are empty parking spots in the video.\n",
    "    \n",
    "    The output Intervals need to have time extent (0, 30), (30, 60), etc.\n",
    "    Each Interval should have the spatial extent of a single empty parking\n",
    "    spot.\n",
    "    \"\"\"\n",
    "    \n",
    "    # Your code here\n",
    "```\n",
    "\n",
    "This function takes in bounding box outputs from Mask R-CNN, and detects empty parking spaces. We also pass in the video ID of the first video - we guarantee that at time zero of this video, all the car detections will be parked cars.\n",
    "\n",
    "This function will be evaluated against an unseen test set at the end of the user study. We'll be using the Average Precision metric.\n",
    "\n",
    "We provide some helper functions to evaluate your programs on the dev set below!\n",
    "\n",
    "This task is inspired by [this Medium blog post](https://medium.com/@ageitgey/snagging-parking-spaces-with-mask-r-cnn-and-python-955f2231c400):\n",
    "* They use an off-the-shelf object detector to detect cars (like what you have in `bounding_boxes`)\n",
    "* They take a timestamp where all the parking spots are full, and use car detections to get parking spots (like time 0 of `reference_video`)\n",
    "* Then empty parking spots are just parking spots where there are no cars"
   ]
  },
  {
   "cell_type": "code",
   "execution_count": 93,
   "metadata": {},
   "outputs": [],
   "source": [
    "def detect_empty_parking_spaces(bounding_boxes, reference_video):\n",
    "    \"\"\"\n",
    "    Function to detect empty parking spaces.\n",
    "    \n",
    "    bounding_boxes is a Rekall IntervalSetMapping object whose intervals are\n",
    "    bounding box outputs from Mask R-CNN.\n",
    "    \n",
    "    first_video_id is the video ID of the first video. We guarantee that at\n",
    "    time 0 in this video, all the car detections are parking spots.\n",
    "    \n",
    "    This function needs to return a Rekall IntervalSetMapping object whose\n",
    "    Intervals are empty parking spots in the video.\n",
    "    \n",
    "    The output Intervals need to have time extent (0, 30), (30, 60), etc.\n",
    "    Each Interval should have the spatial extent of a single empty parking\n",
    "    spot.\n",
    "    \"\"\"\n",
    "    \n",
    "    \n",
    "    # get video lengths\n",
    "    video_lengths = {\n",
    "        key: bounding_boxes[key].get_intervals()[-1]['t2']\n",
    "        for key in bounding_boxes\n",
    "    }\n",
    "    \n",
    "    # From time 0 of the reference video, get all bounding boxes for cars. \n",
    "    reference_start_parked_cars = bounding_boxes[reference_video].filter(\n",
    "        lambda interval: interval['payload']['class'] == 'car' and interval['t1']==0\n",
    "    ).get_intervals()\n",
    "    \n",
    "    # Copy these to extend throughout the entire video, with the same X/Y extents. These are all the parking spots. \n",
    "    parking_spots = IntervalSetMapping({\n",
    "        key: IntervalSet([\n",
    "            Interval(Bounds3D(\n",
    "                t1 = t,\n",
    "                t2 = t + 1,\n",
    "                x1 = interval['x1'],\n",
    "                x2 = interval['x2'],\n",
    "                y1 = interval['y1'],\n",
    "                y2 = interval['y2']\n",
    "            ))\n",
    "            for t in range(0, int(video_lengths[key]), 10)\n",
    "            for interval in reference_start_parked_cars\n",
    "        ])\n",
    "        for key in bounding_boxes\n",
    "    })\n",
    "    \n",
    "    # get bounding boxes for cars\n",
    "    parked_cars = bounding_boxes.filter(\n",
    "        lambda interval: interval['payload']['class'] == 'car')\n",
    "    \n",
    "\n",
    "    # Use the minus function to catch the set of parking bounding boxes which don't overlap with cars!\n",
    "    \n",
    "    empty_spots = parking_spots.minus(\n",
    "        parked_cars,\n",
    "        predicate = and_pred(\n",
    "            Bounds3D.T(overlaps()),\n",
    "            Bounds3D.X(overlaps()),\n",
    "            Bounds3D.Y(overlaps()),\n",
    "            iou_at_least(0.10)\n",
    "        ),\n",
    "        window = 0.0,\n",
    "        progress_bar = True\n",
    "    )\n",
    "    \n",
    "    empty_spots_coalesced = empty_spots.dilate(\n",
    "        15\n",
    "    ).map(\n",
    "        lambda interval: Interval(interval['bounds'], payload=[interval])\n",
    "    ).coalesce(\n",
    "        ('t1', 't2'),\n",
    "        bounds_merge_op = lambda bounds1, bounds2: bounds1.span(bounds2),\n",
    "        payload_merge_op = lambda p1, p2: p1 + p2,\n",
    "        predicate = iou_at_least(0.5)\n",
    "    ).dilate(-15)\n",
    "\n",
    "    \n",
    "    empty_spots_30_seconds = empty_spots_coalesced.filter_size(\n",
    "        min_size=30\n",
    "    ).split(\n",
    "        lambda interval: IntervalSet(interval['payload']).dilate(-15)\n",
    "    )\n",
    "\n",
    "    \n",
    "    return empty_spots_30_seconds\n",
    "        \n",
    "    # BAD example - return all the car detections (this is obviously incorrect...)\n",
    "    #return bounding_boxes.filter(lambda interval: interval['payload']['class'] == 'car')"
   ]
  },
  {
   "cell_type": "code",
   "execution_count": 94,
   "metadata": {},
   "outputs": [
    {
     "name": "stderr",
     "output_type": "stream",
     "text": [
      "\n",
      "  0%|          | 0/2 [00:00<?, ?it/s]\u001b[A\n",
      " 50%|█████     | 1/2 [00:10<00:10, 10.27s/it]\u001b[A\n",
      "100%|██████████| 2/2 [00:46<00:00, 18.06s/it]\u001b[A"
     ]
    },
    {
     "data": {
      "application/vnd.jupyter.widget-view+json": {
       "model_id": "7ce125bed5f44e05b3e749c0e41d5ae5",
       "version_major": 2,
       "version_minor": 0
      },
      "text/plain": [
       "VGridWidget(vgrid_spec={'compressed': True, 'data': b'x\\x9c\\xdd\\x9dMo\\x1c\\xc7\\x15E\\xff\\x8a\\xc1u u\\xd7g\\xb7\\x97…"
      ]
     },
     "metadata": {},
     "output_type": "display_data"
    }
   ],
   "source": [
    "visualize_boxes([detect_empty_parking_spaces(bounding_boxes, 0)])"
   ]
  },
  {
   "cell_type": "markdown",
   "metadata": {},
   "source": [
    "## Helper functions\n",
    "\n",
    "`evaluate_on_dev` runs `detect_empty_parking_spaces` on `bounding_boxes`, and visualizes the results along with the ground truth in the dev set. Then it computes the AP score on the dev set.\n",
    "\n",
    "Of course, you can also run these functions yourself!\n",
    "\n",
    "`compute_ap` takes the predicted parking spaces and the ground truth set, and computes the AP score. As we saw before, `visualize_boxes` takes a list of `IntervalSetMapping` objects and visualizes them."
   ]
  },
  {
   "cell_type": "code",
   "execution_count": 68,
   "metadata": {},
   "outputs": [],
   "source": [
    "def evaluate_on_dev():\n",
    "    empty_parking_spaces = detect_empty_parking_spaces(bounding_boxes, 0)\n",
    "    \n",
    "    # Visualize the predictions the first row will be your predictions, second\n",
    "    # row will be the ground truth\n",
    "    widget = visualize_boxes([empty_parking_spaces, parking_space_gt])\n",
    "    display(widget)\n",
    "    \n",
    "    # Compute average precision on the dev set\n",
    "    ap = compute_ap(empty_parking_spaces, parking_space_gt)\n",
    "    \n",
    "    print('Average precision: ', ap)"
   ]
  },
  {
   "cell_type": "code",
   "execution_count": 95,
   "metadata": {},
   "outputs": [
    {
     "name": "stderr",
     "output_type": "stream",
     "text": [
      "\n",
      "  0%|          | 0/2 [00:00<?, ?it/s]\u001b[A\n",
      " 50%|█████     | 1/2 [00:10<00:10, 10.02s/it]\u001b[A\n",
      "100%|██████████| 2/2 [00:45<00:00, 17.72s/it]\u001b[A"
     ]
    },
    {
     "data": {
      "application/vnd.jupyter.widget-view+json": {
       "model_id": "cb1ecb6aed8849d1ad7c02e4d029e3da",
       "version_major": 2,
       "version_minor": 0
      },
      "text/plain": [
       "VGridWidget(vgrid_spec={'compressed': True, 'data': b'x\\x9c\\xdd\\x9dMo\\x1cG\\x96E\\xff\\x8a\\xc1\\xf5\\xc0\\xca\\x8c\\x8…"
      ]
     },
     "metadata": {},
     "output_type": "display_data"
    },
    {
     "name": "stderr",
     "output_type": "stream",
     "text": [
      "\n",
      "  0%|          | 0/2 [00:00<?, ?it/s]\u001b[A\n",
      "100%|██████████| 2/2 [00:00<00:00, 12.41it/s]\u001b[A\n",
      "  0%|          | 0/2 [00:00<?, ?it/s]\u001b[A\n",
      "100%|██████████| 2/2 [00:01<00:00,  1.11it/s]\u001b[A\n",
      "  0%|          | 0/2 [00:00<?, ?it/s]\u001b[A\n",
      "100%|██████████| 2/2 [00:01<00:00,  1.15it/s]\u001b[A"
     ]
    },
    {
     "name": "stdout",
     "output_type": "stream",
     "text": [
      "Average precision:  0.2650618046983637\n"
     ]
    }
   ],
   "source": [
    "evaluate_on_dev()"
   ]
  },
  {
   "cell_type": "code",
   "execution_count": 96,
   "metadata": {},
   "outputs": [
    {
     "name": "stderr",
     "output_type": "stream",
     "text": [
      "\n",
      "  0%|          | 0/2 [00:00<?, ?it/s]\u001b[A\n",
      "100%|██████████| 2/2 [00:00<00:00, 716.36it/s]\u001b[A\n",
      "  0%|          | 0/2 [00:00<?, ?it/s]\u001b[A\n",
      "100%|██████████| 2/2 [00:00<00:00, 67.70it/s]\u001b[A\n",
      "  0%|          | 0/2 [00:00<?, ?it/s]\u001b[A\n",
      " 50%|█████     | 1/2 [00:09<00:09,  9.69s/it]\u001b[A\n",
      "100%|██████████| 2/2 [00:47<00:00, 18.06s/it]\u001b[A\n",
      "  0%|          | 0/2 [00:00<?, ?it/s]\u001b[A\n",
      "100%|██████████| 2/2 [00:00<00:00, 31.18it/s]\u001b[A\n",
      "  0%|          | 0/2 [00:00<?, ?it/s]\u001b[A\n",
      "100%|██████████| 2/2 [00:00<00:00,  2.32it/s]\u001b[A\n",
      "  0%|          | 0/2 [00:00<?, ?it/s]\u001b[A\n",
      "100%|██████████| 2/2 [00:00<00:00,  2.77it/s]\u001b[A"
     ]
    },
    {
     "name": "stdout",
     "output_type": "stream",
     "text": [
      "Average precision:  0.2512820512820513\n"
     ]
    }
   ],
   "source": [
    "evaluate_on_test(detect_empty_parking_spaces)"
   ]
  },
  {
   "cell_type": "markdown",
   "metadata": {},
   "source": [
    "# Post-hoc analysis"
   ]
  },
  {
   "cell_type": "code",
   "execution_count": 110,
   "metadata": {},
   "outputs": [],
   "source": [
    "def detect_empty_parking_spaces_modified(bounding_boxes, reference_video):\n",
    "    \"\"\"\n",
    "    Function to detect empty parking spaces.\n",
    "    \n",
    "    bounding_boxes is a Rekall IntervalSetMapping object whose intervals are\n",
    "    bounding box outputs from Mask R-CNN.\n",
    "    \n",
    "    first_video_id is the video ID of the first video. We guarantee that at\n",
    "    time 0 in this video, all the car detections are parking spots.\n",
    "    \n",
    "    This function needs to return a Rekall IntervalSetMapping object whose\n",
    "    Intervals are empty parking spots in the video.\n",
    "    \n",
    "    The output Intervals need to have time extent (0, 30), (30, 60), etc.\n",
    "    Each Interval should have the spatial extent of a single empty parking\n",
    "    spot.\n",
    "    \"\"\"\n",
    "    \n",
    "    \n",
    "    # get video lengths\n",
    "    video_lengths = {\n",
    "        key: bounding_boxes[key].get_intervals()[-1]['t2']\n",
    "        for key in bounding_boxes\n",
    "    }\n",
    "    \n",
    "    # From time 0 of the reference video, get all bounding boxes for cars. \n",
    "    reference_start_parked_cars = bounding_boxes[reference_video].filter(\n",
    "        lambda interval: interval['payload']['class'] == 'car' and interval['t1']==0\n",
    "    ).get_intervals()\n",
    "    \n",
    "    # Copy these to extend throughout the entire video, with the same X/Y extents. These are all the parking spots. \n",
    "    parking_spots = IntervalSetMapping({\n",
    "        key: IntervalSet([\n",
    "            Interval(Bounds3D(\n",
    "                t1 = t,\n",
    "                t2 = t + 30,\n",
    "                x1 = interval['x1'],\n",
    "                x2 = interval['x2'],\n",
    "                y1 = interval['y1'],\n",
    "                y2 = interval['y2']\n",
    "            ))\n",
    "            for t in range(0, int(video_lengths[key]), 30)\n",
    "            for interval in reference_start_parked_cars\n",
    "        ])\n",
    "        for key in bounding_boxes\n",
    "    })\n",
    "    \n",
    "    # get bounding boxes for cars\n",
    "    parked_cars = bounding_boxes.filter(\n",
    "        lambda interval: True)\n",
    "    \n",
    "\n",
    "    # Use the minus function to catch the set of parking bounding boxes which don't overlap with cars!\n",
    "    \n",
    "    empty_spots = parking_spots.minus(\n",
    "        parked_cars,\n",
    "        predicate = and_pred(\n",
    "            Bounds3D.T(overlaps()),\n",
    "            Bounds3D.X(overlaps()),\n",
    "            Bounds3D.Y(overlaps()),\n",
    "            iou_at_least(0.10)\n",
    "        ),\n",
    "        window = 0.0,\n",
    "        progress_bar = True\n",
    "    )\n",
    "    \n",
    "    empty_spots_coalesced = empty_spots.dilate(\n",
    "        15\n",
    "    ).map(\n",
    "        lambda interval: Interval(interval['bounds'], payload=[interval])\n",
    "    ).coalesce(\n",
    "        ('t1', 't2'),\n",
    "        bounds_merge_op = lambda bounds1, bounds2: bounds1.span(bounds2),\n",
    "        payload_merge_op = lambda p1, p2: p1 + p2,\n",
    "        predicate = iou_at_least(0.5)\n",
    "    ).dilate(-15)\n",
    "\n",
    "    \n",
    "    empty_spots_30_seconds = empty_spots_coalesced.filter_size(\n",
    "        min_size=30\n",
    "    ).split(\n",
    "        lambda interval: IntervalSet(interval['payload']).dilate(-15)\n",
    "    )\n",
    "\n",
    "    \n",
    "    return empty_spots_30_seconds\n",
    "        \n",
    "    # BAD example - return all the car detections (this is obviously incorrect...)\n",
    "    #return bounding_boxes.filter(lambda interval: interval['payload']['class'] == 'car')"
   ]
  },
  {
   "cell_type": "code",
   "execution_count": 111,
   "metadata": {},
   "outputs": [],
   "source": [
    "def evaluate_on_dev_modified():\n",
    "    empty_parking_spaces = detect_empty_parking_spaces_modified(bounding_boxes, 0)\n",
    "    \n",
    "    # Visualize the predictions the first row will be your predictions, second\n",
    "    # row will be the ground truth\n",
    "    widget = visualize_boxes([empty_parking_spaces, parking_space_gt])\n",
    "    display(widget)\n",
    "    \n",
    "    # Compute average precision on the dev set\n",
    "    ap = compute_ap(empty_parking_spaces, parking_space_gt)\n",
    "    \n",
    "    print('Average precision: ', ap)"
   ]
  },
  {
   "cell_type": "code",
   "execution_count": 112,
   "metadata": {},
   "outputs": [
    {
     "name": "stderr",
     "output_type": "stream",
     "text": [
      "\n",
      "  0%|          | 0/2 [00:00<?, ?it/s]\u001b[A\n",
      " 50%|█████     | 1/2 [00:03<00:03,  3.88s/it]\u001b[A\n",
      "100%|██████████| 2/2 [00:18<00:00,  7.24s/it]\u001b[A"
     ]
    },
    {
     "data": {
      "application/vnd.jupyter.widget-view+json": {
       "model_id": "7505c7534b2e40cea1a6d0431e005291",
       "version_major": 2,
       "version_minor": 0
      },
      "text/plain": [
       "VGridWidget(vgrid_spec={'compressed': True, 'data': b'x\\x9c\\xdd\\x9cOo\\x1b\\xc9\\x11\\xc5\\xbf\\x8a\\xa1s`\\xcd\\xf4\\xf…"
      ]
     },
     "metadata": {},
     "output_type": "display_data"
    },
    {
     "name": "stderr",
     "output_type": "stream",
     "text": [
      "\n",
      "  0%|          | 0/2 [00:00<?, ?it/s]\u001b[A\n",
      "100%|██████████| 2/2 [00:00<00:00, 36.97it/s]\u001b[A\n",
      "  0%|          | 0/2 [00:00<?, ?it/s]\u001b[A\n",
      "100%|██████████| 2/2 [00:00<00:00,  3.79it/s]\u001b[A\n",
      "  0%|          | 0/2 [00:00<?, ?it/s]\u001b[A\n",
      "100%|██████████| 2/2 [00:00<00:00,  3.72it/s]\u001b[A"
     ]
    },
    {
     "name": "stdout",
     "output_type": "stream",
     "text": [
      "Average precision:  0.9120812507408258\n"
     ]
    }
   ],
   "source": [
    "evaluate_on_dev_modified()"
   ]
  },
  {
   "cell_type": "code",
   "execution_count": 113,
   "metadata": {},
   "outputs": [
    {
     "name": "stderr",
     "output_type": "stream",
     "text": [
      "\n",
      "  0%|          | 0/2 [00:00<?, ?it/s]\u001b[A\n",
      "100%|██████████| 2/2 [00:00<00:00, 675.47it/s]\u001b[A\n",
      "  0%|          | 0/2 [00:00<?, ?it/s]\u001b[A\n",
      "100%|██████████| 2/2 [00:00<00:00, 63.32it/s]\u001b[A\n",
      "  0%|          | 0/2 [00:00<?, ?it/s]\u001b[A\n",
      " 50%|█████     | 1/2 [00:03<00:03,  4.00s/it]\u001b[A\n",
      "100%|██████████| 2/2 [00:18<00:00,  7.16s/it]\u001b[A\n",
      "  0%|          | 0/2 [00:00<?, ?it/s]\u001b[A\n",
      "100%|██████████| 2/2 [00:00<00:00, 81.83it/s]\u001b[A\n",
      "  0%|          | 0/2 [00:00<?, ?it/s]\u001b[A\n",
      "100%|██████████| 2/2 [00:00<00:00,  9.04it/s]\u001b[A\n",
      "  0%|          | 0/2 [00:00<?, ?it/s]\u001b[A\n",
      "100%|██████████| 2/2 [00:00<00:00,  9.51it/s]\u001b[A"
     ]
    },
    {
     "name": "stdout",
     "output_type": "stream",
     "text": [
      "Average precision:  0.9545454545454546\n"
     ]
    }
   ],
   "source": [
    "evaluate_on_test(detect_empty_parking_spaces_modified)"
   ]
  },
  {
   "cell_type": "code",
   "execution_count": null,
   "metadata": {},
   "outputs": [],
   "source": []
  }
 ],
 "metadata": {
  "kernelspec": {
   "display_name": "Python 3",
   "language": "python",
   "name": "python3"
  },
  "language_info": {
   "codemirror_mode": {
    "name": "ipython",
    "version": 3
   },
   "file_extension": ".py",
   "mimetype": "text/x-python",
   "name": "python",
   "nbconvert_exporter": "python",
   "pygments_lexer": "ipython3",
   "version": "3.7.3"
  }
 },
 "nbformat": 4,
 "nbformat_minor": 2
}
