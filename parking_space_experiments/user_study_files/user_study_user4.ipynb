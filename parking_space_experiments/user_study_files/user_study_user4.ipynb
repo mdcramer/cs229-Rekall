{
 "cells": [
  {
   "cell_type": "code",
   "execution_count": 1,
   "metadata": {},
   "outputs": [],
   "source": [
    "%load_ext autoreload\n",
    "%autoreload 2\n",
    "from user_study_helpers import *"
   ]
  },
  {
   "cell_type": "markdown",
   "metadata": {},
   "source": [
    "# Load Dev Set and primitive data\n",
    "\n",
    "Expand a video by clicking on it; then use `;` to play the video."
   ]
  },
  {
   "cell_type": "code",
   "execution_count": 2,
   "metadata": {},
   "outputs": [
    {
     "name": "stderr",
     "output_type": "stream",
     "text": [
      "100%|██████████| 2/2 [00:00<00:00, 68.94it/s]\n",
      "100%|██████████| 2/2 [00:00<00:00, 422.17it/s]\n"
     ]
    },
    {
     "data": {
      "application/vnd.jupyter.widget-view+json": {
       "model_id": "deceb6e019f5486abb34c3a172fbe804",
       "version_major": 2,
       "version_minor": 0
      },
      "text/plain": [
       "VGridWidget(vgrid_spec={'compressed': True, 'data': b'x\\x9c\\xc4\\xbd\\xcb\\xae$Kr\\xae\\xf7*\\x07=\\x16\\x04\\xbf_4\\xd4…"
      ]
     },
     "metadata": {},
     "output_type": "display_data"
    }
   ],
   "source": [
    "bounding_boxes = get_bboxes('dev')\n",
    "parking_space_gt = get_gt( )\n",
    "visualize_boxes([bounding_boxes, parking_space_gt])\n",
    "# red - all mask cnn detections\n",
    "# green - ground truth empty parking spaces"
   ]
  },
  {
   "cell_type": "markdown",
   "metadata": {},
   "source": [
    "# Task: detect all empty parking spaces\n",
    "\n",
    "Your goal is to write a Rekall program to detect all empty parking spaces (visualized in the second timeline above).\n",
    "\n",
    "You're given a Rekall `IntervalSetMapping` object, `bounding_boxes`, that contains detections from Mask R-CNN. The Intervals contain 3D bounds, and the payloads contain the class and the class score:"
   ]
  },
  {
   "cell_type": "code",
   "execution_count": 52,
   "metadata": {},
   "outputs": [
    {
     "data": {
      "text/plain": [
       "[<Interval t1:0.0 t2:30.0 x1:0.0 x2:0.08424050211906434 y1:0.5207680172390408 y2:0.6528446621365017 payload:{'class': 'car', 'score': 0.9638893008232117}>,\n",
       " <Interval t1:0.0 t2:30.0 x1:0.0770739495754242 x2:0.16108734607696534 y1:0.5190534379747179 y2:0.6503598531087239 payload:{'class': 'car', 'score': 0.9346588253974915}>,\n",
       " <Interval t1:0.0 t2:30.0 x1:0.16353940963745117 x2:0.2407153844833374 y1:0.5117196400960287 y2:0.636061520046658 payload:{'class': 'car', 'score': 0.9411571621894836}>,\n",
       " <Interval t1:0.0 t2:30.0 x1:0.25799615383148194 x2:0.31947376728057864 y1:0.5125064849853516 y2:0.6232725355360244 payload:{'class': 'car', 'score': 0.8447434306144714}>,\n",
       " <Interval t1:0.0 t2:30.0 x1:0.340884804725647 x2:0.40604052543640134 y1:0.4878042432996962 y2:0.6180920071072049 payload:{'class': 'car', 'score': 0.8292120695114136}>,\n",
       " <Interval t1:0.0 t2:30.0 x1:0.41316685676574705 x2:0.4804346561431885 y1:0.4915266672770182 y2:0.6030947791205512 payload:{'class': 'car', 'score': 0.991550087928772}>,\n",
       " <Interval t1:0.0 t2:30.0 x1:0.4957833766937256 x2:0.5689880847930908 y1:0.494759284125434 y2:0.622841559516059 payload:{'class': 'car', 'score': 0.9720978140830994}>,\n",
       " <Interval t1:0.0 t2:30.0 x1:0.5707062244415283 x2:0.6506856441497803 y1:0.49639108445909286 y2:0.6022100236680773 payload:{'class': 'car', 'score': 0.9482526183128357}>,\n",
       " <Interval t1:0.0 t2:30.0 x1:0.645266056060791 x2:0.7266099452972412 y1:0.4873125712076823 y2:0.6035687340630426 payload:{'class': 'car', 'score': 0.9803809523582458}>,\n",
       " <Interval t1:0.0 t2:30.0 x1:0.7296651363372803 x2:0.7987828731536866 y1:0.48880365159776473 y2:0.6024122873942057 payload:{'class': 'car', 'score': 0.9727166295051575}>,\n",
       " <Interval t1:0.0 t2:30.0 x1:0.7978075981140137 x2:0.884161376953125 y1:0.4918815612792969 y2:0.6072823842366536 payload:{'class': 'car', 'score': 0.9952474236488342}>,\n",
       " <Interval t1:0.0 t2:30.0 x1:0.8760683059692382 x2:0.9695773124694824 y1:0.49616767035590276 y2:0.6147258758544922 payload:{'class': 'car', 'score': 0.9948095083236694}>,\n",
       " <Interval t1:0.0 t2:30.0 x1:0.9587327003479004 x2:0.9992096900939942 y1:0.4645816802978516 y2:0.6215471903483073 payload:{'class': 'car', 'score': 0.984789252281189}>]"
      ]
     },
     "execution_count": 52,
     "metadata": {},
     "output_type": "execute_result"
    }
   ],
   "source": [
    "#bounding_boxes[0].get_intervals()[0]\n",
    "starting_cars = bounding_boxes[0].filter(\n",
    "        lambda interval: interval['payload']['class'] == 'car' and interval['t1'] == 0\n",
    "    ).get_intervals()\n",
    "starting_cars"
   ]
  },
  {
   "cell_type": "markdown",
   "metadata": {},
   "source": [
    "The bounding boxes are sampled every thirty seconds (hence why the Interval above has time bounds of 0 to 30), and so are the ground truth annotations.\n",
    "\n",
    "Your goal is to fill in the following function:\n",
    "\n",
    "```Python\n",
    "def detect_empty_parking_spaces(bounding_boxes, reference_video):\n",
    "    \"\"\"\n",
    "    Function to detect empty parking spaces.\n",
    "    \n",
    "    bounding_boxes is a Rekall IntervalSetMapping object whose intervals are\n",
    "    bounding box outputs from Mask R-CNN.\n",
    "    \n",
    "    first_video_id is the video ID of the first video. We guarantee that at\n",
    "    time 0 in this video, all the car detections are parking spots.\n",
    "    \n",
    "    This function needs to return a Rekall IntervalSetMapping object whose\n",
    "    Intervals are empty parking spots in the video.\n",
    "    \n",
    "    The output Intervals need to have time extent (0, 30), (30, 60), etc.\n",
    "    Each Interval should have the spatial extent of a single empty parking\n",
    "    spot.\n",
    "    \"\"\"\n",
    "    \n",
    "    # Your code here\n",
    "```\n",
    "\n",
    "This function takes in bounding box outputs from Mask R-CNN, and detects empty parking spaces. We also pass in the video ID of the first video - we guarantee that at time zero of this video, all the car detections will be parked cars.\n",
    "\n",
    "This function will be evaluated against an unseen test set at the end of the user study. We'll be using the Average Precision metric.\n",
    "\n",
    "We provide some helper functions to evaluate your programs on the dev set below!\n",
    "\n",
    "This task is inspired by [this Medium blog post](https://medium.com/@ageitgey/snagging-parking-spaces-with-mask-r-cnn-and-python-955f2231c400):\n",
    "* They use an off-the-shelf object detector to detect cars (like what you have in `bounding_boxes`)\n",
    "* They take a timestamp where all the parking spots are full, and use car detections to get parking spots (like time 0 of `reference_video`)\n",
    "* Then empty parking spots are just parking spots where there are no cars"
   ]
  },
  {
   "cell_type": "code",
   "execution_count": 106,
   "metadata": {},
   "outputs": [],
   "source": [
    "def detect_empty_parking_spaces(bounding_boxes, reference_video):\n",
    "    \"\"\"\n",
    "    Function to detect empty parking spaces.\n",
    "    \n",
    "    bounding_boxes is a Rekall IntervalSetMapping object whose intervals are\n",
    "    bounding box outputs from Mask R-CNN.\n",
    "    \n",
    "    reference_video is the video ID of the first video. We guarantee that at\n",
    "    time 0 in this video, all the car detections are parking spots.\n",
    "    \n",
    "    This function needs to return a Rekall IntervalSetMapping object whose\n",
    "    Intervals are empty parking spots in the video.\n",
    "    \n",
    "    The output Intervals need to have time extent (0, 30), (30, 60), etc.\n",
    "    Each Interval should have the spatial extent of a single empty parking\n",
    "    spot.\n",
    "    \"\"\"\n",
    "    \n",
    "    # Your code here\n",
    "    \n",
    "    cars = bounding_boxes.filter(\n",
    "        lambda interval: interval['payload']['class'] == 'car'\n",
    "    )\n",
    "    # BAD example - return all the car detections (this is obviously incorrect...)\n",
    "    starting_cars = bounding_boxes[reference_video].filter(\n",
    "        lambda interval: interval['payload']['class'] == 'car' and interval['t1'] == 0\n",
    "    ).get_intervals()\n",
    "    \n",
    "    video_lengths = {\n",
    "        key: bounding_boxes[key].get_intervals()[-1]['t2']\n",
    "        for key in bounding_boxes\n",
    "    }\n",
    "    \n",
    "    t_incr = 30\n",
    "    \n",
    "    starting_cars_duplicated = IntervalSetMapping({\n",
    "        key: IntervalSet([\n",
    "            Interval(Bounds3D(\n",
    "                t1 = t,\n",
    "                t2 = t + t_incr,\n",
    "                x1 = interval['x1'],\n",
    "                x2 = interval['x2'],\n",
    "                y1 = interval['y1'],\n",
    "                y2 = interval['y2']\n",
    "            ))\n",
    "            \n",
    "            for t in range(0, int(video_lengths[key]), t_incr)\n",
    "            for interval in starting_cars\n",
    "        ])\n",
    "        \n",
    "        for key in bounding_boxes\n",
    "    })\n",
    "    \n",
    "    cars_dilated = cars.dilate(\n",
    "        50\n",
    "    ).map(lambda interval: Interval(interval['bounds'], payload=[interval])\n",
    "    ).coalesce(\n",
    "        ('t1','t2'),\n",
    "        bounds_merge_op = lambda bounds1, bounds2: bounds1.span(bounds2),\n",
    "        payload_merge_op = lambda p1, p2: p1 + p2,\n",
    "        predicate = iou_at_least(0.5)\n",
    "    ).dilate(-50)\n",
    "    \n",
    "    not_there = starting_cars_duplicated.minus(\n",
    "            cars_dilated,\n",
    "            predicate = and_pred(\n",
    "                Bounds3D.T(overlaps()),\n",
    "                Bounds3D.X(overlaps()),\n",
    "                Bounds3D.Y(overlaps()),\n",
    "                iou_at_least(0.3)\n",
    "            ),\n",
    "            window = 0.0,\n",
    "            progress_bar = True\n",
    "        )\n",
    "    \n",
    "    not_there_min_size = not_there.filter(lambda interval: interval['x2'] - interval['x1'] > 0.05)\n",
    "    \n",
    "    not_there_dilated = not_there_min_size.dilate(\n",
    "        50\n",
    "    ).map(lambda interval: Interval(interval['bounds'], payload=[interval])\n",
    "    ).coalesce(\n",
    "        ('t1','t2'),\n",
    "        bounds_merge_op = lambda bounds1, bounds2: bounds1.span(bounds2),\n",
    "        payload_merge_op = lambda p1, p2: p1 + p2,\n",
    "        predicate = iou_at_least(0.5)\n",
    "    ).dilate(-50)\n",
    "        \n",
    "    return not_there_min_size"
   ]
  },
  {
   "cell_type": "markdown",
   "metadata": {},
   "source": [
    "## Helper functions\n",
    "\n",
    "`evaluate_on_dev` runs `detect_empty_parking_spaces` on `bounding_boxes`, and visualizes the results along with the ground truth in the dev set. Then it computes the AP score on the dev set.\n",
    "\n",
    "Of course, you can also run these functions yourself!\n",
    "\n",
    "`compute_ap` takes the predicted parking spaces and the ground truth set, and computes the AP score. As we saw before, `visualize_boxes` takes a list of `IntervalSetMapping` objects and visualizes them."
   ]
  },
  {
   "cell_type": "code",
   "execution_count": 34,
   "metadata": {},
   "outputs": [],
   "source": [
    "def evaluate_on_dev():\n",
    "    empty_parking_spaces = detect_empty_parking_spaces(bounding_boxes, 0)\n",
    "    \n",
    "    # Visualize the predictions the first row will be your predictions, second\n",
    "    # row will be the ground truth\n",
    "    widget = visualize_boxes([empty_parking_spaces, parking_space_gt])\n",
    "    display(widget)\n",
    "    \n",
    "    # Compute average precision on the dev set\n",
    "    ap = compute_ap(empty_parking_spaces, parking_space_gt)\n",
    "    \n",
    "    print('Average precision: ', ap)"
   ]
  },
  {
   "cell_type": "code",
   "execution_count": 107,
   "metadata": {
    "scrolled": true
   },
   "outputs": [
    {
     "name": "stderr",
     "output_type": "stream",
     "text": [
      "100%|██████████| 2/2 [00:00<00:00,  2.44it/s]\n"
     ]
    },
    {
     "data": {
      "application/vnd.jupyter.widget-view+json": {
       "model_id": "dc36700a78274e67af1f16be913a0694",
       "version_major": 2,
       "version_minor": 0
      },
      "text/plain": [
       "VGridWidget(vgrid_spec={'compressed': True, 'data': b'x\\x9c\\xdd\\x9dKo\\xdbX\\x12\\x85\\xffJC\\xebAL\\xde\\xf7\\xcdr\\x9…"
      ]
     },
     "metadata": {},
     "output_type": "display_data"
    },
    {
     "name": "stderr",
     "output_type": "stream",
     "text": [
      "100%|██████████| 2/2 [00:00<00:00, 38.38it/s]\n",
      "100%|██████████| 1/1 [00:00<00:00,  1.68it/s]\n",
      "100%|██████████| 2/2 [00:00<00:00,  3.79it/s]"
     ]
    },
    {
     "name": "stdout",
     "output_type": "stream",
     "text": [
      "Average precision:  0.9\n"
     ]
    },
    {
     "name": "stderr",
     "output_type": "stream",
     "text": [
      "\n"
     ]
    }
   ],
   "source": [
    "evaluate_on_dev()"
   ]
  },
  {
   "cell_type": "code",
   "execution_count": 108,
   "metadata": {},
   "outputs": [
    {
     "name": "stderr",
     "output_type": "stream",
     "text": [
      "100%|██████████| 2/2 [00:00<00:00, 718.51it/s]\n",
      "100%|██████████| 2/2 [00:00<00:00, 71.94it/s]\n",
      "100%|██████████| 2/2 [00:01<00:00,  2.17it/s]\n",
      "100%|██████████| 2/2 [00:00<00:00, 81.16it/s]\n",
      "100%|██████████| 2/2 [00:00<00:00,  7.04it/s]\n",
      "100%|██████████| 2/2 [00:00<00:00,  8.39it/s]"
     ]
    },
    {
     "name": "stdout",
     "output_type": "stream",
     "text": [
      "Average precision:  0.7819148936170213\n"
     ]
    },
    {
     "name": "stderr",
     "output_type": "stream",
     "text": [
      "\n"
     ]
    }
   ],
   "source": [
    "evaluate_on_test(detect_empty_parking_spaces)"
   ]
  },
  {
   "cell_type": "markdown",
   "metadata": {},
   "source": [
    "# Post-hoc analysis"
   ]
  },
  {
   "cell_type": "code",
   "execution_count": 116,
   "metadata": {},
   "outputs": [],
   "source": [
    "def detect_empty_parking_spaces_modified(bounding_boxes, reference_video):\n",
    "    \"\"\"\n",
    "    Function to detect empty parking spaces.\n",
    "    \n",
    "    bounding_boxes is a Rekall IntervalSetMapping object whose intervals are\n",
    "    bounding box outputs from Mask R-CNN.\n",
    "    \n",
    "    reference_video is the video ID of the first video. We guarantee that at\n",
    "    time 0 in this video, all the car detections are parking spots.\n",
    "    \n",
    "    This function needs to return a Rekall IntervalSetMapping object whose\n",
    "    Intervals are empty parking spots in the video.\n",
    "    \n",
    "    The output Intervals need to have time extent (0, 30), (30, 60), etc.\n",
    "    Each Interval should have the spatial extent of a single empty parking\n",
    "    spot.\n",
    "    \"\"\"\n",
    "    \n",
    "    # Your code here\n",
    "    \n",
    "    cars = bounding_boxes.filter(\n",
    "        lambda interval: True\n",
    "    )\n",
    "    # BAD example - return all the car detections (this is obviously incorrect...)\n",
    "    starting_cars = bounding_boxes[reference_video].filter(\n",
    "        lambda interval: interval['payload']['class'] == 'car' and interval['t1'] == 0\n",
    "    ).get_intervals()\n",
    "    \n",
    "    video_lengths = {\n",
    "        key: bounding_boxes[key].get_intervals()[-1]['t2']\n",
    "        for key in bounding_boxes\n",
    "    }\n",
    "    \n",
    "    t_incr = 30\n",
    "    \n",
    "    starting_cars_duplicated = IntervalSetMapping({\n",
    "        key: IntervalSet([\n",
    "            Interval(Bounds3D(\n",
    "                t1 = t,\n",
    "                t2 = t + t_incr,\n",
    "                x1 = interval['x1'],\n",
    "                x2 = interval['x2'],\n",
    "                y1 = interval['y1'],\n",
    "                y2 = interval['y2']\n",
    "            ))\n",
    "            \n",
    "            for t in range(0, int(video_lengths[key]), t_incr)\n",
    "            for interval in starting_cars\n",
    "        ])\n",
    "        \n",
    "        for key in bounding_boxes\n",
    "    })\n",
    "    \n",
    "    cars_dilated = cars.dilate(\n",
    "        50\n",
    "    ).map(lambda interval: Interval(interval['bounds'], payload=[interval])\n",
    "    ).coalesce(\n",
    "        ('t1','t2'),\n",
    "        bounds_merge_op = lambda bounds1, bounds2: bounds1.span(bounds2),\n",
    "        payload_merge_op = lambda p1, p2: p1 + p2,\n",
    "        predicate = iou_at_least(0.5)\n",
    "    ).dilate(-50)\n",
    "    \n",
    "    not_there = starting_cars_duplicated.minus(\n",
    "            cars_dilated,\n",
    "            predicate = and_pred(\n",
    "                Bounds3D.T(overlaps()),\n",
    "                Bounds3D.X(overlaps()),\n",
    "                Bounds3D.Y(overlaps()),\n",
    "                iou_at_least(0.3)\n",
    "            ),\n",
    "            window = 0.0,\n",
    "            progress_bar = True\n",
    "        )\n",
    "    \n",
    "    not_there_min_size = not_there.filter(lambda interval: interval['x2'] - interval['x1'] > 0.05)\n",
    "    \n",
    "    not_there_dilated = not_there_min_size.dilate(\n",
    "        50\n",
    "    ).map(lambda interval: Interval(interval['bounds'], payload=[interval])\n",
    "    ).coalesce(\n",
    "        ('t1','t2'),\n",
    "        bounds_merge_op = lambda bounds1, bounds2: bounds1.span(bounds2),\n",
    "        payload_merge_op = lambda p1, p2: p1 + p2,\n",
    "        predicate = iou_at_least(0.5)\n",
    "    ).dilate(-50)\n",
    "        \n",
    "    return not_there_min_size"
   ]
  },
  {
   "cell_type": "code",
   "execution_count": 117,
   "metadata": {},
   "outputs": [],
   "source": [
    "def evaluate_on_dev_modified():\n",
    "    empty_parking_spaces = detect_empty_parking_spaces_modified(bounding_boxes, 0)\n",
    "    \n",
    "    # Visualize the predictions the first row will be your predictions, second\n",
    "    # row will be the ground truth\n",
    "    widget = visualize_boxes([empty_parking_spaces, parking_space_gt])\n",
    "    display(widget)\n",
    "    \n",
    "    # Compute average precision on the dev set\n",
    "    ap = compute_ap(empty_parking_spaces, parking_space_gt)\n",
    "    \n",
    "    print('Average precision: ', ap)"
   ]
  },
  {
   "cell_type": "code",
   "execution_count": 118,
   "metadata": {},
   "outputs": [
    {
     "name": "stderr",
     "output_type": "stream",
     "text": [
      "100%|██████████| 2/2 [00:01<00:00,  1.99it/s]\n"
     ]
    },
    {
     "data": {
      "application/vnd.jupyter.widget-view+json": {
       "model_id": "bfb2e0f9b7974f238bfc2a59197e5168",
       "version_major": 2,
       "version_minor": 0
      },
      "text/plain": [
       "VGridWidget(vgrid_spec={'compressed': True, 'data': b'x\\x9c\\xdd\\x9c\\xcdn\\xdbX\\x16\\x84_%\\xd0z\\x10\\x93\\xf7\\xfff9…"
      ]
     },
     "metadata": {},
     "output_type": "display_data"
    },
    {
     "name": "stderr",
     "output_type": "stream",
     "text": [
      "100%|██████████| 2/2 [00:00<00:00, 40.34it/s]\n",
      "100%|██████████| 1/1 [00:00<00:00,  1.97it/s]\n",
      "100%|██████████| 2/2 [00:00<00:00,  3.21it/s]"
     ]
    },
    {
     "name": "stdout",
     "output_type": "stream",
     "text": [
      "Average precision:  0.995575221238938\n"
     ]
    },
    {
     "name": "stderr",
     "output_type": "stream",
     "text": [
      "\n"
     ]
    }
   ],
   "source": [
    "evaluate_on_dev_modified()"
   ]
  },
  {
   "cell_type": "code",
   "execution_count": 119,
   "metadata": {},
   "outputs": [
    {
     "name": "stderr",
     "output_type": "stream",
     "text": [
      "100%|██████████| 2/2 [00:00<00:00, 699.05it/s]\n",
      "100%|██████████| 2/2 [00:00<00:00, 68.94it/s]\n",
      "100%|██████████| 2/2 [00:01<00:00,  1.49it/s]\n",
      "100%|██████████| 2/2 [00:00<00:00, 85.02it/s]\n",
      "100%|██████████| 2/2 [00:00<00:00,  8.93it/s]\n",
      "100%|██████████| 2/2 [00:00<00:00,  9.14it/s]"
     ]
    },
    {
     "name": "stdout",
     "output_type": "stream",
     "text": [
      "Average precision:  0.9865771812080537\n"
     ]
    },
    {
     "name": "stderr",
     "output_type": "stream",
     "text": [
      "\n"
     ]
    }
   ],
   "source": [
    "evaluate_on_test(detect_empty_parking_spaces_modified)"
   ]
  },
  {
   "cell_type": "code",
   "execution_count": null,
   "metadata": {},
   "outputs": [],
   "source": []
  }
 ],
 "metadata": {
  "kernelspec": {
   "display_name": "Python 3",
   "language": "python",
   "name": "python3"
  },
  "language_info": {
   "codemirror_mode": {
    "name": "ipython",
    "version": 3
   },
   "file_extension": ".py",
   "mimetype": "text/x-python",
   "name": "python",
   "nbconvert_exporter": "python",
   "pygments_lexer": "ipython3",
   "version": "3.7.3"
  }
 },
 "nbformat": 4,
 "nbformat_minor": 2
}
