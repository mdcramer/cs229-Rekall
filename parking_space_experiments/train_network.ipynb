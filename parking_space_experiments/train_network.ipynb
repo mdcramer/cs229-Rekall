{
 "cells": [
  {
   "cell_type": "code",
   "execution_count": 1,
   "metadata": {},
   "outputs": [],
   "source": [
    "import os"
   ]
  },
  {
   "cell_type": "code",
   "execution_count": 2,
   "metadata": {},
   "outputs": [],
   "source": [
    "DATA_PATH = '/lfs/1/danfu/rekall_experiments/parking_space_experiments/user_study'"
   ]
  },
  {
   "cell_type": "code",
   "execution_count": 3,
   "metadata": {},
   "outputs": [],
   "source": [
    "with open(os.path.join(DATA_PATH, 'dev.txt'), 'r') as f:\n",
    "    dev_videos = list(l.strip() for l in f.readlines())\n",
    "with open(os.path.join(DATA_PATH, 'test.txt'), 'r') as f:\n",
    "    test_videos = list(l.strip() for l in f.readlines())"
   ]
  },
  {
   "cell_type": "code",
   "execution_count": 4,
   "metadata": {},
   "outputs": [
    {
     "name": "stdout",
     "output_type": "stream",
     "text": [
      "['video1', 'video3']\n",
      "['video2', 'video4']\n"
     ]
    }
   ],
   "source": [
    "print(dev_videos)\n",
    "print(test_videos)"
   ]
  },
  {
   "cell_type": "markdown",
   "metadata": {},
   "source": [
    "# Define data loaders"
   ]
  },
  {
   "cell_type": "code",
   "execution_count": 5,
   "metadata": {},
   "outputs": [],
   "source": [
    "import numpy as np\n",
    "import torch\n",
    "import torch.utils.data\n",
    "from PIL import Image\n",
    "import pickle\n",
    "\n",
    "class ParkingSpaceDataset(torch.utils.data.Dataset):\n",
    "    def __init__(self, root, video_list, transforms=None, \n",
    "                 include_cars=False, non_empty_images_only=True):\n",
    "        self.root = root\n",
    "        self.include_cars = include_cars\n",
    "        self.non_empty_images_only = non_empty_images_only\n",
    "        \n",
    "        image_folder = os.path.join(root, 'images_ffmpeg')\n",
    "        gt_folder = os.path.join(root, 'empty_spaces')\n",
    "        object_folder = os.path.join(root, 'bboxes')\n",
    "        \n",
    "        self.transforms = transforms\n",
    "        \n",
    "        image_list = []\n",
    "        bbox_list = []\n",
    "        other_object_list = []\n",
    "        for video in video_list:\n",
    "            images = os.path.join(image_folder, video)\n",
    "            gt_bbox_folder = os.path.join(gt_folder, video)\n",
    "            other_object_folder = os.path.join(object_folder, video)\n",
    "            \n",
    "            image_paths = list(sorted(os.listdir(images)))\n",
    "            with open(os.path.join(gt_bbox_folder, 'gt.pkl'), 'rb') as f:\n",
    "                bboxes = pickle.load(f)\n",
    "            with open(os.path.join(other_object_folder, 'bboxes.pkl'), 'rb') as f:\n",
    "                other_objects = pickle.load(f)\n",
    "                \n",
    "            for img, bbox, other_obj in zip(image_paths, bboxes, other_objects):\n",
    "                if non_empty_images_only:\n",
    "                    if include_cars and len(bbox) + len(other_obj) == 0:\n",
    "                        continue\n",
    "                    if not include_cars and len(bbox) == 0:\n",
    "                        continue\n",
    "                image_list.append(os.path.join(images, img))\n",
    "                bbox_list.append(bbox)\n",
    "                other_object_list.append(other_obj)\n",
    "        \n",
    "        self.imgs = image_list\n",
    "        self.bboxes = bbox_list\n",
    "        self.other_objects = other_object_list\n",
    "        \n",
    "    def __getitem__(self, idx):\n",
    "        # load images\n",
    "        img_path = self.imgs[idx]\n",
    "        bboxes = self.bboxes[idx]\n",
    "        other_objects = self.other_objects[idx]\n",
    "        img = Image.open(img_path).convert('RGB')\n",
    "        \n",
    "        if self.include_cars:\n",
    "            boxes_raw = bboxes + [\n",
    "                o for o in other_objects if o[4] == 'car'\n",
    "            ]\n",
    "        else:\n",
    "            boxes_raw = bboxes\n",
    "        \n",
    "        boxes = torch.as_tensor([\n",
    "            box[:4]\n",
    "            for box in boxes_raw\n",
    "        ], dtype=torch.float32)\n",
    "        \n",
    "        if self.include_cars:\n",
    "            labels = torch.cat((\n",
    "                torch.ones((len(bboxes),), dtype=torch.int64),\n",
    "                torch.ones((len(boxes_raw) - len(bboxes),), dtype=torch.int64) * 2\n",
    "            ))\n",
    "        else:\n",
    "            labels = torch.ones((len(bboxes),), dtype=torch.int64)\n",
    "\n",
    "        image_id = torch.tensor([idx])\n",
    "        if len(boxes_raw) == 0:\n",
    "            area = torch.tensor([])\n",
    "        else:\n",
    "            area = (boxes[:, 3] - boxes[:, 1]) * (boxes[:, 2] - boxes[:, 0])\n",
    "        iscrowd = torch.zeros((len(boxes_raw),), dtype=torch.int64)\n",
    "        \n",
    "        target = {}\n",
    "        target['boxes'] = boxes\n",
    "        target['labels'] = labels\n",
    "        target['image_id'] = image_id\n",
    "        target['area'] = area\n",
    "        target['iscrowd'] = iscrowd\n",
    "        \n",
    "        if self.transforms is not None:\n",
    "            img, target = self.transforms(img, target)\n",
    "            \n",
    "        return img, target\n",
    "    \n",
    "    def __len__(self):\n",
    "        return len(self.imgs)"
   ]
  },
  {
   "cell_type": "code",
   "execution_count": 6,
   "metadata": {},
   "outputs": [],
   "source": [
    "dataset = ParkingSpaceDataset(DATA_PATH, dev_videos)"
   ]
  },
  {
   "cell_type": "code",
   "execution_count": 7,
   "metadata": {},
   "outputs": [],
   "source": [
    "import torchvision\n",
    "from torchvision.models.detection.faster_rcnn import FastRCNNPredictor\n",
    "\n",
    "def get_bbox_model(num_classes):\n",
    "    # load a model pre-trained pre-trained on COCO\n",
    "    model = torchvision.models.detection.fasterrcnn_resnet50_fpn(pretrained=True)\n",
    "\n",
    "    # replace the classifier with a new one, that has\n",
    "    # get number of input features for the classifier\n",
    "    in_features = model.roi_heads.box_predictor.cls_score.in_features\n",
    "    # replace the pre-trained head with a new one\n",
    "    model.roi_heads.box_predictor = FastRCNNPredictor(in_features, num_classes) \n",
    "    \n",
    "    return model"
   ]
  },
  {
   "cell_type": "code",
   "execution_count": 8,
   "metadata": {},
   "outputs": [],
   "source": [
    "from engine import train_one_epoch, evaluate\n",
    "import utils\n",
    "import transforms as T\n",
    "\n",
    "\n",
    "def get_transform(train):\n",
    "    transforms = []\n",
    "    # converts the image, a PIL image, into a PyTorch Tensor\n",
    "    transforms.append(T.ToTensor())\n",
    "    if train:\n",
    "        # during training, randomly flip the training images\n",
    "        # and ground-truth for data augmentation\n",
    "        transforms.append(T.RandomHorizontalFlip(0.5))\n",
    "    return T.Compose(transforms)"
   ]
  },
  {
   "cell_type": "code",
   "execution_count": 9,
   "metadata": {},
   "outputs": [],
   "source": [
    "dataset = ParkingSpaceDataset(DATA_PATH, dev_videos, get_transform(train=True))\n",
    "dataset_test = ParkingSpaceDataset(DATA_PATH, test_videos, get_transform(train=False))"
   ]
  },
  {
   "cell_type": "code",
   "execution_count": 10,
   "metadata": {},
   "outputs": [],
   "source": [
    "# define training and validation data loaders\n",
    "data_loader = torch.utils.data.DataLoader(\n",
    "    dataset, batch_size=4, shuffle=True, num_workers=4,\n",
    "    collate_fn=utils.collate_fn, pin_memory=True)\n",
    "\n",
    "data_loader_test = torch.utils.data.DataLoader(\n",
    "    dataset_test, batch_size=4, shuffle=False, num_workers=4,\n",
    "    collate_fn=utils.collate_fn, pin_memory=True)"
   ]
  },
  {
   "cell_type": "code",
   "execution_count": 11,
   "metadata": {},
   "outputs": [],
   "source": [
    "device = torch.device('cuda') if torch.cuda.is_available() else torch.device('cpu')"
   ]
  },
  {
   "cell_type": "code",
   "execution_count": 12,
   "metadata": {},
   "outputs": [],
   "source": [
    "# our dataset has three classes only - background, parking space, and person\n",
    "num_classes = 2\n",
    "\n",
    "# get the model using our helper function\n",
    "model = get_bbox_model(num_classes)\n",
    "# move model to the right device\n",
    "model.to(device)\n",
    "\n",
    "# construct an optimizer\n",
    "params = [p for p in model.parameters() if p.requires_grad]\n",
    "optimizer = torch.optim.SGD(params, lr=0.005,\n",
    "                            momentum=0.9, weight_decay=0.0005)\n",
    "\n",
    "# and a learning rate scheduler which decreases the learning rate by\n",
    "# 10x every 3 epochs\n",
    "lr_scheduler = torch.optim.lr_scheduler.StepLR(optimizer,\n",
    "                                               step_size=3,\n",
    "                                               gamma=0.1)"
   ]
  },
  {
   "cell_type": "code",
   "execution_count": 13,
   "metadata": {},
   "outputs": [
    {
     "name": "stdout",
     "output_type": "stream",
     "text": [
      "Epoch: [0]  [  0/701]  eta: 0:34:17  lr: 0.000012  loss: 0.8076 (0.8076)  loss_classifier: 0.6621 (0.6621)  loss_box_reg: 0.0230 (0.0230)  loss_objectness: 0.1090 (0.1090)  loss_rpn_box_reg: 0.0135 (0.0135)  time: 2.9348  data: 0.8720  max mem: 6604\n",
      "Epoch: [0]  [ 10/701]  eta: 0:09:56  lr: 0.000083  loss: 0.8071 (0.7991)  loss_classifier: 0.6310 (0.6038)  loss_box_reg: 0.0227 (0.0248)  loss_objectness: 0.1193 (0.1505)  loss_rpn_box_reg: 0.0191 (0.0200)  time: 0.8635  data: 0.0795  max mem: 7706\n",
      "Epoch: [0]  [ 20/701]  eta: 0:08:40  lr: 0.000155  loss: 0.6305 (0.6293)  loss_classifier: 0.4135 (0.4397)  loss_box_reg: 0.0344 (0.0349)  loss_objectness: 0.1282 (0.1342)  loss_rpn_box_reg: 0.0196 (0.0205)  time: 0.6562  data: 0.0002  max mem: 7708\n",
      "Epoch: [0]  [ 30/701]  eta: 0:08:08  lr: 0.000226  loss: 0.3829 (0.5562)  loss_classifier: 0.2095 (0.3688)  loss_box_reg: 0.0631 (0.0601)  loss_objectness: 0.0685 (0.1087)  loss_rpn_box_reg: 0.0145 (0.0186)  time: 0.6528  data: 0.0002  max mem: 7710\n",
      "Epoch: [0]  [ 40/701]  eta: 0:07:49  lr: 0.000298  loss: 0.4507 (0.5588)  loss_classifier: 0.2605 (0.3562)  loss_box_reg: 0.1561 (0.0937)  loss_objectness: 0.0389 (0.0913)  loss_rpn_box_reg: 0.0090 (0.0176)  time: 0.6529  data: 0.0002  max mem: 7713\n",
      "Epoch: [0]  [ 50/701]  eta: 0:07:34  lr: 0.000369  loss: 0.5598 (0.5575)  loss_classifier: 0.2786 (0.3381)  loss_box_reg: 0.2397 (0.1244)  loss_objectness: 0.0322 (0.0788)  loss_rpn_box_reg: 0.0080 (0.0162)  time: 0.6533  data: 0.0003  max mem: 7713\n",
      "Epoch: [0]  [ 60/701]  eta: 0:07:23  lr: 0.000440  loss: 0.5604 (0.5600)  loss_classifier: 0.2629 (0.3228)  loss_box_reg: 0.2724 (0.1529)  loss_objectness: 0.0223 (0.0691)  loss_rpn_box_reg: 0.0096 (0.0152)  time: 0.6525  data: 0.0003  max mem: 7713\n",
      "Epoch: [0]  [ 70/701]  eta: 0:07:12  lr: 0.000512  loss: 0.5511 (0.5547)  loss_classifier: 0.2350 (0.3078)  loss_box_reg: 0.2959 (0.1718)  loss_objectness: 0.0130 (0.0607)  loss_rpn_box_reg: 0.0087 (0.0143)  time: 0.6550  data: 0.0003  max mem: 7713\n",
      "Epoch: [0]  [ 80/701]  eta: 0:07:03  lr: 0.000583  loss: 0.5390 (0.5532)  loss_classifier: 0.2177 (0.2948)  loss_box_reg: 0.3096 (0.1904)  loss_objectness: 0.0092 (0.0542)  loss_rpn_box_reg: 0.0087 (0.0138)  time: 0.6559  data: 0.0002  max mem: 7713\n",
      "Epoch: [0]  [ 90/701]  eta: 0:06:54  lr: 0.000654  loss: 0.4951 (0.5408)  loss_classifier: 0.1747 (0.2788)  loss_box_reg: 0.3041 (0.2000)  loss_objectness: 0.0055 (0.0490)  loss_rpn_box_reg: 0.0083 (0.0129)  time: 0.6542  data: 0.0002  max mem: 7713\n",
      "Epoch: [0]  [100/701]  eta: 0:06:46  lr: 0.000726  loss: 0.3922 (0.5222)  loss_classifier: 0.1346 (0.2630)  loss_box_reg: 0.2523 (0.2024)  loss_objectness: 0.0037 (0.0445)  loss_rpn_box_reg: 0.0048 (0.0123)  time: 0.6520  data: 0.0003  max mem: 7713\n",
      "Epoch: [0]  [110/701]  eta: 0:06:38  lr: 0.000797  loss: 0.3087 (0.5004)  loss_classifier: 0.1051 (0.2484)  loss_box_reg: 0.1947 (0.1996)  loss_objectness: 0.0026 (0.0407)  loss_rpn_box_reg: 0.0048 (0.0117)  time: 0.6565  data: 0.0003  max mem: 7713\n",
      "Epoch: [0]  [120/701]  eta: 0:06:31  lr: 0.000868  loss: 0.2118 (0.4733)  loss_classifier: 0.0793 (0.2338)  loss_box_reg: 0.1203 (0.1906)  loss_objectness: 0.0013 (0.0377)  loss_rpn_box_reg: 0.0054 (0.0112)  time: 0.6562  data: 0.0003  max mem: 7713\n",
      "Epoch: [0]  [130/701]  eta: 0:06:23  lr: 0.000940  loss: 0.1297 (0.4448)  loss_classifier: 0.0568 (0.2198)  loss_box_reg: 0.0595 (0.1795)  loss_objectness: 0.0008 (0.0349)  loss_rpn_box_reg: 0.0042 (0.0107)  time: 0.6546  data: 0.0003  max mem: 7713\n",
      "Epoch: [0]  [140/701]  eta: 0:06:16  lr: 0.001011  loss: 0.0920 (0.4198)  loss_classifier: 0.0484 (0.2077)  loss_box_reg: 0.0406 (0.1695)  loss_objectness: 0.0004 (0.0325)  loss_rpn_box_reg: 0.0032 (0.0102)  time: 0.6563  data: 0.0003  max mem: 7713\n",
      "Epoch: [0]  [150/701]  eta: 0:06:08  lr: 0.001082  loss: 0.0828 (0.3971)  loss_classifier: 0.0479 (0.1968)  loss_box_reg: 0.0327 (0.1602)  loss_objectness: 0.0004 (0.0303)  loss_rpn_box_reg: 0.0035 (0.0098)  time: 0.6543  data: 0.0003  max mem: 7713\n",
      "Epoch: [0]  [160/701]  eta: 0:06:01  lr: 0.001154  loss: 0.0735 (0.3770)  loss_classifier: 0.0432 (0.1872)  loss_box_reg: 0.0257 (0.1519)  loss_objectness: 0.0003 (0.0285)  loss_rpn_box_reg: 0.0039 (0.0094)  time: 0.6557  data: 0.0002  max mem: 7713\n",
      "Epoch: [0]  [170/701]  eta: 0:05:54  lr: 0.001225  loss: 0.0597 (0.3582)  loss_classifier: 0.0347 (0.1782)  loss_box_reg: 0.0209 (0.1442)  loss_objectness: 0.0002 (0.0268)  loss_rpn_box_reg: 0.0033 (0.0090)  time: 0.6577  data: 0.0003  max mem: 7713\n",
      "Epoch: [0]  [180/701]  eta: 0:05:47  lr: 0.001297  loss: 0.0519 (0.3413)  loss_classifier: 0.0291 (0.1701)  loss_box_reg: 0.0182 (0.1372)  loss_objectness: 0.0002 (0.0253)  loss_rpn_box_reg: 0.0030 (0.0087)  time: 0.6591  data: 0.0003  max mem: 7713\n",
      "Epoch: [0]  [190/701]  eta: 0:05:40  lr: 0.001368  loss: 0.0430 (0.3257)  loss_classifier: 0.0283 (0.1626)  loss_box_reg: 0.0137 (0.1307)  loss_objectness: 0.0000 (0.0240)  loss_rpn_box_reg: 0.0018 (0.0083)  time: 0.6571  data: 0.0003  max mem: 7713\n",
      "Epoch: [0]  [200/701]  eta: 0:05:34  lr: 0.001439  loss: 0.0414 (0.3114)  loss_classifier: 0.0266 (0.1557)  loss_box_reg: 0.0124 (0.1248)  loss_objectness: 0.0000 (0.0228)  loss_rpn_box_reg: 0.0016 (0.0080)  time: 0.6593  data: 0.0003  max mem: 7713\n",
      "Epoch: [0]  [210/701]  eta: 0:05:27  lr: 0.001511  loss: 0.0431 (0.2988)  loss_classifier: 0.0271 (0.1497)  loss_box_reg: 0.0107 (0.1195)  loss_objectness: 0.0000 (0.0218)  loss_rpn_box_reg: 0.0019 (0.0077)  time: 0.6670  data: 0.0003  max mem: 7713\n",
      "Epoch: [0]  [220/701]  eta: 0:05:20  lr: 0.001582  loss: 0.0362 (0.2869)  loss_classifier: 0.0248 (0.1440)  loss_box_reg: 0.0103 (0.1146)  loss_objectness: 0.0000 (0.0208)  loss_rpn_box_reg: 0.0014 (0.0075)  time: 0.6640  data: 0.0002  max mem: 7713\n",
      "Epoch: [0]  [230/701]  eta: 0:05:13  lr: 0.001653  loss: 0.0357 (0.2762)  loss_classifier: 0.0241 (0.1389)  loss_box_reg: 0.0102 (0.1101)  loss_objectness: 0.0000 (0.0199)  loss_rpn_box_reg: 0.0014 (0.0072)  time: 0.6553  data: 0.0003  max mem: 7713\n",
      "Epoch: [0]  [240/701]  eta: 0:05:06  lr: 0.001725  loss: 0.0359 (0.2660)  loss_classifier: 0.0237 (0.1340)  loss_box_reg: 0.0106 (0.1059)  loss_objectness: 0.0001 (0.0191)  loss_rpn_box_reg: 0.0015 (0.0070)  time: 0.6549  data: 0.0003  max mem: 7713\n",
      "Epoch: [0]  [250/701]  eta: 0:05:00  lr: 0.001796  loss: 0.0288 (0.2570)  loss_classifier: 0.0192 (0.1297)  loss_box_reg: 0.0083 (0.1021)  loss_objectness: 0.0000 (0.0183)  loss_rpn_box_reg: 0.0014 (0.0068)  time: 0.6581  data: 0.0003  max mem: 7713\n",
      "Epoch: [0]  [260/701]  eta: 0:04:53  lr: 0.001867  loss: 0.0326 (0.2486)  loss_classifier: 0.0232 (0.1257)  loss_box_reg: 0.0078 (0.0987)  loss_objectness: 0.0000 (0.0176)  loss_rpn_box_reg: 0.0014 (0.0066)  time: 0.6591  data: 0.0002  max mem: 7713\n",
      "Epoch: [0]  [270/701]  eta: 0:04:46  lr: 0.001939  loss: 0.0326 (0.2406)  loss_classifier: 0.0209 (0.1218)  loss_box_reg: 0.0078 (0.0953)  loss_objectness: 0.0000 (0.0170)  loss_rpn_box_reg: 0.0015 (0.0065)  time: 0.6602  data: 0.0003  max mem: 7713\n",
      "Epoch: [0]  [280/701]  eta: 0:04:39  lr: 0.002010  loss: 0.0267 (0.2331)  loss_classifier: 0.0183 (0.1182)  loss_box_reg: 0.0077 (0.0922)  loss_objectness: 0.0001 (0.0164)  loss_rpn_box_reg: 0.0012 (0.0063)  time: 0.6636  data: 0.0003  max mem: 7713\n",
      "Epoch: [0]  [290/701]  eta: 0:04:33  lr: 0.002081  loss: 0.0308 (0.2265)  loss_classifier: 0.0214 (0.1151)  loss_box_reg: 0.0086 (0.0894)  loss_objectness: 0.0001 (0.0158)  loss_rpn_box_reg: 0.0016 (0.0062)  time: 0.6592  data: 0.0003  max mem: 7713\n",
      "Epoch: [0]  [300/701]  eta: 0:04:26  lr: 0.002153  loss: 0.0340 (0.2200)  loss_classifier: 0.0226 (0.1119)  loss_box_reg: 0.0080 (0.0867)  loss_objectness: 0.0000 (0.0153)  loss_rpn_box_reg: 0.0019 (0.0060)  time: 0.6533  data: 0.0003  max mem: 7713\n",
      "Epoch: [0]  [310/701]  eta: 0:04:19  lr: 0.002224  loss: 0.0278 (0.2138)  loss_classifier: 0.0189 (0.1089)  loss_box_reg: 0.0066 (0.0842)  loss_objectness: 0.0000 (0.0148)  loss_rpn_box_reg: 0.0013 (0.0059)  time: 0.6573  data: 0.0002  max mem: 7713\n",
      "Epoch: [0]  [320/701]  eta: 0:04:12  lr: 0.002296  loss: 0.0280 (0.2079)  loss_classifier: 0.0190 (0.1060)  loss_box_reg: 0.0064 (0.0818)  loss_objectness: 0.0000 (0.0144)  loss_rpn_box_reg: 0.0012 (0.0058)  time: 0.6591  data: 0.0003  max mem: 7713\n"
     ]
    },
    {
     "name": "stdout",
     "output_type": "stream",
     "text": [
      "Epoch: [0]  [330/701]  eta: 0:04:06  lr: 0.002367  loss: 0.0232 (0.2024)  loss_classifier: 0.0160 (0.1033)  loss_box_reg: 0.0064 (0.0795)  loss_objectness: 0.0000 (0.0139)  loss_rpn_box_reg: 0.0012 (0.0056)  time: 0.6589  data: 0.0003  max mem: 7713\n",
      "Epoch: [0]  [340/701]  eta: 0:03:59  lr: 0.002438  loss: 0.0262 (0.1973)  loss_classifier: 0.0177 (0.1009)  loss_box_reg: 0.0071 (0.0774)  loss_objectness: 0.0000 (0.0135)  loss_rpn_box_reg: 0.0013 (0.0055)  time: 0.6608  data: 0.0004  max mem: 7713\n",
      "Epoch: [0]  [350/701]  eta: 0:03:52  lr: 0.002510  loss: 0.0274 (0.1924)  loss_classifier: 0.0178 (0.0985)  loss_box_reg: 0.0074 (0.0754)  loss_objectness: 0.0000 (0.0131)  loss_rpn_box_reg: 0.0015 (0.0054)  time: 0.6584  data: 0.0003  max mem: 7713\n",
      "Epoch: [0]  [360/701]  eta: 0:03:46  lr: 0.002581  loss: 0.0230 (0.1877)  loss_classifier: 0.0159 (0.0962)  loss_box_reg: 0.0060 (0.0735)  loss_objectness: 0.0000 (0.0128)  loss_rpn_box_reg: 0.0012 (0.0053)  time: 0.6563  data: 0.0003  max mem: 7713\n",
      "Epoch: [0]  [370/701]  eta: 0:03:39  lr: 0.002652  loss: 0.0238 (0.1834)  loss_classifier: 0.0168 (0.0941)  loss_box_reg: 0.0057 (0.0717)  loss_objectness: 0.0000 (0.0124)  loss_rpn_box_reg: 0.0012 (0.0052)  time: 0.6578  data: 0.0004  max mem: 7713\n",
      "Epoch: [0]  [380/701]  eta: 0:03:32  lr: 0.002724  loss: 0.0238 (0.1792)  loss_classifier: 0.0165 (0.0920)  loss_box_reg: 0.0054 (0.0699)  loss_objectness: 0.0000 (0.0121)  loss_rpn_box_reg: 0.0012 (0.0051)  time: 0.6543  data: 0.0003  max mem: 7713\n",
      "Epoch: [0]  [390/701]  eta: 0:03:26  lr: 0.002795  loss: 0.0193 (0.1751)  loss_classifier: 0.0135 (0.0900)  loss_box_reg: 0.0044 (0.0682)  loss_objectness: 0.0000 (0.0118)  loss_rpn_box_reg: 0.0012 (0.0050)  time: 0.6528  data: 0.0002  max mem: 7713\n",
      "Epoch: [0]  [400/701]  eta: 0:03:19  lr: 0.002866  loss: 0.0184 (0.1713)  loss_classifier: 0.0135 (0.0881)  loss_box_reg: 0.0042 (0.0667)  loss_objectness: 0.0000 (0.0115)  loss_rpn_box_reg: 0.0011 (0.0049)  time: 0.6587  data: 0.0003  max mem: 7713\n",
      "Epoch: [0]  [410/701]  eta: 0:03:12  lr: 0.002938  loss: 0.0208 (0.1676)  loss_classifier: 0.0150 (0.0864)  loss_box_reg: 0.0046 (0.0652)  loss_objectness: 0.0000 (0.0112)  loss_rpn_box_reg: 0.0013 (0.0049)  time: 0.6602  data: 0.0003  max mem: 7713\n",
      "Epoch: [0]  [420/701]  eta: 0:03:06  lr: 0.003009  loss: 0.0229 (0.1642)  loss_classifier: 0.0150 (0.0847)  loss_box_reg: 0.0052 (0.0638)  loss_objectness: 0.0000 (0.0110)  loss_rpn_box_reg: 0.0014 (0.0048)  time: 0.6587  data: 0.0002  max mem: 7713\n",
      "Epoch: [0]  [430/701]  eta: 0:02:59  lr: 0.003080  loss: 0.0223 (0.1608)  loss_classifier: 0.0148 (0.0830)  loss_box_reg: 0.0051 (0.0624)  loss_objectness: 0.0000 (0.0107)  loss_rpn_box_reg: 0.0013 (0.0047)  time: 0.6602  data: 0.0003  max mem: 7713\n",
      "Epoch: [0]  [440/701]  eta: 0:02:52  lr: 0.003152  loss: 0.0197 (0.1577)  loss_classifier: 0.0134 (0.0815)  loss_box_reg: 0.0047 (0.0611)  loss_objectness: 0.0000 (0.0105)  loss_rpn_box_reg: 0.0012 (0.0046)  time: 0.6600  data: 0.0003  max mem: 7713\n",
      "Epoch: [0]  [450/701]  eta: 0:02:46  lr: 0.003223  loss: 0.0237 (0.1548)  loss_classifier: 0.0154 (0.0801)  loss_box_reg: 0.0058 (0.0599)  loss_objectness: 0.0000 (0.0102)  loss_rpn_box_reg: 0.0022 (0.0046)  time: 0.6589  data: 0.0003  max mem: 7713\n",
      "Epoch: [0]  [460/701]  eta: 0:02:39  lr: 0.003295  loss: 0.0221 (0.1519)  loss_classifier: 0.0150 (0.0787)  loss_box_reg: 0.0050 (0.0587)  loss_objectness: 0.0000 (0.0100)  loss_rpn_box_reg: 0.0014 (0.0045)  time: 0.6577  data: 0.0003  max mem: 7713\n",
      "Epoch: [0]  [470/701]  eta: 0:02:32  lr: 0.003366  loss: 0.0221 (0.1493)  loss_classifier: 0.0171 (0.0774)  loss_box_reg: 0.0049 (0.0576)  loss_objectness: 0.0000 (0.0098)  loss_rpn_box_reg: 0.0014 (0.0045)  time: 0.6572  data: 0.0003  max mem: 7713\n",
      "Epoch: [0]  [480/701]  eta: 0:02:26  lr: 0.003437  loss: 0.0301 (0.1471)  loss_classifier: 0.0197 (0.0765)  loss_box_reg: 0.0084 (0.0566)  loss_objectness: 0.0000 (0.0096)  loss_rpn_box_reg: 0.0019 (0.0044)  time: 0.6638  data: 0.0003  max mem: 7713\n",
      "Epoch: [0]  [490/701]  eta: 0:02:19  lr: 0.003509  loss: 0.0286 (0.1446)  loss_classifier: 0.0174 (0.0753)  loss_box_reg: 0.0071 (0.0556)  loss_objectness: 0.0000 (0.0094)  loss_rpn_box_reg: 0.0011 (0.0044)  time: 0.6624  data: 0.0003  max mem: 7713\n",
      "Epoch: [0]  [500/701]  eta: 0:02:13  lr: 0.003580  loss: 0.0288 (0.1424)  loss_classifier: 0.0192 (0.0742)  loss_box_reg: 0.0064 (0.0546)  loss_objectness: 0.0000 (0.0092)  loss_rpn_box_reg: 0.0016 (0.0044)  time: 0.6566  data: 0.0003  max mem: 7713\n",
      "Epoch: [0]  [510/701]  eta: 0:02:06  lr: 0.003651  loss: 0.0288 (0.1401)  loss_classifier: 0.0189 (0.0731)  loss_box_reg: 0.0064 (0.0537)  loss_objectness: 0.0000 (0.0091)  loss_rpn_box_reg: 0.0023 (0.0043)  time: 0.6569  data: 0.0003  max mem: 7713\n",
      "Epoch: [0]  [520/701]  eta: 0:01:59  lr: 0.003723  loss: 0.0184 (0.1378)  loss_classifier: 0.0124 (0.0719)  loss_box_reg: 0.0046 (0.0528)  loss_objectness: 0.0000 (0.0089)  loss_rpn_box_reg: 0.0011 (0.0043)  time: 0.6571  data: 0.0003  max mem: 7713\n",
      "Epoch: [0]  [530/701]  eta: 0:01:53  lr: 0.003794  loss: 0.0191 (0.1357)  loss_classifier: 0.0132 (0.0709)  loss_box_reg: 0.0038 (0.0519)  loss_objectness: 0.0000 (0.0088)  loss_rpn_box_reg: 0.0009 (0.0042)  time: 0.6589  data: 0.0003  max mem: 7713\n",
      "Epoch: [0]  [540/701]  eta: 0:01:46  lr: 0.003865  loss: 0.0208 (0.1337)  loss_classifier: 0.0151 (0.0699)  loss_box_reg: 0.0041 (0.0510)  loss_objectness: 0.0000 (0.0086)  loss_rpn_box_reg: 0.0016 (0.0042)  time: 0.6587  data: 0.0003  max mem: 7713\n",
      "Epoch: [0]  [550/701]  eta: 0:01:39  lr: 0.003937  loss: 0.0208 (0.1316)  loss_classifier: 0.0151 (0.0689)  loss_box_reg: 0.0041 (0.0502)  loss_objectness: 0.0000 (0.0084)  loss_rpn_box_reg: 0.0017 (0.0041)  time: 0.6587  data: 0.0003  max mem: 7713\n",
      "Epoch: [0]  [560/701]  eta: 0:01:33  lr: 0.004008  loss: 0.0187 (0.1296)  loss_classifier: 0.0128 (0.0679)  loss_box_reg: 0.0043 (0.0493)  loss_objectness: 0.0000 (0.0083)  loss_rpn_box_reg: 0.0014 (0.0041)  time: 0.6552  data: 0.0003  max mem: 7713\n",
      "Epoch: [0]  [570/701]  eta: 0:01:26  lr: 0.004079  loss: 0.0209 (0.1277)  loss_classifier: 0.0129 (0.0670)  loss_box_reg: 0.0054 (0.0486)  loss_objectness: 0.0000 (0.0081)  loss_rpn_box_reg: 0.0012 (0.0040)  time: 0.6566  data: 0.0002  max mem: 7713\n",
      "Epoch: [0]  [580/701]  eta: 0:01:20  lr: 0.004151  loss: 0.0205 (0.1259)  loss_classifier: 0.0137 (0.0660)  loss_box_reg: 0.0047 (0.0478)  loss_objectness: 0.0000 (0.0080)  loss_rpn_box_reg: 0.0010 (0.0040)  time: 0.6594  data: 0.0002  max mem: 7713\n",
      "Epoch: [0]  [590/701]  eta: 0:01:13  lr: 0.004222  loss: 0.0198 (0.1241)  loss_classifier: 0.0121 (0.0651)  loss_box_reg: 0.0041 (0.0471)  loss_objectness: 0.0000 (0.0079)  loss_rpn_box_reg: 0.0015 (0.0040)  time: 0.6571  data: 0.0003  max mem: 7713\n",
      "Epoch: [0]  [600/701]  eta: 0:01:06  lr: 0.004294  loss: 0.0190 (0.1223)  loss_classifier: 0.0131 (0.0643)  loss_box_reg: 0.0041 (0.0464)  loss_objectness: 0.0000 (0.0077)  loss_rpn_box_reg: 0.0015 (0.0039)  time: 0.6560  data: 0.0003  max mem: 7713\n",
      "Epoch: [0]  [610/701]  eta: 0:01:00  lr: 0.004365  loss: 0.0173 (0.1206)  loss_classifier: 0.0113 (0.0634)  loss_box_reg: 0.0036 (0.0457)  loss_objectness: 0.0000 (0.0076)  loss_rpn_box_reg: 0.0010 (0.0039)  time: 0.6557  data: 0.0003  max mem: 7713\n",
      "Epoch: [0]  [620/701]  eta: 0:00:53  lr: 0.004436  loss: 0.0184 (0.1189)  loss_classifier: 0.0119 (0.0626)  loss_box_reg: 0.0036 (0.0450)  loss_objectness: 0.0000 (0.0075)  loss_rpn_box_reg: 0.0009 (0.0038)  time: 0.6553  data: 0.0003  max mem: 7713\n",
      "Epoch: [0]  [630/701]  eta: 0:00:46  lr: 0.004508  loss: 0.0184 (0.1173)  loss_classifier: 0.0133 (0.0618)  loss_box_reg: 0.0035 (0.0444)  loss_objectness: 0.0000 (0.0074)  loss_rpn_box_reg: 0.0009 (0.0038)  time: 0.6601  data: 0.0003  max mem: 7713\n",
      "Epoch: [0]  [640/701]  eta: 0:00:40  lr: 0.004579  loss: 0.0166 (0.1158)  loss_classifier: 0.0115 (0.0611)  loss_box_reg: 0.0036 (0.0437)  loss_objectness: 0.0000 (0.0073)  loss_rpn_box_reg: 0.0008 (0.0038)  time: 0.6600  data: 0.0003  max mem: 7713\n",
      "Epoch: [0]  [650/701]  eta: 0:00:33  lr: 0.004650  loss: 0.0161 (0.1142)  loss_classifier: 0.0105 (0.0603)  loss_box_reg: 0.0036 (0.0431)  loss_objectness: 0.0000 (0.0071)  loss_rpn_box_reg: 0.0007 (0.0037)  time: 0.6561  data: 0.0003  max mem: 7713\n"
     ]
    },
    {
     "name": "stdout",
     "output_type": "stream",
     "text": [
      "Epoch: [0]  [660/701]  eta: 0:00:27  lr: 0.004722  loss: 0.0172 (0.1128)  loss_classifier: 0.0118 (0.0596)  loss_box_reg: 0.0036 (0.0425)  loss_objectness: 0.0000 (0.0070)  loss_rpn_box_reg: 0.0011 (0.0037)  time: 0.6570  data: 0.0003  max mem: 7713\n",
      "Epoch: [0]  [670/701]  eta: 0:00:20  lr: 0.004793  loss: 0.0172 (0.1113)  loss_classifier: 0.0114 (0.0588)  loss_box_reg: 0.0036 (0.0419)  loss_objectness: 0.0000 (0.0069)  loss_rpn_box_reg: 0.0012 (0.0036)  time: 0.6558  data: 0.0003  max mem: 7713\n",
      "Epoch: [0]  [680/701]  eta: 0:00:13  lr: 0.004864  loss: 0.0158 (0.1100)  loss_classifier: 0.0102 (0.0581)  loss_box_reg: 0.0032 (0.0414)  loss_objectness: 0.0000 (0.0068)  loss_rpn_box_reg: 0.0014 (0.0036)  time: 0.6544  data: 0.0003  max mem: 7713\n",
      "Epoch: [0]  [690/701]  eta: 0:00:07  lr: 0.004936  loss: 0.0172 (0.1087)  loss_classifier: 0.0119 (0.0575)  loss_box_reg: 0.0032 (0.0408)  loss_objectness: 0.0000 (0.0067)  loss_rpn_box_reg: 0.0014 (0.0036)  time: 0.6547  data: 0.0003  max mem: 7713\n",
      "Epoch: [0]  [700/701]  eta: 0:00:00  lr: 0.005000  loss: 0.0204 (0.1074)  loss_classifier: 0.0138 (0.0569)  loss_box_reg: 0.0037 (0.0403)  loss_objectness: 0.0000 (0.0066)  loss_rpn_box_reg: 0.0017 (0.0036)  time: 0.6486  data: 0.0002  max mem: 7713\n",
      "Epoch: [0] Total time: 0:07:43 (0.6608 s / it)\n",
      "creating index...\n",
      "index created!\n",
      "Test:  [  0/604]  eta: 0:14:56  model_time: 0.3043 (0.3043)  evaluator_time: 0.0038 (0.0038)  time: 1.4841  data: 1.1692  max mem: 7713\n",
      "Test:  [100/604]  eta: 0:02:31  model_time: 0.2776 (0.2803)  evaluator_time: 0.0036 (0.0036)  time: 0.2884  data: 0.0002  max mem: 7713\n",
      "Test:  [200/604]  eta: 0:01:58  model_time: 0.2778 (0.2791)  evaluator_time: 0.0047 (0.0037)  time: 0.2866  data: 0.0002  max mem: 7713\n",
      "Test:  [300/604]  eta: 0:01:28  model_time: 0.2777 (0.2789)  evaluator_time: 0.0047 (0.0041)  time: 0.2879  data: 0.0002  max mem: 7713\n",
      "Test:  [400/604]  eta: 0:00:59  model_time: 0.2777 (0.2788)  evaluator_time: 0.0047 (0.0042)  time: 0.2868  data: 0.0001  max mem: 7713\n",
      "Test:  [500/604]  eta: 0:00:30  model_time: 0.2780 (0.2787)  evaluator_time: 0.0061 (0.0046)  time: 0.2906  data: 0.0002  max mem: 7713\n",
      "Test:  [600/604]  eta: 0:00:01  model_time: 0.2776 (0.2785)  evaluator_time: 0.0035 (0.0046)  time: 0.2851  data: 0.0001  max mem: 7713\n",
      "Test:  [603/604]  eta: 0:00:00  model_time: 0.2776 (0.2784)  evaluator_time: 0.0034 (0.0046)  time: 0.2808  data: 0.0001  max mem: 7713\n",
      "Test: Total time: 0:02:55 (0.2900 s / it)\n",
      "Averaged stats: model_time: 0.2776 (0.2784)  evaluator_time: 0.0034 (0.0046)\n",
      "Accumulating evaluation results...\n",
      "DONE (t=0.25s).\n",
      "IoU metric: bbox\n",
      " Average Precision  (AP) @[ IoU=0.50:0.95 | area=   all | maxDets=100 ] = 0.269\n",
      " Average Precision  (AP) @[ IoU=0.50      | area=   all | maxDets=100 ] = 0.979\n",
      " Average Precision  (AP) @[ IoU=0.75      | area=   all | maxDets=100 ] = 0.001\n",
      " Average Precision  (AP) @[ IoU=0.50:0.95 | area= small | maxDets=100 ] = -1.000\n",
      " Average Precision  (AP) @[ IoU=0.50:0.95 | area=medium | maxDets=100 ] = 0.270\n",
      " Average Precision  (AP) @[ IoU=0.50:0.95 | area= large | maxDets=100 ] = -1.000\n",
      " Average Recall     (AR) @[ IoU=0.50:0.95 | area=   all | maxDets=  1 ] = 0.184\n",
      " Average Recall     (AR) @[ IoU=0.50:0.95 | area=   all | maxDets= 10 ] = 0.323\n",
      " Average Recall     (AR) @[ IoU=0.50:0.95 | area=   all | maxDets=100 ] = 0.323\n",
      " Average Recall     (AR) @[ IoU=0.50:0.95 | area= small | maxDets=100 ] = -1.000\n",
      " Average Recall     (AR) @[ IoU=0.50:0.95 | area=medium | maxDets=100 ] = 0.323\n",
      " Average Recall     (AR) @[ IoU=0.50:0.95 | area= large | maxDets=100 ] = -1.000\n",
      "Epoch: [1]  [  0/701]  eta: 0:18:48  lr: 0.005000  loss: 0.0124 (0.0124)  loss_classifier: 0.0086 (0.0086)  loss_box_reg: 0.0025 (0.0025)  loss_objectness: 0.0000 (0.0000)  loss_rpn_box_reg: 0.0013 (0.0013)  time: 1.6099  data: 0.9244  max mem: 7713\n",
      "Epoch: [1]  [ 10/701]  eta: 0:08:36  lr: 0.005000  loss: 0.0194 (0.0191)  loss_classifier: 0.0135 (0.0132)  loss_box_reg: 0.0043 (0.0043)  loss_objectness: 0.0000 (0.0000)  loss_rpn_box_reg: 0.0015 (0.0016)  time: 0.7474  data: 0.0842  max mem: 7713\n",
      "Epoch: [1]  [ 20/701]  eta: 0:07:59  lr: 0.005000  loss: 0.0195 (0.0189)  loss_classifier: 0.0131 (0.0129)  loss_box_reg: 0.0043 (0.0041)  loss_objectness: 0.0000 (0.0000)  loss_rpn_box_reg: 0.0016 (0.0018)  time: 0.6589  data: 0.0002  max mem: 7713\n",
      "Epoch: [1]  [ 30/701]  eta: 0:07:42  lr: 0.005000  loss: 0.0183 (0.0180)  loss_classifier: 0.0105 (0.0123)  loss_box_reg: 0.0034 (0.0037)  loss_objectness: 0.0000 (0.0001)  loss_rpn_box_reg: 0.0012 (0.0019)  time: 0.6570  data: 0.0003  max mem: 7713\n",
      "Epoch: [1]  [ 40/701]  eta: 0:07:30  lr: 0.005000  loss: 0.0144 (0.0178)  loss_classifier: 0.0105 (0.0122)  loss_box_reg: 0.0027 (0.0036)  loss_objectness: 0.0000 (0.0001)  loss_rpn_box_reg: 0.0009 (0.0018)  time: 0.6586  data: 0.0003  max mem: 7713\n",
      "Epoch: [1]  [ 50/701]  eta: 0:07:21  lr: 0.005000  loss: 0.0138 (0.0170)  loss_classifier: 0.0102 (0.0118)  loss_box_reg: 0.0024 (0.0034)  loss_objectness: 0.0000 (0.0001)  loss_rpn_box_reg: 0.0008 (0.0017)  time: 0.6612  data: 0.0003  max mem: 7713\n",
      "Epoch: [1]  [ 60/701]  eta: 0:07:12  lr: 0.005000  loss: 0.0138 (0.0167)  loss_classifier: 0.0094 (0.0116)  loss_box_reg: 0.0028 (0.0035)  loss_objectness: 0.0000 (0.0001)  loss_rpn_box_reg: 0.0010 (0.0016)  time: 0.6599  data: 0.0003  max mem: 7713\n",
      "Epoch: [1]  [ 70/701]  eta: 0:07:03  lr: 0.005000  loss: 0.0136 (0.0161)  loss_classifier: 0.0094 (0.0112)  loss_box_reg: 0.0028 (0.0033)  loss_objectness: 0.0000 (0.0001)  loss_rpn_box_reg: 0.0009 (0.0015)  time: 0.6548  data: 0.0002  max mem: 7713\n",
      "Epoch: [1]  [ 80/701]  eta: 0:06:56  lr: 0.005000  loss: 0.0135 (0.0159)  loss_classifier: 0.0094 (0.0112)  loss_box_reg: 0.0023 (0.0032)  loss_objectness: 0.0000 (0.0000)  loss_rpn_box_reg: 0.0009 (0.0015)  time: 0.6558  data: 0.0002  max mem: 7713\n",
      "Epoch: [1]  [ 90/701]  eta: 0:06:48  lr: 0.005000  loss: 0.0134 (0.0157)  loss_classifier: 0.0094 (0.0110)  loss_box_reg: 0.0021 (0.0031)  loss_objectness: 0.0000 (0.0000)  loss_rpn_box_reg: 0.0009 (0.0015)  time: 0.6566  data: 0.0003  max mem: 7713\n",
      "Epoch: [1]  [100/701]  eta: 0:06:41  lr: 0.005000  loss: 0.0118 (0.0155)  loss_classifier: 0.0092 (0.0109)  loss_box_reg: 0.0021 (0.0031)  loss_objectness: 0.0000 (0.0000)  loss_rpn_box_reg: 0.0008 (0.0015)  time: 0.6572  data: 0.0002  max mem: 7713\n",
      "Epoch: [1]  [110/701]  eta: 0:06:34  lr: 0.005000  loss: 0.0129 (0.0156)  loss_classifier: 0.0089 (0.0110)  loss_box_reg: 0.0026 (0.0031)  loss_objectness: 0.0000 (0.0001)  loss_rpn_box_reg: 0.0008 (0.0015)  time: 0.6603  data: 0.0002  max mem: 7713\n",
      "Epoch: [1]  [120/701]  eta: 0:06:26  lr: 0.005000  loss: 0.0189 (0.0174)  loss_classifier: 0.0128 (0.0123)  loss_box_reg: 0.0049 (0.0036)  loss_objectness: 0.0000 (0.0001)  loss_rpn_box_reg: 0.0008 (0.0015)  time: 0.6567  data: 0.0002  max mem: 7713\n",
      "Epoch: [1]  [130/701]  eta: 0:06:19  lr: 0.005000  loss: 0.0240 (0.0177)  loss_classifier: 0.0174 (0.0124)  loss_box_reg: 0.0055 (0.0038)  loss_objectness: 0.0000 (0.0001)  loss_rpn_box_reg: 0.0007 (0.0014)  time: 0.6557  data: 0.0002  max mem: 7713\n",
      "Epoch: [1]  [140/701]  eta: 0:06:12  lr: 0.005000  loss: 0.0172 (0.0176)  loss_classifier: 0.0119 (0.0123)  loss_box_reg: 0.0040 (0.0038)  loss_objectness: 0.0000 (0.0001)  loss_rpn_box_reg: 0.0011 (0.0014)  time: 0.6571  data: 0.0003  max mem: 7713\n",
      "Epoch: [1]  [150/701]  eta: 0:06:05  lr: 0.005000  loss: 0.0169 (0.0175)  loss_classifier: 0.0111 (0.0122)  loss_box_reg: 0.0036 (0.0038)  loss_objectness: 0.0000 (0.0001)  loss_rpn_box_reg: 0.0011 (0.0014)  time: 0.6575  data: 0.0003  max mem: 7713\n",
      "Epoch: [1]  [160/701]  eta: 0:05:59  lr: 0.005000  loss: 0.0174 (0.0175)  loss_classifier: 0.0119 (0.0122)  loss_box_reg: 0.0035 (0.0038)  loss_objectness: 0.0000 (0.0001)  loss_rpn_box_reg: 0.0012 (0.0014)  time: 0.6608  data: 0.0003  max mem: 7713\n",
      "Epoch: [1]  [170/701]  eta: 0:05:52  lr: 0.005000  loss: 0.0161 (0.0173)  loss_classifier: 0.0111 (0.0120)  loss_box_reg: 0.0032 (0.0038)  loss_objectness: 0.0000 (0.0001)  loss_rpn_box_reg: 0.0012 (0.0014)  time: 0.6586  data: 0.0002  max mem: 7713\n",
      "Epoch: [1]  [180/701]  eta: 0:05:45  lr: 0.005000  loss: 0.0142 (0.0172)  loss_classifier: 0.0097 (0.0120)  loss_box_reg: 0.0025 (0.0037)  loss_objectness: 0.0000 (0.0001)  loss_rpn_box_reg: 0.0011 (0.0014)  time: 0.6531  data: 0.0002  max mem: 7713\n"
     ]
    },
    {
     "name": "stdout",
     "output_type": "stream",
     "text": [
      "Epoch: [1]  [190/701]  eta: 0:05:38  lr: 0.005000  loss: 0.0148 (0.0170)  loss_classifier: 0.0097 (0.0119)  loss_box_reg: 0.0025 (0.0037)  loss_objectness: 0.0000 (0.0001)  loss_rpn_box_reg: 0.0014 (0.0014)  time: 0.6532  data: 0.0002  max mem: 7713\n",
      "Epoch: [1]  [200/701]  eta: 0:05:31  lr: 0.005000  loss: 0.0141 (0.0168)  loss_classifier: 0.0090 (0.0117)  loss_box_reg: 0.0025 (0.0036)  loss_objectness: 0.0000 (0.0001)  loss_rpn_box_reg: 0.0013 (0.0014)  time: 0.6545  data: 0.0002  max mem: 7713\n",
      "Epoch: [1]  [210/701]  eta: 0:05:24  lr: 0.005000  loss: 0.0133 (0.0167)  loss_classifier: 0.0092 (0.0117)  loss_box_reg: 0.0025 (0.0036)  loss_objectness: 0.0000 (0.0001)  loss_rpn_box_reg: 0.0008 (0.0014)  time: 0.6557  data: 0.0003  max mem: 7713\n",
      "Epoch: [1]  [220/701]  eta: 0:05:18  lr: 0.005000  loss: 0.0126 (0.0166)  loss_classifier: 0.0091 (0.0116)  loss_box_reg: 0.0025 (0.0035)  loss_objectness: 0.0000 (0.0001)  loss_rpn_box_reg: 0.0007 (0.0014)  time: 0.6625  data: 0.0002  max mem: 7713\n",
      "Epoch: [1]  [230/701]  eta: 0:05:11  lr: 0.005000  loss: 0.0126 (0.0165)  loss_classifier: 0.0088 (0.0115)  loss_box_reg: 0.0025 (0.0035)  loss_objectness: 0.0000 (0.0001)  loss_rpn_box_reg: 0.0011 (0.0015)  time: 0.6633  data: 0.0002  max mem: 7713\n",
      "Epoch: [1]  [240/701]  eta: 0:05:05  lr: 0.005000  loss: 0.0133 (0.0164)  loss_classifier: 0.0091 (0.0114)  loss_box_reg: 0.0025 (0.0035)  loss_objectness: 0.0000 (0.0001)  loss_rpn_box_reg: 0.0014 (0.0015)  time: 0.6589  data: 0.0002  max mem: 7713\n",
      "Epoch: [1]  [250/701]  eta: 0:04:58  lr: 0.005000  loss: 0.0132 (0.0163)  loss_classifier: 0.0087 (0.0113)  loss_box_reg: 0.0025 (0.0034)  loss_objectness: 0.0000 (0.0001)  loss_rpn_box_reg: 0.0014 (0.0014)  time: 0.6578  data: 0.0003  max mem: 7713\n",
      "Epoch: [1]  [260/701]  eta: 0:04:51  lr: 0.005000  loss: 0.0114 (0.0162)  loss_classifier: 0.0087 (0.0113)  loss_box_reg: 0.0028 (0.0034)  loss_objectness: 0.0000 (0.0001)  loss_rpn_box_reg: 0.0008 (0.0014)  time: 0.6619  data: 0.0002  max mem: 7713\n",
      "Epoch: [1]  [270/701]  eta: 0:04:45  lr: 0.005000  loss: 0.0123 (0.0161)  loss_classifier: 0.0093 (0.0112)  loss_box_reg: 0.0028 (0.0034)  loss_objectness: 0.0000 (0.0001)  loss_rpn_box_reg: 0.0006 (0.0014)  time: 0.6619  data: 0.0002  max mem: 7713\n",
      "Epoch: [1]  [280/701]  eta: 0:04:38  lr: 0.005000  loss: 0.0145 (0.0161)  loss_classifier: 0.0103 (0.0112)  loss_box_reg: 0.0030 (0.0034)  loss_objectness: 0.0000 (0.0001)  loss_rpn_box_reg: 0.0008 (0.0014)  time: 0.6566  data: 0.0002  max mem: 7713\n",
      "Epoch: [1]  [290/701]  eta: 0:04:31  lr: 0.005000  loss: 0.0145 (0.0161)  loss_classifier: 0.0105 (0.0112)  loss_box_reg: 0.0032 (0.0034)  loss_objectness: 0.0000 (0.0001)  loss_rpn_box_reg: 0.0010 (0.0014)  time: 0.6574  data: 0.0002  max mem: 7713\n",
      "Epoch: [1]  [300/701]  eta: 0:04:25  lr: 0.005000  loss: 0.0145 (0.0161)  loss_classifier: 0.0096 (0.0112)  loss_box_reg: 0.0034 (0.0034)  loss_objectness: 0.0000 (0.0001)  loss_rpn_box_reg: 0.0009 (0.0014)  time: 0.6577  data: 0.0002  max mem: 7713\n",
      "Epoch: [1]  [310/701]  eta: 0:04:18  lr: 0.005000  loss: 0.0145 (0.0160)  loss_classifier: 0.0092 (0.0112)  loss_box_reg: 0.0027 (0.0034)  loss_objectness: 0.0000 (0.0001)  loss_rpn_box_reg: 0.0009 (0.0014)  time: 0.6570  data: 0.0002  max mem: 7713\n",
      "Epoch: [1]  [320/701]  eta: 0:04:11  lr: 0.005000  loss: 0.0119 (0.0159)  loss_classifier: 0.0092 (0.0111)  loss_box_reg: 0.0022 (0.0034)  loss_objectness: 0.0000 (0.0001)  loss_rpn_box_reg: 0.0008 (0.0014)  time: 0.6581  data: 0.0003  max mem: 7713\n",
      "Epoch: [1]  [330/701]  eta: 0:04:05  lr: 0.005000  loss: 0.0109 (0.0158)  loss_classifier: 0.0079 (0.0111)  loss_box_reg: 0.0021 (0.0033)  loss_objectness: 0.0000 (0.0001)  loss_rpn_box_reg: 0.0006 (0.0013)  time: 0.6585  data: 0.0003  max mem: 7713\n",
      "Epoch: [1]  [340/701]  eta: 0:03:58  lr: 0.005000  loss: 0.0105 (0.0157)  loss_classifier: 0.0076 (0.0110)  loss_box_reg: 0.0017 (0.0033)  loss_objectness: 0.0000 (0.0001)  loss_rpn_box_reg: 0.0008 (0.0013)  time: 0.6583  data: 0.0002  max mem: 7713\n",
      "Epoch: [1]  [350/701]  eta: 0:03:51  lr: 0.005000  loss: 0.0123 (0.0156)  loss_classifier: 0.0090 (0.0110)  loss_box_reg: 0.0020 (0.0033)  loss_objectness: 0.0000 (0.0001)  loss_rpn_box_reg: 0.0010 (0.0013)  time: 0.6614  data: 0.0002  max mem: 7713\n",
      "Epoch: [1]  [360/701]  eta: 0:03:45  lr: 0.005000  loss: 0.0115 (0.0155)  loss_classifier: 0.0090 (0.0109)  loss_box_reg: 0.0018 (0.0032)  loss_objectness: 0.0000 (0.0001)  loss_rpn_box_reg: 0.0008 (0.0013)  time: 0.6632  data: 0.0002  max mem: 7713\n",
      "Epoch: [1]  [370/701]  eta: 0:03:38  lr: 0.005000  loss: 0.0102 (0.0153)  loss_classifier: 0.0076 (0.0108)  loss_box_reg: 0.0017 (0.0032)  loss_objectness: 0.0000 (0.0001)  loss_rpn_box_reg: 0.0007 (0.0013)  time: 0.6596  data: 0.0002  max mem: 7713\n",
      "Epoch: [1]  [380/701]  eta: 0:03:32  lr: 0.005000  loss: 0.0102 (0.0152)  loss_classifier: 0.0067 (0.0107)  loss_box_reg: 0.0017 (0.0032)  loss_objectness: 0.0000 (0.0001)  loss_rpn_box_reg: 0.0007 (0.0013)  time: 0.6588  data: 0.0002  max mem: 7713\n",
      "Epoch: [1]  [390/701]  eta: 0:03:25  lr: 0.005000  loss: 0.0112 (0.0152)  loss_classifier: 0.0079 (0.0107)  loss_box_reg: 0.0022 (0.0031)  loss_objectness: 0.0000 (0.0001)  loss_rpn_box_reg: 0.0009 (0.0013)  time: 0.6593  data: 0.0002  max mem: 7713\n",
      "Epoch: [1]  [400/701]  eta: 0:03:18  lr: 0.005000  loss: 0.0139 (0.0152)  loss_classifier: 0.0085 (0.0106)  loss_box_reg: 0.0028 (0.0032)  loss_objectness: 0.0000 (0.0001)  loss_rpn_box_reg: 0.0010 (0.0013)  time: 0.6552  data: 0.0002  max mem: 7713\n",
      "Epoch: [1]  [410/701]  eta: 0:03:12  lr: 0.005000  loss: 0.0119 (0.0151)  loss_classifier: 0.0074 (0.0106)  loss_box_reg: 0.0025 (0.0031)  loss_objectness: 0.0000 (0.0001)  loss_rpn_box_reg: 0.0011 (0.0013)  time: 0.6549  data: 0.0002  max mem: 7713\n",
      "Epoch: [1]  [420/701]  eta: 0:03:05  lr: 0.005000  loss: 0.0122 (0.0151)  loss_classifier: 0.0087 (0.0106)  loss_box_reg: 0.0024 (0.0031)  loss_objectness: 0.0000 (0.0001)  loss_rpn_box_reg: 0.0011 (0.0013)  time: 0.6558  data: 0.0002  max mem: 7713\n",
      "Epoch: [1]  [430/701]  eta: 0:02:58  lr: 0.005000  loss: 0.0112 (0.0150)  loss_classifier: 0.0091 (0.0105)  loss_box_reg: 0.0020 (0.0031)  loss_objectness: 0.0000 (0.0001)  loss_rpn_box_reg: 0.0007 (0.0013)  time: 0.6589  data: 0.0002  max mem: 7713\n",
      "Epoch: [1]  [440/701]  eta: 0:02:52  lr: 0.005000  loss: 0.0089 (0.0149)  loss_classifier: 0.0063 (0.0105)  loss_box_reg: 0.0017 (0.0031)  loss_objectness: 0.0000 (0.0001)  loss_rpn_box_reg: 0.0006 (0.0013)  time: 0.6602  data: 0.0002  max mem: 7713\n",
      "Epoch: [1]  [450/701]  eta: 0:02:45  lr: 0.005000  loss: 0.0096 (0.0148)  loss_classifier: 0.0074 (0.0104)  loss_box_reg: 0.0017 (0.0030)  loss_objectness: 0.0000 (0.0001)  loss_rpn_box_reg: 0.0008 (0.0013)  time: 0.6586  data: 0.0002  max mem: 7713\n",
      "Epoch: [1]  [460/701]  eta: 0:02:39  lr: 0.005000  loss: 0.0106 (0.0147)  loss_classifier: 0.0079 (0.0104)  loss_box_reg: 0.0015 (0.0030)  loss_objectness: 0.0000 (0.0001)  loss_rpn_box_reg: 0.0010 (0.0013)  time: 0.6609  data: 0.0003  max mem: 7713\n",
      "Epoch: [1]  [470/701]  eta: 0:02:32  lr: 0.005000  loss: 0.0103 (0.0146)  loss_classifier: 0.0078 (0.0103)  loss_box_reg: 0.0015 (0.0030)  loss_objectness: 0.0000 (0.0001)  loss_rpn_box_reg: 0.0008 (0.0012)  time: 0.6590  data: 0.0003  max mem: 7713\n",
      "Epoch: [1]  [480/701]  eta: 0:02:25  lr: 0.005000  loss: 0.0091 (0.0145)  loss_classifier: 0.0061 (0.0102)  loss_box_reg: 0.0013 (0.0029)  loss_objectness: 0.0000 (0.0001)  loss_rpn_box_reg: 0.0007 (0.0012)  time: 0.6587  data: 0.0003  max mem: 7713\n",
      "Epoch: [1]  [490/701]  eta: 0:02:19  lr: 0.005000  loss: 0.0063 (0.0143)  loss_classifier: 0.0046 (0.0101)  loss_box_reg: 0.0013 (0.0029)  loss_objectness: 0.0000 (0.0001)  loss_rpn_box_reg: 0.0007 (0.0012)  time: 0.6581  data: 0.0003  max mem: 7713\n",
      "Epoch: [1]  [500/701]  eta: 0:02:12  lr: 0.005000  loss: 0.0064 (0.0142)  loss_classifier: 0.0046 (0.0100)  loss_box_reg: 0.0013 (0.0029)  loss_objectness: 0.0000 (0.0001)  loss_rpn_box_reg: 0.0005 (0.0012)  time: 0.6650  data: 0.0003  max mem: 7713\n",
      "Epoch: [1]  [510/701]  eta: 0:02:06  lr: 0.005000  loss: 0.0087 (0.0142)  loss_classifier: 0.0060 (0.0100)  loss_box_reg: 0.0017 (0.0029)  loss_objectness: 0.0000 (0.0001)  loss_rpn_box_reg: 0.0009 (0.0012)  time: 0.6680  data: 0.0002  max mem: 7713\n"
     ]
    },
    {
     "name": "stdout",
     "output_type": "stream",
     "text": [
      "Epoch: [1]  [520/701]  eta: 0:01:59  lr: 0.005000  loss: 0.0101 (0.0142)  loss_classifier: 0.0067 (0.0100)  loss_box_reg: 0.0024 (0.0029)  loss_objectness: 0.0000 (0.0001)  loss_rpn_box_reg: 0.0009 (0.0012)  time: 0.6589  data: 0.0002  max mem: 7713\n",
      "Epoch: [1]  [530/701]  eta: 0:01:52  lr: 0.005000  loss: 0.0112 (0.0141)  loss_classifier: 0.0072 (0.0100)  loss_box_reg: 0.0024 (0.0029)  loss_objectness: 0.0000 (0.0001)  loss_rpn_box_reg: 0.0008 (0.0012)  time: 0.6545  data: 0.0003  max mem: 7713\n",
      "Epoch: [1]  [540/701]  eta: 0:01:46  lr: 0.005000  loss: 0.0111 (0.0143)  loss_classifier: 0.0068 (0.0101)  loss_box_reg: 0.0026 (0.0029)  loss_objectness: 0.0000 (0.0001)  loss_rpn_box_reg: 0.0011 (0.0012)  time: 0.6558  data: 0.0003  max mem: 7713\n",
      "Epoch: [1]  [550/701]  eta: 0:01:39  lr: 0.005000  loss: 0.0107 (0.0142)  loss_classifier: 0.0070 (0.0101)  loss_box_reg: 0.0022 (0.0029)  loss_objectness: 0.0000 (0.0001)  loss_rpn_box_reg: 0.0007 (0.0012)  time: 0.6592  data: 0.0003  max mem: 7713\n",
      "Epoch: [1]  [560/701]  eta: 0:01:33  lr: 0.005000  loss: 0.0090 (0.0141)  loss_classifier: 0.0069 (0.0100)  loss_box_reg: 0.0017 (0.0029)  loss_objectness: 0.0000 (0.0001)  loss_rpn_box_reg: 0.0005 (0.0012)  time: 0.6611  data: 0.0002  max mem: 7713\n",
      "Epoch: [1]  [570/701]  eta: 0:01:26  lr: 0.005000  loss: 0.0087 (0.0140)  loss_classifier: 0.0064 (0.0099)  loss_box_reg: 0.0016 (0.0029)  loss_objectness: 0.0000 (0.0001)  loss_rpn_box_reg: 0.0006 (0.0012)  time: 0.6608  data: 0.0003  max mem: 7713\n",
      "Epoch: [1]  [580/701]  eta: 0:01:19  lr: 0.005000  loss: 0.0097 (0.0140)  loss_classifier: 0.0066 (0.0099)  loss_box_reg: 0.0016 (0.0028)  loss_objectness: 0.0000 (0.0001)  loss_rpn_box_reg: 0.0008 (0.0012)  time: 0.6594  data: 0.0003  max mem: 7713\n",
      "Epoch: [1]  [590/701]  eta: 0:01:13  lr: 0.005000  loss: 0.0098 (0.0139)  loss_classifier: 0.0066 (0.0098)  loss_box_reg: 0.0016 (0.0028)  loss_objectness: 0.0000 (0.0001)  loss_rpn_box_reg: 0.0007 (0.0012)  time: 0.6580  data: 0.0002  max mem: 7713\n",
      "Epoch: [1]  [600/701]  eta: 0:01:06  lr: 0.005000  loss: 0.0082 (0.0138)  loss_classifier: 0.0062 (0.0098)  loss_box_reg: 0.0016 (0.0028)  loss_objectness: 0.0000 (0.0001)  loss_rpn_box_reg: 0.0007 (0.0012)  time: 0.6552  data: 0.0003  max mem: 7713\n",
      "Epoch: [1]  [610/701]  eta: 0:01:00  lr: 0.005000  loss: 0.0082 (0.0137)  loss_classifier: 0.0059 (0.0097)  loss_box_reg: 0.0016 (0.0028)  loss_objectness: 0.0000 (0.0001)  loss_rpn_box_reg: 0.0007 (0.0012)  time: 0.6561  data: 0.0003  max mem: 7713\n",
      "Epoch: [1]  [620/701]  eta: 0:00:53  lr: 0.005000  loss: 0.0096 (0.0137)  loss_classifier: 0.0062 (0.0097)  loss_box_reg: 0.0016 (0.0028)  loss_objectness: 0.0000 (0.0001)  loss_rpn_box_reg: 0.0006 (0.0012)  time: 0.6595  data: 0.0003  max mem: 7713\n",
      "Epoch: [1]  [630/701]  eta: 0:00:46  lr: 0.005000  loss: 0.0099 (0.0136)  loss_classifier: 0.0067 (0.0096)  loss_box_reg: 0.0018 (0.0028)  loss_objectness: 0.0000 (0.0001)  loss_rpn_box_reg: 0.0007 (0.0012)  time: 0.6593  data: 0.0003  max mem: 7713\n",
      "Epoch: [1]  [640/701]  eta: 0:00:40  lr: 0.005000  loss: 0.0097 (0.0136)  loss_classifier: 0.0067 (0.0096)  loss_box_reg: 0.0018 (0.0027)  loss_objectness: 0.0000 (0.0001)  loss_rpn_box_reg: 0.0007 (0.0012)  time: 0.6594  data: 0.0002  max mem: 7713\n",
      "Epoch: [1]  [650/701]  eta: 0:00:33  lr: 0.005000  loss: 0.0085 (0.0135)  loss_classifier: 0.0060 (0.0095)  loss_box_reg: 0.0014 (0.0027)  loss_objectness: 0.0000 (0.0001)  loss_rpn_box_reg: 0.0006 (0.0012)  time: 0.6591  data: 0.0002  max mem: 7713\n",
      "Epoch: [1]  [660/701]  eta: 0:00:27  lr: 0.005000  loss: 0.0091 (0.0134)  loss_classifier: 0.0069 (0.0095)  loss_box_reg: 0.0014 (0.0027)  loss_objectness: 0.0000 (0.0001)  loss_rpn_box_reg: 0.0006 (0.0012)  time: 0.6576  data: 0.0002  max mem: 7713\n",
      "Epoch: [1]  [670/701]  eta: 0:00:20  lr: 0.005000  loss: 0.0094 (0.0134)  loss_classifier: 0.0065 (0.0095)  loss_box_reg: 0.0015 (0.0027)  loss_objectness: 0.0000 (0.0001)  loss_rpn_box_reg: 0.0011 (0.0012)  time: 0.6583  data: 0.0002  max mem: 7713\n",
      "Epoch: [1]  [680/701]  eta: 0:00:13  lr: 0.005000  loss: 0.0088 (0.0133)  loss_classifier: 0.0063 (0.0094)  loss_box_reg: 0.0015 (0.0027)  loss_objectness: 0.0000 (0.0001)  loss_rpn_box_reg: 0.0008 (0.0012)  time: 0.6565  data: 0.0002  max mem: 7713\n",
      "Epoch: [1]  [690/701]  eta: 0:00:07  lr: 0.005000  loss: 0.0105 (0.0133)  loss_classifier: 0.0074 (0.0094)  loss_box_reg: 0.0020 (0.0027)  loss_objectness: 0.0000 (0.0001)  loss_rpn_box_reg: 0.0006 (0.0012)  time: 0.6580  data: 0.0002  max mem: 7713\n",
      "Epoch: [1]  [700/701]  eta: 0:00:00  lr: 0.005000  loss: 0.0097 (0.0133)  loss_classifier: 0.0069 (0.0094)  loss_box_reg: 0.0017 (0.0027)  loss_objectness: 0.0000 (0.0001)  loss_rpn_box_reg: 0.0005 (0.0012)  time: 0.6466  data: 0.0002  max mem: 7713\n",
      "Epoch: [1] Total time: 0:07:42 (0.6598 s / it)\n",
      "creating index...\n",
      "index created!\n",
      "Test:  [  0/604]  eta: 0:13:45  model_time: 0.3120 (0.3120)  evaluator_time: 0.0108 (0.0108)  time: 1.3667  data: 1.0372  max mem: 7713\n",
      "Test:  [100/604]  eta: 0:02:30  model_time: 0.2777 (0.2787)  evaluator_time: 0.0036 (0.0038)  time: 0.2861  data: 0.0002  max mem: 7713\n",
      "Test:  [200/604]  eta: 0:01:58  model_time: 0.2778 (0.2785)  evaluator_time: 0.0047 (0.0038)  time: 0.2870  data: 0.0002  max mem: 7713\n",
      "Test:  [300/604]  eta: 0:01:28  model_time: 0.2779 (0.2785)  evaluator_time: 0.0046 (0.0041)  time: 0.2876  data: 0.0001  max mem: 7713\n",
      "Test:  [400/604]  eta: 0:00:59  model_time: 0.2785 (0.2786)  evaluator_time: 0.0048 (0.0043)  time: 0.2897  data: 0.0002  max mem: 7713\n",
      "Test:  [500/604]  eta: 0:00:30  model_time: 0.2779 (0.2785)  evaluator_time: 0.0061 (0.0047)  time: 0.2900  data: 0.0002  max mem: 7713\n",
      "Test:  [600/604]  eta: 0:00:01  model_time: 0.2778 (0.2785)  evaluator_time: 0.0035 (0.0047)  time: 0.2874  data: 0.0001  max mem: 7713\n",
      "Test:  [603/604]  eta: 0:00:00  model_time: 0.2778 (0.2784)  evaluator_time: 0.0035 (0.0047)  time: 0.2826  data: 0.0001  max mem: 7713\n",
      "Test: Total time: 0:02:55 (0.2899 s / it)\n",
      "Averaged stats: model_time: 0.2778 (0.2784)  evaluator_time: 0.0035 (0.0047)\n",
      "Accumulating evaluation results...\n",
      "DONE (t=0.28s).\n",
      "IoU metric: bbox\n",
      " Average Precision  (AP) @[ IoU=0.50:0.95 | area=   all | maxDets=100 ] = 0.214\n",
      " Average Precision  (AP) @[ IoU=0.50      | area=   all | maxDets=100 ] = 0.972\n",
      " Average Precision  (AP) @[ IoU=0.75      | area=   all | maxDets=100 ] = 0.029\n",
      " Average Precision  (AP) @[ IoU=0.50:0.95 | area= small | maxDets=100 ] = -1.000\n",
      " Average Precision  (AP) @[ IoU=0.50:0.95 | area=medium | maxDets=100 ] = 0.216\n",
      " Average Precision  (AP) @[ IoU=0.50:0.95 | area= large | maxDets=100 ] = -1.000\n",
      " Average Recall     (AR) @[ IoU=0.50:0.95 | area=   all | maxDets=  1 ] = 0.176\n",
      " Average Recall     (AR) @[ IoU=0.50:0.95 | area=   all | maxDets= 10 ] = 0.308\n",
      " Average Recall     (AR) @[ IoU=0.50:0.95 | area=   all | maxDets=100 ] = 0.308\n",
      " Average Recall     (AR) @[ IoU=0.50:0.95 | area= small | maxDets=100 ] = -1.000\n",
      " Average Recall     (AR) @[ IoU=0.50:0.95 | area=medium | maxDets=100 ] = 0.308\n",
      " Average Recall     (AR) @[ IoU=0.50:0.95 | area= large | maxDets=100 ] = -1.000\n",
      "Epoch: [2]  [  0/701]  eta: 0:17:07  lr: 0.005000  loss: 0.0098 (0.0098)  loss_classifier: 0.0067 (0.0067)  loss_box_reg: 0.0015 (0.0015)  loss_objectness: 0.0000 (0.0000)  loss_rpn_box_reg: 0.0016 (0.0016)  time: 1.4651  data: 0.8013  max mem: 7713\n",
      "Epoch: [2]  [ 10/701]  eta: 0:08:23  lr: 0.005000  loss: 0.0072 (0.0074)  loss_classifier: 0.0055 (0.0056)  loss_box_reg: 0.0013 (0.0012)  loss_objectness: 0.0000 (0.0000)  loss_rpn_box_reg: 0.0005 (0.0006)  time: 0.7286  data: 0.0731  max mem: 7713\n",
      "Epoch: [2]  [ 20/701]  eta: 0:07:52  lr: 0.005000  loss: 0.0082 (0.0080)  loss_classifier: 0.0055 (0.0059)  loss_box_reg: 0.0013 (0.0014)  loss_objectness: 0.0000 (0.0000)  loss_rpn_box_reg: 0.0005 (0.0007)  time: 0.6546  data: 0.0003  max mem: 7713\n",
      "Epoch: [2]  [ 30/701]  eta: 0:07:35  lr: 0.005000  loss: 0.0092 (0.0088)  loss_classifier: 0.0067 (0.0063)  loss_box_reg: 0.0017 (0.0016)  loss_objectness: 0.0000 (0.0000)  loss_rpn_box_reg: 0.0008 (0.0009)  time: 0.6523  data: 0.0004  max mem: 7713\n",
      "Epoch: [2]  [ 40/701]  eta: 0:07:25  lr: 0.005000  loss: 0.0096 (0.0088)  loss_classifier: 0.0069 (0.0063)  loss_box_reg: 0.0017 (0.0016)  loss_objectness: 0.0000 (0.0000)  loss_rpn_box_reg: 0.0008 (0.0009)  time: 0.6532  data: 0.0003  max mem: 7713\n"
     ]
    },
    {
     "name": "stdout",
     "output_type": "stream",
     "text": [
      "Epoch: [2]  [ 50/701]  eta: 0:07:16  lr: 0.005000  loss: 0.0093 (0.0096)  loss_classifier: 0.0064 (0.0067)  loss_box_reg: 0.0017 (0.0017)  loss_objectness: 0.0000 (0.0000)  loss_rpn_box_reg: 0.0010 (0.0011)  time: 0.6582  data: 0.0003  max mem: 7713\n",
      "Epoch: [2]  [ 60/701]  eta: 0:07:08  lr: 0.005000  loss: 0.0093 (0.0095)  loss_classifier: 0.0060 (0.0067)  loss_box_reg: 0.0018 (0.0017)  loss_objectness: 0.0000 (0.0000)  loss_rpn_box_reg: 0.0011 (0.0011)  time: 0.6591  data: 0.0003  max mem: 7713\n",
      "Epoch: [2]  [ 70/701]  eta: 0:07:00  lr: 0.005000  loss: 0.0093 (0.0099)  loss_classifier: 0.0064 (0.0069)  loss_box_reg: 0.0018 (0.0018)  loss_objectness: 0.0000 (0.0000)  loss_rpn_box_reg: 0.0008 (0.0011)  time: 0.6558  data: 0.0003  max mem: 7713\n",
      "Epoch: [2]  [ 80/701]  eta: 0:06:53  lr: 0.005000  loss: 0.0104 (0.0100)  loss_classifier: 0.0073 (0.0071)  loss_box_reg: 0.0019 (0.0018)  loss_objectness: 0.0001 (0.0000)  loss_rpn_box_reg: 0.0008 (0.0011)  time: 0.6546  data: 0.0003  max mem: 7713\n",
      "Epoch: [2]  [ 90/701]  eta: 0:06:45  lr: 0.005000  loss: 0.0090 (0.0098)  loss_classifier: 0.0070 (0.0070)  loss_box_reg: 0.0013 (0.0017)  loss_objectness: 0.0000 (0.0000)  loss_rpn_box_reg: 0.0006 (0.0010)  time: 0.6533  data: 0.0003  max mem: 7713\n",
      "Epoch: [2]  [100/701]  eta: 0:06:38  lr: 0.005000  loss: 0.0094 (0.0100)  loss_classifier: 0.0074 (0.0073)  loss_box_reg: 0.0013 (0.0017)  loss_objectness: 0.0000 (0.0000)  loss_rpn_box_reg: 0.0006 (0.0010)  time: 0.6531  data: 0.0003  max mem: 7713\n",
      "Epoch: [2]  [110/701]  eta: 0:06:31  lr: 0.005000  loss: 0.0111 (0.0099)  loss_classifier: 0.0080 (0.0072)  loss_box_reg: 0.0015 (0.0017)  loss_objectness: 0.0000 (0.0000)  loss_rpn_box_reg: 0.0009 (0.0010)  time: 0.6541  data: 0.0003  max mem: 7713\n",
      "Epoch: [2]  [120/701]  eta: 0:06:24  lr: 0.005000  loss: 0.0094 (0.0099)  loss_classifier: 0.0070 (0.0072)  loss_box_reg: 0.0015 (0.0017)  loss_objectness: 0.0000 (0.0000)  loss_rpn_box_reg: 0.0006 (0.0010)  time: 0.6540  data: 0.0003  max mem: 7713\n",
      "Epoch: [2]  [130/701]  eta: 0:06:17  lr: 0.005000  loss: 0.0101 (0.0101)  loss_classifier: 0.0070 (0.0073)  loss_box_reg: 0.0017 (0.0018)  loss_objectness: 0.0000 (0.0000)  loss_rpn_box_reg: 0.0007 (0.0010)  time: 0.6544  data: 0.0002  max mem: 7713\n",
      "Epoch: [2]  [140/701]  eta: 0:06:10  lr: 0.005000  loss: 0.0086 (0.0100)  loss_classifier: 0.0059 (0.0072)  loss_box_reg: 0.0015 (0.0018)  loss_objectness: 0.0000 (0.0000)  loss_rpn_box_reg: 0.0006 (0.0010)  time: 0.6571  data: 0.0003  max mem: 7713\n",
      "Epoch: [2]  [150/701]  eta: 0:06:03  lr: 0.005000  loss: 0.0080 (0.0099)  loss_classifier: 0.0057 (0.0071)  loss_box_reg: 0.0014 (0.0017)  loss_objectness: 0.0000 (0.0000)  loss_rpn_box_reg: 0.0007 (0.0010)  time: 0.6551  data: 0.0003  max mem: 7713\n",
      "Epoch: [2]  [160/701]  eta: 0:05:56  lr: 0.005000  loss: 0.0081 (0.0097)  loss_classifier: 0.0057 (0.0070)  loss_box_reg: 0.0013 (0.0017)  loss_objectness: 0.0000 (0.0000)  loss_rpn_box_reg: 0.0006 (0.0009)  time: 0.6514  data: 0.0002  max mem: 7713\n",
      "Epoch: [2]  [170/701]  eta: 0:05:50  lr: 0.005000  loss: 0.0086 (0.0101)  loss_classifier: 0.0061 (0.0073)  loss_box_reg: 0.0016 (0.0019)  loss_objectness: 0.0000 (0.0000)  loss_rpn_box_reg: 0.0008 (0.0009)  time: 0.6553  data: 0.0002  max mem: 7713\n",
      "Epoch: [2]  [180/701]  eta: 0:05:43  lr: 0.005000  loss: 0.0093 (0.0101)  loss_classifier: 0.0070 (0.0073)  loss_box_reg: 0.0015 (0.0018)  loss_objectness: 0.0000 (0.0000)  loss_rpn_box_reg: 0.0008 (0.0009)  time: 0.6576  data: 0.0003  max mem: 7713\n",
      "Epoch: [2]  [190/701]  eta: 0:05:36  lr: 0.005000  loss: 0.0093 (0.0102)  loss_classifier: 0.0074 (0.0074)  loss_box_reg: 0.0014 (0.0018)  loss_objectness: 0.0000 (0.0000)  loss_rpn_box_reg: 0.0008 (0.0010)  time: 0.6564  data: 0.0003  max mem: 7713\n",
      "Epoch: [2]  [200/701]  eta: 0:05:30  lr: 0.005000  loss: 0.0079 (0.0102)  loss_classifier: 0.0059 (0.0073)  loss_box_reg: 0.0015 (0.0019)  loss_objectness: 0.0000 (0.0000)  loss_rpn_box_reg: 0.0011 (0.0010)  time: 0.6588  data: 0.0003  max mem: 7713\n",
      "Epoch: [2]  [210/701]  eta: 0:05:23  lr: 0.005000  loss: 0.0085 (0.0102)  loss_classifier: 0.0063 (0.0073)  loss_box_reg: 0.0016 (0.0019)  loss_objectness: 0.0000 (0.0000)  loss_rpn_box_reg: 0.0009 (0.0010)  time: 0.6601  data: 0.0003  max mem: 7713\n",
      "Epoch: [2]  [220/701]  eta: 0:05:17  lr: 0.005000  loss: 0.0092 (0.0101)  loss_classifier: 0.0064 (0.0072)  loss_box_reg: 0.0015 (0.0018)  loss_objectness: 0.0000 (0.0000)  loss_rpn_box_reg: 0.0007 (0.0010)  time: 0.6571  data: 0.0003  max mem: 7713\n",
      "Epoch: [2]  [230/701]  eta: 0:05:10  lr: 0.005000  loss: 0.0082 (0.0100)  loss_classifier: 0.0059 (0.0072)  loss_box_reg: 0.0013 (0.0018)  loss_objectness: 0.0000 (0.0000)  loss_rpn_box_reg: 0.0006 (0.0010)  time: 0.6550  data: 0.0003  max mem: 7713\n",
      "Epoch: [2]  [240/701]  eta: 0:05:03  lr: 0.005000  loss: 0.0074 (0.0099)  loss_classifier: 0.0058 (0.0071)  loss_box_reg: 0.0012 (0.0018)  loss_objectness: 0.0000 (0.0000)  loss_rpn_box_reg: 0.0005 (0.0009)  time: 0.6561  data: 0.0003  max mem: 7713\n",
      "Epoch: [2]  [250/701]  eta: 0:04:57  lr: 0.005000  loss: 0.0067 (0.0098)  loss_classifier: 0.0053 (0.0071)  loss_box_reg: 0.0011 (0.0018)  loss_objectness: 0.0000 (0.0000)  loss_rpn_box_reg: 0.0004 (0.0009)  time: 0.6579  data: 0.0003  max mem: 7713\n",
      "Epoch: [2]  [260/701]  eta: 0:04:50  lr: 0.005000  loss: 0.0070 (0.0097)  loss_classifier: 0.0053 (0.0070)  loss_box_reg: 0.0012 (0.0017)  loss_objectness: 0.0000 (0.0000)  loss_rpn_box_reg: 0.0004 (0.0009)  time: 0.6566  data: 0.0003  max mem: 7713\n",
      "Epoch: [2]  [270/701]  eta: 0:04:43  lr: 0.005000  loss: 0.0072 (0.0097)  loss_classifier: 0.0051 (0.0070)  loss_box_reg: 0.0016 (0.0017)  loss_objectness: 0.0000 (0.0000)  loss_rpn_box_reg: 0.0006 (0.0009)  time: 0.6564  data: 0.0003  max mem: 7713\n",
      "Epoch: [2]  [280/701]  eta: 0:04:37  lr: 0.005000  loss: 0.0072 (0.0096)  loss_classifier: 0.0051 (0.0069)  loss_box_reg: 0.0013 (0.0017)  loss_objectness: 0.0000 (0.0000)  loss_rpn_box_reg: 0.0006 (0.0009)  time: 0.6571  data: 0.0003  max mem: 7713\n",
      "Epoch: [2]  [290/701]  eta: 0:04:30  lr: 0.005000  loss: 0.0084 (0.0096)  loss_classifier: 0.0061 (0.0069)  loss_box_reg: 0.0011 (0.0017)  loss_objectness: 0.0000 (0.0000)  loss_rpn_box_reg: 0.0006 (0.0009)  time: 0.6567  data: 0.0002  max mem: 7713\n",
      "Epoch: [2]  [300/701]  eta: 0:04:24  lr: 0.005000  loss: 0.0087 (0.0095)  loss_classifier: 0.0066 (0.0069)  loss_box_reg: 0.0012 (0.0017)  loss_objectness: 0.0000 (0.0000)  loss_rpn_box_reg: 0.0006 (0.0009)  time: 0.6589  data: 0.0003  max mem: 7713\n",
      "Epoch: [2]  [310/701]  eta: 0:04:17  lr: 0.005000  loss: 0.0081 (0.0095)  loss_classifier: 0.0063 (0.0069)  loss_box_reg: 0.0012 (0.0017)  loss_objectness: 0.0000 (0.0000)  loss_rpn_box_reg: 0.0006 (0.0009)  time: 0.6562  data: 0.0003  max mem: 7713\n",
      "Epoch: [2]  [320/701]  eta: 0:04:10  lr: 0.005000  loss: 0.0081 (0.0095)  loss_classifier: 0.0062 (0.0068)  loss_box_reg: 0.0014 (0.0017)  loss_objectness: 0.0000 (0.0000)  loss_rpn_box_reg: 0.0007 (0.0009)  time: 0.6525  data: 0.0003  max mem: 7713\n",
      "Epoch: [2]  [330/701]  eta: 0:04:04  lr: 0.005000  loss: 0.0079 (0.0094)  loss_classifier: 0.0061 (0.0068)  loss_box_reg: 0.0012 (0.0017)  loss_objectness: 0.0000 (0.0000)  loss_rpn_box_reg: 0.0007 (0.0009)  time: 0.6553  data: 0.0003  max mem: 7713\n",
      "Epoch: [2]  [340/701]  eta: 0:03:57  lr: 0.005000  loss: 0.0071 (0.0094)  loss_classifier: 0.0058 (0.0068)  loss_box_reg: 0.0010 (0.0016)  loss_objectness: 0.0000 (0.0000)  loss_rpn_box_reg: 0.0004 (0.0009)  time: 0.6567  data: 0.0003  max mem: 7713\n",
      "Epoch: [2]  [350/701]  eta: 0:03:51  lr: 0.005000  loss: 0.0071 (0.0093)  loss_classifier: 0.0057 (0.0068)  loss_box_reg: 0.0010 (0.0016)  loss_objectness: 0.0000 (0.0000)  loss_rpn_box_reg: 0.0005 (0.0009)  time: 0.6572  data: 0.0003  max mem: 7713\n",
      "Epoch: [2]  [360/701]  eta: 0:03:44  lr: 0.005000  loss: 0.0083 (0.0093)  loss_classifier: 0.0065 (0.0068)  loss_box_reg: 0.0012 (0.0016)  loss_objectness: 0.0000 (0.0000)  loss_rpn_box_reg: 0.0006 (0.0009)  time: 0.6551  data: 0.0003  max mem: 7713\n",
      "Epoch: [2]  [370/701]  eta: 0:03:37  lr: 0.005000  loss: 0.0103 (0.0094)  loss_classifier: 0.0068 (0.0068)  loss_box_reg: 0.0013 (0.0016)  loss_objectness: 0.0000 (0.0000)  loss_rpn_box_reg: 0.0009 (0.0009)  time: 0.6541  data: 0.0003  max mem: 7713\n"
     ]
    },
    {
     "name": "stdout",
     "output_type": "stream",
     "text": [
      "Epoch: [2]  [380/701]  eta: 0:03:31  lr: 0.005000  loss: 0.0095 (0.0093)  loss_classifier: 0.0064 (0.0068)  loss_box_reg: 0.0014 (0.0016)  loss_objectness: 0.0000 (0.0000)  loss_rpn_box_reg: 0.0006 (0.0009)  time: 0.6542  data: 0.0003  max mem: 7713\n",
      "Epoch: [2]  [390/701]  eta: 0:03:24  lr: 0.005000  loss: 0.0082 (0.0093)  loss_classifier: 0.0061 (0.0068)  loss_box_reg: 0.0013 (0.0016)  loss_objectness: 0.0000 (0.0000)  loss_rpn_box_reg: 0.0005 (0.0009)  time: 0.6552  data: 0.0003  max mem: 7713\n",
      "Epoch: [2]  [400/701]  eta: 0:03:17  lr: 0.005000  loss: 0.0074 (0.0093)  loss_classifier: 0.0058 (0.0068)  loss_box_reg: 0.0011 (0.0016)  loss_objectness: 0.0000 (0.0000)  loss_rpn_box_reg: 0.0005 (0.0009)  time: 0.6553  data: 0.0003  max mem: 7713\n",
      "Epoch: [2]  [410/701]  eta: 0:03:11  lr: 0.005000  loss: 0.0075 (0.0093)  loss_classifier: 0.0060 (0.0068)  loss_box_reg: 0.0012 (0.0016)  loss_objectness: 0.0000 (0.0000)  loss_rpn_box_reg: 0.0005 (0.0009)  time: 0.6541  data: 0.0003  max mem: 7713\n",
      "Epoch: [2]  [420/701]  eta: 0:03:04  lr: 0.005000  loss: 0.0091 (0.0093)  loss_classifier: 0.0065 (0.0068)  loss_box_reg: 0.0012 (0.0016)  loss_objectness: 0.0000 (0.0000)  loss_rpn_box_reg: 0.0008 (0.0009)  time: 0.6543  data: 0.0002  max mem: 7713\n",
      "Epoch: [2]  [430/701]  eta: 0:02:58  lr: 0.005000  loss: 0.0081 (0.0093)  loss_classifier: 0.0056 (0.0068)  loss_box_reg: 0.0011 (0.0016)  loss_objectness: 0.0000 (0.0000)  loss_rpn_box_reg: 0.0005 (0.0009)  time: 0.6555  data: 0.0002  max mem: 7713\n",
      "Epoch: [2]  [440/701]  eta: 0:02:51  lr: 0.005000  loss: 0.0062 (0.0092)  loss_classifier: 0.0047 (0.0067)  loss_box_reg: 0.0011 (0.0016)  loss_objectness: 0.0000 (0.0000)  loss_rpn_box_reg: 0.0005 (0.0009)  time: 0.6570  data: 0.0002  max mem: 7713\n",
      "Epoch: [2]  [450/701]  eta: 0:02:45  lr: 0.005000  loss: 0.0070 (0.0092)  loss_classifier: 0.0053 (0.0067)  loss_box_reg: 0.0012 (0.0016)  loss_objectness: 0.0000 (0.0000)  loss_rpn_box_reg: 0.0005 (0.0009)  time: 0.6587  data: 0.0002  max mem: 7713\n",
      "Epoch: [2]  [460/701]  eta: 0:02:38  lr: 0.005000  loss: 0.0087 (0.0092)  loss_classifier: 0.0053 (0.0067)  loss_box_reg: 0.0017 (0.0016)  loss_objectness: 0.0000 (0.0000)  loss_rpn_box_reg: 0.0005 (0.0009)  time: 0.6580  data: 0.0003  max mem: 7713\n",
      "Epoch: [2]  [470/701]  eta: 0:02:31  lr: 0.005000  loss: 0.0083 (0.0092)  loss_classifier: 0.0061 (0.0067)  loss_box_reg: 0.0017 (0.0016)  loss_objectness: 0.0000 (0.0000)  loss_rpn_box_reg: 0.0006 (0.0009)  time: 0.6567  data: 0.0002  max mem: 7713\n",
      "Epoch: [2]  [480/701]  eta: 0:02:25  lr: 0.005000  loss: 0.0078 (0.0092)  loss_classifier: 0.0052 (0.0067)  loss_box_reg: 0.0015 (0.0016)  loss_objectness: 0.0000 (0.0000)  loss_rpn_box_reg: 0.0005 (0.0009)  time: 0.6595  data: 0.0002  max mem: 7713\n",
      "Epoch: [2]  [490/701]  eta: 0:02:18  lr: 0.005000  loss: 0.0078 (0.0092)  loss_classifier: 0.0052 (0.0067)  loss_box_reg: 0.0013 (0.0016)  loss_objectness: 0.0000 (0.0000)  loss_rpn_box_reg: 0.0005 (0.0009)  time: 0.6588  data: 0.0003  max mem: 7713\n",
      "Epoch: [2]  [500/701]  eta: 0:02:12  lr: 0.005000  loss: 0.0080 (0.0092)  loss_classifier: 0.0059 (0.0067)  loss_box_reg: 0.0015 (0.0016)  loss_objectness: 0.0000 (0.0000)  loss_rpn_box_reg: 0.0005 (0.0009)  time: 0.6537  data: 0.0003  max mem: 7713\n",
      "Epoch: [2]  [510/701]  eta: 0:02:05  lr: 0.005000  loss: 0.0097 (0.0092)  loss_classifier: 0.0065 (0.0067)  loss_box_reg: 0.0015 (0.0016)  loss_objectness: 0.0000 (0.0000)  loss_rpn_box_reg: 0.0005 (0.0009)  time: 0.6532  data: 0.0002  max mem: 7713\n",
      "Epoch: [2]  [520/701]  eta: 0:01:58  lr: 0.005000  loss: 0.0085 (0.0092)  loss_classifier: 0.0067 (0.0067)  loss_box_reg: 0.0012 (0.0016)  loss_objectness: 0.0000 (0.0000)  loss_rpn_box_reg: 0.0009 (0.0009)  time: 0.6570  data: 0.0002  max mem: 7713\n",
      "Epoch: [2]  [530/701]  eta: 0:01:52  lr: 0.005000  loss: 0.0068 (0.0091)  loss_classifier: 0.0054 (0.0067)  loss_box_reg: 0.0009 (0.0016)  loss_objectness: 0.0000 (0.0000)  loss_rpn_box_reg: 0.0006 (0.0009)  time: 0.6572  data: 0.0003  max mem: 7713\n",
      "Epoch: [2]  [540/701]  eta: 0:01:45  lr: 0.005000  loss: 0.0068 (0.0091)  loss_classifier: 0.0052 (0.0066)  loss_box_reg: 0.0011 (0.0016)  loss_objectness: 0.0000 (0.0000)  loss_rpn_box_reg: 0.0007 (0.0009)  time: 0.6561  data: 0.0003  max mem: 7713\n",
      "Epoch: [2]  [550/701]  eta: 0:01:39  lr: 0.005000  loss: 0.0079 (0.0091)  loss_classifier: 0.0060 (0.0066)  loss_box_reg: 0.0011 (0.0016)  loss_objectness: 0.0000 (0.0000)  loss_rpn_box_reg: 0.0007 (0.0009)  time: 0.6547  data: 0.0003  max mem: 7713\n",
      "Epoch: [2]  [560/701]  eta: 0:01:32  lr: 0.005000  loss: 0.0079 (0.0091)  loss_classifier: 0.0056 (0.0066)  loss_box_reg: 0.0012 (0.0016)  loss_objectness: 0.0000 (0.0000)  loss_rpn_box_reg: 0.0007 (0.0009)  time: 0.6540  data: 0.0003  max mem: 7713\n",
      "Epoch: [2]  [570/701]  eta: 0:01:26  lr: 0.005000  loss: 0.0065 (0.0090)  loss_classifier: 0.0048 (0.0066)  loss_box_reg: 0.0011 (0.0016)  loss_objectness: 0.0000 (0.0000)  loss_rpn_box_reg: 0.0006 (0.0009)  time: 0.6550  data: 0.0002  max mem: 7713\n",
      "Epoch: [2]  [580/701]  eta: 0:01:19  lr: 0.005000  loss: 0.0064 (0.0090)  loss_classifier: 0.0045 (0.0066)  loss_box_reg: 0.0011 (0.0016)  loss_objectness: 0.0000 (0.0000)  loss_rpn_box_reg: 0.0006 (0.0009)  time: 0.6545  data: 0.0002  max mem: 7713\n",
      "Epoch: [2]  [590/701]  eta: 0:01:12  lr: 0.005000  loss: 0.0065 (0.0090)  loss_classifier: 0.0049 (0.0065)  loss_box_reg: 0.0012 (0.0015)  loss_objectness: 0.0000 (0.0000)  loss_rpn_box_reg: 0.0007 (0.0009)  time: 0.6555  data: 0.0002  max mem: 7713\n",
      "Epoch: [2]  [600/701]  eta: 0:01:06  lr: 0.005000  loss: 0.0080 (0.0090)  loss_classifier: 0.0058 (0.0065)  loss_box_reg: 0.0012 (0.0015)  loss_objectness: 0.0000 (0.0000)  loss_rpn_box_reg: 0.0009 (0.0009)  time: 0.6528  data: 0.0002  max mem: 7713\n",
      "Epoch: [2]  [610/701]  eta: 0:00:59  lr: 0.005000  loss: 0.0080 (0.0090)  loss_classifier: 0.0057 (0.0065)  loss_box_reg: 0.0011 (0.0015)  loss_objectness: 0.0000 (0.0000)  loss_rpn_box_reg: 0.0006 (0.0009)  time: 0.6488  data: 0.0002  max mem: 7713\n",
      "Epoch: [2]  [620/701]  eta: 0:00:53  lr: 0.005000  loss: 0.0067 (0.0089)  loss_classifier: 0.0047 (0.0065)  loss_box_reg: 0.0011 (0.0015)  loss_objectness: 0.0000 (0.0000)  loss_rpn_box_reg: 0.0006 (0.0009)  time: 0.6549  data: 0.0002  max mem: 7713\n",
      "Epoch: [2]  [630/701]  eta: 0:00:46  lr: 0.005000  loss: 0.0067 (0.0089)  loss_classifier: 0.0047 (0.0065)  loss_box_reg: 0.0011 (0.0015)  loss_objectness: 0.0000 (0.0000)  loss_rpn_box_reg: 0.0006 (0.0009)  time: 0.6564  data: 0.0002  max mem: 7713\n",
      "Epoch: [2]  [640/701]  eta: 0:00:40  lr: 0.005000  loss: 0.0071 (0.0090)  loss_classifier: 0.0055 (0.0065)  loss_box_reg: 0.0011 (0.0015)  loss_objectness: 0.0000 (0.0000)  loss_rpn_box_reg: 0.0011 (0.0009)  time: 0.6533  data: 0.0003  max mem: 7713\n",
      "Epoch: [2]  [650/701]  eta: 0:00:33  lr: 0.005000  loss: 0.0082 (0.0090)  loss_classifier: 0.0057 (0.0065)  loss_box_reg: 0.0013 (0.0016)  loss_objectness: 0.0000 (0.0000)  loss_rpn_box_reg: 0.0006 (0.0009)  time: 0.6523  data: 0.0003  max mem: 7713\n",
      "Epoch: [2]  [660/701]  eta: 0:00:26  lr: 0.005000  loss: 0.0082 (0.0090)  loss_classifier: 0.0054 (0.0065)  loss_box_reg: 0.0015 (0.0016)  loss_objectness: 0.0000 (0.0000)  loss_rpn_box_reg: 0.0006 (0.0009)  time: 0.6539  data: 0.0002  max mem: 7713\n",
      "Epoch: [2]  [670/701]  eta: 0:00:20  lr: 0.005000  loss: 0.0065 (0.0090)  loss_classifier: 0.0047 (0.0065)  loss_box_reg: 0.0010 (0.0015)  loss_objectness: 0.0000 (0.0000)  loss_rpn_box_reg: 0.0008 (0.0009)  time: 0.6551  data: 0.0002  max mem: 7713\n",
      "Epoch: [2]  [680/701]  eta: 0:00:13  lr: 0.005000  loss: 0.0065 (0.0089)  loss_classifier: 0.0049 (0.0065)  loss_box_reg: 0.0009 (0.0015)  loss_objectness: 0.0000 (0.0000)  loss_rpn_box_reg: 0.0007 (0.0009)  time: 0.6536  data: 0.0002  max mem: 7713\n",
      "Epoch: [2]  [690/701]  eta: 0:00:07  lr: 0.005000  loss: 0.0065 (0.0089)  loss_classifier: 0.0049 (0.0065)  loss_box_reg: 0.0009 (0.0015)  loss_objectness: 0.0000 (0.0000)  loss_rpn_box_reg: 0.0005 (0.0009)  time: 0.6539  data: 0.0003  max mem: 7713\n",
      "Epoch: [2]  [700/701]  eta: 0:00:00  lr: 0.005000  loss: 0.0079 (0.0089)  loss_classifier: 0.0066 (0.0065)  loss_box_reg: 0.0009 (0.0015)  loss_objectness: 0.0000 (0.0000)  loss_rpn_box_reg: 0.0004 (0.0009)  time: 0.6429  data: 0.0002  max mem: 7713\n",
      "Epoch: [2] Total time: 0:07:40 (0.6566 s / it)\n"
     ]
    },
    {
     "name": "stdout",
     "output_type": "stream",
     "text": [
      "creating index...\n",
      "index created!\n",
      "Test:  [  0/604]  eta: 0:08:38  model_time: 0.2939 (0.2939)  evaluator_time: 0.0034 (0.0034)  time: 0.8587  data: 0.5551  max mem: 7713\n",
      "Test:  [100/604]  eta: 0:02:28  model_time: 0.2775 (0.2787)  evaluator_time: 0.0036 (0.0035)  time: 0.2879  data: 0.0007  max mem: 7713\n",
      "Test:  [200/604]  eta: 0:01:57  model_time: 0.2778 (0.2784)  evaluator_time: 0.0037 (0.0034)  time: 0.2877  data: 0.0001  max mem: 7713\n",
      "Test:  [300/604]  eta: 0:01:28  model_time: 0.2766 (0.2784)  evaluator_time: 0.0035 (0.0037)  time: 0.2854  data: 0.0002  max mem: 7713\n",
      "Test:  [400/604]  eta: 0:00:58  model_time: 0.2778 (0.2783)  evaluator_time: 0.0046 (0.0038)  time: 0.2875  data: 0.0002  max mem: 7713\n",
      "Test:  [500/604]  eta: 0:00:30  model_time: 0.2775 (0.2782)  evaluator_time: 0.0060 (0.0041)  time: 0.2886  data: 0.0002  max mem: 7713\n",
      "Test:  [600/604]  eta: 0:00:01  model_time: 0.2771 (0.2781)  evaluator_time: 0.0029 (0.0041)  time: 0.2849  data: 0.0001  max mem: 7713\n",
      "Test:  [603/604]  eta: 0:00:00  model_time: 0.2762 (0.2780)  evaluator_time: 0.0025 (0.0041)  time: 0.2806  data: 0.0001  max mem: 7713\n",
      "Test: Total time: 0:02:54 (0.2888 s / it)\n",
      "Averaged stats: model_time: 0.2762 (0.2780)  evaluator_time: 0.0025 (0.0041)\n",
      "Accumulating evaluation results...\n",
      "DONE (t=0.34s).\n",
      "IoU metric: bbox\n",
      " Average Precision  (AP) @[ IoU=0.50:0.95 | area=   all | maxDets=100 ] = 0.240\n",
      " Average Precision  (AP) @[ IoU=0.50      | area=   all | maxDets=100 ] = 0.976\n",
      " Average Precision  (AP) @[ IoU=0.75      | area=   all | maxDets=100 ] = 0.056\n",
      " Average Precision  (AP) @[ IoU=0.50:0.95 | area= small | maxDets=100 ] = -1.000\n",
      " Average Precision  (AP) @[ IoU=0.50:0.95 | area=medium | maxDets=100 ] = 0.244\n",
      " Average Precision  (AP) @[ IoU=0.50:0.95 | area= large | maxDets=100 ] = -1.000\n",
      " Average Recall     (AR) @[ IoU=0.50:0.95 | area=   all | maxDets=  1 ] = 0.190\n",
      " Average Recall     (AR) @[ IoU=0.50:0.95 | area=   all | maxDets= 10 ] = 0.340\n",
      " Average Recall     (AR) @[ IoU=0.50:0.95 | area=   all | maxDets=100 ] = 0.340\n",
      " Average Recall     (AR) @[ IoU=0.50:0.95 | area= small | maxDets=100 ] = -1.000\n",
      " Average Recall     (AR) @[ IoU=0.50:0.95 | area=medium | maxDets=100 ] = 0.340\n",
      " Average Recall     (AR) @[ IoU=0.50:0.95 | area= large | maxDets=100 ] = -1.000\n",
      "Epoch: [3]  [  0/701]  eta: 0:19:23  lr: 0.000500  loss: 0.0185 (0.0185)  loss_classifier: 0.0160 (0.0160)  loss_box_reg: 0.0015 (0.0015)  loss_objectness: 0.0000 (0.0000)  loss_rpn_box_reg: 0.0010 (0.0010)  time: 1.6599  data: 0.9303  max mem: 7713\n",
      "Epoch: [3]  [ 10/701]  eta: 0:08:36  lr: 0.000500  loss: 0.0094 (0.0094)  loss_classifier: 0.0080 (0.0078)  loss_box_reg: 0.0010 (0.0010)  loss_objectness: 0.0000 (0.0000)  loss_rpn_box_reg: 0.0004 (0.0005)  time: 0.7469  data: 0.0848  max mem: 7713\n",
      "Epoch: [3]  [ 20/701]  eta: 0:07:58  lr: 0.000500  loss: 0.0078 (0.0082)  loss_classifier: 0.0062 (0.0068)  loss_box_reg: 0.0009 (0.0009)  loss_objectness: 0.0000 (0.0000)  loss_rpn_box_reg: 0.0004 (0.0004)  time: 0.6552  data: 0.0002  max mem: 7713\n",
      "Epoch: [3]  [ 30/701]  eta: 0:07:41  lr: 0.000500  loss: 0.0046 (0.0072)  loss_classifier: 0.0037 (0.0060)  loss_box_reg: 0.0006 (0.0008)  loss_objectness: 0.0000 (0.0000)  loss_rpn_box_reg: 0.0002 (0.0004)  time: 0.6547  data: 0.0003  max mem: 7713\n",
      "Epoch: [3]  [ 40/701]  eta: 0:07:28  lr: 0.000500  loss: 0.0051 (0.0071)  loss_classifier: 0.0039 (0.0058)  loss_box_reg: 0.0007 (0.0008)  loss_objectness: 0.0000 (0.0000)  loss_rpn_box_reg: 0.0003 (0.0004)  time: 0.6540  data: 0.0004  max mem: 7713\n",
      "Epoch: [3]  [ 50/701]  eta: 0:07:18  lr: 0.000500  loss: 0.0061 (0.0070)  loss_classifier: 0.0049 (0.0058)  loss_box_reg: 0.0007 (0.0008)  loss_objectness: 0.0000 (0.0000)  loss_rpn_box_reg: 0.0003 (0.0004)  time: 0.6529  data: 0.0004  max mem: 7713\n",
      "Epoch: [3]  [ 60/701]  eta: 0:07:10  lr: 0.000500  loss: 0.0061 (0.0069)  loss_classifier: 0.0049 (0.0057)  loss_box_reg: 0.0007 (0.0008)  loss_objectness: 0.0000 (0.0000)  loss_rpn_box_reg: 0.0003 (0.0004)  time: 0.6543  data: 0.0003  max mem: 7713\n",
      "Epoch: [3]  [ 70/701]  eta: 0:07:02  lr: 0.000500  loss: 0.0056 (0.0067)  loss_classifier: 0.0044 (0.0055)  loss_box_reg: 0.0007 (0.0008)  loss_objectness: 0.0000 (0.0000)  loss_rpn_box_reg: 0.0003 (0.0004)  time: 0.6561  data: 0.0002  max mem: 7713\n",
      "Epoch: [3]  [ 80/701]  eta: 0:06:54  lr: 0.000500  loss: 0.0053 (0.0066)  loss_classifier: 0.0044 (0.0055)  loss_box_reg: 0.0006 (0.0008)  loss_objectness: 0.0000 (0.0000)  loss_rpn_box_reg: 0.0003 (0.0004)  time: 0.6541  data: 0.0003  max mem: 7713\n",
      "Epoch: [3]  [ 90/701]  eta: 0:06:46  lr: 0.000500  loss: 0.0049 (0.0065)  loss_classifier: 0.0042 (0.0053)  loss_box_reg: 0.0006 (0.0008)  loss_objectness: 0.0000 (0.0000)  loss_rpn_box_reg: 0.0002 (0.0004)  time: 0.6549  data: 0.0003  max mem: 7713\n",
      "Epoch: [3]  [100/701]  eta: 0:06:39  lr: 0.000500  loss: 0.0052 (0.0064)  loss_classifier: 0.0043 (0.0053)  loss_box_reg: 0.0006 (0.0008)  loss_objectness: 0.0000 (0.0000)  loss_rpn_box_reg: 0.0002 (0.0004)  time: 0.6554  data: 0.0003  max mem: 7713\n",
      "Epoch: [3]  [110/701]  eta: 0:06:32  lr: 0.000500  loss: 0.0048 (0.0063)  loss_classifier: 0.0040 (0.0052)  loss_box_reg: 0.0006 (0.0007)  loss_objectness: 0.0000 (0.0000)  loss_rpn_box_reg: 0.0003 (0.0004)  time: 0.6553  data: 0.0005  max mem: 7713\n",
      "Epoch: [3]  [120/701]  eta: 0:06:25  lr: 0.000500  loss: 0.0056 (0.0065)  loss_classifier: 0.0047 (0.0052)  loss_box_reg: 0.0006 (0.0009)  loss_objectness: 0.0000 (0.0000)  loss_rpn_box_reg: 0.0004 (0.0004)  time: 0.6568  data: 0.0004  max mem: 7713\n",
      "Epoch: [3]  [130/701]  eta: 0:06:18  lr: 0.000500  loss: 0.0059 (0.0064)  loss_classifier: 0.0047 (0.0052)  loss_box_reg: 0.0007 (0.0008)  loss_objectness: 0.0000 (0.0000)  loss_rpn_box_reg: 0.0004 (0.0004)  time: 0.6552  data: 0.0003  max mem: 7713\n",
      "Epoch: [3]  [140/701]  eta: 0:06:11  lr: 0.000500  loss: 0.0047 (0.0063)  loss_classifier: 0.0035 (0.0051)  loss_box_reg: 0.0006 (0.0008)  loss_objectness: 0.0000 (0.0000)  loss_rpn_box_reg: 0.0003 (0.0004)  time: 0.6551  data: 0.0003  max mem: 7713\n",
      "Epoch: [3]  [150/701]  eta: 0:06:04  lr: 0.000500  loss: 0.0041 (0.0061)  loss_classifier: 0.0034 (0.0050)  loss_box_reg: 0.0005 (0.0008)  loss_objectness: 0.0000 (0.0000)  loss_rpn_box_reg: 0.0002 (0.0003)  time: 0.6566  data: 0.0003  max mem: 7713\n",
      "Epoch: [3]  [160/701]  eta: 0:05:57  lr: 0.000500  loss: 0.0048 (0.0061)  loss_classifier: 0.0035 (0.0049)  loss_box_reg: 0.0006 (0.0008)  loss_objectness: 0.0000 (0.0000)  loss_rpn_box_reg: 0.0002 (0.0003)  time: 0.6550  data: 0.0002  max mem: 7713\n",
      "Epoch: [3]  [170/701]  eta: 0:05:50  lr: 0.000500  loss: 0.0053 (0.0061)  loss_classifier: 0.0043 (0.0049)  loss_box_reg: 0.0007 (0.0008)  loss_objectness: 0.0000 (0.0000)  loss_rpn_box_reg: 0.0002 (0.0003)  time: 0.6532  data: 0.0002  max mem: 7713\n",
      "Epoch: [3]  [180/701]  eta: 0:05:44  lr: 0.000500  loss: 0.0053 (0.0061)  loss_classifier: 0.0043 (0.0049)  loss_box_reg: 0.0006 (0.0008)  loss_objectness: 0.0000 (0.0000)  loss_rpn_box_reg: 0.0003 (0.0003)  time: 0.6533  data: 0.0002  max mem: 7713\n",
      "Epoch: [3]  [190/701]  eta: 0:05:37  lr: 0.000500  loss: 0.0056 (0.0061)  loss_classifier: 0.0045 (0.0049)  loss_box_reg: 0.0006 (0.0008)  loss_objectness: 0.0000 (0.0000)  loss_rpn_box_reg: 0.0003 (0.0003)  time: 0.6542  data: 0.0003  max mem: 7713\n",
      "Epoch: [3]  [200/701]  eta: 0:05:30  lr: 0.000500  loss: 0.0054 (0.0060)  loss_classifier: 0.0044 (0.0049)  loss_box_reg: 0.0006 (0.0008)  loss_objectness: 0.0000 (0.0000)  loss_rpn_box_reg: 0.0003 (0.0003)  time: 0.6543  data: 0.0003  max mem: 7713\n",
      "Epoch: [3]  [210/701]  eta: 0:05:23  lr: 0.000500  loss: 0.0051 (0.0060)  loss_classifier: 0.0040 (0.0049)  loss_box_reg: 0.0006 (0.0008)  loss_objectness: 0.0000 (0.0000)  loss_rpn_box_reg: 0.0003 (0.0003)  time: 0.6543  data: 0.0003  max mem: 7713\n",
      "Epoch: [3]  [220/701]  eta: 0:05:17  lr: 0.000500  loss: 0.0063 (0.0060)  loss_classifier: 0.0052 (0.0049)  loss_box_reg: 0.0007 (0.0008)  loss_objectness: 0.0000 (0.0000)  loss_rpn_box_reg: 0.0004 (0.0003)  time: 0.6566  data: 0.0003  max mem: 7713\n",
      "Epoch: [3]  [230/701]  eta: 0:05:10  lr: 0.000500  loss: 0.0057 (0.0060)  loss_classifier: 0.0048 (0.0049)  loss_box_reg: 0.0006 (0.0008)  loss_objectness: 0.0000 (0.0000)  loss_rpn_box_reg: 0.0004 (0.0003)  time: 0.6575  data: 0.0003  max mem: 7713\n"
     ]
    },
    {
     "name": "stdout",
     "output_type": "stream",
     "text": [
      "Epoch: [3]  [240/701]  eta: 0:05:03  lr: 0.000500  loss: 0.0044 (0.0059)  loss_classifier: 0.0037 (0.0048)  loss_box_reg: 0.0005 (0.0007)  loss_objectness: 0.0000 (0.0000)  loss_rpn_box_reg: 0.0002 (0.0003)  time: 0.6543  data: 0.0002  max mem: 7713\n",
      "Epoch: [3]  [250/701]  eta: 0:04:57  lr: 0.000500  loss: 0.0041 (0.0059)  loss_classifier: 0.0035 (0.0048)  loss_box_reg: 0.0004 (0.0007)  loss_objectness: 0.0000 (0.0000)  loss_rpn_box_reg: 0.0002 (0.0003)  time: 0.6531  data: 0.0003  max mem: 7713\n",
      "Epoch: [3]  [260/701]  eta: 0:04:50  lr: 0.000500  loss: 0.0043 (0.0059)  loss_classifier: 0.0037 (0.0048)  loss_box_reg: 0.0005 (0.0007)  loss_objectness: 0.0000 (0.0000)  loss_rpn_box_reg: 0.0002 (0.0003)  time: 0.6543  data: 0.0003  max mem: 7713\n",
      "Epoch: [3]  [270/701]  eta: 0:04:43  lr: 0.000500  loss: 0.0061 (0.0059)  loss_classifier: 0.0049 (0.0048)  loss_box_reg: 0.0006 (0.0007)  loss_objectness: 0.0000 (0.0000)  loss_rpn_box_reg: 0.0004 (0.0003)  time: 0.6533  data: 0.0003  max mem: 7713\n",
      "Epoch: [3]  [280/701]  eta: 0:04:37  lr: 0.000500  loss: 0.0058 (0.0059)  loss_classifier: 0.0044 (0.0048)  loss_box_reg: 0.0008 (0.0007)  loss_objectness: 0.0000 (0.0000)  loss_rpn_box_reg: 0.0004 (0.0003)  time: 0.6541  data: 0.0002  max mem: 7713\n",
      "Epoch: [3]  [290/701]  eta: 0:04:30  lr: 0.000500  loss: 0.0053 (0.0059)  loss_classifier: 0.0044 (0.0048)  loss_box_reg: 0.0007 (0.0007)  loss_objectness: 0.0000 (0.0000)  loss_rpn_box_reg: 0.0003 (0.0003)  time: 0.6551  data: 0.0002  max mem: 7713\n",
      "Epoch: [3]  [300/701]  eta: 0:04:23  lr: 0.000500  loss: 0.0051 (0.0059)  loss_classifier: 0.0044 (0.0048)  loss_box_reg: 0.0007 (0.0007)  loss_objectness: 0.0000 (0.0000)  loss_rpn_box_reg: 0.0003 (0.0004)  time: 0.6579  data: 0.0002  max mem: 7713\n",
      "Epoch: [3]  [310/701]  eta: 0:04:17  lr: 0.000500  loss: 0.0054 (0.0059)  loss_classifier: 0.0047 (0.0048)  loss_box_reg: 0.0006 (0.0007)  loss_objectness: 0.0000 (0.0000)  loss_rpn_box_reg: 0.0003 (0.0004)  time: 0.6592  data: 0.0007  max mem: 7713\n",
      "Epoch: [3]  [320/701]  eta: 0:04:10  lr: 0.000500  loss: 0.0049 (0.0059)  loss_classifier: 0.0040 (0.0048)  loss_box_reg: 0.0006 (0.0007)  loss_objectness: 0.0000 (0.0000)  loss_rpn_box_reg: 0.0003 (0.0003)  time: 0.6547  data: 0.0007  max mem: 7713\n",
      "Epoch: [3]  [330/701]  eta: 0:04:04  lr: 0.000500  loss: 0.0045 (0.0059)  loss_classifier: 0.0036 (0.0048)  loss_box_reg: 0.0006 (0.0007)  loss_objectness: 0.0000 (0.0000)  loss_rpn_box_reg: 0.0003 (0.0004)  time: 0.6557  data: 0.0003  max mem: 7713\n",
      "Epoch: [3]  [340/701]  eta: 0:03:57  lr: 0.000500  loss: 0.0052 (0.0060)  loss_classifier: 0.0043 (0.0048)  loss_box_reg: 0.0005 (0.0007)  loss_objectness: 0.0000 (0.0000)  loss_rpn_box_reg: 0.0003 (0.0004)  time: 0.6568  data: 0.0003  max mem: 7713\n",
      "Epoch: [3]  [350/701]  eta: 0:03:50  lr: 0.000500  loss: 0.0052 (0.0059)  loss_classifier: 0.0043 (0.0048)  loss_box_reg: 0.0005 (0.0007)  loss_objectness: 0.0000 (0.0000)  loss_rpn_box_reg: 0.0002 (0.0004)  time: 0.6572  data: 0.0002  max mem: 7713\n",
      "Epoch: [3]  [360/701]  eta: 0:03:44  lr: 0.000500  loss: 0.0042 (0.0059)  loss_classifier: 0.0036 (0.0048)  loss_box_reg: 0.0005 (0.0007)  loss_objectness: 0.0000 (0.0000)  loss_rpn_box_reg: 0.0002 (0.0004)  time: 0.6562  data: 0.0002  max mem: 7713\n",
      "Epoch: [3]  [370/701]  eta: 0:03:37  lr: 0.000500  loss: 0.0042 (0.0059)  loss_classifier: 0.0036 (0.0048)  loss_box_reg: 0.0005 (0.0007)  loss_objectness: 0.0000 (0.0000)  loss_rpn_box_reg: 0.0002 (0.0003)  time: 0.6538  data: 0.0003  max mem: 7713\n",
      "Epoch: [3]  [380/701]  eta: 0:03:31  lr: 0.000500  loss: 0.0044 (0.0059)  loss_classifier: 0.0036 (0.0048)  loss_box_reg: 0.0005 (0.0007)  loss_objectness: 0.0000 (0.0000)  loss_rpn_box_reg: 0.0002 (0.0003)  time: 0.6548  data: 0.0003  max mem: 7713\n",
      "Epoch: [3]  [390/701]  eta: 0:03:24  lr: 0.000500  loss: 0.0034 (0.0058)  loss_classifier: 0.0029 (0.0047)  loss_box_reg: 0.0004 (0.0007)  loss_objectness: 0.0000 (0.0000)  loss_rpn_box_reg: 0.0002 (0.0003)  time: 0.6539  data: 0.0003  max mem: 7713\n",
      "Epoch: [3]  [400/701]  eta: 0:03:17  lr: 0.000500  loss: 0.0043 (0.0058)  loss_classifier: 0.0036 (0.0047)  loss_box_reg: 0.0005 (0.0007)  loss_objectness: 0.0000 (0.0000)  loss_rpn_box_reg: 0.0002 (0.0003)  time: 0.6565  data: 0.0003  max mem: 7713\n",
      "Epoch: [3]  [410/701]  eta: 0:03:11  lr: 0.000500  loss: 0.0052 (0.0058)  loss_classifier: 0.0041 (0.0047)  loss_box_reg: 0.0006 (0.0007)  loss_objectness: 0.0000 (0.0000)  loss_rpn_box_reg: 0.0003 (0.0003)  time: 0.6571  data: 0.0003  max mem: 7713\n",
      "Epoch: [3]  [420/701]  eta: 0:03:04  lr: 0.000500  loss: 0.0048 (0.0058)  loss_classifier: 0.0040 (0.0047)  loss_box_reg: 0.0006 (0.0007)  loss_objectness: 0.0000 (0.0000)  loss_rpn_box_reg: 0.0002 (0.0003)  time: 0.6549  data: 0.0003  max mem: 7713\n",
      "Epoch: [3]  [430/701]  eta: 0:02:58  lr: 0.000500  loss: 0.0048 (0.0058)  loss_classifier: 0.0042 (0.0047)  loss_box_reg: 0.0006 (0.0007)  loss_objectness: 0.0000 (0.0000)  loss_rpn_box_reg: 0.0002 (0.0003)  time: 0.6538  data: 0.0003  max mem: 7713\n",
      "Epoch: [3]  [440/701]  eta: 0:02:51  lr: 0.000500  loss: 0.0048 (0.0057)  loss_classifier: 0.0042 (0.0047)  loss_box_reg: 0.0005 (0.0007)  loss_objectness: 0.0000 (0.0000)  loss_rpn_box_reg: 0.0002 (0.0003)  time: 0.6531  data: 0.0003  max mem: 7713\n",
      "Epoch: [3]  [450/701]  eta: 0:02:44  lr: 0.000500  loss: 0.0034 (0.0057)  loss_classifier: 0.0027 (0.0046)  loss_box_reg: 0.0005 (0.0007)  loss_objectness: 0.0000 (0.0000)  loss_rpn_box_reg: 0.0002 (0.0003)  time: 0.6530  data: 0.0002  max mem: 7713\n",
      "Epoch: [3]  [460/701]  eta: 0:02:38  lr: 0.000500  loss: 0.0034 (0.0056)  loss_classifier: 0.0027 (0.0046)  loss_box_reg: 0.0005 (0.0007)  loss_objectness: 0.0000 (0.0000)  loss_rpn_box_reg: 0.0002 (0.0003)  time: 0.6539  data: 0.0003  max mem: 7713\n",
      "Epoch: [3]  [470/701]  eta: 0:02:31  lr: 0.000500  loss: 0.0040 (0.0056)  loss_classifier: 0.0034 (0.0046)  loss_box_reg: 0.0005 (0.0007)  loss_objectness: 0.0000 (0.0000)  loss_rpn_box_reg: 0.0002 (0.0003)  time: 0.6536  data: 0.0003  max mem: 7713\n",
      "Epoch: [3]  [480/701]  eta: 0:02:25  lr: 0.000500  loss: 0.0049 (0.0056)  loss_classifier: 0.0043 (0.0046)  loss_box_reg: 0.0005 (0.0007)  loss_objectness: 0.0000 (0.0000)  loss_rpn_box_reg: 0.0003 (0.0003)  time: 0.6567  data: 0.0003  max mem: 7713\n",
      "Epoch: [3]  [490/701]  eta: 0:02:18  lr: 0.000500  loss: 0.0049 (0.0056)  loss_classifier: 0.0038 (0.0046)  loss_box_reg: 0.0005 (0.0007)  loss_objectness: 0.0000 (0.0000)  loss_rpn_box_reg: 0.0003 (0.0003)  time: 0.6605  data: 0.0002  max mem: 7713\n",
      "Epoch: [3]  [500/701]  eta: 0:02:12  lr: 0.000500  loss: 0.0054 (0.0056)  loss_classifier: 0.0042 (0.0046)  loss_box_reg: 0.0006 (0.0007)  loss_objectness: 0.0000 (0.0000)  loss_rpn_box_reg: 0.0003 (0.0003)  time: 0.6573  data: 0.0002  max mem: 7713\n",
      "Epoch: [3]  [510/701]  eta: 0:02:05  lr: 0.000500  loss: 0.0052 (0.0056)  loss_classifier: 0.0040 (0.0046)  loss_box_reg: 0.0006 (0.0007)  loss_objectness: 0.0000 (0.0000)  loss_rpn_box_reg: 0.0003 (0.0003)  time: 0.6568  data: 0.0002  max mem: 7713\n",
      "Epoch: [3]  [520/701]  eta: 0:01:58  lr: 0.000500  loss: 0.0038 (0.0056)  loss_classifier: 0.0032 (0.0045)  loss_box_reg: 0.0005 (0.0007)  loss_objectness: 0.0000 (0.0000)  loss_rpn_box_reg: 0.0002 (0.0003)  time: 0.6582  data: 0.0002  max mem: 7713\n",
      "Epoch: [3]  [530/701]  eta: 0:01:52  lr: 0.000500  loss: 0.0054 (0.0056)  loss_classifier: 0.0044 (0.0046)  loss_box_reg: 0.0005 (0.0007)  loss_objectness: 0.0000 (0.0000)  loss_rpn_box_reg: 0.0002 (0.0003)  time: 0.6542  data: 0.0003  max mem: 7713\n",
      "Epoch: [3]  [540/701]  eta: 0:01:45  lr: 0.000500  loss: 0.0055 (0.0056)  loss_classifier: 0.0045 (0.0045)  loss_box_reg: 0.0005 (0.0007)  loss_objectness: 0.0000 (0.0000)  loss_rpn_box_reg: 0.0003 (0.0003)  time: 0.6533  data: 0.0003  max mem: 7713\n",
      "Epoch: [3]  [550/701]  eta: 0:01:39  lr: 0.000500  loss: 0.0045 (0.0056)  loss_classifier: 0.0036 (0.0045)  loss_box_reg: 0.0005 (0.0007)  loss_objectness: 0.0000 (0.0000)  loss_rpn_box_reg: 0.0002 (0.0003)  time: 0.6558  data: 0.0002  max mem: 7713\n",
      "Epoch: [3]  [560/701]  eta: 0:01:32  lr: 0.000500  loss: 0.0047 (0.0056)  loss_classifier: 0.0036 (0.0045)  loss_box_reg: 0.0004 (0.0007)  loss_objectness: 0.0000 (0.0000)  loss_rpn_box_reg: 0.0002 (0.0003)  time: 0.6549  data: 0.0003  max mem: 7713\n"
     ]
    },
    {
     "name": "stdout",
     "output_type": "stream",
     "text": [
      "Epoch: [3]  [570/701]  eta: 0:01:26  lr: 0.000500  loss: 0.0052 (0.0056)  loss_classifier: 0.0041 (0.0045)  loss_box_reg: 0.0006 (0.0007)  loss_objectness: 0.0000 (0.0000)  loss_rpn_box_reg: 0.0003 (0.0003)  time: 0.6536  data: 0.0003  max mem: 7713\n",
      "Epoch: [3]  [580/701]  eta: 0:01:19  lr: 0.000500  loss: 0.0050 (0.0056)  loss_classifier: 0.0040 (0.0045)  loss_box_reg: 0.0006 (0.0007)  loss_objectness: 0.0000 (0.0000)  loss_rpn_box_reg: 0.0003 (0.0003)  time: 0.6578  data: 0.0002  max mem: 7713\n",
      "Epoch: [3]  [590/701]  eta: 0:01:12  lr: 0.000500  loss: 0.0046 (0.0056)  loss_classifier: 0.0038 (0.0045)  loss_box_reg: 0.0005 (0.0007)  loss_objectness: 0.0000 (0.0000)  loss_rpn_box_reg: 0.0003 (0.0003)  time: 0.6580  data: 0.0002  max mem: 7713\n",
      "Epoch: [3]  [600/701]  eta: 0:01:06  lr: 0.000500  loss: 0.0045 (0.0055)  loss_classifier: 0.0035 (0.0045)  loss_box_reg: 0.0005 (0.0007)  loss_objectness: 0.0000 (0.0000)  loss_rpn_box_reg: 0.0003 (0.0003)  time: 0.6546  data: 0.0003  max mem: 7713\n",
      "Epoch: [3]  [610/701]  eta: 0:00:59  lr: 0.000500  loss: 0.0038 (0.0055)  loss_classifier: 0.0031 (0.0045)  loss_box_reg: 0.0005 (0.0007)  loss_objectness: 0.0000 (0.0000)  loss_rpn_box_reg: 0.0002 (0.0003)  time: 0.6546  data: 0.0003  max mem: 7713\n",
      "Epoch: [3]  [620/701]  eta: 0:00:53  lr: 0.000500  loss: 0.0044 (0.0055)  loss_classifier: 0.0036 (0.0045)  loss_box_reg: 0.0005 (0.0007)  loss_objectness: 0.0000 (0.0000)  loss_rpn_box_reg: 0.0002 (0.0003)  time: 0.6542  data: 0.0002  max mem: 7713\n",
      "Epoch: [3]  [630/701]  eta: 0:00:46  lr: 0.000500  loss: 0.0042 (0.0055)  loss_classifier: 0.0036 (0.0045)  loss_box_reg: 0.0005 (0.0007)  loss_objectness: 0.0000 (0.0000)  loss_rpn_box_reg: 0.0002 (0.0003)  time: 0.6535  data: 0.0002  max mem: 7713\n",
      "Epoch: [3]  [640/701]  eta: 0:00:40  lr: 0.000500  loss: 0.0036 (0.0055)  loss_classifier: 0.0025 (0.0044)  loss_box_reg: 0.0004 (0.0007)  loss_objectness: 0.0000 (0.0000)  loss_rpn_box_reg: 0.0002 (0.0003)  time: 0.6532  data: 0.0002  max mem: 7713\n",
      "Epoch: [3]  [650/701]  eta: 0:00:33  lr: 0.000500  loss: 0.0035 (0.0055)  loss_classifier: 0.0026 (0.0044)  loss_box_reg: 0.0004 (0.0007)  loss_objectness: 0.0000 (0.0000)  loss_rpn_box_reg: 0.0002 (0.0003)  time: 0.6569  data: 0.0003  max mem: 7713\n",
      "Epoch: [3]  [660/701]  eta: 0:00:26  lr: 0.000500  loss: 0.0034 (0.0054)  loss_classifier: 0.0026 (0.0044)  loss_box_reg: 0.0005 (0.0007)  loss_objectness: 0.0000 (0.0000)  loss_rpn_box_reg: 0.0003 (0.0003)  time: 0.6588  data: 0.0003  max mem: 7713\n",
      "Epoch: [3]  [670/701]  eta: 0:00:20  lr: 0.000500  loss: 0.0034 (0.0054)  loss_classifier: 0.0026 (0.0044)  loss_box_reg: 0.0005 (0.0007)  loss_objectness: 0.0000 (0.0000)  loss_rpn_box_reg: 0.0002 (0.0003)  time: 0.6542  data: 0.0002  max mem: 7713\n",
      "Epoch: [3]  [680/701]  eta: 0:00:13  lr: 0.000500  loss: 0.0037 (0.0054)  loss_classifier: 0.0030 (0.0044)  loss_box_reg: 0.0005 (0.0007)  loss_objectness: 0.0000 (0.0000)  loss_rpn_box_reg: 0.0002 (0.0003)  time: 0.6521  data: 0.0003  max mem: 7713\n",
      "Epoch: [3]  [690/701]  eta: 0:00:07  lr: 0.000500  loss: 0.0060 (0.0054)  loss_classifier: 0.0048 (0.0044)  loss_box_reg: 0.0006 (0.0007)  loss_objectness: 0.0000 (0.0000)  loss_rpn_box_reg: 0.0003 (0.0003)  time: 0.6561  data: 0.0003  max mem: 7713\n",
      "Epoch: [3]  [700/701]  eta: 0:00:00  lr: 0.000500  loss: 0.0046 (0.0054)  loss_classifier: 0.0035 (0.0044)  loss_box_reg: 0.0006 (0.0007)  loss_objectness: 0.0000 (0.0000)  loss_rpn_box_reg: 0.0003 (0.0003)  time: 0.6491  data: 0.0002  max mem: 7713\n",
      "Epoch: [3] Total time: 0:07:40 (0.6568 s / it)\n",
      "creating index...\n",
      "index created!\n",
      "Test:  [  0/604]  eta: 0:08:08  model_time: 0.3087 (0.3087)  evaluator_time: 0.0091 (0.0091)  time: 0.8086  data: 0.4841  max mem: 7713\n",
      "Test:  [100/604]  eta: 0:02:27  model_time: 0.2778 (0.2788)  evaluator_time: 0.0036 (0.0039)  time: 0.2864  data: 0.0002  max mem: 7713\n",
      "Test:  [200/604]  eta: 0:01:57  model_time: 0.2779 (0.2784)  evaluator_time: 0.0048 (0.0039)  time: 0.2887  data: 0.0002  max mem: 7713\n",
      "Test:  [300/604]  eta: 0:01:27  model_time: 0.2779 (0.2783)  evaluator_time: 0.0047 (0.0042)  time: 0.2886  data: 0.0002  max mem: 7713\n",
      "Test:  [400/604]  eta: 0:00:58  model_time: 0.2779 (0.2783)  evaluator_time: 0.0048 (0.0044)  time: 0.2892  data: 0.0002  max mem: 7713\n",
      "Test:  [500/604]  eta: 0:00:30  model_time: 0.2780 (0.2783)  evaluator_time: 0.0061 (0.0047)  time: 0.2890  data: 0.0002  max mem: 7713\n",
      "Test:  [600/604]  eta: 0:00:01  model_time: 0.2778 (0.2783)  evaluator_time: 0.0037 (0.0048)  time: 0.2891  data: 0.0002  max mem: 7713\n",
      "Test:  [603/604]  eta: 0:00:00  model_time: 0.2778 (0.2782)  evaluator_time: 0.0035 (0.0047)  time: 0.2850  data: 0.0002  max mem: 7713\n",
      "Test: Total time: 0:02:54 (0.2891 s / it)\n",
      "Averaged stats: model_time: 0.2778 (0.2782)  evaluator_time: 0.0035 (0.0047)\n",
      "Accumulating evaluation results...\n",
      "DONE (t=0.31s).\n",
      "IoU metric: bbox\n",
      " Average Precision  (AP) @[ IoU=0.50:0.95 | area=   all | maxDets=100 ] = 0.248\n",
      " Average Precision  (AP) @[ IoU=0.50      | area=   all | maxDets=100 ] = 0.979\n",
      " Average Precision  (AP) @[ IoU=0.75      | area=   all | maxDets=100 ] = 0.044\n",
      " Average Precision  (AP) @[ IoU=0.50:0.95 | area= small | maxDets=100 ] = -1.000\n",
      " Average Precision  (AP) @[ IoU=0.50:0.95 | area=medium | maxDets=100 ] = 0.251\n",
      " Average Precision  (AP) @[ IoU=0.50:0.95 | area= large | maxDets=100 ] = -1.000\n",
      " Average Recall     (AR) @[ IoU=0.50:0.95 | area=   all | maxDets=  1 ] = 0.187\n",
      " Average Recall     (AR) @[ IoU=0.50:0.95 | area=   all | maxDets= 10 ] = 0.343\n",
      " Average Recall     (AR) @[ IoU=0.50:0.95 | area=   all | maxDets=100 ] = 0.343\n",
      " Average Recall     (AR) @[ IoU=0.50:0.95 | area= small | maxDets=100 ] = -1.000\n",
      " Average Recall     (AR) @[ IoU=0.50:0.95 | area=medium | maxDets=100 ] = 0.343\n",
      " Average Recall     (AR) @[ IoU=0.50:0.95 | area= large | maxDets=100 ] = -1.000\n",
      "Epoch: [4]  [  0/701]  eta: 0:15:14  lr: 0.000500  loss: 0.0018 (0.0018)  loss_classifier: 0.0014 (0.0014)  loss_box_reg: 0.0003 (0.0003)  loss_objectness: 0.0000 (0.0000)  loss_rpn_box_reg: 0.0001 (0.0001)  time: 1.3046  data: 0.6035  max mem: 7713\n",
      "Epoch: [4]  [ 10/701]  eta: 0:08:16  lr: 0.000500  loss: 0.0047 (0.0045)  loss_classifier: 0.0041 (0.0036)  loss_box_reg: 0.0004 (0.0006)  loss_objectness: 0.0000 (0.0000)  loss_rpn_box_reg: 0.0002 (0.0003)  time: 0.7191  data: 0.0552  max mem: 7713\n",
      "Epoch: [4]  [ 20/701]  eta: 0:07:51  lr: 0.000500  loss: 0.0047 (0.0049)  loss_classifier: 0.0039 (0.0040)  loss_box_reg: 0.0005 (0.0006)  loss_objectness: 0.0000 (0.0000)  loss_rpn_box_reg: 0.0002 (0.0003)  time: 0.6616  data: 0.0003  max mem: 7713\n",
      "Epoch: [4]  [ 30/701]  eta: 0:07:36  lr: 0.000500  loss: 0.0046 (0.0048)  loss_classifier: 0.0038 (0.0039)  loss_box_reg: 0.0005 (0.0006)  loss_objectness: 0.0000 (0.0000)  loss_rpn_box_reg: 0.0002 (0.0003)  time: 0.6580  data: 0.0002  max mem: 7713\n",
      "Epoch: [4]  [ 40/701]  eta: 0:07:24  lr: 0.000500  loss: 0.0046 (0.0049)  loss_classifier: 0.0038 (0.0039)  loss_box_reg: 0.0006 (0.0006)  loss_objectness: 0.0000 (0.0000)  loss_rpn_box_reg: 0.0003 (0.0003)  time: 0.6521  data: 0.0002  max mem: 7713\n",
      "Epoch: [4]  [ 50/701]  eta: 0:07:16  lr: 0.000500  loss: 0.0053 (0.0050)  loss_classifier: 0.0039 (0.0040)  loss_box_reg: 0.0006 (0.0006)  loss_objectness: 0.0000 (0.0000)  loss_rpn_box_reg: 0.0003 (0.0003)  time: 0.6567  data: 0.0002  max mem: 7713\n",
      "Epoch: [4]  [ 60/701]  eta: 0:07:08  lr: 0.000500  loss: 0.0048 (0.0050)  loss_classifier: 0.0041 (0.0041)  loss_box_reg: 0.0005 (0.0006)  loss_objectness: 0.0000 (0.0000)  loss_rpn_box_reg: 0.0003 (0.0003)  time: 0.6592  data: 0.0002  max mem: 7713\n",
      "Epoch: [4]  [ 70/701]  eta: 0:07:01  lr: 0.000500  loss: 0.0055 (0.0051)  loss_classifier: 0.0048 (0.0042)  loss_box_reg: 0.0005 (0.0006)  loss_objectness: 0.0000 (0.0000)  loss_rpn_box_reg: 0.0003 (0.0003)  time: 0.6592  data: 0.0002  max mem: 7713\n",
      "Epoch: [4]  [ 80/701]  eta: 0:06:53  lr: 0.000500  loss: 0.0052 (0.0050)  loss_classifier: 0.0041 (0.0041)  loss_box_reg: 0.0005 (0.0006)  loss_objectness: 0.0000 (0.0000)  loss_rpn_box_reg: 0.0003 (0.0003)  time: 0.6610  data: 0.0002  max mem: 7713\n",
      "Epoch: [4]  [ 90/701]  eta: 0:06:46  lr: 0.000500  loss: 0.0039 (0.0049)  loss_classifier: 0.0032 (0.0040)  loss_box_reg: 0.0005 (0.0006)  loss_objectness: 0.0000 (0.0000)  loss_rpn_box_reg: 0.0003 (0.0003)  time: 0.6587  data: 0.0002  max mem: 7713\n"
     ]
    },
    {
     "name": "stdout",
     "output_type": "stream",
     "text": [
      "Epoch: [4]  [100/701]  eta: 0:06:39  lr: 0.000500  loss: 0.0039 (0.0051)  loss_classifier: 0.0032 (0.0040)  loss_box_reg: 0.0005 (0.0007)  loss_objectness: 0.0000 (0.0000)  loss_rpn_box_reg: 0.0003 (0.0003)  time: 0.6573  data: 0.0002  max mem: 7713\n",
      "Epoch: [4]  [110/701]  eta: 0:06:32  lr: 0.000500  loss: 0.0038 (0.0050)  loss_classifier: 0.0034 (0.0040)  loss_box_reg: 0.0005 (0.0007)  loss_objectness: 0.0000 (0.0000)  loss_rpn_box_reg: 0.0003 (0.0003)  time: 0.6549  data: 0.0002  max mem: 7713\n",
      "Epoch: [4]  [120/701]  eta: 0:06:25  lr: 0.000500  loss: 0.0036 (0.0048)  loss_classifier: 0.0030 (0.0038)  loss_box_reg: 0.0004 (0.0007)  loss_objectness: 0.0000 (0.0000)  loss_rpn_box_reg: 0.0002 (0.0003)  time: 0.6574  data: 0.0002  max mem: 7713\n",
      "Epoch: [4]  [130/701]  eta: 0:06:18  lr: 0.000500  loss: 0.0032 (0.0049)  loss_classifier: 0.0027 (0.0039)  loss_box_reg: 0.0005 (0.0007)  loss_objectness: 0.0000 (0.0000)  loss_rpn_box_reg: 0.0002 (0.0003)  time: 0.6569  data: 0.0002  max mem: 7713\n",
      "Epoch: [4]  [140/701]  eta: 0:06:11  lr: 0.000500  loss: 0.0039 (0.0049)  loss_classifier: 0.0032 (0.0039)  loss_box_reg: 0.0004 (0.0007)  loss_objectness: 0.0000 (0.0000)  loss_rpn_box_reg: 0.0002 (0.0003)  time: 0.6537  data: 0.0002  max mem: 7713\n",
      "Epoch: [4]  [150/701]  eta: 0:06:04  lr: 0.000500  loss: 0.0039 (0.0050)  loss_classifier: 0.0032 (0.0040)  loss_box_reg: 0.0005 (0.0007)  loss_objectness: 0.0000 (0.0000)  loss_rpn_box_reg: 0.0002 (0.0003)  time: 0.6560  data: 0.0002  max mem: 7713\n",
      "Epoch: [4]  [160/701]  eta: 0:05:57  lr: 0.000500  loss: 0.0040 (0.0049)  loss_classifier: 0.0033 (0.0039)  loss_box_reg: 0.0005 (0.0007)  loss_objectness: 0.0000 (0.0000)  loss_rpn_box_reg: 0.0002 (0.0003)  time: 0.6580  data: 0.0002  max mem: 7713\n",
      "Epoch: [4]  [170/701]  eta: 0:05:50  lr: 0.000500  loss: 0.0039 (0.0050)  loss_classifier: 0.0033 (0.0040)  loss_box_reg: 0.0004 (0.0007)  loss_objectness: 0.0000 (0.0000)  loss_rpn_box_reg: 0.0002 (0.0003)  time: 0.6549  data: 0.0002  max mem: 7713\n",
      "Epoch: [4]  [180/701]  eta: 0:05:44  lr: 0.000500  loss: 0.0040 (0.0050)  loss_classifier: 0.0034 (0.0040)  loss_box_reg: 0.0005 (0.0007)  loss_objectness: 0.0000 (0.0000)  loss_rpn_box_reg: 0.0002 (0.0003)  time: 0.6524  data: 0.0002  max mem: 7713\n",
      "Epoch: [4]  [190/701]  eta: 0:05:37  lr: 0.000500  loss: 0.0040 (0.0049)  loss_classifier: 0.0033 (0.0039)  loss_box_reg: 0.0004 (0.0007)  loss_objectness: 0.0000 (0.0000)  loss_rpn_box_reg: 0.0002 (0.0003)  time: 0.6551  data: 0.0003  max mem: 7713\n",
      "Epoch: [4]  [200/701]  eta: 0:05:30  lr: 0.000500  loss: 0.0040 (0.0049)  loss_classifier: 0.0033 (0.0039)  loss_box_reg: 0.0004 (0.0007)  loss_objectness: 0.0000 (0.0000)  loss_rpn_box_reg: 0.0002 (0.0003)  time: 0.6558  data: 0.0003  max mem: 7713\n",
      "Epoch: [4]  [210/701]  eta: 0:05:23  lr: 0.000500  loss: 0.0048 (0.0049)  loss_classifier: 0.0036 (0.0039)  loss_box_reg: 0.0005 (0.0007)  loss_objectness: 0.0000 (0.0000)  loss_rpn_box_reg: 0.0002 (0.0003)  time: 0.6544  data: 0.0003  max mem: 7713\n",
      "Epoch: [4]  [220/701]  eta: 0:05:17  lr: 0.000500  loss: 0.0047 (0.0049)  loss_classifier: 0.0037 (0.0039)  loss_box_reg: 0.0006 (0.0007)  loss_objectness: 0.0000 (0.0000)  loss_rpn_box_reg: 0.0003 (0.0003)  time: 0.6541  data: 0.0003  max mem: 7713\n",
      "Epoch: [4]  [230/701]  eta: 0:05:10  lr: 0.000500  loss: 0.0046 (0.0049)  loss_classifier: 0.0036 (0.0039)  loss_box_reg: 0.0006 (0.0007)  loss_objectness: 0.0000 (0.0000)  loss_rpn_box_reg: 0.0003 (0.0003)  time: 0.6556  data: 0.0003  max mem: 7713\n",
      "Epoch: [4]  [240/701]  eta: 0:05:03  lr: 0.000500  loss: 0.0046 (0.0049)  loss_classifier: 0.0036 (0.0040)  loss_box_reg: 0.0005 (0.0007)  loss_objectness: 0.0000 (0.0000)  loss_rpn_box_reg: 0.0003 (0.0003)  time: 0.6547  data: 0.0002  max mem: 7713\n",
      "Epoch: [4]  [250/701]  eta: 0:04:57  lr: 0.000500  loss: 0.0047 (0.0049)  loss_classifier: 0.0037 (0.0039)  loss_box_reg: 0.0005 (0.0006)  loss_objectness: 0.0000 (0.0000)  loss_rpn_box_reg: 0.0003 (0.0003)  time: 0.6539  data: 0.0002  max mem: 7713\n",
      "Epoch: [4]  [260/701]  eta: 0:04:50  lr: 0.000500  loss: 0.0044 (0.0049)  loss_classifier: 0.0034 (0.0040)  loss_box_reg: 0.0005 (0.0006)  loss_objectness: 0.0000 (0.0000)  loss_rpn_box_reg: 0.0003 (0.0003)  time: 0.6541  data: 0.0002  max mem: 7713\n",
      "Epoch: [4]  [270/701]  eta: 0:04:43  lr: 0.000500  loss: 0.0028 (0.0049)  loss_classifier: 0.0022 (0.0039)  loss_box_reg: 0.0005 (0.0006)  loss_objectness: 0.0000 (0.0000)  loss_rpn_box_reg: 0.0002 (0.0003)  time: 0.6566  data: 0.0002  max mem: 7713\n",
      "Epoch: [4]  [280/701]  eta: 0:04:37  lr: 0.000500  loss: 0.0037 (0.0048)  loss_classifier: 0.0029 (0.0039)  loss_box_reg: 0.0005 (0.0006)  loss_objectness: 0.0000 (0.0000)  loss_rpn_box_reg: 0.0002 (0.0003)  time: 0.6556  data: 0.0002  max mem: 7713\n",
      "Epoch: [4]  [290/701]  eta: 0:04:30  lr: 0.000500  loss: 0.0044 (0.0049)  loss_classifier: 0.0035 (0.0039)  loss_box_reg: 0.0005 (0.0006)  loss_objectness: 0.0000 (0.0000)  loss_rpn_box_reg: 0.0003 (0.0003)  time: 0.6539  data: 0.0003  max mem: 7713\n",
      "Epoch: [4]  [300/701]  eta: 0:04:23  lr: 0.000500  loss: 0.0043 (0.0049)  loss_classifier: 0.0033 (0.0039)  loss_box_reg: 0.0007 (0.0006)  loss_objectness: 0.0000 (0.0000)  loss_rpn_box_reg: 0.0004 (0.0003)  time: 0.6538  data: 0.0002  max mem: 7713\n",
      "Epoch: [4]  [310/701]  eta: 0:04:17  lr: 0.000500  loss: 0.0041 (0.0049)  loss_classifier: 0.0032 (0.0039)  loss_box_reg: 0.0006 (0.0006)  loss_objectness: 0.0000 (0.0000)  loss_rpn_box_reg: 0.0003 (0.0003)  time: 0.6502  data: 0.0002  max mem: 7713\n",
      "Epoch: [4]  [320/701]  eta: 0:04:10  lr: 0.000500  loss: 0.0039 (0.0048)  loss_classifier: 0.0030 (0.0039)  loss_box_reg: 0.0005 (0.0006)  loss_objectness: 0.0000 (0.0000)  loss_rpn_box_reg: 0.0002 (0.0003)  time: 0.6502  data: 0.0003  max mem: 7713\n",
      "Epoch: [4]  [330/701]  eta: 0:04:03  lr: 0.000500  loss: 0.0037 (0.0048)  loss_classifier: 0.0030 (0.0038)  loss_box_reg: 0.0005 (0.0006)  loss_objectness: 0.0000 (0.0000)  loss_rpn_box_reg: 0.0002 (0.0003)  time: 0.6516  data: 0.0002  max mem: 7713\n",
      "Epoch: [4]  [340/701]  eta: 0:03:57  lr: 0.000500  loss: 0.0037 (0.0048)  loss_classifier: 0.0031 (0.0038)  loss_box_reg: 0.0005 (0.0006)  loss_objectness: 0.0000 (0.0000)  loss_rpn_box_reg: 0.0002 (0.0003)  time: 0.6519  data: 0.0002  max mem: 7713\n",
      "Epoch: [4]  [350/701]  eta: 0:03:50  lr: 0.000500  loss: 0.0039 (0.0048)  loss_classifier: 0.0032 (0.0038)  loss_box_reg: 0.0005 (0.0006)  loss_objectness: 0.0000 (0.0000)  loss_rpn_box_reg: 0.0002 (0.0003)  time: 0.6533  data: 0.0002  max mem: 7713\n",
      "Epoch: [4]  [360/701]  eta: 0:03:44  lr: 0.000500  loss: 0.0039 (0.0048)  loss_classifier: 0.0032 (0.0038)  loss_box_reg: 0.0005 (0.0006)  loss_objectness: 0.0000 (0.0000)  loss_rpn_box_reg: 0.0002 (0.0003)  time: 0.6557  data: 0.0003  max mem: 7713\n",
      "Epoch: [4]  [370/701]  eta: 0:03:37  lr: 0.000500  loss: 0.0036 (0.0048)  loss_classifier: 0.0028 (0.0038)  loss_box_reg: 0.0006 (0.0006)  loss_objectness: 0.0000 (0.0000)  loss_rpn_box_reg: 0.0002 (0.0003)  time: 0.6561  data: 0.0003  max mem: 7713\n",
      "Epoch: [4]  [380/701]  eta: 0:03:30  lr: 0.000500  loss: 0.0039 (0.0048)  loss_classifier: 0.0032 (0.0038)  loss_box_reg: 0.0005 (0.0006)  loss_objectness: 0.0000 (0.0000)  loss_rpn_box_reg: 0.0002 (0.0003)  time: 0.6546  data: 0.0002  max mem: 7713\n",
      "Epoch: [4]  [390/701]  eta: 0:03:24  lr: 0.000500  loss: 0.0046 (0.0048)  loss_classifier: 0.0037 (0.0038)  loss_box_reg: 0.0005 (0.0006)  loss_objectness: 0.0000 (0.0000)  loss_rpn_box_reg: 0.0002 (0.0003)  time: 0.6565  data: 0.0002  max mem: 7713\n",
      "Epoch: [4]  [400/701]  eta: 0:03:17  lr: 0.000500  loss: 0.0041 (0.0047)  loss_classifier: 0.0033 (0.0038)  loss_box_reg: 0.0005 (0.0006)  loss_objectness: 0.0000 (0.0000)  loss_rpn_box_reg: 0.0003 (0.0003)  time: 0.6582  data: 0.0002  max mem: 7713\n",
      "Epoch: [4]  [410/701]  eta: 0:03:11  lr: 0.000500  loss: 0.0036 (0.0047)  loss_classifier: 0.0029 (0.0038)  loss_box_reg: 0.0004 (0.0006)  loss_objectness: 0.0000 (0.0000)  loss_rpn_box_reg: 0.0002 (0.0003)  time: 0.6554  data: 0.0002  max mem: 7713\n",
      "Epoch: [4]  [420/701]  eta: 0:03:04  lr: 0.000500  loss: 0.0036 (0.0047)  loss_classifier: 0.0031 (0.0038)  loss_box_reg: 0.0005 (0.0006)  loss_objectness: 0.0000 (0.0000)  loss_rpn_box_reg: 0.0002 (0.0003)  time: 0.6543  data: 0.0002  max mem: 7713\n"
     ]
    },
    {
     "name": "stdout",
     "output_type": "stream",
     "text": [
      "Epoch: [4]  [430/701]  eta: 0:02:58  lr: 0.000500  loss: 0.0036 (0.0047)  loss_classifier: 0.0028 (0.0038)  loss_box_reg: 0.0006 (0.0006)  loss_objectness: 0.0000 (0.0000)  loss_rpn_box_reg: 0.0003 (0.0003)  time: 0.6536  data: 0.0002  max mem: 7713\n",
      "Epoch: [4]  [440/701]  eta: 0:02:51  lr: 0.000500  loss: 0.0032 (0.0047)  loss_classifier: 0.0026 (0.0038)  loss_box_reg: 0.0005 (0.0006)  loss_objectness: 0.0000 (0.0000)  loss_rpn_box_reg: 0.0002 (0.0003)  time: 0.6523  data: 0.0002  max mem: 7713\n",
      "Epoch: [4]  [450/701]  eta: 0:02:44  lr: 0.000500  loss: 0.0037 (0.0047)  loss_classifier: 0.0031 (0.0038)  loss_box_reg: 0.0004 (0.0006)  loss_objectness: 0.0000 (0.0000)  loss_rpn_box_reg: 0.0002 (0.0003)  time: 0.6534  data: 0.0002  max mem: 7713\n",
      "Epoch: [4]  [460/701]  eta: 0:02:38  lr: 0.000500  loss: 0.0043 (0.0047)  loss_classifier: 0.0033 (0.0038)  loss_box_reg: 0.0006 (0.0006)  loss_objectness: 0.0000 (0.0000)  loss_rpn_box_reg: 0.0003 (0.0003)  time: 0.6555  data: 0.0003  max mem: 7713\n",
      "Epoch: [4]  [470/701]  eta: 0:02:31  lr: 0.000500  loss: 0.0039 (0.0047)  loss_classifier: 0.0031 (0.0037)  loss_box_reg: 0.0005 (0.0006)  loss_objectness: 0.0000 (0.0000)  loss_rpn_box_reg: 0.0002 (0.0003)  time: 0.6560  data: 0.0003  max mem: 7713\n",
      "Epoch: [4]  [480/701]  eta: 0:02:25  lr: 0.000500  loss: 0.0039 (0.0047)  loss_classifier: 0.0030 (0.0037)  loss_box_reg: 0.0005 (0.0006)  loss_objectness: 0.0000 (0.0000)  loss_rpn_box_reg: 0.0002 (0.0003)  time: 0.6557  data: 0.0002  max mem: 7713\n",
      "Epoch: [4]  [490/701]  eta: 0:02:18  lr: 0.000500  loss: 0.0043 (0.0047)  loss_classifier: 0.0036 (0.0038)  loss_box_reg: 0.0005 (0.0006)  loss_objectness: 0.0000 (0.0000)  loss_rpn_box_reg: 0.0003 (0.0003)  time: 0.6544  data: 0.0002  max mem: 7713\n",
      "Epoch: [4]  [500/701]  eta: 0:02:11  lr: 0.000500  loss: 0.0046 (0.0047)  loss_classifier: 0.0028 (0.0038)  loss_box_reg: 0.0005 (0.0006)  loss_objectness: 0.0000 (0.0000)  loss_rpn_box_reg: 0.0003 (0.0003)  time: 0.6518  data: 0.0002  max mem: 7713\n",
      "Epoch: [4]  [510/701]  eta: 0:02:05  lr: 0.000500  loss: 0.0044 (0.0047)  loss_classifier: 0.0028 (0.0038)  loss_box_reg: 0.0005 (0.0006)  loss_objectness: 0.0000 (0.0000)  loss_rpn_box_reg: 0.0002 (0.0003)  time: 0.6524  data: 0.0002  max mem: 7713\n",
      "Epoch: [4]  [520/701]  eta: 0:01:58  lr: 0.000500  loss: 0.0035 (0.0047)  loss_classifier: 0.0028 (0.0037)  loss_box_reg: 0.0005 (0.0006)  loss_objectness: 0.0000 (0.0000)  loss_rpn_box_reg: 0.0002 (0.0003)  time: 0.6564  data: 0.0002  max mem: 7713\n",
      "Epoch: [4]  [530/701]  eta: 0:01:52  lr: 0.000500  loss: 0.0037 (0.0047)  loss_classifier: 0.0029 (0.0038)  loss_box_reg: 0.0005 (0.0006)  loss_objectness: 0.0000 (0.0000)  loss_rpn_box_reg: 0.0003 (0.0003)  time: 0.6571  data: 0.0002  max mem: 7713\n",
      "Epoch: [4]  [540/701]  eta: 0:01:45  lr: 0.000500  loss: 0.0043 (0.0047)  loss_classifier: 0.0035 (0.0038)  loss_box_reg: 0.0004 (0.0006)  loss_objectness: 0.0000 (0.0000)  loss_rpn_box_reg: 0.0002 (0.0003)  time: 0.6556  data: 0.0002  max mem: 7713\n",
      "Epoch: [4]  [550/701]  eta: 0:01:39  lr: 0.000500  loss: 0.0039 (0.0047)  loss_classifier: 0.0031 (0.0038)  loss_box_reg: 0.0005 (0.0006)  loss_objectness: 0.0000 (0.0000)  loss_rpn_box_reg: 0.0002 (0.0003)  time: 0.6546  data: 0.0003  max mem: 7713\n",
      "Epoch: [4]  [560/701]  eta: 0:01:32  lr: 0.000500  loss: 0.0039 (0.0047)  loss_classifier: 0.0032 (0.0037)  loss_box_reg: 0.0005 (0.0006)  loss_objectness: 0.0000 (0.0000)  loss_rpn_box_reg: 0.0002 (0.0003)  time: 0.6542  data: 0.0003  max mem: 7713\n",
      "Epoch: [4]  [570/701]  eta: 0:01:25  lr: 0.000500  loss: 0.0044 (0.0047)  loss_classifier: 0.0036 (0.0038)  loss_box_reg: 0.0005 (0.0006)  loss_objectness: 0.0000 (0.0000)  loss_rpn_box_reg: 0.0002 (0.0003)  time: 0.6545  data: 0.0002  max mem: 7713\n",
      "Epoch: [4]  [580/701]  eta: 0:01:19  lr: 0.000500  loss: 0.0044 (0.0047)  loss_classifier: 0.0036 (0.0038)  loss_box_reg: 0.0005 (0.0006)  loss_objectness: 0.0000 (0.0000)  loss_rpn_box_reg: 0.0002 (0.0003)  time: 0.6553  data: 0.0003  max mem: 7713\n",
      "Epoch: [4]  [590/701]  eta: 0:01:12  lr: 0.000500  loss: 0.0035 (0.0047)  loss_classifier: 0.0028 (0.0037)  loss_box_reg: 0.0005 (0.0006)  loss_objectness: 0.0000 (0.0000)  loss_rpn_box_reg: 0.0002 (0.0003)  time: 0.6539  data: 0.0003  max mem: 7713\n",
      "Epoch: [4]  [600/701]  eta: 0:01:06  lr: 0.000500  loss: 0.0038 (0.0047)  loss_classifier: 0.0031 (0.0037)  loss_box_reg: 0.0005 (0.0006)  loss_objectness: 0.0000 (0.0000)  loss_rpn_box_reg: 0.0002 (0.0003)  time: 0.6525  data: 0.0003  max mem: 7713\n",
      "Epoch: [4]  [610/701]  eta: 0:00:59  lr: 0.000500  loss: 0.0038 (0.0047)  loss_classifier: 0.0031 (0.0037)  loss_box_reg: 0.0005 (0.0006)  loss_objectness: 0.0000 (0.0000)  loss_rpn_box_reg: 0.0002 (0.0003)  time: 0.6530  data: 0.0003  max mem: 7713\n",
      "Epoch: [4]  [620/701]  eta: 0:00:53  lr: 0.000500  loss: 0.0035 (0.0047)  loss_classifier: 0.0027 (0.0037)  loss_box_reg: 0.0005 (0.0006)  loss_objectness: 0.0000 (0.0000)  loss_rpn_box_reg: 0.0002 (0.0003)  time: 0.6554  data: 0.0004  max mem: 7713\n",
      "Epoch: [4]  [630/701]  eta: 0:00:46  lr: 0.000500  loss: 0.0030 (0.0046)  loss_classifier: 0.0023 (0.0037)  loss_box_reg: 0.0005 (0.0006)  loss_objectness: 0.0000 (0.0000)  loss_rpn_box_reg: 0.0002 (0.0003)  time: 0.6572  data: 0.0004  max mem: 7713\n",
      "Epoch: [4]  [640/701]  eta: 0:00:40  lr: 0.000500  loss: 0.0027 (0.0046)  loss_classifier: 0.0021 (0.0037)  loss_box_reg: 0.0005 (0.0006)  loss_objectness: 0.0000 (0.0000)  loss_rpn_box_reg: 0.0002 (0.0003)  time: 0.6546  data: 0.0003  max mem: 7713\n",
      "Epoch: [4]  [650/701]  eta: 0:00:33  lr: 0.000500  loss: 0.0033 (0.0046)  loss_classifier: 0.0026 (0.0037)  loss_box_reg: 0.0005 (0.0006)  loss_objectness: 0.0000 (0.0000)  loss_rpn_box_reg: 0.0003 (0.0003)  time: 0.6520  data: 0.0003  max mem: 7713\n",
      "Epoch: [4]  [660/701]  eta: 0:00:26  lr: 0.000500  loss: 0.0031 (0.0046)  loss_classifier: 0.0026 (0.0037)  loss_box_reg: 0.0003 (0.0006)  loss_objectness: 0.0000 (0.0000)  loss_rpn_box_reg: 0.0002 (0.0003)  time: 0.6562  data: 0.0003  max mem: 7713\n",
      "Epoch: [4]  [670/701]  eta: 0:00:20  lr: 0.000500  loss: 0.0025 (0.0046)  loss_classifier: 0.0021 (0.0036)  loss_box_reg: 0.0003 (0.0006)  loss_objectness: 0.0000 (0.0000)  loss_rpn_box_reg: 0.0002 (0.0003)  time: 0.6603  data: 0.0003  max mem: 7713\n",
      "Epoch: [4]  [680/701]  eta: 0:00:13  lr: 0.000500  loss: 0.0030 (0.0046)  loss_classifier: 0.0022 (0.0036)  loss_box_reg: 0.0004 (0.0006)  loss_objectness: 0.0000 (0.0000)  loss_rpn_box_reg: 0.0002 (0.0003)  time: 0.6547  data: 0.0002  max mem: 7713\n",
      "Epoch: [4]  [690/701]  eta: 0:00:07  lr: 0.000500  loss: 0.0031 (0.0046)  loss_classifier: 0.0025 (0.0036)  loss_box_reg: 0.0005 (0.0006)  loss_objectness: 0.0000 (0.0000)  loss_rpn_box_reg: 0.0002 (0.0003)  time: 0.6544  data: 0.0002  max mem: 7713\n",
      "Epoch: [4]  [700/701]  eta: 0:00:00  lr: 0.000500  loss: 0.0039 (0.0046)  loss_classifier: 0.0031 (0.0036)  loss_box_reg: 0.0005 (0.0006)  loss_objectness: 0.0000 (0.0000)  loss_rpn_box_reg: 0.0002 (0.0003)  time: 0.6516  data: 0.0002  max mem: 7713\n",
      "Epoch: [4] Total time: 0:07:40 (0.6563 s / it)\n",
      "creating index...\n",
      "index created!\n",
      "Test:  [  0/604]  eta: 0:08:19  model_time: 0.3012 (0.3012)  evaluator_time: 0.0082 (0.0082)  time: 0.8274  data: 0.5111  max mem: 7713\n",
      "Test:  [100/604]  eta: 0:02:28  model_time: 0.2764 (0.2802)  evaluator_time: 0.0027 (0.0033)  time: 0.2876  data: 0.0002  max mem: 7713\n",
      "Test:  [200/604]  eta: 0:01:57  model_time: 0.2779 (0.2797)  evaluator_time: 0.0035 (0.0034)  time: 0.2894  data: 0.0001  max mem: 7713\n",
      "Test:  [300/604]  eta: 0:01:28  model_time: 0.2778 (0.2797)  evaluator_time: 0.0047 (0.0037)  time: 0.2889  data: 0.0002  max mem: 7713\n",
      "Test:  [400/604]  eta: 0:00:59  model_time: 0.2782 (0.2799)  evaluator_time: 0.0046 (0.0039)  time: 0.2898  data: 0.0002  max mem: 7713\n",
      "Test:  [500/604]  eta: 0:00:30  model_time: 0.2766 (0.2796)  evaluator_time: 0.0041 (0.0041)  time: 0.2927  data: 0.0001  max mem: 7713\n",
      "Test:  [600/604]  eta: 0:00:01  model_time: 0.2778 (0.2799)  evaluator_time: 0.0035 (0.0042)  time: 0.2871  data: 0.0002  max mem: 7713\n",
      "Test:  [603/604]  eta: 0:00:00  model_time: 0.2767 (0.2798)  evaluator_time: 0.0027 (0.0041)  time: 0.2829  data: 0.0001  max mem: 7713\n",
      "Test: Total time: 0:02:55 (0.2907 s / it)\n",
      "Averaged stats: model_time: 0.2767 (0.2798)  evaluator_time: 0.0027 (0.0041)\n",
      "Accumulating evaluation results...\n"
     ]
    },
    {
     "name": "stdout",
     "output_type": "stream",
     "text": [
      "DONE (t=0.22s).\n",
      "IoU metric: bbox\n",
      " Average Precision  (AP) @[ IoU=0.50:0.95 | area=   all | maxDets=100 ] = 0.259\n",
      " Average Precision  (AP) @[ IoU=0.50      | area=   all | maxDets=100 ] = 0.989\n",
      " Average Precision  (AP) @[ IoU=0.75      | area=   all | maxDets=100 ] = 0.038\n",
      " Average Precision  (AP) @[ IoU=0.50:0.95 | area= small | maxDets=100 ] = -1.000\n",
      " Average Precision  (AP) @[ IoU=0.50:0.95 | area=medium | maxDets=100 ] = 0.264\n",
      " Average Precision  (AP) @[ IoU=0.50:0.95 | area= large | maxDets=100 ] = -1.000\n",
      " Average Recall     (AR) @[ IoU=0.50:0.95 | area=   all | maxDets=  1 ] = 0.183\n",
      " Average Recall     (AR) @[ IoU=0.50:0.95 | area=   all | maxDets= 10 ] = 0.355\n",
      " Average Recall     (AR) @[ IoU=0.50:0.95 | area=   all | maxDets=100 ] = 0.355\n",
      " Average Recall     (AR) @[ IoU=0.50:0.95 | area= small | maxDets=100 ] = -1.000\n",
      " Average Recall     (AR) @[ IoU=0.50:0.95 | area=medium | maxDets=100 ] = 0.355\n",
      " Average Recall     (AR) @[ IoU=0.50:0.95 | area= large | maxDets=100 ] = -1.000\n",
      "Epoch: [5]  [  0/701]  eta: 0:17:16  lr: 0.000500  loss: 0.0062 (0.0062)  loss_classifier: 0.0049 (0.0049)  loss_box_reg: 0.0007 (0.0007)  loss_objectness: 0.0000 (0.0000)  loss_rpn_box_reg: 0.0005 (0.0005)  time: 1.4790  data: 0.8138  max mem: 7713\n",
      "Epoch: [5]  [ 10/701]  eta: 0:08:38  lr: 0.000500  loss: 0.0049 (0.0052)  loss_classifier: 0.0039 (0.0041)  loss_box_reg: 0.0006 (0.0007)  loss_objectness: 0.0000 (0.0000)  loss_rpn_box_reg: 0.0004 (0.0003)  time: 0.7504  data: 0.0849  max mem: 7713\n",
      "Epoch: [5]  [ 20/701]  eta: 0:08:05  lr: 0.000500  loss: 0.0049 (0.0058)  loss_classifier: 0.0039 (0.0047)  loss_box_reg: 0.0006 (0.0008)  loss_objectness: 0.0000 (0.0000)  loss_rpn_box_reg: 0.0003 (0.0003)  time: 0.6746  data: 0.0061  max mem: 7713\n",
      "Epoch: [5]  [ 30/701]  eta: 0:07:48  lr: 0.000500  loss: 0.0038 (0.0050)  loss_classifier: 0.0031 (0.0041)  loss_box_reg: 0.0005 (0.0007)  loss_objectness: 0.0000 (0.0000)  loss_rpn_box_reg: 0.0002 (0.0003)  time: 0.6704  data: 0.0002  max mem: 7713\n",
      "Epoch: [5]  [ 40/701]  eta: 0:07:36  lr: 0.000500  loss: 0.0034 (0.0049)  loss_classifier: 0.0028 (0.0038)  loss_box_reg: 0.0005 (0.0008)  loss_objectness: 0.0000 (0.0000)  loss_rpn_box_reg: 0.0002 (0.0003)  time: 0.6679  data: 0.0002  max mem: 7713\n",
      "Epoch: [5]  [ 50/701]  eta: 0:07:26  lr: 0.000500  loss: 0.0032 (0.0046)  loss_classifier: 0.0028 (0.0036)  loss_box_reg: 0.0005 (0.0007)  loss_objectness: 0.0000 (0.0000)  loss_rpn_box_reg: 0.0002 (0.0003)  time: 0.6642  data: 0.0003  max mem: 7713\n",
      "Epoch: [5]  [ 60/701]  eta: 0:07:17  lr: 0.000500  loss: 0.0032 (0.0046)  loss_classifier: 0.0028 (0.0035)  loss_box_reg: 0.0005 (0.0007)  loss_objectness: 0.0000 (0.0000)  loss_rpn_box_reg: 0.0002 (0.0003)  time: 0.6645  data: 0.0003  max mem: 7713\n",
      "Epoch: [5]  [ 70/701]  eta: 0:07:08  lr: 0.000500  loss: 0.0027 (0.0043)  loss_classifier: 0.0022 (0.0034)  loss_box_reg: 0.0004 (0.0007)  loss_objectness: 0.0000 (0.0000)  loss_rpn_box_reg: 0.0002 (0.0003)  time: 0.6649  data: 0.0002  max mem: 7713\n",
      "Epoch: [5]  [ 80/701]  eta: 0:07:00  lr: 0.000500  loss: 0.0033 (0.0044)  loss_classifier: 0.0025 (0.0034)  loss_box_reg: 0.0005 (0.0007)  loss_objectness: 0.0000 (0.0000)  loss_rpn_box_reg: 0.0002 (0.0003)  time: 0.6627  data: 0.0002  max mem: 7713\n",
      "Epoch: [5]  [ 90/701]  eta: 0:06:53  lr: 0.000500  loss: 0.0036 (0.0043)  loss_classifier: 0.0025 (0.0033)  loss_box_reg: 0.0005 (0.0007)  loss_objectness: 0.0000 (0.0000)  loss_rpn_box_reg: 0.0002 (0.0003)  time: 0.6656  data: 0.0002  max mem: 7713\n",
      "Epoch: [5]  [100/701]  eta: 0:06:45  lr: 0.000500  loss: 0.0034 (0.0042)  loss_classifier: 0.0025 (0.0033)  loss_box_reg: 0.0005 (0.0006)  loss_objectness: 0.0000 (0.0000)  loss_rpn_box_reg: 0.0002 (0.0003)  time: 0.6672  data: 0.0002  max mem: 7713\n",
      "Epoch: [5]  [110/701]  eta: 0:06:38  lr: 0.000500  loss: 0.0037 (0.0043)  loss_classifier: 0.0031 (0.0033)  loss_box_reg: 0.0005 (0.0006)  loss_objectness: 0.0000 (0.0000)  loss_rpn_box_reg: 0.0002 (0.0003)  time: 0.6658  data: 0.0003  max mem: 7713\n",
      "Epoch: [5]  [120/701]  eta: 0:06:31  lr: 0.000500  loss: 0.0043 (0.0043)  loss_classifier: 0.0035 (0.0033)  loss_box_reg: 0.0006 (0.0006)  loss_objectness: 0.0000 (0.0000)  loss_rpn_box_reg: 0.0002 (0.0003)  time: 0.6635  data: 0.0003  max mem: 7713\n",
      "Epoch: [5]  [130/701]  eta: 0:06:24  lr: 0.000500  loss: 0.0037 (0.0043)  loss_classifier: 0.0030 (0.0033)  loss_box_reg: 0.0004 (0.0006)  loss_objectness: 0.0000 (0.0000)  loss_rpn_box_reg: 0.0002 (0.0003)  time: 0.6624  data: 0.0002  max mem: 7713\n",
      "Epoch: [5]  [140/701]  eta: 0:06:17  lr: 0.000500  loss: 0.0040 (0.0043)  loss_classifier: 0.0034 (0.0034)  loss_box_reg: 0.0005 (0.0006)  loss_objectness: 0.0000 (0.0000)  loss_rpn_box_reg: 0.0002 (0.0003)  time: 0.6688  data: 0.0002  max mem: 7713\n",
      "Epoch: [5]  [150/701]  eta: 0:06:10  lr: 0.000500  loss: 0.0045 (0.0043)  loss_classifier: 0.0037 (0.0034)  loss_box_reg: 0.0005 (0.0006)  loss_objectness: 0.0000 (0.0000)  loss_rpn_box_reg: 0.0003 (0.0003)  time: 0.6696  data: 0.0002  max mem: 7713\n",
      "Epoch: [5]  [160/701]  eta: 0:06:03  lr: 0.000500  loss: 0.0040 (0.0043)  loss_classifier: 0.0034 (0.0034)  loss_box_reg: 0.0004 (0.0006)  loss_objectness: 0.0000 (0.0000)  loss_rpn_box_reg: 0.0002 (0.0003)  time: 0.6672  data: 0.0002  max mem: 7713\n",
      "Epoch: [5]  [170/701]  eta: 0:05:56  lr: 0.000500  loss: 0.0037 (0.0043)  loss_classifier: 0.0032 (0.0034)  loss_box_reg: 0.0005 (0.0006)  loss_objectness: 0.0000 (0.0000)  loss_rpn_box_reg: 0.0002 (0.0003)  time: 0.6646  data: 0.0002  max mem: 7713\n",
      "Epoch: [5]  [180/701]  eta: 0:05:49  lr: 0.000500  loss: 0.0037 (0.0043)  loss_classifier: 0.0032 (0.0034)  loss_box_reg: 0.0005 (0.0006)  loss_objectness: 0.0000 (0.0000)  loss_rpn_box_reg: 0.0002 (0.0003)  time: 0.6605  data: 0.0002  max mem: 7713\n",
      "Epoch: [5]  [190/701]  eta: 0:05:42  lr: 0.000500  loss: 0.0034 (0.0042)  loss_classifier: 0.0027 (0.0033)  loss_box_reg: 0.0005 (0.0006)  loss_objectness: 0.0000 (0.0000)  loss_rpn_box_reg: 0.0002 (0.0003)  time: 0.6624  data: 0.0002  max mem: 7713\n",
      "Epoch: [5]  [200/701]  eta: 0:05:35  lr: 0.000500  loss: 0.0033 (0.0042)  loss_classifier: 0.0026 (0.0033)  loss_box_reg: 0.0005 (0.0006)  loss_objectness: 0.0000 (0.0000)  loss_rpn_box_reg: 0.0002 (0.0003)  time: 0.6631  data: 0.0002  max mem: 7713\n",
      "Epoch: [5]  [210/701]  eta: 0:05:29  lr: 0.000500  loss: 0.0033 (0.0042)  loss_classifier: 0.0025 (0.0033)  loss_box_reg: 0.0005 (0.0006)  loss_objectness: 0.0000 (0.0000)  loss_rpn_box_reg: 0.0002 (0.0003)  time: 0.6667  data: 0.0002  max mem: 7713\n",
      "Epoch: [5]  [220/701]  eta: 0:05:22  lr: 0.000500  loss: 0.0033 (0.0042)  loss_classifier: 0.0025 (0.0033)  loss_box_reg: 0.0005 (0.0006)  loss_objectness: 0.0000 (0.0000)  loss_rpn_box_reg: 0.0002 (0.0003)  time: 0.6684  data: 0.0003  max mem: 7713\n",
      "Epoch: [5]  [230/701]  eta: 0:05:15  lr: 0.000500  loss: 0.0027 (0.0041)  loss_classifier: 0.0022 (0.0033)  loss_box_reg: 0.0004 (0.0006)  loss_objectness: 0.0000 (0.0000)  loss_rpn_box_reg: 0.0002 (0.0003)  time: 0.6622  data: 0.0003  max mem: 7713\n",
      "Epoch: [5]  [240/701]  eta: 0:05:08  lr: 0.000500  loss: 0.0039 (0.0042)  loss_classifier: 0.0027 (0.0033)  loss_box_reg: 0.0005 (0.0006)  loss_objectness: 0.0000 (0.0000)  loss_rpn_box_reg: 0.0002 (0.0003)  time: 0.6664  data: 0.0002  max mem: 7713\n",
      "Epoch: [5]  [250/701]  eta: 0:05:01  lr: 0.000500  loss: 0.0045 (0.0042)  loss_classifier: 0.0037 (0.0033)  loss_box_reg: 0.0006 (0.0006)  loss_objectness: 0.0000 (0.0000)  loss_rpn_box_reg: 0.0003 (0.0003)  time: 0.6666  data: 0.0003  max mem: 7713\n",
      "Epoch: [5]  [260/701]  eta: 0:04:54  lr: 0.000500  loss: 0.0045 (0.0042)  loss_classifier: 0.0036 (0.0033)  loss_box_reg: 0.0004 (0.0006)  loss_objectness: 0.0000 (0.0000)  loss_rpn_box_reg: 0.0002 (0.0003)  time: 0.6607  data: 0.0002  max mem: 7713\n",
      "Epoch: [5]  [270/701]  eta: 0:04:48  lr: 0.000500  loss: 0.0034 (0.0042)  loss_classifier: 0.0028 (0.0033)  loss_box_reg: 0.0004 (0.0006)  loss_objectness: 0.0000 (0.0000)  loss_rpn_box_reg: 0.0002 (0.0003)  time: 0.6625  data: 0.0002  max mem: 7713\n",
      "Epoch: [5]  [280/701]  eta: 0:04:41  lr: 0.000500  loss: 0.0036 (0.0042)  loss_classifier: 0.0030 (0.0033)  loss_box_reg: 0.0004 (0.0006)  loss_objectness: 0.0000 (0.0000)  loss_rpn_box_reg: 0.0002 (0.0003)  time: 0.6683  data: 0.0002  max mem: 7713\n"
     ]
    },
    {
     "name": "stdout",
     "output_type": "stream",
     "text": [
      "Epoch: [5]  [290/701]  eta: 0:04:34  lr: 0.000500  loss: 0.0034 (0.0042)  loss_classifier: 0.0027 (0.0033)  loss_box_reg: 0.0004 (0.0006)  loss_objectness: 0.0000 (0.0000)  loss_rpn_box_reg: 0.0002 (0.0003)  time: 0.6693  data: 0.0002  max mem: 7713\n",
      "Epoch: [5]  [300/701]  eta: 0:04:28  lr: 0.000500  loss: 0.0035 (0.0042)  loss_classifier: 0.0027 (0.0033)  loss_box_reg: 0.0005 (0.0006)  loss_objectness: 0.0000 (0.0000)  loss_rpn_box_reg: 0.0002 (0.0003)  time: 0.6687  data: 0.0002  max mem: 7713\n",
      "Epoch: [5]  [310/701]  eta: 0:04:21  lr: 0.000500  loss: 0.0046 (0.0042)  loss_classifier: 0.0039 (0.0034)  loss_box_reg: 0.0005 (0.0006)  loss_objectness: 0.0000 (0.0000)  loss_rpn_box_reg: 0.0003 (0.0003)  time: 0.6692  data: 0.0002  max mem: 7713\n",
      "Epoch: [5]  [320/701]  eta: 0:04:14  lr: 0.000500  loss: 0.0044 (0.0042)  loss_classifier: 0.0036 (0.0034)  loss_box_reg: 0.0005 (0.0006)  loss_objectness: 0.0000 (0.0000)  loss_rpn_box_reg: 0.0003 (0.0003)  time: 0.6652  data: 0.0002  max mem: 7713\n",
      "Epoch: [5]  [330/701]  eta: 0:04:08  lr: 0.000500  loss: 0.0034 (0.0042)  loss_classifier: 0.0028 (0.0033)  loss_box_reg: 0.0005 (0.0006)  loss_objectness: 0.0000 (0.0000)  loss_rpn_box_reg: 0.0002 (0.0003)  time: 0.6669  data: 0.0002  max mem: 7713\n",
      "Epoch: [5]  [340/701]  eta: 0:04:01  lr: 0.000500  loss: 0.0033 (0.0042)  loss_classifier: 0.0028 (0.0033)  loss_box_reg: 0.0005 (0.0006)  loss_objectness: 0.0000 (0.0000)  loss_rpn_box_reg: 0.0002 (0.0003)  time: 0.6659  data: 0.0002  max mem: 7713\n",
      "Epoch: [5]  [350/701]  eta: 0:03:54  lr: 0.000500  loss: 0.0034 (0.0042)  loss_classifier: 0.0029 (0.0033)  loss_box_reg: 0.0004 (0.0006)  loss_objectness: 0.0000 (0.0000)  loss_rpn_box_reg: 0.0002 (0.0003)  time: 0.6612  data: 0.0002  max mem: 7713\n",
      "Epoch: [5]  [360/701]  eta: 0:03:47  lr: 0.000500  loss: 0.0034 (0.0042)  loss_classifier: 0.0029 (0.0033)  loss_box_reg: 0.0004 (0.0006)  loss_objectness: 0.0000 (0.0000)  loss_rpn_box_reg: 0.0002 (0.0003)  time: 0.6623  data: 0.0002  max mem: 7713\n",
      "Epoch: [5]  [370/701]  eta: 0:03:41  lr: 0.000500  loss: 0.0036 (0.0042)  loss_classifier: 0.0029 (0.0033)  loss_box_reg: 0.0004 (0.0006)  loss_objectness: 0.0000 (0.0000)  loss_rpn_box_reg: 0.0002 (0.0003)  time: 0.6651  data: 0.0006  max mem: 7713\n",
      "Epoch: [5]  [380/701]  eta: 0:03:34  lr: 0.000500  loss: 0.0036 (0.0042)  loss_classifier: 0.0029 (0.0033)  loss_box_reg: 0.0004 (0.0006)  loss_objectness: 0.0000 (0.0000)  loss_rpn_box_reg: 0.0002 (0.0003)  time: 0.6653  data: 0.0006  max mem: 7713\n",
      "Epoch: [5]  [390/701]  eta: 0:03:27  lr: 0.000500  loss: 0.0028 (0.0042)  loss_classifier: 0.0020 (0.0033)  loss_box_reg: 0.0004 (0.0006)  loss_objectness: 0.0000 (0.0000)  loss_rpn_box_reg: 0.0002 (0.0003)  time: 0.6611  data: 0.0002  max mem: 7713\n",
      "Epoch: [5]  [400/701]  eta: 0:03:20  lr: 0.000500  loss: 0.0030 (0.0043)  loss_classifier: 0.0025 (0.0034)  loss_box_reg: 0.0004 (0.0006)  loss_objectness: 0.0000 (0.0000)  loss_rpn_box_reg: 0.0002 (0.0003)  time: 0.6609  data: 0.0002  max mem: 7713\n",
      "Epoch: [5]  [410/701]  eta: 0:03:14  lr: 0.000500  loss: 0.0029 (0.0043)  loss_classifier: 0.0025 (0.0034)  loss_box_reg: 0.0004 (0.0006)  loss_objectness: 0.0000 (0.0000)  loss_rpn_box_reg: 0.0002 (0.0003)  time: 0.6632  data: 0.0002  max mem: 7713\n",
      "Epoch: [5]  [420/701]  eta: 0:03:07  lr: 0.000500  loss: 0.0029 (0.0042)  loss_classifier: 0.0023 (0.0034)  loss_box_reg: 0.0004 (0.0006)  loss_objectness: 0.0000 (0.0000)  loss_rpn_box_reg: 0.0002 (0.0003)  time: 0.6641  data: 0.0002  max mem: 7713\n",
      "Epoch: [5]  [430/701]  eta: 0:03:00  lr: 0.000500  loss: 0.0040 (0.0042)  loss_classifier: 0.0030 (0.0034)  loss_box_reg: 0.0004 (0.0006)  loss_objectness: 0.0000 (0.0000)  loss_rpn_box_reg: 0.0002 (0.0003)  time: 0.6634  data: 0.0002  max mem: 7713\n",
      "Epoch: [5]  [440/701]  eta: 0:02:54  lr: 0.000500  loss: 0.0034 (0.0042)  loss_classifier: 0.0027 (0.0034)  loss_box_reg: 0.0004 (0.0006)  loss_objectness: 0.0000 (0.0000)  loss_rpn_box_reg: 0.0002 (0.0003)  time: 0.6640  data: 0.0002  max mem: 7713\n",
      "Epoch: [5]  [450/701]  eta: 0:02:47  lr: 0.000500  loss: 0.0046 (0.0043)  loss_classifier: 0.0037 (0.0034)  loss_box_reg: 0.0005 (0.0006)  loss_objectness: 0.0000 (0.0000)  loss_rpn_box_reg: 0.0002 (0.0003)  time: 0.6626  data: 0.0002  max mem: 7713\n",
      "Epoch: [5]  [460/701]  eta: 0:02:40  lr: 0.000500  loss: 0.0049 (0.0043)  loss_classifier: 0.0038 (0.0034)  loss_box_reg: 0.0006 (0.0006)  loss_objectness: 0.0000 (0.0000)  loss_rpn_box_reg: 0.0003 (0.0003)  time: 0.6587  data: 0.0002  max mem: 7713\n",
      "Epoch: [5]  [470/701]  eta: 0:02:34  lr: 0.000500  loss: 0.0041 (0.0043)  loss_classifier: 0.0033 (0.0034)  loss_box_reg: 0.0005 (0.0006)  loss_objectness: 0.0000 (0.0000)  loss_rpn_box_reg: 0.0002 (0.0003)  time: 0.6624  data: 0.0002  max mem: 7713\n",
      "Epoch: [5]  [480/701]  eta: 0:02:27  lr: 0.000500  loss: 0.0041 (0.0043)  loss_classifier: 0.0033 (0.0034)  loss_box_reg: 0.0005 (0.0006)  loss_objectness: 0.0000 (0.0000)  loss_rpn_box_reg: 0.0004 (0.0003)  time: 0.6624  data: 0.0002  max mem: 7713\n",
      "Epoch: [5]  [490/701]  eta: 0:02:20  lr: 0.000500  loss: 0.0047 (0.0043)  loss_classifier: 0.0036 (0.0034)  loss_box_reg: 0.0006 (0.0006)  loss_objectness: 0.0000 (0.0000)  loss_rpn_box_reg: 0.0003 (0.0003)  time: 0.6609  data: 0.0002  max mem: 7713\n",
      "Epoch: [5]  [500/701]  eta: 0:02:13  lr: 0.000500  loss: 0.0040 (0.0043)  loss_classifier: 0.0035 (0.0034)  loss_box_reg: 0.0004 (0.0006)  loss_objectness: 0.0000 (0.0000)  loss_rpn_box_reg: 0.0002 (0.0003)  time: 0.6628  data: 0.0002  max mem: 7713\n",
      "Epoch: [5]  [510/701]  eta: 0:02:07  lr: 0.000500  loss: 0.0035 (0.0043)  loss_classifier: 0.0028 (0.0034)  loss_box_reg: 0.0004 (0.0006)  loss_objectness: 0.0000 (0.0000)  loss_rpn_box_reg: 0.0002 (0.0003)  time: 0.6667  data: 0.0002  max mem: 7713\n",
      "Epoch: [5]  [520/701]  eta: 0:02:00  lr: 0.000500  loss: 0.0035 (0.0043)  loss_classifier: 0.0031 (0.0034)  loss_box_reg: 0.0004 (0.0006)  loss_objectness: 0.0000 (0.0000)  loss_rpn_box_reg: 0.0002 (0.0003)  time: 0.6682  data: 0.0002  max mem: 7713\n",
      "Epoch: [5]  [530/701]  eta: 0:01:53  lr: 0.000500  loss: 0.0036 (0.0043)  loss_classifier: 0.0027 (0.0034)  loss_box_reg: 0.0005 (0.0006)  loss_objectness: 0.0000 (0.0000)  loss_rpn_box_reg: 0.0003 (0.0003)  time: 0.6646  data: 0.0002  max mem: 7713\n",
      "Epoch: [5]  [540/701]  eta: 0:01:47  lr: 0.000500  loss: 0.0036 (0.0043)  loss_classifier: 0.0027 (0.0034)  loss_box_reg: 0.0005 (0.0006)  loss_objectness: 0.0000 (0.0000)  loss_rpn_box_reg: 0.0002 (0.0003)  time: 0.6614  data: 0.0003  max mem: 7713\n",
      "Epoch: [5]  [550/701]  eta: 0:01:40  lr: 0.000500  loss: 0.0036 (0.0043)  loss_classifier: 0.0029 (0.0034)  loss_box_reg: 0.0005 (0.0006)  loss_objectness: 0.0000 (0.0000)  loss_rpn_box_reg: 0.0002 (0.0003)  time: 0.6611  data: 0.0002  max mem: 7713\n",
      "Epoch: [5]  [560/701]  eta: 0:01:33  lr: 0.000500  loss: 0.0048 (0.0043)  loss_classifier: 0.0036 (0.0034)  loss_box_reg: 0.0005 (0.0006)  loss_objectness: 0.0000 (0.0000)  loss_rpn_box_reg: 0.0003 (0.0003)  time: 0.6623  data: 0.0002  max mem: 7713\n",
      "Epoch: [5]  [570/701]  eta: 0:01:27  lr: 0.000500  loss: 0.0042 (0.0043)  loss_classifier: 0.0034 (0.0034)  loss_box_reg: 0.0005 (0.0006)  loss_objectness: 0.0000 (0.0000)  loss_rpn_box_reg: 0.0003 (0.0003)  time: 0.6617  data: 0.0002  max mem: 7713\n",
      "Epoch: [5]  [580/701]  eta: 0:01:20  lr: 0.000500  loss: 0.0037 (0.0043)  loss_classifier: 0.0029 (0.0034)  loss_box_reg: 0.0005 (0.0006)  loss_objectness: 0.0000 (0.0000)  loss_rpn_box_reg: 0.0003 (0.0003)  time: 0.6609  data: 0.0002  max mem: 7713\n",
      "Epoch: [5]  [590/701]  eta: 0:01:13  lr: 0.000500  loss: 0.0041 (0.0043)  loss_classifier: 0.0031 (0.0034)  loss_box_reg: 0.0005 (0.0006)  loss_objectness: 0.0000 (0.0000)  loss_rpn_box_reg: 0.0003 (0.0003)  time: 0.6612  data: 0.0002  max mem: 7713\n",
      "Epoch: [5]  [600/701]  eta: 0:01:07  lr: 0.000500  loss: 0.0048 (0.0043)  loss_classifier: 0.0039 (0.0034)  loss_box_reg: 0.0005 (0.0006)  loss_objectness: 0.0000 (0.0000)  loss_rpn_box_reg: 0.0002 (0.0003)  time: 0.6624  data: 0.0002  max mem: 7713\n",
      "Epoch: [5]  [610/701]  eta: 0:01:00  lr: 0.000500  loss: 0.0046 (0.0043)  loss_classifier: 0.0035 (0.0034)  loss_box_reg: 0.0005 (0.0006)  loss_objectness: 0.0000 (0.0000)  loss_rpn_box_reg: 0.0003 (0.0003)  time: 0.6628  data: 0.0002  max mem: 7713\n"
     ]
    },
    {
     "name": "stdout",
     "output_type": "stream",
     "text": [
      "Epoch: [5]  [620/701]  eta: 0:00:53  lr: 0.000500  loss: 0.0046 (0.0043)  loss_classifier: 0.0038 (0.0035)  loss_box_reg: 0.0005 (0.0006)  loss_objectness: 0.0000 (0.0000)  loss_rpn_box_reg: 0.0002 (0.0003)  time: 0.6620  data: 0.0002  max mem: 7713\n",
      "Epoch: [5]  [630/701]  eta: 0:00:47  lr: 0.000500  loss: 0.0046 (0.0043)  loss_classifier: 0.0038 (0.0035)  loss_box_reg: 0.0005 (0.0006)  loss_objectness: 0.0000 (0.0000)  loss_rpn_box_reg: 0.0002 (0.0003)  time: 0.6606  data: 0.0002  max mem: 7713\n",
      "Epoch: [5]  [640/701]  eta: 0:00:40  lr: 0.000500  loss: 0.0031 (0.0043)  loss_classifier: 0.0024 (0.0035)  loss_box_reg: 0.0005 (0.0006)  loss_objectness: 0.0000 (0.0000)  loss_rpn_box_reg: 0.0002 (0.0003)  time: 0.6609  data: 0.0002  max mem: 7713\n",
      "Epoch: [5]  [650/701]  eta: 0:00:33  lr: 0.000500  loss: 0.0029 (0.0043)  loss_classifier: 0.0023 (0.0034)  loss_box_reg: 0.0005 (0.0006)  loss_objectness: 0.0000 (0.0000)  loss_rpn_box_reg: 0.0002 (0.0003)  time: 0.6655  data: 0.0002  max mem: 7713\n",
      "Epoch: [5]  [660/701]  eta: 0:00:27  lr: 0.000500  loss: 0.0029 (0.0043)  loss_classifier: 0.0023 (0.0035)  loss_box_reg: 0.0004 (0.0006)  loss_objectness: 0.0000 (0.0000)  loss_rpn_box_reg: 0.0002 (0.0003)  time: 0.6640  data: 0.0002  max mem: 7713\n",
      "Epoch: [5]  [670/701]  eta: 0:00:20  lr: 0.000500  loss: 0.0045 (0.0043)  loss_classifier: 0.0037 (0.0035)  loss_box_reg: 0.0006 (0.0006)  loss_objectness: 0.0000 (0.0000)  loss_rpn_box_reg: 0.0002 (0.0003)  time: 0.6608  data: 0.0003  max mem: 7713\n",
      "Epoch: [5]  [680/701]  eta: 0:00:13  lr: 0.000500  loss: 0.0045 (0.0043)  loss_classifier: 0.0037 (0.0035)  loss_box_reg: 0.0005 (0.0006)  loss_objectness: 0.0000 (0.0000)  loss_rpn_box_reg: 0.0003 (0.0003)  time: 0.6647  data: 0.0003  max mem: 7713\n",
      "Epoch: [5]  [690/701]  eta: 0:00:07  lr: 0.000500  loss: 0.0043 (0.0044)  loss_classifier: 0.0034 (0.0035)  loss_box_reg: 0.0005 (0.0006)  loss_objectness: 0.0000 (0.0000)  loss_rpn_box_reg: 0.0003 (0.0003)  time: 0.6632  data: 0.0002  max mem: 7713\n",
      "Epoch: [5]  [700/701]  eta: 0:00:00  lr: 0.000500  loss: 0.0047 (0.0044)  loss_classifier: 0.0037 (0.0035)  loss_box_reg: 0.0006 (0.0006)  loss_objectness: 0.0000 (0.0000)  loss_rpn_box_reg: 0.0003 (0.0003)  time: 0.6576  data: 0.0003  max mem: 7713\n",
      "Epoch: [5] Total time: 0:07:46 (0.6658 s / it)\n",
      "creating index...\n",
      "index created!\n",
      "Test:  [  0/604]  eta: 0:12:44  model_time: 0.3017 (0.3017)  evaluator_time: 0.0037 (0.0037)  time: 1.2653  data: 0.9535  max mem: 7713\n",
      "Test:  [100/604]  eta: 0:02:31  model_time: 0.2786 (0.2809)  evaluator_time: 0.0028 (0.0038)  time: 0.2891  data: 0.0001  max mem: 7713\n",
      "Test:  [200/604]  eta: 0:01:58  model_time: 0.2788 (0.2804)  evaluator_time: 0.0035 (0.0035)  time: 0.2897  data: 0.0001  max mem: 7713\n",
      "Test:  [300/604]  eta: 0:01:28  model_time: 0.2784 (0.2797)  evaluator_time: 0.0047 (0.0038)  time: 0.2869  data: 0.0001  max mem: 7713\n",
      "Test:  [400/604]  eta: 0:00:59  model_time: 0.2791 (0.2795)  evaluator_time: 0.0042 (0.0039)  time: 0.2889  data: 0.0002  max mem: 7713\n",
      "Test:  [500/604]  eta: 0:00:30  model_time: 0.2780 (0.2793)  evaluator_time: 0.0043 (0.0041)  time: 0.2910  data: 0.0001  max mem: 7713\n",
      "Test:  [600/604]  eta: 0:00:01  model_time: 0.2775 (0.2793)  evaluator_time: 0.0035 (0.0041)  time: 0.2871  data: 0.0001  max mem: 7713\n",
      "Test:  [603/604]  eta: 0:00:00  model_time: 0.2754 (0.2792)  evaluator_time: 0.0023 (0.0041)  time: 0.2832  data: 0.0001  max mem: 7713\n",
      "Test: Total time: 0:02:55 (0.2904 s / it)\n",
      "Averaged stats: model_time: 0.2754 (0.2792)  evaluator_time: 0.0023 (0.0041)\n",
      "Accumulating evaluation results...\n",
      "DONE (t=0.20s).\n",
      "IoU metric: bbox\n",
      " Average Precision  (AP) @[ IoU=0.50:0.95 | area=   all | maxDets=100 ] = 0.258\n",
      " Average Precision  (AP) @[ IoU=0.50      | area=   all | maxDets=100 ] = 0.989\n",
      " Average Precision  (AP) @[ IoU=0.75      | area=   all | maxDets=100 ] = 0.029\n",
      " Average Precision  (AP) @[ IoU=0.50:0.95 | area= small | maxDets=100 ] = -1.000\n",
      " Average Precision  (AP) @[ IoU=0.50:0.95 | area=medium | maxDets=100 ] = 0.263\n",
      " Average Precision  (AP) @[ IoU=0.50:0.95 | area= large | maxDets=100 ] = -1.000\n",
      " Average Recall     (AR) @[ IoU=0.50:0.95 | area=   all | maxDets=  1 ] = 0.182\n",
      " Average Recall     (AR) @[ IoU=0.50:0.95 | area=   all | maxDets= 10 ] = 0.352\n",
      " Average Recall     (AR) @[ IoU=0.50:0.95 | area=   all | maxDets=100 ] = 0.352\n",
      " Average Recall     (AR) @[ IoU=0.50:0.95 | area= small | maxDets=100 ] = -1.000\n",
      " Average Recall     (AR) @[ IoU=0.50:0.95 | area=medium | maxDets=100 ] = 0.352\n",
      " Average Recall     (AR) @[ IoU=0.50:0.95 | area= large | maxDets=100 ] = -1.000\n",
      "Epoch: [6]  [  0/701]  eta: 0:24:48  lr: 0.000050  loss: 0.0054 (0.0054)  loss_classifier: 0.0047 (0.0047)  loss_box_reg: 0.0004 (0.0004)  loss_objectness: 0.0000 (0.0000)  loss_rpn_box_reg: 0.0002 (0.0002)  time: 2.1238  data: 1.4228  max mem: 7713\n",
      "Epoch: [6]  [ 10/701]  eta: 0:09:07  lr: 0.000050  loss: 0.0052 (0.0049)  loss_classifier: 0.0045 (0.0040)  loss_box_reg: 0.0005 (0.0006)  loss_objectness: 0.0000 (0.0000)  loss_rpn_box_reg: 0.0003 (0.0003)  time: 0.7929  data: 0.1296  max mem: 7713\n",
      "Epoch: [6]  [ 20/701]  eta: 0:08:16  lr: 0.000050  loss: 0.0032 (0.0042)  loss_classifier: 0.0025 (0.0033)  loss_box_reg: 0.0005 (0.0005)  loss_objectness: 0.0000 (0.0000)  loss_rpn_box_reg: 0.0002 (0.0003)  time: 0.6592  data: 0.0003  max mem: 7713\n",
      "Epoch: [6]  [ 30/701]  eta: 0:07:55  lr: 0.000050  loss: 0.0036 (0.0044)  loss_classifier: 0.0028 (0.0035)  loss_box_reg: 0.0005 (0.0005)  loss_objectness: 0.0000 (0.0000)  loss_rpn_box_reg: 0.0002 (0.0003)  time: 0.6614  data: 0.0003  max mem: 7713\n",
      "Epoch: [6]  [ 40/701]  eta: 0:07:41  lr: 0.000050  loss: 0.0039 (0.0043)  loss_classifier: 0.0031 (0.0034)  loss_box_reg: 0.0006 (0.0005)  loss_objectness: 0.0000 (0.0000)  loss_rpn_box_reg: 0.0002 (0.0003)  time: 0.6646  data: 0.0003  max mem: 7713\n",
      "Epoch: [6]  [ 50/701]  eta: 0:07:29  lr: 0.000050  loss: 0.0039 (0.0042)  loss_classifier: 0.0031 (0.0034)  loss_box_reg: 0.0005 (0.0005)  loss_objectness: 0.0000 (0.0000)  loss_rpn_box_reg: 0.0002 (0.0003)  time: 0.6627  data: 0.0003  max mem: 7713\n",
      "Epoch: [6]  [ 60/701]  eta: 0:07:18  lr: 0.000050  loss: 0.0034 (0.0042)  loss_classifier: 0.0029 (0.0034)  loss_box_reg: 0.0005 (0.0005)  loss_objectness: 0.0000 (0.0000)  loss_rpn_box_reg: 0.0002 (0.0003)  time: 0.6582  data: 0.0004  max mem: 7713\n",
      "Epoch: [6]  [ 70/701]  eta: 0:07:09  lr: 0.000050  loss: 0.0034 (0.0044)  loss_classifier: 0.0029 (0.0036)  loss_box_reg: 0.0005 (0.0006)  loss_objectness: 0.0000 (0.0000)  loss_rpn_box_reg: 0.0002 (0.0003)  time: 0.6576  data: 0.0004  max mem: 7713\n",
      "Epoch: [6]  [ 80/701]  eta: 0:07:01  lr: 0.000050  loss: 0.0032 (0.0043)  loss_classifier: 0.0027 (0.0035)  loss_box_reg: 0.0004 (0.0006)  loss_objectness: 0.0000 (0.0000)  loss_rpn_box_reg: 0.0002 (0.0003)  time: 0.6592  data: 0.0003  max mem: 7713\n",
      "Epoch: [6]  [ 90/701]  eta: 0:06:53  lr: 0.000050  loss: 0.0032 (0.0043)  loss_classifier: 0.0027 (0.0035)  loss_box_reg: 0.0004 (0.0006)  loss_objectness: 0.0000 (0.0000)  loss_rpn_box_reg: 0.0002 (0.0003)  time: 0.6595  data: 0.0003  max mem: 7713\n",
      "Epoch: [6]  [100/701]  eta: 0:06:45  lr: 0.000050  loss: 0.0038 (0.0042)  loss_classifier: 0.0031 (0.0034)  loss_box_reg: 0.0004 (0.0006)  loss_objectness: 0.0000 (0.0000)  loss_rpn_box_reg: 0.0002 (0.0003)  time: 0.6593  data: 0.0003  max mem: 7713\n",
      "Epoch: [6]  [110/701]  eta: 0:06:37  lr: 0.000050  loss: 0.0039 (0.0042)  loss_classifier: 0.0031 (0.0034)  loss_box_reg: 0.0004 (0.0006)  loss_objectness: 0.0000 (0.0000)  loss_rpn_box_reg: 0.0002 (0.0003)  time: 0.6603  data: 0.0003  max mem: 7713\n",
      "Epoch: [6]  [120/701]  eta: 0:06:30  lr: 0.000050  loss: 0.0034 (0.0042)  loss_classifier: 0.0028 (0.0034)  loss_box_reg: 0.0004 (0.0006)  loss_objectness: 0.0000 (0.0000)  loss_rpn_box_reg: 0.0002 (0.0003)  time: 0.6585  data: 0.0003  max mem: 7713\n",
      "Epoch: [6]  [130/701]  eta: 0:06:23  lr: 0.000050  loss: 0.0029 (0.0041)  loss_classifier: 0.0023 (0.0033)  loss_box_reg: 0.0004 (0.0005)  loss_objectness: 0.0000 (0.0000)  loss_rpn_box_reg: 0.0002 (0.0002)  time: 0.6618  data: 0.0003  max mem: 7713\n",
      "Epoch: [6]  [140/701]  eta: 0:06:16  lr: 0.000050  loss: 0.0031 (0.0041)  loss_classifier: 0.0025 (0.0033)  loss_box_reg: 0.0004 (0.0006)  loss_objectness: 0.0000 (0.0000)  loss_rpn_box_reg: 0.0002 (0.0002)  time: 0.6662  data: 0.0004  max mem: 7713\n"
     ]
    },
    {
     "name": "stdout",
     "output_type": "stream",
     "text": [
      "Epoch: [6]  [150/701]  eta: 0:06:09  lr: 0.000050  loss: 0.0035 (0.0041)  loss_classifier: 0.0029 (0.0033)  loss_box_reg: 0.0004 (0.0006)  loss_objectness: 0.0000 (0.0000)  loss_rpn_box_reg: 0.0002 (0.0002)  time: 0.6628  data: 0.0003  max mem: 7713\n",
      "Epoch: [6]  [160/701]  eta: 0:06:02  lr: 0.000050  loss: 0.0035 (0.0042)  loss_classifier: 0.0029 (0.0034)  loss_box_reg: 0.0004 (0.0006)  loss_objectness: 0.0000 (0.0000)  loss_rpn_box_reg: 0.0002 (0.0002)  time: 0.6608  data: 0.0003  max mem: 7713\n",
      "Epoch: [6]  [170/701]  eta: 0:05:55  lr: 0.000050  loss: 0.0041 (0.0042)  loss_classifier: 0.0030 (0.0034)  loss_box_reg: 0.0006 (0.0006)  loss_objectness: 0.0000 (0.0000)  loss_rpn_box_reg: 0.0002 (0.0003)  time: 0.6612  data: 0.0003  max mem: 7713\n",
      "Epoch: [6]  [180/701]  eta: 0:05:48  lr: 0.000050  loss: 0.0035 (0.0042)  loss_classifier: 0.0027 (0.0034)  loss_box_reg: 0.0006 (0.0006)  loss_objectness: 0.0000 (0.0000)  loss_rpn_box_reg: 0.0003 (0.0003)  time: 0.6615  data: 0.0002  max mem: 7713\n",
      "Epoch: [6]  [190/701]  eta: 0:05:41  lr: 0.000050  loss: 0.0035 (0.0042)  loss_classifier: 0.0027 (0.0034)  loss_box_reg: 0.0005 (0.0006)  loss_objectness: 0.0000 (0.0000)  loss_rpn_box_reg: 0.0003 (0.0003)  time: 0.6606  data: 0.0003  max mem: 7713\n",
      "Epoch: [6]  [200/701]  eta: 0:05:34  lr: 0.000050  loss: 0.0037 (0.0042)  loss_classifier: 0.0029 (0.0034)  loss_box_reg: 0.0004 (0.0006)  loss_objectness: 0.0000 (0.0000)  loss_rpn_box_reg: 0.0002 (0.0003)  time: 0.6585  data: 0.0003  max mem: 7713\n",
      "Epoch: [6]  [210/701]  eta: 0:05:27  lr: 0.000050  loss: 0.0038 (0.0042)  loss_classifier: 0.0031 (0.0034)  loss_box_reg: 0.0006 (0.0006)  loss_objectness: 0.0000 (0.0000)  loss_rpn_box_reg: 0.0002 (0.0003)  time: 0.6583  data: 0.0003  max mem: 7713\n",
      "Epoch: [6]  [220/701]  eta: 0:05:21  lr: 0.000050  loss: 0.0038 (0.0042)  loss_classifier: 0.0028 (0.0034)  loss_box_reg: 0.0005 (0.0006)  loss_objectness: 0.0000 (0.0000)  loss_rpn_box_reg: 0.0002 (0.0003)  time: 0.6623  data: 0.0003  max mem: 7713\n",
      "Epoch: [6]  [230/701]  eta: 0:05:14  lr: 0.000050  loss: 0.0040 (0.0042)  loss_classifier: 0.0028 (0.0034)  loss_box_reg: 0.0004 (0.0006)  loss_objectness: 0.0000 (0.0000)  loss_rpn_box_reg: 0.0001 (0.0003)  time: 0.6621  data: 0.0002  max mem: 7713\n",
      "Epoch: [6]  [240/701]  eta: 0:05:07  lr: 0.000050  loss: 0.0043 (0.0042)  loss_classifier: 0.0036 (0.0034)  loss_box_reg: 0.0006 (0.0006)  loss_objectness: 0.0000 (0.0000)  loss_rpn_box_reg: 0.0003 (0.0003)  time: 0.6603  data: 0.0003  max mem: 7713\n",
      "Epoch: [6]  [250/701]  eta: 0:05:00  lr: 0.000050  loss: 0.0040 (0.0042)  loss_classifier: 0.0029 (0.0034)  loss_box_reg: 0.0006 (0.0006)  loss_objectness: 0.0000 (0.0000)  loss_rpn_box_reg: 0.0003 (0.0003)  time: 0.6618  data: 0.0003  max mem: 7713\n",
      "Epoch: [6]  [260/701]  eta: 0:04:53  lr: 0.000050  loss: 0.0039 (0.0042)  loss_classifier: 0.0031 (0.0034)  loss_box_reg: 0.0004 (0.0006)  loss_objectness: 0.0000 (0.0000)  loss_rpn_box_reg: 0.0002 (0.0002)  time: 0.6606  data: 0.0002  max mem: 7713\n",
      "Epoch: [6]  [270/701]  eta: 0:04:47  lr: 0.000050  loss: 0.0037 (0.0042)  loss_classifier: 0.0027 (0.0034)  loss_box_reg: 0.0005 (0.0006)  loss_objectness: 0.0000 (0.0000)  loss_rpn_box_reg: 0.0002 (0.0003)  time: 0.6586  data: 0.0002  max mem: 7713\n",
      "Epoch: [6]  [280/701]  eta: 0:04:40  lr: 0.000050  loss: 0.0043 (0.0042)  loss_classifier: 0.0035 (0.0034)  loss_box_reg: 0.0005 (0.0006)  loss_objectness: 0.0000 (0.0000)  loss_rpn_box_reg: 0.0002 (0.0002)  time: 0.6581  data: 0.0003  max mem: 7713\n",
      "Epoch: [6]  [290/701]  eta: 0:04:33  lr: 0.000050  loss: 0.0039 (0.0042)  loss_classifier: 0.0030 (0.0034)  loss_box_reg: 0.0005 (0.0006)  loss_objectness: 0.0000 (0.0000)  loss_rpn_box_reg: 0.0002 (0.0002)  time: 0.6605  data: 0.0003  max mem: 7713\n",
      "Epoch: [6]  [300/701]  eta: 0:04:26  lr: 0.000050  loss: 0.0035 (0.0042)  loss_classifier: 0.0029 (0.0034)  loss_box_reg: 0.0005 (0.0006)  loss_objectness: 0.0000 (0.0000)  loss_rpn_box_reg: 0.0002 (0.0002)  time: 0.6669  data: 0.0003  max mem: 7713\n",
      "Epoch: [6]  [310/701]  eta: 0:04:20  lr: 0.000050  loss: 0.0035 (0.0042)  loss_classifier: 0.0029 (0.0034)  loss_box_reg: 0.0005 (0.0006)  loss_objectness: 0.0000 (0.0000)  loss_rpn_box_reg: 0.0002 (0.0002)  time: 0.6670  data: 0.0003  max mem: 7713\n",
      "Epoch: [6]  [320/701]  eta: 0:04:13  lr: 0.000050  loss: 0.0033 (0.0042)  loss_classifier: 0.0024 (0.0033)  loss_box_reg: 0.0005 (0.0006)  loss_objectness: 0.0000 (0.0000)  loss_rpn_box_reg: 0.0002 (0.0002)  time: 0.6606  data: 0.0003  max mem: 7713\n",
      "Epoch: [6]  [330/701]  eta: 0:04:06  lr: 0.000050  loss: 0.0029 (0.0042)  loss_classifier: 0.0023 (0.0033)  loss_box_reg: 0.0004 (0.0006)  loss_objectness: 0.0000 (0.0000)  loss_rpn_box_reg: 0.0001 (0.0002)  time: 0.6570  data: 0.0003  max mem: 7713\n",
      "Epoch: [6]  [340/701]  eta: 0:04:00  lr: 0.000050  loss: 0.0032 (0.0041)  loss_classifier: 0.0026 (0.0033)  loss_box_reg: 0.0004 (0.0006)  loss_objectness: 0.0000 (0.0000)  loss_rpn_box_reg: 0.0002 (0.0002)  time: 0.6609  data: 0.0003  max mem: 7713\n",
      "Epoch: [6]  [350/701]  eta: 0:03:53  lr: 0.000050  loss: 0.0033 (0.0041)  loss_classifier: 0.0025 (0.0033)  loss_box_reg: 0.0004 (0.0005)  loss_objectness: 0.0000 (0.0000)  loss_rpn_box_reg: 0.0002 (0.0002)  time: 0.6648  data: 0.0002  max mem: 7713\n",
      "Epoch: [6]  [360/701]  eta: 0:03:46  lr: 0.000050  loss: 0.0033 (0.0041)  loss_classifier: 0.0027 (0.0033)  loss_box_reg: 0.0005 (0.0005)  loss_objectness: 0.0000 (0.0000)  loss_rpn_box_reg: 0.0002 (0.0002)  time: 0.6634  data: 0.0003  max mem: 7713\n",
      "Epoch: [6]  [370/701]  eta: 0:03:40  lr: 0.000050  loss: 0.0036 (0.0041)  loss_classifier: 0.0031 (0.0033)  loss_box_reg: 0.0005 (0.0005)  loss_objectness: 0.0000 (0.0000)  loss_rpn_box_reg: 0.0002 (0.0002)  time: 0.6598  data: 0.0003  max mem: 7713\n",
      "Epoch: [6]  [380/701]  eta: 0:03:33  lr: 0.000050  loss: 0.0032 (0.0041)  loss_classifier: 0.0026 (0.0033)  loss_box_reg: 0.0004 (0.0005)  loss_objectness: 0.0000 (0.0000)  loss_rpn_box_reg: 0.0002 (0.0002)  time: 0.6610  data: 0.0003  max mem: 7713\n",
      "Epoch: [6]  [390/701]  eta: 0:03:26  lr: 0.000050  loss: 0.0032 (0.0041)  loss_classifier: 0.0026 (0.0033)  loss_box_reg: 0.0005 (0.0005)  loss_objectness: 0.0000 (0.0000)  loss_rpn_box_reg: 0.0002 (0.0002)  time: 0.6647  data: 0.0003  max mem: 7713\n",
      "Epoch: [6]  [400/701]  eta: 0:03:20  lr: 0.000050  loss: 0.0036 (0.0041)  loss_classifier: 0.0031 (0.0033)  loss_box_reg: 0.0005 (0.0005)  loss_objectness: 0.0000 (0.0000)  loss_rpn_box_reg: 0.0002 (0.0002)  time: 0.6633  data: 0.0003  max mem: 7713\n",
      "Epoch: [6]  [410/701]  eta: 0:03:13  lr: 0.000050  loss: 0.0040 (0.0041)  loss_classifier: 0.0033 (0.0033)  loss_box_reg: 0.0004 (0.0005)  loss_objectness: 0.0000 (0.0000)  loss_rpn_box_reg: 0.0002 (0.0002)  time: 0.6633  data: 0.0003  max mem: 7713\n",
      "Epoch: [6]  [420/701]  eta: 0:03:06  lr: 0.000050  loss: 0.0033 (0.0041)  loss_classifier: 0.0028 (0.0033)  loss_box_reg: 0.0004 (0.0006)  loss_objectness: 0.0000 (0.0000)  loss_rpn_box_reg: 0.0002 (0.0002)  time: 0.6665  data: 0.0003  max mem: 7713\n",
      "Epoch: [6]  [430/701]  eta: 0:03:00  lr: 0.000050  loss: 0.0043 (0.0041)  loss_classifier: 0.0034 (0.0033)  loss_box_reg: 0.0004 (0.0006)  loss_objectness: 0.0000 (0.0000)  loss_rpn_box_reg: 0.0002 (0.0002)  time: 0.6642  data: 0.0002  max mem: 7713\n",
      "Epoch: [6]  [440/701]  eta: 0:02:53  lr: 0.000050  loss: 0.0043 (0.0041)  loss_classifier: 0.0036 (0.0033)  loss_box_reg: 0.0004 (0.0006)  loss_objectness: 0.0000 (0.0000)  loss_rpn_box_reg: 0.0002 (0.0002)  time: 0.6636  data: 0.0003  max mem: 7713\n",
      "Epoch: [6]  [450/701]  eta: 0:02:46  lr: 0.000050  loss: 0.0026 (0.0041)  loss_classifier: 0.0020 (0.0033)  loss_box_reg: 0.0004 (0.0006)  loss_objectness: 0.0000 (0.0000)  loss_rpn_box_reg: 0.0002 (0.0002)  time: 0.6649  data: 0.0003  max mem: 7713\n",
      "Epoch: [6]  [460/701]  eta: 0:02:40  lr: 0.000050  loss: 0.0026 (0.0041)  loss_classifier: 0.0020 (0.0033)  loss_box_reg: 0.0004 (0.0006)  loss_objectness: 0.0000 (0.0000)  loss_rpn_box_reg: 0.0002 (0.0002)  time: 0.6626  data: 0.0003  max mem: 7713\n",
      "Epoch: [6]  [470/701]  eta: 0:02:33  lr: 0.000050  loss: 0.0039 (0.0041)  loss_classifier: 0.0032 (0.0033)  loss_box_reg: 0.0005 (0.0006)  loss_objectness: 0.0000 (0.0000)  loss_rpn_box_reg: 0.0002 (0.0002)  time: 0.6630  data: 0.0003  max mem: 7713\n"
     ]
    },
    {
     "name": "stdout",
     "output_type": "stream",
     "text": [
      "Epoch: [6]  [480/701]  eta: 0:02:26  lr: 0.000050  loss: 0.0039 (0.0041)  loss_classifier: 0.0030 (0.0033)  loss_box_reg: 0.0005 (0.0006)  loss_objectness: 0.0000 (0.0000)  loss_rpn_box_reg: 0.0002 (0.0002)  time: 0.6629  data: 0.0002  max mem: 7713\n",
      "Epoch: [6]  [490/701]  eta: 0:02:20  lr: 0.000050  loss: 0.0039 (0.0041)  loss_classifier: 0.0029 (0.0033)  loss_box_reg: 0.0005 (0.0006)  loss_objectness: 0.0000 (0.0000)  loss_rpn_box_reg: 0.0003 (0.0002)  time: 0.6619  data: 0.0003  max mem: 7713\n",
      "Epoch: [6]  [500/701]  eta: 0:02:13  lr: 0.000050  loss: 0.0029 (0.0041)  loss_classifier: 0.0024 (0.0033)  loss_box_reg: 0.0003 (0.0006)  loss_objectness: 0.0000 (0.0000)  loss_rpn_box_reg: 0.0001 (0.0002)  time: 0.6609  data: 0.0003  max mem: 7713\n",
      "Epoch: [6]  [510/701]  eta: 0:02:06  lr: 0.000050  loss: 0.0030 (0.0041)  loss_classifier: 0.0027 (0.0033)  loss_box_reg: 0.0003 (0.0006)  loss_objectness: 0.0000 (0.0000)  loss_rpn_box_reg: 0.0001 (0.0002)  time: 0.6632  data: 0.0003  max mem: 7713\n",
      "Epoch: [6]  [520/701]  eta: 0:02:00  lr: 0.000050  loss: 0.0042 (0.0041)  loss_classifier: 0.0035 (0.0033)  loss_box_reg: 0.0004 (0.0006)  loss_objectness: 0.0000 (0.0000)  loss_rpn_box_reg: 0.0002 (0.0002)  time: 0.6665  data: 0.0003  max mem: 7713\n",
      "Epoch: [6]  [530/701]  eta: 0:01:53  lr: 0.000050  loss: 0.0034 (0.0041)  loss_classifier: 0.0029 (0.0033)  loss_box_reg: 0.0004 (0.0006)  loss_objectness: 0.0000 (0.0000)  loss_rpn_box_reg: 0.0002 (0.0002)  time: 0.6645  data: 0.0003  max mem: 7713\n",
      "Epoch: [6]  [540/701]  eta: 0:01:46  lr: 0.000050  loss: 0.0034 (0.0041)  loss_classifier: 0.0029 (0.0033)  loss_box_reg: 0.0004 (0.0006)  loss_objectness: 0.0000 (0.0000)  loss_rpn_box_reg: 0.0002 (0.0002)  time: 0.6642  data: 0.0003  max mem: 7713\n",
      "Epoch: [6]  [550/701]  eta: 0:01:40  lr: 0.000050  loss: 0.0039 (0.0041)  loss_classifier: 0.0032 (0.0033)  loss_box_reg: 0.0005 (0.0006)  loss_objectness: 0.0000 (0.0000)  loss_rpn_box_reg: 0.0002 (0.0002)  time: 0.6647  data: 0.0004  max mem: 7713\n",
      "Epoch: [6]  [560/701]  eta: 0:01:33  lr: 0.000050  loss: 0.0043 (0.0041)  loss_classifier: 0.0034 (0.0033)  loss_box_reg: 0.0005 (0.0006)  loss_objectness: 0.0000 (0.0000)  loss_rpn_box_reg: 0.0002 (0.0002)  time: 0.6638  data: 0.0004  max mem: 7713\n",
      "Epoch: [6]  [570/701]  eta: 0:01:27  lr: 0.000050  loss: 0.0037 (0.0041)  loss_classifier: 0.0030 (0.0033)  loss_box_reg: 0.0005 (0.0006)  loss_objectness: 0.0000 (0.0000)  loss_rpn_box_reg: 0.0002 (0.0002)  time: 0.6631  data: 0.0004  max mem: 7713\n",
      "Epoch: [6]  [580/701]  eta: 0:01:20  lr: 0.000050  loss: 0.0037 (0.0041)  loss_classifier: 0.0030 (0.0033)  loss_box_reg: 0.0004 (0.0006)  loss_objectness: 0.0000 (0.0000)  loss_rpn_box_reg: 0.0002 (0.0002)  time: 0.6616  data: 0.0003  max mem: 7713\n",
      "Epoch: [6]  [590/701]  eta: 0:01:13  lr: 0.000050  loss: 0.0035 (0.0041)  loss_classifier: 0.0027 (0.0033)  loss_box_reg: 0.0004 (0.0006)  loss_objectness: 0.0000 (0.0000)  loss_rpn_box_reg: 0.0002 (0.0002)  time: 0.6620  data: 0.0003  max mem: 7713\n",
      "Epoch: [6]  [600/701]  eta: 0:01:07  lr: 0.000050  loss: 0.0031 (0.0041)  loss_classifier: 0.0027 (0.0033)  loss_box_reg: 0.0004 (0.0006)  loss_objectness: 0.0000 (0.0000)  loss_rpn_box_reg: 0.0003 (0.0002)  time: 0.6595  data: 0.0003  max mem: 7713\n",
      "Epoch: [6]  [610/701]  eta: 0:01:00  lr: 0.000050  loss: 0.0036 (0.0041)  loss_classifier: 0.0027 (0.0033)  loss_box_reg: 0.0005 (0.0006)  loss_objectness: 0.0000 (0.0000)  loss_rpn_box_reg: 0.0003 (0.0002)  time: 0.6585  data: 0.0003  max mem: 7713\n",
      "Epoch: [6]  [620/701]  eta: 0:00:53  lr: 0.000050  loss: 0.0050 (0.0042)  loss_classifier: 0.0041 (0.0033)  loss_box_reg: 0.0005 (0.0006)  loss_objectness: 0.0000 (0.0000)  loss_rpn_box_reg: 0.0002 (0.0002)  time: 0.6594  data: 0.0003  max mem: 7713\n",
      "Epoch: [6]  [630/701]  eta: 0:00:47  lr: 0.000050  loss: 0.0044 (0.0042)  loss_classifier: 0.0037 (0.0033)  loss_box_reg: 0.0005 (0.0006)  loss_objectness: 0.0000 (0.0000)  loss_rpn_box_reg: 0.0002 (0.0002)  time: 0.6601  data: 0.0003  max mem: 7713\n",
      "Epoch: [6]  [640/701]  eta: 0:00:40  lr: 0.000050  loss: 0.0035 (0.0041)  loss_classifier: 0.0028 (0.0033)  loss_box_reg: 0.0005 (0.0006)  loss_objectness: 0.0000 (0.0000)  loss_rpn_box_reg: 0.0002 (0.0002)  time: 0.6623  data: 0.0003  max mem: 7713\n",
      "Epoch: [6]  [650/701]  eta: 0:00:33  lr: 0.000050  loss: 0.0037 (0.0042)  loss_classifier: 0.0029 (0.0033)  loss_box_reg: 0.0004 (0.0006)  loss_objectness: 0.0000 (0.0000)  loss_rpn_box_reg: 0.0001 (0.0002)  time: 0.6605  data: 0.0003  max mem: 7713\n",
      "Epoch: [6]  [660/701]  eta: 0:00:27  lr: 0.000050  loss: 0.0037 (0.0041)  loss_classifier: 0.0029 (0.0033)  loss_box_reg: 0.0004 (0.0006)  loss_objectness: 0.0000 (0.0000)  loss_rpn_box_reg: 0.0002 (0.0002)  time: 0.6599  data: 0.0003  max mem: 7713\n",
      "Epoch: [6]  [670/701]  eta: 0:00:20  lr: 0.000050  loss: 0.0036 (0.0041)  loss_classifier: 0.0028 (0.0033)  loss_box_reg: 0.0004 (0.0006)  loss_objectness: 0.0000 (0.0000)  loss_rpn_box_reg: 0.0002 (0.0002)  time: 0.6618  data: 0.0002  max mem: 7713\n",
      "Epoch: [6]  [680/701]  eta: 0:00:13  lr: 0.000050  loss: 0.0043 (0.0042)  loss_classifier: 0.0034 (0.0033)  loss_box_reg: 0.0005 (0.0006)  loss_objectness: 0.0000 (0.0000)  loss_rpn_box_reg: 0.0002 (0.0002)  time: 0.6598  data: 0.0003  max mem: 7713\n",
      "Epoch: [6]  [690/701]  eta: 0:00:07  lr: 0.000050  loss: 0.0048 (0.0042)  loss_classifier: 0.0036 (0.0033)  loss_box_reg: 0.0005 (0.0006)  loss_objectness: 0.0000 (0.0000)  loss_rpn_box_reg: 0.0003 (0.0002)  time: 0.6587  data: 0.0003  max mem: 7713\n",
      "Epoch: [6]  [700/701]  eta: 0:00:00  lr: 0.000050  loss: 0.0039 (0.0042)  loss_classifier: 0.0030 (0.0033)  loss_box_reg: 0.0005 (0.0006)  loss_objectness: 0.0000 (0.0000)  loss_rpn_box_reg: 0.0003 (0.0002)  time: 0.6543  data: 0.0002  max mem: 7713\n",
      "Epoch: [6] Total time: 0:07:45 (0.6639 s / it)\n",
      "creating index...\n",
      "index created!\n",
      "Test:  [  0/604]  eta: 0:09:23  model_time: 0.3418 (0.3418)  evaluator_time: 0.0124 (0.0124)  time: 0.9325  data: 0.5717  max mem: 7713\n",
      "Test:  [100/604]  eta: 0:02:30  model_time: 0.2811 (0.2840)  evaluator_time: 0.0042 (0.0043)  time: 0.2906  data: 0.0002  max mem: 7713\n",
      "Test:  [200/604]  eta: 0:01:59  model_time: 0.2791 (0.2834)  evaluator_time: 0.0047 (0.0042)  time: 0.2918  data: 0.0001  max mem: 7713\n",
      "Test:  [300/604]  eta: 0:01:29  model_time: 0.2822 (0.2834)  evaluator_time: 0.0049 (0.0046)  time: 0.2955  data: 0.0002  max mem: 7713\n",
      "Test:  [400/604]  eta: 0:01:00  model_time: 0.2799 (0.2834)  evaluator_time: 0.0048 (0.0049)  time: 0.2925  data: 0.0002  max mem: 7713\n",
      "Test:  [500/604]  eta: 0:00:30  model_time: 0.2789 (0.2832)  evaluator_time: 0.0061 (0.0051)  time: 0.2914  data: 0.0002  max mem: 7713\n",
      "Test:  [600/604]  eta: 0:00:01  model_time: 0.2793 (0.2827)  evaluator_time: 0.0037 (0.0051)  time: 0.2892  data: 0.0002  max mem: 7713\n",
      "Test:  [603/604]  eta: 0:00:00  model_time: 0.2793 (0.2825)  evaluator_time: 0.0036 (0.0051)  time: 0.2856  data: 0.0001  max mem: 7713\n",
      "Test: Total time: 0:02:57 (0.2944 s / it)\n",
      "Averaged stats: model_time: 0.2793 (0.2825)  evaluator_time: 0.0036 (0.0051)\n",
      "Accumulating evaluation results...\n",
      "DONE (t=0.22s).\n",
      "IoU metric: bbox\n",
      " Average Precision  (AP) @[ IoU=0.50:0.95 | area=   all | maxDets=100 ] = 0.257\n",
      " Average Precision  (AP) @[ IoU=0.50      | area=   all | maxDets=100 ] = 0.989\n",
      " Average Precision  (AP) @[ IoU=0.75      | area=   all | maxDets=100 ] = 0.032\n",
      " Average Precision  (AP) @[ IoU=0.50:0.95 | area= small | maxDets=100 ] = -1.000\n",
      " Average Precision  (AP) @[ IoU=0.50:0.95 | area=medium | maxDets=100 ] = 0.262\n",
      " Average Precision  (AP) @[ IoU=0.50:0.95 | area= large | maxDets=100 ] = -1.000\n",
      " Average Recall     (AR) @[ IoU=0.50:0.95 | area=   all | maxDets=  1 ] = 0.182\n",
      " Average Recall     (AR) @[ IoU=0.50:0.95 | area=   all | maxDets= 10 ] = 0.352\n",
      " Average Recall     (AR) @[ IoU=0.50:0.95 | area=   all | maxDets=100 ] = 0.352\n",
      " Average Recall     (AR) @[ IoU=0.50:0.95 | area= small | maxDets=100 ] = -1.000\n",
      " Average Recall     (AR) @[ IoU=0.50:0.95 | area=medium | maxDets=100 ] = 0.352\n",
      " Average Recall     (AR) @[ IoU=0.50:0.95 | area= large | maxDets=100 ] = -1.000\n",
      "Epoch: [7]  [  0/701]  eta: 0:26:29  lr: 0.000050  loss: 0.0036 (0.0036)  loss_classifier: 0.0030 (0.0030)  loss_box_reg: 0.0004 (0.0004)  loss_objectness: 0.0000 (0.0000)  loss_rpn_box_reg: 0.0002 (0.0002)  time: 2.2681  data: 1.5587  max mem: 7713\n"
     ]
    },
    {
     "name": "stdout",
     "output_type": "stream",
     "text": [
      "Epoch: [7]  [ 10/701]  eta: 0:09:18  lr: 0.000050  loss: 0.0041 (0.0044)  loss_classifier: 0.0034 (0.0037)  loss_box_reg: 0.0004 (0.0005)  loss_objectness: 0.0000 (0.0000)  loss_rpn_box_reg: 0.0002 (0.0002)  time: 0.8088  data: 0.1419  max mem: 7713\n",
      "Epoch: [7]  [ 20/701]  eta: 0:08:22  lr: 0.000050  loss: 0.0041 (0.0042)  loss_classifier: 0.0033 (0.0035)  loss_box_reg: 0.0004 (0.0005)  loss_objectness: 0.0000 (0.0000)  loss_rpn_box_reg: 0.0002 (0.0002)  time: 0.6611  data: 0.0003  max mem: 7713\n",
      "Epoch: [7]  [ 30/701]  eta: 0:07:58  lr: 0.000050  loss: 0.0044 (0.0046)  loss_classifier: 0.0029 (0.0037)  loss_box_reg: 0.0005 (0.0005)  loss_objectness: 0.0000 (0.0000)  loss_rpn_box_reg: 0.0003 (0.0003)  time: 0.6595  data: 0.0003  max mem: 7713\n",
      "Epoch: [7]  [ 40/701]  eta: 0:07:42  lr: 0.000050  loss: 0.0046 (0.0046)  loss_classifier: 0.0038 (0.0038)  loss_box_reg: 0.0006 (0.0006)  loss_objectness: 0.0000 (0.0000)  loss_rpn_box_reg: 0.0003 (0.0003)  time: 0.6587  data: 0.0003  max mem: 7713\n",
      "Epoch: [7]  [ 50/701]  eta: 0:07:29  lr: 0.000050  loss: 0.0035 (0.0044)  loss_classifier: 0.0028 (0.0036)  loss_box_reg: 0.0004 (0.0005)  loss_objectness: 0.0000 (0.0000)  loss_rpn_box_reg: 0.0002 (0.0003)  time: 0.6569  data: 0.0003  max mem: 7713\n",
      "Epoch: [7]  [ 60/701]  eta: 0:07:19  lr: 0.000050  loss: 0.0033 (0.0044)  loss_classifier: 0.0028 (0.0036)  loss_box_reg: 0.0004 (0.0005)  loss_objectness: 0.0000 (0.0000)  loss_rpn_box_reg: 0.0002 (0.0003)  time: 0.6579  data: 0.0003  max mem: 7713\n",
      "Epoch: [7]  [ 70/701]  eta: 0:07:10  lr: 0.000050  loss: 0.0033 (0.0045)  loss_classifier: 0.0026 (0.0036)  loss_box_reg: 0.0004 (0.0006)  loss_objectness: 0.0000 (0.0000)  loss_rpn_box_reg: 0.0002 (0.0003)  time: 0.6583  data: 0.0003  max mem: 7713\n",
      "Epoch: [7]  [ 80/701]  eta: 0:07:01  lr: 0.000050  loss: 0.0031 (0.0044)  loss_classifier: 0.0026 (0.0036)  loss_box_reg: 0.0004 (0.0006)  loss_objectness: 0.0000 (0.0000)  loss_rpn_box_reg: 0.0002 (0.0002)  time: 0.6572  data: 0.0002  max mem: 7713\n",
      "Epoch: [7]  [ 90/701]  eta: 0:06:53  lr: 0.000050  loss: 0.0036 (0.0044)  loss_classifier: 0.0030 (0.0035)  loss_box_reg: 0.0004 (0.0006)  loss_objectness: 0.0000 (0.0000)  loss_rpn_box_reg: 0.0002 (0.0002)  time: 0.6571  data: 0.0002  max mem: 7713\n",
      "Epoch: [7]  [100/701]  eta: 0:06:45  lr: 0.000050  loss: 0.0044 (0.0044)  loss_classifier: 0.0034 (0.0036)  loss_box_reg: 0.0005 (0.0006)  loss_objectness: 0.0000 (0.0000)  loss_rpn_box_reg: 0.0002 (0.0002)  time: 0.6583  data: 0.0002  max mem: 7713\n",
      "Epoch: [7]  [110/701]  eta: 0:06:37  lr: 0.000050  loss: 0.0036 (0.0044)  loss_classifier: 0.0029 (0.0035)  loss_box_reg: 0.0005 (0.0006)  loss_objectness: 0.0000 (0.0000)  loss_rpn_box_reg: 0.0002 (0.0002)  time: 0.6590  data: 0.0002  max mem: 7713\n",
      "Epoch: [7]  [120/701]  eta: 0:06:30  lr: 0.000050  loss: 0.0036 (0.0044)  loss_classifier: 0.0028 (0.0036)  loss_box_reg: 0.0005 (0.0006)  loss_objectness: 0.0000 (0.0000)  loss_rpn_box_reg: 0.0002 (0.0002)  time: 0.6584  data: 0.0003  max mem: 7713\n",
      "Epoch: [7]  [130/701]  eta: 0:06:23  lr: 0.000050  loss: 0.0042 (0.0044)  loss_classifier: 0.0034 (0.0036)  loss_box_reg: 0.0005 (0.0006)  loss_objectness: 0.0000 (0.0000)  loss_rpn_box_reg: 0.0003 (0.0002)  time: 0.6604  data: 0.0003  max mem: 7713\n",
      "Epoch: [7]  [140/701]  eta: 0:06:15  lr: 0.000050  loss: 0.0037 (0.0044)  loss_classifier: 0.0027 (0.0035)  loss_box_reg: 0.0006 (0.0006)  loss_objectness: 0.0000 (0.0000)  loss_rpn_box_reg: 0.0003 (0.0003)  time: 0.6600  data: 0.0002  max mem: 7713\n",
      "Epoch: [7]  [150/701]  eta: 0:06:08  lr: 0.000050  loss: 0.0029 (0.0043)  loss_classifier: 0.0024 (0.0035)  loss_box_reg: 0.0005 (0.0006)  loss_objectness: 0.0000 (0.0000)  loss_rpn_box_reg: 0.0002 (0.0003)  time: 0.6588  data: 0.0004  max mem: 7713\n",
      "Epoch: [7]  [160/701]  eta: 0:06:01  lr: 0.000050  loss: 0.0031 (0.0043)  loss_classifier: 0.0026 (0.0035)  loss_box_reg: 0.0004 (0.0006)  loss_objectness: 0.0000 (0.0000)  loss_rpn_box_reg: 0.0001 (0.0002)  time: 0.6589  data: 0.0004  max mem: 7713\n",
      "Epoch: [7]  [170/701]  eta: 0:05:54  lr: 0.000050  loss: 0.0037 (0.0044)  loss_classifier: 0.0033 (0.0035)  loss_box_reg: 0.0004 (0.0006)  loss_objectness: 0.0000 (0.0000)  loss_rpn_box_reg: 0.0002 (0.0003)  time: 0.6599  data: 0.0003  max mem: 7713\n",
      "Epoch: [7]  [180/701]  eta: 0:05:48  lr: 0.000050  loss: 0.0040 (0.0043)  loss_classifier: 0.0032 (0.0035)  loss_box_reg: 0.0004 (0.0006)  loss_objectness: 0.0000 (0.0000)  loss_rpn_box_reg: 0.0002 (0.0003)  time: 0.6621  data: 0.0002  max mem: 7713\n",
      "Epoch: [7]  [190/701]  eta: 0:05:41  lr: 0.000050  loss: 0.0031 (0.0043)  loss_classifier: 0.0026 (0.0035)  loss_box_reg: 0.0004 (0.0006)  loss_objectness: 0.0000 (0.0000)  loss_rpn_box_reg: 0.0001 (0.0003)  time: 0.6641  data: 0.0002  max mem: 7713\n",
      "Epoch: [7]  [200/701]  eta: 0:05:34  lr: 0.000050  loss: 0.0033 (0.0044)  loss_classifier: 0.0026 (0.0035)  loss_box_reg: 0.0005 (0.0006)  loss_objectness: 0.0000 (0.0000)  loss_rpn_box_reg: 0.0002 (0.0003)  time: 0.6620  data: 0.0002  max mem: 7713\n",
      "Epoch: [7]  [210/701]  eta: 0:05:27  lr: 0.000050  loss: 0.0042 (0.0044)  loss_classifier: 0.0034 (0.0035)  loss_box_reg: 0.0005 (0.0006)  loss_objectness: 0.0000 (0.0000)  loss_rpn_box_reg: 0.0002 (0.0003)  time: 0.6614  data: 0.0002  max mem: 7713\n",
      "Epoch: [7]  [220/701]  eta: 0:05:20  lr: 0.000050  loss: 0.0032 (0.0043)  loss_classifier: 0.0027 (0.0035)  loss_box_reg: 0.0004 (0.0006)  loss_objectness: 0.0000 (0.0000)  loss_rpn_box_reg: 0.0002 (0.0002)  time: 0.6608  data: 0.0002  max mem: 7713\n",
      "Epoch: [7]  [230/701]  eta: 0:05:13  lr: 0.000050  loss: 0.0034 (0.0043)  loss_classifier: 0.0027 (0.0035)  loss_box_reg: 0.0004 (0.0006)  loss_objectness: 0.0000 (0.0000)  loss_rpn_box_reg: 0.0001 (0.0002)  time: 0.6593  data: 0.0002  max mem: 7713\n",
      "Epoch: [7]  [240/701]  eta: 0:05:07  lr: 0.000050  loss: 0.0034 (0.0043)  loss_classifier: 0.0030 (0.0035)  loss_box_reg: 0.0005 (0.0006)  loss_objectness: 0.0000 (0.0000)  loss_rpn_box_reg: 0.0002 (0.0002)  time: 0.6590  data: 0.0002  max mem: 7713\n",
      "Epoch: [7]  [250/701]  eta: 0:05:00  lr: 0.000050  loss: 0.0036 (0.0043)  loss_classifier: 0.0030 (0.0035)  loss_box_reg: 0.0004 (0.0006)  loss_objectness: 0.0000 (0.0000)  loss_rpn_box_reg: 0.0002 (0.0002)  time: 0.6573  data: 0.0003  max mem: 7713\n",
      "Epoch: [7]  [260/701]  eta: 0:04:53  lr: 0.000050  loss: 0.0033 (0.0043)  loss_classifier: 0.0027 (0.0035)  loss_box_reg: 0.0004 (0.0006)  loss_objectness: 0.0000 (0.0000)  loss_rpn_box_reg: 0.0001 (0.0002)  time: 0.6563  data: 0.0003  max mem: 7713\n",
      "Epoch: [7]  [270/701]  eta: 0:04:46  lr: 0.000050  loss: 0.0034 (0.0043)  loss_classifier: 0.0029 (0.0035)  loss_box_reg: 0.0004 (0.0006)  loss_objectness: 0.0000 (0.0000)  loss_rpn_box_reg: 0.0002 (0.0002)  time: 0.6560  data: 0.0002  max mem: 7713\n",
      "Epoch: [7]  [280/701]  eta: 0:04:39  lr: 0.000050  loss: 0.0038 (0.0043)  loss_classifier: 0.0032 (0.0035)  loss_box_reg: 0.0005 (0.0006)  loss_objectness: 0.0000 (0.0000)  loss_rpn_box_reg: 0.0002 (0.0002)  time: 0.6602  data: 0.0004  max mem: 7713\n",
      "Epoch: [7]  [290/701]  eta: 0:04:33  lr: 0.000050  loss: 0.0031 (0.0043)  loss_classifier: 0.0022 (0.0035)  loss_box_reg: 0.0004 (0.0006)  loss_objectness: 0.0000 (0.0000)  loss_rpn_box_reg: 0.0002 (0.0002)  time: 0.6616  data: 0.0004  max mem: 7713\n",
      "Epoch: [7]  [300/701]  eta: 0:04:26  lr: 0.000050  loss: 0.0031 (0.0043)  loss_classifier: 0.0023 (0.0035)  loss_box_reg: 0.0005 (0.0006)  loss_objectness: 0.0000 (0.0000)  loss_rpn_box_reg: 0.0002 (0.0002)  time: 0.6603  data: 0.0002  max mem: 7713\n",
      "Epoch: [7]  [310/701]  eta: 0:04:19  lr: 0.000050  loss: 0.0041 (0.0043)  loss_classifier: 0.0032 (0.0035)  loss_box_reg: 0.0005 (0.0006)  loss_objectness: 0.0000 (0.0000)  loss_rpn_box_reg: 0.0002 (0.0002)  time: 0.6601  data: 0.0002  max mem: 7713\n",
      "Epoch: [7]  [320/701]  eta: 0:04:13  lr: 0.000050  loss: 0.0038 (0.0043)  loss_classifier: 0.0033 (0.0035)  loss_box_reg: 0.0004 (0.0006)  loss_objectness: 0.0000 (0.0000)  loss_rpn_box_reg: 0.0002 (0.0002)  time: 0.6616  data: 0.0002  max mem: 7713\n",
      "Epoch: [7]  [330/701]  eta: 0:04:06  lr: 0.000050  loss: 0.0036 (0.0043)  loss_classifier: 0.0030 (0.0035)  loss_box_reg: 0.0004 (0.0006)  loss_objectness: 0.0000 (0.0000)  loss_rpn_box_reg: 0.0003 (0.0002)  time: 0.6596  data: 0.0002  max mem: 7713\n"
     ]
    },
    {
     "name": "stdout",
     "output_type": "stream",
     "text": [
      "Epoch: [7]  [340/701]  eta: 0:03:59  lr: 0.000050  loss: 0.0040 (0.0043)  loss_classifier: 0.0030 (0.0035)  loss_box_reg: 0.0005 (0.0006)  loss_objectness: 0.0000 (0.0000)  loss_rpn_box_reg: 0.0003 (0.0002)  time: 0.6561  data: 0.0002  max mem: 7713\n",
      "Epoch: [7]  [350/701]  eta: 0:03:53  lr: 0.000050  loss: 0.0036 (0.0043)  loss_classifier: 0.0027 (0.0035)  loss_box_reg: 0.0005 (0.0006)  loss_objectness: 0.0000 (0.0000)  loss_rpn_box_reg: 0.0002 (0.0002)  time: 0.6622  data: 0.0003  max mem: 7713\n",
      "Epoch: [7]  [360/701]  eta: 0:03:46  lr: 0.000050  loss: 0.0036 (0.0043)  loss_classifier: 0.0028 (0.0035)  loss_box_reg: 0.0005 (0.0006)  loss_objectness: 0.0000 (0.0000)  loss_rpn_box_reg: 0.0002 (0.0002)  time: 0.6643  data: 0.0003  max mem: 7713\n",
      "Epoch: [7]  [370/701]  eta: 0:03:39  lr: 0.000050  loss: 0.0043 (0.0043)  loss_classifier: 0.0037 (0.0035)  loss_box_reg: 0.0005 (0.0006)  loss_objectness: 0.0000 (0.0000)  loss_rpn_box_reg: 0.0002 (0.0002)  time: 0.6575  data: 0.0002  max mem: 7713\n",
      "Epoch: [7]  [380/701]  eta: 0:03:33  lr: 0.000050  loss: 0.0044 (0.0043)  loss_classifier: 0.0037 (0.0035)  loss_box_reg: 0.0005 (0.0006)  loss_objectness: 0.0000 (0.0000)  loss_rpn_box_reg: 0.0002 (0.0002)  time: 0.6552  data: 0.0002  max mem: 7713\n",
      "Epoch: [7]  [390/701]  eta: 0:03:26  lr: 0.000050  loss: 0.0030 (0.0043)  loss_classifier: 0.0023 (0.0035)  loss_box_reg: 0.0005 (0.0006)  loss_objectness: 0.0000 (0.0000)  loss_rpn_box_reg: 0.0002 (0.0002)  time: 0.6542  data: 0.0003  max mem: 7713\n",
      "Epoch: [7]  [400/701]  eta: 0:03:19  lr: 0.000050  loss: 0.0029 (0.0043)  loss_classifier: 0.0023 (0.0035)  loss_box_reg: 0.0004 (0.0006)  loss_objectness: 0.0000 (0.0000)  loss_rpn_box_reg: 0.0002 (0.0002)  time: 0.6574  data: 0.0002  max mem: 7713\n",
      "Epoch: [7]  [410/701]  eta: 0:03:13  lr: 0.000050  loss: 0.0038 (0.0043)  loss_classifier: 0.0032 (0.0035)  loss_box_reg: 0.0004 (0.0006)  loss_objectness: 0.0000 (0.0000)  loss_rpn_box_reg: 0.0002 (0.0002)  time: 0.6629  data: 0.0002  max mem: 7713\n",
      "Epoch: [7]  [420/701]  eta: 0:03:06  lr: 0.000050  loss: 0.0038 (0.0043)  loss_classifier: 0.0032 (0.0035)  loss_box_reg: 0.0004 (0.0006)  loss_objectness: 0.0000 (0.0000)  loss_rpn_box_reg: 0.0002 (0.0002)  time: 0.6607  data: 0.0002  max mem: 7713\n",
      "Epoch: [7]  [430/701]  eta: 0:02:59  lr: 0.000050  loss: 0.0036 (0.0043)  loss_classifier: 0.0030 (0.0035)  loss_box_reg: 0.0005 (0.0006)  loss_objectness: 0.0000 (0.0000)  loss_rpn_box_reg: 0.0002 (0.0002)  time: 0.6581  data: 0.0003  max mem: 7713\n",
      "Epoch: [7]  [440/701]  eta: 0:02:53  lr: 0.000050  loss: 0.0036 (0.0042)  loss_classifier: 0.0028 (0.0034)  loss_box_reg: 0.0005 (0.0006)  loss_objectness: 0.0000 (0.0000)  loss_rpn_box_reg: 0.0002 (0.0002)  time: 0.6587  data: 0.0002  max mem: 7713\n",
      "Epoch: [7]  [450/701]  eta: 0:02:46  lr: 0.000050  loss: 0.0037 (0.0042)  loss_classifier: 0.0028 (0.0034)  loss_box_reg: 0.0005 (0.0006)  loss_objectness: 0.0000 (0.0000)  loss_rpn_box_reg: 0.0003 (0.0002)  time: 0.6577  data: 0.0002  max mem: 7713\n",
      "Epoch: [7]  [460/701]  eta: 0:02:39  lr: 0.000050  loss: 0.0039 (0.0042)  loss_classifier: 0.0033 (0.0034)  loss_box_reg: 0.0004 (0.0006)  loss_objectness: 0.0000 (0.0000)  loss_rpn_box_reg: 0.0002 (0.0002)  time: 0.6580  data: 0.0003  max mem: 7713\n",
      "Epoch: [7]  [470/701]  eta: 0:02:33  lr: 0.000050  loss: 0.0041 (0.0042)  loss_classifier: 0.0033 (0.0034)  loss_box_reg: 0.0005 (0.0005)  loss_objectness: 0.0000 (0.0000)  loss_rpn_box_reg: 0.0002 (0.0002)  time: 0.6586  data: 0.0002  max mem: 7713\n",
      "Epoch: [7]  [480/701]  eta: 0:02:26  lr: 0.000050  loss: 0.0037 (0.0042)  loss_classifier: 0.0033 (0.0034)  loss_box_reg: 0.0005 (0.0006)  loss_objectness: 0.0000 (0.0000)  loss_rpn_box_reg: 0.0002 (0.0002)  time: 0.6559  data: 0.0002  max mem: 7713\n",
      "Epoch: [7]  [490/701]  eta: 0:02:19  lr: 0.000050  loss: 0.0032 (0.0043)  loss_classifier: 0.0026 (0.0035)  loss_box_reg: 0.0005 (0.0006)  loss_objectness: 0.0000 (0.0000)  loss_rpn_box_reg: 0.0002 (0.0002)  time: 0.6558  data: 0.0002  max mem: 7713\n",
      "Epoch: [7]  [500/701]  eta: 0:02:13  lr: 0.000050  loss: 0.0034 (0.0043)  loss_classifier: 0.0026 (0.0035)  loss_box_reg: 0.0005 (0.0006)  loss_objectness: 0.0000 (0.0000)  loss_rpn_box_reg: 0.0002 (0.0002)  time: 0.6584  data: 0.0003  max mem: 7713\n",
      "Epoch: [7]  [510/701]  eta: 0:02:06  lr: 0.000050  loss: 0.0029 (0.0043)  loss_classifier: 0.0026 (0.0035)  loss_box_reg: 0.0005 (0.0006)  loss_objectness: 0.0000 (0.0000)  loss_rpn_box_reg: 0.0002 (0.0002)  time: 0.6599  data: 0.0003  max mem: 7713\n",
      "Epoch: [7]  [520/701]  eta: 0:01:59  lr: 0.000050  loss: 0.0028 (0.0043)  loss_classifier: 0.0022 (0.0034)  loss_box_reg: 0.0004 (0.0006)  loss_objectness: 0.0000 (0.0000)  loss_rpn_box_reg: 0.0002 (0.0002)  time: 0.6611  data: 0.0003  max mem: 7713\n",
      "Epoch: [7]  [530/701]  eta: 0:01:53  lr: 0.000050  loss: 0.0037 (0.0042)  loss_classifier: 0.0031 (0.0034)  loss_box_reg: 0.0004 (0.0006)  loss_objectness: 0.0000 (0.0000)  loss_rpn_box_reg: 0.0002 (0.0002)  time: 0.6617  data: 0.0003  max mem: 7713\n",
      "Epoch: [7]  [540/701]  eta: 0:01:46  lr: 0.000050  loss: 0.0037 (0.0042)  loss_classifier: 0.0031 (0.0034)  loss_box_reg: 0.0004 (0.0006)  loss_objectness: 0.0000 (0.0000)  loss_rpn_box_reg: 0.0002 (0.0002)  time: 0.6598  data: 0.0002  max mem: 7713\n",
      "Epoch: [7]  [550/701]  eta: 0:01:39  lr: 0.000050  loss: 0.0028 (0.0042)  loss_classifier: 0.0024 (0.0034)  loss_box_reg: 0.0004 (0.0006)  loss_objectness: 0.0000 (0.0000)  loss_rpn_box_reg: 0.0001 (0.0002)  time: 0.6584  data: 0.0002  max mem: 7713\n",
      "Epoch: [7]  [560/701]  eta: 0:01:33  lr: 0.000050  loss: 0.0028 (0.0042)  loss_classifier: 0.0024 (0.0034)  loss_box_reg: 0.0004 (0.0006)  loss_objectness: 0.0000 (0.0000)  loss_rpn_box_reg: 0.0002 (0.0002)  time: 0.6609  data: 0.0003  max mem: 7713\n",
      "Epoch: [7]  [570/701]  eta: 0:01:26  lr: 0.000050  loss: 0.0046 (0.0042)  loss_classifier: 0.0038 (0.0034)  loss_box_reg: 0.0005 (0.0006)  loss_objectness: 0.0000 (0.0000)  loss_rpn_box_reg: 0.0002 (0.0002)  time: 0.6594  data: 0.0002  max mem: 7713\n",
      "Epoch: [7]  [580/701]  eta: 0:01:20  lr: 0.000050  loss: 0.0053 (0.0043)  loss_classifier: 0.0041 (0.0034)  loss_box_reg: 0.0005 (0.0006)  loss_objectness: 0.0000 (0.0000)  loss_rpn_box_reg: 0.0002 (0.0002)  time: 0.6584  data: 0.0002  max mem: 7713\n",
      "Epoch: [7]  [590/701]  eta: 0:01:13  lr: 0.000050  loss: 0.0032 (0.0042)  loss_classifier: 0.0024 (0.0034)  loss_box_reg: 0.0004 (0.0006)  loss_objectness: 0.0000 (0.0000)  loss_rpn_box_reg: 0.0001 (0.0002)  time: 0.6619  data: 0.0003  max mem: 7713\n",
      "Epoch: [7]  [600/701]  eta: 0:01:06  lr: 0.000050  loss: 0.0032 (0.0042)  loss_classifier: 0.0025 (0.0034)  loss_box_reg: 0.0004 (0.0006)  loss_objectness: 0.0000 (0.0000)  loss_rpn_box_reg: 0.0002 (0.0002)  time: 0.6626  data: 0.0003  max mem: 7713\n",
      "Epoch: [7]  [610/701]  eta: 0:01:00  lr: 0.000050  loss: 0.0030 (0.0042)  loss_classifier: 0.0025 (0.0034)  loss_box_reg: 0.0004 (0.0006)  loss_objectness: 0.0000 (0.0000)  loss_rpn_box_reg: 0.0002 (0.0002)  time: 0.6589  data: 0.0002  max mem: 7713\n",
      "Epoch: [7]  [620/701]  eta: 0:00:53  lr: 0.000050  loss: 0.0030 (0.0043)  loss_classifier: 0.0026 (0.0034)  loss_box_reg: 0.0004 (0.0006)  loss_objectness: 0.0000 (0.0000)  loss_rpn_box_reg: 0.0002 (0.0002)  time: 0.6587  data: 0.0002  max mem: 7713\n",
      "Epoch: [7]  [630/701]  eta: 0:00:46  lr: 0.000050  loss: 0.0037 (0.0043)  loss_classifier: 0.0031 (0.0034)  loss_box_reg: 0.0005 (0.0006)  loss_objectness: 0.0000 (0.0000)  loss_rpn_box_reg: 0.0002 (0.0002)  time: 0.6595  data: 0.0002  max mem: 7713\n",
      "Epoch: [7]  [640/701]  eta: 0:00:40  lr: 0.000050  loss: 0.0040 (0.0043)  loss_classifier: 0.0033 (0.0034)  loss_box_reg: 0.0005 (0.0006)  loss_objectness: 0.0000 (0.0000)  loss_rpn_box_reg: 0.0002 (0.0002)  time: 0.6582  data: 0.0002  max mem: 7713\n",
      "Epoch: [7]  [650/701]  eta: 0:00:33  lr: 0.000050  loss: 0.0039 (0.0043)  loss_classifier: 0.0031 (0.0034)  loss_box_reg: 0.0005 (0.0006)  loss_objectness: 0.0000 (0.0000)  loss_rpn_box_reg: 0.0002 (0.0002)  time: 0.6587  data: 0.0002  max mem: 7713\n",
      "Epoch: [7]  [660/701]  eta: 0:00:27  lr: 0.000050  loss: 0.0030 (0.0042)  loss_classifier: 0.0022 (0.0034)  loss_box_reg: 0.0004 (0.0006)  loss_objectness: 0.0000 (0.0000)  loss_rpn_box_reg: 0.0002 (0.0002)  time: 0.6577  data: 0.0002  max mem: 7713\n"
     ]
    },
    {
     "name": "stdout",
     "output_type": "stream",
     "text": [
      "Epoch: [7]  [670/701]  eta: 0:00:20  lr: 0.000050  loss: 0.0035 (0.0042)  loss_classifier: 0.0029 (0.0034)  loss_box_reg: 0.0004 (0.0006)  loss_objectness: 0.0000 (0.0000)  loss_rpn_box_reg: 0.0002 (0.0002)  time: 0.6595  data: 0.0002  max mem: 7713\n",
      "Epoch: [7]  [680/701]  eta: 0:00:13  lr: 0.000050  loss: 0.0042 (0.0042)  loss_classifier: 0.0035 (0.0034)  loss_box_reg: 0.0005 (0.0006)  loss_objectness: 0.0000 (0.0000)  loss_rpn_box_reg: 0.0002 (0.0002)  time: 0.6616  data: 0.0002  max mem: 7713\n",
      "Epoch: [7]  [690/701]  eta: 0:00:07  lr: 0.000050  loss: 0.0044 (0.0042)  loss_classifier: 0.0035 (0.0034)  loss_box_reg: 0.0005 (0.0006)  loss_objectness: 0.0000 (0.0000)  loss_rpn_box_reg: 0.0003 (0.0002)  time: 0.6584  data: 0.0002  max mem: 7713\n",
      "Epoch: [7]  [700/701]  eta: 0:00:00  lr: 0.000050  loss: 0.0030 (0.0042)  loss_classifier: 0.0021 (0.0034)  loss_box_reg: 0.0005 (0.0006)  loss_objectness: 0.0000 (0.0000)  loss_rpn_box_reg: 0.0002 (0.0002)  time: 0.6476  data: 0.0002  max mem: 7713\n",
      "Epoch: [7] Total time: 0:07:43 (0.6617 s / it)\n",
      "creating index...\n",
      "index created!\n",
      "Test:  [  0/604]  eta: 0:10:30  model_time: 0.3058 (0.3058)  evaluator_time: 0.0110 (0.0110)  time: 1.0444  data: 0.7213  max mem: 7713\n",
      "Test:  [100/604]  eta: 0:02:29  model_time: 0.2820 (0.2813)  evaluator_time: 0.0042 (0.0039)  time: 0.2936  data: 0.0002  max mem: 7713\n",
      "Test:  [200/604]  eta: 0:01:58  model_time: 0.2790 (0.2808)  evaluator_time: 0.0047 (0.0040)  time: 0.2886  data: 0.0001  max mem: 7713\n",
      "Test:  [300/604]  eta: 0:01:29  model_time: 0.2797 (0.2812)  evaluator_time: 0.0048 (0.0043)  time: 0.2982  data: 0.0002  max mem: 7713\n",
      "Test:  [400/604]  eta: 0:00:59  model_time: 0.2804 (0.2810)  evaluator_time: 0.0048 (0.0044)  time: 0.2915  data: 0.0002  max mem: 7713\n",
      "Test:  [500/604]  eta: 0:00:30  model_time: 0.2793 (0.2812)  evaluator_time: 0.0065 (0.0049)  time: 0.2969  data: 0.0001  max mem: 7713\n",
      "Test:  [600/604]  eta: 0:00:01  model_time: 0.2791 (0.2812)  evaluator_time: 0.0037 (0.0050)  time: 0.2904  data: 0.0002  max mem: 7713\n",
      "Test:  [603/604]  eta: 0:00:00  model_time: 0.2789 (0.2810)  evaluator_time: 0.0036 (0.0050)  time: 0.2855  data: 0.0001  max mem: 7713\n",
      "Test: Total time: 0:02:56 (0.2928 s / it)\n",
      "Averaged stats: model_time: 0.2789 (0.2810)  evaluator_time: 0.0036 (0.0050)\n",
      "Accumulating evaluation results...\n",
      "DONE (t=0.23s).\n",
      "IoU metric: bbox\n",
      " Average Precision  (AP) @[ IoU=0.50:0.95 | area=   all | maxDets=100 ] = 0.256\n",
      " Average Precision  (AP) @[ IoU=0.50      | area=   all | maxDets=100 ] = 0.989\n",
      " Average Precision  (AP) @[ IoU=0.75      | area=   all | maxDets=100 ] = 0.029\n",
      " Average Precision  (AP) @[ IoU=0.50:0.95 | area= small | maxDets=100 ] = -1.000\n",
      " Average Precision  (AP) @[ IoU=0.50:0.95 | area=medium | maxDets=100 ] = 0.261\n",
      " Average Precision  (AP) @[ IoU=0.50:0.95 | area= large | maxDets=100 ] = -1.000\n",
      " Average Recall     (AR) @[ IoU=0.50:0.95 | area=   all | maxDets=  1 ] = 0.182\n",
      " Average Recall     (AR) @[ IoU=0.50:0.95 | area=   all | maxDets= 10 ] = 0.352\n",
      " Average Recall     (AR) @[ IoU=0.50:0.95 | area=   all | maxDets=100 ] = 0.352\n",
      " Average Recall     (AR) @[ IoU=0.50:0.95 | area= small | maxDets=100 ] = -1.000\n",
      " Average Recall     (AR) @[ IoU=0.50:0.95 | area=medium | maxDets=100 ] = 0.352\n",
      " Average Recall     (AR) @[ IoU=0.50:0.95 | area= large | maxDets=100 ] = -1.000\n",
      "Epoch: [8]  [  0/701]  eta: 0:15:25  lr: 0.000050  loss: 0.0064 (0.0064)  loss_classifier: 0.0054 (0.0054)  loss_box_reg: 0.0006 (0.0006)  loss_objectness: 0.0000 (0.0000)  loss_rpn_box_reg: 0.0003 (0.0003)  time: 1.3209  data: 0.5978  max mem: 7713\n",
      "Epoch: [8]  [ 10/701]  eta: 0:08:16  lr: 0.000050  loss: 0.0040 (0.0044)  loss_classifier: 0.0035 (0.0037)  loss_box_reg: 0.0005 (0.0005)  loss_objectness: 0.0000 (0.0000)  loss_rpn_box_reg: 0.0002 (0.0002)  time: 0.7185  data: 0.0546  max mem: 7713\n",
      "Epoch: [8]  [ 20/701]  eta: 0:07:50  lr: 0.000050  loss: 0.0040 (0.0044)  loss_classifier: 0.0032 (0.0036)  loss_box_reg: 0.0005 (0.0005)  loss_objectness: 0.0000 (0.0000)  loss_rpn_box_reg: 0.0002 (0.0002)  time: 0.6594  data: 0.0003  max mem: 7713\n",
      "Epoch: [8]  [ 30/701]  eta: 0:07:36  lr: 0.000050  loss: 0.0050 (0.0046)  loss_classifier: 0.0041 (0.0038)  loss_box_reg: 0.0005 (0.0005)  loss_objectness: 0.0000 (0.0000)  loss_rpn_box_reg: 0.0002 (0.0002)  time: 0.6589  data: 0.0003  max mem: 7713\n",
      "Epoch: [8]  [ 40/701]  eta: 0:07:26  lr: 0.000050  loss: 0.0049 (0.0047)  loss_classifier: 0.0039 (0.0038)  loss_box_reg: 0.0005 (0.0006)  loss_objectness: 0.0000 (0.0000)  loss_rpn_box_reg: 0.0002 (0.0003)  time: 0.6587  data: 0.0003  max mem: 7713\n",
      "Epoch: [8]  [ 50/701]  eta: 0:07:16  lr: 0.000050  loss: 0.0036 (0.0045)  loss_classifier: 0.0028 (0.0037)  loss_box_reg: 0.0005 (0.0006)  loss_objectness: 0.0000 (0.0000)  loss_rpn_box_reg: 0.0003 (0.0003)  time: 0.6570  data: 0.0003  max mem: 7713\n",
      "Epoch: [8]  [ 60/701]  eta: 0:07:08  lr: 0.000050  loss: 0.0034 (0.0044)  loss_classifier: 0.0027 (0.0036)  loss_box_reg: 0.0004 (0.0006)  loss_objectness: 0.0000 (0.0000)  loss_rpn_box_reg: 0.0002 (0.0002)  time: 0.6543  data: 0.0003  max mem: 7713\n",
      "Epoch: [8]  [ 70/701]  eta: 0:07:00  lr: 0.000050  loss: 0.0039 (0.0044)  loss_classifier: 0.0030 (0.0036)  loss_box_reg: 0.0005 (0.0006)  loss_objectness: 0.0000 (0.0000)  loss_rpn_box_reg: 0.0003 (0.0003)  time: 0.6566  data: 0.0002  max mem: 7713\n",
      "Epoch: [8]  [ 80/701]  eta: 0:06:53  lr: 0.000050  loss: 0.0034 (0.0043)  loss_classifier: 0.0026 (0.0035)  loss_box_reg: 0.0005 (0.0006)  loss_objectness: 0.0000 (0.0000)  loss_rpn_box_reg: 0.0002 (0.0002)  time: 0.6602  data: 0.0002  max mem: 7713\n",
      "Epoch: [8]  [ 90/701]  eta: 0:06:46  lr: 0.000050  loss: 0.0030 (0.0041)  loss_classifier: 0.0023 (0.0033)  loss_box_reg: 0.0004 (0.0005)  loss_objectness: 0.0000 (0.0000)  loss_rpn_box_reg: 0.0001 (0.0002)  time: 0.6572  data: 0.0003  max mem: 7713\n",
      "Epoch: [8]  [100/701]  eta: 0:06:38  lr: 0.000050  loss: 0.0042 (0.0044)  loss_classifier: 0.0031 (0.0035)  loss_box_reg: 0.0005 (0.0006)  loss_objectness: 0.0000 (0.0000)  loss_rpn_box_reg: 0.0002 (0.0002)  time: 0.6539  data: 0.0003  max mem: 7713\n",
      "Epoch: [8]  [110/701]  eta: 0:06:32  lr: 0.000050  loss: 0.0042 (0.0043)  loss_classifier: 0.0031 (0.0035)  loss_box_reg: 0.0005 (0.0006)  loss_objectness: 0.0000 (0.0000)  loss_rpn_box_reg: 0.0002 (0.0002)  time: 0.6575  data: 0.0003  max mem: 7713\n",
      "Epoch: [8]  [120/701]  eta: 0:06:24  lr: 0.000050  loss: 0.0033 (0.0043)  loss_classifier: 0.0027 (0.0035)  loss_box_reg: 0.0004 (0.0006)  loss_objectness: 0.0000 (0.0000)  loss_rpn_box_reg: 0.0001 (0.0002)  time: 0.6564  data: 0.0003  max mem: 7713\n",
      "Epoch: [8]  [130/701]  eta: 0:06:18  lr: 0.000050  loss: 0.0033 (0.0044)  loss_classifier: 0.0025 (0.0035)  loss_box_reg: 0.0004 (0.0006)  loss_objectness: 0.0000 (0.0000)  loss_rpn_box_reg: 0.0002 (0.0002)  time: 0.6559  data: 0.0003  max mem: 7713\n",
      "Epoch: [8]  [140/701]  eta: 0:06:11  lr: 0.000050  loss: 0.0031 (0.0043)  loss_classifier: 0.0023 (0.0035)  loss_box_reg: 0.0004 (0.0006)  loss_objectness: 0.0000 (0.0000)  loss_rpn_box_reg: 0.0002 (0.0002)  time: 0.6583  data: 0.0002  max mem: 7713\n",
      "Epoch: [8]  [150/701]  eta: 0:06:04  lr: 0.000050  loss: 0.0027 (0.0042)  loss_classifier: 0.0021 (0.0034)  loss_box_reg: 0.0004 (0.0006)  loss_objectness: 0.0000 (0.0000)  loss_rpn_box_reg: 0.0001 (0.0002)  time: 0.6610  data: 0.0002  max mem: 7713\n",
      "Epoch: [8]  [160/701]  eta: 0:05:58  lr: 0.000050  loss: 0.0031 (0.0042)  loss_classifier: 0.0024 (0.0034)  loss_box_reg: 0.0005 (0.0006)  loss_objectness: 0.0000 (0.0000)  loss_rpn_box_reg: 0.0002 (0.0002)  time: 0.6613  data: 0.0002  max mem: 7713\n",
      "Epoch: [8]  [170/701]  eta: 0:05:51  lr: 0.000050  loss: 0.0037 (0.0041)  loss_classifier: 0.0029 (0.0033)  loss_box_reg: 0.0005 (0.0006)  loss_objectness: 0.0000 (0.0000)  loss_rpn_box_reg: 0.0002 (0.0002)  time: 0.6582  data: 0.0002  max mem: 7713\n",
      "Epoch: [8]  [180/701]  eta: 0:05:44  lr: 0.000050  loss: 0.0037 (0.0041)  loss_classifier: 0.0029 (0.0033)  loss_box_reg: 0.0005 (0.0006)  loss_objectness: 0.0000 (0.0000)  loss_rpn_box_reg: 0.0002 (0.0002)  time: 0.6584  data: 0.0002  max mem: 7713\n",
      "Epoch: [8]  [190/701]  eta: 0:05:38  lr: 0.000050  loss: 0.0045 (0.0042)  loss_classifier: 0.0035 (0.0034)  loss_box_reg: 0.0005 (0.0006)  loss_objectness: 0.0000 (0.0000)  loss_rpn_box_reg: 0.0002 (0.0002)  time: 0.6611  data: 0.0002  max mem: 7713\n"
     ]
    },
    {
     "name": "stdout",
     "output_type": "stream",
     "text": [
      "Epoch: [8]  [200/701]  eta: 0:05:31  lr: 0.000050  loss: 0.0049 (0.0042)  loss_classifier: 0.0037 (0.0034)  loss_box_reg: 0.0005 (0.0006)  loss_objectness: 0.0000 (0.0000)  loss_rpn_box_reg: 0.0002 (0.0002)  time: 0.6592  data: 0.0002  max mem: 7713\n",
      "Epoch: [8]  [210/701]  eta: 0:05:24  lr: 0.000050  loss: 0.0040 (0.0042)  loss_classifier: 0.0030 (0.0034)  loss_box_reg: 0.0005 (0.0006)  loss_objectness: 0.0000 (0.0000)  loss_rpn_box_reg: 0.0002 (0.0002)  time: 0.6604  data: 0.0003  max mem: 7713\n",
      "Epoch: [8]  [220/701]  eta: 0:05:18  lr: 0.000050  loss: 0.0036 (0.0042)  loss_classifier: 0.0030 (0.0034)  loss_box_reg: 0.0004 (0.0006)  loss_objectness: 0.0000 (0.0000)  loss_rpn_box_reg: 0.0002 (0.0002)  time: 0.6640  data: 0.0003  max mem: 7713\n",
      "Epoch: [8]  [230/701]  eta: 0:05:11  lr: 0.000050  loss: 0.0036 (0.0042)  loss_classifier: 0.0027 (0.0034)  loss_box_reg: 0.0004 (0.0006)  loss_objectness: 0.0000 (0.0000)  loss_rpn_box_reg: 0.0001 (0.0002)  time: 0.6606  data: 0.0002  max mem: 7713\n",
      "Epoch: [8]  [240/701]  eta: 0:05:04  lr: 0.000050  loss: 0.0047 (0.0043)  loss_classifier: 0.0040 (0.0035)  loss_box_reg: 0.0005 (0.0006)  loss_objectness: 0.0000 (0.0000)  loss_rpn_box_reg: 0.0003 (0.0002)  time: 0.6602  data: 0.0003  max mem: 7713\n",
      "Epoch: [8]  [250/701]  eta: 0:04:58  lr: 0.000050  loss: 0.0042 (0.0043)  loss_classifier: 0.0032 (0.0034)  loss_box_reg: 0.0005 (0.0006)  loss_objectness: 0.0000 (0.0000)  loss_rpn_box_reg: 0.0002 (0.0002)  time: 0.6594  data: 0.0003  max mem: 7713\n",
      "Epoch: [8]  [260/701]  eta: 0:04:51  lr: 0.000050  loss: 0.0039 (0.0043)  loss_classifier: 0.0030 (0.0035)  loss_box_reg: 0.0004 (0.0006)  loss_objectness: 0.0000 (0.0000)  loss_rpn_box_reg: 0.0001 (0.0002)  time: 0.6613  data: 0.0002  max mem: 7713\n",
      "Epoch: [8]  [270/701]  eta: 0:04:45  lr: 0.000050  loss: 0.0039 (0.0043)  loss_classifier: 0.0032 (0.0034)  loss_box_reg: 0.0004 (0.0006)  loss_objectness: 0.0000 (0.0000)  loss_rpn_box_reg: 0.0002 (0.0002)  time: 0.6631  data: 0.0002  max mem: 7713\n",
      "Epoch: [8]  [280/701]  eta: 0:04:38  lr: 0.000050  loss: 0.0030 (0.0043)  loss_classifier: 0.0022 (0.0034)  loss_box_reg: 0.0004 (0.0006)  loss_objectness: 0.0000 (0.0000)  loss_rpn_box_reg: 0.0001 (0.0002)  time: 0.6594  data: 0.0003  max mem: 7713\n",
      "Epoch: [8]  [290/701]  eta: 0:04:31  lr: 0.000050  loss: 0.0033 (0.0043)  loss_classifier: 0.0028 (0.0034)  loss_box_reg: 0.0004 (0.0006)  loss_objectness: 0.0000 (0.0000)  loss_rpn_box_reg: 0.0001 (0.0002)  time: 0.6589  data: 0.0003  max mem: 7713\n",
      "Epoch: [8]  [300/701]  eta: 0:04:25  lr: 0.000050  loss: 0.0049 (0.0043)  loss_classifier: 0.0039 (0.0035)  loss_box_reg: 0.0005 (0.0006)  loss_objectness: 0.0000 (0.0000)  loss_rpn_box_reg: 0.0002 (0.0002)  time: 0.6602  data: 0.0003  max mem: 7713\n",
      "Epoch: [8]  [310/701]  eta: 0:04:18  lr: 0.000050  loss: 0.0046 (0.0043)  loss_classifier: 0.0038 (0.0035)  loss_box_reg: 0.0005 (0.0006)  loss_objectness: 0.0000 (0.0000)  loss_rpn_box_reg: 0.0002 (0.0002)  time: 0.6608  data: 0.0003  max mem: 7713\n",
      "Epoch: [8]  [320/701]  eta: 0:04:11  lr: 0.000050  loss: 0.0045 (0.0043)  loss_classifier: 0.0037 (0.0035)  loss_box_reg: 0.0005 (0.0006)  loss_objectness: 0.0000 (0.0000)  loss_rpn_box_reg: 0.0002 (0.0002)  time: 0.6620  data: 0.0003  max mem: 7713\n",
      "Epoch: [8]  [330/701]  eta: 0:04:05  lr: 0.000050  loss: 0.0032 (0.0043)  loss_classifier: 0.0028 (0.0035)  loss_box_reg: 0.0005 (0.0006)  loss_objectness: 0.0000 (0.0000)  loss_rpn_box_reg: 0.0002 (0.0002)  time: 0.6615  data: 0.0003  max mem: 7713\n",
      "Epoch: [8]  [340/701]  eta: 0:03:58  lr: 0.000050  loss: 0.0032 (0.0043)  loss_classifier: 0.0026 (0.0034)  loss_box_reg: 0.0005 (0.0006)  loss_objectness: 0.0000 (0.0000)  loss_rpn_box_reg: 0.0002 (0.0002)  time: 0.6605  data: 0.0003  max mem: 7713\n",
      "Epoch: [8]  [350/701]  eta: 0:03:52  lr: 0.000050  loss: 0.0032 (0.0042)  loss_classifier: 0.0026 (0.0034)  loss_box_reg: 0.0004 (0.0006)  loss_objectness: 0.0000 (0.0000)  loss_rpn_box_reg: 0.0001 (0.0002)  time: 0.6623  data: 0.0003  max mem: 7713\n",
      "Epoch: [8]  [360/701]  eta: 0:03:45  lr: 0.000050  loss: 0.0033 (0.0042)  loss_classifier: 0.0026 (0.0034)  loss_box_reg: 0.0003 (0.0006)  loss_objectness: 0.0000 (0.0000)  loss_rpn_box_reg: 0.0001 (0.0002)  time: 0.6630  data: 0.0003  max mem: 7713\n",
      "Epoch: [8]  [370/701]  eta: 0:03:38  lr: 0.000050  loss: 0.0037 (0.0042)  loss_classifier: 0.0029 (0.0034)  loss_box_reg: 0.0004 (0.0006)  loss_objectness: 0.0000 (0.0000)  loss_rpn_box_reg: 0.0001 (0.0002)  time: 0.6619  data: 0.0002  max mem: 7713\n",
      "Epoch: [8]  [380/701]  eta: 0:03:32  lr: 0.000050  loss: 0.0038 (0.0042)  loss_classifier: 0.0030 (0.0034)  loss_box_reg: 0.0004 (0.0006)  loss_objectness: 0.0000 (0.0000)  loss_rpn_box_reg: 0.0001 (0.0002)  time: 0.6636  data: 0.0003  max mem: 7713\n",
      "Epoch: [8]  [390/701]  eta: 0:03:25  lr: 0.000050  loss: 0.0039 (0.0042)  loss_classifier: 0.0030 (0.0034)  loss_box_reg: 0.0004 (0.0006)  loss_objectness: 0.0000 (0.0000)  loss_rpn_box_reg: 0.0001 (0.0002)  time: 0.6639  data: 0.0003  max mem: 7713\n",
      "Epoch: [8]  [400/701]  eta: 0:03:19  lr: 0.000050  loss: 0.0035 (0.0042)  loss_classifier: 0.0029 (0.0034)  loss_box_reg: 0.0004 (0.0006)  loss_objectness: 0.0000 (0.0000)  loss_rpn_box_reg: 0.0002 (0.0002)  time: 0.6605  data: 0.0003  max mem: 7713\n",
      "Epoch: [8]  [410/701]  eta: 0:03:12  lr: 0.000050  loss: 0.0033 (0.0042)  loss_classifier: 0.0029 (0.0034)  loss_box_reg: 0.0004 (0.0006)  loss_objectness: 0.0000 (0.0000)  loss_rpn_box_reg: 0.0002 (0.0002)  time: 0.6625  data: 0.0002  max mem: 7713\n",
      "Epoch: [8]  [420/701]  eta: 0:03:05  lr: 0.000050  loss: 0.0032 (0.0042)  loss_classifier: 0.0027 (0.0034)  loss_box_reg: 0.0004 (0.0006)  loss_objectness: 0.0000 (0.0000)  loss_rpn_box_reg: 0.0001 (0.0002)  time: 0.6641  data: 0.0003  max mem: 7713\n",
      "Epoch: [8]  [430/701]  eta: 0:02:59  lr: 0.000050  loss: 0.0032 (0.0042)  loss_classifier: 0.0027 (0.0034)  loss_box_reg: 0.0004 (0.0006)  loss_objectness: 0.0000 (0.0000)  loss_rpn_box_reg: 0.0001 (0.0002)  time: 0.6622  data: 0.0003  max mem: 7713\n",
      "Epoch: [8]  [440/701]  eta: 0:02:52  lr: 0.000050  loss: 0.0042 (0.0042)  loss_classifier: 0.0036 (0.0034)  loss_box_reg: 0.0005 (0.0006)  loss_objectness: 0.0000 (0.0000)  loss_rpn_box_reg: 0.0003 (0.0002)  time: 0.6640  data: 0.0003  max mem: 7713\n",
      "Epoch: [8]  [450/701]  eta: 0:02:46  lr: 0.000050  loss: 0.0042 (0.0042)  loss_classifier: 0.0035 (0.0034)  loss_box_reg: 0.0005 (0.0006)  loss_objectness: 0.0000 (0.0000)  loss_rpn_box_reg: 0.0003 (0.0002)  time: 0.6630  data: 0.0004  max mem: 7713\n",
      "Epoch: [8]  [460/701]  eta: 0:02:39  lr: 0.000050  loss: 0.0039 (0.0042)  loss_classifier: 0.0033 (0.0034)  loss_box_reg: 0.0004 (0.0006)  loss_objectness: 0.0000 (0.0000)  loss_rpn_box_reg: 0.0002 (0.0002)  time: 0.6642  data: 0.0003  max mem: 7713\n",
      "Epoch: [8]  [470/701]  eta: 0:02:32  lr: 0.000050  loss: 0.0036 (0.0042)  loss_classifier: 0.0032 (0.0034)  loss_box_reg: 0.0004 (0.0006)  loss_objectness: 0.0000 (0.0000)  loss_rpn_box_reg: 0.0002 (0.0002)  time: 0.6630  data: 0.0002  max mem: 7713\n",
      "Epoch: [8]  [480/701]  eta: 0:02:26  lr: 0.000050  loss: 0.0044 (0.0042)  loss_classifier: 0.0036 (0.0034)  loss_box_reg: 0.0004 (0.0006)  loss_objectness: 0.0000 (0.0000)  loss_rpn_box_reg: 0.0002 (0.0002)  time: 0.6634  data: 0.0002  max mem: 7713\n",
      "Epoch: [8]  [490/701]  eta: 0:02:19  lr: 0.000050  loss: 0.0044 (0.0042)  loss_classifier: 0.0035 (0.0034)  loss_box_reg: 0.0005 (0.0006)  loss_objectness: 0.0000 (0.0000)  loss_rpn_box_reg: 0.0002 (0.0002)  time: 0.6643  data: 0.0002  max mem: 7713\n",
      "Epoch: [8]  [500/701]  eta: 0:02:13  lr: 0.000050  loss: 0.0043 (0.0042)  loss_classifier: 0.0031 (0.0034)  loss_box_reg: 0.0006 (0.0006)  loss_objectness: 0.0000 (0.0000)  loss_rpn_box_reg: 0.0003 (0.0002)  time: 0.6598  data: 0.0003  max mem: 7713\n",
      "Epoch: [8]  [510/701]  eta: 0:02:06  lr: 0.000050  loss: 0.0037 (0.0042)  loss_classifier: 0.0029 (0.0034)  loss_box_reg: 0.0005 (0.0006)  loss_objectness: 0.0000 (0.0000)  loss_rpn_box_reg: 0.0002 (0.0002)  time: 0.6590  data: 0.0003  max mem: 7713\n",
      "Epoch: [8]  [520/701]  eta: 0:01:59  lr: 0.000050  loss: 0.0031 (0.0042)  loss_classifier: 0.0024 (0.0034)  loss_box_reg: 0.0004 (0.0006)  loss_objectness: 0.0000 (0.0000)  loss_rpn_box_reg: 0.0002 (0.0002)  time: 0.6592  data: 0.0002  max mem: 7713\n"
     ]
    },
    {
     "name": "stdout",
     "output_type": "stream",
     "text": [
      "Epoch: [8]  [530/701]  eta: 0:01:53  lr: 0.000050  loss: 0.0032 (0.0042)  loss_classifier: 0.0024 (0.0034)  loss_box_reg: 0.0005 (0.0006)  loss_objectness: 0.0000 (0.0000)  loss_rpn_box_reg: 0.0002 (0.0002)  time: 0.6631  data: 0.0002  max mem: 7713\n",
      "Epoch: [8]  [540/701]  eta: 0:01:46  lr: 0.000050  loss: 0.0042 (0.0042)  loss_classifier: 0.0029 (0.0034)  loss_box_reg: 0.0005 (0.0006)  loss_objectness: 0.0000 (0.0000)  loss_rpn_box_reg: 0.0002 (0.0002)  time: 0.6608  data: 0.0002  max mem: 7713\n",
      "Epoch: [8]  [550/701]  eta: 0:01:39  lr: 0.000050  loss: 0.0043 (0.0042)  loss_classifier: 0.0031 (0.0034)  loss_box_reg: 0.0005 (0.0006)  loss_objectness: 0.0000 (0.0000)  loss_rpn_box_reg: 0.0003 (0.0002)  time: 0.6564  data: 0.0003  max mem: 7713\n",
      "Epoch: [8]  [560/701]  eta: 0:01:33  lr: 0.000050  loss: 0.0036 (0.0042)  loss_classifier: 0.0030 (0.0034)  loss_box_reg: 0.0005 (0.0006)  loss_objectness: 0.0000 (0.0000)  loss_rpn_box_reg: 0.0003 (0.0002)  time: 0.6582  data: 0.0002  max mem: 7713\n",
      "Epoch: [8]  [570/701]  eta: 0:01:26  lr: 0.000050  loss: 0.0033 (0.0042)  loss_classifier: 0.0027 (0.0034)  loss_box_reg: 0.0005 (0.0006)  loss_objectness: 0.0000 (0.0000)  loss_rpn_box_reg: 0.0002 (0.0002)  time: 0.6598  data: 0.0003  max mem: 7713\n",
      "Epoch: [8]  [580/701]  eta: 0:01:20  lr: 0.000050  loss: 0.0037 (0.0042)  loss_classifier: 0.0029 (0.0034)  loss_box_reg: 0.0005 (0.0006)  loss_objectness: 0.0000 (0.0000)  loss_rpn_box_reg: 0.0002 (0.0002)  time: 0.6624  data: 0.0003  max mem: 7713\n",
      "Epoch: [8]  [590/701]  eta: 0:01:13  lr: 0.000050  loss: 0.0036 (0.0042)  loss_classifier: 0.0029 (0.0034)  loss_box_reg: 0.0004 (0.0006)  loss_objectness: 0.0000 (0.0000)  loss_rpn_box_reg: 0.0002 (0.0002)  time: 0.6638  data: 0.0002  max mem: 7713\n",
      "Epoch: [8]  [600/701]  eta: 0:01:06  lr: 0.000050  loss: 0.0036 (0.0042)  loss_classifier: 0.0030 (0.0034)  loss_box_reg: 0.0005 (0.0006)  loss_objectness: 0.0000 (0.0000)  loss_rpn_box_reg: 0.0002 (0.0002)  time: 0.6612  data: 0.0003  max mem: 7713\n",
      "Epoch: [8]  [610/701]  eta: 0:01:00  lr: 0.000050  loss: 0.0041 (0.0042)  loss_classifier: 0.0031 (0.0034)  loss_box_reg: 0.0006 (0.0006)  loss_objectness: 0.0000 (0.0000)  loss_rpn_box_reg: 0.0002 (0.0002)  time: 0.6594  data: 0.0002  max mem: 7713\n",
      "Epoch: [8]  [620/701]  eta: 0:00:53  lr: 0.000050  loss: 0.0035 (0.0043)  loss_classifier: 0.0028 (0.0034)  loss_box_reg: 0.0005 (0.0006)  loss_objectness: 0.0000 (0.0000)  loss_rpn_box_reg: 0.0002 (0.0002)  time: 0.6589  data: 0.0002  max mem: 7713\n",
      "Epoch: [8]  [630/701]  eta: 0:00:46  lr: 0.000050  loss: 0.0036 (0.0043)  loss_classifier: 0.0031 (0.0034)  loss_box_reg: 0.0005 (0.0006)  loss_objectness: 0.0000 (0.0000)  loss_rpn_box_reg: 0.0002 (0.0002)  time: 0.6613  data: 0.0002  max mem: 7713\n",
      "Epoch: [8]  [640/701]  eta: 0:00:40  lr: 0.000050  loss: 0.0038 (0.0043)  loss_classifier: 0.0031 (0.0034)  loss_box_reg: 0.0005 (0.0006)  loss_objectness: 0.0000 (0.0000)  loss_rpn_box_reg: 0.0002 (0.0002)  time: 0.6626  data: 0.0002  max mem: 7713\n",
      "Epoch: [8]  [650/701]  eta: 0:00:33  lr: 0.000050  loss: 0.0038 (0.0043)  loss_classifier: 0.0029 (0.0034)  loss_box_reg: 0.0005 (0.0006)  loss_objectness: 0.0000 (0.0000)  loss_rpn_box_reg: 0.0002 (0.0002)  time: 0.6633  data: 0.0003  max mem: 7713\n",
      "Epoch: [8]  [660/701]  eta: 0:00:27  lr: 0.000050  loss: 0.0041 (0.0043)  loss_classifier: 0.0035 (0.0034)  loss_box_reg: 0.0005 (0.0006)  loss_objectness: 0.0000 (0.0000)  loss_rpn_box_reg: 0.0002 (0.0002)  time: 0.6626  data: 0.0002  max mem: 7713\n",
      "Epoch: [8]  [670/701]  eta: 0:00:20  lr: 0.000050  loss: 0.0044 (0.0043)  loss_classifier: 0.0035 (0.0034)  loss_box_reg: 0.0005 (0.0006)  loss_objectness: 0.0000 (0.0000)  loss_rpn_box_reg: 0.0002 (0.0002)  time: 0.6617  data: 0.0003  max mem: 7713\n",
      "Epoch: [8]  [680/701]  eta: 0:00:13  lr: 0.000050  loss: 0.0030 (0.0042)  loss_classifier: 0.0025 (0.0034)  loss_box_reg: 0.0004 (0.0006)  loss_objectness: 0.0000 (0.0000)  loss_rpn_box_reg: 0.0002 (0.0002)  time: 0.6607  data: 0.0003  max mem: 7713\n",
      "Epoch: [8]  [690/701]  eta: 0:00:07  lr: 0.000050  loss: 0.0032 (0.0042)  loss_classifier: 0.0026 (0.0034)  loss_box_reg: 0.0004 (0.0006)  loss_objectness: 0.0000 (0.0000)  loss_rpn_box_reg: 0.0002 (0.0002)  time: 0.6596  data: 0.0003  max mem: 7713\n",
      "Epoch: [8]  [700/701]  eta: 0:00:00  lr: 0.000050  loss: 0.0043 (0.0042)  loss_classifier: 0.0032 (0.0034)  loss_box_reg: 0.0005 (0.0006)  loss_objectness: 0.0000 (0.0000)  loss_rpn_box_reg: 0.0002 (0.0002)  time: 0.6524  data: 0.0002  max mem: 7713\n",
      "Epoch: [8] Total time: 0:07:43 (0.6615 s / it)\n",
      "creating index...\n",
      "index created!\n",
      "Test:  [  0/604]  eta: 0:14:23  model_time: 0.3273 (0.3273)  evaluator_time: 0.0117 (0.0117)  time: 1.4288  data: 1.0836  max mem: 7713\n",
      "Test:  [100/604]  eta: 0:02:31  model_time: 0.2791 (0.2810)  evaluator_time: 0.0038 (0.0040)  time: 0.2906  data: 0.0002  max mem: 7713\n",
      "Test:  [200/604]  eta: 0:01:59  model_time: 0.2790 (0.2804)  evaluator_time: 0.0047 (0.0039)  time: 0.2888  data: 0.0001  max mem: 7713\n",
      "Test:  [300/604]  eta: 0:01:29  model_time: 0.2791 (0.2805)  evaluator_time: 0.0049 (0.0043)  time: 0.2925  data: 0.0001  max mem: 7713\n",
      "Test:  [400/604]  eta: 0:00:59  model_time: 0.2789 (0.2805)  evaluator_time: 0.0048 (0.0045)  time: 0.2891  data: 0.0001  max mem: 7713\n",
      "Test:  [500/604]  eta: 0:00:30  model_time: 0.2789 (0.2805)  evaluator_time: 0.0062 (0.0048)  time: 0.2923  data: 0.0001  max mem: 7713\n",
      "Test:  [600/604]  eta: 0:00:01  model_time: 0.2792 (0.2803)  evaluator_time: 0.0037 (0.0048)  time: 0.2883  data: 0.0001  max mem: 7713\n",
      "Test:  [603/604]  eta: 0:00:00  model_time: 0.2792 (0.2801)  evaluator_time: 0.0036 (0.0048)  time: 0.2840  data: 0.0001  max mem: 7713\n",
      "Test: Total time: 0:02:56 (0.2924 s / it)\n",
      "Averaged stats: model_time: 0.2792 (0.2801)  evaluator_time: 0.0036 (0.0048)\n",
      "Accumulating evaluation results...\n",
      "DONE (t=0.22s).\n",
      "IoU metric: bbox\n",
      " Average Precision  (AP) @[ IoU=0.50:0.95 | area=   all | maxDets=100 ] = 0.256\n",
      " Average Precision  (AP) @[ IoU=0.50      | area=   all | maxDets=100 ] = 0.989\n",
      " Average Precision  (AP) @[ IoU=0.75      | area=   all | maxDets=100 ] = 0.032\n",
      " Average Precision  (AP) @[ IoU=0.50:0.95 | area= small | maxDets=100 ] = -1.000\n",
      " Average Precision  (AP) @[ IoU=0.50:0.95 | area=medium | maxDets=100 ] = 0.262\n",
      " Average Precision  (AP) @[ IoU=0.50:0.95 | area= large | maxDets=100 ] = -1.000\n",
      " Average Recall     (AR) @[ IoU=0.50:0.95 | area=   all | maxDets=  1 ] = 0.183\n",
      " Average Recall     (AR) @[ IoU=0.50:0.95 | area=   all | maxDets= 10 ] = 0.352\n",
      " Average Recall     (AR) @[ IoU=0.50:0.95 | area=   all | maxDets=100 ] = 0.352\n",
      " Average Recall     (AR) @[ IoU=0.50:0.95 | area= small | maxDets=100 ] = -1.000\n",
      " Average Recall     (AR) @[ IoU=0.50:0.95 | area=medium | maxDets=100 ] = 0.352\n",
      " Average Recall     (AR) @[ IoU=0.50:0.95 | area= large | maxDets=100 ] = -1.000\n",
      "Epoch: [9]  [  0/701]  eta: 0:25:32  lr: 0.000005  loss: 0.0031 (0.0031)  loss_classifier: 0.0026 (0.0026)  loss_box_reg: 0.0004 (0.0004)  loss_objectness: 0.0000 (0.0000)  loss_rpn_box_reg: 0.0001 (0.0001)  time: 2.1862  data: 1.4556  max mem: 7713\n",
      "Epoch: [9]  [ 10/701]  eta: 0:09:19  lr: 0.000005  loss: 0.0031 (0.0032)  loss_classifier: 0.0024 (0.0025)  loss_box_reg: 0.0004 (0.0005)  loss_objectness: 0.0000 (0.0000)  loss_rpn_box_reg: 0.0001 (0.0002)  time: 0.8103  data: 0.1326  max mem: 7713\n",
      "Epoch: [9]  [ 20/701]  eta: 0:08:23  lr: 0.000005  loss: 0.0031 (0.0036)  loss_classifier: 0.0024 (0.0029)  loss_box_reg: 0.0004 (0.0005)  loss_objectness: 0.0000 (0.0000)  loss_rpn_box_reg: 0.0002 (0.0002)  time: 0.6670  data: 0.0002  max mem: 7713\n",
      "Epoch: [9]  [ 30/701]  eta: 0:08:00  lr: 0.000005  loss: 0.0039 (0.0036)  loss_classifier: 0.0033 (0.0029)  loss_box_reg: 0.0004 (0.0005)  loss_objectness: 0.0000 (0.0000)  loss_rpn_box_reg: 0.0002 (0.0002)  time: 0.6639  data: 0.0003  max mem: 7713\n",
      "Epoch: [9]  [ 40/701]  eta: 0:07:43  lr: 0.000005  loss: 0.0039 (0.0039)  loss_classifier: 0.0033 (0.0032)  loss_box_reg: 0.0004 (0.0005)  loss_objectness: 0.0000 (0.0000)  loss_rpn_box_reg: 0.0002 (0.0002)  time: 0.6624  data: 0.0003  max mem: 7713\n",
      "Epoch: [9]  [ 50/701]  eta: 0:07:32  lr: 0.000005  loss: 0.0039 (0.0039)  loss_classifier: 0.0032 (0.0032)  loss_box_reg: 0.0004 (0.0005)  loss_objectness: 0.0000 (0.0000)  loss_rpn_box_reg: 0.0002 (0.0002)  time: 0.6609  data: 0.0002  max mem: 7713\n"
     ]
    },
    {
     "name": "stdout",
     "output_type": "stream",
     "text": [
      "Epoch: [9]  [ 60/701]  eta: 0:07:21  lr: 0.000005  loss: 0.0031 (0.0039)  loss_classifier: 0.0025 (0.0032)  loss_box_reg: 0.0004 (0.0005)  loss_objectness: 0.0000 (0.0000)  loss_rpn_box_reg: 0.0002 (0.0002)  time: 0.6636  data: 0.0002  max mem: 7713\n",
      "Epoch: [9]  [ 70/701]  eta: 0:07:12  lr: 0.000005  loss: 0.0028 (0.0039)  loss_classifier: 0.0023 (0.0032)  loss_box_reg: 0.0004 (0.0005)  loss_objectness: 0.0000 (0.0000)  loss_rpn_box_reg: 0.0001 (0.0002)  time: 0.6601  data: 0.0003  max mem: 7713\n",
      "Epoch: [9]  [ 80/701]  eta: 0:07:03  lr: 0.000005  loss: 0.0038 (0.0040)  loss_classifier: 0.0031 (0.0033)  loss_box_reg: 0.0005 (0.0005)  loss_objectness: 0.0000 (0.0000)  loss_rpn_box_reg: 0.0002 (0.0002)  time: 0.6596  data: 0.0002  max mem: 7713\n",
      "Epoch: [9]  [ 90/701]  eta: 0:06:55  lr: 0.000005  loss: 0.0038 (0.0040)  loss_classifier: 0.0031 (0.0033)  loss_box_reg: 0.0005 (0.0005)  loss_objectness: 0.0000 (0.0000)  loss_rpn_box_reg: 0.0002 (0.0002)  time: 0.6617  data: 0.0002  max mem: 7713\n",
      "Epoch: [9]  [100/701]  eta: 0:06:47  lr: 0.000005  loss: 0.0041 (0.0040)  loss_classifier: 0.0033 (0.0033)  loss_box_reg: 0.0005 (0.0005)  loss_objectness: 0.0000 (0.0000)  loss_rpn_box_reg: 0.0002 (0.0002)  time: 0.6625  data: 0.0002  max mem: 7713\n",
      "Epoch: [9]  [110/701]  eta: 0:06:39  lr: 0.000005  loss: 0.0040 (0.0039)  loss_classifier: 0.0031 (0.0032)  loss_box_reg: 0.0005 (0.0005)  loss_objectness: 0.0000 (0.0000)  loss_rpn_box_reg: 0.0002 (0.0002)  time: 0.6609  data: 0.0003  max mem: 7713\n",
      "Epoch: [9]  [120/701]  eta: 0:06:32  lr: 0.000005  loss: 0.0032 (0.0040)  loss_classifier: 0.0025 (0.0032)  loss_box_reg: 0.0004 (0.0005)  loss_objectness: 0.0000 (0.0000)  loss_rpn_box_reg: 0.0002 (0.0002)  time: 0.6602  data: 0.0003  max mem: 7713\n",
      "Epoch: [9]  [130/701]  eta: 0:06:24  lr: 0.000005  loss: 0.0039 (0.0041)  loss_classifier: 0.0033 (0.0033)  loss_box_reg: 0.0005 (0.0006)  loss_objectness: 0.0000 (0.0000)  loss_rpn_box_reg: 0.0002 (0.0002)  time: 0.6608  data: 0.0002  max mem: 7713\n",
      "Epoch: [9]  [140/701]  eta: 0:06:17  lr: 0.000005  loss: 0.0046 (0.0042)  loss_classifier: 0.0038 (0.0034)  loss_box_reg: 0.0005 (0.0006)  loss_objectness: 0.0000 (0.0000)  loss_rpn_box_reg: 0.0002 (0.0002)  time: 0.6593  data: 0.0002  max mem: 7713\n",
      "Epoch: [9]  [150/701]  eta: 0:06:10  lr: 0.000005  loss: 0.0046 (0.0041)  loss_classifier: 0.0035 (0.0033)  loss_box_reg: 0.0005 (0.0006)  loss_objectness: 0.0000 (0.0000)  loss_rpn_box_reg: 0.0003 (0.0002)  time: 0.6599  data: 0.0002  max mem: 7713\n",
      "Epoch: [9]  [160/701]  eta: 0:06:03  lr: 0.000005  loss: 0.0037 (0.0042)  loss_classifier: 0.0028 (0.0034)  loss_box_reg: 0.0005 (0.0006)  loss_objectness: 0.0000 (0.0000)  loss_rpn_box_reg: 0.0002 (0.0002)  time: 0.6578  data: 0.0004  max mem: 7713\n",
      "Epoch: [9]  [170/701]  eta: 0:05:56  lr: 0.000005  loss: 0.0036 (0.0041)  loss_classifier: 0.0028 (0.0033)  loss_box_reg: 0.0006 (0.0006)  loss_objectness: 0.0000 (0.0000)  loss_rpn_box_reg: 0.0002 (0.0002)  time: 0.6591  data: 0.0004  max mem: 7713\n",
      "Epoch: [9]  [180/701]  eta: 0:05:49  lr: 0.000005  loss: 0.0034 (0.0041)  loss_classifier: 0.0028 (0.0033)  loss_box_reg: 0.0005 (0.0006)  loss_objectness: 0.0000 (0.0000)  loss_rpn_box_reg: 0.0002 (0.0002)  time: 0.6655  data: 0.0002  max mem: 7713\n",
      "Epoch: [9]  [190/701]  eta: 0:05:42  lr: 0.000005  loss: 0.0036 (0.0041)  loss_classifier: 0.0030 (0.0033)  loss_box_reg: 0.0004 (0.0006)  loss_objectness: 0.0000 (0.0000)  loss_rpn_box_reg: 0.0002 (0.0002)  time: 0.6632  data: 0.0002  max mem: 7713\n",
      "Epoch: [9]  [200/701]  eta: 0:05:35  lr: 0.000005  loss: 0.0037 (0.0042)  loss_classifier: 0.0030 (0.0033)  loss_box_reg: 0.0005 (0.0006)  loss_objectness: 0.0000 (0.0000)  loss_rpn_box_reg: 0.0002 (0.0002)  time: 0.6609  data: 0.0002  max mem: 7713\n",
      "Epoch: [9]  [210/701]  eta: 0:05:28  lr: 0.000005  loss: 0.0037 (0.0041)  loss_classifier: 0.0028 (0.0033)  loss_box_reg: 0.0005 (0.0006)  loss_objectness: 0.0000 (0.0000)  loss_rpn_box_reg: 0.0002 (0.0002)  time: 0.6621  data: 0.0002  max mem: 7713\n",
      "Epoch: [9]  [220/701]  eta: 0:05:21  lr: 0.000005  loss: 0.0039 (0.0042)  loss_classifier: 0.0031 (0.0033)  loss_box_reg: 0.0005 (0.0006)  loss_objectness: 0.0000 (0.0000)  loss_rpn_box_reg: 0.0002 (0.0002)  time: 0.6585  data: 0.0002  max mem: 7713\n",
      "Epoch: [9]  [230/701]  eta: 0:05:14  lr: 0.000005  loss: 0.0043 (0.0042)  loss_classifier: 0.0035 (0.0033)  loss_box_reg: 0.0005 (0.0006)  loss_objectness: 0.0000 (0.0000)  loss_rpn_box_reg: 0.0002 (0.0002)  time: 0.6570  data: 0.0002  max mem: 7713\n",
      "Epoch: [9]  [240/701]  eta: 0:05:07  lr: 0.000005  loss: 0.0036 (0.0041)  loss_classifier: 0.0031 (0.0033)  loss_box_reg: 0.0004 (0.0006)  loss_objectness: 0.0000 (0.0000)  loss_rpn_box_reg: 0.0001 (0.0002)  time: 0.6590  data: 0.0002  max mem: 7713\n",
      "Epoch: [9]  [250/701]  eta: 0:05:00  lr: 0.000005  loss: 0.0030 (0.0041)  loss_classifier: 0.0026 (0.0033)  loss_box_reg: 0.0004 (0.0006)  loss_objectness: 0.0000 (0.0000)  loss_rpn_box_reg: 0.0001 (0.0002)  time: 0.6600  data: 0.0002  max mem: 7713\n",
      "Epoch: [9]  [260/701]  eta: 0:04:54  lr: 0.000005  loss: 0.0030 (0.0041)  loss_classifier: 0.0026 (0.0033)  loss_box_reg: 0.0004 (0.0006)  loss_objectness: 0.0000 (0.0000)  loss_rpn_box_reg: 0.0001 (0.0002)  time: 0.6636  data: 0.0002  max mem: 7713\n",
      "Epoch: [9]  [270/701]  eta: 0:04:47  lr: 0.000005  loss: 0.0029 (0.0041)  loss_classifier: 0.0025 (0.0033)  loss_box_reg: 0.0004 (0.0006)  loss_objectness: 0.0000 (0.0000)  loss_rpn_box_reg: 0.0002 (0.0002)  time: 0.6629  data: 0.0002  max mem: 7713\n",
      "Epoch: [9]  [280/701]  eta: 0:04:40  lr: 0.000005  loss: 0.0028 (0.0041)  loss_classifier: 0.0024 (0.0033)  loss_box_reg: 0.0005 (0.0006)  loss_objectness: 0.0000 (0.0000)  loss_rpn_box_reg: 0.0002 (0.0002)  time: 0.6649  data: 0.0002  max mem: 7713\n",
      "Epoch: [9]  [290/701]  eta: 0:04:34  lr: 0.000005  loss: 0.0029 (0.0041)  loss_classifier: 0.0024 (0.0033)  loss_box_reg: 0.0004 (0.0006)  loss_objectness: 0.0000 (0.0000)  loss_rpn_box_reg: 0.0002 (0.0002)  time: 0.6657  data: 0.0002  max mem: 7713\n",
      "Epoch: [9]  [300/701]  eta: 0:04:27  lr: 0.000005  loss: 0.0046 (0.0041)  loss_classifier: 0.0037 (0.0033)  loss_box_reg: 0.0004 (0.0006)  loss_objectness: 0.0000 (0.0000)  loss_rpn_box_reg: 0.0002 (0.0002)  time: 0.6567  data: 0.0002  max mem: 7713\n",
      "Epoch: [9]  [310/701]  eta: 0:04:20  lr: 0.000005  loss: 0.0049 (0.0042)  loss_classifier: 0.0038 (0.0033)  loss_box_reg: 0.0006 (0.0006)  loss_objectness: 0.0000 (0.0000)  loss_rpn_box_reg: 0.0003 (0.0002)  time: 0.6542  data: 0.0002  max mem: 7713\n",
      "Epoch: [9]  [320/701]  eta: 0:04:13  lr: 0.000005  loss: 0.0047 (0.0042)  loss_classifier: 0.0038 (0.0033)  loss_box_reg: 0.0005 (0.0006)  loss_objectness: 0.0000 (0.0000)  loss_rpn_box_reg: 0.0002 (0.0002)  time: 0.6571  data: 0.0002  max mem: 7713\n",
      "Epoch: [9]  [330/701]  eta: 0:04:06  lr: 0.000005  loss: 0.0047 (0.0042)  loss_classifier: 0.0036 (0.0034)  loss_box_reg: 0.0005 (0.0006)  loss_objectness: 0.0000 (0.0000)  loss_rpn_box_reg: 0.0002 (0.0002)  time: 0.6594  data: 0.0002  max mem: 7713\n",
      "Epoch: [9]  [340/701]  eta: 0:04:00  lr: 0.000005  loss: 0.0035 (0.0042)  loss_classifier: 0.0028 (0.0034)  loss_box_reg: 0.0005 (0.0006)  loss_objectness: 0.0000 (0.0000)  loss_rpn_box_reg: 0.0002 (0.0002)  time: 0.6582  data: 0.0002  max mem: 7713\n",
      "Epoch: [9]  [350/701]  eta: 0:03:53  lr: 0.000005  loss: 0.0032 (0.0042)  loss_classifier: 0.0027 (0.0033)  loss_box_reg: 0.0005 (0.0006)  loss_objectness: 0.0000 (0.0000)  loss_rpn_box_reg: 0.0002 (0.0002)  time: 0.6626  data: 0.0002  max mem: 7713\n",
      "Epoch: [9]  [360/701]  eta: 0:03:46  lr: 0.000005  loss: 0.0032 (0.0042)  loss_classifier: 0.0027 (0.0033)  loss_box_reg: 0.0005 (0.0006)  loss_objectness: 0.0000 (0.0000)  loss_rpn_box_reg: 0.0002 (0.0002)  time: 0.6664  data: 0.0006  max mem: 7713\n",
      "Epoch: [9]  [370/701]  eta: 0:03:40  lr: 0.000005  loss: 0.0032 (0.0042)  loss_classifier: 0.0026 (0.0033)  loss_box_reg: 0.0004 (0.0006)  loss_objectness: 0.0000 (0.0000)  loss_rpn_box_reg: 0.0002 (0.0002)  time: 0.6613  data: 0.0006  max mem: 7713\n",
      "Epoch: [9]  [380/701]  eta: 0:03:33  lr: 0.000005  loss: 0.0037 (0.0042)  loss_classifier: 0.0028 (0.0033)  loss_box_reg: 0.0004 (0.0006)  loss_objectness: 0.0000 (0.0000)  loss_rpn_box_reg: 0.0002 (0.0002)  time: 0.6597  data: 0.0002  max mem: 7713\n"
     ]
    },
    {
     "name": "stdout",
     "output_type": "stream",
     "text": [
      "Epoch: [9]  [390/701]  eta: 0:03:26  lr: 0.000005  loss: 0.0046 (0.0042)  loss_classifier: 0.0037 (0.0033)  loss_box_reg: 0.0005 (0.0006)  loss_objectness: 0.0000 (0.0000)  loss_rpn_box_reg: 0.0003 (0.0002)  time: 0.6603  data: 0.0002  max mem: 7713\n",
      "Epoch: [9]  [400/701]  eta: 0:03:20  lr: 0.000005  loss: 0.0035 (0.0042)  loss_classifier: 0.0029 (0.0033)  loss_box_reg: 0.0005 (0.0006)  loss_objectness: 0.0000 (0.0000)  loss_rpn_box_reg: 0.0003 (0.0002)  time: 0.6620  data: 0.0002  max mem: 7713\n",
      "Epoch: [9]  [410/701]  eta: 0:03:13  lr: 0.000005  loss: 0.0027 (0.0041)  loss_classifier: 0.0022 (0.0033)  loss_box_reg: 0.0004 (0.0006)  loss_objectness: 0.0000 (0.0000)  loss_rpn_box_reg: 0.0002 (0.0002)  time: 0.6640  data: 0.0002  max mem: 7713\n",
      "Epoch: [9]  [420/701]  eta: 0:03:06  lr: 0.000005  loss: 0.0026 (0.0041)  loss_classifier: 0.0022 (0.0033)  loss_box_reg: 0.0004 (0.0006)  loss_objectness: 0.0000 (0.0000)  loss_rpn_box_reg: 0.0001 (0.0002)  time: 0.6625  data: 0.0002  max mem: 7713\n",
      "Epoch: [9]  [430/701]  eta: 0:03:00  lr: 0.000005  loss: 0.0030 (0.0041)  loss_classifier: 0.0026 (0.0033)  loss_box_reg: 0.0004 (0.0006)  loss_objectness: 0.0000 (0.0000)  loss_rpn_box_reg: 0.0002 (0.0002)  time: 0.6619  data: 0.0002  max mem: 7713\n",
      "Epoch: [9]  [440/701]  eta: 0:02:53  lr: 0.000005  loss: 0.0045 (0.0041)  loss_classifier: 0.0037 (0.0033)  loss_box_reg: 0.0004 (0.0006)  loss_objectness: 0.0000 (0.0000)  loss_rpn_box_reg: 0.0002 (0.0002)  time: 0.6609  data: 0.0002  max mem: 7713\n",
      "Epoch: [9]  [450/701]  eta: 0:02:46  lr: 0.000005  loss: 0.0036 (0.0041)  loss_classifier: 0.0026 (0.0033)  loss_box_reg: 0.0004 (0.0006)  loss_objectness: 0.0000 (0.0000)  loss_rpn_box_reg: 0.0002 (0.0002)  time: 0.6605  data: 0.0002  max mem: 7713\n",
      "Epoch: [9]  [460/701]  eta: 0:02:40  lr: 0.000005  loss: 0.0033 (0.0041)  loss_classifier: 0.0028 (0.0033)  loss_box_reg: 0.0004 (0.0006)  loss_objectness: 0.0000 (0.0000)  loss_rpn_box_reg: 0.0002 (0.0002)  time: 0.6607  data: 0.0003  max mem: 7713\n",
      "Epoch: [9]  [470/701]  eta: 0:02:33  lr: 0.000005  loss: 0.0032 (0.0041)  loss_classifier: 0.0027 (0.0033)  loss_box_reg: 0.0004 (0.0006)  loss_objectness: 0.0000 (0.0000)  loss_rpn_box_reg: 0.0001 (0.0002)  time: 0.6614  data: 0.0003  max mem: 7713\n",
      "Epoch: [9]  [480/701]  eta: 0:02:26  lr: 0.000005  loss: 0.0036 (0.0041)  loss_classifier: 0.0028 (0.0033)  loss_box_reg: 0.0004 (0.0006)  loss_objectness: 0.0000 (0.0000)  loss_rpn_box_reg: 0.0001 (0.0002)  time: 0.6638  data: 0.0002  max mem: 7713\n",
      "Epoch: [9]  [490/701]  eta: 0:02:20  lr: 0.000005  loss: 0.0043 (0.0041)  loss_classifier: 0.0034 (0.0033)  loss_box_reg: 0.0004 (0.0006)  loss_objectness: 0.0000 (0.0000)  loss_rpn_box_reg: 0.0002 (0.0002)  time: 0.6622  data: 0.0002  max mem: 7713\n",
      "Epoch: [9]  [500/701]  eta: 0:02:13  lr: 0.000005  loss: 0.0037 (0.0041)  loss_classifier: 0.0030 (0.0033)  loss_box_reg: 0.0004 (0.0006)  loss_objectness: 0.0000 (0.0000)  loss_rpn_box_reg: 0.0002 (0.0002)  time: 0.6606  data: 0.0002  max mem: 7713\n",
      "Epoch: [9]  [510/701]  eta: 0:02:06  lr: 0.000005  loss: 0.0027 (0.0041)  loss_classifier: 0.0022 (0.0033)  loss_box_reg: 0.0004 (0.0006)  loss_objectness: 0.0000 (0.0000)  loss_rpn_box_reg: 0.0001 (0.0002)  time: 0.6616  data: 0.0002  max mem: 7713\n",
      "Epoch: [9]  [520/701]  eta: 0:02:00  lr: 0.000005  loss: 0.0027 (0.0041)  loss_classifier: 0.0022 (0.0033)  loss_box_reg: 0.0004 (0.0006)  loss_objectness: 0.0000 (0.0000)  loss_rpn_box_reg: 0.0002 (0.0002)  time: 0.6618  data: 0.0002  max mem: 7713\n",
      "Epoch: [9]  [530/701]  eta: 0:01:53  lr: 0.000005  loss: 0.0034 (0.0041)  loss_classifier: 0.0027 (0.0033)  loss_box_reg: 0.0004 (0.0006)  loss_objectness: 0.0000 (0.0000)  loss_rpn_box_reg: 0.0002 (0.0002)  time: 0.6581  data: 0.0002  max mem: 7713\n",
      "Epoch: [9]  [540/701]  eta: 0:01:46  lr: 0.000005  loss: 0.0041 (0.0041)  loss_classifier: 0.0033 (0.0033)  loss_box_reg: 0.0005 (0.0006)  loss_objectness: 0.0000 (0.0000)  loss_rpn_box_reg: 0.0003 (0.0002)  time: 0.6565  data: 0.0003  max mem: 7713\n",
      "Epoch: [9]  [550/701]  eta: 0:01:40  lr: 0.000005  loss: 0.0041 (0.0041)  loss_classifier: 0.0033 (0.0033)  loss_box_reg: 0.0005 (0.0006)  loss_objectness: 0.0000 (0.0000)  loss_rpn_box_reg: 0.0003 (0.0002)  time: 0.6610  data: 0.0003  max mem: 7713\n",
      "Epoch: [9]  [560/701]  eta: 0:01:33  lr: 0.000005  loss: 0.0035 (0.0041)  loss_classifier: 0.0028 (0.0033)  loss_box_reg: 0.0005 (0.0006)  loss_objectness: 0.0000 (0.0000)  loss_rpn_box_reg: 0.0002 (0.0002)  time: 0.6630  data: 0.0003  max mem: 7713\n",
      "Epoch: [9]  [570/701]  eta: 0:01:26  lr: 0.000005  loss: 0.0033 (0.0041)  loss_classifier: 0.0026 (0.0033)  loss_box_reg: 0.0005 (0.0006)  loss_objectness: 0.0000 (0.0000)  loss_rpn_box_reg: 0.0002 (0.0002)  time: 0.6600  data: 0.0003  max mem: 7713\n",
      "Epoch: [9]  [580/701]  eta: 0:01:20  lr: 0.000005  loss: 0.0033 (0.0041)  loss_classifier: 0.0026 (0.0033)  loss_box_reg: 0.0005 (0.0006)  loss_objectness: 0.0000 (0.0000)  loss_rpn_box_reg: 0.0002 (0.0002)  time: 0.6575  data: 0.0003  max mem: 7713\n",
      "Epoch: [9]  [590/701]  eta: 0:01:13  lr: 0.000005  loss: 0.0034 (0.0041)  loss_classifier: 0.0028 (0.0033)  loss_box_reg: 0.0005 (0.0006)  loss_objectness: 0.0000 (0.0000)  loss_rpn_box_reg: 0.0002 (0.0002)  time: 0.6592  data: 0.0003  max mem: 7713\n",
      "Epoch: [9]  [600/701]  eta: 0:01:07  lr: 0.000005  loss: 0.0031 (0.0041)  loss_classifier: 0.0025 (0.0033)  loss_box_reg: 0.0005 (0.0006)  loss_objectness: 0.0000 (0.0000)  loss_rpn_box_reg: 0.0002 (0.0002)  time: 0.6631  data: 0.0002  max mem: 7713\n",
      "Epoch: [9]  [610/701]  eta: 0:01:00  lr: 0.000005  loss: 0.0031 (0.0041)  loss_classifier: 0.0025 (0.0033)  loss_box_reg: 0.0004 (0.0006)  loss_objectness: 0.0000 (0.0000)  loss_rpn_box_reg: 0.0002 (0.0002)  time: 0.6621  data: 0.0003  max mem: 7713\n",
      "Epoch: [9]  [620/701]  eta: 0:00:53  lr: 0.000005  loss: 0.0037 (0.0041)  loss_classifier: 0.0029 (0.0033)  loss_box_reg: 0.0005 (0.0006)  loss_objectness: 0.0000 (0.0000)  loss_rpn_box_reg: 0.0003 (0.0002)  time: 0.6575  data: 0.0002  max mem: 7713\n",
      "Epoch: [9]  [630/701]  eta: 0:00:47  lr: 0.000005  loss: 0.0039 (0.0041)  loss_classifier: 0.0032 (0.0033)  loss_box_reg: 0.0005 (0.0006)  loss_objectness: 0.0000 (0.0000)  loss_rpn_box_reg: 0.0003 (0.0002)  time: 0.6559  data: 0.0003  max mem: 7713\n",
      "Epoch: [9]  [640/701]  eta: 0:00:40  lr: 0.000005  loss: 0.0033 (0.0041)  loss_classifier: 0.0026 (0.0033)  loss_box_reg: 0.0004 (0.0006)  loss_objectness: 0.0000 (0.0000)  loss_rpn_box_reg: 0.0002 (0.0002)  time: 0.6607  data: 0.0003  max mem: 7713\n",
      "Epoch: [9]  [650/701]  eta: 0:00:33  lr: 0.000005  loss: 0.0033 (0.0041)  loss_classifier: 0.0025 (0.0033)  loss_box_reg: 0.0005 (0.0006)  loss_objectness: 0.0000 (0.0000)  loss_rpn_box_reg: 0.0002 (0.0002)  time: 0.6609  data: 0.0003  max mem: 7713\n",
      "Epoch: [9]  [660/701]  eta: 0:00:27  lr: 0.000005  loss: 0.0042 (0.0041)  loss_classifier: 0.0029 (0.0033)  loss_box_reg: 0.0005 (0.0006)  loss_objectness: 0.0000 (0.0000)  loss_rpn_box_reg: 0.0002 (0.0002)  time: 0.6604  data: 0.0003  max mem: 7713\n",
      "Epoch: [9]  [670/701]  eta: 0:00:20  lr: 0.000005  loss: 0.0042 (0.0041)  loss_classifier: 0.0035 (0.0033)  loss_box_reg: 0.0004 (0.0006)  loss_objectness: 0.0000 (0.0000)  loss_rpn_box_reg: 0.0002 (0.0002)  time: 0.6622  data: 0.0002  max mem: 7713\n",
      "Epoch: [9]  [680/701]  eta: 0:00:13  lr: 0.000005  loss: 0.0040 (0.0041)  loss_classifier: 0.0032 (0.0033)  loss_box_reg: 0.0004 (0.0006)  loss_objectness: 0.0000 (0.0000)  loss_rpn_box_reg: 0.0002 (0.0002)  time: 0.6651  data: 0.0003  max mem: 7713\n",
      "Epoch: [9]  [690/701]  eta: 0:00:07  lr: 0.000005  loss: 0.0034 (0.0041)  loss_classifier: 0.0027 (0.0033)  loss_box_reg: 0.0004 (0.0006)  loss_objectness: 0.0000 (0.0000)  loss_rpn_box_reg: 0.0002 (0.0002)  time: 0.6667  data: 0.0002  max mem: 7713\n",
      "Epoch: [9]  [700/701]  eta: 0:00:00  lr: 0.000005  loss: 0.0031 (0.0041)  loss_classifier: 0.0025 (0.0033)  loss_box_reg: 0.0004 (0.0006)  loss_objectness: 0.0000 (0.0000)  loss_rpn_box_reg: 0.0002 (0.0002)  time: 0.6537  data: 0.0002  max mem: 7713\n",
      "Epoch: [9] Total time: 0:07:45 (0.6635 s / it)\n",
      "creating index...\n",
      "index created!\n",
      "Test:  [  0/604]  eta: 0:15:20  model_time: 0.3119 (0.3119)  evaluator_time: 0.0186 (0.0186)  time: 1.5236  data: 1.1868  max mem: 7713\n"
     ]
    },
    {
     "name": "stdout",
     "output_type": "stream",
     "text": [
      "Test:  [100/604]  eta: 0:02:33  model_time: 0.2789 (0.2820)  evaluator_time: 0.0037 (0.0039)  time: 0.2909  data: 0.0001  max mem: 7713\n",
      "Test:  [200/604]  eta: 0:02:00  model_time: 0.2790 (0.2815)  evaluator_time: 0.0040 (0.0040)  time: 0.2919  data: 0.0002  max mem: 7713\n",
      "Test:  [300/604]  eta: 0:01:29  model_time: 0.2793 (0.2814)  evaluator_time: 0.0049 (0.0042)  time: 0.2933  data: 0.0001  max mem: 7713\n",
      "Test:  [400/604]  eta: 0:01:00  model_time: 0.2789 (0.2812)  evaluator_time: 0.0048 (0.0043)  time: 0.2904  data: 0.0001  max mem: 7713\n",
      "Test:  [500/604]  eta: 0:00:30  model_time: 0.2789 (0.2813)  evaluator_time: 0.0049 (0.0046)  time: 0.2915  data: 0.0001  max mem: 7713\n",
      "Test:  [600/604]  eta: 0:00:01  model_time: 0.2792 (0.2811)  evaluator_time: 0.0037 (0.0046)  time: 0.2902  data: 0.0001  max mem: 7713\n",
      "Test:  [603/604]  eta: 0:00:00  model_time: 0.2751 (0.2810)  evaluator_time: 0.0020 (0.0046)  time: 0.2838  data: 0.0001  max mem: 7713\n",
      "Test: Total time: 0:02:57 (0.2937 s / it)\n",
      "Averaged stats: model_time: 0.2751 (0.2810)  evaluator_time: 0.0020 (0.0046)\n",
      "Accumulating evaluation results...\n",
      "DONE (t=0.20s).\n",
      "IoU metric: bbox\n",
      " Average Precision  (AP) @[ IoU=0.50:0.95 | area=   all | maxDets=100 ] = 0.256\n",
      " Average Precision  (AP) @[ IoU=0.50      | area=   all | maxDets=100 ] = 0.989\n",
      " Average Precision  (AP) @[ IoU=0.75      | area=   all | maxDets=100 ] = 0.032\n",
      " Average Precision  (AP) @[ IoU=0.50:0.95 | area= small | maxDets=100 ] = -1.000\n",
      " Average Precision  (AP) @[ IoU=0.50:0.95 | area=medium | maxDets=100 ] = 0.262\n",
      " Average Precision  (AP) @[ IoU=0.50:0.95 | area= large | maxDets=100 ] = -1.000\n",
      " Average Recall     (AR) @[ IoU=0.50:0.95 | area=   all | maxDets=  1 ] = 0.183\n",
      " Average Recall     (AR) @[ IoU=0.50:0.95 | area=   all | maxDets= 10 ] = 0.352\n",
      " Average Recall     (AR) @[ IoU=0.50:0.95 | area=   all | maxDets=100 ] = 0.352\n",
      " Average Recall     (AR) @[ IoU=0.50:0.95 | area= small | maxDets=100 ] = -1.000\n",
      " Average Recall     (AR) @[ IoU=0.50:0.95 | area=medium | maxDets=100 ] = 0.352\n",
      " Average Recall     (AR) @[ IoU=0.50:0.95 | area= large | maxDets=100 ] = -1.000\n"
     ]
    }
   ],
   "source": [
    "# let's train it for 10 epochs\n",
    "num_epochs = 10\n",
    "\n",
    "for epoch in range(num_epochs):\n",
    "    # train for one epoch, printing every 10 iterations\n",
    "    train_one_epoch(model, optimizer, data_loader, device, epoch, print_freq=10)\n",
    "    # update the learning rate\n",
    "    lr_scheduler.step()\n",
    "    # evaluate on the test dataset\n",
    "    evaluate(model, data_loader_test, device=device)"
   ]
  },
  {
   "cell_type": "code",
   "execution_count": 14,
   "metadata": {},
   "outputs": [],
   "source": [
    "torch.save(model.state_dict(), 'parking_space_model.pth')"
   ]
  },
  {
   "cell_type": "code",
   "execution_count": 13,
   "metadata": {},
   "outputs": [],
   "source": [
    "# Run model on all test results, even ones without GT bounding boxes\n",
    "dataset_test_eval = ParkingSpaceDataset(DATA_PATH, test_videos,\n",
    "                                        get_transform(train=False), non_empty_images_only=False)"
   ]
  },
  {
   "cell_type": "code",
   "execution_count": 14,
   "metadata": {},
   "outputs": [],
   "source": [
    "data_loader_test_eval = torch.utils.data.DataLoader(\n",
    "    dataset_test_eval, batch_size=4, shuffle=False, num_workers=1,\n",
    "    collate_fn=utils.collate_fn, pin_memory=False)"
   ]
  },
  {
   "cell_type": "code",
   "execution_count": 15,
   "metadata": {},
   "outputs": [
    {
     "data": {
      "text/plain": [
       "IncompatibleKeys(missing_keys=[], unexpected_keys=[])"
      ]
     },
     "execution_count": 15,
     "metadata": {},
     "output_type": "execute_result"
    }
   ],
   "source": [
    "model.load_state_dict(torch.load('parking_space_model.pth'))"
   ]
  },
  {
   "cell_type": "code",
   "execution_count": 16,
   "metadata": {},
   "outputs": [],
   "source": [
    "import resource\n",
    "rlimit = resource.getrlimit(resource.RLIMIT_NOFILE)\n",
    "resource.setrlimit(resource.RLIMIT_NOFILE, (2048, rlimit[1]))"
   ]
  },
  {
   "cell_type": "code",
   "execution_count": 17,
   "metadata": {},
   "outputs": [
    {
     "name": "stderr",
     "output_type": "stream",
     "text": [
      "100%|██████████| 1031/1031 [05:01<00:00,  3.70it/s]\n"
     ]
    }
   ],
   "source": [
    "import time\n",
    "from tqdm import tqdm\n",
    "\n",
    "model.eval()\n",
    "all_outputs = []\n",
    "all_targets = []\n",
    "cpu_device = torch.device(\"cpu\")\n",
    "for image, targets in tqdm(data_loader_test_eval):\n",
    "    image = list(img.to(device) for img in image)\n",
    "#     targets = [{k: v.to(device) for k, v in t.items()} for t in targets]\n",
    "    outputs = model(image)\n",
    "\n",
    "    outputs = [{k: v.to(cpu_device).detach() for k, v in t.items()} for t in outputs]\n",
    "\n",
    "#     res = {target[\"image_id\"].item(): output for target, output in zip(targets, outputs)}\n",
    "#     coco_evaluator.update(res)\n",
    "    all_outputs.append(outputs)\n",
    "#     all_targets.append(targets)"
   ]
  },
  {
   "cell_type": "code",
   "execution_count": 18,
   "metadata": {},
   "outputs": [
    {
     "data": {
      "text/plain": [
       "1031"
      ]
     },
     "execution_count": 18,
     "metadata": {},
     "output_type": "execute_result"
    }
   ],
   "source": [
    "len(all_outputs)"
   ]
  },
  {
   "cell_type": "code",
   "execution_count": 26,
   "metadata": {},
   "outputs": [
    {
     "data": {
      "text/plain": [
       "[611.4774780273438, 345.68389892578125, 723.5730590820312, 427.7879333496094]"
      ]
     },
     "execution_count": 26,
     "metadata": {},
     "output_type": "execute_result"
    }
   ],
   "source": [
    "all_outputs[700][0]['boxes'].numpy().tolist()[0]"
   ]
  },
  {
   "cell_type": "code",
   "execution_count": 20,
   "metadata": {},
   "outputs": [],
   "source": [
    "outputs_flat = []\n",
    "for o in all_outputs:\n",
    "    outputs_flat += o"
   ]
  },
  {
   "cell_type": "code",
   "execution_count": 27,
   "metadata": {},
   "outputs": [],
   "source": [
    "def bb_intersection_over_union(boxA, boxB):\n",
    "\t# determine the (x, y)-coordinates of the intersection rectangle\n",
    "\txA = max(boxA[0], boxB[0])\n",
    "\tyA = max(boxA[1], boxB[1])\n",
    "\txB = min(boxA[2], boxB[2])\n",
    "\tyB = min(boxA[3], boxB[3])\n",
    " \n",
    "\t# compute the area of intersection rectangle\n",
    "\tinterArea = max(0, xB - xA + 1) * max(0, yB - yA + 1)\n",
    " \n",
    "\t# compute the area of both the prediction and ground-truth\n",
    "\t# rectangles\n",
    "\tboxAArea = (boxA[2] - boxA[0] + 1) * (boxA[3] - boxA[1] + 1)\n",
    "\tboxBArea = (boxB[2] - boxB[0] + 1) * (boxB[3] - boxB[1] + 1)\n",
    " \n",
    "\t# compute the intersection over union by taking the intersection\n",
    "\t# area and dividing it by the sum of prediction + ground-truth\n",
    "\t# areas - the interesection area\n",
    "\tiou = interArea / float(boxAArea + boxBArea - interArea)\n",
    " \n",
    "\t# return the intersection over union value\n",
    "\treturn iou"
   ]
  },
  {
   "cell_type": "code",
   "execution_count": 36,
   "metadata": {},
   "outputs": [
    {
     "data": {
      "text/plain": [
       "[[634.6027221679688,\n",
       "  356.2266845703125,\n",
       "  728.3047485351562,\n",
       "  448.4459228515625,\n",
       "  '1681.jpg'],\n",
       " [436.3325500488281,\n",
       "  351.21905517578125,\n",
       "  519.7318725585938,\n",
       "  445.02624511718756,\n",
       "  '1681.jpg']]"
      ]
     },
     "execution_count": 36,
     "metadata": {},
     "output_type": "execute_result"
    }
   ],
   "source": [
    "dataset_test_eval.bboxes[3000]"
   ]
  },
  {
   "cell_type": "code",
   "execution_count": 43,
   "metadata": {},
   "outputs": [
    {
     "data": {
      "text/plain": [
       "[[617.39501953125, 354.5551452636719, 737.9835815429688, 431.76507568359375]]"
      ]
     },
     "execution_count": 43,
     "metadata": {},
     "output_type": "execute_result"
    }
   ],
   "source": [
    "outputs_flat[2000]['boxes'].numpy().tolist()"
   ]
  },
  {
   "cell_type": "code",
   "execution_count": 46,
   "metadata": {},
   "outputs": [
    {
     "data": {
      "text/plain": [
       "False"
      ]
     },
     "execution_count": 46,
     "metadata": {},
     "output_type": "execute_result"
    }
   ],
   "source": [
    "any([0,0,0])"
   ]
  },
  {
   "cell_type": "code",
   "execution_count": 65,
   "metadata": {},
   "outputs": [],
   "source": [
    "tp_scores = []\n",
    "fp_scores = []\n",
    "num_fn = 0\n",
    "for output, bboxes in zip(outputs_flat, dataset_test_eval.bboxes):\n",
    "    # compute iou between every output and every bbox\n",
    "    ious = []\n",
    "    for out_box in output['boxes'].numpy().tolist():\n",
    "        ious_output = []\n",
    "        for target_box in bboxes:\n",
    "            iou = bb_intersection_over_union(out_box, target_box)\n",
    "            ious_output.append(iou)\n",
    "        ious.append(ious_output)\n",
    "    \n",
    "    taken_boxes = []\n",
    "    successful_predictions = []\n",
    "    for predicted_box, ious_output in enumerate(ious):\n",
    "        max_iou = 0\n",
    "        best_gt_box = -1\n",
    "        for gt_box, iou in enumerate(ious_output):\n",
    "            if gt_box not in taken_boxes and iou > max_iou:\n",
    "                max_iou = iou\n",
    "                best_gt_box = gt_box\n",
    "        if max_iou >= 0.5 and best_gt_box != -1:\n",
    "            taken_boxes.append(best_gt_box)\n",
    "            successful_predictions.append(predicted_box)\n",
    "    \n",
    "    if len(taken_boxes) < len(bboxes):\n",
    "        num_fn += len(bboxes) - len(taken_boxes)\n",
    "        \n",
    "    for predicted_box, score in enumerate(output['scores'].numpy().tolist()):\n",
    "        if predicted_box in successful_predictions:\n",
    "            tp_scores.append(score)\n",
    "        else:\n",
    "            fp_scores.append(score)\n",
    "    \n",
    "#     outputs_positive = [\n",
    "#         any(True if iou >= 0.5 else False for iou in ious_output)\n",
    "#         for ious_output in ious\n",
    "#     ]\n",
    "    \n",
    "#     bboxes_positive = [\n",
    "#         any(True if len(ious_output) > i and ious_output[i] >= 0.5 else False for ious_output in ious)\n",
    "#         for i in range(len(bboxes))\n",
    "#     ]\n",
    "    \n",
    "#     for output_positive, score in zip(outputs_positive, output['scores'].numpy().tolist()):\n",
    "#         if output_positive:\n",
    "#             tp_scores.append(score)\n",
    "#         else:\n",
    "#             fp_scores.append(score)\n",
    "    \n",
    "#     for bbox_positive in bboxes_positive:\n",
    "#         if not bbox_positive:\n",
    "#             num_fn += 1"
   ]
  },
  {
   "cell_type": "code",
   "execution_count": 66,
   "metadata": {},
   "outputs": [
    {
     "data": {
      "text/plain": [
       "4373"
      ]
     },
     "execution_count": 66,
     "metadata": {},
     "output_type": "execute_result"
    }
   ],
   "source": [
    "len(tp_scores)"
   ]
  },
  {
   "cell_type": "code",
   "execution_count": 67,
   "metadata": {},
   "outputs": [
    {
     "data": {
      "text/plain": [
       "90"
      ]
     },
     "execution_count": 67,
     "metadata": {},
     "output_type": "execute_result"
    }
   ],
   "source": [
    "len(fp_scores)"
   ]
  },
  {
   "cell_type": "code",
   "execution_count": 68,
   "metadata": {},
   "outputs": [
    {
     "data": {
      "text/plain": [
       "20"
      ]
     },
     "execution_count": 68,
     "metadata": {},
     "output_type": "execute_result"
    }
   ],
   "source": [
    "num_fn"
   ]
  },
  {
   "cell_type": "code",
   "execution_count": 69,
   "metadata": {},
   "outputs": [
    {
     "data": {
      "text/plain": [
       "0.052719615399837494"
      ]
     },
     "execution_count": 69,
     "metadata": {},
     "output_type": "execute_result"
    }
   ],
   "source": [
    "min(tp_scores + fp_scores)"
   ]
  },
  {
   "cell_type": "code",
   "execution_count": 70,
   "metadata": {},
   "outputs": [
    {
     "data": {
      "text/plain": [
       "0.994690221840343"
      ]
     },
     "execution_count": 70,
     "metadata": {},
     "output_type": "execute_result"
    }
   ],
   "source": [
    "from sklearn.metrics import average_precision_score\n",
    "import numpy as np\n",
    "\n",
    "y_true = np.concatenate([\n",
    "    np.ones(len(tp_scores)),\n",
    "    np.zeros(len(fp_scores)),\n",
    "    np.zeros(100 * len(outputs_flat)),\n",
    "    np.ones(num_fn),\n",
    "])\n",
    "y_scores = np.concatenate([\n",
    "    np.array(tp_scores),\n",
    "    np.array(fp_scores),\n",
    "    np.ones(100 * len(outputs_flat)) * min(tp_scores + fp_scores),\n",
    "    np.zeros(num_fn),\n",
    "])\n",
    "\n",
    "average_precision_score(y_true, y_scores)"
   ]
  },
  {
   "cell_type": "code",
   "execution_count": 71,
   "metadata": {},
   "outputs": [
    {
     "data": {
      "text/plain": [
       "4463"
      ]
     },
     "execution_count": 71,
     "metadata": {},
     "output_type": "execute_result"
    }
   ],
   "source": [
    "sum(o['boxes'].shape[0] for o in outputs_flat)"
   ]
  },
  {
   "cell_type": "code",
   "execution_count": 72,
   "metadata": {},
   "outputs": [
    {
     "data": {
      "text/plain": [
       "4393"
      ]
     },
     "execution_count": 72,
     "metadata": {},
     "output_type": "execute_result"
    }
   ],
   "source": [
    "sum(len(boxes) for boxes in dataset_test_eval.bboxes)"
   ]
  },
  {
   "cell_type": "code",
   "execution_count": 76,
   "metadata": {},
   "outputs": [
    {
     "data": {
      "text/plain": [
       "Text(0.5, 1.0, '2-class Precision-Recall curve: AP=0.99')"
      ]
     },
     "execution_count": 76,
     "metadata": {},
     "output_type": "execute_result"
    },
    {
     "data": {
      "image/png": "[encoded data removed]",
      "text/plain": [
       "<Figure size 432x288 with 1 Axes>"
      ]
     },
     "metadata": {
      "needs_background": "light"
     },
     "output_type": "display_data"
    }
   ],
   "source": [
    "from sklearn.metrics import precision_recall_curve\n",
    "import matplotlib.pyplot as plt\n",
    "from inspect import signature\n",
    "\n",
    "precision, recall, _ = precision_recall_curve(y_true, y_scores)\n",
    "\n",
    "# In matplotlib < 1.5, plt.fill_between does not have a 'step' argument\n",
    "step_kwargs = ({'step': 'post'}\n",
    "               if 'step' in signature(plt.fill_between).parameters\n",
    "               else {})\n",
    "plt.step(recall, precision, color='b', alpha=0.2,\n",
    "         where='post')\n",
    "plt.fill_between(recall, precision, alpha=0.2, color='b', **step_kwargs)\n",
    "\n",
    "plt.xlabel('Recall')\n",
    "plt.ylabel('Precision')\n",
    "plt.ylim([0.0, 1.05])\n",
    "plt.xlim([0.0, 1.0])\n",
    "plt.title('2-class Precision-Recall curve: AP={0:0.2f}'.format(\n",
    "          average_precision_score(y_true, y_scores)))"
   ]
  },
  {
   "cell_type": "code",
   "execution_count": 77,
   "metadata": {},
   "outputs": [
    {
     "data": {
      "text/plain": [
       "[0.4818671941757202,\n",
       " 0.1583639681339264,\n",
       " 0.20669876039028168,\n",
       " 0.18917790055274963,\n",
       " 0.9666973352432251,\n",
       " 0.5456122756004333,\n",
       " 0.9165706634521484,\n",
       " 0.7558491826057434,\n",
       " 0.13012012839317322,\n",
       " 0.9947964549064636,\n",
       " 0.9939680099487305,\n",
       " 0.9350549578666687,\n",
       " 0.052719615399837494,\n",
       " 0.0947028398513794,\n",
       " 0.1119249239563942,\n",
       " 0.057645440101623535,\n",
       " 0.12898656725883484,\n",
       " 0.8728489875793457,\n",
       " 0.05294465273618698,\n",
       " 0.055373720824718475,\n",
       " 0.06497780978679657,\n",
       " 0.05738217383623123,\n",
       " 0.09184030443429947,\n",
       " 0.0546567365527153,\n",
       " 0.05642037093639374,\n",
       " 0.061788856983184814,\n",
       " 0.08397261798381805,\n",
       " 0.06811268627643585,\n",
       " 0.056748680770397186,\n",
       " 0.7685471177101135,\n",
       " 0.3165988028049469,\n",
       " 0.3442709147930145,\n",
       " 0.4469781816005707,\n",
       " 0.773203432559967,\n",
       " 0.24938032031059265,\n",
       " 0.07144143432378769,\n",
       " 0.05624231696128845,\n",
       " 0.05392627418041229,\n",
       " 0.09005618840456009,\n",
       " 0.07412471622228622,\n",
       " 0.08484549075365067,\n",
       " 0.061797358095645905,\n",
       " 0.07126377522945404,\n",
       " 0.06423059105873108,\n",
       " 0.056282155215740204,\n",
       " 0.060075342655181885,\n",
       " 0.061123140156269073,\n",
       " 0.05406907945871353,\n",
       " 0.5160381197929382,\n",
       " 0.3364218473434448,\n",
       " 0.8877285718917847,\n",
       " 0.08911579847335815,\n",
       " 0.1065768226981163,\n",
       " 0.0785282626748085,\n",
       " 0.11750797182321548,\n",
       " 0.2868303954601288,\n",
       " 0.9671046733856201,\n",
       " 0.9333443641662598,\n",
       " 0.16339345276355743,\n",
       " 0.11907081305980682,\n",
       " 0.2388378232717514,\n",
       " 0.09606432169675827,\n",
       " 0.11659178882837296,\n",
       " 0.07137968391180038,\n",
       " 0.3391525447368622,\n",
       " 0.8451218605041504,\n",
       " 0.5791406035423279,\n",
       " 0.4126422703266144,\n",
       " 0.2061699479818344,\n",
       " 0.9998979568481445,\n",
       " 0.3402646780014038,\n",
       " 0.08637712150812149,\n",
       " 0.7271846532821655,\n",
       " 0.9904720783233643,\n",
       " 0.6526938080787659,\n",
       " 0.4351409673690796,\n",
       " 0.7082446217536926,\n",
       " 0.16728121042251587,\n",
       " 0.9970707893371582,\n",
       " 0.1692977249622345,\n",
       " 0.14265410602092743,\n",
       " 0.078916035592556,\n",
       " 0.08701532334089279,\n",
       " 0.11022202670574188,\n",
       " 0.0785052701830864,\n",
       " 0.06959037482738495,\n",
       " 0.1587887555360794,\n",
       " 0.9033824801445007,\n",
       " 0.6516274809837341,\n",
       " 0.054087936878204346]"
      ]
     },
     "execution_count": 77,
     "metadata": {},
     "output_type": "execute_result"
    }
   ],
   "source": [
    "fp_scores"
   ]
  },
  {
   "cell_type": "code",
   "execution_count": 82,
   "metadata": {},
   "outputs": [],
   "source": [
    "from sklearn import metrics"
   ]
  },
  {
   "cell_type": "code",
   "execution_count": 90,
   "metadata": {},
   "outputs": [
    {
     "data": {
      "text/plain": [
       "3987"
      ]
     },
     "execution_count": 90,
     "metadata": {},
     "output_type": "execute_result"
    }
   ],
   "source": [
    "len([s for s in tp_scores if s >= 0.9])"
   ]
  },
  {
   "cell_type": "code",
   "execution_count": 92,
   "metadata": {},
   "outputs": [
    {
     "data": {
      "text/plain": [
       "4373"
      ]
     },
     "execution_count": 92,
     "metadata": {},
     "output_type": "execute_result"
    }
   ],
   "source": [
    "len(tp_scores)"
   ]
  },
  {
   "cell_type": "code",
   "execution_count": null,
   "metadata": {},
   "outputs": [],
   "source": []
  }
 ],
 "metadata": {
  "kernelspec": {
   "display_name": "Python [conda env:torchvision0.3]",
   "language": "python",
   "name": "conda-env-torchvision0.3-py"
  },
  "language_info": {
   "codemirror_mode": {
    "name": "ipython",
    "version": 3
   },
   "file_extension": ".py",
   "mimetype": "text/x-python",
   "name": "python",
   "nbconvert_exporter": "python",
   "pygments_lexer": "ipython3",
   "version": "3.7.3"
  }
 },
 "nbformat": 4,
 "nbformat_minor": 2
}
