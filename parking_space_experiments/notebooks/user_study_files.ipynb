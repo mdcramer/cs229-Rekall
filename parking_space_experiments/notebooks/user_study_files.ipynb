{
 "cells": [
  {
   "cell_type": "markdown",
   "metadata": {},
   "source": [
    "# Create a subset for the user study"
   ]
  },
  {
   "cell_type": "code",
   "execution_count": 19,
   "metadata": {},
   "outputs": [],
   "source": [
    "import os\n",
    "from tqdm import tqdm\n",
    "from shutil import copyfile\n",
    "import pickle"
   ]
  },
  {
   "cell_type": "code",
   "execution_count": 1,
   "metadata": {},
   "outputs": [],
   "source": [
    "video1 = '20190702_153730_no_sound.mp4'\n",
    "video2 = '20190702_153730_no_sound.mp4'\n",
    "video3 = '20190702_140400_no_sound.mp4'\n",
    "video4 = '20190702_171100_no_sound.mp4'"
   ]
  },
  {
   "cell_type": "code",
   "execution_count": 4,
   "metadata": {},
   "outputs": [],
   "source": [
    "os.makedirs(\n",
    "    '/home/danfu/rekall_experiments/parking_space_experiments/user_study',\n",
    "    exist_ok=True)\n",
    "os.makedirs(\n",
    "    '/home/danfu/rekall_experiments/parking_space_experiments/user_study/images_ffmpeg',\n",
    "    exist_ok=True)\n",
    "os.makedirs(\n",
    "    '/home/danfu/rekall_experiments/parking_space_experiments/user_study/bboxes',\n",
    "    exist_ok=True)\n",
    "os.makedirs(\n",
    "    '/home/danfu/rekall_experiments/parking_space_experiments/user_study/empty_spaces',\n",
    "    exist_ok=True)"
   ]
  },
  {
   "cell_type": "markdown",
   "metadata": {},
   "source": [
    "# Video 1"
   ]
  },
  {
   "cell_type": "code",
   "execution_count": 9,
   "metadata": {},
   "outputs": [],
   "source": [
    "# Copy image files for video 1\n",
    "v1images = sorted(os.listdir(\n",
    "    '/home/danfu/rekall_experiments/parking_space_experiments/images_ffmpeg/' +\n",
    "    video1[:-4]\n",
    "))"
   ]
  },
  {
   "cell_type": "code",
   "execution_count": 16,
   "metadata": {},
   "outputs": [
    {
     "name": "stderr",
     "output_type": "stream",
     "text": [
      "100%|██████████| 1320/1320 [00:00<00:00, 14422.95it/s]\n"
     ]
    }
   ],
   "source": [
    "os.makedirs('/home/danfu/rekall_experiments/parking_space_experiments/' +\n",
    "        'user_study/images_ffmpeg/video1', exist_ok=True)\n",
    "for img in tqdm(v1images[:1320]):\n",
    "    src = ('/home/danfu/rekall_experiments/parking_space_experiments/' +\n",
    "        'images_ffmpeg/{}/{}'.format(\n",
    "            video1[:-4],\n",
    "            img\n",
    "        ))\n",
    "    dst = ('/home/danfu/rekall_experiments/parking_space_experiments/' +\n",
    "        'user_study/images_ffmpeg/video1/{}'.format(\n",
    "            img\n",
    "        ))\n",
    "    copyfile(src, dst)"
   ]
  },
  {
   "cell_type": "code",
   "execution_count": 20,
   "metadata": {},
   "outputs": [],
   "source": [
    "# Copy bbox files for video 1\n",
    "with open(('/home/danfu/rekall_experiments/parking_space_experiments/bboxes/' +\n",
    "          video1[:-4] + '/bboxes.pkl'), 'rb') as f:\n",
    "    video1bboxes = pickle.load(f)"
   ]
  },
  {
   "cell_type": "code",
   "execution_count": 23,
   "metadata": {},
   "outputs": [],
   "source": [
    "os.makedirs('/home/danfu/rekall_experiments/parking_space_experiments/' +\n",
    "        'user_study/bboxes/video1', exist_ok=True)\n",
    "with open(('/home/danfu/rekall_experiments/parking_space_experiments/user_study/bboxes/' +\n",
    "           'video1/bboxes.pkl'), 'wb') as f:\n",
    "    pickle.dump(video1bboxes[:1320], f)"
   ]
  },
  {
   "cell_type": "code",
   "execution_count": 25,
   "metadata": {},
   "outputs": [],
   "source": [
    "# Copy empty parking space files for video 1\n",
    "with open(('/home/danfu/rekall_experiments/parking_space_experiments/empty_spaces/' +\n",
    "          video1[:-4] + '/gt.pkl'), 'rb') as f:\n",
    "    video1spaces = pickle.load(f)"
   ]
  },
  {
   "cell_type": "code",
   "execution_count": 26,
   "metadata": {},
   "outputs": [],
   "source": [
    "os.makedirs('/home/danfu/rekall_experiments/parking_space_experiments/' +\n",
    "        'user_study/empty_spaces/video1', exist_ok=True)\n",
    "with open(('/home/danfu/rekall_experiments/parking_space_experiments/user_study/empty_spaces/' +\n",
    "           'video1/gt.pkl'), 'wb') as f:\n",
    "    pickle.dump(video1spaces[:1320], f)"
   ]
  },
  {
   "cell_type": "markdown",
   "metadata": {},
   "source": [
    "# Video 2"
   ]
  },
  {
   "cell_type": "code",
   "execution_count": 27,
   "metadata": {},
   "outputs": [],
   "source": [
    "# Copy image files for video 2\n",
    "v2images = sorted(os.listdir(\n",
    "    '/home/danfu/rekall_experiments/parking_space_experiments/images_ffmpeg/' +\n",
    "    video1[:-4]\n",
    "))"
   ]
  },
  {
   "cell_type": "code",
   "execution_count": 28,
   "metadata": {},
   "outputs": [
    {
     "name": "stderr",
     "output_type": "stream",
     "text": [
      "100%|██████████| 1320/1320 [00:00<00:00, 14266.27it/s]\n"
     ]
    }
   ],
   "source": [
    "os.makedirs('/home/danfu/rekall_experiments/parking_space_experiments/' +\n",
    "        'user_study/images_ffmpeg/video2', exist_ok=True)\n",
    "for img in tqdm(v2images[1320:2640]):\n",
    "    src = ('/home/danfu/rekall_experiments/parking_space_experiments/' +\n",
    "        'images_ffmpeg/{}/{}'.format(\n",
    "            video2[:-4],\n",
    "            img\n",
    "        ))\n",
    "    img_num = int(img[:-4]) - 1320\n",
    "    dst = ('/home/danfu/rekall_experiments/parking_space_experiments/' +\n",
    "        'user_study/images_ffmpeg/video2/{:04d}.jpg'.format(\n",
    "            img_num\n",
    "        ))\n",
    "    copyfile(src, dst)"
   ]
  },
  {
   "cell_type": "code",
   "execution_count": 29,
   "metadata": {},
   "outputs": [],
   "source": [
    "# Copy bbox files for video 2\n",
    "with open(('/home/danfu/rekall_experiments/parking_space_experiments/bboxes/' +\n",
    "          video2[:-4] + '/bboxes.pkl'), 'rb') as f:\n",
    "    video2bboxes = pickle.load(f)"
   ]
  },
  {
   "cell_type": "code",
   "execution_count": 31,
   "metadata": {},
   "outputs": [],
   "source": [
    "video2bboxes_out = []\n",
    "\n",
    "for bbox_frame in video2bboxes[1320:2640]:\n",
    "    out_boxes = []\n",
    "    for bbox in bbox_frame:\n",
    "        img_num = int(bbox[-1][:-4]) - 1320\n",
    "        bbox[-1] = '{:04d}.jpg'.format(img_num)\n",
    "        out_boxes.append(bbox)\n",
    "    video2bboxes_out.append(out_boxes)"
   ]
  },
  {
   "cell_type": "code",
   "execution_count": 35,
   "metadata": {},
   "outputs": [],
   "source": [
    "os.makedirs('/home/danfu/rekall_experiments/parking_space_experiments/' +\n",
    "        'user_study/bboxes/video2', exist_ok=True)\n",
    "with open(('/home/danfu/rekall_experiments/parking_space_experiments/user_study/bboxes/' +\n",
    "           'video2/bboxes.pkl'), 'wb') as f:\n",
    "    pickle.dump(video2bboxes_out, f)"
   ]
  },
  {
   "cell_type": "code",
   "execution_count": 36,
   "metadata": {},
   "outputs": [],
   "source": [
    "# Copy empty space files for video 2\n",
    "with open(('/home/danfu/rekall_experiments/parking_space_experiments/empty_spaces/' +\n",
    "          video2[:-4] + '/gt.pkl'), 'rb') as f:\n",
    "    video2spaces = pickle.load(f)"
   ]
  },
  {
   "cell_type": "code",
   "execution_count": 37,
   "metadata": {},
   "outputs": [],
   "source": [
    "video2spaces_out = []\n",
    "\n",
    "for bbox_frame in video2spaces[1320:2640]:\n",
    "    out_boxes = []\n",
    "    for bbox in bbox_frame:\n",
    "        img_num = int(bbox[-1][:-4]) - 1320\n",
    "        bbox[-1] = '{:04d}.jpg'.format(img_num)\n",
    "        out_boxes.append(bbox)\n",
    "    video2spaces_out.append(out_boxes)"
   ]
  },
  {
   "cell_type": "code",
   "execution_count": 38,
   "metadata": {},
   "outputs": [],
   "source": [
    "os.makedirs('/home/danfu/rekall_experiments/parking_space_experiments/' +\n",
    "        'user_study/empty_spaces/video2', exist_ok=True)\n",
    "with open(('/home/danfu/rekall_experiments/parking_space_experiments/user_study/empty_spaces/' +\n",
    "           'video2/gt.pkl'), 'wb') as f:\n",
    "    pickle.dump(video2spaces_out, f)"
   ]
  },
  {
   "cell_type": "markdown",
   "metadata": {},
   "source": [
    "# Copy the rest of the files manually"
   ]
  }
 ],
 "metadata": {
  "kernelspec": {
   "display_name": "Python 3",
   "language": "python",
   "name": "python3"
  },
  "language_info": {
   "codemirror_mode": {
    "name": "ipython",
    "version": 3
   },
   "file_extension": ".py",
   "mimetype": "text/x-python",
   "name": "python",
   "nbconvert_exporter": "python",
   "pygments_lexer": "ipython3",
   "version": "3.6.7"
  }
 },
 "nbformat": 4,
 "nbformat_minor": 2
}
