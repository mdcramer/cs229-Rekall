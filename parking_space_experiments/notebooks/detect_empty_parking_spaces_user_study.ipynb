{
 "cells": [
  {
   "cell_type": "code",
   "execution_count": 1,
   "metadata": {},
   "outputs": [],
   "source": [
    "%load_ext autoreload\n",
    "%autoreload 2\n",
    "from rekall import Interval, IntervalSet, IntervalSetMapping, Bounds3D\n",
    "from rekall.predicates import *\n",
    "from vgrid import VGridSpec, VideoMetadata, VideoBlockFormat, FlatFormat\n",
    "from vgrid_jupyter import VGridWidget\n",
    "import urllib3, requests, os\n",
    "import pickle\n",
    "from tqdm import tqdm\n",
    "from PIL import Image\n",
    "import matplotlib.pyplot as plt"
   ]
  },
  {
   "cell_type": "code",
   "execution_count": 2,
   "metadata": {},
   "outputs": [],
   "source": [
    "# Hack to disable warnings about olimar's certificate\n",
    "urllib3.disable_warnings()\n",
    "\n",
    "VIDEO_COLLECTION_BASEURL = \"https://olimar.stanford.edu/hdd/parking_lot/user_study\"\n",
    "VIDEO_METADATA_FILENAME = 'metadata.json'\n",
    "\n",
    "# Load video file metadata\n",
    "video_metadata = [ VideoMetadata(v['filename'], id=v['id'], fps=v['fps'],\n",
    "                                 num_frames=v['num_frames'], width=v['width'],\n",
    "                                 height=v['height'])\n",
    "                  for v in requests.get(os.path.join(\n",
    "                      VIDEO_COLLECTION_BASEURL, VIDEO_METADATA_FILENAME),\n",
    "                                        verify=False).json() ]\n",
    "\n",
    "VIDEO_FOLDER = 'videos'\n",
    "BBOX_FOLDER = 'bboxes'\n",
    "GT_FOLDER = 'empty_spaces'"
   ]
  },
  {
   "cell_type": "code",
   "execution_count": 3,
   "metadata": {},
   "outputs": [],
   "source": [
    "dev_set = requests.get(\n",
    "    os.path.join(VIDEO_COLLECTION_BASEURL, 'dev.txt'), verify=False\n",
    ").content.decode('utf-8').strip().split('\\n')\n",
    "test_set = requests.get(\n",
    "    os.path.join(VIDEO_COLLECTION_BASEURL, 'test.txt'), verify=False\n",
    ").content.decode('utf-8').strip().split('\\n')"
   ]
  },
  {
   "cell_type": "code",
   "execution_count": 4,
   "metadata": {},
   "outputs": [],
   "source": [
    "video_metadata_dev = [\n",
    "    vm\n",
    "    for vm in video_metadata if vm.path in dev_set\n",
    "]\n",
    "video_metadata_test = [\n",
    "    vm\n",
    "    for vm in video_metadata if vm.path in test_set\n",
    "]"
   ]
  },
  {
   "cell_type": "code",
   "execution_count": 5,
   "metadata": {},
   "outputs": [
    {
     "name": "stderr",
     "output_type": "stream",
     "text": [
      "100%|██████████| 2/2 [00:00<00:00, 19.91it/s]\n"
     ]
    }
   ],
   "source": [
    "interval = 30\n",
    "bboxes = [\n",
    "    pickle.loads(requests.get(\n",
    "        os.path.join(\n",
    "            os.path.join(VIDEO_COLLECTION_BASEURL, BBOX_FOLDER),\n",
    "            os.path.join(vm.path[:-4], 'bboxes.pkl')\n",
    "        ),\n",
    "        verify=False\n",
    "    ).content)\n",
    "    for vm in video_metadata_dev\n",
    "]\n",
    "bboxes_ism = IntervalSetMapping({\n",
    "    metadata.id: IntervalSet([\n",
    "        Interval(\n",
    "            Bounds3D(\n",
    "                t1 = 30 * i / metadata.fps,\n",
    "                t2 = 30 * (i + interval) / metadata.fps,\n",
    "                x1 = bbox[0] / metadata.width,\n",
    "                x2 = bbox[2] / metadata.width,\n",
    "                y1 = bbox[1] / metadata.height,\n",
    "                y2 = bbox[3] / metadata.height\n",
    "            ),\n",
    "            payload = { 'class': bbox[4], 'score': bbox[5] }\n",
    "        )\n",
    "        for i, frame in enumerate(bbox_frame_list) if (i % interval == 0)\n",
    "        for bbox in frame\n",
    "    ])\n",
    "    for bbox_frame_list, metadata in tqdm(zip(bboxes, video_metadata_dev),\n",
    "                                          total = len(bboxes))\n",
    "})"
   ]
  },
  {
   "cell_type": "code",
   "execution_count": 6,
   "metadata": {},
   "outputs": [
    {
     "name": "stderr",
     "output_type": "stream",
     "text": [
      "100%|██████████| 2/2 [00:00<00:00, 242.12it/s]\n"
     ]
    }
   ],
   "source": [
    "empty_parking_spaces = [\n",
    "    pickle.loads(requests.get(\n",
    "        os.path.join(\n",
    "            os.path.join(VIDEO_COLLECTION_BASEURL, GT_FOLDER),\n",
    "            os.path.join(vm.path[:-4], 'gt.pkl')\n",
    "        ),\n",
    "        verify=False\n",
    "    ).content)\n",
    "    for vm in video_metadata_dev\n",
    "]\n",
    "gt_ism = IntervalSetMapping({\n",
    "    metadata.id: IntervalSet([\n",
    "        Interval(\n",
    "            Bounds3D(\n",
    "                t1 = 30 * i / metadata.fps,\n",
    "                t2 = 30 * (i + interval) / metadata.fps,\n",
    "                x1 = bbox[0] / metadata.width,\n",
    "                x2 = bbox[2] / metadata.width,\n",
    "                y1 = bbox[1] / metadata.height,\n",
    "                y2 = bbox[3] / metadata.height\n",
    "            )\n",
    "        )\n",
    "        for i, frame in enumerate(space_frame_list) if (i % interval == 0)\n",
    "        for bbox in frame\n",
    "    ])\n",
    "    for space_frame_list, metadata in tqdm(zip(empty_parking_spaces, video_metadata_dev),\n",
    "                                          total = len(bboxes))\n",
    "})"
   ]
  },
  {
   "cell_type": "code",
   "execution_count": 7,
   "metadata": {},
   "outputs": [
    {
     "data": {
      "application/vnd.jupyter.widget-view+json": {
       "model_id": "af0e5844226a40c7905c96e3dca021d2",
       "version_major": 2,
       "version_minor": 0
      },
      "text/plain": [
       "VGridWidget(vgrid_spec={'compressed': True, 'data': b'x\\x9c\\xc4\\x9d\\xeb\\x8ee\\xc9q\\x9d_\\xc5\\xe0o[\\xc8\\xfb\\xc5?\\…"
      ]
     },
     "metadata": {},
     "output_type": "display_data"
    }
   ],
   "source": [
    "vgrid_spec = VGridSpec(\n",
    "    video_meta = video_metadata,\n",
    "    vis_format = VideoBlockFormat(imaps = [\n",
    "        ('bounding_boxes', bboxes_ism.filter(\n",
    "            lambda intrvl: intrvl['payload']['class'] == 'car'\n",
    "        )),\n",
    "        ('empty_spaces', gt_ism)\n",
    "    ]),\n",
    "    video_endpoint = os.path.join(VIDEO_COLLECTION_BASEURL, VIDEO_FOLDER)\n",
    ")\n",
    "VGridWidget(vgrid_spec = vgrid_spec.to_json_compressed())"
   ]
  },
  {
   "cell_type": "code",
   "execution_count": 8,
   "metadata": {},
   "outputs": [
    {
     "data": {
      "text/plain": [
       "dict_keys([2, 0])"
      ]
     },
     "execution_count": 8,
     "metadata": {},
     "output_type": "execute_result"
    }
   ],
   "source": [
    "bboxes_ism.get_grouped_intervals().keys()"
   ]
  },
  {
   "cell_type": "code",
   "execution_count": 9,
   "metadata": {},
   "outputs": [],
   "source": [
    "first_key = sorted(list(bboxes_ism.get_grouped_intervals().keys()))[0]"
   ]
  },
  {
   "cell_type": "code",
   "execution_count": 10,
   "metadata": {},
   "outputs": [],
   "source": [
    "parking_spot_candidates = bboxes_ism[first_key].filter(\n",
    "    lambda intrvl: intrvl['t1'] == 0.0 and intrvl['payload']['class'] == 'car'\n",
    ")"
   ]
  },
  {
   "cell_type": "code",
   "execution_count": 11,
   "metadata": {},
   "outputs": [],
   "source": [
    "video_durations = bboxes_ism.coalesce(\n",
    "    axis=('t1', 't2'),\n",
    "    bounds_merge_op=Bounds3D.span\n",
    ")"
   ]
  },
  {
   "cell_type": "code",
   "execution_count": 12,
   "metadata": {},
   "outputs": [
    {
     "data": {
      "text/plain": [
       "{2: 1, 0: 1}"
      ]
     },
     "execution_count": 12,
     "metadata": {},
     "output_type": "execute_result"
    }
   ],
   "source": [
    "video_durations.size()"
   ]
  },
  {
   "cell_type": "code",
   "execution_count": 13,
   "metadata": {},
   "outputs": [],
   "source": [
    "parking_spots = IntervalSetMapping({\n",
    "    key: IntervalSet([\n",
    "        Interval(Bounds3D(\n",
    "            t1 = t,\n",
    "            t2 = t + interval,\n",
    "            x1 = parking_spot['x1'],\n",
    "            x2 = parking_spot['x2'],\n",
    "            y1 = parking_spot['y1'],\n",
    "            y2 = parking_spot['y2']\n",
    "        ))\n",
    "        for parking_spot in parking_spot_candidates.get_intervals()\n",
    "        for t in range(0, int(video_durations[key].get_intervals()[0]['t2']), interval)\n",
    "    ])\n",
    "    for key in video_durations\n",
    "})"
   ]
  },
  {
   "cell_type": "code",
   "execution_count": 14,
   "metadata": {},
   "outputs": [
    {
     "data": {
      "text/plain": [
       "{0: 572, 2: 1222}"
      ]
     },
     "execution_count": 14,
     "metadata": {},
     "output_type": "execute_result"
    }
   ],
   "source": [
    "parking_spots.size()"
   ]
  },
  {
   "cell_type": "code",
   "execution_count": 15,
   "metadata": {},
   "outputs": [
    {
     "name": "stderr",
     "output_type": "stream",
     "text": [
      "100%|██████████| 2/2 [00:14<00:00,  5.69s/it]\n"
     ]
    }
   ],
   "source": [
    "empty_parking_spots = parking_spots.minus(\n",
    "    bboxes_ism.filter(\n",
    "        lambda intrvl: intrvl['payload']['class'] == 'car'\n",
    "    ),\n",
    "    predicate = and_pred(\n",
    "        Bounds3D.T(overlaps()),\n",
    "        Bounds3D.X(overlaps()),\n",
    "        Bounds3D.Y(overlaps()),\n",
    "        iou_at_least(0.25)\n",
    "    ),\n",
    "    window=0.0,\n",
    "    progress_bar=True\n",
    ")"
   ]
  },
  {
   "cell_type": "code",
   "execution_count": 16,
   "metadata": {},
   "outputs": [
    {
     "data": {
      "application/vnd.jupyter.widget-view+json": {
       "model_id": "2270062dcfe0413f9fa61732b2b1667a",
       "version_major": 2,
       "version_minor": 0
      },
      "text/plain": [
       "VGridWidget(vgrid_spec={'compressed': True, 'data': b'x\\x9c\\xdc\\xbd\\xdd\\x8em\\xc9u\\x9d\\xf9*\\x06\\xaf\\xdbB\\xfc\\xf…"
      ]
     },
     "metadata": {},
     "output_type": "display_data"
    }
   ],
   "source": [
    "vgrid_spec = VGridSpec(\n",
    "    video_meta = video_metadata,\n",
    "    vis_format = VideoBlockFormat(imaps = [\n",
    "        ('bounding_boxes', bboxes_ism.filter(\n",
    "            lambda intrvl: intrvl['payload']['class'] == 'car'\n",
    "        )),\n",
    "#         ('empty_spaces', gt_ism),\n",
    "        ('predicted_spaces', empty_parking_spots)\n",
    "    ]),\n",
    "    video_endpoint = os.path.join(VIDEO_COLLECTION_BASEURL, VIDEO_FOLDER)\n",
    ")\n",
    "VGridWidget(vgrid_spec = vgrid_spec.to_json_compressed())"
   ]
  },
  {
   "cell_type": "code",
   "execution_count": 17,
   "metadata": {},
   "outputs": [],
   "source": [
    "# Get rid of predictions that are empty for less than four minutes\n",
    "empty_spots_coalesced_and_filtered = empty_parking_spots.map(\n",
    "    lambda intrvl: Interval(intrvl['bounds'], [intrvl])\n",
    ").coalesce(\n",
    "    ('t1', 't2'),\n",
    "    bounds_merge_op = Bounds3D.span,\n",
    "    payload_merge_op = lambda p1, p2: p1 + p2,\n",
    "    predicate = iou_at_least(0.5)\n",
    ").filter_size(min_size=240).split(\n",
    "    lambda intrvl: IntervalSet(intrvl['payload'])\n",
    ")"
   ]
  },
  {
   "cell_type": "code",
   "execution_count": 18,
   "metadata": {},
   "outputs": [
    {
     "data": {
      "application/vnd.jupyter.widget-view+json": {
       "model_id": "d2c2f562c4014f818a0c79f453fe8b5b",
       "version_major": 2,
       "version_minor": 0
      },
      "text/plain": [
       "VGridWidget(vgrid_spec={'compressed': True, 'data': b'x\\x9c\\xc4\\x9d\\xeb\\x8ee\\xc9q\\x9d_\\xc5\\x98\\xdf\\xb6\\x90\\xf7…"
      ]
     },
     "metadata": {},
     "output_type": "display_data"
    }
   ],
   "source": [
    "vgrid_spec = VGridSpec(\n",
    "    video_meta = video_metadata,\n",
    "    vis_format = VideoBlockFormat(imaps = [\n",
    "        ('bounding_boxes', bboxes_ism.filter(\n",
    "            lambda intrvl: intrvl['payload']['class'] == 'car'\n",
    "        )),\n",
    "#         ('empty_spaces', gt_ism),\n",
    "        ('predicted_spaces', empty_spots_coalesced_and_filtered)\n",
    "    ]),\n",
    "    video_endpoint = os.path.join(VIDEO_COLLECTION_BASEURL, VIDEO_FOLDER)\n",
    ")\n",
    "VGridWidget(vgrid_spec = vgrid_spec.to_json_compressed())"
   ]
  },
  {
   "cell_type": "code",
   "execution_count": 19,
   "metadata": {},
   "outputs": [
    {
     "name": "stderr",
     "output_type": "stream",
     "text": [
      "100%|██████████| 2/2 [00:00<00:00,  9.40it/s]\n",
      "100%|██████████| 2/2 [00:00<00:00,  9.32it/s]\n",
      "100%|██████████| 1/1 [00:00<00:00, 256.34it/s]\n",
      "100%|██████████| 1/1 [00:00<00:00, 74.70it/s]\n"
     ]
    }
   ],
   "source": [
    "# Get rid of predictions that have empty predictions on both sides\n",
    "spots_with_left = empty_parking_spots.filter_against(\n",
    "    empty_spots_coalesced_and_filtered,\n",
    "    predicate = and_pred(\n",
    "        Bounds3D.T(equal()),\n",
    "        lambda spot1, spot2: \n",
    "            abs(spot1['x1'] - spot2['x2']) < (spot1['x2'] - spot1['x1']) / 2\n",
    "    ),\n",
    "    window = 0.0,\n",
    "    progress_bar = True\n",
    ")\n",
    "spots_with_right = empty_parking_spots.filter_against(\n",
    "    empty_spots_coalesced_and_filtered,\n",
    "    predicate = and_pred(\n",
    "        Bounds3D.T(equal()),\n",
    "        lambda spot1, spot2:\n",
    "            abs(spot1['x2'] - spot2['x1']) < (spot1['x2'] - spot1['x1']) / 2\n",
    "    ),\n",
    "    window = 0.0,\n",
    "    progress_bar = True\n",
    ")\n",
    "spots_with_left_and_right = spots_with_left.filter_against(\n",
    "    spots_with_right,\n",
    "    predicate = and_pred(\n",
    "        Bounds3D.T(equal()),\n",
    "        iou_at_least(0.5)\n",
    "    ),\n",
    "    window = 0.0,\n",
    "    progress_bar = True\n",
    ")\n",
    "empty_spots_without_left_and_right = empty_spots_coalesced_and_filtered.minus(\n",
    "    spots_with_left_and_right,\n",
    "    predicate = and_pred(\n",
    "        Bounds3D.T(equal()),\n",
    "        iou_at_least(0.5)\n",
    "    ),\n",
    "    window = 0.0,\n",
    "    progress_bar = True\n",
    ")"
   ]
  },
  {
   "cell_type": "code",
   "execution_count": 20,
   "metadata": {},
   "outputs": [
    {
     "data": {
      "application/vnd.jupyter.widget-view+json": {
       "model_id": "e86845505bff48d6b00154f4d1f705ef",
       "version_major": 2,
       "version_minor": 0
      },
      "text/plain": [
       "VGridWidget(vgrid_spec={'compressed': True, 'data': b'x\\x9c\\xc4\\x9d\\xeb\\x8ee\\xc9q\\x9d_\\xc5\\x98\\xdf\\xb6\\x90\\xf7…"
      ]
     },
     "metadata": {},
     "output_type": "display_data"
    }
   ],
   "source": [
    "vgrid_spec = VGridSpec(\n",
    "    video_meta = video_metadata,\n",
    "    vis_format = VideoBlockFormat(imaps = [\n",
    "        ('bounding_boxes', bboxes_ism.filter(\n",
    "            lambda intrvl: intrvl['payload']['class'] == 'car'\n",
    "        )),\n",
    "#         ('empty_spaces', gt_ism),\n",
    "        ('predicted_spaces', empty_spots_without_left_and_right)\n",
    "    ]),\n",
    "    video_endpoint = os.path.join(VIDEO_COLLECTION_BASEURL, VIDEO_FOLDER)\n",
    ")\n",
    "VGridWidget(vgrid_spec = vgrid_spec.to_json_compressed())"
   ]
  },
  {
   "cell_type": "code",
   "execution_count": 21,
   "metadata": {},
   "outputs": [
    {
     "name": "stderr",
     "output_type": "stream",
     "text": [
      "100%|██████████| 1/1 [00:00<00:00, 357.63it/s]\n",
      "100%|██████████| 1/1 [00:00<00:00, 51.97it/s]\n"
     ]
    }
   ],
   "source": [
    "spots_next_to_removed_spots = empty_spots_without_left_and_right.filter_against(\n",
    "    spots_with_left_and_right,\n",
    "    predicate = and_pred(\n",
    "        Bounds3D.T(equal()),\n",
    "        lambda spot1, spot2:\n",
    "            (abs(spot1['x2'] - spot2['x1']) < (spot1['x2'] - spot1['x1']) / 2 or\n",
    "            abs(spot1['x1'] - spot2['x2']) < (spot1['x2'] - spot1['x1']) / 2)\n",
    "    ),\n",
    "    window = 0.0,\n",
    "    progress_bar = True\n",
    ")\n",
    "empty_spots_stricter = empty_spots_without_left_and_right.minus(\n",
    "    spots_next_to_removed_spots,\n",
    "    predicate = and_pred(\n",
    "        Bounds3D.T(equal()),\n",
    "        iou_at_least(0.5)\n",
    "    ),\n",
    "    window = 0.0,\n",
    "    progress_bar = True\n",
    ")"
   ]
  },
  {
   "cell_type": "markdown",
   "metadata": {},
   "source": [
    "# Compute Precision/Recall"
   ]
  },
  {
   "cell_type": "code",
   "execution_count": 22,
   "metadata": {},
   "outputs": [],
   "source": [
    "def compute_precision_recall(predictions, gt):\n",
    "    true_positives = predictions.filter_against(\n",
    "        gt,\n",
    "        predicate = and_pred(\n",
    "            Bounds3D.T(equal()),\n",
    "            iou_at_least(0.5)\n",
    "        ),\n",
    "        window = 0.0,\n",
    "        progress_bar = True\n",
    "    )\n",
    "    false_positives = predictions.minus(\n",
    "        true_positives,\n",
    "        predicate = and_pred(\n",
    "            Bounds3D.T(equal()),\n",
    "            iou_at_least(0.5)\n",
    "        ),\n",
    "        window = 0.0,\n",
    "        progress_bar = True\n",
    "    )\n",
    "    false_negatives = gt.minus(\n",
    "        predictions,\n",
    "        predicate = and_pred(\n",
    "            Bounds3D.T(equal()),\n",
    "            iou_at_least(0.5)\n",
    "        ),\n",
    "        window = 0.0,\n",
    "        progress_bar = True\n",
    "    )\n",
    "    \n",
    "    print(false_positives.size())\n",
    "    \n",
    "    tp_count = sum(true_positives.size().values())\n",
    "    fp_count = sum(false_positives.size().values())\n",
    "    fn_count = sum(false_negatives.size().values())\n",
    "    \n",
    "    precision = tp_count / (tp_count + fp_count)\n",
    "    recall = tp_count / (tp_count + fn_count)\n",
    "    f1 = 2 * precision * recall / (precision + recall)\n",
    "    \n",
    "    return precision, recall, f1, tp_count, fp_count, fn_count"
   ]
  },
  {
   "cell_type": "code",
   "execution_count": 23,
   "metadata": {},
   "outputs": [
    {
     "name": "stderr",
     "output_type": "stream",
     "text": [
      "100%|██████████| 2/2 [00:00<00:00, 12.96it/s]\n",
      "100%|██████████| 2/2 [00:00<00:00,  2.39it/s]\n",
      "100%|██████████| 2/2 [00:00<00:00,  2.35it/s]"
     ]
    },
    {
     "name": "stdout",
     "output_type": "stream",
     "text": [
      "{0: 13, 2: 79}\n"
     ]
    },
    {
     "name": "stderr",
     "output_type": "stream",
     "text": [
      "\n"
     ]
    },
    {
     "data": {
      "text/plain": [
       "(0.7097791798107256, 1.0, 0.8302583025830258, 225, 92, 0)"
      ]
     },
     "execution_count": 23,
     "metadata": {},
     "output_type": "execute_result"
    }
   ],
   "source": [
    "compute_precision_recall(empty_parking_spots, gt_ism)"
   ]
  },
  {
   "cell_type": "code",
   "execution_count": 24,
   "metadata": {},
   "outputs": [
    {
     "name": "stderr",
     "output_type": "stream",
     "text": [
      "100%|██████████| 2/2 [00:00<00:00, 18.27it/s]\n",
      "100%|██████████| 1/1 [00:00<00:00,  1.46it/s]\n",
      "100%|██████████| 2/2 [00:00<00:00,  4.10it/s]"
     ]
    },
    {
     "name": "stdout",
     "output_type": "stream",
     "text": [
      "{2: 33}\n"
     ]
    },
    {
     "name": "stderr",
     "output_type": "stream",
     "text": [
      "\n"
     ]
    },
    {
     "data": {
      "text/plain": [
       "(0.872093023255814, 1.0, 0.9316770186335404, 225, 33, 0)"
      ]
     },
     "execution_count": 24,
     "metadata": {},
     "output_type": "execute_result"
    }
   ],
   "source": [
    "compute_precision_recall(empty_spots_coalesced_and_filtered, gt_ism)"
   ]
  },
  {
   "cell_type": "code",
   "execution_count": 25,
   "metadata": {},
   "outputs": [
    {
     "name": "stderr",
     "output_type": "stream",
     "text": [
      "100%|██████████| 2/2 [00:00<00:00, 30.00it/s]\n",
      "100%|██████████| 1/1 [00:00<00:00,  1.66it/s]\n",
      "100%|██████████| 2/2 [00:00<00:00,  4.13it/s]"
     ]
    },
    {
     "name": "stdout",
     "output_type": "stream",
     "text": [
      "{2: 33}\n"
     ]
    },
    {
     "name": "stderr",
     "output_type": "stream",
     "text": [
      "\n"
     ]
    },
    {
     "data": {
      "text/plain": [
       "(0.872093023255814, 1.0, 0.9316770186335404, 225, 33, 0)"
      ]
     },
     "execution_count": 25,
     "metadata": {},
     "output_type": "execute_result"
    }
   ],
   "source": [
    "compute_precision_recall(empty_spots_without_left_and_right, gt_ism)"
   ]
  },
  {
   "cell_type": "code",
   "execution_count": 26,
   "metadata": {},
   "outputs": [
    {
     "name": "stderr",
     "output_type": "stream",
     "text": [
      "100%|██████████| 2/2 [00:00<00:00, 32.50it/s]\n",
      "100%|██████████| 1/1 [00:00<00:00,  1.37it/s]\n",
      "100%|██████████| 2/2 [00:00<00:00,  4.02it/s]"
     ]
    },
    {
     "name": "stdout",
     "output_type": "stream",
     "text": [
      "{2: 30}\n"
     ]
    },
    {
     "name": "stderr",
     "output_type": "stream",
     "text": [
      "\n"
     ]
    },
    {
     "data": {
      "text/plain": [
       "(0.8809523809523809, 0.9866666666666667, 0.930817610062893, 222, 30, 3)"
      ]
     },
     "execution_count": 26,
     "metadata": {},
     "output_type": "execute_result"
    }
   ],
   "source": [
    "compute_precision_recall(empty_spots_stricter, gt_ism)"
   ]
  },
  {
   "cell_type": "markdown",
   "metadata": {},
   "source": [
    "# Calculate AP"
   ]
  },
  {
   "cell_type": "code",
   "execution_count": 32,
   "metadata": {},
   "outputs": [],
   "source": [
    "def compute_ap(predictions, gt):\n",
    "    from sklearn.metrics import average_precision_score\n",
    "    import numpy as np\n",
    "    \n",
    "    true_positives = predictions.filter_against(\n",
    "        gt,\n",
    "        predicate = and_pred(\n",
    "            Bounds3D.T(equal()),\n",
    "            iou_at_least(0.5)\n",
    "        ),\n",
    "        window = 0.0,\n",
    "        progress_bar = True\n",
    "    )\n",
    "    false_positives = predictions.minus(\n",
    "        true_positives,\n",
    "        predicate = and_pred(\n",
    "            Bounds3D.T(equal()),\n",
    "            iou_at_least(0.5)\n",
    "        ),\n",
    "        window = 0.0,\n",
    "        progress_bar = True\n",
    "    )\n",
    "    false_negatives = gt.minus(\n",
    "        predictions,\n",
    "        predicate = and_pred(\n",
    "            Bounds3D.T(equal()),\n",
    "            iou_at_least(0.5)\n",
    "        ),\n",
    "        window = 0.0,\n",
    "        progress_bar = True\n",
    "    )\n",
    "    \n",
    "    tp_count = sum(true_positives.size().values())\n",
    "    fp_count = sum(false_positives.size().values())\n",
    "    fn_count = sum(false_negatives.size().values())\n",
    "    \n",
    "    y_true = np.concatenate([\n",
    "        np.ones(tp_count),\n",
    "        np.zeros(fp_count),\n",
    "        np.zeros(1000 * sum(gt.size().values())),\n",
    "        np.ones(fn_count),\n",
    "    ])\n",
    "    y_scores = np.concatenate([\n",
    "        np.ones(tp_count),\n",
    "        np.ones(fp_count),\n",
    "        np.ones(1000 * sum(gt.size().values())) - 0.1,\n",
    "        np.zeros(fn_count),\n",
    "    ])\n",
    "    \n",
    "    return average_precision_score(y_true, y_scores)"
   ]
  },
  {
   "cell_type": "code",
   "execution_count": 33,
   "metadata": {},
   "outputs": [
    {
     "name": "stderr",
     "output_type": "stream",
     "text": [
      "100%|██████████| 2/2 [00:00<00:00, 13.57it/s]\n",
      "100%|██████████| 2/2 [00:00<00:00,  2.38it/s]\n",
      "100%|██████████| 2/2 [00:00<00:00,  3.24it/s]\n"
     ]
    },
    {
     "data": {
      "text/plain": [
       "0.7097791798107256"
      ]
     },
     "execution_count": 33,
     "metadata": {},
     "output_type": "execute_result"
    }
   ],
   "source": [
    "compute_ap(empty_parking_spots, gt_ism)"
   ]
  },
  {
   "cell_type": "code",
   "execution_count": 34,
   "metadata": {},
   "outputs": [
    {
     "name": "stderr",
     "output_type": "stream",
     "text": [
      "100%|██████████| 2/2 [00:00<00:00, 15.70it/s]\n",
      "100%|██████████| 1/1 [00:00<00:00,  1.30it/s]\n",
      "100%|██████████| 2/2 [00:00<00:00,  2.95it/s]\n"
     ]
    },
    {
     "data": {
      "text/plain": [
       "0.872093023255814"
      ]
     },
     "execution_count": 34,
     "metadata": {},
     "output_type": "execute_result"
    }
   ],
   "source": [
    "compute_ap(empty_spots_coalesced_and_filtered, gt_ism)"
   ]
  },
  {
   "cell_type": "code",
   "execution_count": 35,
   "metadata": {},
   "outputs": [
    {
     "name": "stderr",
     "output_type": "stream",
     "text": [
      "100%|██████████| 2/2 [00:00<00:00, 16.45it/s]\n",
      "100%|██████████| 1/1 [00:00<00:00,  1.26it/s]\n",
      "100%|██████████| 2/2 [00:00<00:00,  2.72it/s]\n"
     ]
    },
    {
     "data": {
      "text/plain": [
       "0.872093023255814"
      ]
     },
     "execution_count": 35,
     "metadata": {},
     "output_type": "execute_result"
    }
   ],
   "source": [
    "compute_ap(empty_spots_without_left_and_right, gt_ism)"
   ]
  },
  {
   "cell_type": "code",
   "execution_count": 36,
   "metadata": {},
   "outputs": [
    {
     "name": "stderr",
     "output_type": "stream",
     "text": [
      "100%|██████████| 2/2 [00:00<00:00, 16.29it/s]\n",
      "100%|██████████| 1/1 [00:00<00:00,  1.31it/s]\n",
      "100%|██████████| 2/2 [00:00<00:00,  2.93it/s]\n"
     ]
    },
    {
     "data": {
      "text/plain": [
       "0.8692196674456779"
      ]
     },
     "execution_count": 36,
     "metadata": {},
     "output_type": "execute_result"
    }
   ],
   "source": [
    "compute_ap(empty_spots_stricter, gt_ism)"
   ]
  },
  {
   "cell_type": "code",
   "execution_count": 54,
   "metadata": {},
   "outputs": [],
   "source": [
    "# Compute average precision, but use random scores from 0.5 to 1 for positives\n",
    "def compute_ap_random_scores(prediction, gt):\n",
    "    from sklearn.metrics import average_precision_score\n",
    "    import numpy as np\n",
    "    \n",
    "    true_positives = prediction.filter_against(\n",
    "        gt,\n",
    "        predicate = and_pred(\n",
    "            Bounds3D.T(equal()),\n",
    "            iou_at_least(0.5)\n",
    "        ),\n",
    "        window = 0.0,\n",
    "        progress_bar = True\n",
    "    )\n",
    "    false_positives = prediction.minus(\n",
    "        true_positives,\n",
    "        predicate = and_pred(\n",
    "            Bounds3D.T(equal()),\n",
    "            iou_at_least(0.5)\n",
    "        ),\n",
    "        window = 0.0,\n",
    "        progress_bar = True\n",
    "    )\n",
    "    false_negatives = gt.minus(\n",
    "        prediction,\n",
    "        predicate = and_pred(\n",
    "            Bounds3D.T(equal()),\n",
    "            iou_at_least(0.5)\n",
    "        ),\n",
    "        window = 0.0,\n",
    "        progress_bar = True\n",
    "    )\n",
    "    \n",
    "    tp_count = sum(true_positives.size().values())\n",
    "    fp_count = sum(false_positives.size().values())\n",
    "    fn_count = sum(false_negatives.size().values())\n",
    "    \n",
    "    y_true = np.concatenate([\n",
    "        np.ones(tp_count),\n",
    "        np.ones(fn_count),\n",
    "        np.zeros(fp_count)\n",
    "    ])\n",
    "    y_scores = np.concatenate([\n",
    "        (np.random.rand(tp_count) + 1) / 2,\n",
    "        np.zeros(fn_count),\n",
    "        (np.random.rand(fp_count) + 1) / 2\n",
    "    ])\n",
    "    \n",
    "    return average_precision_score(y_true, y_scores)"
   ]
  },
  {
   "cell_type": "code",
   "execution_count": 57,
   "metadata": {},
   "outputs": [
    {
     "name": "stderr",
     "output_type": "stream",
     "text": [
      "100%|██████████| 2/2 [00:00<00:00, 42.34it/s]\n",
      "100%|██████████| 2/2 [00:00<00:00,  4.97it/s]\n",
      "100%|██████████| 2/2 [00:00<00:00,  5.09it/s]\n"
     ]
    },
    {
     "data": {
      "text/plain": [
       "0.7010711551187949"
      ]
     },
     "execution_count": 57,
     "metadata": {},
     "output_type": "execute_result"
    }
   ],
   "source": [
    "compute_ap_random_scores(empty_parking_spots, gt_ism)"
   ]
  },
  {
   "cell_type": "code",
   "execution_count": 58,
   "metadata": {},
   "outputs": [
    {
     "name": "stderr",
     "output_type": "stream",
     "text": [
      "100%|██████████| 2/2 [00:00<00:00, 51.29it/s]\n",
      "100%|██████████| 1/1 [00:00<00:00,  2.89it/s]\n",
      "100%|██████████| 2/2 [00:00<00:00,  6.45it/s]\n"
     ]
    },
    {
     "data": {
      "text/plain": [
       "0.9211044268202175"
      ]
     },
     "execution_count": 58,
     "metadata": {},
     "output_type": "execute_result"
    }
   ],
   "source": [
    "compute_ap_random_scores(empty_spots_coalesced_and_filtered, gt_ism)"
   ]
  },
  {
   "cell_type": "code",
   "execution_count": 61,
   "metadata": {},
   "outputs": [
    {
     "name": "stderr",
     "output_type": "stream",
     "text": [
      "100%|██████████| 2/2 [00:00<00:00, 51.15it/s]\n",
      "100%|██████████| 1/1 [00:00<00:00,  2.82it/s]\n",
      "100%|██████████| 2/2 [00:00<00:00,  5.71it/s]\n"
     ]
    },
    {
     "data": {
      "text/plain": [
       "0.890337579963384"
      ]
     },
     "execution_count": 61,
     "metadata": {},
     "output_type": "execute_result"
    }
   ],
   "source": [
    "compute_ap_random_scores(empty_spots_without_left_and_right, gt_ism)"
   ]
  },
  {
   "cell_type": "code",
   "execution_count": 69,
   "metadata": {},
   "outputs": [
    {
     "name": "stderr",
     "output_type": "stream",
     "text": [
      "100%|██████████| 2/2 [00:00<00:00, 53.49it/s]\n",
      "100%|██████████| 1/1 [00:00<00:00,  2.71it/s]\n",
      "100%|██████████| 2/2 [00:00<00:00,  6.46it/s]\n"
     ]
    },
    {
     "data": {
      "text/plain": [
       "0.8763985981882618"
      ]
     },
     "execution_count": 69,
     "metadata": {},
     "output_type": "execute_result"
    }
   ],
   "source": [
    "compute_ap_random_scores(empty_spots_stricter, gt_ism)"
   ]
  }
 ],
 "metadata": {
  "kernelspec": {
   "display_name": "Python 3",
   "language": "python",
   "name": "python3"
  },
  "language_info": {
   "codemirror_mode": {
    "name": "ipython",
    "version": 3
   },
   "file_extension": ".py",
   "mimetype": "text/x-python",
   "name": "python",
   "nbconvert_exporter": "python",
   "pygments_lexer": "ipython3",
   "version": "3.7.3"
  }
 },
 "nbformat": 4,
 "nbformat_minor": 2
}
