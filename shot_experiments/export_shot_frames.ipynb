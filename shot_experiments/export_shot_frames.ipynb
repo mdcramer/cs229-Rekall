{
 "cells": [
  {
   "cell_type": "markdown",
   "metadata": {},
   "source": [
    "# Export shot transitions\n",
    "Run this notebook from an esper movies environment."
   ]
  },
  {
   "cell_type": "code",
   "execution_count": 1,
   "metadata": {
    "ExecuteTime": {
     "end_time": "2019-08-16T21:21:15.222058Z",
     "start_time": "2019-08-16T21:21:11.728828Z"
    }
   },
   "outputs": [],
   "source": [
    "import pickle\n",
    "import numpy as np\n",
    "from rekall.video_interval_collection import VideoIntervalCollection\n",
    "from rekall.interval_list import IntervalList\n",
    "from rekall.temporal_predicates import equal, overlaps\n",
    "import matplotlib.pyplot as plt\n",
    "from query.models import LabeledInterval, Labeler, Shot\n",
    "import os\n",
    "from tqdm import tqdm\n",
    "from esper.prelude import *\n",
    "from PIL import Image"
   ]
  },
  {
   "cell_type": "markdown",
   "metadata": {},
   "source": [
    "# Load Shot Transitions"
   ]
  },
  {
   "cell_type": "code",
   "execution_count": 2,
   "metadata": {
    "ExecuteTime": {
     "end_time": "2019-08-16T21:21:15.264305Z",
     "start_time": "2019-08-16T21:21:15.225540Z"
    }
   },
   "outputs": [],
   "source": [
    "shots_qs = Shot.objects.filter(labeler__name__contains=\"manual\")"
   ]
  },
  {
   "cell_type": "code",
   "execution_count": 3,
   "metadata": {
    "ExecuteTime": {
     "end_time": "2019-08-16T21:21:15.870566Z",
     "start_time": "2019-08-16T21:21:15.266683Z"
    }
   },
   "outputs": [],
   "source": [
    "shots = VideoIntervalCollection.from_django_qs(shots_qs)"
   ]
  },
  {
   "cell_type": "code",
   "execution_count": 4,
   "metadata": {
    "ExecuteTime": {
     "end_time": "2019-08-16T21:21:15.934199Z",
     "start_time": "2019-08-16T21:21:15.873727Z"
    }
   },
   "outputs": [],
   "source": [
    "window_size = 16\n",
    "stride = 16\n",
    "\n",
    "shot_boundaries = shots.map(\n",
    "    lambda intrvl: (intrvl.start, intrvl.start, intrvl.payload)\n",
    ").set_union(\n",
    "    shots.map(lambda intrvl: (intrvl.end + 1, intrvl.end + 1, intrvl.payload))\n",
    ").coalesce().filter(lambda intrvl: intrvl.payload != -1)\n",
    "\n",
    "clips = shots.dilate(1).coalesce().dilate(-1).map(\n",
    "    lambda intrvl: (\n",
    "        intrvl.start - stride - ((intrvl.start - stride) % stride),\n",
    "        intrvl.end + stride - ((intrvl.end + stride) % stride),\n",
    "        intrvl.payload\n",
    "    )\n",
    ").dilate(1).coalesce().dilate(-1)"
   ]
  },
  {
   "cell_type": "code",
   "execution_count": 5,
   "metadata": {
    "ExecuteTime": {
     "end_time": "2019-08-16T21:21:15.978647Z",
     "start_time": "2019-08-16T21:21:15.937467Z"
    }
   },
   "outputs": [],
   "source": [
    "VAL_WINDOWS = '/app/data/shot_detection_weak_labels/validation_windows_same_val_test.pkl'\n",
    "TEST_WINDOWS = '/app/data/shot_detection_weak_labels/test_windows_same_val_test.pkl'"
   ]
  },
  {
   "cell_type": "code",
   "execution_count": 6,
   "metadata": {
    "ExecuteTime": {
     "end_time": "2019-08-16T21:21:16.149562Z",
     "start_time": "2019-08-16T21:21:15.981126Z"
    }
   },
   "outputs": [],
   "source": [
    "with open(VAL_WINDOWS, 'rb') as f:\n",
    "    val_windows_by_video_id = pickle.load(f)\n",
    "with open(TEST_WINDOWS, 'rb') as f:\n",
    "    test_windows_by_video_id = pickle.load(f)"
   ]
  },
  {
   "cell_type": "code",
   "execution_count": 7,
   "metadata": {
    "ExecuteTime": {
     "end_time": "2019-08-16T21:21:16.194630Z",
     "start_time": "2019-08-16T21:21:16.151627Z"
    }
   },
   "outputs": [],
   "source": [
    "shot_boundary_tuples = [\n",
    "    (video_id, intrvl.start)\n",
    "    for video_id in shot_boundaries.get_allintervals()\n",
    "    for intrvl in shot_boundaries.get_intervallist(video_id).get_intervals()\n",
    "]"
   ]
  },
  {
   "cell_type": "code",
   "execution_count": 8,
   "metadata": {
    "ExecuteTime": {
     "end_time": "2019-08-16T21:21:16.746176Z",
     "start_time": "2019-08-16T21:21:16.197228Z"
    }
   },
   "outputs": [],
   "source": [
    "val_frames = [\n",
    "    (video_id, frame_number, 1 if (video_id, frame_number) in shot_boundary_tuples else 0)\n",
    "    for video_id, window_start, window_end in val_windows_by_video_id\n",
    "    for frame_number in range(window_start, window_end)\n",
    "]"
   ]
  },
  {
   "cell_type": "code",
   "execution_count": 9,
   "metadata": {
    "ExecuteTime": {
     "end_time": "2019-08-16T21:21:17.315460Z",
     "start_time": "2019-08-16T21:21:16.748363Z"
    }
   },
   "outputs": [],
   "source": [
    "test_frames = [\n",
    "    (video_id, frame_number, 1 if (video_id, frame_number) in shot_boundary_tuples else 0)\n",
    "    for video_id, window_start, window_end in test_windows_by_video_id\n",
    "    for frame_number in range(window_start, window_end)\n",
    "]"
   ]
  },
  {
   "cell_type": "markdown",
   "metadata": {},
   "source": [
    "# Export frames"
   ]
  },
  {
   "cell_type": "code",
   "execution_count": 10,
   "metadata": {
    "ExecuteTime": {
     "end_time": "2019-08-16T21:21:17.354286Z",
     "start_time": "2019-08-16T21:21:17.318074Z"
    }
   },
   "outputs": [],
   "source": [
    "all_frame_numbers = val_frames + test_frames"
   ]
  },
  {
   "cell_type": "code",
   "execution_count": 11,
   "metadata": {
    "ExecuteTime": {
     "end_time": "2019-08-16T21:21:17.407806Z",
     "start_time": "2019-08-16T21:21:17.358090Z"
    }
   },
   "outputs": [],
   "source": [
    "frame_numbers_by_video = {}\n",
    "for video_id, frame_number, label in all_frame_numbers:\n",
    "    if video_id not in frame_numbers_by_video:\n",
    "        frame_numbers_by_video[video_id] = []\n",
    "    frame_numbers_by_video[video_id].append(frame_number)"
   ]
  },
  {
   "cell_type": "code",
   "execution_count": 12,
   "metadata": {
    "ExecuteTime": {
     "end_time": "2019-08-16T21:21:17.451216Z",
     "start_time": "2019-08-16T21:21:17.410722Z"
    }
   },
   "outputs": [],
   "source": [
    "import hwang, storehouse"
   ]
  },
  {
   "cell_type": "code",
   "execution_count": null,
   "metadata": {
    "ExecuteTime": {
     "start_time": "2019-08-16T21:21:23.826Z"
    }
   },
   "outputs": [
    {
     "data": {
      "application/vnd.jupyter.widget-view+json": {
       "model_id": "498b9130579f4766939199ba9bc09c25",
       "version_major": 2,
       "version_minor": 0
      },
      "text/plain": [
       "HBox(children=(IntProgress(value=0, max=28), HTML(value='')))"
      ]
     },
     "metadata": {},
     "output_type": "display_data"
    }
   ],
   "source": [
    "for video_id in tqdm(frame_numbers_by_video):\n",
    "    video = Video.objects.get(id=video_id)\n",
    "    backend = storehouse.StorageBackend.make_from_config(\n",
    "        storehouse.StorageConfig.make_gcs_config(os.environ.get('BUCKET')))\n",
    "    dec = hwang.Decoder(storehouse.RandomReadFile(backend, video.path))\n",
    "    \n",
    "    frame_nums = frame_numbers_by_video[video_id]\n",
    "    frames = dec.retrieve(frame_nums)\n",
    "    \n",
    "    os.makedirs('/app/data/shot_transitions/images/{}'.format(video_id), exist_ok=True)\n",
    "    \n",
    "    for frame_num, frame in zip(frame_nums, frames):\n",
    "        im = Image.fromarray(frame)\n",
    "        im.save('/app/data/shot_transitions/images/{}/{:06d}.jpg'.format(video_id, frame_num))\n",
    "    \n",
    "    del frames"
   ]
  },
  {
   "cell_type": "markdown",
   "metadata": {},
   "source": [
    "# Export train/val/test splits"
   ]
  },
  {
   "cell_type": "code",
   "execution_count": null,
   "metadata": {},
   "outputs": [],
   "source": [
    "os.makedirs('/app/shot_transitions/data', exist_ok=True)\n",
    "with open('/app/shot_transitions/data/train.txt', 'w') as f:\n",
    "    for video_id in train_set:\n",
    "        for i, intrvl in enumerate(interview_labels[video_id].get_intervals()):\n",
    "            f.write('{} {} {}\\n'.format(video_id, i, intrvl['payload']))\n",
    "with open('/app/shot_transitions/data/val.txt', 'w') as f:\n",
    "    for video_id in val_set:\n",
    "        for i, intrvl in enumerate(interview_labels[video_id].get_intervals()):\n",
    "            f.write('{} {} {}\\n'.format(video_id, i, intrvl['payload']))\n",
    "with open('/app/shot_transitions/data/test.txt', 'w') as f:\n",
    "    for video_id in test_set:\n",
    "        for i, intrvl in enumerate(interview_labels[video_id].get_intervals()):\n",
    "            f.write('{} {} {}\\n'.format(video_id, i, intrvl['payload']))"
   ]
  }
 ],
 "metadata": {
  "kernelspec": {
   "display_name": "Django Shell-Plus",
   "language": "python",
   "name": "django_extensions"
  },
  "language_info": {
   "codemirror_mode": {
    "name": "ipython",
    "version": 3
   },
   "file_extension": ".py",
   "mimetype": "text/x-python",
   "name": "python",
   "nbconvert_exporter": "python",
   "pygments_lexer": "ipython3",
   "version": "3.5.2"
  },
  "toc": {
   "nav_menu": {},
   "number_sections": true,
   "sideBar": true,
   "skip_h1_title": false,
   "toc_cell": false,
   "toc_position": {},
   "toc_section_display": "block",
   "toc_window_display": false
  }
 },
 "nbformat": 4,
 "nbformat_minor": 2
}
