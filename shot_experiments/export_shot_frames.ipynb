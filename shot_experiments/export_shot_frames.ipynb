{
 "cells": [
  {
   "cell_type": "markdown",
   "metadata": {},
   "source": [
    "# Export shot transitions\n",
    "Run this notebook from an esper movies environment."
   ]
  },
  {
   "cell_type": "code",
   "execution_count": 1,
   "metadata": {
    "ExecuteTime": {
     "end_time": "2019-08-17T19:08:56.940388Z",
     "start_time": "2019-08-17T19:08:56.104950Z"
    }
   },
   "outputs": [],
   "source": [
    "import pickle\n",
    "import numpy as np\n",
    "from rekall.video_interval_collection import VideoIntervalCollection\n",
    "from rekall.interval_list import IntervalList\n",
    "from rekall.temporal_predicates import equal, overlaps\n",
    "import matplotlib.pyplot as plt\n",
    "from query.models import LabeledInterval, Labeler, Shot\n",
    "import os\n",
    "from tqdm import tqdm\n",
    "from esper.prelude import *\n",
    "from PIL import Image"
   ]
  },
  {
   "cell_type": "markdown",
   "metadata": {},
   "source": [
    "# Load Shot Transitions"
   ]
  },
  {
   "cell_type": "code",
   "execution_count": 2,
   "metadata": {
    "ExecuteTime": {
     "end_time": "2019-08-17T19:08:57.907770Z",
     "start_time": "2019-08-17T19:08:57.865167Z"
    }
   },
   "outputs": [],
   "source": [
    "shots_qs = Shot.objects.filter(labeler__name__contains=\"manual\")"
   ]
  },
  {
   "cell_type": "code",
   "execution_count": 3,
   "metadata": {
    "ExecuteTime": {
     "end_time": "2019-08-17T19:08:58.952580Z",
     "start_time": "2019-08-17T19:08:58.200196Z"
    }
   },
   "outputs": [],
   "source": [
    "shots = VideoIntervalCollection.from_django_qs(shots_qs)"
   ]
  },
  {
   "cell_type": "code",
   "execution_count": 4,
   "metadata": {
    "ExecuteTime": {
     "end_time": "2019-08-17T19:08:59.124983Z",
     "start_time": "2019-08-17T19:08:59.028532Z"
    }
   },
   "outputs": [
    {
     "name": "stderr",
     "output_type": "stream",
     "text": [
      "100%|██████████████████████████████████████████████████████████████████████████████████████████████████████████████████████████████████████████████████████████████████████████████████████████████████████| 28/28 [00:00<00:00, 8344.50it/s]\n",
      "100%|█████████████████████████████████████████████████████████████████████████████████████████████████████████████████████████████████████████████████████████████████████████████████████████████████████| 28/28 [00:00<00:00, 10982.93it/s]\n",
      "100%|█████████████████████████████████████████████████████████████████████████████████████████████████████████████████████████████████████████████████████████████████████████████████████████████████████| 28/28 [00:00<00:00, 44067.73it/s]\n",
      "100%|█████████████████████████████████████████████████████████████████████████████████████████████████████████████████████████████████████████████████████████████████████████████████████████████████████| 28/28 [00:00<00:00, 44979.13it/s]\n",
      "100%|█████████████████████████████████████████████████████████████████████████████████████████████████████████████████████████████████████████████████████████████████████████████████████████████████████| 28/28 [00:00<00:00, 51599.52it/s]\n"
     ]
    }
   ],
   "source": [
    "window_size = 16\n",
    "stride = 16\n",
    "\n",
    "shot_boundaries = shots.map(\n",
    "    lambda intrvl: (intrvl.start, intrvl.start, intrvl.payload)\n",
    ").set_union(\n",
    "    shots.map(lambda intrvl: (intrvl.end + 1, intrvl.end + 1, intrvl.payload))\n",
    ").coalesce().filter(lambda intrvl: intrvl.payload != -1)\n",
    "\n",
    "clips = shots.dilate(1).coalesce().dilate(-1).map(\n",
    "    lambda intrvl: (\n",
    "        intrvl.start - stride - ((intrvl.start - stride) % stride),\n",
    "        intrvl.end + stride - ((intrvl.end + stride) % stride),\n",
    "        intrvl.payload\n",
    "    )\n",
    ").dilate(1).coalesce().dilate(-1)"
   ]
  },
  {
   "cell_type": "code",
   "execution_count": 5,
   "metadata": {
    "ExecuteTime": {
     "end_time": "2019-08-17T19:09:00.034841Z",
     "start_time": "2019-08-17T19:08:59.998639Z"
    }
   },
   "outputs": [],
   "source": [
    "VAL_WINDOWS = '/app/data/shot_detection_weak_labels/validation_windows_same_val_test.pkl'\n",
    "TEST_WINDOWS = '/app/data/shot_detection_weak_labels/test_windows_same_val_test.pkl'"
   ]
  },
  {
   "cell_type": "code",
   "execution_count": 6,
   "metadata": {
    "ExecuteTime": {
     "end_time": "2019-08-17T19:09:00.486008Z",
     "start_time": "2019-08-17T19:09:00.446338Z"
    }
   },
   "outputs": [],
   "source": [
    "with open(VAL_WINDOWS, 'rb') as f:\n",
    "    val_windows_by_video_id = pickle.load(f)\n",
    "with open(TEST_WINDOWS, 'rb') as f:\n",
    "    test_windows_by_video_id = pickle.load(f)"
   ]
  },
  {
   "cell_type": "code",
   "execution_count": 7,
   "metadata": {
    "ExecuteTime": {
     "end_time": "2019-08-17T19:09:01.308258Z",
     "start_time": "2019-08-17T19:09:01.270083Z"
    }
   },
   "outputs": [],
   "source": [
    "shot_boundary_tuples = [\n",
    "    (video_id, intrvl.start)\n",
    "    for video_id in shot_boundaries.get_allintervals()\n",
    "    for intrvl in shot_boundaries.get_intervallist(video_id).get_intervals()\n",
    "]"
   ]
  },
  {
   "cell_type": "code",
   "execution_count": 8,
   "metadata": {
    "ExecuteTime": {
     "end_time": "2019-08-17T19:09:02.039047Z",
     "start_time": "2019-08-17T19:09:01.443748Z"
    }
   },
   "outputs": [],
   "source": [
    "val_frames = [\n",
    "    (video_id, frame_number, 1 if (video_id, frame_number) in shot_boundary_tuples else 0)\n",
    "    for video_id, window_start, window_end in val_windows_by_video_id\n",
    "    for frame_number in range(window_start, window_end)\n",
    "]"
   ]
  },
  {
   "cell_type": "code",
   "execution_count": 9,
   "metadata": {
    "ExecuteTime": {
     "end_time": "2019-08-17T19:09:02.505274Z",
     "start_time": "2019-08-17T19:09:02.041837Z"
    }
   },
   "outputs": [],
   "source": [
    "test_frames = [\n",
    "    (video_id, frame_number, 1 if (video_id, frame_number) in shot_boundary_tuples else 0)\n",
    "    for video_id, window_start, window_end in test_windows_by_video_id\n",
    "    for frame_number in range(window_start, window_end)\n",
    "]"
   ]
  },
  {
   "cell_type": "markdown",
   "metadata": {},
   "source": [
    "# Export frames"
   ]
  },
  {
   "cell_type": "code",
   "execution_count": 10,
   "metadata": {
    "ExecuteTime": {
     "end_time": "2019-08-17T19:09:23.887921Z",
     "start_time": "2019-08-17T19:09:23.847005Z"
    }
   },
   "outputs": [],
   "source": [
    "all_frame_numbers = val_frames + test_frames"
   ]
  },
  {
   "cell_type": "code",
   "execution_count": 11,
   "metadata": {
    "ExecuteTime": {
     "end_time": "2019-08-17T19:09:52.504701Z",
     "start_time": "2019-08-17T19:09:52.437142Z"
    }
   },
   "outputs": [],
   "source": [
    "frame_numbers_by_video = {}\n",
    "for video_id, frame_number, label in all_frame_numbers:\n",
    "    if video_id not in frame_numbers_by_video:\n",
    "        frame_numbers_by_video[video_id] = []\n",
    "    frame_numbers_by_video[video_id].append(frame_number)\n",
    "for video_id in frame_numbers_by_video:\n",
    "    frame_numbers_by_video[video_id] = sorted(frame_numbers_by_video[video_id])"
   ]
  },
  {
   "cell_type": "code",
   "execution_count": 12,
   "metadata": {
    "ExecuteTime": {
     "end_time": "2019-08-17T19:09:53.435842Z",
     "start_time": "2019-08-17T19:09:53.397495Z"
    }
   },
   "outputs": [],
   "source": [
    "import hwang, storehouse"
   ]
  },
  {
   "cell_type": "code",
   "execution_count": 13,
   "metadata": {
    "ExecuteTime": {
     "end_time": "2019-08-17T19:09:53.749524Z",
     "start_time": "2019-08-17T19:09:53.714779Z"
    }
   },
   "outputs": [],
   "source": [
    "root_path = '/app/data'"
   ]
  },
  {
   "cell_type": "code",
   "execution_count": 14,
   "metadata": {
    "ExecuteTime": {
     "end_time": "2019-08-17T19:09:54.123174Z",
     "start_time": "2019-08-17T19:09:54.041365Z"
    }
   },
   "outputs": [
    {
     "data": {
      "text/plain": [
       "'movies/12_years_a_slave_2013.mp4'"
      ]
     },
     "execution_count": 14,
     "metadata": {},
     "output_type": "execute_result"
    }
   ],
   "source": [
    "Video.objects.get(id=1).path"
   ]
  },
  {
   "cell_type": "code",
   "execution_count": 16,
   "metadata": {
    "ExecuteTime": {
     "end_time": "2019-08-17T19:10:00.842396Z",
     "start_time": "2019-08-17T19:10:00.784613Z"
    }
   },
   "outputs": [
    {
     "name": "stdout",
     "output_type": "stream",
     "text": [
      "65 1344\n",
      "515 608\n",
      "577 1360\n",
      "201 1344\n",
      "226 1136\n",
      "557 720\n",
      "144 640\n",
      "504 1424\n",
      "339 1088\n",
      "148 1184\n",
      "23 1344\n",
      "411 608\n",
      "34 1216\n",
      "123 21328\n",
      "359 1328\n",
      "104 1376\n",
      "172 1392\n",
      "370 7504\n",
      "178 1216\n",
      "179 1344\n",
      "308 736\n",
      "181 1104\n",
      "54 1376\n",
      "585 1360\n",
      "248 1008\n",
      "116 1376\n",
      "315 976\n",
      "574 1168\n"
     ]
    }
   ],
   "source": [
    "for video_id in frame_numbers_by_video:\n",
    "    print(video_id, len(frame_numbers_by_video[video_id]))"
   ]
  },
  {
   "cell_type": "code",
   "execution_count": 19,
   "metadata": {
    "ExecuteTime": {
     "end_time": "2019-08-17T19:59:58.219646Z",
     "start_time": "2019-08-17T19:35:06.848608Z"
    }
   },
   "outputs": [
    {
     "name": "stdout",
     "output_type": "stream",
     "text": [
      "65\n"
     ]
    },
    {
     "data": {
      "application/vnd.jupyter.widget-view+json": {
       "model_id": "c96122d633bc44b8b33b4f619c0bd22c",
       "version_major": 2,
       "version_minor": 0
      },
      "text/plain": [
       "HBox(children=(IntProgress(value=0, max=3), HTML(value='')))"
      ]
     },
     "metadata": {},
     "output_type": "display_data"
    },
    {
     "name": "stdout",
     "output_type": "stream",
     "text": [
      "515\n"
     ]
    },
    {
     "data": {
      "application/vnd.jupyter.widget-view+json": {
       "model_id": "b4803dc121a143ee947e2bb37aae71fc",
       "version_major": 2,
       "version_minor": 0
      },
      "text/plain": [
       "HBox(children=(IntProgress(value=0, max=2), HTML(value='')))"
      ]
     },
     "metadata": {},
     "output_type": "display_data"
    },
    {
     "name": "stdout",
     "output_type": "stream",
     "text": [
      "577\n"
     ]
    },
    {
     "data": {
      "application/vnd.jupyter.widget-view+json": {
       "model_id": "8c7b5c71d8234b78a8fe4258c5492622",
       "version_major": 2,
       "version_minor": 0
      },
      "text/plain": [
       "HBox(children=(IntProgress(value=0, max=3), HTML(value='')))"
      ]
     },
     "metadata": {},
     "output_type": "display_data"
    },
    {
     "name": "stdout",
     "output_type": "stream",
     "text": [
      "201\n"
     ]
    },
    {
     "data": {
      "application/vnd.jupyter.widget-view+json": {
       "model_id": "a3d40305c037407bbd8d7afb317bcaf3",
       "version_major": 2,
       "version_minor": 0
      },
      "text/plain": [
       "HBox(children=(IntProgress(value=0, max=3), HTML(value='')))"
      ]
     },
     "metadata": {},
     "output_type": "display_data"
    },
    {
     "name": "stdout",
     "output_type": "stream",
     "text": [
      "226\n"
     ]
    },
    {
     "data": {
      "application/vnd.jupyter.widget-view+json": {
       "model_id": "385fdb128e19443595bd6959259aa4cb",
       "version_major": 2,
       "version_minor": 0
      },
      "text/plain": [
       "HBox(children=(IntProgress(value=0, max=3), HTML(value='')))"
      ]
     },
     "metadata": {},
     "output_type": "display_data"
    },
    {
     "name": "stdout",
     "output_type": "stream",
     "text": [
      "557\n"
     ]
    },
    {
     "data": {
      "application/vnd.jupyter.widget-view+json": {
       "model_id": "5e84196d4ae444e398f9aec4744fd6d2",
       "version_major": 2,
       "version_minor": 0
      },
      "text/plain": [
       "HBox(children=(IntProgress(value=0, max=2), HTML(value='')))"
      ]
     },
     "metadata": {},
     "output_type": "display_data"
    },
    {
     "name": "stdout",
     "output_type": "stream",
     "text": [
      "144\n"
     ]
    },
    {
     "data": {
      "application/vnd.jupyter.widget-view+json": {
       "model_id": "7bf20733318244859dc961dff0f9c065",
       "version_major": 2,
       "version_minor": 0
      },
      "text/plain": [
       "HBox(children=(IntProgress(value=0, max=2), HTML(value='')))"
      ]
     },
     "metadata": {},
     "output_type": "display_data"
    },
    {
     "name": "stdout",
     "output_type": "stream",
     "text": [
      "504\n"
     ]
    },
    {
     "data": {
      "application/vnd.jupyter.widget-view+json": {
       "model_id": "c13c86580060496292e630224c88ee4b",
       "version_major": 2,
       "version_minor": 0
      },
      "text/plain": [
       "HBox(children=(IntProgress(value=0, max=3), HTML(value='')))"
      ]
     },
     "metadata": {},
     "output_type": "display_data"
    },
    {
     "name": "stdout",
     "output_type": "stream",
     "text": [
      "339\n"
     ]
    },
    {
     "data": {
      "application/vnd.jupyter.widget-view+json": {
       "model_id": "f6197a80613f44918e7b450348fa43f1",
       "version_major": 2,
       "version_minor": 0
      },
      "text/plain": [
       "HBox(children=(IntProgress(value=0, max=3), HTML(value='')))"
      ]
     },
     "metadata": {},
     "output_type": "display_data"
    },
    {
     "name": "stdout",
     "output_type": "stream",
     "text": [
      "148\n"
     ]
    },
    {
     "data": {
      "application/vnd.jupyter.widget-view+json": {
       "model_id": "506f33bc8d8d49be94c25d7f8e2180de",
       "version_major": 2,
       "version_minor": 0
      },
      "text/plain": [
       "HBox(children=(IntProgress(value=0, max=3), HTML(value='')))"
      ]
     },
     "metadata": {},
     "output_type": "display_data"
    },
    {
     "name": "stdout",
     "output_type": "stream",
     "text": [
      "23\n"
     ]
    },
    {
     "data": {
      "application/vnd.jupyter.widget-view+json": {
       "model_id": "7b566930bc8345958af836a2662a6506",
       "version_major": 2,
       "version_minor": 0
      },
      "text/plain": [
       "HBox(children=(IntProgress(value=0, max=3), HTML(value='')))"
      ]
     },
     "metadata": {},
     "output_type": "display_data"
    },
    {
     "name": "stdout",
     "output_type": "stream",
     "text": [
      "411\n"
     ]
    },
    {
     "data": {
      "application/vnd.jupyter.widget-view+json": {
       "model_id": "58c4fe8c72b047eda49b922dbc7b2283",
       "version_major": 2,
       "version_minor": 0
      },
      "text/plain": [
       "HBox(children=(IntProgress(value=0, max=2), HTML(value='')))"
      ]
     },
     "metadata": {},
     "output_type": "display_data"
    },
    {
     "name": "stdout",
     "output_type": "stream",
     "text": [
      "34\n"
     ]
    },
    {
     "data": {
      "application/vnd.jupyter.widget-view+json": {
       "model_id": "5df2dd4744a64fa4b93563060a557c92",
       "version_major": 2,
       "version_minor": 0
      },
      "text/plain": [
       "HBox(children=(IntProgress(value=0, max=3), HTML(value='')))"
      ]
     },
     "metadata": {},
     "output_type": "display_data"
    },
    {
     "name": "stdout",
     "output_type": "stream",
     "text": [
      "359\n"
     ]
    },
    {
     "data": {
      "application/vnd.jupyter.widget-view+json": {
       "model_id": "cc0d63604f834a92a3d759079834e579",
       "version_major": 2,
       "version_minor": 0
      },
      "text/plain": [
       "HBox(children=(IntProgress(value=0, max=3), HTML(value='')))"
      ]
     },
     "metadata": {},
     "output_type": "display_data"
    },
    {
     "name": "stdout",
     "output_type": "stream",
     "text": [
      "104\n"
     ]
    },
    {
     "data": {
      "application/vnd.jupyter.widget-view+json": {
       "model_id": "c4ee87cf80fd4a3aad9d972ed29ac0c6",
       "version_major": 2,
       "version_minor": 0
      },
      "text/plain": [
       "HBox(children=(IntProgress(value=0, max=3), HTML(value='')))"
      ]
     },
     "metadata": {},
     "output_type": "display_data"
    },
    {
     "name": "stdout",
     "output_type": "stream",
     "text": [
      "172\n"
     ]
    },
    {
     "data": {
      "application/vnd.jupyter.widget-view+json": {
       "model_id": "b0a1d2f4a74a4ad3903b42ee20234132",
       "version_major": 2,
       "version_minor": 0
      },
      "text/plain": [
       "HBox(children=(IntProgress(value=0, max=3), HTML(value='')))"
      ]
     },
     "metadata": {},
     "output_type": "display_data"
    },
    {
     "name": "stdout",
     "output_type": "stream",
     "text": [
      "370\n"
     ]
    },
    {
     "data": {
      "application/vnd.jupyter.widget-view+json": {
       "model_id": "2fb100f30a4048689c8c2c47d5b286cc",
       "version_major": 2,
       "version_minor": 0
      },
      "text/plain": [
       "HBox(children=(IntProgress(value=0, max=16), HTML(value='')))"
      ]
     },
     "metadata": {},
     "output_type": "display_data"
    },
    {
     "name": "stdout",
     "output_type": "stream",
     "text": [
      "178\n"
     ]
    },
    {
     "data": {
      "application/vnd.jupyter.widget-view+json": {
       "model_id": "6ad22bf1b7cc44a58e18485218548587",
       "version_major": 2,
       "version_minor": 0
      },
      "text/plain": [
       "HBox(children=(IntProgress(value=0, max=3), HTML(value='')))"
      ]
     },
     "metadata": {},
     "output_type": "display_data"
    },
    {
     "name": "stdout",
     "output_type": "stream",
     "text": [
      "179\n"
     ]
    },
    {
     "data": {
      "application/vnd.jupyter.widget-view+json": {
       "model_id": "e56f33d745994b39958bf3beb765fc19",
       "version_major": 2,
       "version_minor": 0
      },
      "text/plain": [
       "HBox(children=(IntProgress(value=0, max=3), HTML(value='')))"
      ]
     },
     "metadata": {},
     "output_type": "display_data"
    },
    {
     "name": "stdout",
     "output_type": "stream",
     "text": [
      "308\n"
     ]
    },
    {
     "data": {
      "application/vnd.jupyter.widget-view+json": {
       "model_id": "a729e208a73e4051a13f93c2dabd234c",
       "version_major": 2,
       "version_minor": 0
      },
      "text/plain": [
       "HBox(children=(IntProgress(value=0, max=2), HTML(value='')))"
      ]
     },
     "metadata": {},
     "output_type": "display_data"
    },
    {
     "name": "stdout",
     "output_type": "stream",
     "text": [
      "181\n"
     ]
    },
    {
     "data": {
      "application/vnd.jupyter.widget-view+json": {
       "model_id": "ce41ba7c152d450d95fadbffcc58a31c",
       "version_major": 2,
       "version_minor": 0
      },
      "text/plain": [
       "HBox(children=(IntProgress(value=0, max=3), HTML(value='')))"
      ]
     },
     "metadata": {},
     "output_type": "display_data"
    },
    {
     "name": "stdout",
     "output_type": "stream",
     "text": [
      "54\n"
     ]
    },
    {
     "data": {
      "application/vnd.jupyter.widget-view+json": {
       "model_id": "83aafb12bac94860bcd0b46251ae4277",
       "version_major": 2,
       "version_minor": 0
      },
      "text/plain": [
       "HBox(children=(IntProgress(value=0, max=3), HTML(value='')))"
      ]
     },
     "metadata": {},
     "output_type": "display_data"
    },
    {
     "name": "stdout",
     "output_type": "stream",
     "text": [
      "585\n"
     ]
    },
    {
     "data": {
      "application/vnd.jupyter.widget-view+json": {
       "model_id": "a253171e5dab479088c9ac8b3ef748f1",
       "version_major": 2,
       "version_minor": 0
      },
      "text/plain": [
       "HBox(children=(IntProgress(value=0, max=3), HTML(value='')))"
      ]
     },
     "metadata": {},
     "output_type": "display_data"
    },
    {
     "name": "stdout",
     "output_type": "stream",
     "text": [
      "248\n"
     ]
    },
    {
     "data": {
      "application/vnd.jupyter.widget-view+json": {
       "model_id": "f17e3ef6b8e94aa3ac907d14650713f6",
       "version_major": 2,
       "version_minor": 0
      },
      "text/plain": [
       "HBox(children=(IntProgress(value=0, max=3), HTML(value='')))"
      ]
     },
     "metadata": {},
     "output_type": "display_data"
    },
    {
     "name": "stdout",
     "output_type": "stream",
     "text": [
      "116\n"
     ]
    },
    {
     "data": {
      "application/vnd.jupyter.widget-view+json": {
       "model_id": "cc6276788ea0439498efa4d3a4b7a893",
       "version_major": 2,
       "version_minor": 0
      },
      "text/plain": [
       "HBox(children=(IntProgress(value=0, max=3), HTML(value='')))"
      ]
     },
     "metadata": {},
     "output_type": "display_data"
    },
    {
     "name": "stdout",
     "output_type": "stream",
     "text": [
      "315\n"
     ]
    },
    {
     "data": {
      "application/vnd.jupyter.widget-view+json": {
       "model_id": "f4b2dea8f91b48a9996a63a270abdfbd",
       "version_major": 2,
       "version_minor": 0
      },
      "text/plain": [
       "HBox(children=(IntProgress(value=0, max=2), HTML(value='')))"
      ]
     },
     "metadata": {},
     "output_type": "display_data"
    },
    {
     "name": "stdout",
     "output_type": "stream",
     "text": [
      "574\n"
     ]
    },
    {
     "data": {
      "application/vnd.jupyter.widget-view+json": {
       "model_id": "c395ee6393654bcb967263cf0452e19a",
       "version_major": 2,
       "version_minor": 0
      },
      "text/plain": [
       "HBox(children=(IntProgress(value=0, max=3), HTML(value='')))"
      ]
     },
     "metadata": {},
     "output_type": "display_data"
    }
   ],
   "source": [
    "for video_id in frame_numbers_by_video:\n",
    "    if video_id == 123:\n",
    "        continue\n",
    "    print(video_id)\n",
    "    video = Video.objects.get(id=video_id)\n",
    "    backend = storehouse.StorageBackend.make_from_config(\n",
    "        storehouse.StorageConfig.make_posix_config()\n",
    "    )\n",
    "    video_path = os.path.join(root_path, video.path)\n",
    "    dec = hwang.Decoder(storehouse.RandomReadFile(backend, video_path))\n",
    "    \n",
    "    frame_nums = frame_numbers_by_video[video_id]\n",
    "    os.makedirs('/app/data/shot_transitions/images/{}'.format(video_id), exist_ok=True)\n",
    "    \n",
    "    for i in tqdm(list(range(0, len(frame_nums), 500))):\n",
    "        cur_frame_nums = frame_nums[i:i+500]\n",
    "    \n",
    "        frames = dec.retrieve(cur_frame_nums)\n",
    "\n",
    "        for frame_num, frame in zip(cur_frame_nums, frames):\n",
    "            im = Image.fromarray(frame)\n",
    "            im.save('/app/data/shot_transitions/images/{}/{:06d}.jpg'.format(\n",
    "                video_id, frame_num))\n",
    "    \n",
    "        del frames"
   ]
  },
  {
   "cell_type": "markdown",
   "metadata": {},
   "source": [
    "# Export train/val/test splits"
   ]
  },
  {
   "cell_type": "code",
   "execution_count": 22,
   "metadata": {
    "ExecuteTime": {
     "end_time": "2019-08-17T20:02:16.081730Z",
     "start_time": "2019-08-17T20:02:15.976037Z"
    }
   },
   "outputs": [
    {
     "data": {
      "text/plain": [
       "[(23, 79920, 0),\n",
       " (23, 79921, 0),\n",
       " (23, 79922, 0),\n",
       " (23, 79923, 0),\n",
       " (23, 79924, 0),\n",
       " (23, 79925, 0),\n",
       " (23, 79926, 0),\n",
       " (23, 79927, 0),\n",
       " (23, 79928, 0),\n",
       " (23, 79929, 0),\n",
       " (23, 79930, 0),\n",
       " (23, 79931, 0),\n",
       " (23, 79932, 0),\n",
       " (23, 79933, 0),\n",
       " (23, 79934, 1),\n",
       " (23, 79935, 0),\n",
       " (23, 79936, 0),\n",
       " (23, 79937, 0),\n",
       " (23, 79938, 0),\n",
       " (23, 79939, 0),\n",
       " (23, 79940, 0),\n",
       " (23, 79941, 0),\n",
       " (23, 79942, 0),\n",
       " (23, 79943, 0),\n",
       " (23, 79944, 0),\n",
       " (23, 79945, 0),\n",
       " (23, 79946, 0),\n",
       " (23, 79947, 0),\n",
       " (23, 79948, 0),\n",
       " (23, 79949, 0),\n",
       " (23, 79950, 0),\n",
       " (23, 79951, 0),\n",
       " (23, 79952, 0),\n",
       " (23, 79953, 0),\n",
       " (23, 79954, 0),\n",
       " (23, 79955, 0),\n",
       " (23, 79956, 0),\n",
       " (23, 79957, 0),\n",
       " (23, 79958, 0),\n",
       " (23, 79959, 0),\n",
       " (23, 79960, 0),\n",
       " (23, 79961, 0),\n",
       " (23, 79962, 0),\n",
       " (23, 79963, 0),\n",
       " (23, 79964, 0),\n",
       " (23, 79965, 0),\n",
       " (23, 79966, 0),\n",
       " (23, 79967, 0),\n",
       " (23, 79968, 0),\n",
       " (23, 79969, 0),\n",
       " (23, 79970, 0),\n",
       " (23, 79971, 0),\n",
       " (23, 79972, 0),\n",
       " (23, 79973, 0),\n",
       " (23, 79974, 0),\n",
       " (23, 79975, 0),\n",
       " (23, 79976, 0),\n",
       " (23, 79977, 0),\n",
       " (23, 79978, 0),\n",
       " (23, 79979, 0),\n",
       " (23, 79980, 0),\n",
       " (23, 79981, 0),\n",
       " (23, 79982, 0),\n",
       " (23, 79983, 0),\n",
       " (23, 79984, 0),\n",
       " (23, 79985, 0),\n",
       " (23, 79986, 0),\n",
       " (23, 79987, 0),\n",
       " (23, 79988, 0),\n",
       " (23, 79989, 0),\n",
       " (23, 79990, 0),\n",
       " (23, 79991, 0),\n",
       " (23, 79992, 0),\n",
       " (23, 79993, 0),\n",
       " (23, 79994, 0),\n",
       " (23, 79995, 0),\n",
       " (23, 79996, 0),\n",
       " (23, 79997, 0),\n",
       " (23, 79998, 0),\n",
       " (23, 79999, 0),\n",
       " (23, 80000, 0),\n",
       " (23, 80001, 0),\n",
       " (23, 80002, 0),\n",
       " (23, 80003, 0),\n",
       " (23, 80004, 0),\n",
       " (23, 80005, 0),\n",
       " (23, 80006, 0),\n",
       " (23, 80007, 1),\n",
       " (23, 80008, 0),\n",
       " (23, 80009, 0),\n",
       " (23, 80010, 0),\n",
       " (23, 80011, 0),\n",
       " (23, 80012, 0),\n",
       " (23, 80013, 0),\n",
       " (23, 80014, 0),\n",
       " (23, 80015, 0),\n",
       " (23, 80016, 0),\n",
       " (23, 80017, 0),\n",
       " (23, 80018, 0),\n",
       " (23, 80019, 0),\n",
       " (23, 80020, 0),\n",
       " (23, 80021, 0),\n",
       " (23, 80022, 0),\n",
       " (23, 80023, 0),\n",
       " (23, 80024, 0),\n",
       " (23, 80025, 0),\n",
       " (23, 80026, 0),\n",
       " (23, 80027, 0),\n",
       " (23, 80028, 0),\n",
       " (23, 80029, 0),\n",
       " (23, 80030, 0),\n",
       " (23, 80031, 0),\n",
       " (23, 80032, 0),\n",
       " (23, 80033, 0),\n",
       " (23, 80034, 0),\n",
       " (23, 80035, 0),\n",
       " (23, 80036, 0),\n",
       " (23, 80037, 0),\n",
       " (23, 80038, 0),\n",
       " (23, 80039, 0),\n",
       " (23, 80040, 0),\n",
       " (23, 80041, 0),\n",
       " (23, 80042, 0),\n",
       " (23, 80043, 0),\n",
       " (23, 80044, 0),\n",
       " (23, 80045, 0),\n",
       " (23, 80046, 0),\n",
       " (23, 80047, 0),\n",
       " (23, 80048, 0),\n",
       " (23, 80049, 0),\n",
       " (23, 80050, 0),\n",
       " (23, 80051, 0),\n",
       " (23, 80052, 0),\n",
       " (23, 80053, 0),\n",
       " (23, 80054, 0),\n",
       " (23, 80055, 0),\n",
       " (23, 80056, 0),\n",
       " (23, 80057, 0),\n",
       " (23, 80058, 0),\n",
       " (23, 80059, 0),\n",
       " (23, 80060, 0),\n",
       " (23, 80061, 0),\n",
       " (23, 80062, 0),\n",
       " (23, 80063, 0),\n",
       " (23, 80064, 0),\n",
       " (23, 80065, 0),\n",
       " (23, 80066, 0),\n",
       " (23, 80067, 0),\n",
       " (23, 80068, 0),\n",
       " (23, 80069, 0),\n",
       " (23, 80070, 0),\n",
       " (23, 80071, 0),\n",
       " (23, 80072, 0),\n",
       " (23, 80073, 0),\n",
       " (23, 80074, 0),\n",
       " (23, 80075, 0),\n",
       " (23, 80076, 0),\n",
       " (23, 80077, 0),\n",
       " (23, 80078, 0),\n",
       " (23, 80079, 0),\n",
       " (23, 80080, 0),\n",
       " (23, 80081, 0),\n",
       " (23, 80082, 0),\n",
       " (23, 80083, 0),\n",
       " (23, 80084, 0),\n",
       " (23, 80085, 0),\n",
       " (23, 80086, 0),\n",
       " (23, 80087, 0),\n",
       " (23, 80088, 0),\n",
       " (23, 80089, 0),\n",
       " (23, 80090, 1),\n",
       " (23, 80091, 0),\n",
       " (23, 80092, 0),\n",
       " (23, 80093, 0),\n",
       " (23, 80094, 0),\n",
       " (23, 80095, 0),\n",
       " (23, 80096, 0),\n",
       " (23, 80097, 0),\n",
       " (23, 80098, 0),\n",
       " (23, 80099, 0),\n",
       " (23, 80100, 0),\n",
       " (23, 80101, 0),\n",
       " (23, 80102, 0),\n",
       " (23, 80103, 0),\n",
       " (23, 80104, 0),\n",
       " (23, 80105, 0),\n",
       " (23, 80106, 0),\n",
       " (23, 80107, 0),\n",
       " (23, 80108, 0),\n",
       " (23, 80109, 0),\n",
       " (23, 80110, 0),\n",
       " (23, 80111, 0),\n",
       " (23, 80112, 0),\n",
       " (23, 80113, 0),\n",
       " (23, 80114, 0),\n",
       " (23, 80115, 0),\n",
       " (23, 80116, 0),\n",
       " (23, 80117, 0),\n",
       " (23, 80118, 0),\n",
       " (23, 80119, 0),\n",
       " (23, 80120, 0),\n",
       " (23, 80121, 0),\n",
       " (23, 80122, 0),\n",
       " (23, 80123, 1),\n",
       " (23, 80124, 0),\n",
       " (23, 80125, 0),\n",
       " (23, 80126, 0),\n",
       " (23, 80127, 0),\n",
       " (23, 80128, 0),\n",
       " (23, 80129, 0),\n",
       " (23, 80130, 0),\n",
       " (23, 80131, 0),\n",
       " (23, 80132, 0),\n",
       " (23, 80133, 0),\n",
       " (23, 80134, 0),\n",
       " (23, 80135, 0),\n",
       " (23, 80136, 0),\n",
       " (23, 80137, 0),\n",
       " (23, 80138, 0),\n",
       " (23, 80139, 0),\n",
       " (23, 80140, 0),\n",
       " (23, 80141, 0),\n",
       " (23, 80142, 0),\n",
       " (23, 80143, 0),\n",
       " (23, 80144, 0),\n",
       " (23, 80145, 0),\n",
       " (23, 80146, 0),\n",
       " (23, 80147, 0),\n",
       " (23, 80148, 0),\n",
       " (23, 80149, 0),\n",
       " (23, 80150, 0),\n",
       " (23, 80151, 0),\n",
       " (23, 80152, 0),\n",
       " (23, 80153, 0),\n",
       " (23, 80154, 0),\n",
       " (23, 80155, 0),\n",
       " (23, 80156, 0),\n",
       " (23, 80157, 0),\n",
       " (23, 80158, 0),\n",
       " (23, 80159, 0),\n",
       " (23, 80160, 0),\n",
       " (23, 80161, 0),\n",
       " (23, 80162, 0),\n",
       " (23, 80163, 0),\n",
       " (23, 80164, 0),\n",
       " (23, 80165, 0),\n",
       " (23, 80166, 0),\n",
       " (23, 80167, 0),\n",
       " (23, 80168, 0),\n",
       " (23, 80169, 0),\n",
       " (23, 80170, 0),\n",
       " (23, 80171, 0),\n",
       " (23, 80172, 0),\n",
       " (23, 80173, 0),\n",
       " (23, 80174, 0),\n",
       " (23, 80175, 1),\n",
       " (23, 80176, 0),\n",
       " (23, 80177, 0),\n",
       " (23, 80178, 0),\n",
       " (23, 80179, 0),\n",
       " (23, 80180, 0),\n",
       " (23, 80181, 0),\n",
       " (23, 80182, 0),\n",
       " (23, 80183, 0),\n",
       " (23, 80184, 0),\n",
       " (23, 80185, 0),\n",
       " (23, 80186, 0),\n",
       " (23, 80187, 0),\n",
       " (23, 80188, 0),\n",
       " (23, 80189, 0),\n",
       " (23, 80190, 0),\n",
       " (23, 80191, 0),\n",
       " (23, 80192, 0),\n",
       " (23, 80193, 0),\n",
       " (23, 80194, 0),\n",
       " (23, 80195, 0),\n",
       " (23, 80196, 0),\n",
       " (23, 80197, 0),\n",
       " (23, 80198, 0),\n",
       " (23, 80199, 0),\n",
       " (23, 80200, 0),\n",
       " (23, 80201, 0),\n",
       " (23, 80202, 0),\n",
       " (23, 80203, 0),\n",
       " (23, 80204, 0),\n",
       " (23, 80205, 0),\n",
       " (23, 80206, 0),\n",
       " (23, 80207, 0),\n",
       " (23, 80208, 0),\n",
       " (23, 80209, 0),\n",
       " (23, 80210, 0),\n",
       " (23, 80211, 0),\n",
       " (23, 80212, 0),\n",
       " (23, 80213, 0),\n",
       " (23, 80214, 0),\n",
       " (23, 80215, 0),\n",
       " (23, 80216, 0),\n",
       " (23, 80217, 0),\n",
       " (23, 80218, 0),\n",
       " (23, 80219, 0),\n",
       " (23, 80220, 0),\n",
       " (23, 80221, 0),\n",
       " (23, 80222, 0),\n",
       " (23, 80223, 0),\n",
       " (23, 80224, 0),\n",
       " (23, 80225, 0),\n",
       " (23, 80226, 0),\n",
       " (23, 80227, 0),\n",
       " (23, 80228, 0),\n",
       " (23, 80229, 0),\n",
       " (23, 80230, 0),\n",
       " (23, 80231, 0),\n",
       " (23, 80232, 0),\n",
       " (23, 80233, 0),\n",
       " (23, 80234, 0),\n",
       " (23, 80235, 0),\n",
       " (23, 80236, 0),\n",
       " (23, 80237, 0),\n",
       " (23, 80238, 0),\n",
       " (23, 80239, 0),\n",
       " (23, 80240, 0),\n",
       " (23, 80241, 0),\n",
       " (23, 80242, 0),\n",
       " (23, 80243, 0),\n",
       " (23, 80244, 0),\n",
       " (23, 80245, 0),\n",
       " (23, 80246, 0),\n",
       " (23, 80247, 0),\n",
       " (23, 80248, 0),\n",
       " (23, 80249, 0),\n",
       " (23, 80250, 0),\n",
       " (23, 80251, 0),\n",
       " (23, 80252, 0),\n",
       " (23, 80253, 0),\n",
       " (23, 80254, 0),\n",
       " (23, 80255, 0),\n",
       " (23, 80256, 0),\n",
       " (23, 80257, 0),\n",
       " (23, 80258, 1),\n",
       " (23, 80259, 0),\n",
       " (23, 80260, 0),\n",
       " (23, 80261, 0),\n",
       " (23, 80262, 0),\n",
       " (23, 80263, 0),\n",
       " (23, 80264, 0),\n",
       " (23, 80265, 0),\n",
       " (23, 80266, 0),\n",
       " (23, 80267, 0),\n",
       " (23, 80268, 0),\n",
       " (23, 80269, 0),\n",
       " (23, 80270, 0),\n",
       " (23, 80271, 0),\n",
       " (23, 80272, 0),\n",
       " (23, 80273, 0),\n",
       " (23, 80274, 0),\n",
       " (23, 80275, 0),\n",
       " (23, 80276, 0),\n",
       " (23, 80277, 0),\n",
       " (23, 80278, 0),\n",
       " (23, 80279, 0),\n",
       " (23, 80280, 0),\n",
       " (23, 80281, 0),\n",
       " (23, 80282, 0),\n",
       " (23, 80283, 0),\n",
       " (23, 80284, 0),\n",
       " (23, 80285, 0),\n",
       " (23, 80286, 0),\n",
       " (23, 80287, 1),\n",
       " (23, 80288, 0),\n",
       " (23, 80289, 0),\n",
       " (23, 80290, 0),\n",
       " (23, 80291, 0),\n",
       " (23, 80292, 0),\n",
       " (23, 80293, 0),\n",
       " (23, 80294, 0),\n",
       " (23, 80295, 0),\n",
       " (23, 80296, 0),\n",
       " (23, 80297, 0),\n",
       " (23, 80298, 0),\n",
       " (23, 80299, 0),\n",
       " (23, 80300, 0),\n",
       " (23, 80301, 0),\n",
       " (23, 80302, 0),\n",
       " (23, 80303, 0),\n",
       " (23, 80304, 0),\n",
       " (23, 80305, 0),\n",
       " (23, 80306, 0),\n",
       " (23, 80307, 0),\n",
       " (23, 80308, 0),\n",
       " (23, 80309, 0),\n",
       " (23, 80310, 0),\n",
       " (23, 80311, 0),\n",
       " (23, 80312, 0),\n",
       " (23, 80313, 0),\n",
       " (23, 80314, 0),\n",
       " (23, 80315, 0),\n",
       " (23, 80316, 0),\n",
       " (23, 80317, 0),\n",
       " (23, 80318, 0),\n",
       " (23, 80319, 1),\n",
       " (23, 80320, 0),\n",
       " (23, 80321, 0),\n",
       " (23, 80322, 0),\n",
       " (23, 80323, 0),\n",
       " (23, 80324, 0),\n",
       " (23, 80325, 0),\n",
       " (23, 80326, 0),\n",
       " (23, 80327, 0),\n",
       " (23, 80328, 0),\n",
       " (23, 80329, 0),\n",
       " (23, 80330, 0),\n",
       " (23, 80331, 0),\n",
       " (23, 80332, 0),\n",
       " (23, 80333, 0),\n",
       " (23, 80334, 0),\n",
       " (23, 80335, 0),\n",
       " (23, 80336, 0),\n",
       " (23, 80337, 1),\n",
       " (23, 80338, 0),\n",
       " (23, 80339, 0),\n",
       " (23, 80340, 0),\n",
       " (23, 80341, 0),\n",
       " (23, 80342, 0),\n",
       " (23, 80343, 0),\n",
       " (23, 80344, 0),\n",
       " (23, 80345, 0),\n",
       " (23, 80346, 0),\n",
       " (23, 80347, 0),\n",
       " (23, 80348, 0),\n",
       " (23, 80349, 0),\n",
       " (23, 80350, 0),\n",
       " (23, 80351, 0),\n",
       " (23, 80352, 0),\n",
       " (23, 80353, 0),\n",
       " (23, 80354, 0),\n",
       " (23, 80355, 0),\n",
       " (23, 80356, 0),\n",
       " (23, 80357, 0),\n",
       " (23, 80358, 0),\n",
       " (23, 80359, 0),\n",
       " (23, 80360, 0),\n",
       " (23, 80361, 0),\n",
       " (23, 80362, 1),\n",
       " (23, 80363, 0),\n",
       " (23, 80364, 0),\n",
       " (23, 80365, 0),\n",
       " (23, 80366, 0),\n",
       " (23, 80367, 0),\n",
       " (23, 80368, 0),\n",
       " (23, 80369, 0),\n",
       " (23, 80370, 0),\n",
       " (23, 80371, 0),\n",
       " (23, 80372, 0),\n",
       " (23, 80373, 0),\n",
       " (23, 80374, 0),\n",
       " (23, 80375, 0),\n",
       " (23, 80376, 0),\n",
       " (23, 80377, 0),\n",
       " (23, 80378, 0),\n",
       " (23, 80379, 0),\n",
       " (23, 80380, 0),\n",
       " (23, 80381, 0),\n",
       " (23, 80382, 0),\n",
       " (23, 80383, 0),\n",
       " (23, 80384, 0),\n",
       " (23, 80385, 0),\n",
       " (23, 80386, 0),\n",
       " (23, 80387, 0),\n",
       " (23, 80388, 0),\n",
       " (23, 80389, 0),\n",
       " (23, 80390, 0),\n",
       " (23, 80391, 0),\n",
       " (23, 80392, 0),\n",
       " (23, 80393, 0),\n",
       " (23, 80394, 0),\n",
       " (23, 80395, 0),\n",
       " (23, 80396, 0),\n",
       " (23, 80397, 0),\n",
       " (23, 80398, 0),\n",
       " (23, 80399, 0),\n",
       " (23, 80400, 0),\n",
       " (23, 80401, 0),\n",
       " (23, 80402, 0),\n",
       " (23, 80403, 0),\n",
       " (23, 80404, 0),\n",
       " (23, 80405, 0),\n",
       " (23, 80406, 0),\n",
       " (23, 80407, 0),\n",
       " (23, 80408, 0),\n",
       " (23, 80409, 0),\n",
       " (23, 80410, 0),\n",
       " (23, 80411, 0),\n",
       " (23, 80412, 0),\n",
       " (23, 80413, 0),\n",
       " (23, 80414, 0),\n",
       " (23, 80415, 0),\n",
       " (23, 80416, 0),\n",
       " (23, 80417, 0),\n",
       " (23, 80418, 0),\n",
       " (23, 80419, 0),\n",
       " (23, 80420, 0),\n",
       " (23, 80421, 0),\n",
       " (23, 80422, 0),\n",
       " (23, 80423, 0),\n",
       " (23, 80424, 0),\n",
       " (23, 80425, 0),\n",
       " (23, 80426, 0),\n",
       " (23, 80427, 0),\n",
       " (23, 80428, 0),\n",
       " (23, 80429, 0),\n",
       " (23, 80430, 0),\n",
       " (23, 80431, 0),\n",
       " (23, 80432, 0),\n",
       " (23, 80433, 0),\n",
       " (23, 80434, 0),\n",
       " (23, 80435, 0),\n",
       " (23, 80436, 0),\n",
       " (23, 80437, 0),\n",
       " (23, 80438, 0),\n",
       " (23, 80439, 0),\n",
       " (23, 80440, 0),\n",
       " (23, 80441, 0),\n",
       " (23, 80442, 0),\n",
       " (23, 80443, 0),\n",
       " (23, 80444, 0),\n",
       " (23, 80445, 0),\n",
       " (23, 80446, 0),\n",
       " (23, 80447, 0),\n",
       " (23, 80448, 0),\n",
       " (23, 80449, 0),\n",
       " (23, 80450, 0),\n",
       " (23, 80451, 0),\n",
       " (23, 80452, 0),\n",
       " (23, 80453, 0),\n",
       " (23, 80454, 0),\n",
       " (23, 80455, 0),\n",
       " (23, 80456, 0),\n",
       " (23, 80457, 0),\n",
       " (23, 80458, 0),\n",
       " (23, 80459, 0),\n",
       " (23, 80460, 0),\n",
       " (23, 80461, 0),\n",
       " (23, 80462, 0),\n",
       " (23, 80463, 0),\n",
       " (23, 80464, 0),\n",
       " (23, 80465, 0),\n",
       " (23, 80466, 0),\n",
       " (23, 80467, 0),\n",
       " (23, 80468, 0),\n",
       " (23, 80469, 0),\n",
       " (23, 80470, 0),\n",
       " (23, 80471, 0),\n",
       " (23, 80472, 0),\n",
       " (23, 80473, 0),\n",
       " (23, 80474, 0),\n",
       " (23, 80475, 0),\n",
       " (23, 80476, 0),\n",
       " (23, 80477, 0),\n",
       " (23, 80478, 0),\n",
       " (23, 80479, 0),\n",
       " (23, 80480, 0),\n",
       " (23, 80481, 0),\n",
       " (23, 80482, 0),\n",
       " (23, 80483, 0),\n",
       " (23, 80484, 0),\n",
       " (23, 80485, 0),\n",
       " (23, 80486, 0),\n",
       " (23, 80487, 0),\n",
       " (23, 80488, 0),\n",
       " (23, 80489, 0),\n",
       " (23, 80490, 0),\n",
       " (23, 80491, 0),\n",
       " (23, 80492, 0),\n",
       " (23, 80493, 0),\n",
       " (23, 80494, 0),\n",
       " (23, 80495, 0),\n",
       " (23, 80496, 0),\n",
       " (23, 80497, 0),\n",
       " (23, 80498, 0),\n",
       " (23, 80499, 0),\n",
       " (23, 80500, 0),\n",
       " (23, 80501, 0),\n",
       " (23, 80502, 0),\n",
       " (23, 80503, 0),\n",
       " (23, 80504, 0),\n",
       " (23, 80505, 0),\n",
       " (23, 80506, 0),\n",
       " (23, 80507, 0),\n",
       " (23, 80508, 0),\n",
       " (23, 80509, 1),\n",
       " (23, 80510, 0),\n",
       " (23, 80511, 0),\n",
       " (23, 80512, 0),\n",
       " (23, 80513, 0),\n",
       " (23, 80514, 0),\n",
       " (23, 80515, 0),\n",
       " (23, 80516, 0),\n",
       " (23, 80517, 0),\n",
       " (23, 80518, 0),\n",
       " (23, 80519, 0),\n",
       " (23, 80520, 0),\n",
       " (23, 80521, 0),\n",
       " (23, 80522, 0),\n",
       " (23, 80523, 0),\n",
       " (23, 80524, 0),\n",
       " (23, 80525, 0),\n",
       " (23, 80526, 0),\n",
       " (23, 80527, 0),\n",
       " (23, 80528, 0),\n",
       " (23, 80529, 0),\n",
       " (23, 80530, 0),\n",
       " (23, 80531, 0),\n",
       " (23, 80532, 0),\n",
       " (23, 80533, 0),\n",
       " (23, 80534, 0),\n",
       " (23, 80535, 0),\n",
       " (23, 80536, 0),\n",
       " (23, 80537, 0),\n",
       " (23, 80538, 0),\n",
       " (23, 80539, 0),\n",
       " (23, 80540, 0),\n",
       " (23, 80541, 0),\n",
       " (23, 80542, 0),\n",
       " (23, 80543, 0),\n",
       " (23, 80544, 0),\n",
       " (23, 80545, 0),\n",
       " (23, 80546, 0),\n",
       " (23, 80547, 0),\n",
       " (23, 80548, 0),\n",
       " (23, 80549, 0),\n",
       " (23, 80550, 0),\n",
       " (23, 80551, 0),\n",
       " (23, 80552, 0),\n",
       " (23, 80553, 0),\n",
       " (23, 80554, 0),\n",
       " (23, 80555, 0),\n",
       " (23, 80556, 0),\n",
       " (23, 80557, 0),\n",
       " (23, 80558, 0),\n",
       " (23, 80559, 0),\n",
       " (23, 80560, 0),\n",
       " (23, 80561, 0),\n",
       " (23, 80562, 0),\n",
       " (23, 80563, 0),\n",
       " (23, 80564, 0),\n",
       " (23, 80565, 0),\n",
       " (23, 80566, 0),\n",
       " (23, 80567, 0),\n",
       " (23, 80568, 0),\n",
       " (23, 80569, 0),\n",
       " (23, 80570, 0),\n",
       " (23, 80571, 0),\n",
       " (23, 80572, 0),\n",
       " (23, 80573, 0),\n",
       " (23, 80574, 0),\n",
       " (23, 80575, 0),\n",
       " (23, 80576, 0),\n",
       " (23, 80577, 0),\n",
       " (23, 80578, 0),\n",
       " (23, 80579, 1),\n",
       " (23, 80580, 0),\n",
       " (23, 80581, 0),\n",
       " (23, 80582, 0),\n",
       " (23, 80583, 0),\n",
       " (23, 80584, 0),\n",
       " (23, 80585, 0),\n",
       " (23, 80586, 0),\n",
       " (23, 80587, 0),\n",
       " (23, 80588, 0),\n",
       " (23, 80589, 0),\n",
       " (23, 80590, 0),\n",
       " (23, 80591, 0),\n",
       " (34, 9312, 0),\n",
       " (34, 9313, 0),\n",
       " (34, 9314, 0),\n",
       " (34, 9315, 0),\n",
       " (34, 9316, 0),\n",
       " (34, 9317, 0),\n",
       " (34, 9318, 0),\n",
       " (34, 9319, 0),\n",
       " (34, 9320, 0),\n",
       " (34, 9321, 0),\n",
       " (34, 9322, 0),\n",
       " (34, 9323, 0),\n",
       " (34, 9324, 0),\n",
       " (34, 9325, 1),\n",
       " (34, 9326, 0),\n",
       " (34, 9327, 0),\n",
       " (34, 9328, 0),\n",
       " (34, 9329, 0),\n",
       " (34, 9330, 0),\n",
       " (34, 9331, 0),\n",
       " (34, 9332, 0),\n",
       " (34, 9333, 0),\n",
       " (34, 9334, 0),\n",
       " (34, 9335, 0),\n",
       " (34, 9336, 0),\n",
       " (34, 9337, 0),\n",
       " (34, 9338, 0),\n",
       " (34, 9339, 0),\n",
       " (34, 9340, 0),\n",
       " (34, 9341, 0),\n",
       " (34, 9342, 0),\n",
       " (34, 9343, 0),\n",
       " (34, 9344, 0),\n",
       " (34, 9345, 0),\n",
       " (34, 9346, 0),\n",
       " (34, 9347, 0),\n",
       " (34, 9348, 0),\n",
       " (34, 9349, 0),\n",
       " (34, 9350, 0),\n",
       " (34, 9351, 0),\n",
       " (34, 9352, 0),\n",
       " (34, 9353, 0),\n",
       " (34, 9354, 0),\n",
       " (34, 9355, 0),\n",
       " (34, 9356, 0),\n",
       " (34, 9357, 0),\n",
       " (34, 9358, 0),\n",
       " (34, 9359, 0),\n",
       " (34, 9360, 0),\n",
       " (34, 9361, 0),\n",
       " (34, 9362, 0),\n",
       " (34, 9363, 0),\n",
       " (34, 9364, 0),\n",
       " (34, 9365, 0),\n",
       " (34, 9366, 0),\n",
       " (34, 9367, 0),\n",
       " (34, 9368, 0),\n",
       " (34, 9369, 0),\n",
       " (34, 9370, 0),\n",
       " (34, 9371, 0),\n",
       " (34, 9372, 0),\n",
       " (34, 9373, 0),\n",
       " (34, 9374, 0),\n",
       " (34, 9375, 0),\n",
       " (34, 9376, 0),\n",
       " (34, 9377, 0),\n",
       " (34, 9378, 0),\n",
       " (34, 9379, 0),\n",
       " (34, 9380, 0),\n",
       " (34, 9381, 0),\n",
       " (34, 9382, 0),\n",
       " (34, 9383, 0),\n",
       " (34, 9384, 0),\n",
       " (34, 9385, 0),\n",
       " (34, 9386, 0),\n",
       " (34, 9387, 0),\n",
       " (34, 9388, 0),\n",
       " (34, 9389, 0),\n",
       " (34, 9390, 1),\n",
       " (34, 9391, 0),\n",
       " (34, 9392, 0),\n",
       " (34, 9393, 0),\n",
       " (34, 9394, 0),\n",
       " (34, 9395, 0),\n",
       " (34, 9396, 0),\n",
       " (34, 9397, 0),\n",
       " (34, 9398, 0),\n",
       " (34, 9399, 0),\n",
       " (34, 9400, 0),\n",
       " (34, 9401, 0),\n",
       " (34, 9402, 0),\n",
       " (34, 9403, 0),\n",
       " (34, 9404, 0),\n",
       " (34, 9405, 0),\n",
       " (34, 9406, 0),\n",
       " (34, 9407, 0),\n",
       " (34, 9408, 0),\n",
       " (34, 9409, 0),\n",
       " (34, 9410, 0),\n",
       " (34, 9411, 0),\n",
       " (34, 9412, 0),\n",
       " (34, 9413, 0),\n",
       " (34, 9414, 0),\n",
       " (34, 9415, 0),\n",
       " (34, 9416, 0),\n",
       " (34, 9417, 0),\n",
       " (34, 9418, 0),\n",
       " (34, 9419, 0),\n",
       " (34, 9420, 0),\n",
       " (34, 9421, 0),\n",
       " (34, 9422, 0),\n",
       " (34, 9423, 0),\n",
       " (34, 9424, 0),\n",
       " (34, 9425, 0),\n",
       " (34, 9426, 0),\n",
       " (34, 9427, 0),\n",
       " (34, 9428, 0),\n",
       " (34, 9429, 0),\n",
       " (34, 9430, 0),\n",
       " (34, 9431, 0),\n",
       " (34, 9432, 0),\n",
       " (34, 9433, 0),\n",
       " (34, 9434, 0),\n",
       " (34, 9435, 0),\n",
       " (34, 9436, 0),\n",
       " (34, 9437, 0),\n",
       " (34, 9438, 0),\n",
       " (34, 9439, 0),\n",
       " (34, 9440, 0),\n",
       " (34, 9441, 0),\n",
       " (34, 9442, 0),\n",
       " (34, 9443, 0),\n",
       " (34, 9444, 0),\n",
       " (34, 9445, 0),\n",
       " (34, 9446, 0),\n",
       " (34, 9447, 0),\n",
       " (34, 9448, 0),\n",
       " (34, 9449, 0),\n",
       " (34, 9450, 0),\n",
       " (34, 9451, 0),\n",
       " (34, 9452, 0),\n",
       " (34, 9453, 0),\n",
       " (34, 9454, 0),\n",
       " (34, 9455, 0),\n",
       " (34, 9456, 0),\n",
       " (34, 9457, 0),\n",
       " (34, 9458, 0),\n",
       " (34, 9459, 0),\n",
       " (34, 9460, 0),\n",
       " (34, 9461, 0),\n",
       " (34, 9462, 0),\n",
       " (34, 9463, 0),\n",
       " (34, 9464, 0),\n",
       " (34, 9465, 0),\n",
       " (34, 9466, 0),\n",
       " (34, 9467, 0),\n",
       " (34, 9468, 0),\n",
       " (34, 9469, 0),\n",
       " (34, 9470, 1),\n",
       " (34, 9471, 0),\n",
       " (34, 9472, 0),\n",
       " (34, 9473, 0),\n",
       " (34, 9474, 0),\n",
       " (34, 9475, 0),\n",
       " (34, 9476, 0),\n",
       " (34, 9477, 0),\n",
       " (34, 9478, 0),\n",
       " (34, 9479, 0),\n",
       " (34, 9480, 0),\n",
       " (34, 9481, 0),\n",
       " (34, 9482, 0),\n",
       " (34, 9483, 0),\n",
       " (34, 9484, 0),\n",
       " (34, 9485, 0),\n",
       " (34, 9486, 0),\n",
       " (34, 9487, 0),\n",
       " (34, 9488, 0),\n",
       " (34, 9489, 0),\n",
       " (34, 9490, 0),\n",
       " (34, 9491, 0),\n",
       " (34, 9492, 0),\n",
       " (34, 9493, 0),\n",
       " (34, 9494, 0),\n",
       " (34, 9495, 0),\n",
       " (34, 9496, 0),\n",
       " (34, 9497, 0),\n",
       " (34, 9498, 0),\n",
       " (34, 9499, 0),\n",
       " (34, 9500, 0),\n",
       " (34, 9501, 0),\n",
       " (34, 9502, 0),\n",
       " (34, 9503, 0),\n",
       " (34, 9504, 0),\n",
       " (34, 9505, 0),\n",
       " (34, 9506, 0),\n",
       " (34, 9507, 0),\n",
       " (34, 9508, 0),\n",
       " (34, 9509, 0),\n",
       " (34, 9510, 0),\n",
       " (34, 9511, 0),\n",
       " (34, 9512, 0),\n",
       " (34, 9513, 0),\n",
       " (34, 9514, 0),\n",
       " (34, 9515, 0),\n",
       " (34, 9516, 0),\n",
       " (34, 9517, 0),\n",
       " (34, 9518, 0),\n",
       " (34, 9519, 0),\n",
       " (34, 9520, 0),\n",
       " (34, 9521, 0),\n",
       " (34, 9522, 0),\n",
       " (34, 9523, 0),\n",
       " (34, 9524, 0),\n",
       " (34, 9525, 0),\n",
       " (34, 9526, 0),\n",
       " (34, 9527, 0),\n",
       " (34, 9528, 0),\n",
       " (34, 9529, 0),\n",
       " (34, 9530, 1),\n",
       " (34, 9531, 0),\n",
       " (34, 9532, 0),\n",
       " (34, 9533, 0),\n",
       " (34, 9534, 0),\n",
       " (34, 9535, 0),\n",
       " (34, 9536, 0),\n",
       " (34, 9537, 0),\n",
       " (34, 9538, 0),\n",
       " (34, 9539, 0),\n",
       " (34, 9540, 0),\n",
       " (34, 9541, 0),\n",
       " (34, 9542, 1),\n",
       " (34, 9543, 0),\n",
       " (34, 9544, 0),\n",
       " (34, 9545, 0),\n",
       " (34, 9546, 0),\n",
       " (34, 9547, 0),\n",
       " (34, 9548, 0),\n",
       " (34, 9549, 0),\n",
       " (34, 9550, 0),\n",
       " (34, 9551, 0),\n",
       " (34, 9552, 0),\n",
       " (34, 9553, 0),\n",
       " (34, 9554, 1),\n",
       " (34, 9555, 0),\n",
       " (34, 9556, 0),\n",
       " (34, 9557, 0),\n",
       " (34, 9558, 0),\n",
       " (34, 9559, 0),\n",
       " (34, 9560, 0),\n",
       " (34, 9561, 0),\n",
       " (34, 9562, 0),\n",
       " (34, 9563, 0),\n",
       " (34, 9564, 0),\n",
       " (34, 9565, 0),\n",
       " (34, 9566, 1),\n",
       " (34, 9567, 0),\n",
       " (34, 9568, 0),\n",
       " (34, 9569, 0),\n",
       " (34, 9570, 0),\n",
       " (34, 9571, 0),\n",
       " (34, 9572, 0),\n",
       " (34, 9573, 0),\n",
       " (34, 9574, 0),\n",
       " (34, 9575, 0),\n",
       " (34, 9576, 1),\n",
       " (34, 9577, 0),\n",
       " (34, 9578, 0),\n",
       " (34, 9579, 0),\n",
       " (34, 9580, 0),\n",
       " (34, 9581, 0),\n",
       " (34, 9582, 0),\n",
       " (34, 9583, 1),\n",
       " (34, 9584, 0),\n",
       " (34, 9585, 0),\n",
       " (34, 9586, 0),\n",
       " (34, 9587, 0),\n",
       " (34, 9588, 0),\n",
       " (34, 9589, 0),\n",
       " (34, 9590, 0),\n",
       " (34, 9591, 0),\n",
       " (34, 9592, 1),\n",
       " (34, 9593, 0),\n",
       " (34, 9594, 0),\n",
       " (34, 9595, 0),\n",
       " (34, 9596, 0),\n",
       " (34, 9597, 0),\n",
       " (34, 9598, 1),\n",
       " (34, 9599, 0),\n",
       " (34, 9600, 0),\n",
       " (34, 9601, 0),\n",
       " (34, 9602, 0),\n",
       " (34, 9603, 0),\n",
       " (34, 9604, 0),\n",
       " (34, 9605, 0),\n",
       " (34, 9606, 0),\n",
       " (34, 9607, 0),\n",
       " (34, 9608, 0),\n",
       " (34, 9609, 0),\n",
       " (34, 9610, 0),\n",
       " (34, 9611, 0),\n",
       " (34, 9612, 0),\n",
       " (34, 9613, 0),\n",
       " (34, 9614, 0),\n",
       " (34, 9615, 0),\n",
       " (34, 9616, 0),\n",
       " (34, 9617, 0),\n",
       " (34, 9618, 0),\n",
       " (34, 9619, 0),\n",
       " (34, 9620, 0),\n",
       " (34, 9621, 0),\n",
       " (34, 9622, 0),\n",
       " (34, 9623, 0),\n",
       " (34, 9624, 0),\n",
       " (34, 9625, 0),\n",
       " (34, 9626, 0),\n",
       " (34, 9627, 0),\n",
       " (34, 9628, 0),\n",
       " (34, 9629, 0),\n",
       " (34, 9630, 0),\n",
       " (34, 9631, 0),\n",
       " (34, 9632, 0),\n",
       " (34, 9633, 0),\n",
       " (34, 9634, 0),\n",
       " (34, 9635, 0),\n",
       " (34, 9636, 0),\n",
       " (34, 9637, 0),\n",
       " (34, 9638, 0),\n",
       " (34, 9639, 0),\n",
       " ...]"
      ]
     },
     "execution_count": 22,
     "metadata": {},
     "output_type": "execute_result"
    }
   ],
   "source": [
    "val_frames"
   ]
  },
  {
   "cell_type": "code",
   "execution_count": 24,
   "metadata": {
    "ExecuteTime": {
     "end_time": "2019-08-17T20:03:16.014917Z",
     "start_time": "2019-08-17T20:03:15.901842Z"
    }
   },
   "outputs": [],
   "source": [
    "os.makedirs('/app/data/shot_transitions/data', exist_ok=True)\n",
    "with open('/app/data/shot_transitions/data/val.txt', 'w') as f:\n",
    "    for video_id, frame, label in val_frames:\n",
    "        f.write('{} {} {}\\n'.format(video_id, frame, label))\n",
    "with open('/app/data/shot_transitions/data/test.txt', 'w') as f:\n",
    "    for video_id, frame, label in test_frames:\n",
    "        f.write('{} {} {}\\n'.format(video_id, frame, label))"
   ]
  }
 ],
 "metadata": {
  "kernelspec": {
   "display_name": "Django Shell-Plus",
   "language": "python",
   "name": "django_extensions"
  },
  "language_info": {
   "codemirror_mode": {
    "name": "ipython",
    "version": 3
   },
   "file_extension": ".py",
   "mimetype": "text/x-python",
   "name": "python",
   "nbconvert_exporter": "python",
   "pygments_lexer": "ipython3",
   "version": "3.5.2"
  },
  "toc": {
   "nav_menu": {},
   "number_sections": true,
   "sideBar": true,
   "skip_h1_title": false,
   "toc_cell": false,
   "toc_position": {},
   "toc_section_display": "block",
   "toc_window_display": false
  }
 },
 "nbformat": 4,
 "nbformat_minor": 2
}
