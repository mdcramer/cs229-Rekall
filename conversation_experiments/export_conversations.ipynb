{
 "cells": [
  {
   "cell_type": "markdown",
   "metadata": {},
   "source": [
    "# Export conversations\n",
    "Run this notebook from an esper movies environment."
   ]
  },
  {
   "cell_type": "code",
   "execution_count": 1,
   "metadata": {
    "ExecuteTime": {
     "end_time": "2019-08-16T23:37:50.103973Z",
     "start_time": "2019-08-16T23:37:50.072705Z"
    }
   },
   "outputs": [],
   "source": [
    "import pickle\n",
    "import numpy as np\n",
    "from rekall.video_interval_collection import VideoIntervalCollection\n",
    "from rekall.interval_list import IntervalList\n",
    "from rekall.temporal_predicates import equal, overlaps\n",
    "import matplotlib.pyplot as plt\n",
    "from query.models import LabeledInterval, Labeler\n",
    "import os"
   ]
  },
  {
   "cell_type": "markdown",
   "metadata": {},
   "source": [
    "# Load Conversation Query Results"
   ]
  },
  {
   "cell_type": "code",
   "execution_count": 2,
   "metadata": {
    "ExecuteTime": {
     "end_time": "2019-08-16T23:37:50.982267Z",
     "start_time": "2019-08-16T23:37:50.956858Z"
    }
   },
   "outputs": [],
   "source": [
    "videos = Video.objects.filter(ignore_film=False, year__gte=1935).exclude(\n",
    "    genres__name=\"animation\"\n",
    ").order_by('id')"
   ]
  },
  {
   "cell_type": "code",
   "execution_count": 3,
   "metadata": {
    "ExecuteTime": {
     "end_time": "2019-08-16T23:37:57.682549Z",
     "start_time": "2019-08-16T23:37:51.326469Z"
    }
   },
   "outputs": [],
   "source": [
    "conversations = VideoIntervalCollection({\n",
    "    video.id: pickle.load(open('/app/data/conversations/{}.pkl'.format(video.id), 'rb')).get_intervallist(video.id)\n",
    "    for video in videos\n",
    "})"
   ]
  },
  {
   "cell_type": "markdown",
   "metadata": {},
   "source": [
    "# Load Ground Truth Conversations"
   ]
  },
  {
   "cell_type": "code",
   "execution_count": 4,
   "metadata": {
    "ExecuteTime": {
     "end_time": "2019-08-16T23:37:58.737953Z",
     "start_time": "2019-08-16T23:37:58.700660Z"
    }
   },
   "outputs": [],
   "source": [
    "conversations_gt_qs = LabeledInterval.objects.filter(labeler__name__contains=\"conversations\")\n",
    "conversations_gt = VideoIntervalCollection.from_django_qs(conversations_gt_qs)"
   ]
  },
  {
   "cell_type": "code",
   "execution_count": 5,
   "metadata": {
    "ExecuteTime": {
     "end_time": "2019-08-16T23:37:59.266241Z",
     "start_time": "2019-08-16T23:37:59.065753Z"
    }
   },
   "outputs": [],
   "source": [
    "conversations_in_gt_bounds = conversations.map(\n",
    "    lambda intrvl: (intrvl.start, intrvl.end, 0)\n",
    ").filter_against(\n",
    "    conversations_gt,\n",
    "    lambda conv, gt: conv.end < gt.end\n",
    ").filter_against(\n",
    "    conversations.filter_against(\n",
    "        conversations_gt,\n",
    "        lambda conv, gt: conv.start > gt.start\n",
    "    ),\n",
    "    equal()\n",
    ")"
   ]
  },
  {
   "cell_type": "markdown",
   "metadata": {},
   "source": [
    "# Split into train, validation, test sets"
   ]
  },
  {
   "cell_type": "code",
   "execution_count": 6,
   "metadata": {
    "ExecuteTime": {
     "end_time": "2019-08-16T23:38:00.044904Z",
     "start_time": "2019-08-16T23:38:00.020845Z"
    }
   },
   "outputs": [],
   "source": [
    "video_ids = sorted(list(conversations_in_gt_bounds.get_allintervals().keys()))"
   ]
  },
  {
   "cell_type": "code",
   "execution_count": 7,
   "metadata": {
    "ExecuteTime": {
     "end_time": "2019-08-16T23:38:00.520325Z",
     "start_time": "2019-08-16T23:38:00.471703Z"
    }
   },
   "outputs": [
    {
     "name": "stdout",
     "output_type": "stream",
     "text": [
      "apollo 13 15\n",
      "fight club 61\n",
      "kill bill vol 2 98\n",
      "stir crazy 192\n",
      "the godfather part iii 216\n",
      "erin brockovich 352\n",
      "hang em high 372\n",
      "harry potter and the chamber of secrets 374\n",
      "man of la mancha 432\n",
      "ordinary people 459\n",
      "stage fright 517\n"
     ]
    }
   ],
   "source": [
    "for k in video_ids:\n",
    "    print(Video.objects.get(id=k).name, k)"
   ]
  },
  {
   "cell_type": "code",
   "execution_count": 8,
   "metadata": {
    "ExecuteTime": {
     "end_time": "2019-08-16T23:38:01.114967Z",
     "start_time": "2019-08-16T23:38:01.090597Z"
    }
   },
   "outputs": [],
   "source": [
    "val_set = [15, 61, 216, 374]"
   ]
  },
  {
   "cell_type": "code",
   "execution_count": 9,
   "metadata": {
    "ExecuteTime": {
     "end_time": "2019-08-16T23:38:01.721654Z",
     "start_time": "2019-08-16T23:38:01.696329Z"
    }
   },
   "outputs": [
    {
     "name": "stdout",
     "output_type": "stream",
     "text": [
      "17\n",
      "27\n",
      "16\n",
      "14\n"
     ]
    }
   ],
   "source": [
    "for v in val_set:\n",
    "    print(conversations_in_gt_bounds.get_intervallist(v).size())"
   ]
  },
  {
   "cell_type": "code",
   "execution_count": 10,
   "metadata": {
    "ExecuteTime": {
     "end_time": "2019-08-16T23:38:02.171219Z",
     "start_time": "2019-08-16T23:38:02.144234Z"
    }
   },
   "outputs": [
    {
     "name": "stdout",
     "output_type": "stream",
     "text": [
      "17\n",
      "27\n",
      "70\n",
      "73\n",
      "16\n",
      "37\n",
      "89\n",
      "14\n",
      "79\n",
      "60\n",
      "55\n"
     ]
    }
   ],
   "source": [
    "for v in video_ids:\n",
    "    print(conversations_in_gt_bounds.get_intervallist(v).size())"
   ]
  },
  {
   "cell_type": "code",
   "execution_count": 11,
   "metadata": {
    "ExecuteTime": {
     "end_time": "2019-08-16T23:38:03.289704Z",
     "start_time": "2019-08-16T23:38:03.265822Z"
    }
   },
   "outputs": [],
   "source": [
    "test_set = [372]"
   ]
  },
  {
   "cell_type": "code",
   "execution_count": 12,
   "metadata": {
    "ExecuteTime": {
     "end_time": "2019-08-16T23:38:03.621044Z",
     "start_time": "2019-08-16T23:38:03.597279Z"
    }
   },
   "outputs": [],
   "source": [
    "train_set = [98, 192, 352, 432, 459, 517]"
   ]
  },
  {
   "cell_type": "code",
   "execution_count": 13,
   "metadata": {
    "ExecuteTime": {
     "end_time": "2019-08-16T23:38:04.280515Z",
     "start_time": "2019-08-16T23:38:04.226759Z"
    }
   },
   "outputs": [],
   "source": [
    "# Returns precision, recall, precision_per_item, recall_per_item\n",
    "def compute_statistics(query_intrvllists, ground_truth_intrvllists):\n",
    "    total_query_time = 0\n",
    "    total_query_segments = 0\n",
    "    total_ground_truth_time = 0\n",
    "    total_ground_truth_segments = 0\n",
    "    \n",
    "    for video in query_intrvllists:\n",
    "        total_query_time += query_intrvllists[video].coalesce().get_total_time()\n",
    "        total_query_segments += query_intrvllists[video].size()\n",
    "    for video in ground_truth_intrvllists:\n",
    "        total_ground_truth_time += ground_truth_intrvllists[video].coalesce().get_total_time()\n",
    "        total_ground_truth_segments += ground_truth_intrvllists[video].size()\n",
    "        \n",
    "    total_overlap_time = 0\n",
    "    overlapping_query_segments = 0\n",
    "    overlapping_ground_truth_segments = 0\n",
    "    \n",
    "    for video in query_intrvllists:\n",
    "        if video in ground_truth_intrvllists:\n",
    "            query_list = query_intrvllists[video]\n",
    "            gt_list = ground_truth_intrvllists[video]\n",
    "            \n",
    "            total_overlap_time += query_list.overlaps(gt_list).coalesce().get_total_time()\n",
    "            overlapping_query_segments += query_list.filter_against(gt_list, predicate=overlaps()).size()\n",
    "            overlapping_ground_truth_segments += gt_list.filter_against(query_list, predicate=overlaps()).size()\n",
    "    \n",
    "    if total_query_time == 0:\n",
    "        precision = 1.0\n",
    "        precision_per_item = 1.0\n",
    "    else:\n",
    "        precision = total_overlap_time / total_query_time\n",
    "        precision_per_item = overlapping_query_segments / total_query_segments\n",
    "    \n",
    "    if total_ground_truth_time == 0:\n",
    "        recall = 1.0\n",
    "        recall_per_item = 1.0\n",
    "    else:\n",
    "        recall = total_overlap_time / total_ground_truth_time\n",
    "        recall_per_item = overlapping_ground_truth_segments / total_ground_truth_segments\n",
    "    \n",
    "    return precision, recall, precision_per_item, recall_per_item\n",
    "\n",
    "def print_statistics(query_intrvllists, ground_truth_intrvllists):\n",
    "    precision, recall, precision_per_item, recall_per_item = compute_statistics(\n",
    "        query_intrvllists, ground_truth_intrvllists)\n",
    "\n",
    "    print(\"Precision: \", precision)\n",
    "    print(\"Recall: \", recall)\n",
    "    print(\"F1: \", 2 * precision * recall / (precision + recall))\n",
    "    print(\"Precision Per Item: \", precision_per_item)\n",
    "    print(\"Recall Per Item: \", recall_per_item)\n",
    "    print(\"F1 Per Item: \", 2 * precision_per_item * recall_per_item / (\n",
    "        precision_per_item + recall_per_item\n",
    "    ))"
   ]
  },
  {
   "cell_type": "code",
   "execution_count": 14,
   "metadata": {
    "ExecuteTime": {
     "end_time": "2019-08-16T23:38:05.135060Z",
     "start_time": "2019-08-16T23:38:05.105343Z"
    }
   },
   "outputs": [
    {
     "name": "stdout",
     "output_type": "stream",
     "text": [
      "Precision:  0.7357072678509785\n",
      "Recall:  0.750382558060803\n",
      "F1:  0.7429724529541509\n",
      "Precision Per Item:  0.6486486486486487\n",
      "Recall Per Item:  0.8888888888888888\n",
      "F1 Per Item:  0.75\n"
     ]
    }
   ],
   "source": [
    "print_statistics(\n",
    "    {\n",
    "        v: conversations_in_gt_bounds.get_intervallist(v)\n",
    "        for v in val_set\n",
    "    },\n",
    "    {\n",
    "        v: conversations_gt.get_intervallist(v)\n",
    "        for v in val_set\n",
    "    })"
   ]
  },
  {
   "cell_type": "code",
   "execution_count": 15,
   "metadata": {
    "ExecuteTime": {
     "end_time": "2019-08-16T23:38:06.102341Z",
     "start_time": "2019-08-16T23:38:06.063992Z"
    }
   },
   "outputs": [
    {
     "name": "stdout",
     "output_type": "stream",
     "text": [
      "Precision:  0.6773267922432545\n",
      "Recall:  0.764000365425525\n",
      "F1:  0.7180575402788085\n",
      "Precision Per Item:  0.6966292134831461\n",
      "Recall Per Item:  0.76\n",
      "F1 Per Item:  0.7269361308238198\n"
     ]
    }
   ],
   "source": [
    "print_statistics(\n",
    "    {\n",
    "        v: conversations_in_gt_bounds.get_intervallist(v)\n",
    "        for v in test_set\n",
    "    },\n",
    "    {\n",
    "        v: conversations_gt.get_intervallist(v)\n",
    "        for v in test_set\n",
    "    })"
   ]
  },
  {
   "cell_type": "markdown",
   "metadata": {},
   "source": [
    "# Split into segments"
   ]
  },
  {
   "cell_type": "code",
   "execution_count": 16,
   "metadata": {
    "ExecuteTime": {
     "end_time": "2019-08-16T23:38:07.811156Z",
     "start_time": "2019-08-16T23:38:07.767445Z"
    }
   },
   "outputs": [],
   "source": [
    "def get_fps_map(vids):\n",
    "    vs = Video.objects.filter(id__in=vids)\n",
    "    return {v.id: v.fps for v in vs}\n",
    "\n",
    "def frame_second_conversion(c, mode='f2s'):\n",
    "    fps_map = get_fps_map(set(c.get_allintervals().keys()))\n",
    "    \n",
    "    def second_to_frame(fps):\n",
    "        def map_fn(intrvl):\n",
    "            i2 = intrvl.copy()\n",
    "            i2.start = int(intrvl.start * fps)\n",
    "            i2.end = int(intrvl.end * fps)\n",
    "            return i2\n",
    "        return map_fn\n",
    "    \n",
    "    def frame_to_second(fps):\n",
    "        def map_fn(intrvl):\n",
    "            i2 = intrvl.copy()\n",
    "            i2.start = int(intrvl.start / fps)\n",
    "            i2.end = int(intrvl.end / fps)\n",
    "            return i2\n",
    "        return map_fn\n",
    "    \n",
    "    if mode=='f2s':\n",
    "        fn = frame_to_second\n",
    "    if mode=='s2f':\n",
    "        fn = second_to_frame\n",
    "    output = {}\n",
    "    for vid, intervals in c.get_allintervals().items():\n",
    "        output[vid] = intervals.map(fn(fps_map[vid]))\n",
    "    return VideoIntervalCollection(output)\n",
    "\n",
    "def frame_to_second_collection(c):\n",
    "    return frame_second_conversion(c, 'f2s')\n",
    "\n",
    "def second_to_frame_collection(c):\n",
    "    return frame_second_conversion(c, 's2f')"
   ]
  },
  {
   "cell_type": "code",
   "execution_count": 17,
   "metadata": {
    "ExecuteTime": {
     "end_time": "2019-08-16T23:38:10.468758Z",
     "start_time": "2019-08-16T23:38:08.399081Z"
    }
   },
   "outputs": [],
   "source": [
    "interval = 1\n",
    "segs_dict = {}\n",
    "for video_id in video_ids:\n",
    "    video = Video.objects.get(id=video_id)\n",
    "    iset = IntervalList([\n",
    "        (i - interval / 2., i + interval / 2., 0)\n",
    "        for i in range(0, int(video.num_frames / video.fps), interval)\n",
    "    ])\n",
    "    segs_dict[video_id] = iset\n",
    "    \n",
    "segments = VideoIntervalCollection(segs_dict).filter_against(\n",
    "    frame_to_second_collection(conversations_gt),\n",
    "    lambda seg, gt: seg.end < gt.end\n",
    ")\n",
    "\n",
    "segments = segments.filter_against(\n",
    "    segments.filter_against(\n",
    "        frame_to_second_collection(conversations_gt),\n",
    "        lambda seg, gt: seg.start > gt.start\n",
    "    ),\n",
    "    equal()\n",
    ")"
   ]
  },
  {
   "cell_type": "markdown",
   "metadata": {},
   "source": [
    "# Export Images"
   ]
  },
  {
   "cell_type": "code",
   "execution_count": 18,
   "metadata": {
    "ExecuteTime": {
     "end_time": "2019-08-16T23:38:27.616022Z",
     "start_time": "2019-08-16T23:38:27.489347Z"
    }
   },
   "outputs": [],
   "source": [
    "segments_frames = second_to_frame_collection(segments)"
   ]
  },
  {
   "cell_type": "code",
   "execution_count": 19,
   "metadata": {
    "ExecuteTime": {
     "end_time": "2019-08-16T23:38:27.833525Z",
     "start_time": "2019-08-16T23:38:27.809658Z"
    }
   },
   "outputs": [],
   "source": [
    "from PIL import Image\n",
    "from tqdm import tqdm"
   ]
  },
  {
   "cell_type": "code",
   "execution_count": 20,
   "metadata": {
    "ExecuteTime": {
     "end_time": "2019-08-16T23:38:28.348837Z",
     "start_time": "2019-08-16T23:38:28.300248Z"
    }
   },
   "outputs": [],
   "source": [
    "import hwang, storehouse"
   ]
  },
  {
   "cell_type": "code",
   "execution_count": 22,
   "metadata": {
    "ExecuteTime": {
     "end_time": "2019-08-17T00:17:52.381444Z",
     "start_time": "2019-08-16T23:38:54.104099Z"
    }
   },
   "outputs": [
    {
     "name": "stderr",
     "output_type": "stream",
     "text": [
      "\n",
      "  0%|                                                                                                                                                                                                                  | 0/5 [00:00<?, ?it/s]\u001b[A\n",
      " 20%|████████████████████████████████████████▏                                                                                                                                                                | 1/5 [03:17<13:08, 197.07s/it]\u001b[A\n",
      " 40%|████████████████████████████████████████████████████████████████████████████████▍                                                                                                                        | 2/5 [06:35<09:52, 197.51s/it]\u001b[A\n",
      " 60%|████████████████████████████████████████████████████████████████████████████████████████████████████████████████████████▌                                                                                | 3/5 [10:06<06:42, 201.38s/it]\u001b[A\n",
      " 80%|████████████████████████████████████████████████████████████████████████████████████████████████████████████████████████████████████████████████████████████████▊                                        | 4/5 [12:42<03:07, 187.89s/it]\u001b[A\n",
      "100%|█████████████████████████████████████████████████████████████████████████████████████████████████████████████████████████████████████████████████████████████████████████████████████████████████████████| 5/5 [38:58<00:00, 604.26s/it]\u001b[A"
     ]
    }
   ],
   "source": [
    "for video_id in tqdm(val_set + test_set):\n",
    "    video = Video.objects.get(id=video_id)\n",
    "    backend = storehouse.StorageBackend.make_from_config(\n",
    "        storehouse.StorageConfig.make_gcs_config(os.environ.get('BUCKET')))\n",
    "    dec = hwang.Decoder(storehouse.RandomReadFile(backend, video.path))\n",
    "    \n",
    "    frame_nums = [\n",
    "        int((intrvl.start + intrvl.end) / 2)\n",
    "        for intrvl in segments_frames.get_intervallist(video_id).get_intervals()\n",
    "    ]\n",
    "    \n",
    "    frames = dec.retrieve(frame_nums)\n",
    "    \n",
    "    os.makedirs('/app/data/conversation_export/images/{}'.format(video_id), exist_ok=True)\n",
    "    \n",
    "    for i, frame in enumerate(frames):\n",
    "        im = Image.fromarray(frame)\n",
    "        im.save('/app/data/conversation_export/images/{}/{:04d}.jpg'.format(video_id, i))"
   ]
  },
  {
   "cell_type": "markdown",
   "metadata": {},
   "source": [
    "# Export Labels"
   ]
  },
  {
   "cell_type": "code",
   "execution_count": 23,
   "metadata": {
    "ExecuteTime": {
     "end_time": "2019-08-17T00:18:55.138402Z",
     "start_time": "2019-08-17T00:18:55.107879Z"
    }
   },
   "outputs": [],
   "source": [
    "def size(vic):\n",
    "    return {\n",
    "        vid: vic.get_intervallist(vid).size()\n",
    "        for vid in vic.get_allintervals()\n",
    "    }"
   ]
  },
  {
   "cell_type": "code",
   "execution_count": 24,
   "metadata": {
    "ExecuteTime": {
     "end_time": "2019-08-17T00:18:56.862490Z",
     "start_time": "2019-08-17T00:18:55.802309Z"
    }
   },
   "outputs": [],
   "source": [
    "segments_all_negative = segments.map(\n",
    "    lambda intrvl: (intrvl.start, intrvl.end, 0)\n",
    ")"
   ]
  },
  {
   "cell_type": "code",
   "execution_count": 25,
   "metadata": {
    "ExecuteTime": {
     "end_time": "2019-08-17T00:18:57.729375Z",
     "start_time": "2019-08-17T00:18:57.702758Z"
    }
   },
   "outputs": [
    {
     "data": {
      "text/plain": [
       "dict_keys([192, 432, 98, 372, 517, 352, 216, 374, 459, 61, 15])"
      ]
     },
     "execution_count": 25,
     "metadata": {},
     "output_type": "execute_result"
    }
   ],
   "source": [
    "conversations_gt.get_allintervals().keys()"
   ]
  },
  {
   "cell_type": "code",
   "execution_count": 26,
   "metadata": {
    "ExecuteTime": {
     "end_time": "2019-08-17T00:18:58.706869Z",
     "start_time": "2019-08-17T00:18:58.681482Z"
    }
   },
   "outputs": [
    {
     "data": {
      "text/plain": [
       "dict_keys([192, 352, 98, 432, 372, 517, 374, 216, 459, 61, 15])"
      ]
     },
     "execution_count": 26,
     "metadata": {},
     "output_type": "execute_result"
    }
   ],
   "source": [
    "segments.get_allintervals().keys()"
   ]
  },
  {
   "cell_type": "code",
   "execution_count": 27,
   "metadata": {
    "ExecuteTime": {
     "end_time": "2019-08-17T00:19:00.767716Z",
     "start_time": "2019-08-17T00:19:00.741957Z"
    }
   },
   "outputs": [
    {
     "data": {
      "text/plain": [
       "[<Interval start:2578 end:4100 payload:642>, <Interval start:4244 end:4826 payload:643>, <Interval start:5098 end:5828 payload:644>, <Interval start:7757 end:9546 payload:645>, <Interval start:9602 end:10300 payload:646>, <Interval start:12393 end:12943 payload:647>, <Interval start:13088 end:13884 payload:648>, <Interval start:14146 end:15212 payload:649>, <Interval start:15427 end:16116 payload:650>, <Interval start:18040 end:19198 payload:651>, <Interval start:20801 end:23368 payload:652>, <Interval start:24572 end:26185 payload:653>, <Interval start:26735 end:28753 payload:654>, <Interval start:29462 end:30873 payload:655>, <Interval start:31768 end:34618 payload:656>]"
      ]
     },
     "execution_count": 27,
     "metadata": {},
     "output_type": "execute_result"
    }
   ],
   "source": [
    "conversations_gt.get_intervallist(15)"
   ]
  },
  {
   "cell_type": "code",
   "execution_count": 28,
   "metadata": {
    "ExecuteTime": {
     "end_time": "2019-08-17T00:20:24.180799Z",
     "start_time": "2019-08-17T00:19:03.123360Z"
    }
   },
   "outputs": [
    {
     "name": "stdout",
     "output_type": "stream",
     "text": [
      "{192: 3483, 352: 1783, 98: 4698, 432: 4959, 372: 3227, 517: 4451, 374: 444, 216: 960, 459: 5335, 61: 855, 15: 850}\n",
      "{192: 4949, 352: 2677, 98: 5810, 432: 6214, 372: 5230, 517: 5894, 374: 683, 216: 1219, 459: 6866, 61: 1476, 15: 1332}\n"
     ]
    }
   ],
   "source": [
    "conversation_segments = segments.filter_against(\n",
    "    frame_to_second_collection(conversations_gt), predicate = overlaps()\n",
    ").map(\n",
    "    lambda intrvl: (intrvl.start, intrvl.end, 1)\n",
    ")\n",
    "\n",
    "conversation_labels = segments_all_negative.minus(\n",
    "    conversation_segments\n",
    ").set_union(conversation_segments)\n",
    "\n",
    "print(size(conversation_segments))\n",
    "print(size(conversation_labels))"
   ]
  },
  {
   "cell_type": "code",
   "execution_count": 29,
   "metadata": {
    "ExecuteTime": {
     "end_time": "2019-08-17T00:20:51.388441Z",
     "start_time": "2019-08-17T00:20:51.159117Z"
    }
   },
   "outputs": [],
   "source": [
    "os.makedirs('/app/data/conversation_export/data', exist_ok=True)\n",
    "with open('/app/data/conversation_export/data/train.txt', 'w') as f:\n",
    "    for video_id in train_set:\n",
    "        for i, intrvl in enumerate(conversation_labels.get_intervallist(\n",
    "            video_id).get_intervals()):\n",
    "            f.write('{} {} {}\\n'.format(video_id, i, intrvl.payload))\n",
    "with open('/app/data/conversation_export/data/val.txt', 'w') as f:\n",
    "    for video_id in val_set:\n",
    "        for i, intrvl in enumerate(conversation_labels.get_intervallist(\n",
    "            video_id).get_intervals()):\n",
    "            f.write('{} {} {}\\n'.format(video_id, i, intrvl.payload))\n",
    "with open('/app/data/conversation_export/data/test.txt', 'w') as f:\n",
    "    for video_id in test_set:\n",
    "        for i, intrvl in enumerate(conversation_labels.get_intervallist(\n",
    "            video_id).get_intervals()):\n",
    "            f.write('{} {} {}\\n'.format(video_id, i, intrvl.payload))"
   ]
  }
 ],
 "metadata": {
  "kernelspec": {
   "display_name": "Django Shell-Plus",
   "language": "python",
   "name": "django_extensions"
  },
  "language_info": {
   "codemirror_mode": {
    "name": "ipython",
    "version": 3
   },
   "file_extension": ".py",
   "mimetype": "text/x-python",
   "name": "python",
   "nbconvert_exporter": "python",
   "pygments_lexer": "ipython3",
   "version": "3.5.2"
  },
  "toc": {
   "nav_menu": {},
   "number_sections": true,
   "sideBar": true,
   "skip_h1_title": false,
   "toc_cell": false,
   "toc_position": {},
   "toc_section_display": "block",
   "toc_window_display": false
  }
 },
 "nbformat": 4,
 "nbformat_minor": 2
}
