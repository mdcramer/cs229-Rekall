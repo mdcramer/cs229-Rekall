{
 "cells": [
  {
   "cell_type": "markdown",
   "metadata": {},
   "source": [
    "# Export commercials\n",
    "\n",
    "Run this notebook from an esper-tv2 environment."
   ]
  },
  {
   "cell_type": "code",
   "execution_count": 81,
   "metadata": {
    "ExecuteTime": {
     "end_time": "2019-07-09T05:59:44.232617Z",
     "start_time": "2019-07-09T05:59:44.210524Z"
    }
   },
   "outputs": [],
   "source": [
    "from rekall import Interval, IntervalSet, IntervalSetMapping, Bounds3D\n",
    "import random\n",
    "import math\n",
    "import os"
   ]
  },
  {
   "cell_type": "code",
   "execution_count": 42,
   "metadata": {
    "ExecuteTime": {
     "end_time": "2019-07-09T05:30:45.849798Z",
     "start_time": "2019-07-09T05:30:45.786228Z"
    }
   },
   "outputs": [
    {
     "data": {
      "application/vnd.jupyter.widget-view+json": {
       "model_id": "a1e310f0e47c480d9d12b4c30ad63263",
       "version_major": 2,
       "version_minor": 0
      },
      "text/plain": [
       "VGridWidget(vgrid_spec={'settings': {'key_mode': 'Jupyter', 'show_timeline': True, 'spinner_dev_mode': False, …"
      ]
     },
     "metadata": {},
     "output_type": "display_data"
    }
   ],
   "source": [
    "from esperlib.widget import vgrid_widget\n",
    "from vgrid import VideoBlockFormat\n",
    "from app.models import Video\n",
    "\n",
    "video_meta = [Video.objects.filter(id=559).all()[0].for_vgrid()]\n",
    "vgrid_widget(\n",
    "    video_meta=video_meta,\n",
    "    vis_format=VideoBlockFormat(\n",
    "        imaps=[\n",
    "            ('test', IntervalSetMapping({\n",
    "                559: IntervalSet([Interval(Bounds3D(0, 10)), Interval(Bounds3D(20, 30))])\n",
    "            }))\n",
    "        ]\n",
    "    )\n",
    ")"
   ]
  },
  {
   "cell_type": "code",
   "execution_count": 5,
   "metadata": {
    "ExecuteTime": {
     "end_time": "2019-07-09T05:10:47.029310Z",
     "start_time": "2019-07-09T05:10:46.981496Z"
    }
   },
   "outputs": [],
   "source": [
    "def get_fps_map(vids):\n",
    "    vs = Video.objects.filter(id__in=vids)\n",
    "    return {v.id: v.fps for v in vs}\n",
    "\n",
    "def frame_second_conversion(c, mode='f2s'):\n",
    "    fps_map = get_fps_map(set(c.get_grouped_intervals().keys()))\n",
    "    \n",
    "    def second_to_frame(fps):\n",
    "        def map_fn(intrvl):\n",
    "            i2 = intrvl.copy()\n",
    "            curr_bounds = intrvl['bounds'].copy()\n",
    "            curr_bounds['t1'] = int(curr_bounds['t1']*fps)\n",
    "            curr_bounds['t2'] = int(curr_bounds['t2']*fps)\n",
    "            i2['bounds'] = curr_bounds\n",
    "            return i2\n",
    "        return map_fn\n",
    "    \n",
    "    def frame_to_second(fps):\n",
    "        def map_fn(intrvl):\n",
    "            i2 = intrvl.copy()\n",
    "            curr_bounds = intrvl['bounds'].copy()\n",
    "            curr_bounds['t1'] = int(curr_bounds['t1']/fps)\n",
    "            curr_bounds['t2'] = int(curr_bounds['t2']/fps)\n",
    "            i2['bounds'] = curr_bounds\n",
    "            return i2\n",
    "        return map_fn\n",
    "    \n",
    "    if mode=='f2s':\n",
    "        fn = frame_to_second\n",
    "    if mode=='s2f':\n",
    "        fn = second_to_frame\n",
    "    output = {}\n",
    "    for vid, intervals in c.get_grouped_intervals().items():\n",
    "        output[vid] = intervals.map(fn(fps_map[vid]))\n",
    "    return IntervalSetMapping(output)\n",
    "\n",
    "def frame_to_second_collection(c):\n",
    "    return frame_second_conversion(c, 'f2s')\n",
    "\n",
    "def second_to_frame_collection(c):\n",
    "    return frame_second_conversion(c, 's2f')"
   ]
  },
  {
   "cell_type": "code",
   "execution_count": 28,
   "metadata": {
    "ExecuteTime": {
     "end_time": "2019-07-09T05:22:11.544892Z",
     "start_time": "2019-07-09T05:22:11.434656Z"
    }
   },
   "outputs": [],
   "source": [
    "with open('commercial_gt.pkl', 'rb') as f:\n",
    "    commercial_gt = pickle.load(f)"
   ]
  },
  {
   "cell_type": "code",
   "execution_count": 32,
   "metadata": {
    "ExecuteTime": {
     "end_time": "2019-07-09T05:24:11.738853Z",
     "start_time": "2019-07-09T05:24:11.717417Z"
    }
   },
   "outputs": [],
   "source": [
    "video_ids = list(sorted(commercial_gt['all'].keys()))"
   ]
  },
  {
   "cell_type": "code",
   "execution_count": 31,
   "metadata": {
    "ExecuteTime": {
     "end_time": "2019-07-09T05:23:44.438276Z",
     "start_time": "2019-07-09T05:23:44.401917Z"
    }
   },
   "outputs": [],
   "source": [
    "commercials_ism = IntervalSetMapping({\n",
    "    vid: IntervalSet([\n",
    "        Interval(Bounds3D(tup[0], tup[1]))\n",
    "        for tup in commercial_gt['all'][vid]\n",
    "    ])\n",
    "    for vid in commercial_gt['all']\n",
    "})"
   ]
  },
  {
   "cell_type": "code",
   "execution_count": 33,
   "metadata": {
    "ExecuteTime": {
     "end_time": "2019-07-09T05:24:51.712693Z",
     "start_time": "2019-07-09T05:24:51.139007Z"
    },
    "scrolled": false
   },
   "outputs": [
    {
     "data": {
      "application/vnd.jupyter.widget-view+json": {
       "model_id": "996af4c924ef403cb3b70f5c78bcc9fc",
       "version_major": 2,
       "version_minor": 0
      },
      "text/plain": [
       "VGridWidget(vgrid_spec={'settings': {'key_mode': 'Jupyter', 'show_timeline': True, 'spinner_dev_mode': False, …"
      ]
     },
     "metadata": {},
     "output_type": "display_data"
    }
   ],
   "source": [
    "vgrid_widget(\n",
    "    video_meta=[\n",
    "        Video.objects.get(id=vid).for_vgrid()\n",
    "        for vid in video_ids\n",
    "    ],\n",
    "    vis_format=VideoBlockFormat(imaps = [\n",
    "        ('all commercials', commercials_ism)\n",
    "    ]))"
   ]
  },
  {
   "cell_type": "markdown",
   "metadata": {},
   "source": [
    "# Construct training, validation, test sets"
   ]
  },
  {
   "cell_type": "code",
   "execution_count": 46,
   "metadata": {
    "ExecuteTime": {
     "end_time": "2019-07-09T05:35:24.882618Z",
     "start_time": "2019-07-09T05:35:24.852710Z"
    }
   },
   "outputs": [
    {
     "name": "stdout",
     "output_type": "stream",
     "text": [
      "29\n",
      "100\n",
      "20\n",
      "61\n"
     ]
    }
   ],
   "source": [
    "new_keys = list(commercial_gt['new'])\n",
    "dan_keys = list(commercial_gt['Dan'])\n",
    "ten_year_keys = list(commercial_gt['10y'])\n",
    "old_keys = list(commercial_gt['old'])\n",
    "\n",
    "random.shuffle(new_keys)\n",
    "random.shuffle(dan_keys)\n",
    "random.shuffle(ten_year_keys)\n",
    "random.shuffle(old_keys)\n",
    "\n",
    "print(len(new_keys))\n",
    "print(len(dan_keys))\n",
    "print(len(ten_year_keys))\n",
    "print(len(old_keys))"
   ]
  },
  {
   "cell_type": "code",
   "execution_count": 47,
   "metadata": {
    "ExecuteTime": {
     "end_time": "2019-07-09T05:36:52.317971Z",
     "start_time": "2019-07-09T05:36:52.294650Z"
    }
   },
   "outputs": [],
   "source": [
    "train_set = new_keys[6:] + dan_keys[20:] + ten_year_keys[4:] + old_keys[12:]\n",
    "val_set = new_keys[:3] + dan_keys[:10] + ten_year_keys[:2] + old_keys[:6]\n",
    "test_set = new_keys[3:6] + dan_keys[10:20] + ten_year_keys[2:4] + old_keys[6:12]"
   ]
  },
  {
   "cell_type": "code",
   "execution_count": 49,
   "metadata": {
    "ExecuteTime": {
     "end_time": "2019-07-09T05:37:26.842111Z",
     "start_time": "2019-07-09T05:37:26.817760Z"
    }
   },
   "outputs": [
    {
     "name": "stdout",
     "output_type": "stream",
     "text": [
      "[293, 514, 529, 715, 755, 763, 1595, 2648, 3317, 3459, 3769, 3952, 4029, 4143, 4421, 4611, 5281, 6161, 6185, 6532, 7206, 7262, 8220, 8859, 9480, 9499, 9758, 10335, 10621, 11003, 11293, 11555, 11792, 11940, 12655, 13058, 13141, 13247, 13556, 13791, 13827, 13927, 14482, 14638, 15855, 15916, 15964, 16215, 16542, 16599, 16693, 16879, 16964, 17458, 17983, 19882, 19959, 20230, 20380, 20450, 20920, 21572, 23181, 23184, 24193, 24784, 25463, 26060, 26231, 26386, 26824, 26836, 27175, 27188, 27410, 27927, 27963, 28613, 29001, 31378, 31994, 32472, 33004, 33387, 33541, 33977, 34050, 34359, 34642, 36211, 37107, 37113, 37170, 37927, 38275, 38420, 40856, 41235, 41480, 41725, 41836, 42027, 42362, 42756, 44998, 45472, 45573, 45645, 45655, 45698, 45744, 46041, 46058, 46753, 48140, 49225, 49931, 50883, 51145, 51175, 51469, 51482, 51606, 52075, 52749, 53355, 53684, 53932, 54238, 55016, 56051, 56764, 57310, 57384, 57592, 57708, 57798, 57804, 57962, 58389, 59122, 59398, 60186, 60581, 61359, 61930, 62400, 66092, 66666, 79265, 80121, 93033, 94663, 112580, 114248, 115653, 123531, 124234, 128012, 133584, 134007, 135812, 136446, 148080, 158981, 158982, 192899, 205173]\n",
      "[559, 1791, 3730, 3754, 10323, 11579, 17386, 20689, 24847, 24992, 26175, 33800, 40203, 40267, 43637, 50561, 54377, 57990, 59028, 63965, 67300]\n",
      "[385, 8697, 9215, 9901, 12837, 13993, 14925, 18700, 23541, 31902, 32996, 36755, 50164, 52945, 55711, 57748, 59789, 60433, 136732, 149097, 169420]\n"
     ]
    }
   ],
   "source": [
    "print(sorted(train_set))\n",
    "print(sorted(val_set))\n",
    "print(sorted(test_set))"
   ]
  },
  {
   "cell_type": "markdown",
   "metadata": {},
   "source": [
    "# Export Images"
   ]
  },
  {
   "cell_type": "code",
   "execution_count": 50,
   "metadata": {
    "ExecuteTime": {
     "end_time": "2019-07-09T05:38:53.910523Z",
     "start_time": "2019-07-09T05:38:53.845029Z"
    }
   },
   "outputs": [],
   "source": [
    "train_set = [293, 514, 529, 715, 755, 763, 1595, 2648, 3317, 3459, 3769,\n",
    "             3952, 4029, 4143, 4421, 4611, 5281, 6161, 6185, 6532, 7206, \n",
    "             7262, 8220, 8859, 9480, 9499, 9758, 10335, 10621, 11003, 11293, \n",
    "             11555, 11792, 11940, 12655, 13058, 13141, 13247, 13556, 13791, \n",
    "             13827, 13927, 14482, 14638, 15855, 15916, 15964, 16215, 16542, \n",
    "             16599, 16693, 16879, 16964, 17458, 17983, 19882, 19959, 20230, \n",
    "             20380, 20450, 20920, 21572, 23181, 23184, 24193, 24784, 25463, \n",
    "             26060, 26231, 26386, 26824, 26836, 27175, 27188, 27410, 27927, \n",
    "             27963, 28613, 29001, 31378, 31994, 32472, 33004, 33387, 33541, \n",
    "             33977, 34050, 34359, 34642, 36211, 37107, 37113, 37170, 37927, \n",
    "             38275, 38420, 40856, 41235, 41480, 41725, 41836, 42027, 42362, \n",
    "             42756, 44998, 45472, 45573, 45645, 45655, 45698, 45744, 46041, \n",
    "             46058, 46753, 48140, 49225, 49931, 50883, 51145, 51175, 51469, \n",
    "             51482, 51606, 52075, 52749, 53355, 53684, 53932, 54238, 55016, \n",
    "             56051, 56764, 57310, 57384, 57592, 57708, 57798, 57804, 57962, \n",
    "             58389, 59122, 59398, 60186, 60581, 61359, 61930, 62400, 66092, \n",
    "             66666, 79265, 80121, 93033, 94663, 112580, 114248, 115653, \n",
    "             123531, 124234, 128012, 133584, 134007, 135812, 136446, 148080, \n",
    "             158981, 158982, 192899, 205173]\n",
    "val_set = [559, 1791, 3730, 3754, 10323, 11579, 17386, 20689, 24847, 24992, \n",
    "           26175, 33800, 40203, 40267, 43637, 50561, 54377, 57990, 59028, \n",
    "           63965, 67300]\n",
    "test_set = [385, 8697, 9215, 9901, 12837, 13993, 14925, 18700, 23541, 31902,\n",
    "            32996, 36755, 50164, 52945, 55711, 57748, 59789, 60433, 136732,\n",
    "            149097, 169420]"
   ]
  },
  {
   "cell_type": "code",
   "execution_count": 51,
   "metadata": {
    "ExecuteTime": {
     "end_time": "2019-07-09T05:39:11.587172Z",
     "start_time": "2019-07-09T05:39:11.482445Z"
    }
   },
   "outputs": [],
   "source": [
    "import hwang, storehouse"
   ]
  },
  {
   "cell_type": "code",
   "execution_count": 70,
   "metadata": {
    "ExecuteTime": {
     "end_time": "2019-07-09T05:49:08.691936Z",
     "start_time": "2019-07-09T05:49:07.527385Z"
    }
   },
   "outputs": [],
   "source": [
    "interval = 10\n",
    "segs_dict = {}\n",
    "for video_id in video_ids:\n",
    "    video = Video.objects.get(id=video_id)\n",
    "    iset = IntervalSet([\n",
    "        Interval(Bounds3D(i - interval / 2, i + interval / 2))\n",
    "        for i in range(0, int(video.num_frames / video.fps), interval)\n",
    "    ])\n",
    "    segs_dict[video_id] = iset\n",
    "    \n",
    "segments = IntervalSetMapping(segs_dict)"
   ]
  },
  {
   "cell_type": "code",
   "execution_count": 72,
   "metadata": {
    "ExecuteTime": {
     "end_time": "2019-07-09T05:49:21.051431Z",
     "start_time": "2019-07-09T05:49:19.753790Z"
    }
   },
   "outputs": [],
   "source": [
    "segments_frames = second_to_frame_collection(segments)"
   ]
  },
  {
   "cell_type": "code",
   "execution_count": 74,
   "metadata": {
    "ExecuteTime": {
     "end_time": "2019-07-09T05:49:26.926417Z",
     "start_time": "2019-07-09T05:49:26.904527Z"
    }
   },
   "outputs": [],
   "source": [
    "from PIL import Image\n",
    "from tqdm import tqdm"
   ]
  },
  {
   "cell_type": "code",
   "execution_count": 83,
   "metadata": {
    "ExecuteTime": {
     "end_time": "2019-07-09T11:57:33.071313Z",
     "start_time": "2019-07-09T05:59:57.430355Z"
    }
   },
   "outputs": [
    {
     "name": "stderr",
     "output_type": "stream",
     "text": [
      "100%|███████████████████████████████████████████████████████████████████████████████████████████████████████████████████████████████████████████████████████████████████████████████████████████████████| 210/210 [5:57:35<00:00, 121.51s/it]\n"
     ]
    }
   ],
   "source": [
    "for video_id in tqdm(video_ids):\n",
    "    video = Video.objects.get(id=video_id)\n",
    "    backend = storehouse.StorageBackend.make_from_config(\n",
    "        storehouse.StorageConfig.make_gcs_config(os.environ.get('BUCKET')))\n",
    "    dec = hwang.Decoder(storehouse.RandomReadFile(backend, video.path))\n",
    "    \n",
    "    frame_nums = [\n",
    "        int((intrvl['t1'] + intrvl['t2']) / 2)\n",
    "        for intrvl in segments_frames.get_grouped_intervals()[video_id].get_intervals()\n",
    "    ]\n",
    "    \n",
    "    frames = dec.retrieve(frame_nums)\n",
    "    \n",
    "    os.makedirs('/app/data/commercials/images/{}'.format(video_id), exist_ok=True)\n",
    "    \n",
    "    for i, frame in enumerate(frames):\n",
    "        im = Image.fromarray(frame)\n",
    "        im.save('/app/data/commercials/images/{}/{:04d}.jpg'.format(video_id, i))"
   ]
  },
  {
   "cell_type": "markdown",
   "metadata": {},
   "source": [
    "# Export Labels"
   ]
  },
  {
   "cell_type": "code",
   "execution_count": 75,
   "metadata": {
    "ExecuteTime": {
     "end_time": "2019-07-09T05:50:30.516049Z",
     "start_time": "2019-07-09T05:50:29.856327Z"
    }
   },
   "outputs": [],
   "source": [
    "segments_all_negative = segments.map(\n",
    "    lambda intrvl: Interval(intrvl['bounds'], 0)\n",
    ")"
   ]
  },
  {
   "cell_type": "code",
   "execution_count": 78,
   "metadata": {
    "ExecuteTime": {
     "end_time": "2019-07-09T05:58:21.762010Z",
     "start_time": "2019-07-09T05:55:06.821379Z"
    }
   },
   "outputs": [
    {
     "name": "stdout",
     "output_type": "stream",
     "text": [
      "{514: 120, 4611: 44, 45573: 26, 59398: 106, 41480: 105, 128012: 120, 52749: 190, 11792: 112, 6161: 105, 13827: 123, 38420: 126, 58389: 44, 8220: 124, 11293: 41, 9758: 94, 33541: 107, 158982: 236, 27175: 102, 57384: 119, 6185: 133, 42027: 105, 15916: 108, 4143: 76, 33800: 109, 17458: 117, 27188: 127, 34359: 127, 1595: 106, 26175: 46, 40203: 360, 21572: 118, 114248: 59, 49225: 117, 14925: 82, 10323: 100, 45655: 129, 2648: 256, 7262: 119, 10335: 332, 38275: 131, 529: 103, 60433: 106, 149097: 117, 57962: 119, 53355: 109, 26386: 125, 148080: 105, 43637: 105, 26231: 103, 66666: 105, 24193: 126, 45698: 102, 33387: 118, 135812: 120, 57990: 105, 41836: 121, 123531: 115, 23181: 110, 23184: 127, 31378: 126, 59028: 119, 755: 36, 8859: 45, 51482: 67, 16542: 77, 28613: 131, 46753: 109, 11940: 52, 60581: 119, 136732: 114, 3754: 93, 94663: 111, 53932: 51, 9901: 106, 45744: 119, 3769: 53, 50883: 112, 57798: 101, 26824: 130, 169420: 80, 25463: 130, 24784: 45, 52945: 106, 26836: 55, 16599: 107, 32472: 120, 12837: 132, 67300: 115, 20689: 118, 55016: 105, 37927: 38, 33004: 88, 10621: 102, 59122: 125, 37107: 106, 13556: 102, 3317: 49, 54377: 103, 57592: 119, 80121: 128, 31994: 133, 11003: 129, 41725: 119, 136446: 106, 1791: 119, 34050: 105, 42756: 124, 158981: 197, 20230: 104, 385: 102, 9480: 118, 66092: 118, 49931: 118, 18700: 120, 51469: 43, 24847: 119, 27410: 129, 192899: 103, 27927: 110, 60186: 108, 9499: 331, 26060: 108, 11555: 119, 293: 73, 14638: 6, 37170: 134, 16693: 119, 27963: 107, 4421: 103, 29001: 129, 124234: 122, 40267: 104, 48140: 113, 34642: 106, 13141: 104, 16215: 35, 32996: 129, 57310: 114, 11579: 119, 19959: 113, 93033: 110, 52075: 103, 57708: 105, 14482: 110, 12655: 119, 3952: 101, 36211: 105, 205173: 104, 134007: 118, 42362: 129, 17983: 130, 46058: 105, 50561: 128, 3459: 105, 6532: 55, 46041: 105, 59789: 127, 17386: 114, 36755: 121, 57748: 110, 51606: 105, 40856: 131, 16964: 26, 16879: 127, 20380: 99, 55711: 104, 24992: 107, 79265: 53, 19882: 77, 61359: 121, 56051: 19, 53684: 119, 31902: 107, 20920: 122, 56764: 105, 4029: 116, 13247: 106, 62400: 103, 45472: 107, 112580: 106, 115653: 119, 44998: 19, 5281: 126, 51145: 201, 13927: 103, 57804: 105, 45645: 130, 133584: 119, 37113: 216, 33977: 134, 13058: 127, 63965: 94, 54238: 105, 13791: 113, 20450: 120, 763: 109, 715: 105, 51175: 104, 61930: 98, 15855: 121, 3730: 475, 50164: 111, 23541: 115, 13993: 131, 8697: 124, 559: 6, 9215: 127}\n",
      "{514: 367, 4611: 366, 45573: 366, 59398: 366, 33800: 366, 48140: 366, 52749: 726, 11792: 366, 60433: 366, 13827: 366, 38420: 366, 58389: 366, 8220: 366, 11293: 187, 9758: 366, 33541: 366, 158982: 720, 7206: 366, 37927: 366, 57384: 366, 6185: 366, 42027: 366, 15916: 367, 559: 366, 41480: 367, 17458: 366, 27188: 366, 34359: 366, 1595: 367, 17983: 366, 40203: 1086, 16964: 366, 114248: 180, 128012: 366, 45645: 366, 10323: 367, 45655: 366, 2648: 726, 15964: 366, 7262: 366, 10335: 1086, 38275: 367, 529: 366, 149097: 360, 57962: 366, 53355: 366, 26386: 366, 148080: 360, 41235: 186, 43637: 366, 54377: 366, 66666: 360, 24193: 366, 45698: 366, 33387: 366, 135812: 366, 57990: 366, 41836: 366, 123531: 360, 23181: 366, 23184: 367, 31378: 366, 59028: 366, 8859: 366, 51482: 366, 16542: 366, 28613: 366, 46753: 366, 9499: 1086, 11940: 367, 60581: 366, 136732: 366, 3754: 367, 94663: 360, 53932: 367, 9901: 366, 45744: 366, 3769: 366, 50883: 366, 6161: 366, 26824: 366, 169420: 360, 25463: 367, 24784: 366, 52945: 366, 26836: 186, 16599: 366, 32472: 366, 12837: 366, 67300: 360, 20689: 367, 55016: 366, 56051: 366, 27175: 366, 33004: 366, 10621: 366, 59122: 366, 37107: 366, 13556: 367, 3317: 367, 57592: 547, 37113: 726, 31994: 366, 763: 366, 41725: 366, 136446: 366, 1791: 366, 34050: 366, 42756: 366, 158981: 720, 20230: 367, 385: 366, 9480: 366, 66092: 360, 49931: 366, 18700: 366, 51469: 366, 24847: 367, 27410: 366, 192899: 360, 27927: 366, 60186: 367, 4143: 366, 26060: 367, 11555: 366, 293: 366, 26231: 367, 14638: 366, 37170: 366, 16693: 366, 27963: 366, 4421: 366, 29001: 366, 124234: 360, 40267: 366, 34642: 366, 13141: 366, 16215: 186, 32996: 367, 57310: 366, 11579: 366, 19959: 366, 93033: 360, 52075: 366, 57708: 366, 14482: 366, 12655: 366, 3952: 366, 36211: 366, 205173: 360, 134007: 366, 42362: 366, 26175: 366, 46058: 366, 50561: 366, 3459: 366, 6532: 366, 46041: 366, 59789: 366, 17386: 366, 36755: 366, 57748: 366, 51606: 366, 40856: 366, 21572: 366, 16879: 366, 20380: 366, 55711: 366, 24992: 367, 79265: 198, 19882: 366, 61359: 367, 755: 366, 53684: 367, 31902: 366, 49225: 367, 20920: 366, 56764: 366, 4029: 366, 13247: 366, 62400: 360, 45472: 366, 112580: 360, 115653: 360, 44998: 366, 5281: 366, 51145: 726, 13927: 366, 57804: 366, 14925: 186, 133584: 366, 57798: 366, 80121: 366, 33977: 366, 13058: 366, 63965: 360, 54238: 366, 13791: 366, 20450: 366, 11003: 366, 715: 366, 51175: 366, 61930: 366, 15855: 366, 3730: 1446, 50164: 366, 23541: 366, 13993: 367, 8697: 366, 9215: 366}\n"
     ]
    }
   ],
   "source": [
    "commercial_segments = segments.filter_against(\n",
    "    commercials_ism, predicate = overlaps(), window = 0\n",
    ").map(\n",
    "    lambda intrvl: Interval(intrvl['bounds'], 1)\n",
    ")\n",
    "\n",
    "commercial_labels = segments_all_negative.minus(\n",
    "    commercial_segments, window = 0\n",
    ").union(commercial_segments)\n",
    "\n",
    "print(commercial_segments.size())\n",
    "print(commercial_labels.size())"
   ]
  },
  {
   "cell_type": "code",
   "execution_count": 82,
   "metadata": {
    "ExecuteTime": {
     "end_time": "2019-07-09T05:59:47.035864Z",
     "start_time": "2019-07-09T05:59:46.901082Z"
    }
   },
   "outputs": [],
   "source": [
    "os.makedirs('/app/data/commercials/data', exist_ok=True)\n",
    "with open('/app/data/commercials/data/train.txt', 'w') as f:\n",
    "    for video_id in train_set:\n",
    "        for i, intrvl in enumerate(commercial_labels[video_id].get_intervals()):\n",
    "            f.write('{} {} {}\\n'.format(video_id, i, intrvl['payload']))\n",
    "with open('/app/data/commercials/data/val.txt', 'w') as f:\n",
    "    for video_id in val_set:\n",
    "        for i, intrvl in enumerate(commercial_labels[video_id].get_intervals()):\n",
    "            f.write('{} {} {}\\n'.format(video_id, i, intrvl['payload']))\n",
    "with open('/app/data/commercials/data/test.txt', 'w') as f:\n",
    "    for video_id in test_set:\n",
    "        for i, intrvl in enumerate(commercial_labels[video_id].get_intervals()):\n",
    "            f.write('{} {} {}\\n'.format(video_id, i, intrvl['payload']))"
   ]
  }
 ],
 "metadata": {
  "kernelspec": {
   "display_name": "Django Shell-Plus",
   "language": "python",
   "name": "django_extensions"
  },
  "language_info": {
   "codemirror_mode": {
    "name": "ipython",
    "version": 3
   },
   "file_extension": ".py",
   "mimetype": "text/x-python",
   "name": "python",
   "nbconvert_exporter": "python",
   "pygments_lexer": "ipython3",
   "version": "3.5.2"
  },
  "toc": {
   "nav_menu": {},
   "number_sections": true,
   "sideBar": true,
   "skip_h1_title": false,
   "toc_cell": false,
   "toc_position": {},
   "toc_section_display": "block",
   "toc_window_display": false
  }
 },
 "nbformat": 4,
 "nbformat_minor": 2
}
