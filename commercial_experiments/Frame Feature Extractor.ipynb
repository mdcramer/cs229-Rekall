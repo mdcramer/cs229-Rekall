{
 "cells": [
  {
   "cell_type": "code",
   "execution_count": 45,
   "metadata": {},
   "outputs": [],
   "source": [
    "import os\n",
    "import numpy as np\n",
    "from skimage import io\n",
    "\n",
    "# Set global variables to run notebook\n",
    "\n",
    "# data root\n",
    "data_root = 'C:/_data/' # set to whever the data is being stored\n",
    "label_file = os.path.join(data_root, 'commercials\\\\data\\\\rekall_train.txt')\n",
    "feature_file = os.path.join(data_root, 'commercials\\\\data\\\\rekall_train_images_features.txt')"
   ]
  },
  {
   "cell_type": "code",
   "execution_count": 54,
   "metadata": {},
   "outputs": [],
   "source": [
    "def load_data(filename):\n",
    "    \n",
    "    videos = []\n",
    "    images = []\n",
    "    labels = []\n",
    "    \n",
    "    with open(filename, 'r') as f:\n",
    "        for line in f.readlines():\n",
    "            video, image, label = line.split(' ')\n",
    "            videos.append(int(video))\n",
    "            images.append(int(image))\n",
    "            labels.append(int(label))\n",
    "            \n",
    "    return videos, images, labels"
   ]
  },
  {
   "cell_type": "code",
   "execution_count": 55,
   "metadata": {},
   "outputs": [
    {
     "name": "stdout",
     "output_type": "stream",
     "text": [
      "64130 frames to process\n"
     ]
    }
   ],
   "source": [
    "videos, images, labels = load_data(label_file) # load the data from the training file\n",
    "print('%d frames to process' % len(images))"
   ]
  },
  {
   "cell_type": "code",
   "execution_count": 66,
   "metadata": {},
   "outputs": [],
   "source": [
    "with open(feature_file, 'w+') as f:\n",
    "    \n",
    "    for frame in range(len(images)):\n",
    "        img = io.imread(os.path.join(data_root, 'commercials/images/{}/{:04d}.jpg'.format(videos[frame], images[frame])))\n",
    "        intensity = np.sum(img, axis=2) / 3 # collapse channels and average\n",
    "        f.write('%d, %d, %d, %f, %f\\n' \n",
    "                % (videos[frame], images[frame], labels[frame], np.mean(intensity), np.std(intensity)))"
   ]
  }
 ],
 "metadata": {
  "kernelspec": {
   "display_name": "Python 3",
   "language": "python",
   "name": "python3"
  },
  "language_info": {
   "codemirror_mode": {
    "name": "ipython",
    "version": 3
   },
   "file_extension": ".py",
   "mimetype": "text/x-python",
   "name": "python",
   "nbconvert_exporter": "python",
   "pygments_lexer": "ipython3",
   "version": "3.7.5"
  }
 },
 "nbformat": 4,
 "nbformat_minor": 2
}
