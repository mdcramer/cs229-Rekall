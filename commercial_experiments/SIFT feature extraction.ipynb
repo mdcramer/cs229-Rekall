{
 "cells": [
  {
   "cell_type": "code",
   "execution_count": 2,
   "metadata": {},
   "outputs": [],
   "source": [
    "import cv2\n",
    "import glob\n",
    "import imageio\n",
    "import numpy as np\n",
    "import os"
   ]
  },
  {
   "cell_type": "code",
   "execution_count": 7,
   "metadata": {},
   "outputs": [],
   "source": [
    "# hyperparameters\n",
    "input_data_directory = 'C:/_data/Commercials/images'\n",
    "output_file = 'C:/_data/Commercials/data/num_features.txt'\n",
    "num_features = 1000000  # keep this number large, orb finds a lot less features than this number"
   ]
  },
  {
   "cell_type": "code",
   "execution_count": 27,
   "metadata": {},
   "outputs": [],
   "source": [
    "def read_data_from_input_directory():\n",
    "    paths = []\n",
    "    # collect child directories\n",
    "    directory_paths = next(os.walk(input_data_directory))[1]\n",
    "    # collects paths to frames in every child directory\n",
    "    for directory in directory_paths:\n",
    "        paths += glob.glob(input_data_directory + \"/\" + str(directory) + \"/*.jpg\")\n",
    "    return paths, len(paths)"
   ]
  },
  {
   "cell_type": "code",
   "execution_count": 5,
   "metadata": {},
   "outputs": [],
   "source": [
    "def get_num_keypoints(orb, image_matrix):\n",
    "    # computes and returns number of keypoints found in an frame/image_matrix\n",
    "    # orb.detect returns keypoints, we only need its length\n",
    "    return len(orb.detect(image_matrix, None))"
   ]
  },
  {
   "cell_type": "code",
   "execution_count": 28,
   "metadata": {},
   "outputs": [],
   "source": [
    "# get paths to individual frames\n",
    "data_paths, num_files = read_data_from_input_directory()\n",
    "# create orb object\n",
    "orb = cv2.ORB_create(nfeatures = num_features)\n",
    "# make numpy array\n",
    "num_keypoints = np.zeros(num_files)\n",
    "# get number of features\n",
    "for index, file_path in enumerate(data_paths):\n",
    "    image = imageio.imread(file_path)\n",
    "    num_keypoints[index] = get_num_keypoints(orb, image)\n",
    "# save number of features to a txt file\n",
    "np.savetxt(output_file, num_keypoints)"
   ]
  },
  {
   "cell_type": "code",
   "execution_count": null,
   "metadata": {},
   "outputs": [],
   "source": []
  }
 ],
 "metadata": {
  "kernelspec": {
   "display_name": "Python 3",
   "language": "python",
   "name": "python3"
  },
  "language_info": {
   "codemirror_mode": {
    "name": "ipython",
    "version": 3
   },
   "file_extension": ".py",
   "mimetype": "text/x-python",
   "name": "python",
   "nbconvert_exporter": "python",
   "pygments_lexer": "ipython3",
   "version": "3.7.5"
  }
 },
 "nbformat": 4,
 "nbformat_minor": 2
}
