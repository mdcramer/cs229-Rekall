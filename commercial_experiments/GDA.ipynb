{
 "cells": [
  {
   "cell_type": "code",
   "execution_count": 177,
   "metadata": {},
   "outputs": [],
   "source": [
    "import os\n",
    "import random\n",
    "import numpy as np\n",
    "\n",
    "# Set global variables to run notebook\n",
    "data_root = 'C:/_data/' # set to whever the data is being stored\n",
    "use_true_labels = True\n",
    "if use_true_labels:\n",
    "    feature_file = os.path.join(data_root, 'commercials\\\\data\\\\true_labels_images_features.txt')\n",
    "else:\n",
    "    feature_file = os.path.join(data_root, 'commercials\\\\data\\\\rekall_train_images_features.txt')\n",
    "\n",
    "percent_for_test = 0.10"
   ]
  },
  {
   "cell_type": "code",
   "execution_count": 178,
   "metadata": {},
   "outputs": [],
   "source": [
    "def load_data(filename):\n",
    "    \n",
    "    videos = []\n",
    "    images = []\n",
    "    labels = []\n",
    "    avgs = []\n",
    "    stddevs = []\n",
    "    \n",
    "    with open(filename, 'r') as f:\n",
    "        for line in f.readlines():\n",
    "            video, image, label, avg, stddev = line.split(',')\n",
    "            videos.append(int(video))\n",
    "            images.append(int(image))\n",
    "            labels.append(int(label))\n",
    "            avgs.append(float(avg))\n",
    "            stddevs.append(float(stddev))\n",
    "            \n",
    "    return videos, images, labels, avgs, stddevs"
   ]
  },
  {
   "cell_type": "code",
   "execution_count": 179,
   "metadata": {},
   "outputs": [
    {
     "name": "stdout",
     "output_type": "stream",
     "text": [
      "Loaded 81105 data points\n"
     ]
    }
   ],
   "source": [
    "videos, images, labels, avgs, stddevs = load_data(feature_file)\n",
    "print('Loaded %d data points' % len(images))"
   ]
  },
  {
   "cell_type": "code",
   "execution_count": 180,
   "metadata": {},
   "outputs": [],
   "source": [
    "# shuffle data\n",
    "data = list(zip(avgs, stddevs, labels))\n",
    "random.shuffle(data)\n",
    "x1, x2, y = zip(*data)\n",
    "x = list(zip(x1, x2))\n",
    "\n",
    "# remove test from dataset\n",
    "split = int(len(y) * percent_for_test)\n",
    "x_test = np.array(x[:split])\n",
    "y_test = np.array(y[:split]).reshape(split,1)\n",
    "x_train = np.array(x[split:])\n",
    "y_train = np.array(y[split:]).reshape(len(y)-split,1)"
   ]
  },
  {
   "cell_type": "code",
   "execution_count": 181,
   "metadata": {},
   "outputs": [
    {
     "name": "stdout",
     "output_type": "stream",
     "text": [
      "phi = 0.285609\n",
      "mu0 = array([93.07238261, 66.18311846])\n",
      "mu1 = array([108.79154688,  55.87230749])\n",
      "sigma = array([[1384.76182814,  142.72332485],\n",
      "       [ 142.72332485,  167.5220883 ]])\n"
     ]
    }
   ],
   "source": [
    "# compute parameters\n",
    "n = len(y_train)\n",
    "phi = np.sum(y_train) / n\n",
    "print('phi = %f' % phi)\n",
    "mu0 = np.sum(x_train * (1 - y_train), axis=0) / np.sum(1 - y_train)\n",
    "print('mu0 = %a' % mu0)\n",
    "mu1 = np.sum(x_train * y_train, axis=0) / np.sum(y_train)\n",
    "print('mu1 = %a' % mu1)\n",
    "\n",
    "d = mu0.shape[0]\n",
    "sigma = np.zeros((d,d))\n",
    "for i in range(n):\n",
    "    vec = x_train[i] - (mu0 * (1 - y_train[i]) + mu1 * y_train[i])\n",
    "    sigma += np.outer(vec, vec)\n",
    "sigma = sigma / n\n",
    "print('sigma = %a' % sigma)\n",
    "inv_sigma = np.linalg.inv(sigma)\n",
    "sqrt_det_sigma = np.sqrt(np.linalg.det(sigma))"
   ]
  },
  {
   "cell_type": "code",
   "execution_count": 182,
   "metadata": {},
   "outputs": [],
   "source": [
    "def gaussian_prob(x, mu):\n",
    "    return np.exp(-np.dot(x - mu, np.dot(inv_sigma, x - mu)) / 2) / ((2 * np.pi) ** (d / 2) * sqrt_det_sigma)"
   ]
  },
  {
   "cell_type": "code",
   "execution_count": 183,
   "metadata": {},
   "outputs": [],
   "source": [
    "predictions = []\n",
    "for i in range(len(y_test)):\n",
    "    x = x_test[i]\n",
    "    neg = gaussian_prob(x, mu0) * (1 - phi)\n",
    "    pos = gaussian_prob(x, mu1) * phi\n",
    "    predictions.append(pos > neg)"
   ]
  },
  {
   "cell_type": "code",
   "execution_count": 184,
   "metadata": {},
   "outputs": [
    {
     "name": "stdout",
     "output_type": "stream",
     "text": [
      "Accuracy = 0.790506\n"
     ]
    }
   ],
   "source": [
    "accuracy = np.sum((np.array(predictions).reshape(len(predictions), 1) == y_test) * 1) / len(predictions)\n",
    "print('Accuracy = %f' % accuracy)"
   ]
  },
  {
   "cell_type": "code",
   "execution_count": null,
   "metadata": {},
   "outputs": [],
   "source": []
  }
 ],
 "metadata": {
  "kernelspec": {
   "display_name": "Python 3",
   "language": "python",
   "name": "python3"
  },
  "language_info": {
   "codemirror_mode": {
    "name": "ipython",
    "version": 3
   },
   "file_extension": ".py",
   "mimetype": "text/x-python",
   "name": "python",
   "nbconvert_exporter": "python",
   "pygments_lexer": "ipython3",
   "version": "3.7.5"
  }
 },
 "nbformat": 4,
 "nbformat_minor": 2
}
