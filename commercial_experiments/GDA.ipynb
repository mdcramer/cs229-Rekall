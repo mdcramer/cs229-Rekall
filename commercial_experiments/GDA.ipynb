{
 "cells": [
  {
   "cell_type": "code",
   "execution_count": 293,
   "metadata": {},
   "outputs": [],
   "source": [
    "import os\n",
    "import random\n",
    "import numpy as np\n",
    "\n",
    "# Set global variables to run notebook\n",
    "data_root = 'C:/_data/' # set to whever the data is being stored\n",
    "\n",
    "train_with_true_labels = False\n",
    "if train_with_true_labels:\n",
    "    feature_file = os.path.join(data_root, 'commercials\\\\data\\\\true_labels_images_features.txt')\n",
    "else:\n",
    "    feature_file = os.path.join(data_root, 'commercials\\\\data\\\\rekall_train_images_features.txt')\n",
    "\n",
    "test_with_true_labels = True\n",
    "test_file = os.path.join(data_root, 'commercials\\\\data\\\\true_labels_images_features.txt')\n",
    "percent_for_test = 0.10 # used for splitting data when not testing with true labels"
   ]
  },
  {
   "cell_type": "code",
   "execution_count": 294,
   "metadata": {},
   "outputs": [],
   "source": [
    "def load_data(filename):\n",
    "    \n",
    "    videos = []\n",
    "    images = []\n",
    "    y = []\n",
    "    x = []\n",
    "    \n",
    "    with open(filename, 'r') as f:\n",
    "        for line in f.readlines():\n",
    "            video, image, label, data = line.split(',', 3)\n",
    "            videos.append(int(video))\n",
    "            images.append(int(image))\n",
    "            y.append(int(label))\n",
    "            x.append(eval(data))\n",
    "    \n",
    "    y = np.array(y).reshape(len(y), 1)\n",
    "    x = np.array(x)\n",
    "    \n",
    "    return videos, images, y, x"
   ]
  },
  {
   "cell_type": "code",
   "execution_count": 295,
   "metadata": {},
   "outputs": [
    {
     "name": "stdout",
     "output_type": "stream",
     "text": [
      "Loaded 64130 data points\n",
      "y_train is shape  (64130, 1)\n",
      "x_train is shape  (64130, 8)\n"
     ]
    }
   ],
   "source": [
    "# load training data\n",
    "videos, images, y, x = load_data(feature_file)\n",
    "print('Loaded %d data points' % len(images))\n",
    "\n",
    "# shuffle data\n",
    "data = list(zip(y, x))\n",
    "random.shuffle(data)\n",
    "y, x = zip(*data)\n",
    "y_train = np.array(y).reshape(len(y), 1)\n",
    "x_train = np.array(x)\n",
    "print('y_train is shape ', y_train.shape)\n",
    "print('x_train is shape ', x_train.shape)"
   ]
  },
  {
   "cell_type": "code",
   "execution_count": 296,
   "metadata": {},
   "outputs": [
    {
     "name": "stdout",
     "output_type": "stream",
     "text": [
      "Loaded 81105 test points\n",
      "y_test is shape  (81105, 1)\n",
      "x_test is shape  (81105, 8)\n"
     ]
    }
   ],
   "source": [
    "# set up the test data\n",
    "if test_with_true_labels:\n",
    "    videos, images, y, x = load_data(test_file) # load true labes for testing\n",
    "    x_test = x #np.array(list(zip(avgs, stddevs)))\n",
    "    y_test = y #np.array(labels).reshape(len(labels), 1)\n",
    "else: # remove test from dataset\n",
    "    split = int(len(y) * percent_for_test)\n",
    "    x_train = np.array(x[split:])\n",
    "    y_train = np.array(y[split:]).reshape(len(y)-split, 1)\n",
    "    x_test = np.array(x[:split])\n",
    "    y_test = np.array(y[:split]).reshape(split,1)\n",
    "\n",
    "print('Loaded %d test points' % len(y))\n",
    "print('y_test is shape ', y_test.shape)\n",
    "print('x_test is shape ', x_test.shape)"
   ]
  },
  {
   "cell_type": "code",
   "execution_count": 297,
   "metadata": {},
   "outputs": [],
   "source": [
    "def compute_parameters(x_train, y_train):\n",
    "    \n",
    "    n = len(y_train)\n",
    "    phi = np.sum(y_train) / n\n",
    "    mu0 = np.sum(x_train * (1 - y_train), axis=0) / np.sum(1 - y_train)\n",
    "    mu1 = np.sum(x_train * y_train, axis=0) / np.sum(y_train)\n",
    "\n",
    "    d = mu0.shape[0]\n",
    "    sigma0 = np.zeros((d, d))\n",
    "    sigma1 = np.zeros((d, d))\n",
    "    \n",
    "    for i in range(n):\n",
    "        if y_train[i]:\n",
    "            vec = x_train[i] - mu1\n",
    "            sigma1 += np.outer(vec, vec)\n",
    "        else:\n",
    "            vec = x_train[i] - mu0\n",
    "            sigma0 += np.outer(vec, vec)\n",
    "            \n",
    "    sigma0 = sigma0 / np.sum(1 - y_train)\n",
    "    sigma1 = sigma1 / np.sum(y_train)\n",
    "    \n",
    "#     print('phi = %f' % phi)\n",
    "#     print('mu0 = %a' % mu0)\n",
    "#     print('mu1 = %a' % mu1)\n",
    "#     print('sigma0 = %a' % sigma0)\n",
    "#     print('sigma1 = %a' % sigma1)\n",
    "    \n",
    "    return phi, mu0, mu1, sigma0, sigma1"
   ]
  },
  {
   "cell_type": "code",
   "execution_count": 298,
   "metadata": {},
   "outputs": [],
   "source": [
    "def gaussian_prob(x, mu, inv_sigma, sqrt_det_sigma):\n",
    "    return np.exp(-np.dot(x - mu, np.dot(inv_sigma, x - mu))/2) / ((2*np.pi)**(mu.shape[0]/2) * sqrt_det_sigma)"
   ]
  },
  {
   "cell_type": "code",
   "execution_count": 299,
   "metadata": {},
   "outputs": [],
   "source": [
    "def make_predictions(x_test, y_test, phi, mu0, mu1, sigma0, sigma1):\n",
    "    \n",
    "    inv_sigma0 = np.linalg.inv(sigma0)\n",
    "    sqrt_det_sigma0 = np.sqrt(np.linalg.det(sigma0))\n",
    "    inv_sigma1 = np.linalg.inv(sigma1)\n",
    "    sqrt_det_sigma1 = np.sqrt(np.linalg.det(sigma1))\n",
    "    \n",
    "    predictions = []\n",
    "    for i in range(len(y_test)):\n",
    "        x = x_test[i]\n",
    "        neg = gaussian_prob(x, mu0, inv_sigma0, sqrt_det_sigma0) * (1 - phi)\n",
    "        pos = gaussian_prob(x, mu1, inv_sigma1, sqrt_det_sigma1) * phi\n",
    "        predictions.append(pos > neg)\n",
    "        \n",
    "    accuracy = np.sum((np.array(predictions).reshape(len(predictions), 1) == y_test) * 1) / len(predictions)\n",
    "#     print('Accuracy = %f' % accuracy)\n",
    "    \n",
    "    return accuracy"
   ]
  },
  {
   "cell_type": "code",
   "execution_count": 300,
   "metadata": {},
   "outputs": [
    {
     "name": "stdout",
     "output_type": "stream",
     "text": [
      "Accuracy = 0.820134\n"
     ]
    }
   ],
   "source": [
    "phi, mu0, mu1, sigma0, sigma1 = compute_parameters(x_train[:10000], y_train[:10000])\n",
    "accuracy = make_predictions(x_test, y_test, phi, mu0, mu1, sigma0, sigma1)\n",
    "print('Accuracy = %f' % accuracy)"
   ]
  },
  {
   "cell_type": "code",
   "execution_count": 286,
   "metadata": {},
   "outputs": [
    {
     "name": "stdout",
     "output_type": "stream",
     "text": [
      "[[2914.4440629   231.74690785 2874.99449933 2948.66602712 2919.67166225\n",
      "    50.42998947  102.52971024  125.31580463]\n",
      " [ 231.74690785  338.54544081  243.39278542  223.89529934  227.95263878\n",
      "   144.13947183  155.5105204   154.40624829]\n",
      " [2874.99449933  243.39278542 3125.00644798 2856.06926321 2643.90778681\n",
      "    68.44262588  120.04493603  131.6696048 ]\n",
      " [2948.66602712  223.89529934 2856.06926321 3064.06679731 2925.86202085\n",
      "    41.86218696   92.46080776  114.83412728]\n",
      " [2919.67166225  227.95263878 2643.90778681 2925.86202085 3189.24517909\n",
      "    40.98515557   95.08338692  129.4436818 ]\n",
      " [  50.42998947  144.13947183   68.44262588   41.86218696   40.98515557\n",
      "   200.96985543  178.05912691  164.89280694]\n",
      " [ 102.52971024  155.5105204   120.04493603   92.46080776   95.08338692\n",
      "   178.05912691  196.81199555  185.16343096]\n",
      " [ 125.31580463  154.40624829  131.6696048   114.83412728  129.4436818\n",
      "   164.89280694  185.16343096  202.04480368]]\n",
      "-622637.7771828806\n"
     ]
    }
   ],
   "source": [
    "for i in range(n):\n",
    "    if y_train[i]:\n",
    "        vec = x_train[i] - mu1\n",
    "        sigma1 += np.outer(vec, vec)\n",
    "    else:\n",
    "        vec = x_train[i] - mu0\n",
    "        sigma0 += np.outer(vec, vec)\n",
    "\n",
    "sigma1 = sigma1 / np.sum(y_train)\n",
    "print(sigma1)\n",
    "print(np.linalg.det(sigma1))"
   ]
  },
  {
   "cell_type": "code",
   "execution_count": 301,
   "metadata": {},
   "outputs": [
    {
     "name": "stderr",
     "output_type": "stream",
     "text": [
      "C:\\Users\\mcram\\Anaconda3\\envs\\pytorch\\lib\\site-packages\\ipykernel_launcher.py:6: RuntimeWarning: invalid value encountered in sqrt\n",
      "  \n"
     ]
    },
    {
     "name": "stdout",
     "output_type": "stream",
     "text": [
      "6413 training examples = 0.713717 accuracy. Sigma1 determinant = -4745.813860.\n"
     ]
    },
    {
     "name": "stderr",
     "output_type": "stream",
     "text": [
      "C:\\Users\\mcram\\Anaconda3\\envs\\pytorch\\lib\\site-packages\\ipykernel_launcher.py:4: RuntimeWarning: invalid value encountered in sqrt\n",
      "  after removing the cwd from sys.path.\n"
     ]
    },
    {
     "name": "stdout",
     "output_type": "stream",
     "text": [
      "12826 training examples = 0.713717 accuracy. Sigma1 determinant = -164474.145573.\n",
      "19239 training examples = 0.820455 accuracy. Sigma1 determinant = 229823.231452.\n",
      "25652 training examples = 0.713717 accuracy. Sigma1 determinant = 478757.293005.\n",
      "32065 training examples = 0.713717 accuracy. Sigma1 determinant = 360334.565072.\n",
      "38478 training examples = 0.713717 accuracy. Sigma1 determinant = -217844.915893.\n",
      "44891 training examples = 0.713717 accuracy. Sigma1 determinant = -49812.514589.\n",
      "51304 training examples = 0.821392 accuracy. Sigma1 determinant = 16471.977659.\n",
      "57717 training examples = 0.713717 accuracy. Sigma1 determinant = 293587.147777.\n"
     ]
    }
   ],
   "source": [
    "# compute accuracy for increasing sizes of training data\n",
    "step_size = len(y_train) // 10\n",
    "for i in range(step_size, len(y_train), step_size):\n",
    "    phi, mu0, mu1, sigma0, sigma1 = compute_parameters(x_train[0:i], y_train[0:i])\n",
    "    accuracy = make_predictions(x_test, y_test, phi, mu0, mu1, sigma0, sigma1)\n",
    "    sig1_det = np.linalg.det(sigma1)\n",
    "    print('%d training examples = %f accuracy. Sigma1 determinant = %f.' % (i, accuracy, sig1_det))"
   ]
  },
  {
   "cell_type": "code",
   "execution_count": null,
   "metadata": {},
   "outputs": [],
   "source": []
  }
 ],
 "metadata": {
  "kernelspec": {
   "display_name": "Python 3",
   "language": "python",
   "name": "python3"
  },
  "language_info": {
   "codemirror_mode": {
    "name": "ipython",
    "version": 3
   },
   "file_extension": ".py",
   "mimetype": "text/x-python",
   "name": "python",
   "nbconvert_exporter": "python",
   "pygments_lexer": "ipython3",
   "version": "3.7.5"
  }
 },
 "nbformat": 4,
 "nbformat_minor": 2
}
