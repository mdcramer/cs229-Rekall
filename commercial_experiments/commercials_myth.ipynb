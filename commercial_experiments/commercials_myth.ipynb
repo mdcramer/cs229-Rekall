{
 "cells": [
  {
   "cell_type": "markdown",
   "metadata": {},
   "source": [
    "# Evaluate Myth Commercial Detector"
   ]
  },
  {
   "cell_type": "code",
   "execution_count": 1,
   "metadata": {
    "ExecuteTime": {
     "end_time": "2019-08-06T20:02:19.451400Z",
     "start_time": "2019-08-06T20:02:19.418822Z"
    }
   },
   "outputs": [],
   "source": [
    "import pickle\n",
    "import json\n",
    "import rekall"
   ]
  },
  {
   "cell_type": "code",
   "execution_count": 35,
   "metadata": {
    "ExecuteTime": {
     "end_time": "2019-08-06T20:15:54.767760Z",
     "start_time": "2019-08-06T20:15:54.745354Z"
    }
   },
   "outputs": [],
   "source": [
    "with open('/app/data/myth-commercial-data/test/myth_test_output.json', 'r') as f:\n",
    "    myth_output = json.load(f)\n",
    "with open('/app/data/myth-commercial-data/val/mythcomm_val_output.json', 'r') as f:\n",
    "    myth_output_val = json.load(f)"
   ]
  },
  {
   "cell_type": "code",
   "execution_count": 26,
   "metadata": {
    "ExecuteTime": {
     "end_time": "2019-08-06T20:12:44.290738Z",
     "start_time": "2019-08-06T20:12:44.150148Z"
    }
   },
   "outputs": [],
   "source": [
    "with open('/app/data/commercials/data/test.txt', 'r') as f:\n",
    "    test_gt = [\n",
    "        l.strip().split()\n",
    "        for l in f.readlines()\n",
    "    ]\n",
    "with open('/app/data/commercials/data/val.txt', 'r') as f:\n",
    "    val_gt = [\n",
    "        l.strip().split()\n",
    "        for l in f.readlines()\n",
    "    ]"
   ]
  },
  {
   "cell_type": "code",
   "execution_count": 4,
   "metadata": {
    "ExecuteTime": {
     "end_time": "2019-08-06T20:02:20.578550Z",
     "start_time": "2019-08-06T20:02:20.541271Z"
    }
   },
   "outputs": [],
   "source": [
    "train_set = [293, 514, 529, 715, 755, 763, 1595, 2648, 3317, 3459, 3769,\n",
    "             3952, 4029, 4143, 4421, 4611, 5281, 6161, 6185, 6532, 7206, \n",
    "             7262, 8220, 8859, 9480, 9499, 9758, 10335, 10621, 11003, 11293, \n",
    "             11555, 11792, 11940, 12655, 13058, 13141, 13247, 13556, 13791, \n",
    "             13827, 13927, 14482, 14638, 15855, 15916, 15964, 16215, 16542, \n",
    "             16599, 16693, 16879, 16964, 17458, 17983, 19882, 19959, 20230, \n",
    "             20380, 20450, 20920, 21572, 23181, 23184, 24193, 24784, 25463, \n",
    "             26060, 26231, 26386, 26824, 26836, 27175, 27188, 27410, 27927, \n",
    "             27963, 28613, 29001, 31378, 31994, 32472, 33004, 33387, 33541, \n",
    "             33977, 34050, 34359, 34642, 36211, 37107, 37113, 37170, 37927, \n",
    "             38275, 38420, 40856, 41235, 41480, 41725, 41836, 42027, 42362, \n",
    "             42756, 44998, 45472, 45573, 45645, 45655, 45698, 45744, 46041, \n",
    "             46058, 46753, 48140, 49225, 49931, 50883, 51145, 51175, 51469, \n",
    "             51482, 51606, 52075, 52749, 53355, 53684, 53932, 54238, 55016, \n",
    "             56051, 56764, 57310, 57384, 57592, 57708, 57798, 57804, 57962, \n",
    "             58389, 59122, 59398, 60186, 60581, 61359, 61930, 62400, 66092, \n",
    "             66666, 79265, 80121, 93033, 94663, 112580, 114248, 115653, \n",
    "             123531, 124234, 128012, 133584, 134007, 135812, 136446, 148080, \n",
    "             158981, 158982, 192899, 205173]\n",
    "val_set = [559, 1791, 3730, 3754, 10323, 11579, 17386, 20689, 24847, 24992, \n",
    "           26175, 33800, 40203, 40267, 43637, 50561, 54377, 57990, 59028, \n",
    "           63965, 67300]\n",
    "test_set = [385, 8697, 9215, 9901, 12837, 13993, 14925, 18700, 23541, 31902,\n",
    "            32996, 36755, 50164, 52945, 55711, 57748, 59789, 60433, 136732,\n",
    "            149097, 169420]"
   ]
  },
  {
   "cell_type": "code",
   "execution_count": 9,
   "metadata": {
    "ExecuteTime": {
     "end_time": "2019-08-06T20:03:41.814296Z",
     "start_time": "2019-08-06T20:03:41.766862Z"
    }
   },
   "outputs": [],
   "source": [
    "from rekall import Interval, IntervalSet, IntervalSetMapping\n",
    "from rekall.bounds import Bounds3D\n",
    "from rekall.predicates import *"
   ]
  },
  {
   "cell_type": "code",
   "execution_count": 36,
   "metadata": {
    "ExecuteTime": {
     "end_time": "2019-08-06T20:16:02.831191Z",
     "start_time": "2019-08-06T20:16:02.153448Z"
    }
   },
   "outputs": [],
   "source": [
    "test_gt_by_video = {}\n",
    "for video_id, idx, label in test_gt:\n",
    "    video_id = int(video_id)\n",
    "    idx = int(idx)\n",
    "    label = int(label)\n",
    "    if video_id not in test_gt_by_video:\n",
    "        test_gt_by_video[video_id] = []\n",
    "    test_gt_by_video[video_id].append(\n",
    "        Interval(Bounds3D(idx * 10, (idx + 1) * 10), label)\n",
    "    )\n",
    "    \n",
    "gt_comms = IntervalSetMapping({\n",
    "    video_id: IntervalSet(test_gt_by_video[video_id])\n",
    "    for video_id in test_gt_by_video\n",
    "})\n",
    "\n",
    "val_gt_by_video = {}\n",
    "for video_id, idx, label in val_gt:\n",
    "    video_id = int(video_id)\n",
    "    idx = int(idx)\n",
    "    label = int(label)\n",
    "    if video_id not in val_gt_by_video:\n",
    "        val_gt_by_video[video_id] = []\n",
    "    val_gt_by_video[video_id].append(\n",
    "        Interval(Bounds3D(idx * 10, (idx + 1) * 10), label)\n",
    "    )\n",
    "    \n",
    "gt_comms_val = IntervalSetMapping({\n",
    "    video_id: IntervalSet(val_gt_by_video[video_id])\n",
    "    for video_id in val_gt_by_video\n",
    "})"
   ]
  },
  {
   "cell_type": "code",
   "execution_count": 41,
   "metadata": {
    "ExecuteTime": {
     "end_time": "2019-08-06T20:16:31.639853Z",
     "start_time": "2019-08-06T20:16:31.608556Z"
    }
   },
   "outputs": [],
   "source": [
    "myth_comms = IntervalSetMapping({\n",
    "    int(video_id): IntervalSet([\n",
    "        Interval(Bounds3D(comm[0], comm[1]))\n",
    "        for comm in myth_output[video_id]\n",
    "    ])\n",
    "    for video_id in myth_output\n",
    "})\n",
    "\n",
    "myth_comms_val = IntervalSetMapping({\n",
    "    int(video_id): IntervalSet([\n",
    "        Interval(Bounds3D(comm[0], comm[1]))\n",
    "        for comm in myth_output_val[video_id]\n",
    "    ])\n",
    "    for video_id in myth_output_val\n",
    "})"
   ]
  },
  {
   "cell_type": "code",
   "execution_count": 19,
   "metadata": {
    "ExecuteTime": {
     "end_time": "2019-08-06T20:06:18.699346Z",
     "start_time": "2019-08-06T20:06:07.551768Z"
    }
   },
   "outputs": [],
   "source": [
    "positives = gt_comms.filter_against(\n",
    "    myth_comms,\n",
    "    predicate = overlaps(),\n",
    "    window=0\n",
    ")\n",
    "negatives = gt_comms.minus(positives, axis=('t1', 't2'), window=0)"
   ]
  },
  {
   "cell_type": "code",
   "execution_count": 20,
   "metadata": {
    "ExecuteTime": {
     "end_time": "2019-08-06T20:07:42.250312Z",
     "start_time": "2019-08-06T20:07:42.062100Z"
    }
   },
   "outputs": [],
   "source": [
    "tp = positives.filter(lambda intrvl: intrvl['payload'] == 1)\n",
    "fp = positives.filter(lambda intrvl: intrvl['payload'] == 0)\n",
    "fn = negatives.filter(lambda intrvl: intrvl['payload'] == 1)"
   ]
  },
  {
   "cell_type": "code",
   "execution_count": 24,
   "metadata": {
    "ExecuteTime": {
     "end_time": "2019-08-06T20:10:08.569164Z",
     "start_time": "2019-08-06T20:10:08.537668Z"
    }
   },
   "outputs": [],
   "source": [
    "def precision_recall_f1(tp, fp, fn):\n",
    "    def sum_values(obj):\n",
    "        return sum([v for v in list(obj.values())])\n",
    "    tp_count = sum_values(tp.size())\n",
    "    fp_count = sum_values(fp.size())\n",
    "    fn_count = sum_values(fn.size())\n",
    "    \n",
    "    precision = tp_count / (tp_count + fp_count)\n",
    "    recall = tp_count / (tp_count + fn_count)\n",
    "    f1 = 2 * precision * recall / (precision + recall)\n",
    "    \n",
    "    return (precision, recall, f1, tp_count, fp_count, fn_count)"
   ]
  },
  {
   "cell_type": "code",
   "execution_count": 25,
   "metadata": {
    "ExecuteTime": {
     "end_time": "2019-08-06T20:10:18.757695Z",
     "start_time": "2019-08-06T20:10:18.731294Z"
    }
   },
   "outputs": [
    {
     "data": {
      "text/plain": [
       "(0.9653779572994806, 0.7056094474905104, 0.8153021442495126, 1673, 60, 698)"
      ]
     },
     "execution_count": 25,
     "metadata": {},
     "output_type": "execute_result"
    }
   ],
   "source": [
    "precision_recall_f1(tp, fp, fn)"
   ]
  },
  {
   "cell_type": "code",
   "execution_count": 42,
   "metadata": {
    "ExecuteTime": {
     "end_time": "2019-08-06T20:16:40.380185Z",
     "start_time": "2019-08-06T20:16:39.506098Z"
    }
   },
   "outputs": [],
   "source": [
    "positives_val = gt_comms_val.filter_against(\n",
    "    myth_comms_val,\n",
    "    predicate = overlaps(),\n",
    "    window=0\n",
    ")\n",
    "negatives_val = gt_comms_val.minus(positives, axis=('t1', 't2'), window=0)"
   ]
  },
  {
   "cell_type": "code",
   "execution_count": 43,
   "metadata": {
    "ExecuteTime": {
     "end_time": "2019-08-06T20:16:42.054994Z",
     "start_time": "2019-08-06T20:16:41.978314Z"
    }
   },
   "outputs": [],
   "source": [
    "tp_val = positives_val.filter(lambda intrvl: intrvl['payload'] == 1)\n",
    "fp_val = positives_val.filter(lambda intrvl: intrvl['payload'] == 0)\n",
    "fn_val = negatives_val.filter(lambda intrvl: intrvl['payload'] == 1)"
   ]
  },
  {
   "cell_type": "code",
   "execution_count": 44,
   "metadata": {
    "ExecuteTime": {
     "end_time": "2019-08-06T20:16:42.517138Z",
     "start_time": "2019-08-06T20:16:42.493801Z"
    }
   },
   "outputs": [
    {
     "data": {
      "text/plain": [
       "(0.9526288391462779, 0.3988666085440279, 0.5622983561222922, 1830, 91, 2758)"
      ]
     },
     "execution_count": 44,
     "metadata": {},
     "output_type": "execute_result"
    }
   ],
   "source": [
    "precision_recall_f1(tp_val, fp_val, fn_val)"
   ]
  }
 ],
 "metadata": {
  "kernelspec": {
   "display_name": "Django Shell-Plus",
   "language": "python",
   "name": "django_extensions"
  },
  "language_info": {
   "codemirror_mode": {
    "name": "ipython",
    "version": 3
   },
   "file_extension": ".py",
   "mimetype": "text/x-python",
   "name": "python",
   "nbconvert_exporter": "python",
   "pygments_lexer": "ipython3",
   "version": "3.5.2"
  },
  "toc": {
   "nav_menu": {},
   "number_sections": true,
   "sideBar": true,
   "skip_h1_title": false,
   "toc_cell": false,
   "toc_position": {},
   "toc_section_display": "block",
   "toc_window_display": false
  }
 },
 "nbformat": 4,
 "nbformat_minor": 2
}
