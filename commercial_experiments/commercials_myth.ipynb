{
 "cells": [
  {
   "cell_type": "markdown",
   "metadata": {},
   "source": [
    "# Evaluate Myth Commercial Detector"
   ]
  },
  {
   "cell_type": "code",
   "execution_count": 1,
   "metadata": {
    "ExecuteTime": {
     "end_time": "2019-08-06T20:02:19.451400Z",
     "start_time": "2019-08-06T20:02:19.418822Z"
    }
   },
   "outputs": [],
   "source": [
    "import pickle\n",
    "import json\n",
    "import rekall"
   ]
  },
  {
   "cell_type": "code",
   "execution_count": 46,
   "metadata": {
    "ExecuteTime": {
     "end_time": "2019-08-07T15:59:32.481134Z",
     "start_time": "2019-08-07T15:59:32.455425Z"
    }
   },
   "outputs": [],
   "source": [
    "# with open('/app/data/myth-commercial-data/test/myth_test_output.json', 'r') as f:\n",
    "#     myth_output = json.load(f)\n",
    "# with open('/app/data/myth-commercial-data/val/mythcomm_val_output.json', 'r') as f:\n",
    "#     myth_output_val = json.load(f)\n",
    "    \n",
    "with open('/app/data/mythcomm-nostrict/test/myth_test_output.json', 'r') as f:\n",
    "    myth_output = json.load(f)\n",
    "with open('/app/data/mythcomm-nostrict/val/mythcomm_val_nostrict.json', 'r') as f:\n",
    "    myth_output_val = json.load(f)"
   ]
  },
  {
   "cell_type": "code",
   "execution_count": 47,
   "metadata": {
    "ExecuteTime": {
     "end_time": "2019-08-07T15:59:34.292396Z",
     "start_time": "2019-08-07T15:59:34.237926Z"
    }
   },
   "outputs": [],
   "source": [
    "with open('/app/data/commercials/data/test.txt', 'r') as f:\n",
    "    test_gt = [\n",
    "        l.strip().split()\n",
    "        for l in f.readlines()\n",
    "    ]\n",
    "with open('/app/data/commercials/data/val.txt', 'r') as f:\n",
    "    val_gt = [\n",
    "        l.strip().split()\n",
    "        for l in f.readlines()\n",
    "    ]"
   ]
  },
  {
   "cell_type": "code",
   "execution_count": 48,
   "metadata": {
    "ExecuteTime": {
     "end_time": "2019-08-07T15:59:35.008718Z",
     "start_time": "2019-08-07T15:59:34.970900Z"
    }
   },
   "outputs": [],
   "source": [
    "train_set = [293, 514, 529, 715, 755, 763, 1595, 2648, 3317, 3459, 3769,\n",
    "             3952, 4029, 4143, 4421, 4611, 5281, 6161, 6185, 6532, 7206, \n",
    "             7262, 8220, 8859, 9480, 9499, 9758, 10335, 10621, 11003, 11293, \n",
    "             11555, 11792, 11940, 12655, 13058, 13141, 13247, 13556, 13791, \n",
    "             13827, 13927, 14482, 14638, 15855, 15916, 15964, 16215, 16542, \n",
    "             16599, 16693, 16879, 16964, 17458, 17983, 19882, 19959, 20230, \n",
    "             20380, 20450, 20920, 21572, 23181, 23184, 24193, 24784, 25463, \n",
    "             26060, 26231, 26386, 26824, 26836, 27175, 27188, 27410, 27927, \n",
    "             27963, 28613, 29001, 31378, 31994, 32472, 33004, 33387, 33541, \n",
    "             33977, 34050, 34359, 34642, 36211, 37107, 37113, 37170, 37927, \n",
    "             38275, 38420, 40856, 41235, 41480, 41725, 41836, 42027, 42362, \n",
    "             42756, 44998, 45472, 45573, 45645, 45655, 45698, 45744, 46041, \n",
    "             46058, 46753, 48140, 49225, 49931, 50883, 51145, 51175, 51469, \n",
    "             51482, 51606, 52075, 52749, 53355, 53684, 53932, 54238, 55016, \n",
    "             56051, 56764, 57310, 57384, 57592, 57708, 57798, 57804, 57962, \n",
    "             58389, 59122, 59398, 60186, 60581, 61359, 61930, 62400, 66092, \n",
    "             66666, 79265, 80121, 93033, 94663, 112580, 114248, 115653, \n",
    "             123531, 124234, 128012, 133584, 134007, 135812, 136446, 148080, \n",
    "             158981, 158982, 192899, 205173]\n",
    "val_set = [559, 1791, 3730, 3754, 10323, 11579, 17386, 20689, 24847, 24992, \n",
    "           26175, 33800, 40203, 40267, 43637, 50561, 54377, 57990, 59028, \n",
    "           63965, 67300]\n",
    "test_set = [385, 8697, 9215, 9901, 12837, 13993, 14925, 18700, 23541, 31902,\n",
    "            32996, 36755, 50164, 52945, 55711, 57748, 59789, 60433, 136732,\n",
    "            149097, 169420]"
   ]
  },
  {
   "cell_type": "code",
   "execution_count": 49,
   "metadata": {
    "ExecuteTime": {
     "end_time": "2019-08-07T15:59:35.638991Z",
     "start_time": "2019-08-07T15:59:35.613884Z"
    }
   },
   "outputs": [],
   "source": [
    "from rekall import Interval, IntervalSet, IntervalSetMapping\n",
    "from rekall.bounds import Bounds3D\n",
    "from rekall.predicates import *"
   ]
  },
  {
   "cell_type": "code",
   "execution_count": 50,
   "metadata": {
    "ExecuteTime": {
     "end_time": "2019-08-07T15:59:37.577393Z",
     "start_time": "2019-08-07T15:59:36.948318Z"
    }
   },
   "outputs": [],
   "source": [
    "test_gt_by_video = {}\n",
    "for video_id, idx, label in test_gt:\n",
    "    video_id = int(video_id)\n",
    "    idx = int(idx)\n",
    "    label = int(label)\n",
    "    if video_id not in test_gt_by_video:\n",
    "        test_gt_by_video[video_id] = []\n",
    "    test_gt_by_video[video_id].append(\n",
    "        Interval(Bounds3D(idx * 10, (idx + 1) * 10), label)\n",
    "    )\n",
    "    \n",
    "gt_comms = IntervalSetMapping({\n",
    "    video_id: IntervalSet(test_gt_by_video[video_id])\n",
    "    for video_id in test_gt_by_video\n",
    "})\n",
    "\n",
    "val_gt_by_video = {}\n",
    "for video_id, idx, label in val_gt:\n",
    "    video_id = int(video_id)\n",
    "    idx = int(idx)\n",
    "    label = int(label)\n",
    "    if video_id not in val_gt_by_video:\n",
    "        val_gt_by_video[video_id] = []\n",
    "    val_gt_by_video[video_id].append(\n",
    "        Interval(Bounds3D(idx * 10, (idx + 1) * 10), label)\n",
    "    )\n",
    "    \n",
    "gt_comms_val = IntervalSetMapping({\n",
    "    video_id: IntervalSet(val_gt_by_video[video_id])\n",
    "    for video_id in val_gt_by_video\n",
    "})"
   ]
  },
  {
   "cell_type": "code",
   "execution_count": 51,
   "metadata": {
    "ExecuteTime": {
     "end_time": "2019-08-07T15:59:39.274302Z",
     "start_time": "2019-08-07T15:59:39.247476Z"
    }
   },
   "outputs": [],
   "source": [
    "myth_comms = IntervalSetMapping({\n",
    "    int(video_id): IntervalSet([\n",
    "        Interval(Bounds3D(comm[0], comm[1]))\n",
    "        for comm in myth_output[video_id]\n",
    "    ])\n",
    "    for video_id in myth_output\n",
    "})\n",
    "\n",
    "myth_comms_val = IntervalSetMapping({\n",
    "    int(video_id): IntervalSet([\n",
    "        Interval(Bounds3D(comm[0], comm[1]))\n",
    "        for comm in myth_output_val[video_id]\n",
    "    ])\n",
    "    for video_id in myth_output_val\n",
    "})"
   ]
  },
  {
   "cell_type": "code",
   "execution_count": 52,
   "metadata": {
    "ExecuteTime": {
     "end_time": "2019-08-07T15:59:51.633902Z",
     "start_time": "2019-08-07T15:59:39.796117Z"
    }
   },
   "outputs": [],
   "source": [
    "positives = gt_comms.filter_against(\n",
    "    myth_comms,\n",
    "    predicate = overlaps(),\n",
    "    window=0\n",
    ")\n",
    "negatives = gt_comms.minus(positives, axis=('t1', 't2'), window=0)"
   ]
  },
  {
   "cell_type": "code",
   "execution_count": 53,
   "metadata": {
    "ExecuteTime": {
     "end_time": "2019-08-07T15:59:53.048101Z",
     "start_time": "2019-08-07T15:59:52.994478Z"
    }
   },
   "outputs": [],
   "source": [
    "tp = positives.filter(lambda intrvl: intrvl['payload'] == 1)\n",
    "fp = positives.filter(lambda intrvl: intrvl['payload'] == 0)\n",
    "fn = negatives.filter(lambda intrvl: intrvl['payload'] == 1)"
   ]
  },
  {
   "cell_type": "code",
   "execution_count": 54,
   "metadata": {
    "ExecuteTime": {
     "end_time": "2019-08-07T15:59:53.801359Z",
     "start_time": "2019-08-07T15:59:53.775618Z"
    }
   },
   "outputs": [],
   "source": [
    "def precision_recall_f1(tp, fp, fn):\n",
    "    def sum_values(obj):\n",
    "        return sum([v for v in list(obj.values())])\n",
    "    tp_count = sum_values(tp.size())\n",
    "    fp_count = sum_values(fp.size())\n",
    "    fn_count = sum_values(fn.size())\n",
    "    \n",
    "    precision = tp_count / (tp_count + fp_count)\n",
    "    recall = tp_count / (tp_count + fn_count)\n",
    "    f1 = 2 * precision * recall / (precision + recall)\n",
    "    \n",
    "    return (precision, recall, f1, tp_count, fp_count, fn_count)"
   ]
  },
  {
   "cell_type": "code",
   "execution_count": 55,
   "metadata": {
    "ExecuteTime": {
     "end_time": "2019-08-07T15:59:54.527030Z",
     "start_time": "2019-08-07T15:59:54.504403Z"
    }
   },
   "outputs": [
    {
     "data": {
      "text/plain": [
       "(0.962254120148857, 0.7633909742724588, 0.8513640639698966, 1810, 71, 561)"
      ]
     },
     "execution_count": 55,
     "metadata": {},
     "output_type": "execute_result"
    }
   ],
   "source": [
    "precision_recall_f1(tp, fp, fn)"
   ]
  },
  {
   "cell_type": "code",
   "execution_count": 56,
   "metadata": {
    "ExecuteTime": {
     "end_time": "2019-08-07T16:00:00.019038Z",
     "start_time": "2019-08-07T15:59:59.076862Z"
    }
   },
   "outputs": [],
   "source": [
    "positives_val = gt_comms_val.filter_against(\n",
    "    myth_comms_val,\n",
    "    predicate = overlaps(),\n",
    "    window=0\n",
    ")\n",
    "negatives_val = gt_comms_val.minus(positives, axis=('t1', 't2'), window=0)"
   ]
  },
  {
   "cell_type": "code",
   "execution_count": 57,
   "metadata": {
    "ExecuteTime": {
     "end_time": "2019-08-07T16:00:00.106060Z",
     "start_time": "2019-08-07T16:00:00.022733Z"
    }
   },
   "outputs": [],
   "source": [
    "tp_val = positives_val.filter(lambda intrvl: intrvl['payload'] == 1)\n",
    "fp_val = positives_val.filter(lambda intrvl: intrvl['payload'] == 0)\n",
    "fn_val = negatives_val.filter(lambda intrvl: intrvl['payload'] == 1)"
   ]
  },
  {
   "cell_type": "code",
   "execution_count": 58,
   "metadata": {
    "ExecuteTime": {
     "end_time": "2019-08-07T16:00:00.133259Z",
     "start_time": "2019-08-07T16:00:00.109316Z"
    }
   },
   "outputs": [
    {
     "data": {
      "text/plain": [
       "(0.9504901960784313, 0.4128166915052161, 0.5756271337390529, 1939, 101, 2758)"
      ]
     },
     "execution_count": 58,
     "metadata": {},
     "output_type": "execute_result"
    }
   ],
   "source": [
    "precision_recall_f1(tp_val, fp_val, fn_val)"
   ]
  }
 ],
 "metadata": {
  "kernelspec": {
   "display_name": "Django Shell-Plus",
   "language": "python",
   "name": "django_extensions"
  },
  "language_info": {
   "codemirror_mode": {
    "name": "ipython",
    "version": 3
   },
   "file_extension": ".py",
   "mimetype": "text/x-python",
   "name": "python",
   "nbconvert_exporter": "python",
   "pygments_lexer": "ipython3",
   "version": "3.5.2"
  },
  "toc": {
   "nav_menu": {},
   "number_sections": true,
   "sideBar": true,
   "skip_h1_title": false,
   "toc_cell": false,
   "toc_position": {},
   "toc_section_display": "block",
   "toc_window_display": false
  }
 },
 "nbformat": 4,
 "nbformat_minor": 2
}
