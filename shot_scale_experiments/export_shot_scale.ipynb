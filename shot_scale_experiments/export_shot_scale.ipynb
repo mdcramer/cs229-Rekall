{
 "cells": [
  {
   "cell_type": "code",
   "execution_count": 29,
   "metadata": {
    "ExecuteTime": {
     "end_time": "2019-07-19T03:49:33.356451Z",
     "start_time": "2019-07-19T03:49:33.332634Z"
    }
   },
   "outputs": [],
   "source": [
    "from query.models import Video"
   ]
  },
  {
   "cell_type": "code",
   "execution_count": 14,
   "metadata": {
    "ExecuteTime": {
     "end_time": "2019-07-19T03:42:17.620246Z",
     "start_time": "2019-07-19T03:42:17.598785Z"
    }
   },
   "outputs": [],
   "source": [
    "import pickle\n",
    "import os"
   ]
  },
  {
   "cell_type": "code",
   "execution_count": 3,
   "metadata": {
    "ExecuteTime": {
     "end_time": "2019-07-19T03:38:43.566734Z",
     "start_time": "2019-07-19T03:38:43.543462Z"
    }
   },
   "outputs": [],
   "source": [
    "with open('/app/data/shot_scales_and_conv_idioms_samples/' + \n",
    "          'shot_scale_labels_and_rekall_accuracy_val_test.pkl', 'rb') as f:\n",
    "    data = pickle.load(f)"
   ]
  },
  {
   "cell_type": "code",
   "execution_count": 5,
   "metadata": {
    "ExecuteTime": {
     "end_time": "2019-07-19T03:39:51.863710Z",
     "start_time": "2019-07-19T03:39:51.840650Z"
    }
   },
   "outputs": [
    {
     "data": {
      "text/plain": [
       "dict_keys(['false_positive_long_val', 'false_positive_close_up_test', 'false_positive_long_test', 'long_val', 'medium_val', 'long_accuracy_val', 'medium_accuracy_val', 'close_up_accuracy_val', 'false_positive_medium_test', 'close_up_accuracy_test', 'medium_accuracy_test', 'long_test', 'close_up_val', 'medium_test', 'long_accuracy_test', 'close_up_test', 'test_set', 'false_positive_medium_val', 'false_positive_close_up_val', 'val_set'])"
      ]
     },
     "execution_count": 5,
     "metadata": {},
     "output_type": "execute_result"
    }
   ],
   "source": [
    "# get minimum number of frames in a shot\n",
    "data.keys()"
   ]
  },
  {
   "cell_type": "code",
   "execution_count": 15,
   "metadata": {
    "ExecuteTime": {
     "end_time": "2019-07-19T03:43:03.500359Z",
     "start_time": "2019-07-19T03:43:03.472746Z"
    }
   },
   "outputs": [
    {
     "data": {
      "text/plain": [
       "(151, 51404, 51468)"
      ]
     },
     "execution_count": 15,
     "metadata": {},
     "output_type": "execute_result"
    }
   ],
   "source": [
    "data['val_set'][0]"
   ]
  },
  {
   "cell_type": "code",
   "execution_count": 19,
   "metadata": {
    "ExecuteTime": {
     "end_time": "2019-07-19T03:44:18.623363Z",
     "start_time": "2019-07-19T03:44:18.599910Z"
    }
   },
   "outputs": [],
   "source": [
    "import scannertools as st"
   ]
  },
  {
   "cell_type": "code",
   "execution_count": 20,
   "metadata": {
    "ExecuteTime": {
     "end_time": "2019-07-19T03:44:25.053583Z",
     "start_time": "2019-07-19T03:44:25.028764Z"
    }
   },
   "outputs": [],
   "source": [
    "st.init_storage(os.environ['BUCKET'])"
   ]
  },
  {
   "cell_type": "code",
   "execution_count": 21,
   "metadata": {
    "ExecuteTime": {
     "end_time": "2019-07-19T03:44:26.904786Z",
     "start_time": "2019-07-19T03:44:25.558325Z"
    }
   },
   "outputs": [],
   "source": [
    "frame = Video.objects.get(id=151).for_scannertools().frames([51404])"
   ]
  },
  {
   "cell_type": "code",
   "execution_count": 24,
   "metadata": {
    "ExecuteTime": {
     "end_time": "2019-07-19T03:44:38.947003Z",
     "start_time": "2019-07-19T03:44:38.921178Z"
    }
   },
   "outputs": [
    {
     "data": {
      "text/plain": [
       "(800, 1920, 3)"
      ]
     },
     "execution_count": 24,
     "metadata": {},
     "output_type": "execute_result"
    }
   ],
   "source": [
    "frame[0].shape"
   ]
  },
  {
   "cell_type": "code",
   "execution_count": 25,
   "metadata": {
    "ExecuteTime": {
     "end_time": "2019-07-19T03:44:46.632219Z",
     "start_time": "2019-07-19T03:44:46.608034Z"
    }
   },
   "outputs": [],
   "source": [
    "from PIL import Image"
   ]
  },
  {
   "cell_type": "code",
   "execution_count": 26,
   "metadata": {
    "ExecuteTime": {
     "end_time": "2019-07-19T03:45:31.284498Z",
     "start_time": "2019-07-19T03:45:31.257286Z"
    }
   },
   "outputs": [],
   "source": [
    "im = Image.fromarray(frame[0])"
   ]
  },
  {
   "cell_type": "code",
   "execution_count": 27,
   "metadata": {
    "ExecuteTime": {
     "end_time": "2019-07-19T03:45:41.130844Z",
     "start_time": "2019-07-19T03:45:41.057222Z"
    }
   },
   "outputs": [],
   "source": [
    "im.save('/app/data/test.jpg')"
   ]
  },
  {
   "cell_type": "code",
   "execution_count": 12,
   "metadata": {
    "ExecuteTime": {
     "end_time": "2019-07-19T03:40:47.631125Z",
     "start_time": "2019-07-19T03:40:47.607253Z"
    }
   },
   "outputs": [
    {
     "data": {
      "text/plain": [
       "56386"
      ]
     },
     "execution_count": 12,
     "metadata": {},
     "output_type": "execute_result"
    }
   ],
   "source": [
    "sum(\n",
    "    v[2]-v[1] for v in data['val_set']\n",
    ")"
   ]
  },
  {
   "cell_type": "code",
   "execution_count": 13,
   "metadata": {
    "ExecuteTime": {
     "end_time": "2019-07-19T03:40:50.039083Z",
     "start_time": "2019-07-19T03:40:50.015068Z"
    }
   },
   "outputs": [
    {
     "data": {
      "text/plain": [
       "61964"
      ]
     },
     "execution_count": 13,
     "metadata": {},
     "output_type": "execute_result"
    }
   ],
   "source": [
    "sum(\n",
    "    v[2]-v[1] for v in data['test_set']\n",
    ")"
   ]
  },
  {
   "cell_type": "code",
   "execution_count": null,
   "metadata": {},
   "outputs": [],
   "source": [
    "os.makedirs('/app/data/shot_scale')"
   ]
  }
 ],
 "metadata": {
  "kernelspec": {
   "display_name": "Django Shell-Plus",
   "language": "python",
   "name": "django_extensions"
  },
  "language_info": {
   "codemirror_mode": {
    "name": "ipython",
    "version": 3
   },
   "file_extension": ".py",
   "mimetype": "text/x-python",
   "name": "python",
   "nbconvert_exporter": "python",
   "pygments_lexer": "ipython3",
   "version": "3.5.2"
  },
  "toc": {
   "nav_menu": {},
   "number_sections": true,
   "sideBar": true,
   "skip_h1_title": false,
   "toc_cell": false,
   "toc_position": {},
   "toc_section_display": "block",
   "toc_window_display": false
  }
 },
 "nbformat": 4,
 "nbformat_minor": 2
}
