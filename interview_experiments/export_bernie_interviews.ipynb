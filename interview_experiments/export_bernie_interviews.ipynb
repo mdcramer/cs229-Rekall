{
 "cells": [
  {
   "cell_type": "markdown",
   "metadata": {},
   "source": [
    "# Export all original interviews with Bernie Sanders\n",
    "\n",
    "Run this notebook from an `esper-tv2` environment."
   ]
  },
  {
   "cell_type": "code",
   "execution_count": 50,
   "metadata": {
    "ExecuteTime": {
     "end_time": "2019-07-05T22:30:45.293117Z",
     "start_time": "2019-07-05T22:30:45.257585Z"
    }
   },
   "outputs": [],
   "source": [
    "from app.models import Video, Face, FaceIdentity, LabeledInterview\n",
    "from rekall import Interval, IntervalSet, IntervalSetMapping, Bounds3D\n",
    "from rekall.stdlib import ingest\n",
    "from rekall.predicates import *\n",
    "from app.captions import *\n",
    "import math\n",
    "import numpy as np\n",
    "import random"
   ]
  },
  {
   "cell_type": "code",
   "execution_count": 99,
   "metadata": {
    "ExecuteTime": {
     "end_time": "2019-07-08T03:31:05.137462Z",
     "start_time": "2019-07-08T03:31:04.938192Z"
    }
   },
   "outputs": [
    {
     "data": {
      "application/vnd.jupyter.widget-view+json": {
       "model_id": "e36cdd698ff549b581cdfc08d98844d6",
       "version_major": 2,
       "version_minor": 0
      },
      "text/plain": [
       "VGridWidget(vgrid_spec={'settings': {'blocks_per_page': 50, 'key_mode': 'Jupyter', 'show_timeline': True, 'spi…"
      ]
     },
     "metadata": {},
     "output_type": "display_data"
    }
   ],
   "source": [
    "from esperlib.widget import vgrid_widget\n",
    "from vgrid import VideoBlockFormat\n",
    "from app.models import Video\n",
    "\n",
    "video_meta = [Video.objects.filter(id=9901).all()[0].for_vgrid()]\n",
    "vgrid_widget(\n",
    "    video_meta=video_meta,\n",
    "    vis_format=VideoBlockFormat(video_meta=video_meta))"
   ]
  },
  {
   "cell_type": "code",
   "execution_count": 3,
   "metadata": {
    "ExecuteTime": {
     "end_time": "2019-07-05T17:18:11.182779Z",
     "start_time": "2019-07-05T17:18:11.129489Z"
    }
   },
   "outputs": [],
   "source": [
    "def get_fps_map(vids):\n",
    "    vs = Video.objects.filter(id__in=vids)\n",
    "    return {v.id: v.fps for v in vs}\n",
    "\n",
    "def frame_second_conversion(c, mode='f2s'):\n",
    "    fps_map = get_fps_map(set(c.get_grouped_intervals().keys()))\n",
    "    \n",
    "    def second_to_frame(fps):\n",
    "        def map_fn(intrvl):\n",
    "            i2 = intrvl.copy()\n",
    "            curr_bounds = intrvl['bounds'].copy()\n",
    "            curr_bounds['t1'] = int(curr_bounds['t1']*fps)\n",
    "            curr_bounds['t2'] = int(curr_bounds['t2']*fps)\n",
    "            i2['bounds'] = curr_bounds\n",
    "            return i2\n",
    "        return map_fn\n",
    "    \n",
    "    def frame_to_second(fps):\n",
    "        def map_fn(intrvl):\n",
    "            i2 = intrvl.copy()\n",
    "            curr_bounds = intrvl['bounds'].copy()\n",
    "            curr_bounds['t1'] = int(curr_bounds['t1']/fps)\n",
    "            curr_bounds['t2'] = int(curr_bounds['t2']/fps)\n",
    "            i2['bounds'] = curr_bounds\n",
    "            return i2\n",
    "        return map_fn\n",
    "    \n",
    "    if mode=='f2s':\n",
    "        fn = frame_to_second\n",
    "    if mode=='s2f':\n",
    "        fn = second_to_frame\n",
    "    output = {}\n",
    "    for vid, intervals in c.get_grouped_intervals().items():\n",
    "        output[vid] = intervals.map(fn(fps_map[vid]))\n",
    "    return IntervalSetMapping(output)\n",
    "\n",
    "def frame_to_second_collection(c):\n",
    "    return frame_second_conversion(c, 'f2s')\n",
    "\n",
    "def second_to_frame_collection(c):\n",
    "    return frame_second_conversion(c, 's2f')"
   ]
  },
  {
   "cell_type": "code",
   "execution_count": 4,
   "metadata": {
    "ExecuteTime": {
     "end_time": "2019-07-05T17:18:12.291829Z",
     "start_time": "2019-07-05T17:18:12.261183Z"
    }
   },
   "outputs": [],
   "source": [
    "gt_interviews_all = LabeledInterview.objects.all()"
   ]
  },
  {
   "cell_type": "code",
   "execution_count": 5,
   "metadata": {
    "ExecuteTime": {
     "end_time": "2019-07-05T17:18:14.023893Z",
     "start_time": "2019-07-05T17:18:13.981762Z"
    }
   },
   "outputs": [],
   "source": [
    "interviews_ism = ingest.ism_from_django_qs(\n",
    "    gt_interviews_all,\n",
    "    bounds_schema={ 't1': 'start', 't2': 'end' },\n",
    "    with_payload=lambda row: {\n",
    "        'original': row.original,\n",
    "        'guest1': row.guest1,\n",
    "        'guest2': row.guest2,\n",
    "        'interviewer1': row.interviewer1,\n",
    "        'interviewer2': row.interviewer2\n",
    "    }\n",
    ")"
   ]
  },
  {
   "cell_type": "code",
   "execution_count": 6,
   "metadata": {
    "ExecuteTime": {
     "end_time": "2019-07-05T17:18:14.509305Z",
     "start_time": "2019-07-05T17:18:14.476503Z"
    }
   },
   "outputs": [
    {
     "data": {
      "text/plain": [
       "{13058: [<Interval t1:1219.0 t2:1479.0 x1:0.0 x2:1.0 y1:0.0 y2:1.0 payload:{'guest1': None, 'original': True, 'guest2': None, 'interviewer1': None, 'interviewer2': None}>, <Interval t1:2344.0 t2:2692.0 x1:0.0 x2:1.0 y1:0.0 y2:1.0 payload:{'guest1': 'john mccain', 'original': True, 'guest2': 'lindsey graham', 'interviewer1': 'jake tapper', 'interviewer2': None}>], 4611: [<Interval t1:180.0 t2:975.0 x1:0.0 x2:1.0 y1:0.0 y2:1.0 payload:{'guest1': None, 'original': True, 'guest2': None, 'interviewer1': None, 'interviewer2': None}>, <Interval t1:1012.0 t2:1683.0 x1:0.0 x2:1.0 y1:0.0 y2:1.0 payload:{'guest1': 'kellyanne conway', 'original': True, 'guest2': None, 'interviewer1': 'jake tapper', 'interviewer2': None}>], 42756: [<Interval t1:112.0 t2:750.0 x1:0.0 x2:1.0 y1:0.0 y2:1.0 payload:{'guest1': None, 'original': True, 'guest2': None, 'interviewer1': None, 'interviewer2': None}>, <Interval t1:1020.0 t2:1675.0 x1:0.0 x2:1.0 y1:0.0 y2:1.0 payload:{'guest1': 'bernie sanders', 'original': True, 'guest2': None, 'interviewer1': 'jake tapper', 'interviewer2': None}>], 33541: [<Interval t1:101.0 t2:465.0 x1:0.0 x2:1.0 y1:0.0 y2:1.0 payload:{'guest1': None, 'original': True, 'guest2': None, 'interviewer1': None, 'interviewer2': None}>, <Interval t1:730.0 t2:740.0 x1:0.0 x2:1.0 y1:0.0 y2:1.0 payload:{'guest1': 'john mccain', 'original': False, 'guest2': None, 'interviewer1': 'tucker carlson', 'interviewer2': None}>, <Interval t1:762.0 t2:1101.0 x1:0.0 x2:1.0 y1:0.0 y2:1.0 payload:{'guest1': 'kellyanne conway', 'original': True, 'guest2': None, 'interviewer1': 'tucker carlson', 'interviewer2': None}>, <Interval t1:1354.0 t2:1604.0 x1:0.0 x2:1.0 y1:0.0 y2:1.0 payload:{'guest1': None, 'original': True, 'guest2': None, 'interviewer1': None, 'interviewer2': None}>, <Interval t1:1858.0 t2:2212.0 x1:0.0 x2:1.0 y1:0.0 y2:1.0 payload:{'guest1': None, 'original': True, 'guest2': None, 'interviewer1': None, 'interviewer2': None}>, <Interval t1:2551.0 t2:2725.0 x1:0.0 x2:1.0 y1:0.0 y2:1.0 payload:{'guest1': None, 'original': True, 'guest2': None, 'interviewer1': None, 'interviewer2': None}>, <Interval t1:2945.0 t2:3240.0 x1:0.0 x2:1.0 y1:0.0 y2:1.0 payload:{'guest1': None, 'original': True, 'guest2': None, 'interviewer1': None, 'interviewer2': None}>], 59398: [<Interval t1:805.0 t2:1240.0 x1:0.0 x2:1.0 y1:0.0 y2:1.0 payload:{'guest1': 'bernie sanders', 'original': True, 'guest2': None, 'interviewer1': 'rachel maddow', 'interviewer2': None}>, <Interval t1:1324.0 t2:1810.0 x1:0.0 x2:1.0 y1:0.0 y2:1.0 payload:{'guest1': 'bernie sanders', 'original': True, 'guest2': None, 'interviewer1': 'rachel maddow', 'interviewer2': None}>, <Interval t1:2039.0 t2:2085.0 x1:0.0 x2:1.0 y1:0.0 y2:1.0 payload:{'guest1': 'bernie sanders', 'original': True, 'guest2': None, 'interviewer1': 'rachel maddow', 'interviewer2': None}>, <Interval t1:2094.0 t2:2360.0 x1:0.0 x2:1.0 y1:0.0 y2:1.0 payload:{'guest1': None, 'original': True, 'guest2': None, 'interviewer1': None, 'interviewer2': None}>, <Interval t1:3280.0 t2:3290.0 x1:0.0 x2:1.0 y1:0.0 y2:1.0 payload:{'guest1': 'bernie sanders', 'original': True, 'guest2': None, 'interviewer1': 'rachel maddow', 'interviewer2': None}>], 24193: [<Interval t1:282.0 t2:592.0 x1:0.0 x2:1.0 y1:0.0 y2:1.0 payload:{'guest1': None, 'original': True, 'guest2': None, 'interviewer1': None, 'interviewer2': None}>, <Interval t1:1045.0 t2:1064.0 x1:0.0 x2:1.0 y1:0.0 y2:1.0 payload:{'guest1': 'bernie sanders', 'original': False, 'guest2': None, 'interviewer1': 'jake tapper', 'interviewer2': None}>, <Interval t1:2223.0 t2:2603.0 x1:0.0 x2:1.0 y1:0.0 y2:1.0 payload:{'guest1': None, 'original': True, 'guest2': None, 'interviewer1': None, 'interviewer2': None}>], 9480: [<Interval t1:560.0 t2:583.0 x1:0.0 x2:1.0 y1:0.0 y2:1.0 payload:{'guest1': 'bernie sanders', 'original': False, 'guest2': None, 'interviewer1': 'jake tapper', 'interviewer2': None}>], 40203: [<Interval t1:790.0 t2:793.0 x1:0.0 x2:1.0 y1:0.0 y2:1.0 payload:{'guest1': 'kellyanne conway', 'original': False, 'guest2': None, 'interviewer1': 'tucker carlson', 'interviewer2': None}>, <Interval t1:1059.0 t2:1238.0 x1:0.0 x2:1.0 y1:0.0 y2:1.0 payload:{'guest1': None, 'original': True, 'guest2': None, 'interviewer1': None, 'interviewer2': None}>, <Interval t1:1757.0 t2:1763.0 x1:0.0 x2:1.0 y1:0.0 y2:1.0 payload:{'guest1': 'kellyanne conway', 'original': False, 'guest2': None, 'interviewer1': 'tucker carlson', 'interviewer2': None}>, <Interval t1:2179.0 t2:2209.0 x1:0.0 x2:1.0 y1:0.0 y2:1.0 payload:{'guest1': 'kellyanne conway', 'original': False, 'guest2': None, 'interviewer1': 'tucker carlson', 'interviewer2': None}>, <Interval t1:4717.0 t2:4847.0 x1:0.0 x2:1.0 y1:0.0 y2:1.0 payload:{'guest1': None, 'original': True, 'guest2': None, 'interviewer1': None, 'interviewer2': None}>, <Interval t1:6856.0 t2:7007.0 x1:0.0 x2:1.0 y1:0.0 y2:1.0 payload:{'guest1': None, 'original': True, 'guest2': None, 'interviewer1': None, 'interviewer2': None}>, <Interval t1:7322.0 t2:8033.0 x1:0.0 x2:1.0 y1:0.0 y2:1.0 payload:{'guest1': 'kellyanne conway', 'original': True, 'guest2': None, 'interviewer1': 'tucker carlson', 'interviewer2': None}>], 48140: [<Interval t1:317.0 t2:571.0 x1:0.0 x2:1.0 y1:0.0 y2:1.0 payload:{'guest1': None, 'original': True, 'guest2': None, 'interviewer1': None, 'interviewer2': None}>, <Interval t1:665.0 t2:1012.0 x1:0.0 x2:1.0 y1:0.0 y2:1.0 payload:{'guest1': None, 'original': True, 'guest2': None, 'interviewer1': None, 'interviewer2': None}>, <Interval t1:1311.0 t2:1542.0 x1:0.0 x2:1.0 y1:0.0 y2:1.0 payload:{'guest1': None, 'original': True, 'guest2': None, 'interviewer1': None, 'interviewer2': None}>, <Interval t1:1396.0 t2:1415.0 x1:0.0 x2:1.0 y1:0.0 y2:1.0 payload:{'guest1': 'kellyanne conway', 'original': False, 'guest2': None, 'interviewer1': 'anderson cooper', 'interviewer2': None}>, <Interval t1:1863.0 t2:2198.0 x1:0.0 x2:1.0 y1:0.0 y2:1.0 payload:{'guest1': None, 'original': True, 'guest2': None, 'interviewer1': None, 'interviewer2': None}>, <Interval t1:2470.0 t2:2674.0 x1:0.0 x2:1.0 y1:0.0 y2:1.0 payload:{'guest1': None, 'original': True, 'guest2': None, 'interviewer1': None, 'interviewer2': None}>], 52749: [<Interval t1:1006.0 t2:1205.0 x1:0.0 x2:1.0 y1:0.0 y2:1.0 payload:{'guest1': None, 'original': True, 'guest2': None, 'interviewer1': None, 'interviewer2': None}>, <Interval t1:1231.0 t2:1477.0 x1:0.0 x2:1.0 y1:0.0 y2:1.0 payload:{'guest1': None, 'original': True, 'guest2': None, 'interviewer1': None, 'interviewer2': None}>, <Interval t1:2452.0 t2:2529.0 x1:0.0 x2:1.0 y1:0.0 y2:1.0 payload:{'guest1': None, 'original': True, 'guest2': None, 'interviewer1': None, 'interviewer2': None}>, <Interval t1:2633.0 t2:2813.0 x1:0.0 x2:1.0 y1:0.0 y2:1.0 payload:{'guest1': None, 'original': True, 'guest2': None, 'interviewer1': None, 'interviewer2': None}>, <Interval t1:3239.0 t2:3425.0 x1:0.0 x2:1.0 y1:0.0 y2:1.0 payload:{'guest1': None, 'original': True, 'guest2': None, 'interviewer1': None, 'interviewer2': None}>], 24847: [<Interval t1:325.0 t2:882.0 x1:0.0 x2:1.0 y1:0.0 y2:1.0 payload:{'guest1': None, 'original': True, 'guest2': None, 'interviewer1': None, 'interviewer2': None}>, <Interval t1:884.0 t2:1097.0 x1:0.0 x2:1.0 y1:0.0 y2:1.0 payload:{'guest1': None, 'original': True, 'guest2': None, 'interviewer1': None, 'interviewer2': None}>, <Interval t1:1375.0 t2:1642.0 x1:0.0 x2:1.0 y1:0.0 y2:1.0 payload:{'guest1': None, 'original': True, 'guest2': None, 'interviewer1': None, 'interviewer2': None}>, <Interval t1:1929.0 t2:2222.0 x1:0.0 x2:1.0 y1:0.0 y2:1.0 payload:{'guest1': None, 'original': True, 'guest2': None, 'interviewer1': None, 'interviewer2': None}>, <Interval t1:2529.0 t2:2836.0 x1:0.0 x2:1.0 y1:0.0 y2:1.0 payload:{'guest1': None, 'original': True, 'guest2': None, 'interviewer1': None, 'interviewer2': None}>, <Interval t1:3146.0 t2:3329.0 x1:0.0 x2:1.0 y1:0.0 y2:1.0 payload:{'guest1': None, 'original': True, 'guest2': None, 'interviewer1': None, 'interviewer2': None}>], 11792: [<Interval t1:71.0 t2:97.0 x1:0.0 x2:1.0 y1:0.0 y2:1.0 payload:{'guest1': 'john mccain', 'original': False, 'guest2': None, 'interviewer1': 'jake tapper', 'interviewer2': None}>, <Interval t1:336.0 t2:961.0 x1:0.0 x2:1.0 y1:0.0 y2:1.0 payload:{'guest1': None, 'original': True, 'guest2': None, 'interviewer1': None, 'interviewer2': None}>, <Interval t1:1013.0 t2:1078.0 x1:0.0 x2:1.0 y1:0.0 y2:1.0 payload:{'guest1': None, 'original': True, 'guest2': None, 'interviewer1': None, 'interviewer2': None}>, <Interval t1:1347.0 t2:1645.0 x1:0.0 x2:1.0 y1:0.0 y2:1.0 payload:{'guest1': None, 'original': True, 'guest2': None, 'interviewer1': None, 'interviewer2': None}>, <Interval t1:1882.0 t2:2150.0 x1:0.0 x2:1.0 y1:0.0 y2:1.0 payload:{'guest1': None, 'original': True, 'guest2': None, 'interviewer1': None, 'interviewer2': None}>, <Interval t1:2398.0 t2:2572.0 x1:0.0 x2:1.0 y1:0.0 y2:1.0 payload:{'guest1': None, 'original': True, 'guest2': None, 'interviewer1': None, 'interviewer2': None}>, <Interval t1:2805.0 t2:3087.0 x1:0.0 x2:1.0 y1:0.0 y2:1.0 payload:{'guest1': None, 'original': True, 'guest2': None, 'interviewer1': None, 'interviewer2': None}>], 529: [<Interval t1:142.0 t2:631.0 x1:0.0 x2:1.0 y1:0.0 y2:1.0 payload:{'guest1': None, 'original': True, 'guest2': None, 'interviewer1': None, 'interviewer2': None}>, <Interval t1:924.0 t2:1565.0 x1:0.0 x2:1.0 y1:0.0 y2:1.0 payload:{'guest1': 'kellyanne conway', 'original': True, 'guest2': None, 'interviewer1': 'jake tapper', 'interviewer2': None}>], 26386: [<Interval t1:186.0 t2:678.0 x1:0.0 x2:1.0 y1:0.0 y2:1.0 payload:{'guest1': None, 'original': True, 'guest2': None, 'interviewer1': None, 'interviewer2': None}>, <Interval t1:934.0 t2:1424.0 x1:0.0 x2:1.0 y1:0.0 y2:1.0 payload:{'guest1': None, 'original': True, 'guest2': None, 'interviewer1': None, 'interviewer2': None}>, <Interval t1:1709.0 t2:2164.0 x1:0.0 x2:1.0 y1:0.0 y2:1.0 payload:{'guest1': 'bernie sanders', 'original': True, 'guest2': None, 'interviewer1': 'jake tapper', 'interviewer2': None}>], 13827: [<Interval t1:1256.0 t2:1525.0 x1:0.0 x2:1.0 y1:0.0 y2:1.0 payload:{'guest1': None, 'original': True, 'guest2': None, 'interviewer1': None, 'interviewer2': None}>], 38420: [<Interval t1:2566.0 t2:2744.0 x1:0.0 x2:1.0 y1:0.0 y2:1.0 payload:{'guest1': None, 'original': True, 'guest2': None, 'interviewer1': None, 'interviewer2': None}>], 60186: [<Interval t1:230.0 t2:232.0 x1:0.0 x2:1.0 y1:0.0 y2:1.0 payload:{'guest1': 'john mccain', 'original': False, 'guest2': None, 'interviewer1': 'jake tapper', 'interviewer2': None}>, <Interval t1:968.0 t2:1507.0 x1:0.0 x2:1.0 y1:0.0 y2:1.0 payload:{'guest1': 'john mccain', 'original': True, 'guest2': None, 'interviewer1': 'jake tapper', 'interviewer2': None}>], 9499: [<Interval t1:2297.0 t2:2589.0 x1:0.0 x2:1.0 y1:0.0 y2:1.0 payload:{'guest1': None, 'original': True, 'guest2': None, 'interviewer1': None, 'interviewer2': None}>, <Interval t1:3880.0 t2:3890.0 x1:0.0 x2:1.0 y1:0.0 y2:1.0 payload:{'guest1': 'bernie sanders', 'original': False, 'guest2': None, 'interviewer1': 'jake tapper', 'interviewer2': None}>, <Interval t1:7440.0 t2:7770.0 x1:0.0 x2:1.0 y1:0.0 y2:1.0 payload:{'guest1': None, 'original': True, 'guest2': None, 'interviewer1': None, 'interviewer2': None}>, <Interval t1:8682.0 t2:9064.0 x1:0.0 x2:1.0 y1:0.0 y2:1.0 payload:{'guest1': None, 'original': True, 'guest2': None, 'interviewer1': None, 'interviewer2': None}>, <Interval t1:9698.0 t2:9953.0 x1:0.0 x2:1.0 y1:0.0 y2:1.0 payload:{'guest1': None, 'original': True, 'guest2': None, 'interviewer1': None, 'interviewer2': None}>], 8220: [<Interval t1:142.0 t2:648.0 x1:0.0 x2:1.0 y1:0.0 y2:1.0 payload:{'guest1': None, 'original': True, 'guest2': None, 'interviewer1': None, 'interviewer2': None}>, <Interval t1:947.0 t2:1481.0 x1:0.0 x2:1.0 y1:0.0 y2:1.0 payload:{'guest1': 'bernie sanders', 'original': True, 'guest2': None, 'interviewer1': 'jake tapper', 'interviewer2': None}>, <Interval t1:1766.0 t2:2286.0 x1:0.0 x2:1.0 y1:0.0 y2:1.0 payload:{'guest1': None, 'original': True, 'guest2': None, 'interviewer1': None, 'interviewer2': None}>], 11555: [<Interval t1:221.0 t2:235.0 x1:0.0 x2:1.0 y1:0.0 y2:1.0 payload:{'guest1': 'bernie sanders', 'original': False, 'guest2': None, 'interviewer1': 'jake tapper', 'interviewer2': None}>], 12837: [<Interval t1:128.0 t2:770.0 x1:0.0 x2:1.0 y1:0.0 y2:1.0 payload:{'guest1': 'bernie sanders', 'original': True, 'guest2': None, 'interviewer1': 'jake tapper', 'interviewer2': None}>, <Interval t1:1072.0 t2:1705.0 x1:0.0 x2:1.0 y1:0.0 y2:1.0 payload:{'guest1': None, 'original': True, 'guest2': None, 'interviewer1': None, 'interviewer2': None}>], 57384: [<Interval t1:52.0 t2:520.0 x1:0.0 x2:1.0 y1:0.0 y2:1.0 payload:{'guest1': None, 'original': True, 'guest2': None, 'interviewer1': None, 'interviewer2': None}>, <Interval t1:655.0 t2:920.0 x1:0.0 x2:1.0 y1:0.0 y2:1.0 payload:{'guest1': None, 'original': True, 'guest2': None, 'interviewer1': None, 'interviewer2': None}>, <Interval t1:1223.0 t2:1432.0 x1:0.0 x2:1.0 y1:0.0 y2:1.0 payload:{'guest1': None, 'original': True, 'guest2': None, 'interviewer1': None, 'interviewer2': None}>, <Interval t1:1694.0 t2:2090.0 x1:0.0 x2:1.0 y1:0.0 y2:1.0 payload:{'guest1': None, 'original': True, 'guest2': None, 'interviewer1': None, 'interviewer2': None}>, <Interval t1:2455.0 t2:2739.0 x1:0.0 x2:1.0 y1:0.0 y2:1.0 payload:{'guest1': None, 'original': True, 'guest2': None, 'interviewer1': None, 'interviewer2': None}>], 6185: [<Interval t1:362.0 t2:647.0 x1:0.0 x2:1.0 y1:0.0 y2:1.0 payload:{'guest1': None, 'original': True, 'guest2': None, 'interviewer1': None, 'interviewer2': None}>, <Interval t1:2344.0 t2:2599.0 x1:0.0 x2:1.0 y1:0.0 y2:1.0 payload:{'guest1': None, 'original': True, 'guest2': None, 'interviewer1': None, 'interviewer2': None}>], 15916: [<Interval t1:1607.0 t2:1611.0 x1:0.0 x2:1.0 y1:0.0 y2:1.0 payload:{'guest1': 'kellyanne conway', 'original': True, 'guest2': None, 'interviewer1': 'rachel maddow', 'interviewer2': None}>, <Interval t1:2298.0 t2:2336.0 x1:0.0 x2:1.0 y1:0.0 y2:1.0 payload:{'guest1': 'kellyanne conway', 'original': False, 'guest2': None, 'interviewer1': 'chris matthews', 'interviewer2': None}>, <Interval t1:2337.0 t2:2364.0 x1:0.0 x2:1.0 y1:0.0 y2:1.0 payload:{'guest1': 'kellyanne conway', 'original': False, 'guest2': None, 'interviewer1': 'rachel maddow', 'interviewer2': None}>, <Interval t1:2434.0 t2:2454.0 x1:0.0 x2:1.0 y1:0.0 y2:1.0 payload:{'guest1': 'kellyanne conway', 'original': False, 'guest2': None, 'interviewer1': 'rachel maddow', 'interviewer2': None}>], 37170: [<Interval t1:1156.0 t2:1492.0 x1:0.0 x2:1.0 y1:0.0 y2:1.0 payload:{'guest1': None, 'original': True, 'guest2': None, 'interviewer1': None, 'interviewer2': None}>, <Interval t1:2223.0 t2:2551.0 x1:0.0 x2:1.0 y1:0.0 y2:1.0 payload:{'guest1': None, 'original': True, 'guest2': None, 'interviewer1': None, 'interviewer2': None}>, <Interval t1:3290.0 t2:3435.0 x1:0.0 x2:1.0 y1:0.0 y2:1.0 payload:{'guest1': None, 'original': True, 'guest2': None, 'interviewer1': None, 'interviewer2': None}>], 4143: [<Interval t1:237.0 t2:855.0 x1:0.0 x2:1.0 y1:0.0 y2:1.0 payload:{'guest1': None, 'original': True, 'guest2': None, 'interviewer1': None, 'interviewer2': None}>, <Interval t1:1519.0 t2:1531.0 x1:0.0 x2:1.0 y1:0.0 y2:1.0 payload:{'guest1': 'kellyanne conway', 'original': False, 'guest2': None, 'interviewer1': 'chris cuomo', 'interviewer2': None}>, <Interval t1:3067.0 t2:3080.0 x1:0.0 x2:1.0 y1:0.0 y2:1.0 payload:{'guest1': 'john mccain', 'original': False, 'guest2': None, 'interviewer1': 'jake tapper', 'interviewer2': None}>], 41480: [<Interval t1:162.0 t2:171.0 x1:0.0 x2:1.0 y1:0.0 y2:1.0 payload:{'guest1': 'kellyanne conway', 'original': False, 'guest2': None, 'interviewer1': 'jake tapper', 'interviewer2': None}>, <Interval t1:338.0 t2:606.0 x1:0.0 x2:1.0 y1:0.0 y2:1.0 payload:{'guest1': None, 'original': True, 'guest2': None, 'interviewer1': None, 'interviewer2': None}>, <Interval t1:1214.0 t2:1223.0 x1:0.0 x2:1.0 y1:0.0 y2:1.0 payload:{'guest1': 'kellyanne conway', 'original': False, 'guest2': None, 'interviewer1': 'jake tapper', 'interviewer2': None}>, <Interval t1:1230.0 t2:1243.0 x1:0.0 x2:1.0 y1:0.0 y2:1.0 payload:{'guest1': 'kellyanne conway', 'original': False, 'guest2': None, 'interviewer1': 'jake tapper', 'interviewer2': None}>, <Interval t1:1244.0 t2:1501.0 x1:0.0 x2:1.0 y1:0.0 y2:1.0 payload:{'guest1': None, 'original': True, 'guest2': None, 'interviewer1': None, 'interviewer2': None}>, <Interval t1:1586.0 t2:1588.0 x1:0.0 x2:1.0 y1:0.0 y2:1.0 payload:{'guest1': 'john mccain', 'original': False, 'guest2': None, 'interviewer1': 'jake tapper', 'interviewer2': None}>, <Interval t1:2019.0 t2:2345.0 x1:0.0 x2:1.0 y1:0.0 y2:1.0 payload:{'guest1': None, 'original': True, 'guest2': None, 'interviewer1': None, 'interviewer2': None}>, <Interval t1:2380.0 t2:2385.0 x1:0.0 x2:1.0 y1:0.0 y2:1.0 payload:{'guest1': 'john mccain', 'original': False, 'guest2': None, 'interviewer1': 'jake tapper', 'interviewer2': None}>, <Interval t1:2973.0 t2:2978.0 x1:0.0 x2:1.0 y1:0.0 y2:1.0 payload:{'guest1': 'john mccain', 'original': False, 'guest2': None, 'interviewer1': 'jake tapper', 'interviewer2': None}>], 17458: [<Interval t1:50.0 t2:57.0 x1:0.0 x2:1.0 y1:0.0 y2:1.0 payload:{'guest1': 'john mccain', 'original': True, 'guest2': None, 'interviewer1': 'jake tapper', 'interviewer2': None}>, <Interval t1:127.0 t2:601.0 x1:0.0 x2:1.0 y1:0.0 y2:1.0 payload:{'guest1': 'john mccain', 'original': True, 'guest2': None, 'interviewer1': 'jake tapper', 'interviewer2': None}>, <Interval t1:3147.0 t2:3160.0 x1:0.0 x2:1.0 y1:0.0 y2:1.0 payload:{'guest1': 'kellyanne conway', 'original': False, 'guest2': None, 'interviewer1': 'jake tapper', 'interviewer2': None}>], 27188: [<Interval t1:2151.0 t2:2318.0 x1:0.0 x2:1.0 y1:0.0 y2:1.0 payload:{'guest1': None, 'original': True, 'guest2': None, 'interviewer1': None, 'interviewer2': None}>], 16693: [<Interval t1:170.0 t2:221.0 x1:0.0 x2:1.0 y1:0.0 y2:1.0 payload:{'guest1': 'kellyanne conway', 'original': False, 'guest2': None, 'interviewer1': 'tucker carlson', 'interviewer2': None}>, <Interval t1:1995.0 t2:2040.0 x1:0.0 x2:1.0 y1:0.0 y2:1.0 payload:{'guest1': 'kellyanne conway', 'original': False, 'guest2': None, 'interviewer1': 'tucker carlson', 'interviewer2': None}>, <Interval t1:3649.0 t2:3653.0 x1:0.0 x2:1.0 y1:0.0 y2:1.0 payload:{'guest1': 'kellyanne conway', 'original': False, 'guest2': None, 'interviewer1': 'tucker carlson', 'interviewer2': None}>], 34359: [<Interval t1:569.0 t2:808.0 x1:0.0 x2:1.0 y1:0.0 y2:1.0 payload:{'guest1': None, 'original': True, 'guest2': None, 'interviewer1': None, 'interviewer2': None}>, <Interval t1:1364.0 t2:1777.0 x1:0.0 x2:1.0 y1:0.0 y2:1.0 payload:{'guest1': None, 'original': True, 'guest2': None, 'interviewer1': None, 'interviewer2': None}>, <Interval t1:3465.0 t2:3607.0 x1:0.0 x2:1.0 y1:0.0 y2:1.0 payload:{'guest1': None, 'original': True, 'guest2': None, 'interviewer1': None, 'interviewer2': None}>], 11579: [<Interval t1:68.0 t2:458.0 x1:0.0 x2:1.0 y1:0.0 y2:1.0 payload:{'guest1': None, 'original': True, 'guest2': None, 'interviewer1': None, 'interviewer2': None}>, <Interval t1:768.0 t2:1038.0 x1:0.0 x2:1.0 y1:0.0 y2:1.0 payload:{'guest1': None, 'original': True, 'guest2': None, 'interviewer1': None, 'interviewer2': None}>, <Interval t1:1300.0 t2:1554.0 x1:0.0 x2:1.0 y1:0.0 y2:1.0 payload:{'guest1': None, 'original': True, 'guest2': None, 'interviewer1': None, 'interviewer2': None}>, <Interval t1:1802.0 t2:2141.0 x1:0.0 x2:1.0 y1:0.0 y2:1.0 payload:{'guest1': None, 'original': True, 'guest2': None, 'interviewer1': None, 'interviewer2': None}>, <Interval t1:2437.0 t2:2704.0 x1:0.0 x2:1.0 y1:0.0 y2:1.0 payload:{'guest1': None, 'original': True, 'guest2': None, 'interviewer1': None, 'interviewer2': None}>, <Interval t1:3015.0 t2:3258.0 x1:0.0 x2:1.0 y1:0.0 y2:1.0 payload:{'guest1': None, 'original': True, 'guest2': None, 'interviewer1': None, 'interviewer2': None}>], 17983: [<Interval t1:3151.0 t2:3392.0 x1:0.0 x2:1.0 y1:0.0 y2:1.0 payload:{'guest1': None, 'original': True, 'guest2': None, 'interviewer1': None, 'interviewer2': None}>], 49931: [<Interval t1:52.0 t2:545.0 x1:0.0 x2:1.0 y1:0.0 y2:1.0 payload:{'guest1': None, 'original': True, 'guest2': None, 'interviewer1': None, 'interviewer2': None}>, <Interval t1:709.0 t2:932.0 x1:0.0 x2:1.0 y1:0.0 y2:1.0 payload:{'guest1': None, 'original': True, 'guest2': None, 'interviewer1': None, 'interviewer2': None}>, <Interval t1:1217.0 t2:1501.0 x1:0.0 x2:1.0 y1:0.0 y2:1.0 payload:{'guest1': None, 'original': True, 'guest2': None, 'interviewer1': None, 'interviewer2': None}>, <Interval t1:1761.0 t2:2194.0 x1:0.0 x2:1.0 y1:0.0 y2:1.0 payload:{'guest1': None, 'original': True, 'guest2': None, 'interviewer1': None, 'interviewer2': None}>, <Interval t1:2568.0 t2:2790.0 x1:0.0 x2:1.0 y1:0.0 y2:1.0 payload:{'guest1': None, 'original': True, 'guest2': None, 'interviewer1': None, 'interviewer2': None}>], 29001: [<Interval t1:1087.0 t2:1353.0 x1:0.0 x2:1.0 y1:0.0 y2:1.0 payload:{'guest1': None, 'original': True, 'guest2': None, 'interviewer1': None, 'interviewer2': None}>, <Interval t1:2998.0 t2:3105.0 x1:0.0 x2:1.0 y1:0.0 y2:1.0 payload:{'guest1': None, 'original': True, 'guest2': None, 'interviewer1': None, 'interviewer2': None}>], 45645: [<Interval t1:363.0 t2:665.0 x1:0.0 x2:1.0 y1:0.0 y2:1.0 payload:{'guest1': None, 'original': True, 'guest2': None, 'interviewer1': None, 'interviewer2': None}>], 34642: [<Interval t1:816.0 t2:876.0 x1:0.0 x2:1.0 y1:0.0 y2:1.0 payload:{'guest1': 'john mccain', 'original': False, 'guest2': 'kelly ayotte', 'interviewer1': 'rachel maddow', 'interviewer2': None}>, <Interval t1:890.0 t2:908.0 x1:0.0 x2:1.0 y1:0.0 y2:1.0 payload:{'guest1': 'john mccain', 'original': False, 'guest2': None, 'interviewer1': 'sean hannity', 'interviewer2': None}>, <Interval t1:1411.0 t2:1592.0 x1:0.0 x2:1.0 y1:0.0 y2:1.0 payload:{'guest1': None, 'original': True, 'guest2': None, 'interviewer1': None, 'interviewer2': None}>, <Interval t1:2597.0 t2:3220.0 x1:0.0 x2:1.0 y1:0.0 y2:1.0 payload:{'guest1': 'bernie sanders', 'original': True, 'guest2': None, 'interviewer1': 'rachel maddow', 'interviewer2': None}>], 10323: [<Interval t1:60.0 t2:632.0 x1:0.0 x2:1.0 y1:0.0 y2:1.0 payload:{'guest1': None, 'original': True, 'guest2': None, 'interviewer1': None, 'interviewer2': None}>, <Interval t1:1047.0 t2:1266.0 x1:0.0 x2:1.0 y1:0.0 y2:1.0 payload:{'guest1': None, 'original': True, 'guest2': None, 'interviewer1': None, 'interviewer2': None}>, <Interval t1:1331.0 t2:1517.0 x1:0.0 x2:1.0 y1:0.0 y2:1.0 payload:{'guest1': None, 'original': True, 'guest2': None, 'interviewer1': None, 'interviewer2': None}>, <Interval t1:1818.0 t2:2168.0 x1:0.0 x2:1.0 y1:0.0 y2:1.0 payload:{'guest1': None, 'original': True, 'guest2': None, 'interviewer1': None, 'interviewer2': None}>, <Interval t1:2468.0 t2:2668.0 x1:0.0 x2:1.0 y1:0.0 y2:1.0 payload:{'guest1': None, 'original': True, 'guest2': None, 'interviewer1': None, 'interviewer2': None}>, <Interval t1:2940.0 t2:3204.0 x1:0.0 x2:1.0 y1:0.0 y2:1.0 payload:{'guest1': None, 'original': True, 'guest2': None, 'interviewer1': None, 'interviewer2': None}>], 13141: [<Interval t1:174.0 t2:891.0 x1:0.0 x2:1.0 y1:0.0 y2:1.0 payload:{'guest1': None, 'original': True, 'guest2': None, 'interviewer1': None, 'interviewer2': None}>, <Interval t1:1170.0 t2:1692.0 x1:0.0 x2:1.0 y1:0.0 y2:1.0 payload:{'guest1': 'bernie sanders', 'original': True, 'guest2': None, 'interviewer1': 'jake tapper', 'interviewer2': None}>, <Interval t1:2005.0 t2:2686.0 x1:0.0 x2:1.0 y1:0.0 y2:1.0 payload:{'guest1': None, 'original': True, 'guest2': None, 'interviewer1': None, 'interviewer2': None}>, <Interval t1:3003.0 t2:3312.0 x1:0.0 x2:1.0 y1:0.0 y2:1.0 payload:{'guest1': None, 'original': True, 'guest2': None, 'interviewer1': None, 'interviewer2': None}>], 16215: [<Interval t1:219.0 t2:239.0 x1:0.0 x2:1.0 y1:0.0 y2:1.0 payload:{'guest1': 'bernie sanders', 'original': False, 'guest2': None, 'interviewer1': 'rachel maddow', 'interviewer2': None}>], 2648: [<Interval t1:615.0 t2:733.0 x1:0.0 x2:1.0 y1:0.0 y2:1.0 payload:{'guest1': None, 'original': True, 'guest2': None, 'interviewer1': None, 'interviewer2': None}>, <Interval t1:1033.0 t2:1240.0 x1:0.0 x2:1.0 y1:0.0 y2:1.0 payload:{'guest1': None, 'original': True, 'guest2': None, 'interviewer1': None, 'interviewer2': None}>, <Interval t1:1674.0 t2:1725.0 x1:0.0 x2:1.0 y1:0.0 y2:1.0 payload:{'guest1': 'bernie sanders', 'original': False, 'guest2': None, 'interviewer1': 'jake tapper', 'interviewer2': None}>, <Interval t1:1801.0 t2:1820.0 x1:0.0 x2:1.0 y1:0.0 y2:1.0 payload:{'guest1': 'bernie sanders', 'original': False, 'guest2': None, 'interviewer1': 'jake tapper', 'interviewer2': None}>, <Interval t1:2220.0 t2:2464.0 x1:0.0 x2:1.0 y1:0.0 y2:1.0 payload:{'guest1': None, 'original': True, 'guest2': None, 'interviewer1': None, 'interviewer2': None}>, <Interval t1:4208.0 t2:4383.0 x1:0.0 x2:1.0 y1:0.0 y2:1.0 payload:{'guest1': None, 'original': True, 'guest2': None, 'interviewer1': None, 'interviewer2': None}>, <Interval t1:4793.0 t2:4923.0 x1:0.0 x2:1.0 y1:0.0 y2:1.0 payload:{'guest1': None, 'original': True, 'guest2': None, 'interviewer1': None, 'interviewer2': None}>, <Interval t1:6303.0 t2:6600.0 x1:0.0 x2:1.0 y1:0.0 y2:1.0 payload:{'guest1': None, 'original': True, 'guest2': None, 'interviewer1': None, 'interviewer2': None}>], 7262: [<Interval t1:297.0 t2:457.0 x1:0.0 x2:1.0 y1:0.0 y2:1.0 payload:{'guest1': None, 'original': True, 'guest2': None, 'interviewer1': None, 'interviewer2': None}>, <Interval t1:1077.0 t2:1430.0 x1:0.0 x2:1.0 y1:0.0 y2:1.0 payload:{'guest1': None, 'original': True, 'guest2': None, 'interviewer1': None, 'interviewer2': None}>, <Interval t1:1703.0 t2:1905.0 x1:0.0 x2:1.0 y1:0.0 y2:1.0 payload:{'guest1': None, 'original': True, 'guest2': None, 'interviewer1': None, 'interviewer2': None}>, <Interval t1:1988.0 t2:2257.0 x1:0.0 x2:1.0 y1:0.0 y2:1.0 payload:{'guest1': None, 'original': True, 'guest2': None, 'interviewer1': None, 'interviewer2': None}>, <Interval t1:2570.0 t2:2732.0 x1:0.0 x2:1.0 y1:0.0 y2:1.0 payload:{'guest1': None, 'original': True, 'guest2': None, 'interviewer1': None, 'interviewer2': None}>], 10335: [<Interval t1:1070.0 t2:1082.0 x1:0.0 x2:1.0 y1:0.0 y2:1.0 payload:{'guest1': 'bernie sanders', 'original': False, 'guest2': None, 'interviewer1': 'jake tapper', 'interviewer2': None}>, <Interval t1:1357.0 t2:1365.0 x1:0.0 x2:1.0 y1:0.0 y2:1.0 payload:{'guest1': 'bernie sanders', 'original': False, 'guest2': None, 'interviewer1': 'jake tapper', 'interviewer2': None}>, <Interval t1:1543.0 t2:1560.0 x1:0.0 x2:1.0 y1:0.0 y2:1.0 payload:{'guest1': 'bernie sanders', 'original': False, 'guest2': None, 'interviewer1': 'jake tapper', 'interviewer2': None}>, <Interval t1:3276.0 t2:3570.0 x1:0.0 x2:1.0 y1:0.0 y2:1.0 payload:{'guest1': None, 'original': True, 'guest2': None, 'interviewer1': None, 'interviewer2': None}>, <Interval t1:4449.0 t2:4460.0 x1:0.0 x2:1.0 y1:0.0 y2:1.0 payload:{'guest1': 'bernie sanders', 'original': False, 'guest2': None, 'interviewer1': 'jake tapper', 'interviewer2': None}>, <Interval t1:5082.0 t2:5404.0 x1:0.0 x2:1.0 y1:0.0 y2:1.0 payload:{'guest1': None, 'original': True, 'guest2': None, 'interviewer1': None, 'interviewer2': None}>, <Interval t1:6815.0 t2:6831.0 x1:0.0 x2:1.0 y1:0.0 y2:1.0 payload:{'guest1': 'bernie sanders', 'original': False, 'guest2': None, 'interviewer1': 'jake tapper', 'interviewer2': None}>, <Interval t1:6836.0 t2:7116.0 x1:0.0 x2:1.0 y1:0.0 y2:1.0 payload:{'guest1': None, 'original': True, 'guest2': None, 'interviewer1': None, 'interviewer2': None}>, <Interval t1:7430.0 t2:7869.0 x1:0.0 x2:1.0 y1:0.0 y2:1.0 payload:{'guest1': None, 'original': True, 'guest2': None, 'interviewer1': None, 'interviewer2': None}>, <Interval t1:8016.0 t2:8026.0 x1:0.0 x2:1.0 y1:0.0 y2:1.0 payload:{'guest1': 'bernie sanders', 'original': False, 'guest2': None, 'interviewer1': 'jake tapper', 'interviewer2': None}>, <Interval t1:8509.0 t2:8519.0 x1:0.0 x2:1.0 y1:0.0 y2:1.0 payload:{'guest1': 'bernie sanders', 'original': False, 'guest2': None, 'interviewer1': 'jake tapper', 'interviewer2': None}>, <Interval t1:9066.0 t2:9430.0 x1:0.0 x2:1.0 y1:0.0 y2:1.0 payload:{'guest1': None, 'original': True, 'guest2': None, 'interviewer1': None, 'interviewer2': None}>, <Interval t1:10204.0 t2:10532.0 x1:0.0 x2:1.0 y1:0.0 y2:1.0 payload:{'guest1': None, 'original': True, 'guest2': None, 'interviewer1': None, 'interviewer2': None}>], 38275: [<Interval t1:150.0 t2:648.0 x1:0.0 x2:1.0 y1:0.0 y2:1.0 payload:{'guest1': None, 'original': True, 'guest2': None, 'interviewer1': None, 'interviewer2': None}>, <Interval t1:937.0 t2:1318.0 x1:0.0 x2:1.0 y1:0.0 y2:1.0 payload:{'guest1': None, 'original': True, 'guest2': None, 'interviewer1': None, 'interviewer2': None}>, <Interval t1:1634.0 t2:2105.0 x1:0.0 x2:1.0 y1:0.0 y2:1.0 payload:{'guest1': 'bernie sanders', 'original': True, 'guest2': None, 'interviewer1': 'jake tapper', 'interviewer2': None}>], 13927: [<Interval t1:480.0 t2:720.0 x1:0.0 x2:1.0 y1:0.0 y2:1.0 payload:{'guest1': None, 'original': True, 'guest2': None, 'interviewer1': None, 'interviewer2': None}>, <Interval t1:954.0 t2:1213.0 x1:0.0 x2:1.0 y1:0.0 y2:1.0 payload:{'guest1': None, 'original': True, 'guest2': None, 'interviewer1': None, 'interviewer2': None}>, <Interval t1:1733.0 t2:1737.0 x1:0.0 x2:1.0 y1:0.0 y2:1.0 payload:{'guest1': 'kellyanne conway', 'original': False, 'guest2': None, 'interviewer1': 'rachel maddow', 'interviewer2': None}>, <Interval t1:2536.0 t2:2717.0 x1:0.0 x2:1.0 y1:0.0 y2:1.0 payload:{'guest1': None, 'original': True, 'guest2': None, 'interviewer1': None, 'interviewer2': None}>, <Interval t1:2917.0 t2:2960.0 x1:0.0 x2:1.0 y1:0.0 y2:1.0 payload:{'guest1': 'kellyanne conway', 'original': False, 'guest2': None, 'interviewer1': 'rachel maddow', 'interviewer2': None}>, <Interval t1:2962.0 t2:3485.0 x1:0.0 x2:1.0 y1:0.0 y2:1.0 payload:{'guest1': None, 'original': True, 'guest2': None, 'interviewer1': None, 'interviewer2': None}>], 54377: [<Interval t1:72.0 t2:801.0 x1:0.0 x2:1.0 y1:0.0 y2:1.0 payload:{'guest1': 'bernie sanders', 'original': True, 'guest2': None, 'interviewer1': 'rachel maddow', 'interviewer2': None}>, <Interval t1:1010.0 t2:1723.0 x1:0.0 x2:1.0 y1:0.0 y2:1.0 payload:{'guest1': 'bernie sanders', 'original': True, 'guest2': None, 'interviewer1': 'rachel maddow', 'interviewer2': None}>, <Interval t1:2183.0 t2:2388.0 x1:0.0 x2:1.0 y1:0.0 y2:1.0 payload:{'guest1': None, 'original': True, 'guest2': None, 'interviewer1': None, 'interviewer2': None}>], 52075: [<Interval t1:726.0 t2:786.0 x1:0.0 x2:1.0 y1:0.0 y2:1.0 payload:{'guest1': 'bernie sanders', 'original': False, 'guest2': None, 'interviewer1': 'rachel maddow', 'interviewer2': None}>, <Interval t1:820.0 t2:823.0 x1:0.0 x2:1.0 y1:0.0 y2:1.0 payload:{'guest1': 'bernie sanders', 'original': False, 'guest2': None, 'interviewer1': 'rachel maddow', 'interviewer2': None}>, <Interval t1:1038.0 t2:1360.0 x1:0.0 x2:1.0 y1:0.0 y2:1.0 payload:{'guest1': 'bernie sanders', 'original': True, 'guest2': None, 'interviewer1': 'rachel maddow', 'interviewer2': None}>, <Interval t1:2674.0 t2:2915.0 x1:0.0 x2:1.0 y1:0.0 y2:1.0 payload:{'guest1': None, 'original': True, 'guest2': None, 'interviewer1': None, 'interviewer2': None}>], 57708: [<Interval t1:1202.0 t2:1714.0 x1:0.0 x2:1.0 y1:0.0 y2:1.0 payload:{'guest1': None, 'original': True, 'guest2': None, 'interviewer1': None, 'interviewer2': None}>, <Interval t1:2873.0 t2:3146.0 x1:0.0 x2:1.0 y1:0.0 y2:1.0 payload:{'guest1': None, 'original': True, 'guest2': None, 'interviewer1': None, 'interviewer2': None}>], 14482: [<Interval t1:913.0 t2:972.0 x1:0.0 x2:1.0 y1:0.0 y2:1.0 payload:{'guest1': 'kellyanne conway', 'original': False, 'guest2': None, 'interviewer1': 'charlie rose', 'interviewer2': None}>, <Interval t1:1398.0 t2:1445.0 x1:0.0 x2:1.0 y1:0.0 y2:1.0 payload:{'guest1': 'kellyanne conway', 'original': False, 'guest2': None, 'interviewer1': 'rachel maddow', 'interviewer2': None}>, <Interval t1:1924.0 t2:2106.0 x1:0.0 x2:1.0 y1:0.0 y2:1.0 payload:{'guest1': None, 'original': True, 'guest2': None, 'interviewer1': None, 'interviewer2': None}>, <Interval t1:2830.0 t2:3136.0 x1:0.0 x2:1.0 y1:0.0 y2:1.0 payload:{'guest1': None, 'original': True, 'guest2': None, 'interviewer1': None, 'interviewer2': None}>], 3952: [<Interval t1:132.0 t2:824.0 x1:0.0 x2:1.0 y1:0.0 y2:1.0 payload:{'guest1': 'kellyanne conway', 'original': True, 'guest2': None, 'interviewer1': 'jake tapper', 'interviewer2': None}>], 25463: [<Interval t1:893.0 t2:1163.0 x1:0.0 x2:1.0 y1:0.0 y2:1.0 payload:{'guest1': None, 'original': True, 'guest2': None, 'interviewer1': None, 'interviewer2': None}>, <Interval t1:1555.0 t2:1906.0 x1:0.0 x2:1.0 y1:0.0 y2:1.0 payload:{'guest1': None, 'original': True, 'guest2': None, 'interviewer1': None, 'interviewer2': None}>, <Interval t1:3387.0 t2:3601.0 x1:0.0 x2:1.0 y1:0.0 y2:1.0 payload:{'guest1': None, 'original': True, 'guest2': None, 'interviewer1': None, 'interviewer2': None}>], 27410: [<Interval t1:220.0 t2:773.0 x1:0.0 x2:1.0 y1:0.0 y2:1.0 payload:{'guest1': None, 'original': True, 'guest2': None, 'interviewer1': None, 'interviewer2': None}>, <Interval t1:1044.0 t2:1412.0 x1:0.0 x2:1.0 y1:0.0 y2:1.0 payload:{'guest1': None, 'original': True, 'guest2': None, 'interviewer1': None, 'interviewer2': None}>, <Interval t1:1708.0 t2:1952.0 x1:0.0 x2:1.0 y1:0.0 y2:1.0 payload:{'guest1': None, 'original': True, 'guest2': None, 'interviewer1': None, 'interviewer2': None}>], 50561: [<Interval t1:301.0 t2:579.0 x1:0.0 x2:1.0 y1:0.0 y2:1.0 payload:{'guest1': None, 'original': True, 'guest2': None, 'interviewer1': None, 'interviewer2': None}>], 45698: [<Interval t1:1268.0 t2:1557.0 x1:0.0 x2:1.0 y1:0.0 y2:1.0 payload:{'guest1': None, 'original': True, 'guest2': None, 'interviewer1': None, 'interviewer2': None}>, <Interval t1:2579.0 t2:2784.0 x1:0.0 x2:1.0 y1:0.0 y2:1.0 payload:{'guest1': None, 'original': True, 'guest2': None, 'interviewer1': None, 'interviewer2': None}>], 3459: [<Interval t1:1989.0 t2:2326.0 x1:0.0 x2:1.0 y1:0.0 y2:1.0 payload:{'guest1': None, 'original': True, 'guest2': None, 'interviewer1': None, 'interviewer2': None}>, <Interval t1:2801.0 t2:3093.0 x1:0.0 x2:1.0 y1:0.0 y2:1.0 payload:{'guest1': None, 'original': True, 'guest2': None, 'interviewer1': None, 'interviewer2': None}>], 57990: [<Interval t1:2982.0 t2:3141.0 x1:0.0 x2:1.0 y1:0.0 y2:1.0 payload:{'guest1': None, 'original': True, 'guest2': None, 'interviewer1': None, 'interviewer2': None}>], 23181: [<Interval t1:427.0 t2:942.0 x1:0.0 x2:1.0 y1:0.0 y2:1.0 payload:{'guest1': None, 'original': True, 'guest2': None, 'interviewer1': None, 'interviewer2': None}>, <Interval t1:479.0 t2:504.0 x1:0.0 x2:1.0 y1:0.0 y2:1.0 payload:{'guest1': 'john mccain', 'original': False, 'guest2': None, 'interviewer1': 'jake tapper', 'interviewer2': None}>, <Interval t1:1323.0 t2:1682.0 x1:0.0 x2:1.0 y1:0.0 y2:1.0 payload:{'guest1': None, 'original': True, 'guest2': None, 'interviewer1': None, 'interviewer2': None}>, <Interval t1:2294.0 t2:2732.0 x1:0.0 x2:1.0 y1:0.0 y2:1.0 payload:{'guest1': None, 'original': True, 'guest2': None, 'interviewer1': None, 'interviewer2': None}>, <Interval t1:3000.0 t2:3371.0 x1:0.0 x2:1.0 y1:0.0 y2:1.0 payload:{'guest1': None, 'original': True, 'guest2': None, 'interviewer1': None, 'interviewer2': None}>], 23184: [<Interval t1:327.0 t2:375.0 x1:0.0 x2:1.0 y1:0.0 y2:1.0 payload:{'guest1': 'kellyanne conway', 'original': False, 'guest2': None, 'interviewer1': 'jake tapper', 'interviewer2': None}>, <Interval t1:392.0 t2:410.0 x1:0.0 x2:1.0 y1:0.0 y2:1.0 payload:{'guest1': 'john mccain', 'original': False, 'guest2': None, 'interviewer1': 'jake tapper', 'interviewer2': None}>, <Interval t1:1301.0 t2:1927.0 x1:0.0 x2:1.0 y1:0.0 y2:1.0 payload:{'guest1': None, 'original': True, 'guest2': None, 'interviewer1': None, 'interviewer2': None}>, <Interval t1:3651.0 t2:3660.0 x1:0.0 x2:1.0 y1:0.0 y2:1.0 payload:{'guest1': 'kellyanne conway', 'original': False, 'guest2': None, 'interviewer1': 'jake tapper', 'interviewer2': None}>], 3730: [<Interval t1:968.0 t2:1216.0 x1:0.0 x2:1.0 y1:0.0 y2:1.0 payload:{'guest1': None, 'original': True, 'guest2': None, 'interviewer1': None, 'interviewer2': None}>, <Interval t1:2757.0 t2:2992.0 x1:0.0 x2:1.0 y1:0.0 y2:1.0 payload:{'guest1': None, 'original': True, 'guest2': None, 'interviewer1': None, 'interviewer2': None}>, <Interval t1:3223.0 t2:3407.0 x1:0.0 x2:1.0 y1:0.0 y2:1.0 payload:{'guest1': None, 'original': True, 'guest2': None, 'interviewer1': None, 'interviewer2': None}>, <Interval t1:4546.0 t2:4746.0 x1:0.0 x2:1.0 y1:0.0 y2:1.0 payload:{'guest1': None, 'original': True, 'guest2': None, 'interviewer1': None, 'interviewer2': None}>, <Interval t1:5918.0 t2:6078.0 x1:0.0 x2:1.0 y1:0.0 y2:1.0 payload:{'guest1': None, 'original': True, 'guest2': None, 'interviewer1': None, 'interviewer2': None}>, <Interval t1:6376.0 t2:6539.0 x1:0.0 x2:1.0 y1:0.0 y2:1.0 payload:{'guest1': None, 'original': True, 'guest2': None, 'interviewer1': None, 'interviewer2': None}>, <Interval t1:6824.0 t2:6966.0 x1:0.0 x2:1.0 y1:0.0 y2:1.0 payload:{'guest1': None, 'original': True, 'guest2': None, 'interviewer1': None, 'interviewer2': None}>, <Interval t1:7395.0 t2:7973.0 x1:0.0 x2:1.0 y1:0.0 y2:1.0 payload:{'guest1': None, 'original': True, 'guest2': None, 'interviewer1': None, 'interviewer2': None}>, <Interval t1:8201.0 t2:8472.0 x1:0.0 x2:1.0 y1:0.0 y2:1.0 payload:{'guest1': None, 'original': True, 'guest2': None, 'interviewer1': None, 'interviewer2': None}>, <Interval t1:8729.0 t2:8867.0 x1:0.0 x2:1.0 y1:0.0 y2:1.0 payload:{'guest1': None, 'original': True, 'guest2': None, 'interviewer1': None, 'interviewer2': None}>, <Interval t1:9543.0 t2:9730.0 x1:0.0 x2:1.0 y1:0.0 y2:1.0 payload:{'guest1': None, 'original': True, 'guest2': None, 'interviewer1': None, 'interviewer2': None}>, <Interval t1:9981.0 t2:10174.0 x1:0.0 x2:1.0 y1:0.0 y2:1.0 payload:{'guest1': None, 'original': True, 'guest2': None, 'interviewer1': None, 'interviewer2': None}>, <Interval t1:10426.0 t2:10613.0 x1:0.0 x2:1.0 y1:0.0 y2:1.0 payload:{'guest1': None, 'original': True, 'guest2': None, 'interviewer1': None, 'interviewer2': None}>, <Interval t1:11789.0 t2:11972.0 x1:0.0 x2:1.0 y1:0.0 y2:1.0 payload:{'guest1': None, 'original': True, 'guest2': None, 'interviewer1': None, 'interviewer2': None}>, <Interval t1:12256.0 t2:12430.0 x1:0.0 x2:1.0 y1:0.0 y2:1.0 payload:{'guest1': None, 'original': True, 'guest2': None, 'interviewer1': None, 'interviewer2': None}>, <Interval t1:13468.0 t2:13718.0 x1:0.0 x2:1.0 y1:0.0 y2:1.0 payload:{'guest1': 'john mccain', 'original': True, 'guest2': None, 'interviewer1': 'tucker carlson', 'interviewer2': None}>, <Interval t1:13990.0 t2:14098.0 x1:0.0 x2:1.0 y1:0.0 y2:1.0 payload:{'guest1': None, 'original': True, 'guest2': None, 'interviewer1': None, 'interviewer2': None}>], 36755: [<Interval t1:444.0 t2:461.0 x1:0.0 x2:1.0 y1:0.0 y2:1.0 payload:{'guest1': 'bernie sanders', 'original': False, 'guest2': None, 'interviewer1': 'jake tapper', 'interviewer2': None}>, <Interval t1:1171.0 t2:1450.0 x1:0.0 x2:1.0 y1:0.0 y2:1.0 payload:{'guest1': None, 'original': True, 'guest2': None, 'interviewer1': None, 'interviewer2': None}>, <Interval t1:1918.0 t2:2145.0 x1:0.0 x2:1.0 y1:0.0 y2:1.0 payload:{'guest1': None, 'original': True, 'guest2': None, 'interviewer1': None, 'interviewer2': None}>, <Interval t1:3031.0 t2:3326.0 x1:0.0 x2:1.0 y1:0.0 y2:1.0 payload:{'guest1': None, 'original': True, 'guest2': None, 'interviewer1': None, 'interviewer2': None}>], 53355: [<Interval t1:930.0 t2:1211.0 x1:0.0 x2:1.0 y1:0.0 y2:1.0 payload:{'guest1': None, 'original': True, 'guest2': None, 'interviewer1': None, 'interviewer2': None}>], 8859: [<Interval t1:166.0 t2:888.0 x1:0.0 x2:1.0 y1:0.0 y2:1.0 payload:{'guest1': None, 'original': True, 'guest2': None, 'interviewer1': None, 'interviewer2': None}>, <Interval t1:933.0 t2:1884.0 x1:0.0 x2:1.0 y1:0.0 y2:1.0 payload:{'guest1': 'kellyanne conway', 'original': True, 'guest2': None, 'interviewer1': 'jake tapper', 'interviewer2': None}>, <Interval t1:1920.0 t2:2324.0 x1:0.0 x2:1.0 y1:0.0 y2:1.0 payload:{'guest1': None, 'original': True, 'guest2': None, 'interviewer1': None, 'interviewer2': None}>], 20380: [<Interval t1:2031.0 t2:2286.0 x1:0.0 x2:1.0 y1:0.0 y2:1.0 payload:{'guest1': None, 'original': True, 'guest2': None, 'interviewer1': None, 'interviewer2': None}>, <Interval t1:2832.0 t2:3141.0 x1:0.0 x2:1.0 y1:0.0 y2:1.0 payload:{'guest1': None, 'original': True, 'guest2': None, 'interviewer1': None, 'interviewer2': None}>], 16542: [<Interval t1:361.0 t2:1883.0 x1:0.0 x2:1.0 y1:0.0 y2:1.0 payload:{'guest1': 'kellyanne conway', 'original': True, 'guest2': None, 'interviewer1': 'jake tapper', 'interviewer2': None}>], 55711: [<Interval t1:1840.0 t2:2016.0 x1:0.0 x2:1.0 y1:0.0 y2:1.0 payload:{'guest1': None, 'original': True, 'guest2': None, 'interviewer1': None, 'interviewer2': None}>, <Interval t1:3166.0 t2:3354.0 x1:0.0 x2:1.0 y1:0.0 y2:1.0 payload:{'guest1': None, 'original': True, 'guest2': None, 'interviewer1': None, 'interviewer2': None}>], 24992: [<Interval t1:155.0 t2:721.0 x1:0.0 x2:1.0 y1:0.0 y2:1.0 payload:{'guest1': 'john mccain', 'original': True, 'guest2': None, 'interviewer1': 'jake tapper', 'interviewer2': None}>, <Interval t1:774.0 t2:1198.0 x1:0.0 x2:1.0 y1:0.0 y2:1.0 payload:{'guest1': None, 'original': True, 'guest2': None, 'interviewer1': None, 'interviewer2': None}>, <Interval t1:1520.0 t2:2115.0 x1:0.0 x2:1.0 y1:0.0 y2:1.0 payload:{'guest1': None, 'original': True, 'guest2': None, 'interviewer1': None, 'interviewer2': None}>], 5281: [<Interval t1:176.0 t2:812.0 x1:0.0 x2:1.0 y1:0.0 y2:1.0 payload:{'guest1': None, 'original': True, 'guest2': None, 'interviewer1': None, 'interviewer2': None}>, <Interval t1:1095.0 t2:1676.0 x1:0.0 x2:1.0 y1:0.0 y2:1.0 payload:{'guest1': 'bernie sanders', 'original': True, 'guest2': None, 'interviewer1': 'jake tapper', 'interviewer2': None}>], 33387: [<Interval t1:1034.0 t2:1328.0 x1:0.0 x2:1.0 y1:0.0 y2:1.0 payload:{'guest1': None, 'original': True, 'guest2': None, 'interviewer1': None, 'interviewer2': None}>, <Interval t1:2732.0 t2:2747.0 x1:0.0 x2:1.0 y1:0.0 y2:1.0 payload:{'guest1': 'bernie sanders', 'original': False, 'guest2': None, 'interviewer1': 'rachel maddow', 'interviewer2': None}>, <Interval t1:3076.0 t2:3286.0 x1:0.0 x2:1.0 y1:0.0 y2:1.0 payload:{'guest1': None, 'original': True, 'guest2': None, 'interviewer1': None, 'interviewer2': None}>], 13993: [<Interval t1:303.0 t2:321.0 x1:0.0 x2:1.0 y1:0.0 y2:1.0 payload:{'guest1': 'john mccain', 'original': False, 'guest2': None, 'interviewer1': 'jake tapper', 'interviewer2': None}>, <Interval t1:2004.0 t2:2364.0 x1:0.0 x2:1.0 y1:0.0 y2:1.0 payload:{'guest1': None, 'original': True, 'guest2': None, 'interviewer1': None, 'interviewer2': None}>, <Interval t1:2681.0 t2:3169.0 x1:0.0 x2:1.0 y1:0.0 y2:1.0 payload:{'guest1': None, 'original': True, 'guest2': None, 'interviewer1': None, 'interviewer2': None}>], 19882: [<Interval t1:3094.0 t2:3308.0 x1:0.0 x2:1.0 y1:0.0 y2:1.0 payload:{'guest1': None, 'original': True, 'guest2': None, 'interviewer1': None, 'interviewer2': None}>], 9901: [<Interval t1:1935.0 t2:2236.0 x1:0.0 x2:1.0 y1:0.0 y2:1.0 payload:{'guest1': None, 'original': True, 'guest2': None, 'interviewer1': None, 'interviewer2': None}>, <Interval t1:2699.0 t2:3030.0 x1:0.0 x2:1.0 y1:0.0 y2:1.0 payload:{'guest1': 'bernie sanders', 'original': True, 'guest2': None, 'interviewer1': 'rachel maddow', 'interviewer2': 'brian williams'}>], 53684: [<Interval t1:207.0 t2:562.0 x1:0.0 x2:1.0 y1:0.0 y2:1.0 payload:{'guest1': None, 'original': True, 'guest2': None, 'interviewer1': None, 'interviewer2': None}>, <Interval t1:587.0 t2:856.0 x1:0.0 x2:1.0 y1:0.0 y2:1.0 payload:{'guest1': None, 'original': True, 'guest2': None, 'interviewer1': None, 'interviewer2': None}>, <Interval t1:1118.0 t2:1463.0 x1:0.0 x2:1.0 y1:0.0 y2:1.0 payload:{'guest1': None, 'original': True, 'guest2': None, 'interviewer1': None, 'interviewer2': None}>, <Interval t1:1707.0 t2:1959.0 x1:0.0 x2:1.0 y1:0.0 y2:1.0 payload:{'guest1': None, 'original': True, 'guest2': None, 'interviewer1': None, 'interviewer2': None}>, <Interval t1:1981.0 t2:2148.0 x1:0.0 x2:1.0 y1:0.0 y2:1.0 payload:{'guest1': None, 'original': True, 'guest2': None, 'interviewer1': None, 'interviewer2': None}>, <Interval t1:2462.0 t2:2728.0 x1:0.0 x2:1.0 y1:0.0 y2:1.0 payload:{'guest1': None, 'original': True, 'guest2': None, 'interviewer1': None, 'interviewer2': None}>, <Interval t1:3043.0 t2:3323.0 x1:0.0 x2:1.0 y1:0.0 y2:1.0 payload:{'guest1': None, 'original': True, 'guest2': None, 'interviewer1': None, 'interviewer2': None}>], 3769: [<Interval t1:145.0 t2:862.0 x1:0.0 x2:1.0 y1:0.0 y2:1.0 payload:{'guest1': None, 'original': True, 'guest2': None, 'interviewer1': None, 'interviewer2': None}>, <Interval t1:911.0 t2:1574.0 x1:0.0 x2:1.0 y1:0.0 y2:1.0 payload:{'guest1': None, 'original': True, 'guest2': None, 'interviewer1': None, 'interviewer2': None}>, <Interval t1:1605.0 t2:1980.0 x1:0.0 x2:1.0 y1:0.0 y2:1.0 payload:{'guest1': None, 'original': True, 'guest2': None, 'interviewer1': None, 'interviewer2': None}>, <Interval t1:1990.0 t2:2468.0 x1:0.0 x2:1.0 y1:0.0 y2:1.0 payload:{'guest1': None, 'original': True, 'guest2': None, 'interviewer1': None, 'interviewer2': None}>, <Interval t1:2503.0 t2:2974.0 x1:0.0 x2:1.0 y1:0.0 y2:1.0 payload:{'guest1': 'bernie sanders', 'original': True, 'guest2': None, 'interviewer1': 'jake tapper', 'interviewer2': None}>], 50164: [<Interval t1:218.0 t2:587.0 x1:0.0 x2:1.0 y1:0.0 y2:1.0 payload:{'guest1': 'bernie sanders', 'original': True, 'guest2': None, 'interviewer1': 'rachel maddow', 'interviewer2': None}>, <Interval t1:721.0 t2:960.0 x1:0.0 x2:1.0 y1:0.0 y2:1.0 payload:{'guest1': 'bernie sanders', 'original': True, 'guest2': None, 'interviewer1': 'rachel maddow', 'interviewer2': None}>, <Interval t1:1314.0 t2:1920.0 x1:0.0 x2:1.0 y1:0.0 y2:1.0 payload:{'guest1': 'bernie sanders', 'original': True, 'guest2': None, 'interviewer1': 'rachel maddow', 'interviewer2': None}>, <Interval t1:1953.0 t2:1961.0 x1:0.0 x2:1.0 y1:0.0 y2:1.0 payload:{'guest1': 'bernie sanders', 'original': True, 'guest2': None, 'interviewer1': 'rachel maddow', 'interviewer2': None}>, <Interval t1:2305.0 t2:2451.0 x1:0.0 x2:1.0 y1:0.0 y2:1.0 payload:{'guest1': 'bernie sanders', 'original': True, 'guest2': None, 'interviewer1': 'rachel maddow', 'interviewer2': None}>, <Interval t1:2583.0 t2:3163.0 x1:0.0 x2:1.0 y1:0.0 y2:1.0 payload:{'guest1': 'bernie sanders', 'original': True, 'guest2': None, 'interviewer1': 'rachel maddow', 'interviewer2': None}>, <Interval t1:3455.0 t2:3618.0 x1:0.0 x2:1.0 y1:0.0 y2:1.0 payload:{'guest1': 'bernie sanders', 'original': True, 'guest2': None, 'interviewer1': 'rachel maddow', 'interviewer2': None}>], 13247: [<Interval t1:1403.0 t2:1669.0 x1:0.0 x2:1.0 y1:0.0 y2:1.0 payload:{'guest1': None, 'original': True, 'guest2': None, 'interviewer1': None, 'interviewer2': None}>, <Interval t1:2978.0 t2:3163.0 x1:0.0 x2:1.0 y1:0.0 y2:1.0 payload:{'guest1': None, 'original': True, 'guest2': None, 'interviewer1': None, 'interviewer2': None}>], 45472: [<Interval t1:97.0 t2:605.0 x1:0.0 x2:1.0 y1:0.0 y2:1.0 payload:{'guest1': None, 'original': True, 'guest2': None, 'interviewer1': None, 'interviewer2': None}>, <Interval t1:222.0 t2:243.0 x1:0.0 x2:1.0 y1:0.0 y2:1.0 payload:{'guest1': 'kellyanne conway', 'original': False, 'guest2': None, 'interviewer1': 'tucker carlson', 'interviewer2': None}>, <Interval t1:945.0 t2:1272.0 x1:0.0 x2:1.0 y1:0.0 y2:1.0 payload:{'guest1': None, 'original': True, 'guest2': None, 'interviewer1': None, 'interviewer2': None}>], 45655: [<Interval t1:1128.0 t2:1236.0 x1:0.0 x2:1.0 y1:0.0 y2:1.0 payload:{'guest1': None, 'original': True, 'guest2': None, 'interviewer1': None, 'interviewer2': None}>, <Interval t1:1243.0 t2:1392.0 x1:0.0 x2:1.0 y1:0.0 y2:1.0 payload:{'guest1': None, 'original': True, 'guest2': None, 'interviewer1': None, 'interviewer2': None}>, <Interval t1:1401.0 t2:1523.0 x1:0.0 x2:1.0 y1:0.0 y2:1.0 payload:{'guest1': None, 'original': True, 'guest2': None, 'interviewer1': None, 'interviewer2': None}>, <Interval t1:1999.0 t2:2028.0 x1:0.0 x2:1.0 y1:0.0 y2:1.0 payload:{'guest1': 'bernie sanders', 'original': False, 'guest2': None, 'interviewer1': 'jake tapper', 'interviewer2': None}>], 57804: [<Interval t1:1126.0 t2:1336.0 x1:0.0 x2:1.0 y1:0.0 y2:1.0 payload:{'guest1': None, 'original': True, 'guest2': None, 'interviewer1': None, 'interviewer2': None}>, <Interval t1:2853.0 t2:3106.0 x1:0.0 x2:1.0 y1:0.0 y2:1.0 payload:{'guest1': None, 'original': True, 'guest2': None, 'interviewer1': None, 'interviewer2': None}>], 52945: [<Interval t1:150.0 t2:765.0 x1:0.0 x2:1.0 y1:0.0 y2:1.0 payload:{'guest1': 'bernie sanders', 'original': True, 'guest2': None, 'interviewer1': 'jake tapper', 'interviewer2': None}>, <Interval t1:777.0 t2:1017.0 x1:0.0 x2:1.0 y1:0.0 y2:1.0 payload:{'guest1': None, 'original': True, 'guest2': None, 'interviewer1': None, 'interviewer2': None}>, <Interval t1:1086.0 t2:1426.0 x1:0.0 x2:1.0 y1:0.0 y2:1.0 payload:{'guest1': None, 'original': True, 'guest2': None, 'interviewer1': None, 'interviewer2': None}>, <Interval t1:1715.0 t2:2091.0 x1:0.0 x2:1.0 y1:0.0 y2:1.0 payload:{'guest1': None, 'original': True, 'guest2': None, 'interviewer1': None, 'interviewer2': None}>], 8697: [<Interval t1:686.0 t2:905.0 x1:0.0 x2:1.0 y1:0.0 y2:1.0 payload:{'guest1': None, 'original': True, 'guest2': None, 'interviewer1': None, 'interviewer2': None}>, <Interval t1:2233.0 t2:2263.0 x1:0.0 x2:1.0 y1:0.0 y2:1.0 payload:{'guest1': None, 'original': True, 'guest2': None, 'interviewer1': None, 'interviewer2': None}>, <Interval t1:3281.0 t2:3600.0 x1:0.0 x2:1.0 y1:0.0 y2:1.0 payload:{'guest1': None, 'original': True, 'guest2': None, 'interviewer1': None, 'interviewer2': None}>], 32472: [<Interval t1:181.0 t2:202.0 x1:0.0 x2:1.0 y1:0.0 y2:1.0 payload:{'guest1': 'john mccain', 'original': False, 'guest2': None, 'interviewer1': 'jake tapper', 'interviewer2': None}>, <Interval t1:357.0 t2:696.0 x1:0.0 x2:1.0 y1:0.0 y2:1.0 payload:{'guest1': None, 'original': True, 'guest2': None, 'interviewer1': None, 'interviewer2': None}>, <Interval t1:704.0 t2:1005.0 x1:0.0 x2:1.0 y1:0.0 y2:1.0 payload:{'guest1': None, 'original': True, 'guest2': None, 'interviewer1': None, 'interviewer2': None}>, <Interval t1:1465.0 t2:1477.0 x1:0.0 x2:1.0 y1:0.0 y2:1.0 payload:{'guest1': 'kellyanne conway', 'original': True, 'guest2': None, 'interviewer1': 'jake tapper', 'interviewer2': None}>, <Interval t1:1855.0 t2:1869.0 x1:0.0 x2:1.0 y1:0.0 y2:1.0 payload:{'guest1': 'john mccain', 'original': False, 'guest2': None, 'interviewer1': 'jake tapper', 'interviewer2': None}>, <Interval t1:2542.0 t2:2782.0 x1:0.0 x2:1.0 y1:0.0 y2:1.0 payload:{'guest1': None, 'original': True, 'guest2': None, 'interviewer1': None, 'interviewer2': None}>, <Interval t1:3040.0 t2:3294.0 x1:0.0 x2:1.0 y1:0.0 y2:1.0 payload:{'guest1': None, 'original': True, 'guest2': None, 'interviewer1': None, 'interviewer2': None}>], 20450: [<Interval t1:238.0 t2:681.0 x1:0.0 x2:1.0 y1:0.0 y2:1.0 payload:{'guest1': None, 'original': True, 'guest2': None, 'interviewer1': None, 'interviewer2': None}>, <Interval t1:685.0 t2:828.0 x1:0.0 x2:1.0 y1:0.0 y2:1.0 payload:{'guest1': None, 'original': True, 'guest2': None, 'interviewer1': None, 'interviewer2': None}>, <Interval t1:1128.0 t2:1373.0 x1:0.0 x2:1.0 y1:0.0 y2:1.0 payload:{'guest1': None, 'original': True, 'guest2': None, 'interviewer1': None, 'interviewer2': None}>, <Interval t1:2541.0 t2:2760.0 x1:0.0 x2:1.0 y1:0.0 y2:1.0 payload:{'guest1': None, 'original': True, 'guest2': None, 'interviewer1': None, 'interviewer2': None}>, <Interval t1:3098.0 t2:3285.0 x1:0.0 x2:1.0 y1:0.0 y2:1.0 payload:{'guest1': None, 'original': True, 'guest2': None, 'interviewer1': None, 'interviewer2': None}>], 763: [<Interval t1:142.0 t2:711.0 x1:0.0 x2:1.0 y1:0.0 y2:1.0 payload:{'guest1': 'bernie sanders', 'original': True, 'guest2': None, 'interviewer1': 'jake tapper', 'interviewer2': None}>, <Interval t1:1131.0 t2:1484.0 x1:0.0 x2:1.0 y1:0.0 y2:1.0 payload:{'guest1': None, 'original': True, 'guest2': None, 'interviewer1': None, 'interviewer2': None}>, <Interval t1:3164.0 t2:3350.0 x1:0.0 x2:1.0 y1:0.0 y2:1.0 payload:{'guest1': None, 'original': True, 'guest2': None, 'interviewer1': None, 'interviewer2': None}>], 32996: [<Interval t1:208.0 t2:832.0 x1:0.0 x2:1.0 y1:0.0 y2:1.0 payload:{'guest1': 'john mccain', 'original': True, 'guest2': None, 'interviewer1': 'jake tapper', 'interviewer2': None}>, <Interval t1:1178.0 t2:1574.0 x1:0.0 x2:1.0 y1:0.0 y2:1.0 payload:{'guest1': None, 'original': True, 'guest2': None, 'interviewer1': None, 'interviewer2': None}>], 51175: [<Interval t1:2036.0 t2:2203.0 x1:0.0 x2:1.0 y1:0.0 y2:1.0 payload:{'guest1': None, 'original': True, 'guest2': None, 'interviewer1': None, 'interviewer2': None}>, <Interval t1:2958.0 t2:3212.0 x1:0.0 x2:1.0 y1:0.0 y2:1.0 payload:{'guest1': None, 'original': True, 'guest2': None, 'interviewer1': None, 'interviewer2': None}>], 33004: [<Interval t1:1132.0 t2:1538.0 x1:0.0 x2:1.0 y1:0.0 y2:1.0 payload:{'guest1': 'bernie sanders', 'original': True, 'guest2': None, 'interviewer1': 'rachel maddow', 'interviewer2': None}>, <Interval t1:1771.0 t2:1859.0 x1:0.0 x2:1.0 y1:0.0 y2:1.0 payload:{'guest1': 'bernie sanders', 'original': True, 'guest2': None, 'interviewer1': 'rachel maddow', 'interviewer2': None}>, <Interval t1:3366.0 t2:3580.0 x1:0.0 x2:1.0 y1:0.0 y2:1.0 payload:{'guest1': None, 'original': True, 'guest2': None, 'interviewer1': None, 'interviewer2': None}>], 16879: [<Interval t1:724.0 t2:939.0 x1:0.0 x2:1.0 y1:0.0 y2:1.0 payload:{'guest1': None, 'original': True, 'guest2': None, 'interviewer1': None, 'interviewer2': None}>, <Interval t1:3209.0 t2:3607.0 x1:0.0 x2:1.0 y1:0.0 y2:1.0 payload:{'guest1': None, 'original': True, 'guest2': None, 'interviewer1': None, 'interviewer2': None}>], 59122: [<Interval t1:397.0 t2:767.0 x1:0.0 x2:1.0 y1:0.0 y2:1.0 payload:{'guest1': 'bernie sanders', 'original': True, 'guest2': None, 'interviewer1': 'jake tapper', 'interviewer2': None}>, <Interval t1:1040.0 t2:1386.0 x1:0.0 x2:1.0 y1:0.0 y2:1.0 payload:{'guest1': 'bernie sanders', 'original': True, 'guest2': None, 'interviewer1': 'jake tapper', 'interviewer2': None}>, <Interval t1:1685.0 t2:2078.0 x1:0.0 x2:1.0 y1:0.0 y2:1.0 payload:{'guest1': None, 'original': True, 'guest2': None, 'interviewer1': None, 'interviewer2': None}>], 37107: [<Interval t1:89.0 t2:462.0 x1:0.0 x2:1.0 y1:0.0 y2:1.0 payload:{'guest1': None, 'original': True, 'guest2': None, 'interviewer1': None, 'interviewer2': None}>, <Interval t1:658.0 t2:940.0 x1:0.0 x2:1.0 y1:0.0 y2:1.0 payload:{'guest1': None, 'original': True, 'guest2': None, 'interviewer1': None, 'interviewer2': None}>, <Interval t1:2607.0 t2:2854.0 x1:0.0 x2:1.0 y1:0.0 y2:1.0 payload:{'guest1': None, 'original': True, 'guest2': None, 'interviewer1': None, 'interviewer2': None}>, <Interval t1:3068.0 t2:3309.0 x1:0.0 x2:1.0 y1:0.0 y2:1.0 payload:{'guest1': None, 'original': True, 'guest2': None, 'interviewer1': None, 'interviewer2': None}>], 13556: [<Interval t1:735.0 t2:775.0 x1:0.0 x2:1.0 y1:0.0 y2:1.0 payload:{'guest1': None, 'original': True, 'guest2': None, 'interviewer1': None, 'interviewer2': None}>, <Interval t1:1192.0 t2:1287.0 x1:0.0 x2:1.0 y1:0.0 y2:1.0 payload:{'guest1': 'kellyanne conway', 'original': False, 'guest2': None, 'interviewer1': 'jake tapper', 'interviewer2': None}>], 31378: [<Interval t1:332.0 t2:703.0 x1:0.0 x2:1.0 y1:0.0 y2:1.0 payload:{'guest1': None, 'original': True, 'guest2': None, 'interviewer1': None, 'interviewer2': None}>, <Interval t1:1095.0 t2:1389.0 x1:0.0 x2:1.0 y1:0.0 y2:1.0 payload:{'guest1': None, 'original': True, 'guest2': None, 'interviewer1': None, 'interviewer2': None}>], 19959: [<Interval t1:34.0 t2:1165.0 x1:0.0 x2:1.0 y1:0.0 y2:1.0 payload:{'guest1': 'kellyanne conway', 'original': True, 'guest2': None, 'interviewer1': 'rachel maddow', 'interviewer2': None}>, <Interval t1:1388.0 t2:2123.0 x1:0.0 x2:1.0 y1:0.0 y2:1.0 payload:{'guest1': 'kellyanne conway', 'original': True, 'guest2': None, 'interviewer1': 'rachel maddow', 'interviewer2': None}>, <Interval t1:2346.0 t2:2726.0 x1:0.0 x2:1.0 y1:0.0 y2:1.0 payload:{'guest1': 'kellyanne conway', 'original': True, 'guest2': None, 'interviewer1': 'rachel maddow', 'interviewer2': None}>], 57592: [<Interval t1:862.0 t2:2382.0 x1:0.0 x2:1.0 y1:0.0 y2:1.0 payload:{'guest1': 'kellyanne conway', 'original': False, 'guest2': None, 'interviewer1': 'jake tapper', 'interviewer2': None}>, <Interval t1:3821.0 t2:4006.0 x1:0.0 x2:1.0 y1:0.0 y2:1.0 payload:{'guest1': None, 'original': True, 'guest2': None, 'interviewer1': None, 'interviewer2': None}>], 37113: [<Interval t1:2173.0 t2:2556.0 x1:0.0 x2:1.0 y1:0.0 y2:1.0 payload:{'guest1': None, 'original': True, 'guest2': None, 'interviewer1': None, 'interviewer2': None}>, <Interval t1:3664.0 t2:3666.0 x1:0.0 x2:1.0 y1:0.0 y2:1.0 payload:{'guest1': 'bernie sanders', 'original': False, 'guest2': None, 'interviewer1': 'jake tapper', 'interviewer2': None}>, <Interval t1:4279.0 t2:4482.0 x1:0.0 x2:1.0 y1:0.0 y2:1.0 payload:{'guest1': None, 'original': True, 'guest2': None, 'interviewer1': None, 'interviewer2': None}>, <Interval t1:6690.0 t2:6863.0 x1:0.0 x2:1.0 y1:0.0 y2:1.0 payload:{'guest1': None, 'original': True, 'guest2': None, 'interviewer1': None, 'interviewer2': None}>], 11003: [<Interval t1:269.0 t2:621.0 x1:0.0 x2:1.0 y1:0.0 y2:1.0 payload:{'guest1': None, 'original': True, 'guest2': None, 'interviewer1': None, 'interviewer2': None}>, <Interval t1:897.0 t2:1430.0 x1:0.0 x2:1.0 y1:0.0 y2:1.0 payload:{'guest1': 'john mccain', 'original': True, 'guest2': None, 'interviewer1': 'jake tapper', 'interviewer2': None}>, <Interval t1:1733.0 t2:2194.0 x1:0.0 x2:1.0 y1:0.0 y2:1.0 payload:{'guest1': None, 'original': True, 'guest2': None, 'interviewer1': None, 'interviewer2': None}>], 41725: [<Interval t1:239.0 t2:655.0 x1:0.0 x2:1.0 y1:0.0 y2:1.0 payload:{'guest1': None, 'original': True, 'guest2': None, 'interviewer1': None, 'interviewer2': None}>, <Interval t1:662.0 t2:913.0 x1:0.0 x2:1.0 y1:0.0 y2:1.0 payload:{'guest1': None, 'original': True, 'guest2': None, 'interviewer1': None, 'interviewer2': None}>, <Interval t1:1193.0 t2:1285.0 x1:0.0 x2:1.0 y1:0.0 y2:1.0 payload:{'guest1': 'kellyanne conway', 'original': False, 'guest2': None, 'interviewer1': 'chris cuomo', 'interviewer2': None}>, <Interval t1:1384.0 t2:1624.0 x1:0.0 x2:1.0 y1:0.0 y2:1.0 payload:{'guest1': None, 'original': True, 'guest2': None, 'interviewer1': None, 'interviewer2': None}>, <Interval t1:1933.0 t2:2293.0 x1:0.0 x2:1.0 y1:0.0 y2:1.0 payload:{'guest1': None, 'original': True, 'guest2': None, 'interviewer1': None, 'interviewer2': None}>, <Interval t1:2614.0 t2:2849.0 x1:0.0 x2:1.0 y1:0.0 y2:1.0 payload:{'guest1': None, 'original': True, 'guest2': None, 'interviewer1': None, 'interviewer2': None}>], 9215: [<Interval t1:866.0 t2:1123.0 x1:0.0 x2:1.0 y1:0.0 y2:1.0 payload:{'guest1': None, 'original': True, 'guest2': None, 'interviewer1': None, 'interviewer2': None}>, <Interval t1:1354.0 t2:1497.0 x1:0.0 x2:1.0 y1:0.0 y2:1.0 payload:{'guest1': None, 'original': True, 'guest2': None, 'interviewer1': None, 'interviewer2': None}>, <Interval t1:1948.0 t2:2350.0 x1:0.0 x2:1.0 y1:0.0 y2:1.0 payload:{'guest1': None, 'original': True, 'guest2': None, 'interviewer1': None, 'interviewer2': None}>, <Interval t1:3322.0 t2:3533.0 x1:0.0 x2:1.0 y1:0.0 y2:1.0 payload:{'guest1': None, 'original': True, 'guest2': None, 'interviewer1': None, 'interviewer2': None}>]}"
      ]
     },
     "execution_count": 6,
     "metadata": {},
     "output_type": "execute_result"
    }
   ],
   "source": [
    "interviews_ism"
   ]
  },
  {
   "cell_type": "code",
   "execution_count": 7,
   "metadata": {
    "ExecuteTime": {
     "end_time": "2019-07-05T17:18:16.707714Z",
     "start_time": "2019-07-05T17:18:16.679921Z"
    }
   },
   "outputs": [],
   "source": [
    "video_ids = sorted(list(interviews_ism.get_grouped_intervals().keys()))"
   ]
  },
  {
   "cell_type": "code",
   "execution_count": 8,
   "metadata": {
    "ExecuteTime": {
     "end_time": "2019-07-05T17:18:17.696747Z",
     "start_time": "2019-07-05T17:18:17.668692Z"
    }
   },
   "outputs": [
    {
     "name": "stdout",
     "output_type": "stream",
     "text": [
      "hi\n"
     ]
    }
   ],
   "source": [
    "print('hi')"
   ]
  },
  {
   "cell_type": "code",
   "execution_count": 9,
   "metadata": {
    "ExecuteTime": {
     "end_time": "2019-07-05T17:18:25.471016Z",
     "start_time": "2019-07-05T17:18:25.436715Z"
    }
   },
   "outputs": [],
   "source": [
    "jake_qs = FaceIdentity.objects.filter(\n",
    "    identity__name='jake tapper',\n",
    "    face__frame__video_id__in=video_ids\n",
    ").annotate(\n",
    "    min_frame=F('face__frame__number'),\n",
    "    max_frame=F('face__frame__number'),\n",
    "    video_id=F('face__frame__video_id'),\n",
    "    bbox_x1=F('face__bbox_x1'),\n",
    "    bbox_y1=F('face__bbox_y1'),\n",
    "    bbox_x2=F('face__bbox_x2'),\n",
    "    bbox_y2=F('face__bbox_y2'),\n",
    "    fps=F('face__frame__video__fps')\n",
    ")"
   ]
  },
  {
   "cell_type": "code",
   "execution_count": 10,
   "metadata": {
    "ExecuteTime": {
     "end_time": "2019-07-05T17:19:11.473198Z",
     "start_time": "2019-07-05T17:18:26.064119Z"
    }
   },
   "outputs": [],
   "source": [
    "jake_intervals = ingest.ism_from_django_qs(\n",
    "    jake_qs,\n",
    "    bounds_schema={\n",
    "        't1': 'min_frame',\n",
    "        't2': 'max_frame',\n",
    "        'x1': 'bbox_x1',\n",
    "        'x2': 'bbox_x2',\n",
    "        'y1': 'bbox_y1',\n",
    "        'y2': 'bbox_y2',\n",
    "        'payload': 'fps'\n",
    "    }\n",
    ").filter(lambda intrvl: (intrvl['t1'] % math.floor(intrvl['payload'] * 3)) == 0)"
   ]
  },
  {
   "cell_type": "code",
   "execution_count": 11,
   "metadata": {
    "ExecuteTime": {
     "end_time": "2019-07-05T17:19:17.696194Z",
     "start_time": "2019-07-05T17:19:17.666680Z"
    }
   },
   "outputs": [
    {
     "data": {
      "text/plain": [
       "dict_keys([50561, 13058, 4611, 42756, 24193, 41480, 38275, 23181, 24847, 23184, 529, 26386, 13827, 38420, 60186, 9499, 8220, 16542, 45472, 5281, 11555, 12837, 2648, 13993, 19882, 15916, 37170, 4143, 9480, 17458, 27188, 34359, 3769, 17983, 24992, 8859, 29001, 57804, 45645, 52945, 13141, 45655, 32472, 10335, 11792, 11003, 32996, 53355, 51175, 52075, 16879, 3952, 59122, 36755, 13556, 6185, 57592, 763, 41725, 9215])"
      ]
     },
     "execution_count": 11,
     "metadata": {},
     "output_type": "execute_result"
    }
   ],
   "source": [
    "jake_intervals.get_grouped_intervals().keys()"
   ]
  },
  {
   "cell_type": "code",
   "execution_count": 12,
   "metadata": {
    "ExecuteTime": {
     "end_time": "2019-07-05T17:19:18.886622Z",
     "start_time": "2019-07-05T17:19:18.853755Z"
    }
   },
   "outputs": [],
   "source": [
    "bernie_qs = FaceIdentity.objects.filter(\n",
    "    identity__name='bernie sanders',\n",
    "    face__frame__video_id__in=video_ids\n",
    ").annotate(\n",
    "    min_frame=F('face__frame__number'),\n",
    "    max_frame=F('face__frame__number'),\n",
    "    video_id=F('face__frame__video_id'),\n",
    "    bbox_x1=F('face__bbox_x1'),\n",
    "    bbox_y1=F('face__bbox_y1'),\n",
    "    bbox_x2=F('face__bbox_x2'),\n",
    "    bbox_y2=F('face__bbox_y2'),\n",
    "    fps=F('face__frame__video__fps')\n",
    ")"
   ]
  },
  {
   "cell_type": "code",
   "execution_count": 13,
   "metadata": {
    "ExecuteTime": {
     "end_time": "2019-07-05T17:20:04.370969Z",
     "start_time": "2019-07-05T17:19:19.623294Z"
    }
   },
   "outputs": [],
   "source": [
    "bernie_intervals = ingest.ism_from_django_qs(\n",
    "    bernie_qs,\n",
    "    bounds_schema={\n",
    "        't1': 'min_frame',\n",
    "        't2': 'max_frame',\n",
    "        'x1': 'bbox_x1',\n",
    "        'x2': 'bbox_x2',\n",
    "        'y1': 'bbox_y1',\n",
    "        'y2': 'bbox_y2',\n",
    "        'payload': 'fps'\n",
    "    }\n",
    ").filter(lambda intrvl: (intrvl['t1'] % math.floor(intrvl['payload'] * 3)) == 0)"
   ]
  },
  {
   "cell_type": "code",
   "execution_count": 15,
   "metadata": {
    "ExecuteTime": {
     "end_time": "2019-07-05T17:21:15.864570Z",
     "start_time": "2019-07-05T17:21:15.037019Z"
    },
    "scrolled": false
   },
   "outputs": [
    {
     "data": {
      "application/vnd.jupyter.widget-view+json": {
       "model_id": "27ea268d140b4954b40b8d4e9cf8f9a4",
       "version_major": 2,
       "version_minor": 0
      },
      "text/plain": [
       "VGridWidget(vgrid_spec={'settings': {'blocks_per_page': 50, 'key_mode': 'Jupyter', 'show_timeline': True, 'spi…"
      ]
     },
     "metadata": {},
     "output_type": "display_data"
    }
   ],
   "source": [
    "widget = vgrid_widget(\n",
    "    video_meta=[\n",
    "        Video.objects.get(id=vid).for_vgrid()\n",
    "        for vid in video_ids\n",
    "    ],\n",
    "    vis_format=VideoBlockFormat(imaps = [\n",
    "        ('all interviews', interviews_ism),\n",
    "        ('bernie-jake interviews', interviews_ism.filter(\n",
    "            payload_satisfies(lambda p: (\n",
    "                p['guest1'] == 'bernie sanders' and\n",
    "#                 p['interviewer1'] == 'jake tapper' and\n",
    "                p['guest2'] is None and\n",
    "#                 p['interviewer2'] is None and\n",
    "                p['original']\n",
    "            ))\n",
    "        )),\n",
    "        ('bernie_sanders', frame_to_second_collection(bernie_intervals).dilate(1.5)),\n",
    "#         ('jake tapper', frame_to_second_collection(jake_intervals).dilate(1.5)),\n",
    "    ]))\n",
    "widget"
   ]
  },
  {
   "cell_type": "code",
   "execution_count": 101,
   "metadata": {
    "ExecuteTime": {
     "end_time": "2019-07-08T03:32:29.909074Z",
     "start_time": "2019-07-08T03:32:29.877244Z"
    }
   },
   "outputs": [],
   "source": [
    "bernie_interviews = interviews_ism.filter(\n",
    "    payload_satisfies(lambda p: (\n",
    "        p['guest1'] == 'bernie sanders' and\n",
    "#                 p['interviewer1'] == 'jake tapper' and\n",
    "        p['guest2'] is None and\n",
    "#         p['interviewer2'] is None and\n",
    "        p['original']\n",
    "    ))\n",
    ")"
   ]
  },
  {
   "cell_type": "code",
   "execution_count": 102,
   "metadata": {
    "ExecuteTime": {
     "end_time": "2019-07-08T03:32:30.750057Z",
     "start_time": "2019-07-08T03:32:30.721076Z"
    }
   },
   "outputs": [
    {
     "data": {
      "text/plain": [
       "{763: 569.0,\n",
       " 3769: 471.0,\n",
       " 5281: 581.0,\n",
       " 8220: 534.0,\n",
       " 9901: 331.0,\n",
       " 12837: 642.0,\n",
       " 13141: 522.0,\n",
       " 26386: 455.0,\n",
       " 33004: 494.0,\n",
       " 34642: 623.0,\n",
       " 38275: 471.0,\n",
       " 42756: 655.0,\n",
       " 50164: 2111.0,\n",
       " 52075: 322.0,\n",
       " 52945: 615.0,\n",
       " 54377: 1442.0,\n",
       " 59122: 716.0,\n",
       " 59398: 977.0}"
      ]
     },
     "execution_count": 102,
     "metadata": {},
     "output_type": "execute_result"
    }
   ],
   "source": [
    "bernie_interviews.duration()"
   ]
  },
  {
   "cell_type": "code",
   "execution_count": 103,
   "metadata": {
    "ExecuteTime": {
     "end_time": "2019-07-08T03:32:36.010135Z",
     "start_time": "2019-07-08T03:32:35.756447Z"
    }
   },
   "outputs": [
    {
     "data": {
      "text/plain": [
       "{763: 612.0,\n",
       " 2648: 90.0,\n",
       " 3459: 99.0,\n",
       " 3769: 471.0,\n",
       " 3952: 15.0,\n",
       " 5281: 618.0,\n",
       " 6185: 3.0,\n",
       " 7262: 3.0,\n",
       " 8220: 528.0,\n",
       " 8697: 297.0,\n",
       " 8859: 3.0,\n",
       " 9215: 3.0,\n",
       " 9480: 24.0,\n",
       " 9499: 180.0,\n",
       " 9901: 336.0,\n",
       " 10335: 195.0,\n",
       " 11003: 3.0,\n",
       " 11555: 15.0,\n",
       " 12837: 579.0,\n",
       " 13058: 3.0,\n",
       " 13141: 546.0,\n",
       " 13247: 204.0,\n",
       " 13556: 18.0,\n",
       " 13927: 15.0,\n",
       " 13993: 30.0,\n",
       " 16215: 51.0,\n",
       " 16542: 21.0,\n",
       " 17983: 3.0,\n",
       " 19959: 69.0,\n",
       " 20380: 15.0,\n",
       " 20450: 6.0,\n",
       " 23181: 18.0,\n",
       " 24193: 84.0,\n",
       " 24847: 75.0,\n",
       " 26386: 465.0,\n",
       " 27188: 42.0,\n",
       " 27410: 3.0,\n",
       " 29001: 129.0,\n",
       " 32996: 12.0,\n",
       " 33004: 477.0,\n",
       " 33387: 15.0,\n",
       " 34642: 675.0,\n",
       " 36755: 33.0,\n",
       " 37107: 6.0,\n",
       " 37113: 69.0,\n",
       " 37170: 75.0,\n",
       " 38275: 471.0,\n",
       " 40203: 3.0,\n",
       " 42756: 657.0,\n",
       " 45472: 51.0,\n",
       " 45655: 63.0,\n",
       " 45698: 120.0,\n",
       " 50164: 1710.0,\n",
       " 50561: 6.0,\n",
       " 51175: 9.0,\n",
       " 52075: 450.0,\n",
       " 52749: 9.0,\n",
       " 52945: 630.0,\n",
       " 53684: 9.0,\n",
       " 54377: 1479.0,\n",
       " 55711: 363.0,\n",
       " 57384: 39.0,\n",
       " 57592: 33.0,\n",
       " 57708: 177.0,\n",
       " 57804: 411.0,\n",
       " 57990: 102.0,\n",
       " 59122: 681.0,\n",
       " 59398: 1080.0,\n",
       " 60186: 6.0}"
      ]
     },
     "execution_count": 103,
     "metadata": {},
     "output_type": "execute_result"
    }
   ],
   "source": [
    "frame_to_second_collection(bernie_intervals).dilate(1.5).duration()"
   ]
  },
  {
   "cell_type": "code",
   "execution_count": 104,
   "metadata": {
    "ExecuteTime": {
     "end_time": "2019-07-08T03:32:39.241045Z",
     "start_time": "2019-07-08T03:32:39.213669Z"
    }
   },
   "outputs": [],
   "source": [
    "bernie_interview_videos = set(bernie_interviews.get_grouped_intervals().keys())\n",
    "bernie_videos = set(bernie_intervals.get_grouped_intervals().keys())\n",
    "all_videos = set(video_ids)"
   ]
  },
  {
   "cell_type": "code",
   "execution_count": 105,
   "metadata": {
    "ExecuteTime": {
     "end_time": "2019-07-08T03:32:40.076440Z",
     "start_time": "2019-07-08T03:32:40.047397Z"
    }
   },
   "outputs": [
    {
     "name": "stdout",
     "output_type": "stream",
     "text": [
      "18\n",
      "69\n",
      "97\n"
     ]
    }
   ],
   "source": [
    "print(len(bernie_interview_videos))\n",
    "print(len(bernie_videos))\n",
    "print(len(all_videos))"
   ]
  },
  {
   "cell_type": "code",
   "execution_count": 106,
   "metadata": {
    "ExecuteTime": {
     "end_time": "2019-07-08T03:32:41.738068Z",
     "start_time": "2019-07-08T03:32:41.538884Z"
    }
   },
   "outputs": [],
   "source": [
    "bernie_durations = frame_to_second_collection(bernie_intervals).dilate(1.5).duration()"
   ]
  },
  {
   "cell_type": "code",
   "execution_count": 107,
   "metadata": {
    "ExecuteTime": {
     "end_time": "2019-07-08T03:32:42.217819Z",
     "start_time": "2019-07-08T03:32:42.185626Z"
    }
   },
   "outputs": [],
   "source": [
    "bernie_durations_no_interviews = {\n",
    "    vid: bernie_durations[vid]\n",
    "    for vid in bernie_durations if vid not in bernie_interview_videos\n",
    "}"
   ]
  },
  {
   "cell_type": "code",
   "execution_count": 108,
   "metadata": {
    "ExecuteTime": {
     "end_time": "2019-07-08T03:32:42.929000Z",
     "start_time": "2019-07-08T03:32:42.897696Z"
    }
   },
   "outputs": [
    {
     "name": "stdout",
     "output_type": "stream",
     "text": [
      "18\n"
     ]
    },
    {
     "data": {
      "text/plain": [
       "{2648: 90.0,\n",
       " 3459: 99.0,\n",
       " 8697: 297.0,\n",
       " 9499: 180.0,\n",
       " 10335: 195.0,\n",
       " 13247: 204.0,\n",
       " 19959: 69.0,\n",
       " 24193: 84.0,\n",
       " 24847: 75.0,\n",
       " 29001: 129.0,\n",
       " 37113: 69.0,\n",
       " 37170: 75.0,\n",
       " 45655: 63.0,\n",
       " 45698: 120.0,\n",
       " 55711: 363.0,\n",
       " 57708: 177.0,\n",
       " 57804: 411.0,\n",
       " 57990: 102.0}"
      ]
     },
     "execution_count": 108,
     "metadata": {},
     "output_type": "execute_result"
    }
   ],
   "source": [
    "bernie_durations_no_interviews_minute_or_longer = {\n",
    "    vid: bernie_durations_no_interviews[vid]\n",
    "    for vid in bernie_durations_no_interviews\n",
    "    if bernie_durations_no_interviews[vid] >= 60\n",
    "}\n",
    "print(len(bernie_durations_no_interviews_minute_or_longer))\n",
    "bernie_durations_no_interviews_minute_or_longer"
   ]
  },
  {
   "cell_type": "code",
   "execution_count": 109,
   "metadata": {
    "ExecuteTime": {
     "end_time": "2019-07-08T03:32:44.686947Z",
     "start_time": "2019-07-08T03:32:44.654632Z"
    }
   },
   "outputs": [
    {
     "name": "stdout",
     "output_type": "stream",
     "text": [
      "33\n"
     ]
    },
    {
     "data": {
      "text/plain": [
       "{3952: 15.0,\n",
       " 6185: 3.0,\n",
       " 7262: 3.0,\n",
       " 8859: 3.0,\n",
       " 9215: 3.0,\n",
       " 9480: 24.0,\n",
       " 11003: 3.0,\n",
       " 11555: 15.0,\n",
       " 13058: 3.0,\n",
       " 13556: 18.0,\n",
       " 13927: 15.0,\n",
       " 13993: 30.0,\n",
       " 16215: 51.0,\n",
       " 16542: 21.0,\n",
       " 17983: 3.0,\n",
       " 20380: 15.0,\n",
       " 20450: 6.0,\n",
       " 23181: 18.0,\n",
       " 27188: 42.0,\n",
       " 27410: 3.0,\n",
       " 32996: 12.0,\n",
       " 33387: 15.0,\n",
       " 36755: 33.0,\n",
       " 37107: 6.0,\n",
       " 40203: 3.0,\n",
       " 45472: 51.0,\n",
       " 50561: 6.0,\n",
       " 51175: 9.0,\n",
       " 52749: 9.0,\n",
       " 53684: 9.0,\n",
       " 57384: 39.0,\n",
       " 57592: 33.0,\n",
       " 60186: 6.0}"
      ]
     },
     "execution_count": 109,
     "metadata": {},
     "output_type": "execute_result"
    }
   ],
   "source": [
    "bernie_durations_no_interviews_less_than_minute = {\n",
    "    vid: bernie_durations_no_interviews[vid]\n",
    "    for vid in bernie_durations_no_interviews\n",
    "    if bernie_durations_no_interviews[vid] < 60\n",
    "}\n",
    "print(len(bernie_durations_no_interviews_less_than_minute))\n",
    "bernie_durations_no_interviews_less_than_minute"
   ]
  },
  {
   "cell_type": "code",
   "execution_count": 110,
   "metadata": {
    "ExecuteTime": {
     "end_time": "2019-07-08T03:32:46.518738Z",
     "start_time": "2019-07-08T03:32:46.488615Z"
    }
   },
   "outputs": [
    {
     "name": "stdout",
     "output_type": "stream",
     "text": [
      "28\n"
     ]
    },
    {
     "data": {
      "text/plain": [
       "{529,\n",
       " 3730,\n",
       " 4143,\n",
       " 4611,\n",
       " 10323,\n",
       " 11579,\n",
       " 11792,\n",
       " 13827,\n",
       " 14482,\n",
       " 15916,\n",
       " 16693,\n",
       " 16879,\n",
       " 17458,\n",
       " 19882,\n",
       " 23184,\n",
       " 24992,\n",
       " 25463,\n",
       " 31378,\n",
       " 32472,\n",
       " 33541,\n",
       " 34359,\n",
       " 38420,\n",
       " 41480,\n",
       " 41725,\n",
       " 45645,\n",
       " 48140,\n",
       " 49931,\n",
       " 53355}"
      ]
     },
     "execution_count": 110,
     "metadata": {},
     "output_type": "execute_result"
    }
   ],
   "source": [
    "videos_no_bernie = all_videos.difference(bernie_videos)\n",
    "print(len(videos_no_bernie))\n",
    "videos_no_bernie"
   ]
  },
  {
   "cell_type": "code",
   "execution_count": 111,
   "metadata": {
    "ExecuteTime": {
     "end_time": "2019-07-08T03:32:50.773049Z",
     "start_time": "2019-07-08T03:32:50.742177Z"
    }
   },
   "outputs": [],
   "source": [
    "ids_bernie_interviews = sorted(list(bernie_interview_videos))\n",
    "ids_bernie_minute_or_longer = sorted(list(\n",
    "    bernie_durations_no_interviews_minute_or_longer.keys()))\n",
    "ids_bernie_less_than_minute = sorted(list(\n",
    "    bernie_durations_no_interviews_less_than_minute.keys()))\n",
    "ids_no_bernie = sorted(list(videos_no_bernie))\n",
    "\n",
    "random.shuffle(ids_bernie_interviews)\n",
    "random.shuffle(ids_bernie_minute_or_longer)\n",
    "random.shuffle(ids_bernie_less_than_minute)\n",
    "random.shuffle(ids_no_bernie)"
   ]
  },
  {
   "cell_type": "code",
   "execution_count": 112,
   "metadata": {
    "ExecuteTime": {
     "end_time": "2019-07-08T03:32:52.041013Z",
     "start_time": "2019-07-08T03:32:52.012176Z"
    }
   },
   "outputs": [],
   "source": [
    "train_set = (ids_bernie_interviews[8:] +\n",
    "             ids_bernie_minute_or_longer[8:] +\n",
    "             ids_bernie_less_than_minute[16:] +\n",
    "             ids_no_bernie[16:])\n",
    "val_set = (ids_bernie_interviews[:4] +\n",
    "           ids_bernie_minute_or_longer[:4] +\n",
    "           ids_bernie_less_than_minute[:8] +\n",
    "           ids_no_bernie[:8])\n",
    "test_set = (ids_bernie_interviews[4:8] +\n",
    "            ids_bernie_minute_or_longer[4:8] +\n",
    "            ids_bernie_less_than_minute[8:16] +\n",
    "            ids_no_bernie[8:16])"
   ]
  },
  {
   "cell_type": "code",
   "execution_count": 113,
   "metadata": {
    "ExecuteTime": {
     "end_time": "2019-07-08T03:32:52.454926Z",
     "start_time": "2019-07-08T03:32:52.427198Z"
    }
   },
   "outputs": [
    {
     "name": "stdout",
     "output_type": "stream",
     "text": [
      "[8220, 59398, 13141, 50164, 33004, 9901, 59122, 12837, 3769, 52075, 10335, 57990, 45655, 57804, 24193, 3459, 37113, 2648, 8697, 57708, 57592, 11003, 7262, 27410, 60186, 17983, 45472, 33387, 50561, 13556, 16542, 40203, 53684, 11555, 37107, 51175, 23181, 49931, 24992, 14482, 4611, 16879, 13827, 32472, 11792, 25463, 31378, 45645, 53355]\n"
     ]
    }
   ],
   "source": [
    "print(train_set)"
   ]
  },
  {
   "cell_type": "code",
   "execution_count": 114,
   "metadata": {
    "ExecuteTime": {
     "end_time": "2019-07-08T03:32:53.201154Z",
     "start_time": "2019-07-08T03:32:53.173413Z"
    }
   },
   "outputs": [
    {
     "name": "stdout",
     "output_type": "stream",
     "text": [
      "[38275, 42756, 52945, 34642, 19959, 37170, 55711, 45698, 20380, 3952, 20450, 52749, 13927, 16215, 57384, 8859, 41725, 10323, 33541, 38420, 23184, 19882, 17458, 34359]\n"
     ]
    }
   ],
   "source": [
    "print(val_set)"
   ]
  },
  {
   "cell_type": "code",
   "execution_count": 115,
   "metadata": {
    "ExecuteTime": {
     "end_time": "2019-07-08T03:32:54.343345Z",
     "start_time": "2019-07-08T03:32:54.315567Z"
    }
   },
   "outputs": [
    {
     "name": "stdout",
     "output_type": "stream",
     "text": [
      "[54377, 26386, 5281, 763, 9499, 24847, 13247, 29001, 9480, 9215, 27188, 13058, 32996, 6185, 36755, 13993, 4143, 3730, 15916, 529, 11579, 48140, 41480, 16693]\n"
     ]
    }
   ],
   "source": [
    "print(test_set)"
   ]
  },
  {
   "cell_type": "markdown",
   "metadata": {},
   "source": [
    "# Export images and videos"
   ]
  },
  {
   "cell_type": "code",
   "execution_count": 96,
   "metadata": {
    "ExecuteTime": {
     "end_time": "2019-07-08T03:27:58.551611Z",
     "start_time": "2019-07-08T03:27:58.514890Z"
    }
   },
   "outputs": [],
   "source": [
    "train_set = [8220, 59398, 13141, 50164, 33004, 9901, 59122, 12837, 3769, 52075,\n",
    "             10335, 57990, 45655, 57804, 24193, 3459, 37113, 2648, 8697, 57708,\n",
    "             57592, 11003, 7262, 27410, 60186, 17983, 45472, 33387, 50561, 13556,\n",
    "             16542, 40203, 53684, 11555, 37107, 51175, 23181, 49931, 24992, 14482,\n",
    "             4611, 16879, 13827, 32472, 11792, 25463, 31378, 45645, 53355]\n",
    "val_set = [38275, 42756, 52945, 34642, 19959, 37170, 55711, 45698, 20380, 3952,\n",
    "           20450, 52749, 13927, 16215, 57384, 8859, 41725, 10323, 33541, 38420,\n",
    "           23184, 19882, 17458, 34359]\n",
    "test_set = [54377, 26386, 5281, 763, 9499, 24847, 13247, 29001, 9480, 9215, 27188,\n",
    "            13058, 32996, 6185, 36755, 13993, 4143, 3730, 15916, 529, 11579, 48140,\n",
    "            41480, 16693]"
   ]
  },
  {
   "cell_type": "code",
   "execution_count": 116,
   "metadata": {
    "ExecuteTime": {
     "end_time": "2019-07-08T03:33:35.863006Z",
     "start_time": "2019-07-08T03:33:35.831498Z"
    }
   },
   "outputs": [
    {
     "name": "stdout",
     "output_type": "stream",
     "text": [
      "97\n"
     ]
    }
   ],
   "source": [
    "print(len(train_set + val_set + test_set))"
   ]
  },
  {
   "cell_type": "markdown",
   "metadata": {},
   "source": [
    "## Downsample"
   ]
  },
  {
   "cell_type": "code",
   "execution_count": 98,
   "metadata": {
    "ExecuteTime": {
     "end_time": "2019-07-08T03:28:02.324747Z",
     "start_time": "2019-07-08T03:28:02.298392Z"
    }
   },
   "outputs": [],
   "source": [
    "interval = 30"
   ]
  },
  {
   "cell_type": "code",
   "execution_count": 76,
   "metadata": {
    "ExecuteTime": {
     "end_time": "2019-07-05T22:49:24.347944Z",
     "start_time": "2019-07-05T22:49:13.288831Z"
    }
   },
   "outputs": [],
   "source": [
    "segs_dict = {}\n",
    "for video_id in train_set + val_set + test_set:\n",
    "    video = Video.objects.get(id=video_id)\n",
    "    iset = IntervalSet([\n",
    "        Interval(Bounds3D(i, i), video.fps)\n",
    "        for i in range(0, video.num_frames) if (i % (\n",
    "            math.floor(video.fps * 3) * (interval / 3)\n",
    "        )) == 0\n",
    "    ])\n",
    "    segs_dict[video_id] = iset\n",
    "    \n",
    "segments = frame_to_second_collection(IntervalSetMapping(segs_dict)).dilate(interval / 2)"
   ]
  },
  {
   "cell_type": "code",
   "execution_count": 85,
   "metadata": {
    "ExecuteTime": {
     "end_time": "2019-07-06T00:29:06.910576Z",
     "start_time": "2019-07-06T00:29:06.569405Z"
    }
   },
   "outputs": [],
   "source": [
    "segments_all_negative = segments.map(\n",
    "    lambda intrvl: Interval(intrvl['bounds'], 0)\n",
    ")"
   ]
  },
  {
   "cell_type": "code",
   "execution_count": 87,
   "metadata": {
    "ExecuteTime": {
     "end_time": "2019-07-06T00:29:32.677963Z",
     "start_time": "2019-07-06T00:29:32.649679Z"
    }
   },
   "outputs": [],
   "source": [
    "def filter_by_id(ism, valid_ids):\n",
    "    return IntervalSetMapping({\n",
    "        vid: ism.get_grouped_intervals()[vid]\n",
    "        for vid in list(ism.get_grouped_intervals().keys()) if vid in valid_ids\n",
    "    })"
   ]
  },
  {
   "cell_type": "code",
   "execution_count": 117,
   "metadata": {
    "ExecuteTime": {
     "end_time": "2019-07-08T03:33:46.515244Z",
     "start_time": "2019-07-08T03:33:44.613314Z"
    }
   },
   "outputs": [
    {
     "name": "stdout",
     "output_type": "stream",
     "text": [
      "{5281: 20, 38275: 16, 42756: 23, 12837: 23, 59398: 37, 54377: 51, 52075: 12, 33004: 19, 9901: 12, 52945: 22, 34642: 22, 50164: 80, 13141: 19, 3769: 17, 59122: 26, 26386: 16, 763: 20, 8220: 19}\n",
      "{13058: 124, 4611: 123, 42756: 124, 33541: 123, 59398: 124, 50561: 123, 9480: 123, 16215: 63, 40203: 364, 48140: 123, 52749: 245, 24847: 123, 11792: 123, 529: 123, 26386: 123, 13827: 124, 38420: 124, 60186: 123, 9499: 366, 8220: 123, 11555: 123, 12837: 124, 57384: 123, 6185: 123, 15916: 123, 17458: 123, 4143: 123, 41480: 123, 37170: 124, 27188: 124, 16693: 123, 34359: 124, 11579: 123, 17983: 124, 49931: 123, 29001: 124, 45645: 124, 34642: 124, 10323: 123, 13141: 124, 45655: 124, 2648: 245, 7262: 123, 10335: 366, 38275: 123, 13927: 124, 54377: 124, 33387: 123, 57708: 124, 14482: 124, 3952: 123, 25463: 123, 27410: 124, 24193: 124, 45698: 124, 3459: 124, 57990: 124, 23181: 123, 23184: 123, 3730: 485, 36755: 123, 53355: 123, 8859: 123, 20380: 124, 16542: 123, 55711: 124, 24992: 123, 5281: 123, 13993: 123, 19882: 124, 9901: 124, 53684: 123, 3769: 124, 50164: 124, 13247: 124, 45472: 123, 57804: 124, 52945: 124, 37113: 244, 32472: 123, 20450: 123, 763: 124, 32996: 123, 51175: 124, 52075: 124, 33004: 123, 16879: 123, 59122: 123, 37107: 123, 13556: 123, 31378: 123, 19959: 124, 57592: 183, 8697: 124, 11003: 124, 41725: 123, 9215: 123}\n"
     ]
    }
   ],
   "source": [
    "interview_segments = segments.filter_against(\n",
    "    filter_by_id(interviews_ism, video_ids).filter(\n",
    "        payload_satisfies(lambda p: (\n",
    "            p['guest1'] == 'bernie sanders' and\n",
    "#                 p['interviewer1'] == 'jake tapper' and\n",
    "            p['guest2'] is None and\n",
    "#             p['interviewer2'] is None and\n",
    "            p['original']\n",
    "        ))\n",
    "    ), predicate=overlaps()\n",
    ").map(\n",
    "    lambda intrvl: Interval(intrvl['bounds'], 1)\n",
    ")\n",
    "\n",
    "interview_labels = segments_all_negative.minus(\n",
    "    interview_segments\n",
    ").union(interview_segments)\n",
    "\n",
    "print(interview_segments.size())\n",
    "print(interview_labels.size())"
   ]
  },
  {
   "cell_type": "markdown",
   "metadata": {},
   "source": [
    "## Export Videos - Don't run, too many videos"
   ]
  },
  {
   "cell_type": "code",
   "execution_count": 77,
   "metadata": {
    "ExecuteTime": {
     "end_time": "2019-07-05T22:50:38.617459Z",
     "start_time": "2019-07-05T22:50:38.423679Z"
    }
   },
   "outputs": [],
   "source": [
    "paths = [\n",
    "    Video.objects.get(id=vid).path\n",
    "    for vid in video_ids\n",
    "]"
   ]
  },
  {
   "cell_type": "code",
   "execution_count": 78,
   "metadata": {
    "ExecuteTime": {
     "end_time": "2019-07-05T22:50:39.361611Z",
     "start_time": "2019-07-05T22:50:39.330203Z"
    }
   },
   "outputs": [
    {
     "data": {
      "text/plain": [
       "['tvnews/videos/CNNW_20161023_130000_State_of_the_Union_With_Jake_Tapper.mp4',\n",
       " 'tvnews/videos/CNNW_20160327_160000_State_of_the_Union_With_Jake_Tapper.mp4',\n",
       " 'tvnews/videos/CNNW_20151026_210000_Situation_Room_With_Wolf_Blitzer.mp4',\n",
       " 'tvnews/videos/MSNBCW_20160414_040000_The_Rachel_Maddow_Show.mp4',\n",
       " 'tvnews/videos/FOXNEWSW_20150912_100000_Fox_and_Friends_Saturday.mp4',\n",
       " 'tvnews/videos/CNNW_20160221_170000_State_of_the_Union_With_Jake_Tapper.mp4',\n",
       " 'tvnews/videos/CNNW_20170108_170000_State_of_the_Union_With_Jake_Tapper.mp4',\n",
       " 'tvnews/videos/FOXNEWSW_20170313_220000_Special_Report_With_Bret_Baier.mp4',\n",
       " 'tvnews/videos/CNNW_20161031_060000_State_of_the_Union_With_Jake_Tapper.mp4',\n",
       " 'tvnews/videos/CNNW_20170205_170000_State_of_the_Union_With_Jake_Tapper.mp4',\n",
       " 'tvnews/videos/CNNW_20171206_210000_The_Lead_With_Jake_Tapper.mp4',\n",
       " 'tvnews/videos/FOXNEWSW_20170720_060000_Tucker_Carlson_Tonight.mp4',\n",
       " 'tvnews/videos/CNNW_20170618_160000_State_of_the_Union_With_Jake_Tapper.mp4',\n",
       " 'tvnews/videos/MSNBCW_20160521_010000_The_Rachel_Maddow_Show.mp4',\n",
       " 'tvnews/videos/CNNW_20161106_170000_State_of_the_Union_With_Jake_Tapper.mp4',\n",
       " 'tvnews/videos/CNNW_20170622_200000_The_Lead_With_Jake_Tapper.mp4',\n",
       " 'tvnews/videos/FOXNEWSW_20170417_080000_Fox_Report_Sunday.mp4',\n",
       " 'tvnews/videos/CNNW_20160411_100000_New_Day.mp4',\n",
       " 'tvnews/videos/MSNBCW_20160926_230000_MSNBC_Debate_Preview.mp4',\n",
       " 'tvnews/videos/FOXNEWSW_20161203_070000_Tucker_Carlson_Tonight.mp4',\n",
       " 'tvnews/videos/CNNW_20160425_100000_New_Day.mp4',\n",
       " 'tvnews/videos/CNNW_20151004_160000_State_of_the_Union_With_Jake_Tapper.mp4',\n",
       " 'tvnews/videos/FOXNEWSW_20160626_230000_Fox_Report_Sunday.mp4',\n",
       " 'tvnews/videos/FOXNEWSW_20170701_000000_Tucker_Carlson_Tonight.mp4',\n",
       " 'tvnews/videos/MSNBCW_20170430_160000_MSNBC_Live.mp4',\n",
       " 'tvnews/videos/CNNW_20161002_130000_State_of_the_Union_With_Jake_Tapper.mp4',\n",
       " 'tvnews/videos/CNNW_20151120_210000_The_Lead_With_Jake_Tapper.mp4',\n",
       " 'tvnews/videos/CNNW_20160117_140000_State_of_the_Union_With_Jake_Tapper.mp4',\n",
       " 'tvnews/videos/MSNBCW_20160603_040000_The_Rachel_Maddow_Show.mp4',\n",
       " 'tvnews/videos/CNNW_20170109_070000_CNN_Newsroom_Live.mp4',\n",
       " 'tvnews/videos/CNNW_20150114_210000_The_Lead_With_Jake_Tapper.mp4',\n",
       " 'tvnews/videos/MSNBCW_20160826_160000_MSNBC_Live.mp4',\n",
       " 'tvnews/videos/CNNW_20171017_200000_The_Lead_With_Jake_Tapper.mp4',\n",
       " 'tvnews/videos/MSNBCW_20160910_100000_The_Rachel_Maddow_Show.mp4',\n",
       " 'tvnews/videos/MSNBCW_20161010_090000_First_Look.mp4',\n",
       " 'tvnews/videos/MSNBCW_20160425_090000_First_Look.mp4',\n",
       " 'tvnews/videos/CNNW_20170207_210000_The_Lead_With_Jake_Tapper.mp4',\n",
       " 'tvnews/videos/FOXNEWSW_20170306_100000_Fox_and_Friends_First.mp4',\n",
       " 'tvnews/videos/CNNW_20170301_210000_The_Lead_With_Jake_Tapper.mp4',\n",
       " 'tvnews/videos/CNNW_20161218_210000_CNN_Newsroom_With_Fredricka_Whitfield.mp4',\n",
       " 'tvnews/videos/CNNW_20150720_190000_CNN_Newsroom_With_Brooke_Baldwin.mp4',\n",
       " 'tvnews/videos/CNNW_20150706_200000_The_Lead_With_Jake_Tapper.mp4',\n",
       " 'tvnews/videos/MSNBCW_20160825_080000_The_Rachel_Maddow_Show.mp4',\n",
       " 'tvnews/videos/MSNBCW_20160805_080000_The_Rachel_Maddow_Show.mp4',\n",
       " 'tvnews/videos/FOXNEWSW_20170907_000000_Tucker_Carlson_Tonight.mp4',\n",
       " 'tvnews/videos/MSNBCW_20170312_160000_MSNBC_Live.mp4',\n",
       " 'tvnews/videos/CNNW_20170313_200000_The_Lead_With_Jake_Tapper.mp4',\n",
       " 'tvnews/videos/CNNW_20160523_200000_The_Lead_With_Jake_Tapper.mp4',\n",
       " 'tvnews/videos/FOXNEWSW_20170906_030000_Tucker_Carlson_Tonight.mp4',\n",
       " 'tvnews/videos/CNNW_20170312_160000_State_of_the_Union_With_Jake_Tapper.mp4',\n",
       " 'tvnews/videos/CNNW_20170904_200000_The_Lead_With_Jake_Tapper.mp4',\n",
       " 'tvnews/videos/CNNW_20170702_130000_State_of_the_Union_With_Jake_Tapper.mp4',\n",
       " 'tvnews/videos/CNNW_20160314_200000_The_Lead_With_Jake_Tapper.mp4',\n",
       " 'tvnews/videos/CNNW_20150816_130000_State_of_the_Union_With_Jake_Tapper.mp4',\n",
       " 'tvnews/videos/CNNW_20160202_210000_The_Lead_With_Jake_Tapper.mp4',\n",
       " 'tvnews/videos/CNNW_20161121_210000_The_Lead_With_Jake_Tapper.mp4',\n",
       " 'tvnews/videos/FOXNEWSW_20170312_170000_Americas_News_HQ.mp4',\n",
       " 'tvnews/videos/CNNW_20170430_130000_State_of_the_Union_With_Jake_Tapper.mp4',\n",
       " 'tvnews/videos/MSNBCW_20170324_040000_The_Rachel_Maddow_Show.mp4',\n",
       " 'tvnews/videos/FOXNEWSW_20160403_150000_MediaBuzz.mp4',\n",
       " 'tvnews/videos/FOXNEWSW_20161214_000000_Tucker_Carlson_Tonight.mp4',\n",
       " 'tvnews/videos/CNNW_20150408_200000_The_Lead_With_Jake_Tapper.mp4',\n",
       " 'tvnews/videos/MSNBCW_20160120_020000_The_Rachel_Maddow_Show.mp4',\n",
       " 'tvnews/videos/FOXNEWSW_20160221_210000_Americas_News_HQ.mp4',\n",
       " 'tvnews/videos/FOXNEWSW_20161117_000000_On_the_Record_With_Brit_Hume.mp4',\n",
       " 'tvnews/videos/MSNBCW_20171120_000000_Kasie_DC.mp4',\n",
       " 'tvnews/videos/CNNW_20160212_210000_The_Lead_With_Jake_Tapper.mp4',\n",
       " 'tvnews/videos/CNNW_20171119_170000_State_of_the_Union_With_Jake_Tapper.mp4',\n",
       " 'tvnews/videos/CNNW_20150326_200000_The_Lead_With_Jake_Tapper.mp4',\n",
       " 'tvnews/videos/FOXNEWSW_20161005_100000_FOX__Friends.mp4',\n",
       " 'tvnews/videos/MSNBCW_20170322_070000_All_In_With_Chris_Hayes.mp4',\n",
       " 'tvnews/videos/FOXNEWSW_20170711_060000_Tucker_Carlson_Tonight.mp4',\n",
       " 'tvnews/videos/CNNW_20150705_130000_State_of_the_Union_With_Jake_Tapper.mp4',\n",
       " 'tvnews/videos/CNNW_20170108_160000_Reliable_Sources.mp4',\n",
       " 'tvnews/videos/CNNW_20160811_200000_The_Lead_With_Jake_Tapper.mp4',\n",
       " 'tvnews/videos/CNNW_20160209_210000_The_Lead_With_Jake_Tapper.mp4',\n",
       " 'tvnews/videos/MSNBCW_20160517_080000_The_Rachel_Maddow_Show.mp4',\n",
       " 'tvnews/videos/FOXNEWSW_20170512_060000_Tucker_Carlson_Tonight.mp4',\n",
       " 'tvnews/videos/FOXNEWSW_20170125_050000_Tucker_Carlson_Tonight.mp4',\n",
       " 'tvnews/videos/MSNBCW_20160507_010000_The_Rachel_Maddow_Show.mp4',\n",
       " 'tvnews/videos/CNNW_20170310_210000_The_Lead_With_Jake_Tapper.mp4',\n",
       " 'tvnews/videos/MSNBCW_20160304_020000_The_Rachel_Maddow_Show.mp4',\n",
       " 'tvnews/videos/MSNBCW_20150603_040000_The_Rachel_Maddow_Show.mp4',\n",
       " 'tvnews/videos/MSNBCW_20151023_190000_MSNBC_Live_With_Kate_Snow.mp4',\n",
       " 'tvnews/videos/CNNW_20160522_130000_State_of_the_Union_With_Jake_Tapper.mp4',\n",
       " 'tvnews/videos/CNNW_20170717_200000_The_Lead_With_Jake_Tapper.mp4',\n",
       " 'tvnews/videos/FOXNEWSW_20170914_030000_Tucker_Carlson_Tonight.mp4',\n",
       " 'tvnews/videos/MSNBCW_20160331_020000_The_Last_Word_With_Lawrence_ODonnell.mp4',\n",
       " 'tvnews/videos/MSNBCW_20160405_040000_The_Rachel_Maddow_Show.mp4',\n",
       " 'tvnews/videos/FOXNEWSW_20170627_060000_Tucker_Carlson_Tonight.mp4',\n",
       " 'tvnews/videos/CNNW_20170208_050000_Debate_Night_In_America_Bernie_Sanders_vs_Ted_Cruz.mp4',\n",
       " 'tvnews/videos/MSNBCW_20160421_040000_The_Rachel_Maddow_Show.mp4',\n",
       " 'tvnews/videos/MSNBCW_20160329_010000_The_Rachel_Maddow_Show.mp4',\n",
       " 'tvnews/videos/MSNBCW_20160506_010000_The_Rachel_Maddow_Show.mp4',\n",
       " 'tvnews/videos/CNNW_20170416_130000_State_of_the_Union_With_Jake_Tapper.mp4',\n",
       " 'tvnews/videos/MSNBCW_20160318_010000_The_Rachel_Maddow_Show.mp4',\n",
       " 'tvnews/videos/CNNW_20161212_210000_The_Lead_With_Jake_Tapper.mp4']"
      ]
     },
     "execution_count": 78,
     "metadata": {},
     "output_type": "execute_result"
    }
   ],
   "source": [
    "paths"
   ]
  },
  {
   "cell_type": "code",
   "execution_count": 79,
   "metadata": {
    "ExecuteTime": {
     "end_time": "2019-07-05T22:50:44.455061Z",
     "start_time": "2019-07-05T22:50:44.427321Z"
    }
   },
   "outputs": [],
   "source": [
    "# output the paths to a file\n",
    "with open('/app/data/video_paths.txt', 'w') as f:\n",
    "    for path in paths:\n",
    "        f.write('gs://esper/{}\\n'.format(path))"
   ]
  },
  {
   "cell_type": "markdown",
   "metadata": {},
   "source": [
    "## Now, download the videos.\n",
    "\n",
    "From the data folder (either within Docker or from the host), run these commands:\n",
    "\n",
    "```\n",
    "mkdir -p videos\n",
    "cat video_paths.txt | gsutil -m cp -I videos\n",
    "```"
   ]
  },
  {
   "cell_type": "code",
   "execution_count": 32,
   "metadata": {
    "ExecuteTime": {
     "end_time": "2019-07-04T23:16:53.542093Z",
     "start_time": "2019-07-04T23:16:53.378590Z"
    }
   },
   "outputs": [
    {
     "data": {
      "text/plain": [
       "'CNNW_20150705_130000_State_of_the_Union_With_Jake_Tapper.mp4'"
      ]
     },
     "execution_count": 32,
     "metadata": {},
     "output_type": "execute_result"
    }
   ],
   "source": [
    "import os\n",
    "os.path.basename(paths[0])"
   ]
  },
  {
   "cell_type": "code",
   "execution_count": 34,
   "metadata": {
    "ExecuteTime": {
     "end_time": "2019-07-04T23:17:38.819940Z",
     "start_time": "2019-07-04T23:17:38.791769Z"
    }
   },
   "outputs": [],
   "source": [
    "# Now, rename the files\n",
    "import os\n",
    "\n",
    "for vid, path in zip(selected_ids, paths):\n",
    "    src = '/app/data/videos/{}'.format(os.path.basename(path))\n",
    "    dst = '/app/data/videos/{}.mp4'.format(vid)\n",
    "    \n",
    "    os.rename(src, dst)"
   ]
  },
  {
   "cell_type": "markdown",
   "metadata": {},
   "source": [
    "# Export Frames"
   ]
  },
  {
   "cell_type": "code",
   "execution_count": 80,
   "metadata": {
    "ExecuteTime": {
     "end_time": "2019-07-05T22:56:10.632861Z",
     "start_time": "2019-07-05T22:56:10.327683Z"
    }
   },
   "outputs": [],
   "source": [
    "import hwang, storehouse"
   ]
  },
  {
   "cell_type": "code",
   "execution_count": 81,
   "metadata": {
    "ExecuteTime": {
     "end_time": "2019-07-05T22:56:33.861464Z",
     "start_time": "2019-07-05T22:56:18.410254Z"
    }
   },
   "outputs": [],
   "source": [
    "interval = 30\n",
    "segs_dict = {}\n",
    "for video_id in video_ids:\n",
    "    video = Video.objects.get(id=video_id)\n",
    "    iset = IntervalSet([\n",
    "        Interval(Bounds3D(i, i), video.fps)\n",
    "        for i in range(0, video.num_frames) if (i % (\n",
    "            math.floor(video.fps * 3) * (interval / 3)\n",
    "        )) == 0\n",
    "    ])\n",
    "    segs_dict[video_id] = iset\n",
    "    \n",
    "segments = frame_to_second_collection(IntervalSetMapping(segs_dict)).dilate(interval / 2)"
   ]
  },
  {
   "cell_type": "code",
   "execution_count": 82,
   "metadata": {
    "ExecuteTime": {
     "end_time": "2019-07-05T22:57:03.163470Z",
     "start_time": "2019-07-05T22:57:02.928410Z"
    }
   },
   "outputs": [],
   "source": [
    "segments_frames = second_to_frame_collection(segments)"
   ]
  },
  {
   "cell_type": "code",
   "execution_count": 83,
   "metadata": {
    "ExecuteTime": {
     "end_time": "2019-07-05T22:57:04.443240Z",
     "start_time": "2019-07-05T22:57:04.414495Z"
    }
   },
   "outputs": [],
   "source": [
    "from PIL import Image\n",
    "from tqdm import tqdm"
   ]
  },
  {
   "cell_type": "code",
   "execution_count": 84,
   "metadata": {
    "ExecuteTime": {
     "end_time": "2019-07-06T00:16:41.268665Z",
     "start_time": "2019-07-05T22:57:11.657000Z"
    }
   },
   "outputs": [
    {
     "name": "stderr",
     "output_type": "stream",
     "text": [
      "100%|██████████████████████████████████████████████████████████████████████████████████████████████████████████████████████████████████████████████████████████████████████████████████████████████████████| 97/97 [1:19:29<00:00, 44.63s/it]\n"
     ]
    }
   ],
   "source": [
    "for video_id in tqdm(video_ids):\n",
    "    video = Video.objects.get(id=video_id)\n",
    "    backend = storehouse.StorageBackend.make_from_config(\n",
    "        storehouse.StorageConfig.make_gcs_config(os.environ.get('BUCKET')))\n",
    "    dec = hwang.Decoder(storehouse.RandomReadFile(backend, video.path))\n",
    "    \n",
    "    frame_nums = [\n",
    "        int((intrvl['t1'] + intrvl['t2']) / 2)\n",
    "        for intrvl in segments_frames.get_grouped_intervals()[video_id].get_intervals()\n",
    "    ]\n",
    "    \n",
    "    frames = dec.retrieve(frame_nums)\n",
    "    \n",
    "    os.makedirs('/app/data/images/{}'.format(video_id), exist_ok=True)\n",
    "    \n",
    "    for i, frame in enumerate(frames):\n",
    "        im = Image.fromarray(frame)\n",
    "        im.save('/app/data/images/{}/{:04d}.jpg'.format(video_id, i))"
   ]
  },
  {
   "cell_type": "markdown",
   "metadata": {},
   "source": [
    "# Export train/test/val splits"
   ]
  },
  {
   "cell_type": "code",
   "execution_count": 118,
   "metadata": {
    "ExecuteTime": {
     "end_time": "2019-07-08T03:33:55.006954Z",
     "start_time": "2019-07-08T03:33:54.949540Z"
    }
   },
   "outputs": [],
   "source": [
    "os.makedirs('/app/data/data', exist_ok=True)\n",
    "with open('/app/data/data/train.txt', 'w') as f:\n",
    "    for video_id in train_set:\n",
    "        for i, intrvl in enumerate(interview_labels[video_id].get_intervals()):\n",
    "            f.write('{} {} {}\\n'.format(video_id, i, intrvl['payload']))\n",
    "with open('/app/data/data/val.txt', 'w') as f:\n",
    "    for video_id in val_set:\n",
    "        for i, intrvl in enumerate(interview_labels[video_id].get_intervals()):\n",
    "            f.write('{} {} {}\\n'.format(video_id, i, intrvl['payload']))\n",
    "with open('/app/data/data/test.txt', 'w') as f:\n",
    "    for video_id in test_set:\n",
    "        for i, intrvl in enumerate(interview_labels[video_id].get_intervals()):\n",
    "            f.write('{} {} {}\\n'.format(video_id, i, intrvl['payload']))"
   ]
  }
 ],
 "metadata": {
  "kernelspec": {
   "display_name": "Django Shell-Plus",
   "language": "python",
   "name": "django_extensions"
  },
  "language_info": {
   "codemirror_mode": {
    "name": "ipython",
    "version": 3
   },
   "file_extension": ".py",
   "mimetype": "text/x-python",
   "name": "python",
   "nbconvert_exporter": "python",
   "pygments_lexer": "ipython3",
   "version": "3.5.2"
  },
  "toc": {
   "nav_menu": {},
   "number_sections": true,
   "sideBar": true,
   "skip_h1_title": false,
   "toc_cell": false,
   "toc_position": {},
   "toc_section_display": "block",
   "toc_window_display": false
  }
 },
 "nbformat": 4,
 "nbformat_minor": 2
}
