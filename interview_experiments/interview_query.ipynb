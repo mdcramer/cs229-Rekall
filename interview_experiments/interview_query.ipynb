{
 "cells": [
  {
   "cell_type": "markdown",
   "metadata": {},
   "source": [
    "# Interview Query\n",
    "\n",
    "In this notebook, we will develop the interview query on a dev set from scratch."
   ]
  },
  {
   "cell_type": "code",
   "execution_count": 1,
   "metadata": {
    "ExecuteTime": {
     "end_time": "2019-07-09T03:40:54.657671Z",
     "start_time": "2019-07-09T03:40:54.635063Z"
    }
   },
   "outputs": [],
   "source": [
    "dev_set = [38275, 42756, 52945, 34642, 19959, 37170, 55711, 45698, 20380, 3952,\n",
    "           20450, 52749, 13927, 16215, 57384, 8859, 41725, 10323, 33541, 38420,\n",
    "           23184, 19882, 17458, 34359]\n",
    "test_set = [54377, 26386, 5281, 763, 9499, 24847, 13247, 29001, 9480, 9215, 27188,\n",
    "            13058, 32996, 6185, 36755, 13993, 4143, 3730, 15916, 529, 11579, 48140,\n",
    "            41480, 16693]"
   ]
  },
  {
   "cell_type": "code",
   "execution_count": 2,
   "metadata": {
    "ExecuteTime": {
     "end_time": "2019-07-09T03:40:54.693295Z",
     "start_time": "2019-07-09T03:40:54.661282Z"
    }
   },
   "outputs": [],
   "source": [
    "from app.models import Video, Face, FaceIdentity, LabeledInterview\n",
    "from rekall import Interval, IntervalSet, IntervalSetMapping, Bounds3D\n",
    "from rekall.stdlib import ingest\n",
    "from rekall.predicates import *\n",
    "# from app.captions import *\n",
    "import math\n",
    "import numpy as np\n",
    "import random"
   ]
  },
  {
   "cell_type": "code",
   "execution_count": 3,
   "metadata": {
    "ExecuteTime": {
     "end_time": "2019-07-09T03:40:55.076695Z",
     "start_time": "2019-07-09T03:40:54.695656Z"
    }
   },
   "outputs": [
    {
     "data": {
      "application/vnd.jupyter.widget-view+json": {
       "model_id": "155a85aa13584f9ab3083a3c94b35727",
       "version_major": 2,
       "version_minor": 0
      },
      "text/plain": [
       "VGridWidget(vgrid_spec={'interval_blocks': [{'video_id': 38275, 'interval_sets': [{'interval_set': [{'bounds':…"
      ]
     },
     "metadata": {},
     "output_type": "display_data"
    }
   ],
   "source": [
    "from esperlib.widget import vgrid_widget\n",
    "from vgrid import VideoBlockFormat\n",
    "from app.models import Video\n",
    "\n",
    "video_meta = [Video.objects.filter(id=38275).all()[0].for_vgrid()]\n",
    "vgrid_widget(\n",
    "    video_meta=video_meta,\n",
    "    vis_format=VideoBlockFormat(video_meta=video_meta))"
   ]
  },
  {
   "cell_type": "markdown",
   "metadata": {},
   "source": [
    "# Load Interviews"
   ]
  },
  {
   "cell_type": "code",
   "execution_count": 4,
   "metadata": {
    "ExecuteTime": {
     "end_time": "2019-07-09T03:40:55.126941Z",
     "start_time": "2019-07-09T03:40:55.080470Z"
    }
   },
   "outputs": [],
   "source": [
    "def get_fps_map(vids):\n",
    "    vs = Video.objects.filter(id__in=vids)\n",
    "    return {v.id: v.fps for v in vs}\n",
    "\n",
    "def frame_second_conversion(c, mode='f2s'):\n",
    "    fps_map = get_fps_map(set(c.get_grouped_intervals().keys()))\n",
    "    \n",
    "    def second_to_frame(fps):\n",
    "        def map_fn(intrvl):\n",
    "            i2 = intrvl.copy()\n",
    "            curr_bounds = intrvl['bounds'].copy()\n",
    "            curr_bounds['t1'] = int(curr_bounds['t1']*fps)\n",
    "            curr_bounds['t2'] = int(curr_bounds['t2']*fps)\n",
    "            i2['bounds'] = curr_bounds\n",
    "            return i2\n",
    "        return map_fn\n",
    "    \n",
    "    def frame_to_second(fps):\n",
    "        def map_fn(intrvl):\n",
    "            i2 = intrvl.copy()\n",
    "            curr_bounds = intrvl['bounds'].copy()\n",
    "            curr_bounds['t1'] = int(curr_bounds['t1']/fps)\n",
    "            curr_bounds['t2'] = int(curr_bounds['t2']/fps)\n",
    "            i2['bounds'] = curr_bounds\n",
    "            return i2\n",
    "        return map_fn\n",
    "    \n",
    "    if mode=='f2s':\n",
    "        fn = frame_to_second\n",
    "    if mode=='s2f':\n",
    "        fn = second_to_frame\n",
    "    output = {}\n",
    "    for vid, intervals in c.get_grouped_intervals().items():\n",
    "        output[vid] = intervals.map(fn(fps_map[vid]))\n",
    "    return IntervalSetMapping(output)\n",
    "\n",
    "def frame_to_second_collection(c):\n",
    "    return frame_second_conversion(c, 'f2s')\n",
    "\n",
    "def second_to_frame_collection(c):\n",
    "    return frame_second_conversion(c, 's2f')"
   ]
  },
  {
   "cell_type": "code",
   "execution_count": 5,
   "metadata": {
    "ExecuteTime": {
     "end_time": "2019-07-09T03:40:55.152922Z",
     "start_time": "2019-07-09T03:40:55.130625Z"
    }
   },
   "outputs": [],
   "source": [
    "gt_interviews_all = LabeledInterview.objects.filter(\n",
    "    video_id__in=dev_set\n",
    ").all()"
   ]
  },
  {
   "cell_type": "code",
   "execution_count": 6,
   "metadata": {
    "ExecuteTime": {
     "end_time": "2019-07-09T03:40:55.183904Z",
     "start_time": "2019-07-09T03:40:55.155253Z"
    }
   },
   "outputs": [],
   "source": [
    "interviews_ism = ingest.ism_from_django_qs(\n",
    "    gt_interviews_all,\n",
    "    bounds_schema={ 't1': 'start', 't2': 'end' },\n",
    "    with_payload=lambda row: {\n",
    "        'original': row.original,\n",
    "        'guest1': row.guest1,\n",
    "        'guest2': row.guest2,\n",
    "        'interviewer1': row.interviewer1,\n",
    "        'interviewer2': row.interviewer2\n",
    "    }\n",
    ")"
   ]
  },
  {
   "cell_type": "code",
   "execution_count": 7,
   "metadata": {
    "ExecuteTime": {
     "end_time": "2019-07-09T03:40:55.207938Z",
     "start_time": "2019-07-09T03:40:55.186217Z"
    }
   },
   "outputs": [],
   "source": [
    "bernie_interviews = interviews_ism.filter(\n",
    "    payload_satisfies(lambda p: (\n",
    "        p['guest1'] == 'bernie sanders' and\n",
    "#                 p['interviewer1'] == 'jake tapper' and\n",
    "        p['guest2'] is None and\n",
    "#         p['interviewer2'] is None and\n",
    "        p['original']\n",
    "    ))\n",
    ")"
   ]
  },
  {
   "cell_type": "code",
   "execution_count": 8,
   "metadata": {
    "ExecuteTime": {
     "end_time": "2019-07-09T03:40:55.274680Z",
     "start_time": "2019-07-09T03:40:55.210491Z"
    }
   },
   "outputs": [],
   "source": [
    "video_meta = [\n",
    "    Video.objects.get(id=vid).for_vgrid()\n",
    "    for vid in dev_set\n",
    "]"
   ]
  },
  {
   "cell_type": "code",
   "execution_count": 9,
   "metadata": {
    "ExecuteTime": {
     "end_time": "2019-07-09T03:40:55.299595Z",
     "start_time": "2019-07-09T03:40:55.277199Z"
    }
   },
   "outputs": [
    {
     "data": {
      "text/plain": [
       "38275"
      ]
     },
     "execution_count": 9,
     "metadata": {},
     "output_type": "execute_result"
    }
   ],
   "source": [
    "video_meta[0].id"
   ]
  },
  {
   "cell_type": "code",
   "execution_count": 10,
   "metadata": {
    "ExecuteTime": {
     "end_time": "2019-07-09T03:40:55.323502Z",
     "start_time": "2019-07-09T03:40:55.302064Z"
    }
   },
   "outputs": [],
   "source": [
    "all_videos = IntervalSetMapping({\n",
    "    vm.id: IntervalSet([Interval(Bounds3D(0, vm.num_frames / vm.fps))])\n",
    "    for vm in video_meta\n",
    "})"
   ]
  },
  {
   "cell_type": "code",
   "execution_count": 11,
   "metadata": {
    "ExecuteTime": {
     "end_time": "2019-07-09T03:40:55.416226Z",
     "start_time": "2019-07-09T03:40:55.325921Z"
    }
   },
   "outputs": [
    {
     "data": {
      "application/vnd.jupyter.widget-view+json": {
       "model_id": "65b5ab263610482da92180c0ef4bacd5",
       "version_major": 2,
       "version_minor": 0
      },
      "text/plain": [
       "VGridWidget(vgrid_spec={'interval_blocks': [{'video_id': 45698, 'interval_sets': [{'interval_set': [{'bounds':…"
      ]
     },
     "metadata": {},
     "output_type": "display_data"
    }
   ],
   "source": [
    "vgrid_widget(\n",
    "    video_meta=[\n",
    "        Video.objects.get(id=vid).for_vgrid()\n",
    "        for vid in dev_set\n",
    "    ],\n",
    "    vis_format=VideoBlockFormat(imaps = [\n",
    "        ('all interviews', interviews_ism),\n",
    "        ('bernie interviews', interviews_ism.filter(\n",
    "            payload_satisfies(lambda p: (\n",
    "                p['guest1'] == 'bernie sanders' and\n",
    "                p['guest2'] is None and\n",
    "                p['original']\n",
    "            ))\n",
    "        ))\n",
    "    ])\n",
    ")"
   ]
  },
  {
   "cell_type": "code",
   "execution_count": 12,
   "metadata": {
    "ExecuteTime": {
     "end_time": "2019-07-09T03:40:55.443485Z",
     "start_time": "2019-07-09T03:40:55.419057Z"
    }
   },
   "outputs": [],
   "source": [
    "bernie_qs = FaceIdentity.objects.filter(\n",
    "    identity__name='bernie sanders',\n",
    "    face__frame__video_id__in=dev_set\n",
    ").annotate(\n",
    "    min_frame=F('face__frame__number'),\n",
    "    max_frame=F('face__frame__number'),\n",
    "    video_id=F('face__frame__video_id'),\n",
    "    bbox_x1=F('face__bbox_x1'),\n",
    "    bbox_y1=F('face__bbox_y1'),\n",
    "    bbox_x2=F('face__bbox_x2'),\n",
    "    bbox_y2=F('face__bbox_y2'),\n",
    "    fps=F('face__frame__video__fps')\n",
    ")"
   ]
  },
  {
   "cell_type": "code",
   "execution_count": 13,
   "metadata": {
    "ExecuteTime": {
     "end_time": "2019-07-09T03:41:23.919925Z",
     "start_time": "2019-07-09T03:40:55.447810Z"
    }
   },
   "outputs": [],
   "source": [
    "# Takes about 20 seconds to run!\n",
    "bernie_intervals = ingest.ism_from_django_qs(\n",
    "    bernie_qs,\n",
    "    bounds_schema={\n",
    "        't1': 'min_frame',\n",
    "        't2': 'max_frame',\n",
    "        'x1': 'bbox_x1',\n",
    "        'x2': 'bbox_x2',\n",
    "        'y1': 'bbox_y1',\n",
    "        'y2': 'bbox_y2',\n",
    "        'payload': 'fps'\n",
    "    }\n",
    ").filter(lambda intrvl: (intrvl['t1'] % math.floor(intrvl['payload'] * 3)) == 0)"
   ]
  },
  {
   "cell_type": "code",
   "execution_count": 14,
   "metadata": {
    "ExecuteTime": {
     "end_time": "2019-07-09T03:41:24.022336Z",
     "start_time": "2019-07-09T03:41:23.929910Z"
    }
   },
   "outputs": [],
   "source": [
    "hosts_qs = FaceIdentity.objects.filter(\n",
    "    face__frame__video_id__in=dev_set,\n",
    "    face__is_host=True\n",
    ").annotate(\n",
    "    min_frame=F('face__shot__min_frame'),\n",
    "    max_frame=F('face__shot__max_frame'),\n",
    "    video_id=F('face__frame__video_id'),\n",
    "    bbox_x1=F('face__bbox_x1'),\n",
    "    bbox_y1=F('face__bbox_y1'),\n",
    "    bbox_x2=F('face__bbox_x2'),\n",
    "    bbox_y2=F('face__bbox_y2'),\n",
    "    fps=F('face__frame__video__fps')\n",
    ")"
   ]
  },
  {
   "cell_type": "code",
   "execution_count": 15,
   "metadata": {
    "ExecuteTime": {
     "end_time": "2019-07-09T03:42:42.174562Z",
     "start_time": "2019-07-09T03:41:24.024922Z"
    }
   },
   "outputs": [],
   "source": [
    "# Takes about 4 and a half minutes to run!\n",
    "host_intervals = ingest.ism_from_django_qs(\n",
    "    hosts_qs,\n",
    "    bounds_schema={\n",
    "        't1': 'min_frame',\n",
    "        't2': 'max_frame',\n",
    "        'x1': 'bbox_x1',\n",
    "        'x2': 'bbox_x2',\n",
    "        'y1': 'bbox_y1',\n",
    "        'y2': 'bbox_y2',\n",
    "        'payload': 'fps'\n",
    "    }\n",
    ")#.filter(lambda intrvl: (intrvl['t1'] % math.floor(intrvl['payload'] * 3)) == 0)"
   ]
  },
  {
   "cell_type": "code",
   "execution_count": 16,
   "metadata": {
    "ExecuteTime": {
     "end_time": "2019-07-09T03:42:43.129029Z",
     "start_time": "2019-07-09T03:42:42.176927Z"
    }
   },
   "outputs": [
    {
     "data": {
      "application/vnd.jupyter.widget-view+json": {
       "model_id": "a2c49bbdeba54499932eb7b6c66457e1",
       "version_major": 2,
       "version_minor": 0
      },
      "text/plain": [
       "VGridWidget(vgrid_spec={'interval_blocks': [{'video_id': 45698, 'interval_sets': [{'interval_set': [{'bounds':…"
      ]
     },
     "metadata": {},
     "output_type": "display_data"
    }
   ],
   "source": [
    "vgrid_widget(\n",
    "    video_meta=[\n",
    "        Video.objects.get(id=vid).for_vgrid()\n",
    "        for vid in dev_set\n",
    "    ],\n",
    "    vis_format=VideoBlockFormat(\n",
    "        imaps = [\n",
    "            ('all', all_videos),\n",
    "            ('bernie interviews', interviews_ism.filter(\n",
    "                payload_satisfies(lambda p: (\n",
    "                    p['guest1'] == 'bernie sanders' and\n",
    "                    p['guest2'] is None and\n",
    "                    p['original']\n",
    "                ))\n",
    "            )),\n",
    "            ('bernie', frame_to_second_collection(bernie_intervals).dilate(1.5)),\n",
    "            ('host', frame_to_second_collection(host_intervals).dilate(1.5)),\n",
    "        ]\n",
    "    )\n",
    ")"
   ]
  },
  {
   "cell_type": "markdown",
   "metadata": {},
   "source": [
    "# Develop Query"
   ]
  },
  {
   "cell_type": "code",
   "execution_count": 17,
   "metadata": {
    "ExecuteTime": {
     "end_time": "2019-07-09T03:42:44.173147Z",
     "start_time": "2019-07-09T03:42:43.131832Z"
    }
   },
   "outputs": [],
   "source": [
    "bernie_with_host = bernie_intervals.join(\n",
    "    host_intervals,\n",
    "    predicate = overlaps(),\n",
    "    merge_op = lambda i1, i2: Interval(\n",
    "        Bounds3D.intersect_time_span_space(i1['bounds'], i2['bounds']),\n",
    "        i1\n",
    "    ),\n",
    "    window=0\n",
    ")"
   ]
  },
  {
   "cell_type": "code",
   "execution_count": 18,
   "metadata": {
    "ExecuteTime": {
     "end_time": "2019-07-09T03:42:44.883767Z",
     "start_time": "2019-07-09T03:42:44.176048Z"
    }
   },
   "outputs": [
    {
     "data": {
      "application/vnd.jupyter.widget-view+json": {
       "model_id": "f3f972bdc98249c8b7e3a0c29f942892",
       "version_major": 2,
       "version_minor": 0
      },
      "text/plain": [
       "VGridWidget(vgrid_spec={'interval_blocks': [{'video_id': 52945, 'interval_sets': [{'interval_set': [{'bounds':…"
      ]
     },
     "metadata": {},
     "output_type": "display_data"
    }
   ],
   "source": [
    "vgrid_widget(\n",
    "    video_meta=[\n",
    "        Video.objects.get(id=vid).for_vgrid()\n",
    "        for vid in dev_set\n",
    "    ],\n",
    "    vis_format=VideoBlockFormat(\n",
    "        imaps = [\n",
    "            ('bernie with host', frame_to_second_collection(bernie_with_host)),\n",
    "            ('bernie interviews', interviews_ism.filter(\n",
    "                payload_satisfies(lambda p: (\n",
    "                    p['guest1'] == 'bernie sanders' and\n",
    "                    p['guest2'] is None and\n",
    "                    p['original']\n",
    "                ))\n",
    "            )),\n",
    "            ('bernie', frame_to_second_collection(bernie_intervals).dilate(1.5)),\n",
    "            ('host', frame_to_second_collection(host_intervals).dilate(1.5)),\n",
    "        ]\n",
    "    )\n",
    ")"
   ]
  },
  {
   "cell_type": "code",
   "execution_count": 19,
   "metadata": {
    "ExecuteTime": {
     "end_time": "2019-07-09T03:42:44.937047Z",
     "start_time": "2019-07-09T03:42:44.886748Z"
    }
   },
   "outputs": [],
   "source": [
    "bernie_with_host_seconds = frame_to_second_collection(bernie_with_host).dilate(1.5)"
   ]
  },
  {
   "cell_type": "code",
   "execution_count": 20,
   "metadata": {
    "ExecuteTime": {
     "end_time": "2019-07-09T03:42:49.986532Z",
     "start_time": "2019-07-09T03:42:44.939839Z"
    }
   },
   "outputs": [],
   "source": [
    "bernie_alone_seconds = frame_to_second_collection(\n",
    "    bernie_intervals\n",
    ").dilate(1.5).minus(\n",
    "    bernie_with_host_seconds\n",
    ")"
   ]
  },
  {
   "cell_type": "code",
   "execution_count": 21,
   "metadata": {
    "ExecuteTime": {
     "end_time": "2019-07-09T03:42:50.928603Z",
     "start_time": "2019-07-09T03:42:49.989562Z"
    }
   },
   "outputs": [
    {
     "data": {
      "application/vnd.jupyter.widget-view+json": {
       "model_id": "f3ee7c7af12f436ba55a3b3c2f10b2da",
       "version_major": 2,
       "version_minor": 0
      },
      "text/plain": [
       "VGridWidget(vgrid_spec={'interval_blocks': [{'video_id': 52945, 'interval_sets': [{'interval_set': [{'bounds':…"
      ]
     },
     "metadata": {},
     "output_type": "display_data"
    }
   ],
   "source": [
    "vgrid_widget(\n",
    "    video_meta=[\n",
    "        Video.objects.get(id=vid).for_vgrid()\n",
    "        for vid in dev_set\n",
    "    ],\n",
    "    vis_format=VideoBlockFormat(\n",
    "        imaps = [\n",
    "            ('bernie with host', frame_to_second_collection(bernie_with_host)),\n",
    "            ('bernie alone', bernie_alone_seconds),\n",
    "            ('bernie', frame_to_second_collection(bernie_intervals).dilate(1.5)),\n",
    "            ('host', frame_to_second_collection(host_intervals).dilate(1.5)),\n",
    "        ]\n",
    "    )\n",
    ")"
   ]
  },
  {
   "cell_type": "code",
   "execution_count": 22,
   "metadata": {
    "ExecuteTime": {
     "end_time": "2019-07-09T03:42:51.086148Z",
     "start_time": "2019-07-09T03:42:50.931299Z"
    }
   },
   "outputs": [],
   "source": [
    "interview_candidates = bernie_with_host_seconds.dilate(5).coalesce(\n",
    "    ('t1', 't2'),\n",
    "    Bounds3D.span\n",
    ").dilate(-5).join(\n",
    "    bernie_alone_seconds.dilate(5).coalesce(\n",
    "        ('t1', 't2'),\n",
    "        Bounds3D.span\n",
    "    ).dilate(-5),\n",
    "    predicate = or_pred(\n",
    "        before(max_dist = 5),\n",
    "        after(max_dist = 5),\n",
    "        overlaps()\n",
    "    ),\n",
    "    merge_op = lambda i1, i2: Interval(i1['bounds'].span(i2['bounds'])),\n",
    "    window = 10\n",
    ").union(\n",
    "    bernie_with_host_seconds.dilate(5).coalesce(\n",
    "        ('t1', 't2'),\n",
    "        Bounds3D.span\n",
    "    ).dilate(-5)\n",
    ").dilate(5).coalesce(\n",
    "    ('t1', 't2'),\n",
    "    Bounds3D.span\n",
    ").dilate(-5).filter_size(min_size = 60)"
   ]
  },
  {
   "cell_type": "code",
   "execution_count": 23,
   "metadata": {
    "ExecuteTime": {
     "end_time": "2019-07-09T03:42:51.165374Z",
     "start_time": "2019-07-09T03:42:51.089048Z"
    }
   },
   "outputs": [
    {
     "data": {
      "application/vnd.jupyter.widget-view+json": {
       "model_id": "5f645da9d0244e57a6b43b0ed3a2897c",
       "version_major": 2,
       "version_minor": 0
      },
      "text/plain": [
       "VGridWidget(vgrid_spec={'interval_blocks': [{'video_id': 52945, 'interval_sets': [{'interval_set': [{'bounds':…"
      ]
     },
     "metadata": {},
     "output_type": "display_data"
    }
   ],
   "source": [
    "vgrid_widget(\n",
    "    video_meta=[\n",
    "        Video.objects.get(id=vid).for_vgrid()\n",
    "        for vid in dev_set\n",
    "    ],\n",
    "    vis_format=VideoBlockFormat(\n",
    "        imaps = [\n",
    "            ('interview candidates', interview_candidates),\n",
    "            ('bernie interviews', interviews_ism.filter(\n",
    "                payload_satisfies(lambda p: (\n",
    "                    p['guest1'] == 'bernie sanders' and\n",
    "                    p['guest2'] is None and\n",
    "                    p['original']\n",
    "                ))\n",
    "            )),\n",
    "        ]\n",
    "    )\n",
    ")"
   ]
  },
  {
   "cell_type": "markdown",
   "metadata": {},
   "source": [
    "# Convert to segments for precision/recall/F1"
   ]
  },
  {
   "cell_type": "code",
   "execution_count": 24,
   "metadata": {
    "ExecuteTime": {
     "end_time": "2019-07-09T03:42:53.423323Z",
     "start_time": "2019-07-09T03:42:51.167658Z"
    }
   },
   "outputs": [],
   "source": [
    "interval = 30\n",
    "segs_dict = {}\n",
    "for video_id in dev_set:\n",
    "    video = Video.objects.get(id=video_id)\n",
    "    iset = IntervalSet([\n",
    "        Interval(Bounds3D(i, i), video.fps)\n",
    "        for i in range(0, video.num_frames) if (i % (\n",
    "            math.floor(video.fps * 3) * (interval / 3)\n",
    "        )) == 0\n",
    "    ])\n",
    "    segs_dict[video_id] = iset\n",
    "    \n",
    "segments = frame_to_second_collection(IntervalSetMapping(segs_dict)).dilate(interval / 2)"
   ]
  },
  {
   "cell_type": "code",
   "execution_count": 25,
   "metadata": {
    "ExecuteTime": {
     "end_time": "2019-07-09T03:42:53.469118Z",
     "start_time": "2019-07-09T03:42:53.426280Z"
    }
   },
   "outputs": [],
   "source": [
    "segments_all_negative = segments.map(\n",
    "    lambda intrvl: Interval(intrvl['bounds'], 0)\n",
    ")"
   ]
  },
  {
   "cell_type": "code",
   "execution_count": 26,
   "metadata": {
    "ExecuteTime": {
     "end_time": "2019-07-09T03:42:54.012049Z",
     "start_time": "2019-07-09T03:42:53.471914Z"
    }
   },
   "outputs": [
    {
     "name": "stdout",
     "output_type": "stream",
     "text": [
      "{52945: 22, 34642: 22, 38275: 16, 42756: 23}\n",
      "{45698: 124, 38275: 123, 42756: 124, 33541: 123, 34359: 124, 52749: 245, 23184: 123, 52945: 124, 34642: 124, 10323: 123, 38420: 124, 16215: 63, 8859: 123, 20380: 124, 55711: 124, 20450: 123, 13927: 124, 57384: 123, 19882: 124, 17458: 123, 3952: 123, 37170: 124, 19959: 124, 41725: 123}\n"
     ]
    }
   ],
   "source": [
    "interview_segments = segments.filter_against(\n",
    "    interviews_ism.filter(\n",
    "        payload_satisfies(lambda p: (\n",
    "            p['guest1'] == 'bernie sanders' and\n",
    "#                 p['interviewer1'] == 'jake tapper' and\n",
    "            p['guest2'] is None and\n",
    "#             p['interviewer2'] is None and\n",
    "            p['original']\n",
    "        ))\n",
    "    ), predicate=overlaps()\n",
    ").map(\n",
    "    lambda intrvl: Interval(intrvl['bounds'], 1)\n",
    ")\n",
    "\n",
    "interview_labels = segments_all_negative.minus(\n",
    "    interview_segments\n",
    ").union(interview_segments)\n",
    "\n",
    "print(interview_segments.size())\n",
    "print(interview_labels.size())"
   ]
  },
  {
   "cell_type": "code",
   "execution_count": 27,
   "metadata": {
    "ExecuteTime": {
     "end_time": "2019-07-09T03:42:54.386239Z",
     "start_time": "2019-07-09T03:42:54.014856Z"
    }
   },
   "outputs": [
    {
     "name": "stdout",
     "output_type": "stream",
     "text": [
      "{52945: 22, 34642: 22, 38275: 17, 42756: 22}\n",
      "{45698: 124, 38275: 123, 42756: 124, 33541: 123, 34359: 124, 52749: 245, 23184: 123, 52945: 124, 34642: 124, 10323: 123, 38420: 124, 16215: 63, 8859: 123, 20380: 124, 55711: 124, 20450: 123, 13927: 124, 57384: 123, 19882: 124, 17458: 123, 3952: 123, 37170: 124, 19959: 124, 41725: 123}\n"
     ]
    }
   ],
   "source": [
    "interview_prediction_segments = segments.filter_against(\n",
    "    interview_candidates,\n",
    "    predicate = overlaps()\n",
    ").map(lambda intrvl: Interval(intrvl['bounds'], 1))\n",
    "\n",
    "interview_prediction_labels = segments_all_negative.minus(\n",
    "    interview_prediction_segments\n",
    ").union(interview_prediction_segments)\n",
    "\n",
    "print(interview_prediction_segments.size())\n",
    "print(interview_prediction_labels.size())"
   ]
  },
  {
   "cell_type": "code",
   "execution_count": 28,
   "metadata": {
    "ExecuteTime": {
     "end_time": "2019-07-09T03:42:56.029648Z",
     "start_time": "2019-07-09T03:42:54.389063Z"
    }
   },
   "outputs": [],
   "source": [
    "prediction_labels = interview_prediction_labels.join(\n",
    "    interview_labels,\n",
    "    predicate = equal(),\n",
    "    merge_op = lambda i1, i2: Interval(\n",
    "        i1['bounds'],\n",
    "        'tp' if i1['payload'] == i2['payload'] and i1['payload'] == 1 else\n",
    "        'tn' if i1['payload'] == i2['payload'] and i1['payload'] == 0 else\n",
    "        'fp' if i1['payload'] != i2['payload'] and i1['payload'] == 1 else\n",
    "        'fn'\n",
    "    )\n",
    ")"
   ]
  },
  {
   "cell_type": "code",
   "execution_count": 29,
   "metadata": {
    "ExecuteTime": {
     "end_time": "2019-07-09T03:42:56.059383Z",
     "start_time": "2019-07-09T03:42:56.032725Z"
    }
   },
   "outputs": [
    {
     "data": {
      "text/plain": [
       "{34642: 22, 38275: 16, 42756: 22, 52945: 22}"
      ]
     },
     "execution_count": 29,
     "metadata": {},
     "output_type": "execute_result"
    }
   ],
   "source": [
    "prediction_labels.filter(payload_satisfies(lambda p: p == 'tp')).size()"
   ]
  },
  {
   "cell_type": "code",
   "execution_count": 30,
   "metadata": {
    "ExecuteTime": {
     "end_time": "2019-07-09T03:42:56.116108Z",
     "start_time": "2019-07-09T03:42:56.061816Z"
    }
   },
   "outputs": [
    {
     "data": {
      "text/plain": [
       "{3952: 123,\n",
       " 8859: 123,\n",
       " 10323: 123,\n",
       " 13927: 124,\n",
       " 16215: 63,\n",
       " 17458: 123,\n",
       " 19882: 124,\n",
       " 19959: 124,\n",
       " 20380: 124,\n",
       " 20450: 123,\n",
       " 23184: 123,\n",
       " 33541: 123,\n",
       " 34359: 124,\n",
       " 34642: 102,\n",
       " 37170: 124,\n",
       " 38275: 106,\n",
       " 38420: 124,\n",
       " 41725: 123,\n",
       " 42756: 101,\n",
       " 45698: 124,\n",
       " 52749: 245,\n",
       " 52945: 102,\n",
       " 55711: 124,\n",
       " 57384: 123}"
      ]
     },
     "execution_count": 30,
     "metadata": {},
     "output_type": "execute_result"
    }
   ],
   "source": [
    "prediction_labels.filter(payload_satisfies(lambda p: p == 'tn')).size()"
   ]
  },
  {
   "cell_type": "code",
   "execution_count": 31,
   "metadata": {
    "ExecuteTime": {
     "end_time": "2019-07-09T03:42:56.143316Z",
     "start_time": "2019-07-09T03:42:56.118184Z"
    }
   },
   "outputs": [
    {
     "data": {
      "text/plain": [
       "{38275: 1}"
      ]
     },
     "execution_count": 31,
     "metadata": {},
     "output_type": "execute_result"
    }
   ],
   "source": [
    "prediction_labels.filter(payload_satisfies(lambda p: p == 'fp')).size()"
   ]
  },
  {
   "cell_type": "code",
   "execution_count": 32,
   "metadata": {
    "ExecuteTime": {
     "end_time": "2019-07-09T03:42:56.169844Z",
     "start_time": "2019-07-09T03:42:56.145770Z"
    }
   },
   "outputs": [
    {
     "data": {
      "text/plain": [
       "{42756: 1}"
      ]
     },
     "execution_count": 32,
     "metadata": {},
     "output_type": "execute_result"
    }
   ],
   "source": [
    "prediction_labels.filter(payload_satisfies(lambda p: p == 'fn')).size()"
   ]
  },
  {
   "cell_type": "code",
   "execution_count": 33,
   "metadata": {
    "ExecuteTime": {
     "end_time": "2019-07-09T03:42:56.201753Z",
     "start_time": "2019-07-09T03:42:56.172349Z"
    }
   },
   "outputs": [],
   "source": [
    "def precision_recall_f1(pred_labels):\n",
    "    def sum_values(obj):\n",
    "        return sum([v for v in list(obj.values())])\n",
    "    tp = sum_values(prediction_labels.filter(payload_satisfies(lambda p: p == 'tp')).size())\n",
    "    tn = sum_values(prediction_labels.filter(payload_satisfies(lambda p: p == 'tn')).size())\n",
    "    fp = sum_values(prediction_labels.filter(payload_satisfies(lambda p: p == 'fp')).size())\n",
    "    fn = sum_values(prediction_labels.filter(payload_satisfies(lambda p: p == 'fn')).size())\n",
    "    \n",
    "    precision = tp / (tp + fp)\n",
    "    recall = tp / (tp + fn)\n",
    "    f1 = 2 * precision * recall / (precision + recall)\n",
    "    \n",
    "    return (precision, recall, f1, tp, tn, fp, fn)"
   ]
  },
  {
   "cell_type": "code",
   "execution_count": 34,
   "metadata": {
    "ExecuteTime": {
     "end_time": "2019-07-09T03:42:56.266753Z",
     "start_time": "2019-07-09T03:42:56.204130Z"
    }
   },
   "outputs": [
    {
     "data": {
      "text/plain": [
       "(0.9879518072289156, 0.9879518072289156, 0.9879518072289156, 82, 2942, 1, 1)"
      ]
     },
     "execution_count": 34,
     "metadata": {},
     "output_type": "execute_result"
    }
   ],
   "source": [
    "precision_recall_f1(prediction_labels)"
   ]
  },
  {
   "cell_type": "markdown",
   "metadata": {},
   "source": [
    "# Run on the test set"
   ]
  },
  {
   "cell_type": "markdown",
   "metadata": {},
   "source": [
    "## Load Data"
   ]
  },
  {
   "cell_type": "code",
   "execution_count": 35,
   "metadata": {
    "ExecuteTime": {
     "end_time": "2019-07-09T03:44:11.711179Z",
     "start_time": "2019-07-09T03:42:56.269247Z"
    }
   },
   "outputs": [],
   "source": [
    "gt_interviews_all = LabeledInterview.objects.filter(\n",
    "    video_id__in=test_set\n",
    ").all()\n",
    "interviews_ism = ingest.ism_from_django_qs(\n",
    "    gt_interviews_all,\n",
    "    bounds_schema={ 't1': 'start', 't2': 'end' },\n",
    "    with_payload=lambda row: {\n",
    "        'original': row.original,\n",
    "        'guest1': row.guest1,\n",
    "        'guest2': row.guest2,\n",
    "        'interviewer1': row.interviewer1,\n",
    "        'interviewer2': row.interviewer2\n",
    "    }\n",
    ")\n",
    "bernie_interviews = interviews_ism.filter(\n",
    "    payload_satisfies(lambda p: (\n",
    "        p['guest1'] == 'bernie sanders' and\n",
    "#                 p['interviewer1'] == 'jake tapper' and\n",
    "        p['guest2'] is None and\n",
    "#         p['interviewer2'] is None and\n",
    "        p['original']\n",
    "    ))\n",
    ")\n",
    "video_meta = [\n",
    "    Video.objects.get(id=vid).for_vgrid()\n",
    "    for vid in test_set\n",
    "]\n",
    "all_videos = IntervalSetMapping({\n",
    "    vm.id: IntervalSet([Interval(Bounds3D(0, vm.num_frames / vm.fps))])\n",
    "    for vm in video_meta\n",
    "})\n",
    "bernie_qs = FaceIdentity.objects.filter(\n",
    "    identity__name='bernie sanders',\n",
    "    face__frame__video_id__in=test_set\n",
    ").annotate(\n",
    "    min_frame=F('face__frame__number'),\n",
    "    max_frame=F('face__frame__number'),\n",
    "    video_id=F('face__frame__video_id'),\n",
    "    bbox_x1=F('face__bbox_x1'),\n",
    "    bbox_y1=F('face__bbox_y1'),\n",
    "    bbox_x2=F('face__bbox_x2'),\n",
    "    bbox_y2=F('face__bbox_y2'),\n",
    "    fps=F('face__frame__video__fps')\n",
    ")\n",
    "# Takes about 20 seconds to run!\n",
    "bernie_intervals = ingest.ism_from_django_qs(\n",
    "    bernie_qs,\n",
    "    bounds_schema={\n",
    "        't1': 'min_frame',\n",
    "        't2': 'max_frame',\n",
    "        'x1': 'bbox_x1',\n",
    "        'x2': 'bbox_x2',\n",
    "        'y1': 'bbox_y1',\n",
    "        'y2': 'bbox_y2',\n",
    "        'payload': 'fps'\n",
    "    }\n",
    ").filter(lambda intrvl: (intrvl['t1'] % math.floor(intrvl['payload'] * 3)) == 0)\n",
    "hosts_qs = FaceIdentity.objects.filter(\n",
    "    face__frame__video_id__in=test_set,\n",
    "    face__is_host=True\n",
    ").annotate(\n",
    "    min_frame=F('face__shot__min_frame'),\n",
    "    max_frame=F('face__shot__max_frame'),\n",
    "    video_id=F('face__frame__video_id'),\n",
    "    bbox_x1=F('face__bbox_x1'),\n",
    "    bbox_y1=F('face__bbox_y1'),\n",
    "    bbox_x2=F('face__bbox_x2'),\n",
    "    bbox_y2=F('face__bbox_y2'),\n",
    "    fps=F('face__frame__video__fps')\n",
    ")\n",
    "# Takes about 4 and a half minutes to run!\n",
    "host_intervals = ingest.ism_from_django_qs(\n",
    "    hosts_qs,\n",
    "    bounds_schema={\n",
    "        't1': 'min_frame',\n",
    "        't2': 'max_frame',\n",
    "        'x1': 'bbox_x1',\n",
    "        'x2': 'bbox_x2',\n",
    "        'y1': 'bbox_y1',\n",
    "        'y2': 'bbox_y2',\n",
    "        'payload': 'fps'\n",
    "    }\n",
    ")#.filter(lambda intrvl: (intrvl['t1'] % math.floor(intrvl['payload'] * 3)) == 0)"
   ]
  },
  {
   "cell_type": "markdown",
   "metadata": {},
   "source": [
    "## Run Query"
   ]
  },
  {
   "cell_type": "code",
   "execution_count": 36,
   "metadata": {
    "ExecuteTime": {
     "end_time": "2019-07-09T03:44:39.767814Z",
     "start_time": "2019-07-09T03:44:11.713846Z"
    }
   },
   "outputs": [],
   "source": [
    "bernie_with_host = bernie_intervals.join(\n",
    "    host_intervals,\n",
    "    predicate = overlaps(),\n",
    "    merge_op = lambda i1, i2: Interval(\n",
    "        Bounds3D.intersect_time_span_space(i1['bounds'], i2['bounds']),\n",
    "        i1\n",
    "    ),\n",
    "    window=0\n",
    ")\n",
    "bernie_with_host_seconds = frame_to_second_collection(bernie_with_host).dilate(1.5)\n",
    "bernie_alone_seconds = frame_to_second_collection(\n",
    "    bernie_intervals\n",
    ").dilate(1.5).minus(\n",
    "    bernie_with_host_seconds\n",
    ")\n",
    "interview_candidates = bernie_with_host_seconds.dilate(5).coalesce(\n",
    "    ('t1', 't2'),\n",
    "    Bounds3D.span\n",
    ").dilate(-5).join(\n",
    "    bernie_alone_seconds.dilate(5).coalesce(\n",
    "        ('t1', 't2'),\n",
    "        Bounds3D.span\n",
    "    ).dilate(-5),\n",
    "    predicate = or_pred(\n",
    "        before(max_dist = 5),\n",
    "        after(max_dist = 5),\n",
    "        overlaps()\n",
    "    ),\n",
    "    merge_op = lambda i1, i2: Interval(i1['bounds'].span(i2['bounds'])),\n",
    "    window = 10\n",
    ").union(\n",
    "    bernie_with_host_seconds.dilate(5).coalesce(\n",
    "        ('t1', 't2'),\n",
    "        Bounds3D.span\n",
    "    ).dilate(-5)\n",
    ").dilate(5).coalesce(\n",
    "    ('t1', 't2'),\n",
    "    Bounds3D.span\n",
    ").dilate(-5).filter_size(min_size = 60)"
   ]
  },
  {
   "cell_type": "markdown",
   "metadata": {},
   "source": [
    "## Convert to Segments"
   ]
  },
  {
   "cell_type": "code",
   "execution_count": 37,
   "metadata": {
    "ExecuteTime": {
     "end_time": "2019-07-09T03:44:47.093674Z",
     "start_time": "2019-07-09T03:44:39.770477Z"
    }
   },
   "outputs": [
    {
     "data": {
      "text/plain": [
       "(0.9217391304347826, 0.9906542056074766, 0.954954954954955, 106, 3446, 9, 1)"
      ]
     },
     "execution_count": 37,
     "metadata": {},
     "output_type": "execute_result"
    }
   ],
   "source": [
    "interval = 30\n",
    "segs_dict = {}\n",
    "for video_id in test_set:\n",
    "    video = Video.objects.get(id=video_id)\n",
    "    iset = IntervalSet([\n",
    "        Interval(Bounds3D(i, i), video.fps)\n",
    "        for i in range(0, video.num_frames) if (i % (\n",
    "            math.floor(video.fps * 3) * (interval / 3)\n",
    "        )) == 0\n",
    "    ])\n",
    "    segs_dict[video_id] = iset\n",
    "    \n",
    "segments = frame_to_second_collection(IntervalSetMapping(segs_dict)).dilate(interval / 2)\n",
    "segments_all_negative = segments.map(\n",
    "    lambda intrvl: Interval(intrvl['bounds'], 0)\n",
    ")\n",
    "interview_segments = segments.filter_against(\n",
    "    interviews_ism.filter(\n",
    "        payload_satisfies(lambda p: (\n",
    "            p['guest1'] == 'bernie sanders' and\n",
    "#                 p['interviewer1'] == 'jake tapper' and\n",
    "            p['guest2'] is None and\n",
    "#             p['interviewer2'] is None and\n",
    "            p['original']\n",
    "        ))\n",
    "    ), predicate=overlaps()\n",
    ").map(\n",
    "    lambda intrvl: Interval(intrvl['bounds'], 1)\n",
    ")\n",
    "\n",
    "interview_labels = segments_all_negative.minus(\n",
    "    interview_segments\n",
    ").union(interview_segments)\n",
    "\n",
    "interview_prediction_segments = segments.filter_against(\n",
    "    interview_candidates,\n",
    "    predicate = overlaps()\n",
    ").map(lambda intrvl: Interval(intrvl['bounds'], 1))\n",
    "\n",
    "interview_prediction_labels = segments_all_negative.minus(\n",
    "    interview_prediction_segments\n",
    ").union(interview_prediction_segments)\n",
    "\n",
    "prediction_labels = interview_prediction_labels.join(\n",
    "    interview_labels,\n",
    "    predicate = equal(),\n",
    "    merge_op = lambda i1, i2: Interval(\n",
    "        i1['bounds'],\n",
    "        'tp' if i1['payload'] == i2['payload'] and i1['payload'] == 1 else\n",
    "        'tn' if i1['payload'] == i2['payload'] and i1['payload'] == 0 else\n",
    "        'fp' if i1['payload'] != i2['payload'] and i1['payload'] == 1 else\n",
    "        'fn'\n",
    "    )\n",
    ")\n",
    "\n",
    "precision_recall_f1(prediction_labels)"
   ]
  }
 ],
 "metadata": {
  "kernelspec": {
   "display_name": "Django Shell-Plus",
   "language": "python",
   "name": "django_extensions"
  },
  "language_info": {
   "codemirror_mode": {
    "name": "ipython",
    "version": 3
   },
   "file_extension": ".py",
   "mimetype": "text/x-python",
   "name": "python",
   "nbconvert_exporter": "python",
   "pygments_lexer": "ipython3",
   "version": "3.5.2"
  },
  "toc": {
   "nav_menu": {},
   "number_sections": true,
   "sideBar": true,
   "skip_h1_title": false,
   "toc_cell": false,
   "toc_position": {},
   "toc_section_display": "block",
   "toc_window_display": false
  }
 },
 "nbformat": 4,
 "nbformat_minor": 2
}
