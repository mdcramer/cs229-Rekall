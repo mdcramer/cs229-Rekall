{
 "cells": [
  {
   "cell_type": "code",
   "execution_count": 38,
   "metadata": {
    "ExecuteTime": {
     "end_time": "2019-10-24T22:29:10.396321Z",
     "start_time": "2019-10-24T22:29:10.377945Z"
    }
   },
   "outputs": [],
   "source": [
    "from tqdm import tqdm\n",
    "import pickle"
   ]
  },
  {
   "cell_type": "code",
   "execution_count": 2,
   "metadata": {
    "ExecuteTime": {
     "end_time": "2019-10-24T18:58:02.282222Z",
     "start_time": "2019-10-24T18:58:02.258697Z"
    }
   },
   "outputs": [],
   "source": [
    "video_ids = sorted([\n",
    "    8220, 59398, 13141, 50164, 33004, 9901, 59122, 12837, 3769, 52075,\n",
    "    10335, 57990, 45655, 57804, 24193, 3459, 37113, 2648, 8697, 57708,\n",
    "    57592, 11003, 7262, 27410, 60186, 17983, 45472, 33387, 50561, 13556,\n",
    "    16542, 40203, 53684, 11555, 37107, 51175, 23181, 49931, 24992, 14482,\n",
    "    4611, 16879, 13827, 32472, 11792, 25463, 31378, 45645, 53355,\n",
    "    38275, 42756, 52945, 34642, 19959, 37170, 55711, 45698, 20380, 3952,\n",
    "    20450, 52749, 13927, 16215, 57384, 8859, 41725, 10323, 33541, 38420,\n",
    "    23184, 19882, 17458, 34359,\n",
    "    54377, 26386, 5281, 763, 9499, 24847, 13247, 29001, 9480, 9215, 27188,\n",
    "    13058, 32996, 6185, 36755, 13993, 4143, 3730, 15916, 529, 11579, 48140,\n",
    "    41480, 16693\n",
    "])"
   ]
  },
  {
   "cell_type": "markdown",
   "metadata": {},
   "source": [
    "# Export videos"
   ]
  },
  {
   "cell_type": "code",
   "execution_count": 3,
   "metadata": {
    "ExecuteTime": {
     "end_time": "2019-10-24T18:58:04.002972Z",
     "start_time": "2019-10-24T18:58:03.167437Z"
    }
   },
   "outputs": [],
   "source": [
    "paths = [\n",
    "    Video.objects.get(id=vid).path\n",
    "    for vid in video_ids\n",
    "]"
   ]
  },
  {
   "cell_type": "code",
   "execution_count": 5,
   "metadata": {
    "ExecuteTime": {
     "end_time": "2019-10-22T22:02:17.045416Z",
     "start_time": "2019-10-22T22:02:17.022703Z"
    }
   },
   "outputs": [],
   "source": [
    "# output the paths to a file\n",
    "with open('/app/data/video_paths_sandbox.txt', 'w') as f:\n",
    "    for path in paths:\n",
    "        f.write('gs://esper/{}\\n'.format(path))"
   ]
  },
  {
   "cell_type": "markdown",
   "metadata": {},
   "source": [
    "## Now, download the videos.\n",
    "\n",
    "From the data folder (either within Docker or from the host), run these commands:\n",
    "\n",
    "```\n",
    "mkdir -p videos\n",
    "cat video_paths_sandbox.txt | gsutil -m cp -I videos\n",
    "```"
   ]
  },
  {
   "cell_type": "markdown",
   "metadata": {},
   "source": [
    "# Export Video Metadata"
   ]
  },
  {
   "cell_type": "code",
   "execution_count": 4,
   "metadata": {
    "ExecuteTime": {
     "end_time": "2019-10-24T18:58:07.723860Z",
     "start_time": "2019-10-24T18:58:07.700312Z"
    }
   },
   "outputs": [
    {
     "data": {
      "text/plain": [
       "Video(id: 8220, path: tvnews/videos/CNNW_20170618_160000_State_of_the_Union_With_Jake_Tapper.mp4, num_frames: 219437, fps: 59.94, width: 640, height: 360, has_captions: False, time: 2017-06-18 16:00:00, commercials_labeled: True, srt_extension: cc5, threeyears_dataset: True, duplicate: False, corrupted: False)"
      ]
     },
     "execution_count": 4,
     "metadata": {},
     "output_type": "execute_result"
    }
   ],
   "source": [
    "Video.objects.get(id=8220)"
   ]
  },
  {
   "cell_type": "code",
   "execution_count": 5,
   "metadata": {
    "ExecuteTime": {
     "end_time": "2019-10-24T18:58:08.446321Z",
     "start_time": "2019-10-24T18:58:08.428774Z"
    }
   },
   "outputs": [],
   "source": [
    "import json\n",
    "import os"
   ]
  },
  {
   "cell_type": "code",
   "execution_count": 6,
   "metadata": {
    "ExecuteTime": {
     "end_time": "2019-10-24T18:58:10.066426Z",
     "start_time": "2019-10-24T18:58:10.040001Z"
    }
   },
   "outputs": [],
   "source": [
    "video_meta = [\n",
    "    {\n",
    "        'id': vid.id,\n",
    "        'path': os.path.basename(vid.path),\n",
    "        'num_frames': vid.num_frames,\n",
    "        'fps': vid.fps,\n",
    "        'width': vid.width,\n",
    "        'height': vid.height\n",
    "    }\n",
    "    for vid in Video.objects.filter(id__in=video_ids).all()\n",
    "]"
   ]
  },
  {
   "cell_type": "code",
   "execution_count": 30,
   "metadata": {
    "ExecuteTime": {
     "end_time": "2019-10-23T00:08:20.388643Z",
     "start_time": "2019-10-23T00:08:20.364651Z"
    }
   },
   "outputs": [],
   "source": [
    "with open('/app/data/video_meta_sandbox.json', 'w') as f:\n",
    "    json.dump(video_meta, f)"
   ]
  },
  {
   "cell_type": "markdown",
   "metadata": {},
   "source": [
    "# Export faces, with all metadata"
   ]
  },
  {
   "cell_type": "markdown",
   "metadata": {},
   "source": [
    "## Load up metadata"
   ]
  },
  {
   "cell_type": "code",
   "execution_count": 7,
   "metadata": {
    "ExecuteTime": {
     "end_time": "2019-10-24T18:58:12.862732Z",
     "start_time": "2019-10-24T18:58:12.845141Z"
    }
   },
   "outputs": [],
   "source": [
    "from app.models import Face"
   ]
  },
  {
   "cell_type": "code",
   "execution_count": 8,
   "metadata": {
    "ExecuteTime": {
     "end_time": "2019-10-24T18:58:13.214628Z",
     "start_time": "2019-10-24T18:58:13.194460Z"
    }
   },
   "outputs": [],
   "source": [
    "all_faces = Face.objects.filter(frame__video_id__in=video_ids).annotate(\n",
    "    video_id=F('frame__video_id'),\n",
    "    frame_number=F('frame__number'),\n",
    "    labeler_name=F('labeler__name')\n",
    ").all()"
   ]
  },
  {
   "cell_type": "code",
   "execution_count": 9,
   "metadata": {
    "ExecuteTime": {
     "end_time": "2019-10-24T19:04:29.369846Z",
     "start_time": "2019-10-24T18:58:13.418887Z"
    }
   },
   "outputs": [
    {
     "data": {
      "text/plain": [
       "218006"
      ]
     },
     "execution_count": 9,
     "metadata": {},
     "output_type": "execute_result"
    }
   ],
   "source": [
    "all_faces.count()"
   ]
  },
  {
   "cell_type": "code",
   "execution_count": 10,
   "metadata": {
    "ExecuteTime": {
     "end_time": "2019-10-24T19:12:25.446981Z",
     "start_time": "2019-10-24T19:04:29.372136Z"
    }
   },
   "outputs": [
    {
     "name": "stderr",
     "output_type": "stream",
     "text": [
      "100%|███████████████████████████████████████████████████████████████████████████████████████████████████████████████████████████████████████████████████████████████████████████████████████████████| 218006/218006 [07:56<00:00, 457.94it/s]\n"
     ]
    }
   ],
   "source": [
    "all_face_ids = [\n",
    "    face.id\n",
    "    for face in tqdm(all_faces, total=218006)\n",
    "]"
   ]
  },
  {
   "cell_type": "code",
   "execution_count": 11,
   "metadata": {
    "ExecuteTime": {
     "end_time": "2019-10-24T19:12:26.603677Z",
     "start_time": "2019-10-24T19:12:25.449612Z"
    }
   },
   "outputs": [],
   "source": [
    "face_ids_qs = FaceIdentity.objects.filter(face_id__in=all_face_ids).annotate(\n",
    "    identity_name=F('identity__name'),\n",
    "    labeler_name=F('labeler__name')\n",
    ").all()"
   ]
  },
  {
   "cell_type": "code",
   "execution_count": 12,
   "metadata": {
    "ExecuteTime": {
     "end_time": "2019-10-24T19:12:34.767095Z",
     "start_time": "2019-10-24T19:12:26.606220Z"
    }
   },
   "outputs": [
    {
     "name": "stderr",
     "output_type": "stream",
     "text": [
      "100%|███████████████████████████████████████████████████████████████████████████████████████████████████████████████████████████████████████████████████████████████████████████████████████████| 204929/204929 [00:00<00:00, 1608422.45it/s]\n"
     ]
    }
   ],
   "source": [
    "face_ids = [\n",
    "    (fid.face_id, fid.identity_name, fid.labeler_name, fid.probability)\n",
    "    for fid in tqdm(face_ids_qs)\n",
    "]"
   ]
  },
  {
   "cell_type": "code",
   "execution_count": 13,
   "metadata": {
    "ExecuteTime": {
     "end_time": "2019-10-24T19:12:34.788036Z",
     "start_time": "2019-10-24T19:12:34.768996Z"
    }
   },
   "outputs": [
    {
     "data": {
      "text/plain": [
       "[(371244,\n",
       "  'anthony bourdain',\n",
       "  'face-identity:anthony bourdain',\n",
       "  0.999534487724304),\n",
       " (371244,\n",
       "  'donald trump',\n",
       "  'face-identity-old:donald trump',\n",
       "  0.00488064000000035),\n",
       " (371246,\n",
       "  'hillary clinton',\n",
       "  'face-identity:hillary clinton',\n",
       "  0.673712015151978),\n",
       " (371246,\n",
       "  'hillary clinton',\n",
       "  'face-identity-old:hillary clinton',\n",
       "  0.706798400000001),\n",
       " (371246,\n",
       "  'mika brzezinski',\n",
       "  'face-identity-old:mika brzezinski',\n",
       "  0.00754991999999999),\n",
       " (371249, 'donald trump', 'face-identity:donald trump', 0.977125525474548),\n",
       " (371249, 'donald trump', 'face-identity-old:donald trump', 1.0),\n",
       " (371252, 'donald trump', 'face-identity-old:donald trump', 0.18628128),\n",
       " (371252, 'tucker carlson', 'face-identity-old:tucker carlson', 0.02),\n",
       " (371253, 'donald trump', 'face-identity:donald trump', 0.497754991054535)]"
      ]
     },
     "execution_count": 13,
     "metadata": {},
     "output_type": "execute_result"
    }
   ],
   "source": [
    "face_ids[:10]"
   ]
  },
  {
   "cell_type": "code",
   "execution_count": 14,
   "metadata": {
    "ExecuteTime": {
     "end_time": "2019-10-24T19:12:35.944578Z",
     "start_time": "2019-10-24T19:12:34.790047Z"
    }
   },
   "outputs": [],
   "source": [
    "face_genders_qs = FaceGender.objects.filter(face_id__in=all_face_ids).annotate(\n",
    "    gender_name=F('gender__name'),\n",
    "    labeler_name=F('labeler__name')\n",
    ").all()"
   ]
  },
  {
   "cell_type": "code",
   "execution_count": 15,
   "metadata": {
    "ExecuteTime": {
     "end_time": "2019-10-24T19:12:46.147134Z",
     "start_time": "2019-10-24T19:12:35.946397Z"
    }
   },
   "outputs": [
    {
     "name": "stderr",
     "output_type": "stream",
     "text": [
      "100%|███████████████████████████████████████████████████████████████████████████████████████████████████████████████████████████████████████████████████████████████████████████████████████████| 435157/435157 [00:00<00:00, 1454946.36it/s]\n"
     ]
    }
   ],
   "source": [
    "face_genders = [\n",
    "    (fid.face_id, fid.gender_name, fid.labeler_name, fid.probability)\n",
    "    for fid in tqdm(face_genders_qs)\n",
    "]"
   ]
  },
  {
   "cell_type": "code",
   "execution_count": 16,
   "metadata": {
    "ExecuteTime": {
     "end_time": "2019-10-24T19:12:46.168150Z",
     "start_time": "2019-10-24T19:12:46.149661Z"
    }
   },
   "outputs": [
    {
     "data": {
      "text/plain": [
       "[(371244, 'M', 'knn-gender', 1.0),\n",
       " (371244, 'M', 'rudecarnie', 0.566955983638763),\n",
       " (371245, 'M', 'knn-gender', 1.0),\n",
       " (371245, 'M', 'rudecarnie', 0.999832034111023),\n",
       " (371246, 'F', 'knn-gender', 1.0),\n",
       " (371246, 'F', 'rudecarnie', 0.999978423118591),\n",
       " (371247, 'F', 'knn-gender', 0.714285714285714),\n",
       " (371247, 'M', 'rudecarnie', 0.999894618988037),\n",
       " (371248, 'M', 'knn-gender', 0.857142857142857),\n",
       " (371248, 'F', 'rudecarnie', 0.976446032524109)]"
      ]
     },
     "execution_count": 16,
     "metadata": {},
     "output_type": "execute_result"
    }
   ],
   "source": [
    "face_genders[:10]"
   ]
  },
  {
   "cell_type": "markdown",
   "metadata": {},
   "source": [
    "## Associate metadata with faces"
   ]
  },
  {
   "cell_type": "code",
   "execution_count": 17,
   "metadata": {
    "ExecuteTime": {
     "end_time": "2019-10-24T19:12:46.970427Z",
     "start_time": "2019-10-24T19:12:46.170148Z"
    }
   },
   "outputs": [],
   "source": [
    "faces_with_metadata = {\n",
    "    face.id: {\n",
    "        'face': face,\n",
    "        'identities': [],\n",
    "        'genders': []\n",
    "    }\n",
    "    for face in all_faces\n",
    "}"
   ]
  },
  {
   "cell_type": "code",
   "execution_count": 18,
   "metadata": {
    "ExecuteTime": {
     "end_time": "2019-10-24T19:12:47.190528Z",
     "start_time": "2019-10-24T19:12:46.972382Z"
    }
   },
   "outputs": [],
   "source": [
    "for fid, identity, labeler, score in face_ids:\n",
    "    faces_with_metadata[fid]['identities'].append((identity, labeler, score))"
   ]
  },
  {
   "cell_type": "code",
   "execution_count": 19,
   "metadata": {
    "ExecuteTime": {
     "end_time": "2019-10-24T19:12:47.571284Z",
     "start_time": "2019-10-24T19:12:47.192451Z"
    }
   },
   "outputs": [],
   "source": [
    "for fid, gender, labeler, score in face_genders:\n",
    "    faces_with_metadata[fid]['genders'].append((gender, labeler, score))"
   ]
  },
  {
   "cell_type": "code",
   "execution_count": 20,
   "metadata": {
    "ExecuteTime": {
     "end_time": "2019-10-24T19:12:47.594357Z",
     "start_time": "2019-10-24T19:12:47.573183Z"
    }
   },
   "outputs": [
    {
     "data": {
      "text/plain": [
       "{'face': Face(id: 371244, bbox_x1: 0.296029949188232, bbox_x2: 0.468071746826172, bbox_y1: 0.0534073299831814, bbox_y2: 0.396803622775608, background: False, is_host: False, blurriness: 114.526557177708, probability: 1.0),\n",
       " 'genders': [('M', 'knn-gender', 1.0), ('M', 'rudecarnie', 0.566955983638763)],\n",
       " 'identities': [('anthony bourdain',\n",
       "   'face-identity:anthony bourdain',\n",
       "   0.999534487724304),\n",
       "  ('donald trump', 'face-identity-old:donald trump', 0.00488064000000035)]}"
      ]
     },
     "execution_count": 20,
     "metadata": {},
     "output_type": "execute_result"
    }
   ],
   "source": [
    "faces_with_metadata[371244]"
   ]
  },
  {
   "cell_type": "markdown",
   "metadata": {},
   "source": [
    "## Convert to JSON"
   ]
  },
  {
   "cell_type": "code",
   "execution_count": 32,
   "metadata": {
    "ExecuteTime": {
     "end_time": "2019-10-24T22:22:30.132239Z",
     "start_time": "2019-10-24T22:22:27.492232Z"
    }
   },
   "outputs": [],
   "source": [
    "faces_json = [\n",
    "    {\n",
    "        'id': fid,\n",
    "        'frame_number': faces_with_metadata[fid]['face'].frame_number,\n",
    "        'video_id': faces_with_metadata[fid]['face'].video_id,\n",
    "        'x1': faces_with_metadata[fid]['face'].bbox_x1,\n",
    "        'x2': faces_with_metadata[fid]['face'].bbox_x2,\n",
    "        'y1': faces_with_metadata[fid]['face'].bbox_y1,\n",
    "        'y2': faces_with_metadata[fid]['face'].bbox_y2,\n",
    "        'is_host': faces_with_metadata[fid]['face'].is_host,\n",
    "        'score': faces_with_metadata[fid]['face'].probability,\n",
    "        'labeler': faces_with_metadata[fid]['face'].labeler_name,\n",
    "        'genders': [\n",
    "            {\n",
    "                'gender': gender,\n",
    "                'labeler': labeler,\n",
    "                'score': score\n",
    "            }\n",
    "            for gender, labeler, score in faces_with_metadata[fid]['genders']\n",
    "        ],\n",
    "        'identities': [\n",
    "            {\n",
    "                'identity': identity,\n",
    "                'labeler': labeler,\n",
    "                'score': score\n",
    "            }\n",
    "            for identity, labeler, score in faces_with_metadata[fid]['identities']\n",
    "        ]\n",
    "    }\n",
    "    for fid in faces_with_metadata\n",
    "]"
   ]
  },
  {
   "cell_type": "code",
   "execution_count": 59,
   "metadata": {
    "ExecuteTime": {
     "end_time": "2019-10-23T17:18:42.557126Z",
     "start_time": "2019-10-23T17:18:29.287866Z"
    }
   },
   "outputs": [],
   "source": [
    "with open('/app/data/face_dump.json', 'w') as f:\n",
    "    json.dump(faces_json, f)"
   ]
  },
  {
   "cell_type": "markdown",
   "metadata": {},
   "source": [
    "# Face Embeddings"
   ]
  },
  {
   "cell_type": "code",
   "execution_count": 22,
   "metadata": {
    "ExecuteTime": {
     "end_time": "2019-10-24T20:47:08.342243Z",
     "start_time": "2019-10-24T20:46:56.884423Z"
    }
   },
   "outputs": [],
   "source": [
    "from app.face_embeddings import *"
   ]
  },
  {
   "cell_type": "code",
   "execution_count": 29,
   "metadata": {
    "ExecuteTime": {
     "end_time": "2019-10-24T22:08:00.886496Z",
     "start_time": "2019-10-24T22:06:02.242869Z"
    }
   },
   "outputs": [],
   "source": [
    "face_features = get(all_face_ids)"
   ]
  },
  {
   "cell_type": "code",
   "execution_count": 33,
   "metadata": {
    "ExecuteTime": {
     "end_time": "2019-10-24T22:22:32.887034Z",
     "start_time": "2019-10-24T22:22:32.621668Z"
    }
   },
   "outputs": [],
   "source": [
    "face_to_video_id = {}\n",
    "for face in faces_json:\n",
    "    face_to_video_id[face['id']] = face['video_id']"
   ]
  },
  {
   "cell_type": "code",
   "execution_count": 36,
   "metadata": {
    "ExecuteTime": {
     "end_time": "2019-10-24T22:24:25.786361Z",
     "start_time": "2019-10-24T22:24:25.444083Z"
    }
   },
   "outputs": [
    {
     "name": "stderr",
     "output_type": "stream",
     "text": [
      "100%|████████████████████████████████████████████████████████████████████████████████████████████████████████████████████████████████████████████████████████████████████████████████████████████| 217983/217983 [00:00<00:00, 681961.71it/s]\n"
     ]
    }
   ],
   "source": [
    "features_by_video_id = {}\n",
    "for face_id, feature_vec in tqdm(face_features):\n",
    "    video_id = face_to_video_id[face_id]\n",
    "    if video_id not in features_by_video_id:\n",
    "        features_by_video_id[video_id] = {}\n",
    "    features_by_video_id[video_id][face_id] = feature_vec"
   ]
  },
  {
   "cell_type": "code",
   "execution_count": 40,
   "metadata": {
    "ExecuteTime": {
     "end_time": "2019-10-24T22:29:48.203423Z",
     "start_time": "2019-10-24T22:29:45.604349Z"
    }
   },
   "outputs": [],
   "source": [
    "for video_id in features_by_video_id:\n",
    "    with open('/app/data/face_features/{}.pkl'.format(video_id), 'wb') as f:\n",
    "        pickle.dump(features_by_video_id[video_id], f)"
   ]
  },
  {
   "cell_type": "markdown",
   "metadata": {},
   "source": [
    "# Segment Annotations"
   ]
  },
  {
   "cell_type": "code",
   "execution_count": 41,
   "metadata": {
    "ExecuteTime": {
     "end_time": "2019-10-24T22:34:46.886265Z",
     "start_time": "2019-10-24T22:34:46.868143Z"
    }
   },
   "outputs": [],
   "source": [
    "from app.models import LabeledCommercial, LabeledPanel, LabeledInterview"
   ]
  },
  {
   "cell_type": "code",
   "execution_count": 46,
   "metadata": {
    "ExecuteTime": {
     "end_time": "2019-10-24T23:10:08.689724Z",
     "start_time": "2019-10-24T23:10:08.474466Z"
    }
   },
   "outputs": [],
   "source": [
    "commercials = [\n",
    "    {\n",
    "        'video_id': comm.video_id,\n",
    "        'start': comm.start,\n",
    "        'end': comm.end\n",
    "    }\n",
    "    for comm in LabeledCommercial.objects.all()\n",
    "]"
   ]
  },
  {
   "cell_type": "code",
   "execution_count": 47,
   "metadata": {
    "ExecuteTime": {
     "end_time": "2019-10-24T23:10:31.000573Z",
     "start_time": "2019-10-24T23:10:30.976086Z"
    }
   },
   "outputs": [],
   "source": [
    "panels = [\n",
    "    {\n",
    "        'video_id': panel.video_id,\n",
    "        'start': panel.start,\n",
    "        'end': panel.end,\n",
    "        'num_panelists': panel.num_panelists\n",
    "    }\n",
    "    for panel in LabeledPanel.objects.all()\n",
    "]"
   ]
  },
  {
   "cell_type": "code",
   "execution_count": 48,
   "metadata": {
    "ExecuteTime": {
     "end_time": "2019-10-24T23:11:45.779918Z",
     "start_time": "2019-10-24T23:11:45.660521Z"
    }
   },
   "outputs": [],
   "source": [
    "interviews = [\n",
    "    {\n",
    "        'video_id': interview.video_id,\n",
    "        'start': interview.start,\n",
    "        'end': interview.end,\n",
    "        'interviewer1': interview.interviewer1,\n",
    "        'interviewer2': interview.interviewer2,\n",
    "        'guest1': interview.guest1,\n",
    "        'guest2': interview.guest2,\n",
    "        'original': interview.original,\n",
    "        'scattered_clips': interview.scattered_clips\n",
    "    }\n",
    "    for interview in LabeledInterview.objects.all()\n",
    "]"
   ]
  },
  {
   "cell_type": "code",
   "execution_count": 49,
   "metadata": {
    "ExecuteTime": {
     "end_time": "2019-10-24T23:12:06.122387Z",
     "start_time": "2019-10-24T23:12:06.096089Z"
    }
   },
   "outputs": [],
   "source": [
    "with open('/app/data/commercials.json', 'w') as f:\n",
    "    json.dump(commercials, f)"
   ]
  },
  {
   "cell_type": "code",
   "execution_count": 50,
   "metadata": {
    "ExecuteTime": {
     "end_time": "2019-10-24T23:12:15.119201Z",
     "start_time": "2019-10-24T23:12:15.099512Z"
    }
   },
   "outputs": [],
   "source": [
    "with open('/app/data/panels.json', 'w') as f:\n",
    "    json.dump(panels, f)"
   ]
  },
  {
   "cell_type": "code",
   "execution_count": 51,
   "metadata": {
    "ExecuteTime": {
     "end_time": "2019-10-24T23:12:23.369170Z",
     "start_time": "2019-10-24T23:12:23.344473Z"
    }
   },
   "outputs": [],
   "source": [
    "with open('/app/data/interviews.json', 'w') as f:\n",
    "    json.dump(interviews, f)"
   ]
  }
 ],
 "metadata": {
  "kernelspec": {
   "display_name": "Django Shell-Plus",
   "language": "python",
   "name": "django_extensions"
  },
  "language_info": {
   "codemirror_mode": {
    "name": "ipython",
    "version": 3
   },
   "file_extension": ".py",
   "mimetype": "text/x-python",
   "name": "python",
   "nbconvert_exporter": "python",
   "pygments_lexer": "ipython3",
   "version": "3.5.2"
  },
  "toc": {
   "nav_menu": {},
   "number_sections": true,
   "sideBar": true,
   "skip_h1_title": false,
   "toc_cell": false,
   "toc_position": {},
   "toc_section_display": "block",
   "toc_window_display": false
  }
 },
 "nbformat": 4,
 "nbformat_minor": 2
}
