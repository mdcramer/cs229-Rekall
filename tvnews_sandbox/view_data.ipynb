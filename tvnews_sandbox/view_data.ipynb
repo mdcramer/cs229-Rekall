{
 "cells": [
  {
   "cell_type": "code",
   "execution_count": null,
   "metadata": {},
   "outputs": [],
   "source": [
    "from rekall import Interval, IntervalSet, IntervalSetMapping, Bounds3D\n",
    "from rekall.predicates import *\n",
    "from rekall.stdlib import ingest\n",
    "from vgrid import VGridSpec, VideoMetadata, VideoBlockFormat, FlatFormat\n",
    "from vgrid_jupyter import VGridWidget\n",
    "import urllib3, requests, os"
   ]
  },
  {
   "cell_type": "code",
   "execution_count": null,
   "metadata": {},
   "outputs": [],
   "source": [
    "urllib3.disable_warnings()"
   ]
  },
  {
   "cell_type": "markdown",
   "metadata": {},
   "source": [
    "# Video metadata"
   ]
  },
  {
   "cell_type": "code",
   "execution_count": null,
   "metadata": {},
   "outputs": [],
   "source": [
    "VIDEO_COLLECTION_BASEURL = \"http://olimar.stanford.edu/hdd/tvnews-sandbox\"\n",
    "VIDEO_ENDPOINT = \"http://olimar.stanford.edu/hdd/tvnews-sandbox/videos\"\n",
    "VIDEO_METADATA_FILENAME = \"data/video_meta_sandbox.json\""
   ]
  },
  {
   "cell_type": "code",
   "execution_count": null,
   "metadata": {},
   "outputs": [],
   "source": [
    "req = requests.get(os.path.join(VIDEO_COLLECTION_BASEURL, VIDEO_METADATA_FILENAME), verify=False)\n",
    "video_collection = req.json()"
   ]
  },
  {
   "cell_type": "code",
   "execution_count": null,
   "metadata": {},
   "outputs": [],
   "source": [
    "video_metadata = [\n",
    "    VideoMetadata(v[\"path\"], v[\"id\"], v[\"fps\"], int(v[\"num_frames\"]), v[\"width\"], v[\"height\"])\n",
    "    for v in video_collection\n",
    "]"
   ]
  },
  {
   "cell_type": "code",
   "execution_count": null,
   "metadata": {},
   "outputs": [],
   "source": [
    "vgrid_spec = VGridSpec(\n",
    "    video_meta = video_metadata,\n",
    "    vis_format = VideoBlockFormat(imaps = None, video_meta = video_metadata),\n",
    "    video_endpoint = os.path.join(VIDEO_COLLECTION_BASEURL, 'videos')\n",
    ")\n",
    "VGridWidget(vgrid_spec = vgrid_spec.to_json_compressed())"
   ]
  },
  {
   "cell_type": "markdown",
   "metadata": {},
   "source": [
    "# Load faces"
   ]
  },
  {
   "cell_type": "code",
   "execution_count": null,
   "metadata": {},
   "outputs": [],
   "source": [
    "video_meta_by_id = {\n",
    "    vm.id: vm\n",
    "    for vm in video_metadata\n",
    "}"
   ]
  },
  {
   "cell_type": "code",
   "execution_count": null,
   "metadata": {},
   "outputs": [],
   "source": [
    "FACES_JSON = \"data/face_dump.json\"\n",
    "req = requests.get(os.path.join(VIDEO_COLLECTION_BASEURL, FACES_JSON), verify=False)\n",
    "faces_json = req.json()"
   ]
  },
  {
   "cell_type": "code",
   "execution_count": null,
   "metadata": {},
   "outputs": [],
   "source": [
    "faces_ism = ingest.ism_from_iterable_with_schema_bounds3D(\n",
    "    faces_json,\n",
    "    ingest.getter_accessor,\n",
    "    {\n",
    "        'key': 'video_id',\n",
    "        't1': 'frame_number',\n",
    "        't2': 'frame_number',\n",
    "        'x1': 'x1',\n",
    "        'x2': 'x2',\n",
    "        'y1': 'y1',\n",
    "        'y2': 'y2'\n",
    "    },\n",
    "    with_payload = lambda item: {\n",
    "        'face': item,\n",
    "        'video': video_meta_by_id[item['video_id']]\n",
    "    },\n",
    "    progress = True\n",
    ")"
   ]
  },
  {
   "cell_type": "code",
   "execution_count": null,
   "metadata": {},
   "outputs": [],
   "source": [
    "faces_ism = faces_ism.map(\n",
    "    lambda face: Interval(\n",
    "        Bounds3D(\n",
    "            face['t1'] / face['payload']['video'].fps - 1.5,\n",
    "            face['t2'] / face['payload']['video'].fps + 1.5,\n",
    "            face['x1'],\n",
    "            face['x2'],\n",
    "            face['y1'],\n",
    "            face['y2']\n",
    "        ),\n",
    "        face['payload']['face']\n",
    "    )\n",
    ")"
   ]
  },
  {
   "cell_type": "code",
   "execution_count": null,
   "metadata": {},
   "outputs": [],
   "source": [
    "vgrid_spec = VGridSpec(\n",
    "    video_meta = video_metadata,\n",
    "    vis_format = VideoBlockFormat(imaps = [\n",
    "        ('faces', faces_ism)\n",
    "    ]),\n",
    "    video_endpoint = os.path.join(VIDEO_COLLECTION_BASEURL, 'videos')\n",
    ")\n",
    "VGridWidget(vgrid_spec = vgrid_spec.to_json_compressed())"
   ]
  },
  {
   "cell_type": "markdown",
   "metadata": {},
   "source": [
    "# Load Captions"
   ]
  },
  {
   "cell_type": "code",
   "execution_count": null,
   "metadata": {},
   "outputs": [],
   "source": [
    "CAPTIONS_JSON = \"data/captions.json\""
   ]
  },
  {
   "cell_type": "code",
   "execution_count": null,
   "metadata": {},
   "outputs": [],
   "source": [
    "def load_json(video_baseurl, json_path):\n",
    "    req = requests.get(os.path.join(video_baseurl, json_path), verify=False)\n",
    "    json_objs = req.json()\n",
    "    ism = ingest.ism_from_iterable_with_schema_bounds3D(\n",
    "        json_objs,\n",
    "        ingest.getter_accessor,\n",
    "        {\n",
    "            'key': 'video_id',\n",
    "            't1': 'start',\n",
    "            't2': 'end'\n",
    "        },\n",
    "        with_payload = lambda item: item,\n",
    "        progress = True\n",
    "    )\n",
    "    return ism"
   ]
  },
  {
   "cell_type": "code",
   "execution_count": null,
   "metadata": {},
   "outputs": [],
   "source": [
    "captions = load_json(VIDEO_COLLECTION_BASEURL, CAPTIONS_JSON).map(\n",
    "    lambda caption: Interval(caption['bounds'], caption['payload']['caption'])\n",
    ").coalesce(\n",
    "    ('t1', 't2'),\n",
    "    Bounds3D.span,\n",
    "    lambda p1, p2: p1 + ' ' + p2,\n",
    "    predicate = lambda i1, i2: '>>' not in i2['payload'],\n",
    "    epsilon = 1.0\n",
    ")"
   ]
  },
  {
   "cell_type": "code",
   "execution_count": null,
   "metadata": {},
   "outputs": [],
   "source": [
    "def vgrid_captions(caption_ism):\n",
    "    from vgrid import SpatialType_Caption\n",
    "    \n",
    "    return caption_ism.map(\n",
    "        lambda caption: Interval(\n",
    "            caption['bounds'],\n",
    "            {\n",
    "                'spatial_type': SpatialType_Caption(caption['payload']),\n",
    "                'metadata': {}\n",
    "            }\n",
    "        )\n",
    "    )"
   ]
  },
  {
   "cell_type": "code",
   "execution_count": null,
   "metadata": {},
   "outputs": [],
   "source": [
    "vgrid_spec = VGridSpec(\n",
    "    video_meta = video_metadata,\n",
    "    vis_format = VideoBlockFormat(imaps = [\n",
    "        ('faces', faces_ism),\n",
    "        ('_captions', vgrid_captions(captions))\n",
    "    ]),\n",
    "    video_endpoint = os.path.join(VIDEO_COLLECTION_BASEURL, 'videos')\n",
    ")\n",
    "VGridWidget(vgrid_spec = vgrid_spec.to_json_compressed())"
   ]
  },
  {
   "cell_type": "markdown",
   "metadata": {},
   "source": [
    "# Load Interview, Commercial, Panel Annotations"
   ]
  },
  {
   "cell_type": "code",
   "execution_count": null,
   "metadata": {},
   "outputs": [],
   "source": [
    "INTERVIEW_JSON = \"data/interviews.json\"\n",
    "COMMERCIAL_JSON = \"data/commercials.json\"\n",
    "PANELS_JSON = \"data/panels.json\""
   ]
  },
  {
   "cell_type": "code",
   "execution_count": null,
   "metadata": {},
   "outputs": [],
   "source": [
    "interviews = load_json(VIDEO_COLLECTION_BASEURL, INTERVIEW_JSON)\n",
    "commercials = load_json(VIDEO_COLLECTION_BASEURL, COMMERCIAL_JSON)\n",
    "panels = load_json(VIDEO_COLLECTION_BASEURL, PANELS_JSON)"
   ]
  },
  {
   "cell_type": "code",
   "execution_count": null,
   "metadata": {},
   "outputs": [],
   "source": [
    "vgrid_spec = VGridSpec(\n",
    "    video_meta = video_metadata,\n",
    "    vis_format = VideoBlockFormat(imaps = [\n",
    "        ('faces', faces_ism),\n",
    "        ('interviews', interviews),\n",
    "        ('commercials', commercials),\n",
    "        ('panels', panels),\n",
    "        ('_captions', vgrid_captions(captions))\n",
    "    ]),\n",
    "    video_endpoint = os.path.join(VIDEO_COLLECTION_BASEURL, 'videos')\n",
    ")\n",
    "VGridWidget(vgrid_spec = vgrid_spec.to_json_compressed())"
   ]
  },
  {
   "cell_type": "markdown",
   "metadata": {},
   "source": [
    "# Load Face Features\n",
    "\n",
    "Example of how to load face features."
   ]
  },
  {
   "cell_type": "code",
   "execution_count": null,
   "metadata": {},
   "outputs": [],
   "source": [
    "import pickle"
   ]
  },
  {
   "cell_type": "code",
   "execution_count": null,
   "metadata": {},
   "outputs": [],
   "source": [
    "video_id = video_metadata[0].id"
   ]
  },
  {
   "cell_type": "code",
   "execution_count": null,
   "metadata": {},
   "outputs": [],
   "source": [
    "FEATURE_PATH = 'data/face_features/{}.pkl'.format(video_id)\n",
    "req = requests.get(os.path.join(VIDEO_COLLECTION_BASEURL, FEATURE_PATH), verify=False)"
   ]
  },
  {
   "cell_type": "code",
   "execution_count": null,
   "metadata": {},
   "outputs": [],
   "source": [
    "features = pickle.loads(req.content)"
   ]
  },
  {
   "cell_type": "code",
   "execution_count": null,
   "metadata": {},
   "outputs": [],
   "source": [
    "faces_with_features = faces_ism.map(\n",
    "    lambda intrvl: Interval(\n",
    "        intrvl['bounds'],\n",
    "        intrvl['payload'].update({\n",
    "            'features': features[intrvl['payload']['id']]\n",
    "        } if intrvl['payload']['id'] in features else {})\n",
    "    ) \n",
    ")"
   ]
  }
 ],
 "metadata": {
  "kernelspec": {
   "display_name": "Python [conda env:rekall] *",
   "language": "python",
   "name": "conda-env-rekall-py"
  },
  "language_info": {
   "codemirror_mode": {
    "name": "ipython",
    "version": 3
   },
   "file_extension": ".py",
   "mimetype": "text/x-python",
   "name": "python",
   "nbconvert_exporter": "python",
   "pygments_lexer": "ipython3",
   "version": "3.7.3"
  }
 },
 "nbformat": 4,
 "nbformat_minor": 2
}
