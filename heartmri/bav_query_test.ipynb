{
 "cells": [
  {
   "cell_type": "code",
   "execution_count": 1,
   "metadata": {},
   "outputs": [],
   "source": [
    "from rekall import IntervalSetMapping, IntervalSet, Interval\n",
    "from rekall.bounds import Bounds1D\n",
    "from rekall.predicates import *"
   ]
  },
  {
   "cell_type": "code",
   "execution_count": 2,
   "metadata": {},
   "outputs": [],
   "source": [
    "import numpy as np "
   ]
  },
  {
   "cell_type": "code",
   "execution_count": 3,
   "metadata": {},
   "outputs": [],
   "source": [
    "L_dev = np.load('/dfs/scratch1/danfu/rekall_experiments/heartmri/L_test.npy')"
   ]
  },
  {
   "cell_type": "code",
   "execution_count": 4,
   "metadata": {},
   "outputs": [],
   "source": [
    "y_dev = np.load('/dfs/scratch1/danfu/rekall_experiments/heartmri/y_test.npy')"
   ]
  },
  {
   "cell_type": "code",
   "execution_count": 5,
   "metadata": {},
   "outputs": [
    {
     "data": {
      "text/plain": [
       "(5, 540)"
      ]
     },
     "execution_count": 5,
     "metadata": {},
     "output_type": "execute_result"
    }
   ],
   "source": [
    "L_dev.shape"
   ]
  },
  {
   "cell_type": "code",
   "execution_count": 6,
   "metadata": {},
   "outputs": [
    {
     "data": {
      "text/plain": [
       "(540,)"
      ]
     },
     "execution_count": 6,
     "metadata": {},
     "output_type": "execute_result"
    }
   ],
   "source": [
    "y_dev.shape"
   ]
  },
  {
   "cell_type": "code",
   "execution_count": 7,
   "metadata": {},
   "outputs": [],
   "source": [
    "gt_ism_frame = IntervalSetMapping({\n",
    "    i: IntervalSet([\n",
    "        Interval(Bounds1D(frame, frame+1), payload = y_dev.tolist()[i*6 + frame])\n",
    "        for frame in range(6)\n",
    "    ])\n",
    "    for i in range(int(y_dev.shape[0] / 6))\n",
    "})\n",
    "gt_ism_patient = gt_ism_frame.coalesce(\n",
    "    ('t1', 't2'), Bounds1D.span\n",
    ")"
   ]
  },
  {
   "cell_type": "code",
   "execution_count": 8,
   "metadata": {},
   "outputs": [],
   "source": [
    "lf_ism = IntervalSetMapping({\n",
    "    i: IntervalSet([\n",
    "        Interval(Bounds1D(frame, frame+1), payload=lfs)\n",
    "        for frame, lfs in enumerate(L_dev.T.tolist()[i * 6:i*6 + 6])\n",
    "    ])\n",
    "    for i in range(int(L_dev.T.shape[0] / 6))\n",
    "})\n",
    "frame_mv = lf_ism.map(\n",
    "    lambda intrvl: Interval(\n",
    "        intrvl['bounds'],\n",
    "        payload = [1 if intrvl['payload'].count(1) > intrvl['payload'].count(-1) else -1]\n",
    "    )\n",
    ")\n",
    "patient_mv = frame_mv.coalesce(\n",
    "    ('t1', 't2'), Bounds1D.span, lambda p1, p2: p1 + p2\n",
    ").map(\n",
    "    lambda intrvl: Interval(\n",
    "        intrvl['bounds'],\n",
    "        payload = 1 if intrvl['payload'].count(1) > intrvl['payload'].count(-1) else -1\n",
    "    )\n",
    ")"
   ]
  },
  {
   "cell_type": "code",
   "execution_count": 9,
   "metadata": {},
   "outputs": [],
   "source": [
    "def tp_fp_fn_patient(predicted, gt):\n",
    "    tp = predicted.filter(\n",
    "        payload_satisfies(lambda p: p == 1)\n",
    "    ).filter_against(\n",
    "        gt,\n",
    "        predicate = lambda i1, i2: i1['payload'] == i2['payload']\n",
    "    )\n",
    "    \n",
    "    fp = predicted.filter(\n",
    "        payload_satisfies(lambda p: p == 1)\n",
    "    ).minus(tp)\n",
    "    \n",
    "    fn = gt.filter(\n",
    "        payload_satisfies(lambda p: p == 1)\n",
    "    ).minus(\n",
    "        predicted.filter(\n",
    "            payload_satisfies(lambda p: p == 1)\n",
    "        )\n",
    "    )\n",
    "    \n",
    "    return tp, fp, fn"
   ]
  },
  {
   "cell_type": "code",
   "execution_count": 10,
   "metadata": {},
   "outputs": [],
   "source": [
    "def prf1_patient(predicted, gt):\n",
    "    tp, fp, fn = tp_fp_fn_patient(predicted, gt)\n",
    "    \n",
    "    pre = len(tp) / (len(tp) + len(fp))\n",
    "    rec = len(tp) / (len(tp) + len(fn))\n",
    "    f1 = 2 * pre * rec / (pre + rec)\n",
    "    \n",
    "    return pre, rec, f1, len(tp), len(fp), len(fn)"
   ]
  },
  {
   "cell_type": "code",
   "execution_count": 38,
   "metadata": {},
   "outputs": [],
   "source": [
    "def bav_query(lf_ism):\n",
    "    three_with_four_positive = lf_ism.map(\n",
    "        lambda intrvl: Interval(\n",
    "            intrvl['bounds'],\n",
    "            payload = [1 if intrvl['payload'].count(1) >= 4 else -1]\n",
    "        )\n",
    "    ).coalesce(\n",
    "        ('t1', 't2'), Bounds1D.span, lambda p1, p2: p1 + p2\n",
    "    ).map(\n",
    "        lambda intrvl: Interval(\n",
    "            intrvl['bounds'],\n",
    "            payload = (\n",
    "                1 if intrvl['payload'].count(1) >= 3\n",
    "                else -1\n",
    "            )\n",
    "        )\n",
    "    )\n",
    "    \n",
    "    two_columns_multiple_negative = lf_ism.map(\n",
    "        lambda intrvl: Interval(\n",
    "            intrvl['bounds'],\n",
    "            payload = [1 if lf == -1 else 0 for lf in intrvl['payload']]\n",
    "        )\n",
    "    ).coalesce(\n",
    "        ('t1', 't2'), Bounds1D.span, lambda p1, p2: [i + j for i, j in zip(p1, p2)]\n",
    "    ).map(\n",
    "        lambda intrvl: Interval(\n",
    "            intrvl['bounds'],\n",
    "            payload = (\n",
    "                -1 if len([1 for count in intrvl['payload'] if count > 1]) > 1\n",
    "                else 1\n",
    "            )\n",
    "        )\n",
    "    )\n",
    "    \n",
    "    three_four_positive_columns_not_negative = three_with_four_positive.join(\n",
    "        two_columns_multiple_negative,\n",
    "        predicate = equal(),\n",
    "        merge_op = lambda i1, i2: Interval(\n",
    "            i1['bounds'],\n",
    "            1 if i1['payload'] == 1 and i2['payload'] == 1 else -1\n",
    "        )\n",
    "    )\n",
    "    \n",
    "    second_all_fifth_all = lf_ism.map(\n",
    "        lambda intrvl: Interval(\n",
    "            intrvl['bounds'],\n",
    "            payload = [intrvl['payload'][1]]\n",
    "        )\n",
    "    ).coalesce(\n",
    "        ('t1', 't2'), Bounds1D.span, lambda p1, p2: p1 + p2\n",
    "    ).map(\n",
    "        lambda intrvl: Interval(\n",
    "            intrvl['bounds'],\n",
    "            payload = (\n",
    "                1 if intrvl['payload'].count(1) == 6\n",
    "                else -1\n",
    "            )\n",
    "        )\n",
    "    ).join(\n",
    "        lf_ism.map(\n",
    "            lambda intrvl: Interval(\n",
    "                intrvl['bounds'],\n",
    "                payload = [intrvl['payload'][4]]\n",
    "            )\n",
    "        ).coalesce(\n",
    "            ('t1', 't2'), Bounds1D.span, lambda p1, p2: p1 + p2\n",
    "        ).map(\n",
    "            lambda intrvl: Interval(\n",
    "                intrvl['bounds'],\n",
    "                payload = (\n",
    "                    1 if intrvl['payload'].count(1) == 6\n",
    "                    else -1\n",
    "                )\n",
    "            )\n",
    "        ),\n",
    "        predicate = equal(),\n",
    "        merge_op = lambda i1, i2: Interval(\n",
    "            i1['bounds'],\n",
    "            1 if i1['payload'] == 1 and i2['payload'] == 1 else -1\n",
    "        )\n",
    "    )\n",
    "    \n",
    "    attempt_final = three_four_positive_columns_not_negative.join(\n",
    "        second_all_fifth_all,\n",
    "        predicate = equal(),\n",
    "        merge_op = lambda i1, i2: Interval(\n",
    "            i1['bounds'],\n",
    "            1 if i1['payload'] == 1 or i2['payload'] == 1 else -1\n",
    "        )\n",
    "    )\n",
    "    \n",
    "    return attempt_final"
   ]
  },
  {
   "cell_type": "code",
   "execution_count": 39,
   "metadata": {},
   "outputs": [],
   "source": [
    "bav_result = bav_query(lf_ism)"
   ]
  },
  {
   "cell_type": "code",
   "execution_count": 40,
   "metadata": {},
   "outputs": [
    {
     "name": "stdout",
     "output_type": "stream",
     "text": [
      "(0.6666666666666666, 0.6666666666666666, 0.6666666666666666, 2, 1, 1)\n"
     ]
    }
   ],
   "source": [
    "print(prf1_patient(bav_result, gt_ism_patient))"
   ]
  }
 ],
 "metadata": {
  "kernelspec": {
   "display_name": "Python [conda env:rekall]",
   "language": "python",
   "name": "conda-env-rekall-py"
  },
  "language_info": {
   "codemirror_mode": {
    "name": "ipython",
    "version": 3
   },
   "file_extension": ".py",
   "mimetype": "text/x-python",
   "name": "python",
   "nbconvert_exporter": "python",
   "pygments_lexer": "ipython3",
   "version": "3.7.3"
  }
 },
 "nbformat": 4,
 "nbformat_minor": 2
}
