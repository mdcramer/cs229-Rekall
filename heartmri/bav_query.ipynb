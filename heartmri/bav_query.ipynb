{
 "cells": [
  {
   "cell_type": "code",
   "execution_count": 1,
   "metadata": {},
   "outputs": [],
   "source": [
    "from rekall import IntervalSetMapping, IntervalSet, Interval\n",
    "from rekall.bounds import Bounds1D\n",
    "from rekall.predicates import *"
   ]
  },
  {
   "cell_type": "code",
   "execution_count": 2,
   "metadata": {},
   "outputs": [],
   "source": [
    "import numpy as np "
   ]
  },
  {
   "cell_type": "code",
   "execution_count": 3,
   "metadata": {},
   "outputs": [],
   "source": [
    "a = np.load('/dfs/scratch0/paroma/heart-MRI/bav-classification/coral/gen_unknown_L_dev.npy')"
   ]
  },
  {
   "cell_type": "code",
   "execution_count": 4,
   "metadata": {},
   "outputs": [],
   "source": [
    "b = np.load('/dfs/scratch0/paroma/heart-MRI/bav-classification/coral/gen_unknown_y_dev.npy')"
   ]
  },
  {
   "cell_type": "code",
   "execution_count": 5,
   "metadata": {},
   "outputs": [],
   "source": [
    "gt_ism_frame = IntervalSetMapping({\n",
    "    i: IntervalSet([\n",
    "        Interval(Bounds1D(frame, frame+1), payload = b.tolist()[i*6 + frame])\n",
    "        for frame in range(6)\n",
    "    ])\n",
    "    for i in range(int(b.shape[0] / 6))\n",
    "})\n",
    "gt_ism_patient = gt_ism_frame.coalesce(\n",
    "    ('t1', 't2'), Bounds1D.span\n",
    ")"
   ]
  },
  {
   "cell_type": "code",
   "execution_count": 6,
   "metadata": {},
   "outputs": [],
   "source": [
    "lf_ism = IntervalSetMapping({\n",
    "    i: IntervalSet([\n",
    "        Interval(Bounds1D(frame, frame+1), payload=lfs)\n",
    "        for frame, lfs in enumerate(a.T.tolist()[i * 6:i*6 + 6])\n",
    "    ])\n",
    "    for i in range(int(a.T.shape[0] / 6))\n",
    "})\n",
    "frame_mv = lf_ism.map(\n",
    "    lambda intrvl: Interval(\n",
    "        intrvl['bounds'],\n",
    "        payload = [1 if intrvl['payload'].count(1) > intrvl['payload'].count(-1) else -1]\n",
    "    )\n",
    ")\n",
    "patient_mv = frame_mv.coalesce(\n",
    "    ('t1', 't2'), Bounds1D.span, lambda p1, p2: p1 + p2\n",
    ").map(\n",
    "    lambda intrvl: Interval(\n",
    "        intrvl['bounds'],\n",
    "        payload = 1 if intrvl['payload'].count(1) > intrvl['payload'].count(-1) else -1\n",
    "    )\n",
    ")"
   ]
  },
  {
   "cell_type": "code",
   "execution_count": 7,
   "metadata": {},
   "outputs": [],
   "source": [
    "def tp_fp_fn_patient(predicted, gt):\n",
    "    tp = predicted.filter(\n",
    "        payload_satisfies(lambda p: p == 1)\n",
    "    ).filter_against(\n",
    "        gt,\n",
    "        predicate = lambda i1, i2: i1['payload'] == i2['payload']\n",
    "    )\n",
    "    \n",
    "    fp = predicted.filter(\n",
    "        payload_satisfies(lambda p: p == 1)\n",
    "    ).minus(tp)\n",
    "    \n",
    "    fn = gt.filter(\n",
    "        payload_satisfies(lambda p: p == 1)\n",
    "    ).minus(\n",
    "        predicted.filter(\n",
    "            payload_satisfies(lambda p: p == 1)\n",
    "        )\n",
    "    )\n",
    "    \n",
    "    return tp, fp, fn"
   ]
  },
  {
   "cell_type": "code",
   "execution_count": 8,
   "metadata": {},
   "outputs": [],
   "source": [
    "def prf1_patient(predicted, gt):\n",
    "    tp, fp, fn = tp_fp_fn_patient(predicted, gt)\n",
    "    \n",
    "    pre = len(tp) / (len(tp) + len(fp))\n",
    "    rec = len(tp) / (len(tp) + len(fn))\n",
    "    f1 = 2 * pre * rec / (pre + rec)\n",
    "    \n",
    "    return pre, rec, f1, len(tp), len(fp), len(fn)"
   ]
  },
  {
   "cell_type": "code",
   "execution_count": 10,
   "metadata": {},
   "outputs": [],
   "source": [
    "def bav_query(lf_ism):\n",
    "    second_lf_unsure = lf_ism.map(\n",
    "        lambda intrvl: Interval(\n",
    "            intrvl['bounds'],\n",
    "            payload = [intrvl['payload'][1]]\n",
    "        )\n",
    "    ).coalesce(\n",
    "        ('t1', 't2'), Bounds1D.span, lambda p1, p2: p1 + p2\n",
    "    ).map(\n",
    "        lambda intrvl: Interval(\n",
    "            intrvl['bounds'],\n",
    "            payload = (\n",
    "                1 if intrvl['payload'].count(1) > 4\n",
    "                else -1\n",
    "            )\n",
    "        )\n",
    "    )\n",
    "\n",
    "    fourth_lf_negative = lf_ism.map(\n",
    "        lambda intrvl: Interval(\n",
    "            intrvl['bounds'],\n",
    "            payload = [intrvl['payload'][3]]\n",
    "        )\n",
    "    ).coalesce(\n",
    "        ('t1', 't2'), Bounds1D.span, lambda p1, p2: p1 + p2\n",
    "    ).map(\n",
    "        lambda intrvl: Interval(\n",
    "            intrvl['bounds'],\n",
    "            payload = (\n",
    "                -1 if intrvl['payload'].count(-1) in (2, 3)\n",
    "                else 1\n",
    "            )\n",
    "        )\n",
    "    )\n",
    "\n",
    "    second_fourth = second_lf_unsure.join(\n",
    "        fourth_lf_negative,\n",
    "        predicate = equal(),\n",
    "        merge_op = lambda i1, i2: Interval(\n",
    "            i1['bounds'],\n",
    "            1 if i1['payload'] == 1 and i2['payload'] == 1 else -1\n",
    "        )\n",
    "    )\n",
    "\n",
    "    second_has_zero = lf_ism.map(\n",
    "        lambda intrvl: Interval(\n",
    "            intrvl['bounds'],\n",
    "            payload = [intrvl['payload'][1]]\n",
    "        )\n",
    "    ).coalesce(\n",
    "        ('t1', 't2'), Bounds1D.span, lambda p1, p2: p1 + p2\n",
    "    ).map(\n",
    "        lambda intrvl: Interval(\n",
    "            intrvl['bounds'],\n",
    "            payload = (\n",
    "                -1 if intrvl['payload'].count(0) > 0\n",
    "                else 1\n",
    "            )\n",
    "        )\n",
    "    )\n",
    "\n",
    "    attempt3 = second_fourth.join(\n",
    "        second_has_zero,\n",
    "        predicate = equal(),\n",
    "        merge_op = lambda i1, i2: Interval(\n",
    "            i1['bounds'],\n",
    "            1 if i1['payload'] == 1 and i2['payload'] == 1 else -1\n",
    "        )\n",
    "    )\n",
    "\n",
    "    fifth_lf_starts_or_ends_with_0 = lf_ism.map(\n",
    "        lambda intrvl: Interval(\n",
    "            intrvl['bounds'],\n",
    "            payload = [intrvl['payload'][4]]\n",
    "        )\n",
    "    ).coalesce(\n",
    "        ('t1', 't2'), Bounds1D.span, lambda p1, p2: p1 + p2\n",
    "    ).map(\n",
    "        lambda intrvl: Interval(\n",
    "            intrvl['bounds'],\n",
    "            payload = (\n",
    "                -1 if intrvl['payload'][0] == 0 or intrvl['payload'][-1] == 0\n",
    "                else 1\n",
    "            )\n",
    "        )\n",
    "    )\n",
    "\n",
    "    attempt4 = attempt3.join(\n",
    "        fifth_lf_starts_or_ends_with_0,\n",
    "        predicate = equal(),\n",
    "        merge_op = lambda i1, i2: Interval(\n",
    "            i1['bounds'],\n",
    "            1 if i1['payload'] == 1 and i2['payload'] == 1 else -1\n",
    "        )\n",
    "    )\n",
    "\n",
    "    three_negatives_twice = lf_ism.map(\n",
    "        lambda intrvl: Interval(\n",
    "            intrvl['bounds'],\n",
    "            payload = [-1 if intrvl['payload'].count(-1) >= 3 else 1]\n",
    "        )\n",
    "    ).coalesce(\n",
    "        ('t1', 't2'), Bounds1D.span, lambda p1, p2: p1 + p2\n",
    "    ).map(\n",
    "        lambda intrvl: Interval(\n",
    "            intrvl['bounds'],\n",
    "            payload = (\n",
    "                -1 if intrvl['payload'].count(-1) >= 2\n",
    "                else 1\n",
    "            )\n",
    "        )\n",
    "    )\n",
    "\n",
    "    fifth_lf_less_than_three_positive = lf_ism.map(\n",
    "        lambda intrvl: Interval(\n",
    "            intrvl['bounds'],\n",
    "            payload = [intrvl['payload'][4]]\n",
    "        )\n",
    "    ).coalesce(\n",
    "        ('t1', 't2'), Bounds1D.span, lambda p1, p2: p1 + p2\n",
    "    ).map(\n",
    "        lambda intrvl: Interval(\n",
    "            intrvl['bounds'],\n",
    "            payload = (\n",
    "                -1 if (intrvl['payload'].count(-1) > 3 or\n",
    "                      intrvl['payload'].count(-1) > 2 and\n",
    "                      intrvl['payload'].count(0) == 1)\n",
    "                else 1\n",
    "            )\n",
    "        )\n",
    "    )\n",
    "\n",
    "    attempt5 = attempt4.join(\n",
    "        three_negatives_twice,\n",
    "        predicate = equal(),\n",
    "        merge_op = lambda i1, i2: Interval(\n",
    "            i1['bounds'],\n",
    "            1 if i1['payload'] == 1 and i2['payload'] == 1 else -1\n",
    "        )\n",
    "    ).join(\n",
    "        fifth_lf_less_than_three_positive,\n",
    "        predicate = equal(),\n",
    "        merge_op = lambda i1, i2: Interval(\n",
    "            i1['bounds'],\n",
    "            1 if i1['payload'] == 1 and i2['payload'] == 1 else -1\n",
    "        )\n",
    "    )\n",
    "    \n",
    "    return attempt5, attempt4, attempt3, second_fourth"
   ]
  },
  {
   "cell_type": "code",
   "execution_count": 11,
   "metadata": {},
   "outputs": [],
   "source": [
    "bav_result = bav_query(lf_ism)"
   ]
  },
  {
   "cell_type": "code",
   "execution_count": 13,
   "metadata": {},
   "outputs": [
    {
     "data": {
      "text/plain": [
       "(0.6, 0.8571428571428571, 0.7058823529411764, 6, 4, 1)"
      ]
     },
     "execution_count": 13,
     "metadata": {},
     "output_type": "execute_result"
    }
   ],
   "source": [
    "prf1_patient(bav_result[0], gt_ism_patient)"
   ]
  },
  {
   "cell_type": "markdown",
   "metadata": {},
   "source": [
    "# Try it on the unlabelled training set"
   ]
  },
  {
   "cell_type": "code",
   "execution_count": 14,
   "metadata": {},
   "outputs": [],
   "source": [
    "c = np.load('/dfs/scratch0/paroma/heart-MRI/bav-classification/coral/gen_unknown_L_train.npy')"
   ]
  },
  {
   "cell_type": "code",
   "execution_count": 22,
   "metadata": {},
   "outputs": [],
   "source": [
    "lf_train_ism = IntervalSetMapping({\n",
    "    i: IntervalSet([\n",
    "        Interval(Bounds1D(frame, frame+1), payload=lfs)\n",
    "        for frame, lfs in enumerate(c.T.tolist()[i * 6:i*6 + 6])\n",
    "    ])\n",
    "    for i in range(int(c.T.shape[0] / 6))\n",
    "})"
   ]
  },
  {
   "cell_type": "code",
   "execution_count": 23,
   "metadata": {},
   "outputs": [],
   "source": [
    "bav_result_train = bav_query(lf_train_ism)"
   ]
  },
  {
   "cell_type": "code",
   "execution_count": 24,
   "metadata": {},
   "outputs": [
    {
     "name": "stdout",
     "output_type": "stream",
     "text": [
      "443\n",
      "4102\n",
      "\n",
      "570\n",
      "3975\n",
      "\n",
      "719\n",
      "3826\n",
      "\n",
      "948\n",
      "3597\n",
      "\n"
     ]
    }
   ],
   "source": [
    "for bav_result in bav_result_train:\n",
    "    print(len(bav_result.filter(payload_satisfies(lambda p: p == 1))))\n",
    "    print(len(bav_result.filter(payload_satisfies(lambda p: p == -1))))\n",
    "    print()"
   ]
  }
 ],
 "metadata": {
  "kernelspec": {
   "display_name": "Python [conda env:rekall]",
   "language": "python",
   "name": "conda-env-rekall-py"
  },
  "language_info": {
   "codemirror_mode": {
    "name": "ipython",
    "version": 3
   },
   "file_extension": ".py",
   "mimetype": "text/x-python",
   "name": "python",
   "nbconvert_exporter": "python",
   "pygments_lexer": "ipython3",
   "version": "3.7.3"
  }
 },
 "nbformat": 4,
 "nbformat_minor": 2
}
