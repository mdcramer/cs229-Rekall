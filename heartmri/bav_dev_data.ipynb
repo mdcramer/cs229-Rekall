{
 "cells": [
  {
   "cell_type": "code",
   "execution_count": 3,
   "metadata": {},
   "outputs": [],
   "source": [
    "import numpy as np\n",
    "import os"
   ]
  },
  {
   "cell_type": "code",
   "execution_count": 1,
   "metadata": {},
   "outputs": [],
   "source": [
    "root_path = '/dfs/scratch0/vschen/mri-data'"
   ]
  },
  {
   "cell_type": "code",
   "execution_count": 4,
   "metadata": {},
   "outputs": [],
   "source": [
    "vocab_matrix = np.load(os.path.join(root_path, 'relative_train_vocab_matrix.npy'))"
   ]
  },
  {
   "cell_type": "code",
   "execution_count": 9,
   "metadata": {},
   "outputs": [],
   "source": [
    "gt_labels = np.load(os.path.join(root_path, 'train_labels.npy'))"
   ]
  },
  {
   "cell_type": "code",
   "execution_count": 10,
   "metadata": {},
   "outputs": [
    {
     "data": {
      "text/plain": [
       "(10, 636)"
      ]
     },
     "execution_count": 10,
     "metadata": {},
     "output_type": "execute_result"
    }
   ],
   "source": [
    "vocab_matrix.shape"
   ]
  },
  {
   "cell_type": "code",
   "execution_count": 11,
   "metadata": {},
   "outputs": [
    {
     "data": {
      "text/plain": [
       "(636,)"
      ]
     },
     "execution_count": 11,
     "metadata": {},
     "output_type": "execute_result"
    }
   ],
   "source": [
    "gt_labels.shape"
   ]
  },
  {
   "cell_type": "code",
   "execution_count": 13,
   "metadata": {},
   "outputs": [],
   "source": [
    "import sys\n",
    "sys.path.append('/dfs/scratch0/paroma/numbskull/') \n",
    "sys.path.append('/dfs/scratch0/paroma/coral/')"
   ]
  },
  {
   "cell_type": "code",
   "execution_count": 14,
   "metadata": {},
   "outputs": [],
   "source": [
    "class PrimitiveObject(object):\n",
    "\n",
    "    def save_primitive_matrix(self,primitive_mtx):\n",
    "        self.primitive_mtx = primitive_mtx\n",
    "        self.discrete_primitive_mtx = primitive_mtx\n",
    "        self.num_primitives = np.shape(self.primitive_mtx)[1]\n",
    "    \n",
    "    def save_primitive_names(self,names):\n",
    "        self.primitive_names = names\n",
    "        if len(self.primitive_names) != self.num_primitives:\n",
    "            Exception('Incorrect number of Primitive Names')\n",
    "            \n",
    "def create_primitives(vocab_matrix):\n",
    "    m = 5\n",
    "    num_examples = vocab_matrix.shape[1]\n",
    "    primitive_mtx = np.zeros((num_examples, m))\n",
    "    for i in range(num_examples):\n",
    "        primitive_mtx[i, 0] = vocab_matrix[0, :][i] # area\n",
    "        primitive_mtx[i, 1] = vocab_matrix[1, :][i] # eccentricity\n",
    "        primitive_mtx[i, 2] = vocab_matrix[6, :][i] # perimeter\n",
    "        primitive_mtx[i, 3] = vocab_matrix[8, :][i] # intensity\n",
    "    \n",
    "    \n",
    "    primitive_mtx[:, 4] = primitive_mtx[:, 0]/(primitive_mtx[:, 2]**2.) # ratio\n",
    "    P = PrimitiveObject()\n",
    "    P.save_primitive_matrix(primitive_mtx)\n",
    "    return P\n",
    "\n",
    "def create_primitives_bsa(vocab_matrix, normal_matrix):\n",
    "    m = 5\n",
    "    num_examples = vocab_matrix.shape[1]\n",
    "    primitive_mtx = np.zeros((num_examples, m))\n",
    "    for i in range(num_examples):\n",
    "        primitive_mtx[i, 0] = vocab_matrix[0, :][i] # area\n",
    "        primitive_mtx[i, 1] = vocab_matrix[1, :][i] # eccentricity\n",
    "        primitive_mtx[i, 2] = vocab_matrix[6, :][i] # perimeter\n",
    "        primitive_mtx[i, 3] = vocab_matrix[8, :][i] # intensity\n",
    "    \n",
    "    \n",
    "    primitive_mtx[:, 4] = normal_matrix[0,:]/(normal_matrix[6,:]**2.) # ratio\n",
    "    P = PrimitiveObject()\n",
    "    P.save_primitive_matrix(primitive_mtx)\n",
    "    return P"
   ]
  },
  {
   "cell_type": "code",
   "execution_count": 15,
   "metadata": {},
   "outputs": [],
   "source": [
    "P_train = create_primitives(vocab_matrix)\n",
    "\n",
    "primitive_names = ['area', 'eccentricity', 'perimeter', 'intensity', 'ratio']"
   ]
  },
  {
   "cell_type": "code",
   "execution_count": 16,
   "metadata": {},
   "outputs": [],
   "source": [
    "def lf_area(area):\n",
    "    if area >= 2.13:\n",
    "        return -1 \n",
    "    if area <= 0.99: \n",
    "        return 1\n",
    "    return 0\n",
    "\n",
    "def lf_eccentricity(eccentricity):\n",
    "    if eccentricity >= 0.011: \n",
    "        return 1 \n",
    "    if eccentricity <= 0.010:\n",
    "        return -1  \n",
    "    return 0\n",
    "        \n",
    "def lf_perimeter(perimeter):\n",
    "    if perimeter <= 0.49: \n",
    "        return 1 \n",
    "    return 0\n",
    "    \n",
    "def lf_intensity(intensity):\n",
    "    if intensity >= 2.65: \n",
    "        return 1\n",
    "    if intensity <= 2.0: \n",
    "        return -1\n",
    "    return 0\n",
    "\n",
    "def lf_ratio(ratio):\n",
    "    if ratio >= 4.3: \n",
    "        return -1\n",
    "    if ratio <= 4.15:\n",
    "        return 1\n",
    "    return 0"
   ]
  },
  {
   "cell_type": "code",
   "execution_count": 23,
   "metadata": {},
   "outputs": [],
   "source": [
    "from coral.static_analysis.dependency_learning import find_dependencies\n",
    "L_names = [lf_area, lf_eccentricity, lf_perimeter, lf_intensity, lf_ratio]\n",
    "L_deps = find_dependencies(L_names, primitive_names)"
   ]
  },
  {
   "cell_type": "code",
   "execution_count": 24,
   "metadata": {},
   "outputs": [],
   "source": [
    "num_examples_train = P_train.primitive_mtx.shape[0]\n",
    "L = np.zeros((len(L_names), num_examples_train))\n",
    "for i in range(num_examples_train):\n",
    "    for j in range(5):\n",
    "        vocab_elems = P_train.primitive_mtx[i,L_deps[j]]\n",
    "        L[j,i] = L_names[j](*vocab_elems)\n",
    "unlabeled = np.sum(np.abs(L), axis=0)"
   ]
  },
  {
   "cell_type": "code",
   "execution_count": 27,
   "metadata": {},
   "outputs": [
    {
     "data": {
      "text/plain": [
       "array([[ 1.,  1.,  1.,  0.,  0.],\n",
       "       [ 1.,  1.,  1.,  0.,  1.],\n",
       "       [ 1.,  1.,  1.,  0.,  1.],\n",
       "       ...,\n",
       "       [ 0.,  1.,  0., -1.,  1.],\n",
       "       [ 0.,  1.,  0.,  0.,  1.],\n",
       "       [ 1.,  1.,  0., -1.,  1.]])"
      ]
     },
     "execution_count": 27,
     "metadata": {},
     "output_type": "execute_result"
    }
   ],
   "source": [
    "L.T"
   ]
  },
  {
   "cell_type": "code",
   "execution_count": 28,
   "metadata": {},
   "outputs": [],
   "source": [
    "np.save('L_dev.npy', L)\n",
    "np.save('y_dev.npy', gt_labels)"
   ]
  }
 ],
 "metadata": {
  "kernelspec": {
   "display_name": "Python 3",
   "language": "python",
   "name": "python3"
  },
  "language_info": {
   "codemirror_mode": {
    "name": "ipython",
    "version": 3
   },
   "file_extension": ".py",
   "mimetype": "text/x-python",
   "name": "python",
   "nbconvert_exporter": "python",
   "pygments_lexer": "ipython3",
   "version": "3.6.7"
  }
 },
 "nbformat": 4,
 "nbformat_minor": 2
}
