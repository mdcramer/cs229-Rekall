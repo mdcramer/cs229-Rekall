{
 "cells": [
  {
   "cell_type": "code",
   "execution_count": 1,
   "metadata": {},
   "outputs": [],
   "source": [
    "from rekall import IntervalSetMapping, IntervalSet, Interval\n",
    "from rekall.bounds import Bounds1D\n",
    "from rekall.predicates import *"
   ]
  },
  {
   "cell_type": "code",
   "execution_count": 2,
   "metadata": {},
   "outputs": [],
   "source": [
    "import numpy as np"
   ]
  },
  {
   "cell_type": "code",
   "execution_count": 60,
   "metadata": {},
   "outputs": [],
   "source": [
    "a = np.load('/dfs/scratch1/danfu/rekall_experiments/heartmri/L_dev.npy')"
   ]
  },
  {
   "cell_type": "code",
   "execution_count": 61,
   "metadata": {},
   "outputs": [],
   "source": [
    "b = np.load('/dfs/scratch1/danfu/rekall_experiments/heartmri/y_dev.npy')"
   ]
  },
  {
   "cell_type": "code",
   "execution_count": 62,
   "metadata": {},
   "outputs": [
    {
     "data": {
      "text/plain": [
       "array([[ 0.,  0.,  0.,  1.,  1.],\n",
       "       [ 1.,  1.,  0.,  1.,  1.],\n",
       "       [ 1.,  1.,  1.,  0.,  1.],\n",
       "       [ 1.,  1.,  1.,  0.,  1.],\n",
       "       [ 1.,  1.,  1.,  0.,  0.],\n",
       "       [ 1., -1.,  1.,  0., -1.]])"
      ]
     },
     "execution_count": 62,
     "metadata": {},
     "output_type": "execute_result"
    }
   ],
   "source": [
    "a.T[6:12]"
   ]
  },
  {
   "cell_type": "code",
   "execution_count": 63,
   "metadata": {},
   "outputs": [
    {
     "data": {
      "text/plain": [
       "636"
      ]
     },
     "execution_count": 63,
     "metadata": {},
     "output_type": "execute_result"
    }
   ],
   "source": [
    "b.shape[0]"
   ]
  },
  {
   "cell_type": "code",
   "execution_count": 64,
   "metadata": {},
   "outputs": [
    {
     "data": {
      "text/plain": [
       "(636, 5)"
      ]
     },
     "execution_count": 64,
     "metadata": {},
     "output_type": "execute_result"
    }
   ],
   "source": [
    "a.T.shape"
   ]
  },
  {
   "cell_type": "code",
   "execution_count": 65,
   "metadata": {},
   "outputs": [],
   "source": [
    "gt_ism_frame = IntervalSetMapping({\n",
    "    i: IntervalSet([\n",
    "        Interval(Bounds1D(frame, frame+1), payload = b.tolist()[i*6 + frame])\n",
    "        for frame in range(6)\n",
    "    ])\n",
    "    for i in range(int(b.shape[0] / 6))\n",
    "})"
   ]
  },
  {
   "cell_type": "code",
   "execution_count": 66,
   "metadata": {},
   "outputs": [],
   "source": [
    "gt_ism_patient = gt_ism_frame.coalesce(\n",
    "    ('t1', 't2'), Bounds1D.span\n",
    ")"
   ]
  },
  {
   "cell_type": "code",
   "execution_count": 67,
   "metadata": {},
   "outputs": [],
   "source": [
    "lf_ism = IntervalSetMapping({\n",
    "    i: IntervalSet([\n",
    "        Interval(Bounds1D(frame, frame+1), payload=lfs)\n",
    "        for frame, lfs in enumerate(a.T.tolist()[i * 6:i*6 + 6])\n",
    "    ])\n",
    "    for i in range(int(a.T.shape[0] / 6))\n",
    "})"
   ]
  },
  {
   "cell_type": "code",
   "execution_count": 68,
   "metadata": {},
   "outputs": [],
   "source": [
    "frame_mv = lf_ism.map(\n",
    "    lambda intrvl: Interval(\n",
    "        intrvl['bounds'],\n",
    "        payload = [1 if intrvl['payload'].count(1) > intrvl['payload'].count(-1) else -1]\n",
    "    )\n",
    ")"
   ]
  },
  {
   "cell_type": "code",
   "execution_count": 12,
   "metadata": {},
   "outputs": [],
   "source": [
    "patient_mv = frame_mv.coalesce(\n",
    "    ('t1', 't2'), Bounds1D.span, lambda p1, p2: p1 + p2\n",
    ").map(\n",
    "    lambda intrvl: Interval(\n",
    "        intrvl['bounds'],\n",
    "        payload = 1 if intrvl['payload'].count(1) > intrvl['payload'].count(-1) else -1\n",
    "    )\n",
    ")"
   ]
  },
  {
   "cell_type": "code",
   "execution_count": 13,
   "metadata": {},
   "outputs": [
    {
     "data": {
      "text/plain": [
       "40"
      ]
     },
     "execution_count": 13,
     "metadata": {},
     "output_type": "execute_result"
    }
   ],
   "source": [
    "len(patient_mv.filter(payload_satisfies(lambda p: p == 1)))"
   ]
  },
  {
   "cell_type": "code",
   "execution_count": 14,
   "metadata": {},
   "outputs": [],
   "source": [
    "def tp_fp_fn_patient(predicted, gt):\n",
    "    tp = predicted.filter(\n",
    "        payload_satisfies(lambda p: p == 1)\n",
    "    ).filter_against(\n",
    "        gt,\n",
    "        predicate = lambda i1, i2: i1['payload'] == i2['payload']\n",
    "    )\n",
    "    \n",
    "    fp = predicted.filter(\n",
    "        payload_satisfies(lambda p: p == 1)\n",
    "    ).minus(tp)\n",
    "    \n",
    "    fn = gt.filter(\n",
    "        payload_satisfies(lambda p: p == 1)\n",
    "    ).minus(\n",
    "        predicted.filter(\n",
    "            payload_satisfies(lambda p: p == 1)\n",
    "        )\n",
    "    )\n",
    "    \n",
    "    return tp, fp, fn"
   ]
  },
  {
   "cell_type": "code",
   "execution_count": 15,
   "metadata": {},
   "outputs": [],
   "source": [
    "def prf1_patient(predicted, gt):\n",
    "    tp = predicted.filter(\n",
    "        payload_satisfies(lambda p: p == 1)\n",
    "    ).filter_against(\n",
    "        gt,\n",
    "        predicate = lambda i1, i2: i1['payload'] == i2['payload']\n",
    "    )\n",
    "    \n",
    "    fp = predicted.filter(\n",
    "        payload_satisfies(lambda p: p == 1)\n",
    "    ).minus(tp)\n",
    "    \n",
    "    fn = gt.filter(\n",
    "        payload_satisfies(lambda p: p == 1)\n",
    "    ).minus(\n",
    "        predicted.filter(\n",
    "            payload_satisfies(lambda p: p == 1)\n",
    "        )\n",
    "    )\n",
    "    \n",
    "    pre = len(tp) / (len(tp) + len(fp))\n",
    "    rec = len(tp) / (len(tp) + len(fn))\n",
    "    f1 = 2 * pre * rec / (pre + rec)\n",
    "    \n",
    "    return pre, rec, f1, len(tp), len(fp), len(fn)"
   ]
  },
  {
   "cell_type": "code",
   "execution_count": 16,
   "metadata": {},
   "outputs": [
    {
     "data": {
      "text/plain": [
       "(0.15, 1.0, 0.2608695652173913, 6, 34, 0)"
      ]
     },
     "execution_count": 16,
     "metadata": {},
     "output_type": "execute_result"
    }
   ],
   "source": [
    "prf1_patient(patient_mv, gt_ism_patient)"
   ]
  },
  {
   "cell_type": "code",
   "execution_count": 17,
   "metadata": {},
   "outputs": [],
   "source": [
    "threshold_frame = 0\n",
    "threshold_seq = 0"
   ]
  },
  {
   "cell_type": "code",
   "execution_count": 18,
   "metadata": {},
   "outputs": [],
   "source": [
    "attempt2 = lf_ism.map(\n",
    "    lambda intrvl: Interval(\n",
    "        intrvl['bounds'],\n",
    "        payload = [\n",
    "            1 if intrvl['payload'].count(1) > intrvl['payload'].count(-1) + threshold_frame\n",
    "            else -1]\n",
    "    )\n",
    ").coalesce(\n",
    "    ('t1', 't2'), Bounds1D.span, lambda p1, p2: p1 + p2\n",
    ").map(\n",
    "    lambda intrvl: Interval(\n",
    "        intrvl['bounds'],\n",
    "        payload = (\n",
    "            1 if intrvl['payload'].count(1) > intrvl['payload'].count(-1) + threshold_seq\n",
    "            else -1\n",
    "        )\n",
    "    )\n",
    ")"
   ]
  },
  {
   "cell_type": "code",
   "execution_count": 19,
   "metadata": {},
   "outputs": [
    {
     "data": {
      "text/plain": [
       "(0.15, 1.0, 0.2608695652173913, 6, 34, 0)"
      ]
     },
     "execution_count": 19,
     "metadata": {},
     "output_type": "execute_result"
    }
   ],
   "source": [
    "prf1_patient(attempt2, gt_ism_patient)"
   ]
  },
  {
   "cell_type": "code",
   "execution_count": 72,
   "metadata": {},
   "outputs": [],
   "source": [
    "second_lf_all_1 = lf_ism.map(\n",
    "    lambda intrvl: Interval(\n",
    "        intrvl['bounds'],\n",
    "        payload = [intrvl['payload'][1]]\n",
    "    )\n",
    ").coalesce(\n",
    "    ('t1', 't2'), Bounds1D.span, lambda p1, p2: p1 + p2\n",
    ").map(\n",
    "    lambda intrvl: Interval(\n",
    "        intrvl['bounds'],\n",
    "        payload = (\n",
    "            1 if intrvl['payload'].count(1) == 6\n",
    "            else -1\n",
    "        )\n",
    "    )\n",
    ")"
   ]
  },
  {
   "cell_type": "code",
   "execution_count": 73,
   "metadata": {},
   "outputs": [
    {
     "data": {
      "text/plain": [
       "(0.36363636363636365, 0.6666666666666666, 0.4705882352941177, 4, 7, 2)"
      ]
     },
     "execution_count": 73,
     "metadata": {},
     "output_type": "execute_result"
    }
   ],
   "source": [
    "prf1_patient(second_lf_all_1, gt_ism_patient)"
   ]
  },
  {
   "cell_type": "code",
   "execution_count": 76,
   "metadata": {},
   "outputs": [],
   "source": [
    "tp, fp, fn = tp_fp_fn_patient(second_lf_all_1, gt_ism_patient)"
   ]
  },
  {
   "cell_type": "code",
   "execution_count": 77,
   "metadata": {},
   "outputs": [
    {
     "name": "stdout",
     "output_type": "stream",
     "text": [
      "[[1. 1. 1. 0. 0.]\n",
      " [1. 1. 1. 0. 1.]\n",
      " [1. 1. 1. 0. 1.]\n",
      " [1. 1. 1. 0. 1.]\n",
      " [1. 1. 1. 0. 1.]\n",
      " [1. 1. 1. 0. 1.]]\n",
      "[[ 0.  1.  0.  1.  0.]\n",
      " [ 0.  1.  0.  0.  1.]\n",
      " [ 0.  1.  0.  0.  1.]\n",
      " [ 0.  1.  0.  1.  1.]\n",
      " [ 0.  1.  0.  0.  1.]\n",
      " [ 0.  1.  0.  1. -1.]]\n",
      "[[1. 1. 1. 1. 1.]\n",
      " [1. 1. 0. 1. 1.]\n",
      " [1. 1. 0. 1. 1.]\n",
      " [1. 1. 1. 1. 1.]\n",
      " [1. 1. 1. 1. 1.]\n",
      " [1. 1. 1. 1. 1.]]\n",
      "[[0. 1. 0. 0. 1.]\n",
      " [0. 1. 0. 1. 1.]\n",
      " [0. 1. 0. 0. 1.]\n",
      " [0. 1. 0. 0. 1.]\n",
      " [0. 1. 0. 0. 1.]\n",
      " [0. 1. 0. 0. 1.]]\n"
     ]
    }
   ],
   "source": [
    "for k in tp:\n",
    "    print_lfs(lf_ism[k])"
   ]
  },
  {
   "cell_type": "code",
   "execution_count": 80,
   "metadata": {},
   "outputs": [
    {
     "name": "stdout",
     "output_type": "stream",
     "text": [
      "[[ 0.  0.  0.  1.  1.]\n",
      " [ 1.  1.  0.  1.  1.]\n",
      " [ 1.  1.  1.  0.  1.]\n",
      " [ 1.  1.  1.  0.  1.]\n",
      " [ 1.  1.  1.  0.  0.]\n",
      " [ 1. -1.  1.  0. -1.]]\n",
      "[[-1.  0.  0.  0.  1.]\n",
      " [ 0.  1.  0.  0.  1.]\n",
      " [ 0.  1.  0.  0.  1.]\n",
      " [ 0.  1.  0. -1.  1.]\n",
      " [ 0.  1.  0.  0.  1.]\n",
      " [ 0.  1.  0.  0.  1.]]\n"
     ]
    }
   ],
   "source": [
    "for k in fn:\n",
    "    print_lfs(lf_ism[k])"
   ]
  },
  {
   "cell_type": "code",
   "execution_count": 78,
   "metadata": {},
   "outputs": [
    {
     "name": "stdout",
     "output_type": "stream",
     "text": [
      "[[0. 1. 0. 0. 1.]\n",
      " [0. 1. 0. 0. 1.]\n",
      " [0. 1. 0. 0. 1.]\n",
      " [0. 1. 0. 0. 1.]\n",
      " [0. 1. 0. 0. 1.]\n",
      " [0. 1. 0. 0. 1.]]\n",
      "[[ 0.  1.  0.  1.  1.]\n",
      " [ 0.  1.  0.  0.  1.]\n",
      " [ 0.  1.  0.  0.  1.]\n",
      " [ 0.  1.  0.  0.  1.]\n",
      " [ 0.  1.  0. -1.  1.]\n",
      " [ 0.  1.  0.  0.  1.]]\n",
      "[[-1.  1.  0. -1.  0.]\n",
      " [ 0.  1.  0. -1.  1.]\n",
      " [ 0.  1.  0. -1.  1.]\n",
      " [ 0.  1.  0. -1.  1.]\n",
      " [ 0.  1.  0.  0.  1.]\n",
      " [ 1.  1.  0. -1.  1.]]\n",
      "[[ 0.  1.  0.  0. -1.]\n",
      " [ 0.  1.  0.  0.  1.]\n",
      " [ 0.  1.  0.  0.  1.]\n",
      " [ 0.  1.  0.  0.  1.]\n",
      " [ 0.  1.  0.  0.  1.]\n",
      " [ 1.  1.  1.  0. -1.]]\n",
      "[[-1.  1.  0.  0.  0.]\n",
      " [ 0.  1.  0. -1.  1.]\n",
      " [ 0.  1.  0.  0.  1.]\n",
      " [ 0.  1.  0.  0.  1.]\n",
      " [ 0.  1.  0.  0.  1.]\n",
      " [ 0.  1.  0.  0.  1.]]\n",
      "[[ 0.  1.  0.  1. -1.]\n",
      " [ 0.  1.  0.  1. -1.]\n",
      " [ 0.  1.  0.  0. -1.]\n",
      " [ 0.  1.  0.  0. -1.]\n",
      " [ 0.  1.  0.  0. -1.]\n",
      " [ 0.  1.  0. -1. -1.]]\n",
      "[[-1.  1.  0.  0.  1.]\n",
      " [ 0.  1.  0.  0.  1.]\n",
      " [ 0.  1.  0.  0.  1.]\n",
      " [ 0.  1.  0. -1.  1.]\n",
      " [ 0.  1.  0.  0.  1.]\n",
      " [ 1.  1.  0. -1.  1.]]\n"
     ]
    }
   ],
   "source": [
    "for k in fp:\n",
    "    print_lfs(lf_ism[k])"
   ]
  },
  {
   "cell_type": "code",
   "execution_count": 81,
   "metadata": {},
   "outputs": [],
   "source": [
    "second_five_fifth_all = lf_ism.map(\n",
    "    lambda intrvl: Interval(\n",
    "        intrvl['bounds'],\n",
    "        payload = [intrvl['payload'][1]]\n",
    "    )\n",
    ").coalesce(\n",
    "    ('t1', 't2'), Bounds1D.span, lambda p1, p2: p1 + p2\n",
    ").map(\n",
    "    lambda intrvl: Interval(\n",
    "        intrvl['bounds'],\n",
    "        payload = (\n",
    "            1 if intrvl['payload'].count(1) == 5\n",
    "            else -1\n",
    "        )\n",
    "    )\n",
    ").join(\n",
    "    lf_ism.map(\n",
    "        lambda intrvl: Interval(\n",
    "            intrvl['bounds'],\n",
    "            payload = [intrvl['payload'][4]]\n",
    "        )\n",
    "    ).coalesce(\n",
    "        ('t1', 't2'), Bounds1D.span, lambda p1, p2: p1 + p2\n",
    "    ).map(\n",
    "        lambda intrvl: Interval(\n",
    "            intrvl['bounds'],\n",
    "            payload = (\n",
    "                1 if intrvl['payload'].count(1) == 6\n",
    "                else -1\n",
    "            )\n",
    "        )\n",
    "    ),\n",
    "    predicate = equal(),\n",
    "    merge_op = lambda i1, i2: Interval(\n",
    "        i1['bounds'],\n",
    "        1 if i1['payload'] == 1 and i2['payload'] == 1 else -1\n",
    "    )\n",
    ")"
   ]
  },
  {
   "cell_type": "code",
   "execution_count": 84,
   "metadata": {},
   "outputs": [
    {
     "data": {
      "text/plain": [
       "(0.25, 0.16666666666666666, 0.2, 1, 3, 5)"
      ]
     },
     "execution_count": 84,
     "metadata": {},
     "output_type": "execute_result"
    }
   ],
   "source": [
    "prf1_patient(second_five_fifth_all, gt_ism_patient)"
   ]
  },
  {
   "cell_type": "code",
   "execution_count": 112,
   "metadata": {},
   "outputs": [],
   "source": [
    "three_with_four_positive = lf_ism.map(\n",
    "    lambda intrvl: Interval(\n",
    "        intrvl['bounds'],\n",
    "        payload = [1 if intrvl['payload'].count(1) >= 4 else -1]\n",
    "    )\n",
    ").coalesce(\n",
    "    ('t1', 't2'), Bounds1D.span, lambda p1, p2: p1 + p2\n",
    ").map(\n",
    "    lambda intrvl: Interval(\n",
    "        intrvl['bounds'],\n",
    "        payload = (\n",
    "            1 if intrvl['payload'].count(1) >= 3\n",
    "            else -1\n",
    "        )\n",
    "    )\n",
    ")"
   ]
  },
  {
   "cell_type": "code",
   "execution_count": 113,
   "metadata": {},
   "outputs": [
    {
     "data": {
      "text/plain": [
       "(0.75, 0.5, 0.6, 3, 1, 3)"
      ]
     },
     "execution_count": 113,
     "metadata": {},
     "output_type": "execute_result"
    }
   ],
   "source": [
    "prf1_patient(three_with_four_positive, gt_ism_patient)"
   ]
  },
  {
   "cell_type": "code",
   "execution_count": 114,
   "metadata": {},
   "outputs": [],
   "source": [
    "tp, fp, fn = tp_fp_fn_patient(three_with_four_positive, gt_ism_patient)"
   ]
  },
  {
   "cell_type": "code",
   "execution_count": 115,
   "metadata": {},
   "outputs": [
    {
     "name": "stdout",
     "output_type": "stream",
     "text": [
      "[[1. 1. 1. 0. 0.]\n",
      " [1. 1. 1. 0. 1.]\n",
      " [1. 1. 1. 0. 1.]\n",
      " [1. 1. 1. 0. 1.]\n",
      " [1. 1. 1. 0. 1.]\n",
      " [1. 1. 1. 0. 1.]]\n",
      "[[ 0.  0.  0.  1.  1.]\n",
      " [ 1.  1.  0.  1.  1.]\n",
      " [ 1.  1.  1.  0.  1.]\n",
      " [ 1.  1.  1.  0.  1.]\n",
      " [ 1.  1.  1.  0.  0.]\n",
      " [ 1. -1.  1.  0. -1.]]\n",
      "[[1. 1. 1. 1. 1.]\n",
      " [1. 1. 0. 1. 1.]\n",
      " [1. 1. 0. 1. 1.]\n",
      " [1. 1. 1. 1. 1.]\n",
      " [1. 1. 1. 1. 1.]\n",
      " [1. 1. 1. 1. 1.]]\n"
     ]
    }
   ],
   "source": [
    "for k in tp:\n",
    "    print_lfs(lf_ism[k])"
   ]
  },
  {
   "cell_type": "code",
   "execution_count": 116,
   "metadata": {},
   "outputs": [
    {
     "name": "stdout",
     "output_type": "stream",
     "text": [
      "[[ 1. -1.  1.  1. -1.]\n",
      " [ 1. -1.  1.  0.  1.]\n",
      " [ 1.  1.  1.  0. -1.]\n",
      " [ 1.  1.  1.  1.  1.]\n",
      " [ 1.  1.  1.  0.  1.]\n",
      " [ 1.  1.  1.  0.  1.]]\n"
     ]
    }
   ],
   "source": [
    "for k in fp:\n",
    "    print_lfs(lf_ism[k])"
   ]
  },
  {
   "cell_type": "code",
   "execution_count": 117,
   "metadata": {},
   "outputs": [],
   "source": [
    "two_columns_multiple_negative = lf_ism.map(\n",
    "    lambda intrvl: Interval(\n",
    "        intrvl['bounds'],\n",
    "        payload = [1 if lf == -1 else 0 for lf in intrvl['payload']]\n",
    "    )\n",
    ").coalesce(\n",
    "    ('t1', 't2'), Bounds1D.span, lambda p1, p2: [i + j for i, j in zip(p1, p2)]\n",
    ").map(\n",
    "    lambda intrvl: Interval(\n",
    "        intrvl['bounds'],\n",
    "        payload = (\n",
    "            -1 if len([1 for count in intrvl['payload'] if count > 1]) > 1\n",
    "            else 1\n",
    "        )\n",
    "    )\n",
    ")"
   ]
  },
  {
   "cell_type": "code",
   "execution_count": 118,
   "metadata": {},
   "outputs": [],
   "source": [
    "three_four_positive_columns_not_negative = three_with_four_positive.join(\n",
    "    two_columns_multiple_negative,\n",
    "    predicate = equal(),\n",
    "    merge_op = lambda i1, i2: Interval(\n",
    "        i1['bounds'],\n",
    "        1 if i1['payload'] == 1 and i2['payload'] == 1 else -1\n",
    "    )\n",
    ")"
   ]
  },
  {
   "cell_type": "code",
   "execution_count": 119,
   "metadata": {},
   "outputs": [
    {
     "data": {
      "text/plain": [
       "(1.0, 0.5, 0.6666666666666666, 3, 0, 3)"
      ]
     },
     "execution_count": 119,
     "metadata": {},
     "output_type": "execute_result"
    }
   ],
   "source": [
    "prf1_patient(three_four_positive_columns_not_negative, gt_ism_patient)"
   ]
  },
  {
   "cell_type": "code",
   "execution_count": 120,
   "metadata": {},
   "outputs": [],
   "source": [
    "tp, fp, fn = tp_fp_fn_patient(three_four_positive_columns_not_negative, gt_ism_patient)"
   ]
  },
  {
   "cell_type": "code",
   "execution_count": 123,
   "metadata": {},
   "outputs": [
    {
     "name": "stdout",
     "output_type": "stream",
     "text": [
      "[[1. 1. 1. 0. 0.]\n",
      " [1. 1. 1. 0. 1.]\n",
      " [1. 1. 1. 0. 1.]\n",
      " [1. 1. 1. 0. 1.]\n",
      " [1. 1. 1. 0. 1.]\n",
      " [1. 1. 1. 0. 1.]]\n",
      "[[ 0.  0.  0.  1.  1.]\n",
      " [ 1.  1.  0.  1.  1.]\n",
      " [ 1.  1.  1.  0.  1.]\n",
      " [ 1.  1.  1.  0.  1.]\n",
      " [ 1.  1.  1.  0.  0.]\n",
      " [ 1. -1.  1.  0. -1.]]\n",
      "[[1. 1. 1. 1. 1.]\n",
      " [1. 1. 0. 1. 1.]\n",
      " [1. 1. 0. 1. 1.]\n",
      " [1. 1. 1. 1. 1.]\n",
      " [1. 1. 1. 1. 1.]\n",
      " [1. 1. 1. 1. 1.]]\n"
     ]
    }
   ],
   "source": [
    "for k in tp:\n",
    "    print_lfs(lf_ism[k])"
   ]
  },
  {
   "cell_type": "code",
   "execution_count": 121,
   "metadata": {},
   "outputs": [
    {
     "name": "stdout",
     "output_type": "stream",
     "text": [
      "[[-1.  0.  0.  0.  1.]\n",
      " [ 0.  1.  0.  0.  1.]\n",
      " [ 0.  1.  0.  0.  1.]\n",
      " [ 0.  1.  0. -1.  1.]\n",
      " [ 0.  1.  0.  0.  1.]\n",
      " [ 0.  1.  0.  0.  1.]]\n",
      "[[ 0.  1.  0.  1.  0.]\n",
      " [ 0.  1.  0.  0.  1.]\n",
      " [ 0.  1.  0.  0.  1.]\n",
      " [ 0.  1.  0.  1.  1.]\n",
      " [ 0.  1.  0.  0.  1.]\n",
      " [ 0.  1.  0.  1. -1.]]\n",
      "[[0. 1. 0. 0. 1.]\n",
      " [0. 1. 0. 1. 1.]\n",
      " [0. 1. 0. 0. 1.]\n",
      " [0. 1. 0. 0. 1.]\n",
      " [0. 1. 0. 0. 1.]\n",
      " [0. 1. 0. 0. 1.]]\n"
     ]
    }
   ],
   "source": [
    "for k in fn:\n",
    "    print_lfs(lf_ism[k])"
   ]
  },
  {
   "cell_type": "code",
   "execution_count": 125,
   "metadata": {},
   "outputs": [],
   "source": [
    "second_all_fifth_all = lf_ism.map(\n",
    "    lambda intrvl: Interval(\n",
    "        intrvl['bounds'],\n",
    "        payload = [intrvl['payload'][1]]\n",
    "    )\n",
    ").coalesce(\n",
    "    ('t1', 't2'), Bounds1D.span, lambda p1, p2: p1 + p2\n",
    ").map(\n",
    "    lambda intrvl: Interval(\n",
    "        intrvl['bounds'],\n",
    "        payload = (\n",
    "            1 if intrvl['payload'].count(1) == 6\n",
    "            else -1\n",
    "        )\n",
    "    )\n",
    ").join(\n",
    "    lf_ism.map(\n",
    "        lambda intrvl: Interval(\n",
    "            intrvl['bounds'],\n",
    "            payload = [intrvl['payload'][4]]\n",
    "        )\n",
    "    ).coalesce(\n",
    "        ('t1', 't2'), Bounds1D.span, lambda p1, p2: p1 + p2\n",
    "    ).map(\n",
    "        lambda intrvl: Interval(\n",
    "            intrvl['bounds'],\n",
    "            payload = (\n",
    "                1 if intrvl['payload'].count(1) == 6\n",
    "                else -1\n",
    "            )\n",
    "        )\n",
    "    ),\n",
    "    predicate = equal(),\n",
    "    merge_op = lambda i1, i2: Interval(\n",
    "        i1['bounds'],\n",
    "        1 if i1['payload'] == 1 and i2['payload'] == 1 else -1\n",
    "    )\n",
    ")"
   ]
  },
  {
   "cell_type": "code",
   "execution_count": 126,
   "metadata": {},
   "outputs": [
    {
     "data": {
      "text/plain": [
       "(0.4, 0.3333333333333333, 0.3636363636363636, 2, 3, 4)"
      ]
     },
     "execution_count": 126,
     "metadata": {},
     "output_type": "execute_result"
    }
   ],
   "source": [
    "prf1_patient(second_all_fifth_all, gt_ism_patient)"
   ]
  },
  {
   "cell_type": "code",
   "execution_count": 130,
   "metadata": {},
   "outputs": [],
   "source": [
    "attempt_final = three_four_positive_columns_not_negative.join(\n",
    "    second_all_fifth_all,\n",
    "    predicate = equal(),\n",
    "    merge_op = lambda i1, i2: Interval(\n",
    "        i1['bounds'],\n",
    "        1 if i1['payload'] == 1 or i2['payload'] == 1 else -1\n",
    "    )\n",
    ")"
   ]
  },
  {
   "cell_type": "code",
   "execution_count": 131,
   "metadata": {},
   "outputs": [
    {
     "data": {
      "text/plain": [
       "(0.5714285714285714, 0.6666666666666666, 0.6153846153846153, 4, 3, 2)"
      ]
     },
     "execution_count": 131,
     "metadata": {},
     "output_type": "execute_result"
    }
   ],
   "source": [
    "prf1_patient(attempt_final, gt_ism_patient)"
   ]
  },
  {
   "cell_type": "code",
   "execution_count": 132,
   "metadata": {},
   "outputs": [],
   "source": [
    "tp, fp, fn = tp_fp_fn_patient(attempt_final, gt_ism_patient)"
   ]
  },
  {
   "cell_type": "code",
   "execution_count": 133,
   "metadata": {},
   "outputs": [
    {
     "name": "stdout",
     "output_type": "stream",
     "text": [
      "[[0. 1. 0. 0. 1.]\n",
      " [0. 1. 0. 0. 1.]\n",
      " [0. 1. 0. 0. 1.]\n",
      " [0. 1. 0. 0. 1.]\n",
      " [0. 1. 0. 0. 1.]\n",
      " [0. 1. 0. 0. 1.]]\n",
      "[[ 0.  1.  0.  1.  1.]\n",
      " [ 0.  1.  0.  0.  1.]\n",
      " [ 0.  1.  0.  0.  1.]\n",
      " [ 0.  1.  0.  0.  1.]\n",
      " [ 0.  1.  0. -1.  1.]\n",
      " [ 0.  1.  0.  0.  1.]]\n",
      "[[-1.  1.  0.  0.  1.]\n",
      " [ 0.  1.  0.  0.  1.]\n",
      " [ 0.  1.  0.  0.  1.]\n",
      " [ 0.  1.  0. -1.  1.]\n",
      " [ 0.  1.  0.  0.  1.]\n",
      " [ 1.  1.  0. -1.  1.]]\n"
     ]
    }
   ],
   "source": [
    "for k in fp:\n",
    "    print_lfs(lf_ism[k])"
   ]
  },
  {
   "cell_type": "code",
   "execution_count": 134,
   "metadata": {},
   "outputs": [
    {
     "name": "stdout",
     "output_type": "stream",
     "text": [
      "[[1. 1. 1. 0. 0.]\n",
      " [1. 1. 1. 0. 1.]\n",
      " [1. 1. 1. 0. 1.]\n",
      " [1. 1. 1. 0. 1.]\n",
      " [1. 1. 1. 0. 1.]\n",
      " [1. 1. 1. 0. 1.]]\n",
      "[[ 0.  0.  0.  1.  1.]\n",
      " [ 1.  1.  0.  1.  1.]\n",
      " [ 1.  1.  1.  0.  1.]\n",
      " [ 1.  1.  1.  0.  1.]\n",
      " [ 1.  1.  1.  0.  0.]\n",
      " [ 1. -1.  1.  0. -1.]]\n",
      "[[1. 1. 1. 1. 1.]\n",
      " [1. 1. 0. 1. 1.]\n",
      " [1. 1. 0. 1. 1.]\n",
      " [1. 1. 1. 1. 1.]\n",
      " [1. 1. 1. 1. 1.]\n",
      " [1. 1. 1. 1. 1.]]\n",
      "[[0. 1. 0. 0. 1.]\n",
      " [0. 1. 0. 1. 1.]\n",
      " [0. 1. 0. 0. 1.]\n",
      " [0. 1. 0. 0. 1.]\n",
      " [0. 1. 0. 0. 1.]\n",
      " [0. 1. 0. 0. 1.]]\n"
     ]
    }
   ],
   "source": [
    "for k in tp:\n",
    "    print_lfs(lf_ism[k])"
   ]
  },
  {
   "cell_type": "code",
   "execution_count": 153,
   "metadata": {},
   "outputs": [],
   "source": [
    "first_nonzero = lf_ism.map(\n",
    "    lambda intrvl: Interval(\n",
    "        intrvl['bounds'],\n",
    "        payload = [intrvl['payload'][0]]\n",
    "    )\n",
    ").coalesce(\n",
    "    ('t1', 't2'), Bounds1D.span, lambda p1, p2: p1 + p2\n",
    ").map(\n",
    "    lambda intrvl: Interval(\n",
    "        intrvl['bounds'],\n",
    "        payload = (\n",
    "            1 if intrvl['payload'].count(0) < 4\n",
    "            else -1\n",
    "        )\n",
    "    )\n",
    ")\n",
    "\n",
    "fourth_positive = lf_ism.map(\n",
    "    lambda intrvl: Interval(\n",
    "        intrvl['bounds'],\n",
    "        payload = [intrvl['payload'][3]]\n",
    "    )\n",
    ").coalesce(\n",
    "    ('t1', 't2'), Bounds1D.span, lambda p1, p2: p1 + p2\n",
    ").map(\n",
    "    lambda intrvl: Interval(\n",
    "        intrvl['bounds'],\n",
    "        payload = (\n",
    "            1 if sum(intrvl['payload']) > 0\n",
    "            else -1\n",
    "        )\n",
    "    )\n",
    ")\n",
    "\n",
    "first_nonzero_or_fourth_positive = first_nonzero.join(\n",
    "    fourth_positive,\n",
    "    predicate = equal(),\n",
    "    merge_op = lambda i1, i2: Interval(\n",
    "        i1['bounds'],\n",
    "        1 if i1['payload'] == 1 or i2['payload'] == 1 else -1\n",
    "    )\n",
    ")\n",
    "\n",
    "second_all_fifth_all_stricter = second_all_fifth_all.join(\n",
    "    first_nonzero_or_fourth_positive,\n",
    "    predicate = equal(),\n",
    "    merge_op = lambda i1, i2: Interval(\n",
    "        i1['bounds'],\n",
    "        1 if i1['payload'] == 1 and i2['payload'] == 1 else -1\n",
    "    )\n",
    ")\n",
    "\n",
    "attempt_really_final = three_four_positive_columns_not_negative.join(\n",
    "    second_all_fifth_all_stricter,\n",
    "    predicate = equal(),\n",
    "    merge_op = lambda i1, i2: Interval(\n",
    "        i1['bounds'],\n",
    "        1 if i1['payload'] == 1 or i2['payload'] == 1 else -1\n",
    "    )\n",
    ")"
   ]
  },
  {
   "cell_type": "code",
   "execution_count": 154,
   "metadata": {},
   "outputs": [
    {
     "data": {
      "text/plain": [
       "(1.0, 0.5, 0.6666666666666666, 3, 0, 3)"
      ]
     },
     "execution_count": 154,
     "metadata": {},
     "output_type": "execute_result"
    }
   ],
   "source": [
    "prf1_patient(attempt_really_final, gt_ism_patient)"
   ]
  },
  {
   "cell_type": "code",
   "execution_count": 20,
   "metadata": {},
   "outputs": [],
   "source": [
    "second_lf_unsure = lf_ism.map(\n",
    "    lambda intrvl: Interval(\n",
    "        intrvl['bounds'],\n",
    "        payload = [intrvl['payload'][1]]\n",
    "    )\n",
    ").coalesce(\n",
    "    ('t1', 't2'), Bounds1D.span, lambda p1, p2: p1 + p2\n",
    ").map(\n",
    "    lambda intrvl: Interval(\n",
    "        intrvl['bounds'],\n",
    "        payload = (\n",
    "            1 if intrvl['payload'].count(1) > 4\n",
    "            else -1\n",
    "        )\n",
    "    )\n",
    ")"
   ]
  },
  {
   "cell_type": "code",
   "execution_count": 21,
   "metadata": {},
   "outputs": [
    {
     "data": {
      "text/plain": [
       "(0.14705882352941177, 0.8333333333333334, 0.25, 5, 29, 1)"
      ]
     },
     "execution_count": 21,
     "metadata": {},
     "output_type": "execute_result"
    }
   ],
   "source": [
    "prf1_patient(second_lf_unsure, gt_ism_patient)"
   ]
  },
  {
   "cell_type": "code",
   "execution_count": 22,
   "metadata": {},
   "outputs": [],
   "source": [
    "fourth_lf_negative = lf_ism.map(\n",
    "    lambda intrvl: Interval(\n",
    "        intrvl['bounds'],\n",
    "        payload = [intrvl['payload'][3]]\n",
    "    )\n",
    ").coalesce(\n",
    "    ('t1', 't2'), Bounds1D.span, lambda p1, p2: p1 + p2\n",
    ").map(\n",
    "    lambda intrvl: Interval(\n",
    "        intrvl['bounds'],\n",
    "        payload = (\n",
    "            -1 if intrvl['payload'].count(-1) in (2, 3)\n",
    "            else 1\n",
    "        )\n",
    "    )\n",
    ")"
   ]
  },
  {
   "cell_type": "code",
   "execution_count": 23,
   "metadata": {},
   "outputs": [
    {
     "data": {
      "text/plain": [
       "(0.06593406593406594, 1.0, 0.12371134020618557, 6, 85, 0)"
      ]
     },
     "execution_count": 23,
     "metadata": {},
     "output_type": "execute_result"
    }
   ],
   "source": [
    "prf1_patient(fourth_lf_negative, gt_ism_patient)"
   ]
  },
  {
   "cell_type": "code",
   "execution_count": 24,
   "metadata": {},
   "outputs": [],
   "source": [
    "second_fourth = second_lf_unsure.join(\n",
    "    fourth_lf_negative,\n",
    "    predicate = equal(),\n",
    "    merge_op = lambda i1, i2: Interval(\n",
    "        i1['bounds'],\n",
    "        1 if i1['payload'] == 1 and i2['payload'] == 1 else -1\n",
    "    )\n",
    ")"
   ]
  },
  {
   "cell_type": "code",
   "execution_count": 25,
   "metadata": {},
   "outputs": [
    {
     "data": {
      "text/plain": [
       "(0.1724137931034483, 0.8333333333333334, 0.28571428571428575, 5, 24, 1)"
      ]
     },
     "execution_count": 25,
     "metadata": {},
     "output_type": "execute_result"
    }
   ],
   "source": [
    "prf1_patient(\n",
    "    second_fourth,\n",
    "    gt_ism_patient\n",
    ")"
   ]
  },
  {
   "cell_type": "code",
   "execution_count": 26,
   "metadata": {},
   "outputs": [],
   "source": [
    "tp, fp, fn = tp_fp_fn_patient(second_fourth, gt_ism_patient)"
   ]
  },
  {
   "cell_type": "code",
   "execution_count": 27,
   "metadata": {},
   "outputs": [],
   "source": [
    "second_has_zero = lf_ism.map(\n",
    "    lambda intrvl: Interval(\n",
    "        intrvl['bounds'],\n",
    "        payload = [intrvl['payload'][1]]\n",
    "    )\n",
    ").coalesce(\n",
    "    ('t1', 't2'), Bounds1D.span, lambda p1, p2: p1 + p2\n",
    ").map(\n",
    "    lambda intrvl: Interval(\n",
    "        intrvl['bounds'],\n",
    "        payload = (\n",
    "            -1 if intrvl['payload'].count(0) > 0\n",
    "            else 1\n",
    "        )\n",
    "    )\n",
    ")"
   ]
  },
  {
   "cell_type": "code",
   "execution_count": 28,
   "metadata": {},
   "outputs": [
    {
     "data": {
      "text/plain": [
       "(0.07017543859649122, 0.6666666666666666, 0.12698412698412698, 4, 53, 2)"
      ]
     },
     "execution_count": 28,
     "metadata": {},
     "output_type": "execute_result"
    }
   ],
   "source": [
    "prf1_patient(second_has_zero, gt_ism_patient)"
   ]
  },
  {
   "cell_type": "code",
   "execution_count": 29,
   "metadata": {},
   "outputs": [],
   "source": [
    "attempt3 = second_fourth.join(\n",
    "    second_has_zero,\n",
    "    predicate = equal(),\n",
    "    merge_op = lambda i1, i2: Interval(\n",
    "        i1['bounds'],\n",
    "        1 if i1['payload'] == 1 and i2['payload'] == 1 else -1\n",
    "    )\n",
    ")"
   ]
  },
  {
   "cell_type": "code",
   "execution_count": 30,
   "metadata": {},
   "outputs": [
    {
     "data": {
      "text/plain": [
       "(0.18181818181818182, 0.6666666666666666, 0.28571428571428575, 4, 18, 2)"
      ]
     },
     "execution_count": 30,
     "metadata": {},
     "output_type": "execute_result"
    }
   ],
   "source": [
    "prf1_patient(attempt3, gt_ism_patient)"
   ]
  },
  {
   "cell_type": "code",
   "execution_count": 31,
   "metadata": {},
   "outputs": [],
   "source": [
    "fifth_lf_starts_or_ends_with_0 = lf_ism.map(\n",
    "    lambda intrvl: Interval(\n",
    "        intrvl['bounds'],\n",
    "        payload = [intrvl['payload'][4]]\n",
    "    )\n",
    ").coalesce(\n",
    "    ('t1', 't2'), Bounds1D.span, lambda p1, p2: p1 + p2\n",
    ").map(\n",
    "    lambda intrvl: Interval(\n",
    "        intrvl['bounds'],\n",
    "        payload = (\n",
    "            -1 if intrvl['payload'][0] == 0 or intrvl['payload'][-1] == 0\n",
    "            else 1\n",
    "        )\n",
    "    )\n",
    ")"
   ]
  },
  {
   "cell_type": "code",
   "execution_count": 32,
   "metadata": {},
   "outputs": [
    {
     "data": {
      "text/plain": [
       "(0.04597701149425287, 0.6666666666666666, 0.08602150537634408, 4, 83, 2)"
      ]
     },
     "execution_count": 32,
     "metadata": {},
     "output_type": "execute_result"
    }
   ],
   "source": [
    "prf1_patient(fifth_lf_starts_or_ends_with_0, gt_ism_patient)"
   ]
  },
  {
   "cell_type": "code",
   "execution_count": 33,
   "metadata": {},
   "outputs": [],
   "source": [
    "attempt4 = attempt3.join(\n",
    "    fifth_lf_starts_or_ends_with_0,\n",
    "    predicate = equal(),\n",
    "    merge_op = lambda i1, i2: Interval(\n",
    "        i1['bounds'],\n",
    "        1 if i1['payload'] == 1 and i2['payload'] == 1 else -1\n",
    "    )\n",
    ")"
   ]
  },
  {
   "cell_type": "code",
   "execution_count": 34,
   "metadata": {},
   "outputs": [
    {
     "data": {
      "text/plain": [
       "(0.14285714285714285, 0.3333333333333333, 0.2, 2, 12, 4)"
      ]
     },
     "execution_count": 34,
     "metadata": {},
     "output_type": "execute_result"
    }
   ],
   "source": [
    "prf1_patient(attempt4, gt_ism_patient)"
   ]
  },
  {
   "cell_type": "code",
   "execution_count": 35,
   "metadata": {},
   "outputs": [],
   "source": [
    "tp, fp, fn = tp_fp_fn_patient(attempt4, gt_ism_patient)"
   ]
  },
  {
   "cell_type": "code",
   "execution_count": 36,
   "metadata": {},
   "outputs": [],
   "source": [
    "three_negatives_twice = lf_ism.map(\n",
    "    lambda intrvl: Interval(\n",
    "        intrvl['bounds'],\n",
    "        payload = [-1 if intrvl['payload'].count(-1) >= 3 else 1]\n",
    "    )\n",
    ").coalesce(\n",
    "    ('t1', 't2'), Bounds1D.span, lambda p1, p2: p1 + p2\n",
    ").map(\n",
    "    lambda intrvl: Interval(\n",
    "        intrvl['bounds'],\n",
    "        payload = (\n",
    "            -1 if intrvl['payload'].count(-1) >= 2\n",
    "            else 1\n",
    "        )\n",
    "    )\n",
    ")"
   ]
  },
  {
   "cell_type": "code",
   "execution_count": 37,
   "metadata": {},
   "outputs": [
    {
     "data": {
      "text/plain": [
       "(0.0625, 1.0, 0.11764705882352941, 6, 90, 0)"
      ]
     },
     "execution_count": 37,
     "metadata": {},
     "output_type": "execute_result"
    }
   ],
   "source": [
    "prf1_patient(three_negatives_twice, gt_ism_patient)"
   ]
  },
  {
   "cell_type": "code",
   "execution_count": 38,
   "metadata": {},
   "outputs": [],
   "source": [
    "fifth_lf_less_than_three_positive = lf_ism.map(\n",
    "    lambda intrvl: Interval(\n",
    "        intrvl['bounds'],\n",
    "        payload = [intrvl['payload'][4]]\n",
    "    )\n",
    ").coalesce(\n",
    "    ('t1', 't2'), Bounds1D.span, lambda p1, p2: p1 + p2\n",
    ").map(\n",
    "    lambda intrvl: Interval(\n",
    "        intrvl['bounds'],\n",
    "        payload = (\n",
    "            -1 if (intrvl['payload'].count(-1) > 3 or\n",
    "                  intrvl['payload'].count(-1) > 2 and\n",
    "                  intrvl['payload'].count(0) == 1)\n",
    "            else 1\n",
    "        )\n",
    "    )\n",
    ")"
   ]
  },
  {
   "cell_type": "code",
   "execution_count": 39,
   "metadata": {},
   "outputs": [
    {
     "data": {
      "text/plain": [
       "(0.10714285714285714, 1.0, 0.19354838709677416, 6, 50, 0)"
      ]
     },
     "execution_count": 39,
     "metadata": {},
     "output_type": "execute_result"
    }
   ],
   "source": [
    "prf1_patient(fifth_lf_less_than_three_positive, gt_ism_patient)"
   ]
  },
  {
   "cell_type": "code",
   "execution_count": 40,
   "metadata": {},
   "outputs": [],
   "source": [
    "attempt5 = attempt4.join(\n",
    "    three_negatives_twice,\n",
    "    predicate = equal(),\n",
    "    merge_op = lambda i1, i2: Interval(\n",
    "        i1['bounds'],\n",
    "        1 if i1['payload'] == 1 and i2['payload'] == 1 else -1\n",
    "    )\n",
    ").join(\n",
    "    fifth_lf_less_than_three_positive,\n",
    "    predicate = equal(),\n",
    "    merge_op = lambda i1, i2: Interval(\n",
    "        i1['bounds'],\n",
    "        1 if i1['payload'] == 1 and i2['payload'] == 1 else -1\n",
    "    )\n",
    ")"
   ]
  },
  {
   "cell_type": "code",
   "execution_count": 41,
   "metadata": {},
   "outputs": [
    {
     "data": {
      "text/plain": [
       "(0.2, 0.3333333333333333, 0.25, 2, 8, 4)"
      ]
     },
     "execution_count": 41,
     "metadata": {},
     "output_type": "execute_result"
    }
   ],
   "source": [
    "prf1_patient(attempt5, gt_ism_patient)"
   ]
  },
  {
   "cell_type": "code",
   "execution_count": 42,
   "metadata": {},
   "outputs": [],
   "source": [
    "tp, fp, fn = tp_fp_fn_patient(attempt5, gt_ism_patient)"
   ]
  },
  {
   "cell_type": "code",
   "execution_count": 171,
   "metadata": {},
   "outputs": [
    {
     "name": "stdout",
     "output_type": "stream",
     "text": [
      "[[ 0. -1.  0.  0. -1.]\n",
      " [ 0.  1.  0.  1. -1.]\n",
      " [ 0.  1.  0.  1. -1.]\n",
      " [ 0.  1.  0.  0.  1.]\n",
      " [ 0.  1.  0.  0.  1.]\n",
      " [ 0.  1.  0. -1.  1.]]\n",
      "[[-1. -1.  0.  0. -1.]\n",
      " [ 0.  1.  0.  0.  1.]\n",
      " [ 0.  1.  0.  0.  1.]\n",
      " [ 0.  1.  0.  0.  1.]\n",
      " [ 0.  1.  0.  0.  1.]\n",
      " [ 0.  1.  0.  0.  1.]]\n",
      "[[-1.  1.  0.  0.  1.]\n",
      " [ 0.  1.  0.  0.  1.]\n",
      " [ 0.  1.  0.  0.  1.]\n",
      " [ 0.  1.  0.  0.  1.]\n",
      " [ 0.  1.  0.  0.  1.]\n",
      " [ 0.  1.  0.  0.  1.]]\n",
      "[[ 0. -1.  0.  1. -1.]\n",
      " [ 0.  1.  0.  0. -1.]\n",
      " [ 0.  1.  0.  0. -1.]\n",
      " [ 0.  1.  0.  0.  1.]\n",
      " [ 0.  1.  0. -1.  1.]\n",
      " [ 0.  1.  0.  0.  1.]]\n"
     ]
    }
   ],
   "source": [
    "for k in fp:\n",
    "    print_lfs(lf_ism[k])"
   ]
  },
  {
   "cell_type": "code",
   "execution_count": 172,
   "metadata": {},
   "outputs": [
    {
     "name": "stdout",
     "output_type": "stream",
     "text": [
      "[[-1. -1.  0.  0. -1.]\n",
      " [ 0.  1.  0.  0. -1.]\n",
      " [ 0.  1.  0.  0.  1.]\n",
      " [ 0.  1.  0.  0.  1.]\n",
      " [ 0.  1.  0.  0.  1.]\n",
      " [ 0.  1.  0.  0.  1.]]\n",
      "[[-1.  1.  0. -1.  1.]\n",
      " [-1.  1.  0.  0.  1.]\n",
      " [-1.  1.  0. -1.  1.]\n",
      " [ 0.  1.  0. -1.  1.]\n",
      " [ 1.  1.  1. -1.  1.]\n",
      " [ 1.  1.  0. -1.  1.]]\n",
      "[[ 0.  1.  0.  0. -1.]\n",
      " [ 0.  1.  0.  0.  0.]\n",
      " [ 0.  1.  0.  0.  1.]\n",
      " [ 0.  1.  0.  0. -1.]\n",
      " [ 0.  1.  0.  0.  0.]\n",
      " [ 0.  1.  0.  0.  1.]]\n",
      "[[ 0. -1.  0. -1.  1.]\n",
      " [ 0.  1.  0.  0.  1.]\n",
      " [ 0.  1.  0.  0.  1.]\n",
      " [ 0.  1.  0. -1.  1.]\n",
      " [ 0.  1.  0. -1.  1.]\n",
      " [ 0.  1.  0. -1.  1.]]\n",
      "[[ 1.  1.  1.  0.  1.]\n",
      " [ 0.  1.  0. -1.  1.]\n",
      " [ 1.  1.  1.  0.  1.]\n",
      " [ 1.  1.  1.  0.  1.]\n",
      " [ 1.  1.  1.  0.  1.]\n",
      " [ 1.  1.  1.  0.  1.]]\n",
      "[[ 0.  1.  0.  0. -1.]\n",
      " [ 0. -1.  0.  0. -1.]\n",
      " [ 0.  1.  0.  0. -1.]\n",
      " [ 0.  1.  0. -1.  1.]\n",
      " [ 0.  1.  0.  0.  1.]\n",
      " [ 1.  1.  0.  0.  1.]]\n"
     ]
    }
   ],
   "source": [
    "for k in tp:\n",
    "    print_lfs(lf_ism[k])"
   ]
  },
  {
   "cell_type": "code",
   "execution_count": 142,
   "metadata": {},
   "outputs": [
    {
     "name": "stdout",
     "output_type": "stream",
     "text": [
      "[[-1. -1.  0.  0. -1.]\n",
      " [-1.  1.  0. -1. -1.]\n",
      " [ 0.  1.  0.  0.  1.]\n",
      " [ 0.  1.  0.  0.  1.]\n",
      " [ 0.  1.  0.  0.  1.]\n",
      " [ 1.  1.  0.  0.  1.]]\n",
      "[[ 0. -1.  0.  0. -1.]\n",
      " [ 0.  1.  0.  1. -1.]\n",
      " [ 0.  1.  0.  1. -1.]\n",
      " [ 0.  1.  0.  0.  1.]\n",
      " [ 0.  1.  0.  0.  1.]\n",
      " [ 0.  1.  0. -1.  1.]]\n",
      "[[-1. -1.  0.  0. -1.]\n",
      " [ 0.  1.  0.  0.  1.]\n",
      " [ 0.  1.  0.  0. -1.]\n",
      " [ 0.  1.  0.  0. -1.]\n",
      " [ 0.  1.  1.  0. -1.]\n",
      " [ 1.  1.  1.  0. -1.]]\n",
      "[[-1. -1.  0.  0. -1.]\n",
      " [ 0.  1.  0.  0.  1.]\n",
      " [ 0.  1.  0.  0.  1.]\n",
      " [ 0.  1.  0.  0.  1.]\n",
      " [ 0.  1.  0.  0.  1.]\n",
      " [ 0.  1.  0.  0.  1.]]\n",
      "[[-1.  1.  0.  0.  1.]\n",
      " [ 0.  1.  0.  0.  1.]\n",
      " [ 0.  1.  0.  0.  1.]\n",
      " [ 0.  1.  0.  0.  1.]\n",
      " [ 0.  1.  0.  0.  1.]\n",
      " [ 0.  1.  0.  0.  1.]]\n",
      "[[ 0. -1.  0.  1. -1.]\n",
      " [ 0.  1.  0.  0. -1.]\n",
      " [ 0.  1.  0.  0. -1.]\n",
      " [ 0.  1.  0.  0.  1.]\n",
      " [ 0.  1.  0. -1.  1.]\n",
      " [ 0.  1.  0.  0.  1.]]\n",
      "[[ 0. -1.  0.  1. -1.]\n",
      " [ 0.  1.  0.  1.  0.]\n",
      " [ 0.  1.  0.  0. -1.]\n",
      " [ 0.  1.  0.  0. -1.]\n",
      " [ 0.  1.  0.  0.  1.]\n",
      " [ 0.  1.  0.  0.  1.]]\n"
     ]
    }
   ],
   "source": [
    "for k in fp:\n",
    "    print_lfs(lf_ism[k])"
   ]
  },
  {
   "cell_type": "code",
   "execution_count": 143,
   "metadata": {},
   "outputs": [
    {
     "name": "stdout",
     "output_type": "stream",
     "text": [
      "[[-1. -1.  0.  0. -1.]\n",
      " [ 0.  1.  0.  0. -1.]\n",
      " [ 0.  1.  0.  0.  1.]\n",
      " [ 0.  1.  0.  0.  1.]\n",
      " [ 0.  1.  0.  0.  1.]\n",
      " [ 0.  1.  0.  0.  1.]]\n",
      "[[-1.  1.  0. -1.  1.]\n",
      " [-1.  1.  0.  0.  1.]\n",
      " [-1.  1.  0. -1.  1.]\n",
      " [ 0.  1.  0. -1.  1.]\n",
      " [ 1.  1.  1. -1.  1.]\n",
      " [ 1.  1.  0. -1.  1.]]\n",
      "[[ 0.  1.  0.  0. -1.]\n",
      " [ 0.  1.  0.  0.  0.]\n",
      " [ 0.  1.  0.  0.  1.]\n",
      " [ 0.  1.  0.  0. -1.]\n",
      " [ 0.  1.  0.  0.  0.]\n",
      " [ 0.  1.  0.  0.  1.]]\n",
      "[[ 0. -1.  0. -1.  1.]\n",
      " [ 0.  1.  0.  0.  1.]\n",
      " [ 0.  1.  0.  0.  1.]\n",
      " [ 0.  1.  0. -1.  1.]\n",
      " [ 0.  1.  0. -1.  1.]\n",
      " [ 0.  1.  0. -1.  1.]]\n",
      "[[ 1.  1.  1.  0.  1.]\n",
      " [ 0.  1.  0. -1.  1.]\n",
      " [ 1.  1.  1.  0.  1.]\n",
      " [ 1.  1.  1.  0.  1.]\n",
      " [ 1.  1.  1.  0.  1.]\n",
      " [ 1.  1.  1.  0.  1.]]\n",
      "[[ 0.  1.  0.  0. -1.]\n",
      " [ 0. -1.  0.  0. -1.]\n",
      " [ 0.  1.  0.  0. -1.]\n",
      " [ 0.  1.  0. -1.  1.]\n",
      " [ 0.  1.  0.  0.  1.]\n",
      " [ 1.  1.  0.  0.  1.]]\n"
     ]
    }
   ],
   "source": [
    "for k in tp:\n",
    "    print_lfs(lf_ism[k])"
   ]
  },
  {
   "cell_type": "code",
   "execution_count": 131,
   "metadata": {},
   "outputs": [],
   "source": [
    "tp, fp, fn = tp_fp_fn_patient(attempt3, gt_ism_patient)"
   ]
  },
  {
   "cell_type": "code",
   "execution_count": 132,
   "metadata": {},
   "outputs": [
    {
     "name": "stdout",
     "output_type": "stream",
     "text": [
      "[[-1. -1.  0.  0. -1.]\n",
      " [ 0.  1.  0.  0.  1.]\n",
      " [ 0.  1.  0.  0.  1.]\n",
      " [ 0.  1.  0.  0.  1.]\n",
      " [ 0.  1.  0.  0.  1.]\n",
      " [ 0.  1.  0.  0.  1.]]\n",
      "[[-1.  1.  0.  0.  1.]\n",
      " [ 0.  1.  0.  0.  1.]\n",
      " [ 0.  1.  0.  0.  1.]\n",
      " [ 0.  1.  0.  0.  1.]\n",
      " [ 0.  1.  0.  0.  1.]\n",
      " [ 0.  1.  0.  0.  1.]]\n",
      "[[-1. -1.  0.  0.  0.]\n",
      " [ 0.  1.  0.  0.  1.]\n",
      " [ 0.  1.  0.  0.  1.]\n",
      " [ 0.  1.  0.  0.  1.]\n",
      " [ 0.  1.  0.  0.  1.]\n",
      " [ 0.  1.  0.  0.  1.]]\n",
      "[[ 0. -1.  0.  1. -1.]\n",
      " [ 0.  1.  0.  1.  0.]\n",
      " [ 0.  1.  0.  0. -1.]\n",
      " [ 0.  1.  0.  0. -1.]\n",
      " [ 0.  1.  0.  0.  1.]\n",
      " [ 0.  1.  0.  0.  1.]]\n",
      "[[-1. -1.  0.  0. -1.]\n",
      " [-1.  1.  0. -1. -1.]\n",
      " [ 0.  1.  0.  0.  1.]\n",
      " [ 0.  1.  0.  0.  1.]\n",
      " [ 0.  1.  0.  0.  1.]\n",
      " [ 1.  1.  0.  0.  1.]]\n",
      "[[ 0. -1.  0.  0. -1.]\n",
      " [ 0.  1.  0.  1. -1.]\n",
      " [ 0.  1.  0.  1. -1.]\n",
      " [ 0.  1.  0.  0.  1.]\n",
      " [ 0.  1.  0.  0.  1.]\n",
      " [ 0.  1.  0. -1.  1.]]\n",
      "[[-1. -1.  0.  0. -1.]\n",
      " [ 0.  1.  0.  0.  1.]\n",
      " [ 0.  1.  0.  0. -1.]\n",
      " [ 0.  1.  0.  0. -1.]\n",
      " [ 0.  1.  1.  0. -1.]\n",
      " [ 1.  1.  1.  0. -1.]]\n",
      "[[ 0. -1.  0.  1. -1.]\n",
      " [ 0.  1.  0.  0. -1.]\n",
      " [ 0.  1.  0.  0. -1.]\n",
      " [ 0.  1.  0.  0.  1.]\n",
      " [ 0.  1.  0. -1.  1.]\n",
      " [ 0.  1.  0.  0.  1.]]\n",
      "[[ 0. -1.  0.  0. -1.]\n",
      " [ 0.  1.  0.  0.  1.]\n",
      " [ 0.  1.  0.  0.  1.]\n",
      " [ 0.  1.  0.  0.  1.]\n",
      " [ 0.  1.  0. -1.  0.]\n",
      " [ 0.  1.  0.  0.  0.]]\n",
      "[[ 0.  1.  0.  0.  0.]\n",
      " [ 0.  1.  0.  0. -1.]\n",
      " [ 0.  1.  0.  0.  1.]\n",
      " [ 0.  1.  0.  0.  1.]\n",
      " [ 0.  1.  0.  0.  1.]\n",
      " [ 0.  1.  0.  0.  1.]]\n"
     ]
    }
   ],
   "source": [
    "for k in fp:\n",
    "    print_lfs(lf_ism[k])"
   ]
  },
  {
   "cell_type": "code",
   "execution_count": 134,
   "metadata": {},
   "outputs": [
    {
     "name": "stdout",
     "output_type": "stream",
     "text": [
      "[[-1. -1.  0.  0. -1.]\n",
      " [ 0.  1.  0.  0. -1.]\n",
      " [ 0.  1.  0.  0.  1.]\n",
      " [ 0.  1.  0.  0.  1.]\n",
      " [ 0.  1.  0.  0.  1.]\n",
      " [ 0.  1.  0.  0.  1.]]\n",
      "[[-1.  1.  0. -1.  1.]\n",
      " [-1.  1.  0.  0.  1.]\n",
      " [-1.  1.  0. -1.  1.]\n",
      " [ 0.  1.  0. -1.  1.]\n",
      " [ 1.  1.  1. -1.  1.]\n",
      " [ 1.  1.  0. -1.  1.]]\n",
      "[[ 0.  1.  0.  0. -1.]\n",
      " [ 0.  1.  0.  0.  0.]\n",
      " [ 0.  1.  0.  0.  1.]\n",
      " [ 0.  1.  0.  0. -1.]\n",
      " [ 0.  1.  0.  0.  0.]\n",
      " [ 0.  1.  0.  0.  1.]]\n",
      "[[ 0. -1.  0. -1.  1.]\n",
      " [ 0.  1.  0.  0.  1.]\n",
      " [ 0.  1.  0.  0.  1.]\n",
      " [ 0.  1.  0. -1.  1.]\n",
      " [ 0.  1.  0. -1.  1.]\n",
      " [ 0.  1.  0. -1.  1.]]\n",
      "[[ 1.  1.  1.  0.  1.]\n",
      " [ 0.  1.  0. -1.  1.]\n",
      " [ 1.  1.  1.  0.  1.]\n",
      " [ 1.  1.  1.  0.  1.]\n",
      " [ 1.  1.  1.  0.  1.]\n",
      " [ 1.  1.  1.  0.  1.]]\n",
      "[[ 0.  1.  0.  0. -1.]\n",
      " [ 0. -1.  0.  0. -1.]\n",
      " [ 0.  1.  0.  0. -1.]\n",
      " [ 0.  1.  0. -1.  1.]\n",
      " [ 0.  1.  0.  0.  1.]\n",
      " [ 1.  1.  0.  0.  1.]]\n"
     ]
    }
   ],
   "source": [
    "for k in tp:\n",
    "    print_lfs(lf_ism[k])"
   ]
  },
  {
   "cell_type": "code",
   "execution_count": 119,
   "metadata": {
    "scrolled": true
   },
   "outputs": [
    {
     "name": "stdout",
     "output_type": "stream",
     "text": [
      "[[ 1.  1.  1. -1. -1.]\n",
      " [ 0.  0.  0.  0. -1.]\n",
      " [ 0.  1.  0.  0.  1.]\n",
      " [ 0.  1.  0.  1.  1.]\n",
      " [ 0.  1.  0.  0.  1.]\n",
      " [ 1.  1.  0.  0.  1.]]\n",
      "[[-1. -1.  0.  0. -1.]\n",
      " [ 0.  1.  0.  0.  1.]\n",
      " [ 0.  1.  0.  0.  1.]\n",
      " [ 0.  1.  0.  0.  1.]\n",
      " [ 0.  1.  0.  0.  1.]\n",
      " [ 0.  1.  0.  0.  1.]]\n",
      "[[ 0.  1.  0.  0. -1.]\n",
      " [ 0.  1.  0.  0. -1.]\n",
      " [ 0.  1.  0.  0. -1.]\n",
      " [ 0.  1.  0.  0. -1.]\n",
      " [ 0.  0.  0.  0. -1.]\n",
      " [ 0.  1.  0.  0.  1.]]\n",
      "[[-1.  1.  0.  0.  1.]\n",
      " [ 0.  1.  0.  0.  1.]\n",
      " [ 0.  1.  0.  0.  1.]\n",
      " [ 0.  1.  0.  0.  1.]\n",
      " [ 0.  1.  0.  0.  1.]\n",
      " [ 0.  1.  0.  0.  1.]]\n",
      "[[-1. -1.  0.  0.  0.]\n",
      " [ 0.  1.  0.  0.  1.]\n",
      " [ 0.  1.  0.  0.  1.]\n",
      " [ 0.  1.  0.  0.  1.]\n",
      " [ 0.  1.  0.  0.  1.]\n",
      " [ 0.  1.  0.  0.  1.]]\n",
      "[[-1.  1.  0. -1.  1.]\n",
      " [-1.  1.  0. -1.  1.]\n",
      " [ 0.  0.  0. -1.  1.]\n",
      " [ 0.  1.  0.  0.  1.]\n",
      " [ 0.  1.  0. -1.  1.]\n",
      " [ 0.  1.  0. -1.  1.]]\n",
      "[[ 0. -1.  0.  1. -1.]\n",
      " [ 0.  1.  0.  1.  0.]\n",
      " [ 0.  1.  0.  0. -1.]\n",
      " [ 0.  1.  0.  0. -1.]\n",
      " [ 0.  1.  0.  0.  1.]\n",
      " [ 0.  1.  0.  0.  1.]]\n",
      "[[-1. -1.  0.  0. -1.]\n",
      " [-1.  1.  0. -1. -1.]\n",
      " [ 0.  1.  0.  0.  1.]\n",
      " [ 0.  1.  0.  0.  1.]\n",
      " [ 0.  1.  0.  0.  1.]\n",
      " [ 1.  1.  0.  0.  1.]]\n",
      "[[ 0. -1.  0.  0. -1.]\n",
      " [ 0.  1.  0.  1. -1.]\n",
      " [ 0.  1.  0.  1. -1.]\n",
      " [ 0.  1.  0.  0.  1.]\n",
      " [ 0.  1.  0.  0.  1.]\n",
      " [ 0.  1.  0. -1.  1.]]\n",
      "[[-1. -1.  0.  0. -1.]\n",
      " [ 0.  1.  0.  0.  1.]\n",
      " [ 0.  1.  0.  0. -1.]\n",
      " [ 0.  1.  0.  0. -1.]\n",
      " [ 0.  1.  1.  0. -1.]\n",
      " [ 1.  1.  1.  0. -1.]]\n",
      "[[ 0. -1.  0.  1. -1.]\n",
      " [ 0.  1.  0.  0. -1.]\n",
      " [ 0.  1.  0.  0. -1.]\n",
      " [ 0.  1.  0.  0.  1.]\n",
      " [ 0.  1.  0. -1.  1.]\n",
      " [ 0.  1.  0.  0.  1.]]\n",
      "[[ 0. -1.  0.  0. -1.]\n",
      " [ 0.  1.  0.  0.  1.]\n",
      " [ 0.  1.  0.  0.  1.]\n",
      " [ 0.  1.  0.  0.  1.]\n",
      " [ 0.  1.  0. -1.  0.]\n",
      " [ 0.  1.  0.  0.  0.]]\n",
      "[[ 0.  1.  0.  0.  0.]\n",
      " [ 0.  1.  0.  0. -1.]\n",
      " [ 0.  1.  0.  0.  1.]\n",
      " [ 0.  1.  0.  0.  1.]\n",
      " [ 0.  1.  0.  0.  1.]\n",
      " [ 0.  1.  0.  0.  1.]]\n",
      "[[-1.  1.  0.  0. -1.]\n",
      " [-1.  1.  0. -1.  0.]\n",
      " [-1.  1.  0. -1.  1.]\n",
      " [ 0.  1.  0. -1.  1.]\n",
      " [ 0.  1.  0. -1.  1.]\n",
      " [ 1.  0.  1. -1. -1.]]\n"
     ]
    }
   ],
   "source": [
    "for k in fp:\n",
    "    print_lfs(lf_ism[k])"
   ]
  },
  {
   "cell_type": "code",
   "execution_count": 120,
   "metadata": {},
   "outputs": [],
   "source": [
    "tp, fp, fn = tp_fp_fn_patient(second_lf_unsure, gt_ism_patient)"
   ]
  },
  {
   "cell_type": "code",
   "execution_count": 108,
   "metadata": {},
   "outputs": [
    {
     "data": {
      "text/plain": [
       "[0, 1, 2, 18, 28, 29, 35, 39, 40, 45, 46, 52, 54, 56, 61, 76, 77, 80, 89]"
      ]
     },
     "execution_count": 108,
     "metadata": {},
     "output_type": "execute_result"
    }
   ],
   "source": [
    "sorted(list(fp.get_grouped_intervals().keys()))"
   ]
  },
  {
   "cell_type": "code",
   "execution_count": 110,
   "metadata": {},
   "outputs": [
    {
     "data": {
      "text/plain": [
       "[0,\n",
       " 1,\n",
       " 2,\n",
       " 4,\n",
       " 6,\n",
       " 7,\n",
       " 12,\n",
       " 13,\n",
       " 18,\n",
       " 20,\n",
       " 27,\n",
       " 28,\n",
       " 29,\n",
       " 31,\n",
       " 32,\n",
       " 35,\n",
       " 36,\n",
       " 39,\n",
       " 40,\n",
       " 41,\n",
       " 42,\n",
       " 43,\n",
       " 45,\n",
       " 46,\n",
       " 49,\n",
       " 50,\n",
       " 52,\n",
       " 53,\n",
       " 54,\n",
       " 56,\n",
       " 61,\n",
       " 69,\n",
       " 70,\n",
       " 73,\n",
       " 74,\n",
       " 75,\n",
       " 76,\n",
       " 77,\n",
       " 80,\n",
       " 89]"
      ]
     },
     "execution_count": 110,
     "metadata": {},
     "output_type": "execute_result"
    }
   ],
   "source": [
    "sorted(list(fourth_lf_negative.filter(\n",
    "    payload_satisfies(lambda p: p == 1)\n",
    ").get_grouped_intervals().keys()))"
   ]
  },
  {
   "cell_type": "code",
   "execution_count": 98,
   "metadata": {},
   "outputs": [
    {
     "name": "stdout",
     "output_type": "stream",
     "text": [
      "[[-1.  1.  0.  0.  1.]\n",
      " [-1.  0.  0.  0. -1.]\n",
      " [-1.  1.  0.  0. -1.]\n",
      " [ 0.  1.  0.  0.  1.]\n",
      " [ 0.  1.  0. -1.  1.]\n",
      " [ 0.  1.  0. -1.  1.]]\n",
      "[[ 0.  0.  0.  0. -1.]\n",
      " [ 0.  1.  0.  0. -1.]\n",
      " [ 1.  1.  1.  0. -1.]\n",
      " [ 1.  1.  1.  0.  1.]\n",
      " [ 0.  1.  0. -1.  1.]\n",
      " [ 1.  1.  1. -1.  1.]]\n",
      "[[ 1.  1.  1. -1. -1.]\n",
      " [ 0.  0.  0.  0. -1.]\n",
      " [ 0.  1.  0.  0.  1.]\n",
      " [ 0.  1.  0.  1.  1.]\n",
      " [ 0.  1.  0.  0.  1.]\n",
      " [ 1.  1.  0.  0.  1.]]\n",
      "[[ 0.  0.  0.  0.  1.]\n",
      " [ 0.  1.  0.  0.  1.]\n",
      " [ 0.  1.  0.  0.  1.]\n",
      " [ 0.  1.  0.  0.  1.]\n",
      " [ 0.  1.  0. -1.  1.]\n",
      " [ 0.  1.  0. -1.  1.]]\n",
      "[[-1. -1.  0.  0. -1.]\n",
      " [ 0.  1.  0.  0.  1.]\n",
      " [ 0.  1.  0.  0.  1.]\n",
      " [ 0.  1.  0.  0.  1.]\n",
      " [ 0.  1.  0.  0.  1.]\n",
      " [ 0.  1.  0.  0.  1.]]\n",
      "[[ 0.  1.  0.  0. -1.]\n",
      " [ 0.  1.  0.  0. -1.]\n",
      " [ 0.  1.  0.  0. -1.]\n",
      " [ 0.  1.  0.  0. -1.]\n",
      " [ 0.  0.  0.  0. -1.]\n",
      " [ 0.  1.  0.  0.  1.]]\n",
      "[[-1.  1.  0.  0.  1.]\n",
      " [ 0.  1.  0.  0.  1.]\n",
      " [ 0.  1.  0.  0.  1.]\n",
      " [ 0.  1.  0.  0.  1.]\n",
      " [ 0.  1.  0.  0.  1.]\n",
      " [ 0.  1.  0.  0.  1.]]\n",
      "[[-1. -1.  0.  0.  0.]\n",
      " [ 0.  1.  0.  0.  1.]\n",
      " [ 0.  1.  0.  0.  1.]\n",
      " [ 0.  1.  0.  0.  1.]\n",
      " [ 0.  1.  0.  0.  1.]\n",
      " [ 0.  1.  0.  0.  1.]]\n",
      "[[-1.  1.  0. -1.  1.]\n",
      " [-1.  1.  0. -1.  1.]\n",
      " [ 0.  0.  0. -1.  1.]\n",
      " [ 0.  1.  0.  0.  1.]\n",
      " [ 0.  1.  0. -1.  1.]\n",
      " [ 0.  1.  0. -1.  1.]]\n",
      "[[ 0. -1.  0.  1. -1.]\n",
      " [ 0.  1.  0.  1.  0.]\n",
      " [ 0.  1.  0.  0. -1.]\n",
      " [ 0.  1.  0.  0. -1.]\n",
      " [ 0.  1.  0.  0.  1.]\n",
      " [ 0.  1.  0.  0.  1.]]\n",
      "[[ 0.  1.  0. -1.  1.]\n",
      " [ 0.  1.  0.  0. -1.]\n",
      " [ 0.  1.  0.  0.  1.]\n",
      " [ 0.  1.  0. -1.  1.]\n",
      " [ 0.  1.  0.  0.  1.]\n",
      " [ 0.  1.  0. -1.  1.]]\n",
      "[[-1. -1.  0.  0. -1.]\n",
      " [-1.  1.  0. -1. -1.]\n",
      " [ 0.  1.  0.  0.  1.]\n",
      " [ 0.  1.  0.  0.  1.]\n",
      " [ 0.  1.  0.  0.  1.]\n",
      " [ 1.  1.  0.  0.  1.]]\n",
      "[[ 0. -1.  0.  0. -1.]\n",
      " [ 0.  1.  0.  1. -1.]\n",
      " [ 0.  1.  0.  1. -1.]\n",
      " [ 0.  1.  0.  0.  1.]\n",
      " [ 0.  1.  0.  0.  1.]\n",
      " [ 0.  1.  0. -1.  1.]]\n",
      "[[-1. -1.  0.  0. -1.]\n",
      " [ 0.  1.  0.  0.  1.]\n",
      " [ 0.  1.  0.  0. -1.]\n",
      " [ 0.  1.  0.  0. -1.]\n",
      " [ 0.  1.  1.  0. -1.]\n",
      " [ 1.  1.  1.  0. -1.]]\n",
      "[[-1. -1.  0.  0.  1.]\n",
      " [-1.  1.  0.  0.  1.]\n",
      " [ 0.  1.  0. -1.  1.]\n",
      " [ 0.  1.  0. -1.  1.]\n",
      " [ 0.  1.  0.  0.  1.]\n",
      " [ 0.  1.  0.  0.  1.]]\n",
      "[[ 0. -1.  0.  1. -1.]\n",
      " [ 0.  1.  0.  0. -1.]\n",
      " [ 0.  1.  0.  0. -1.]\n",
      " [ 0.  1.  0.  0.  1.]\n",
      " [ 0.  1.  0. -1.  1.]\n",
      " [ 0.  1.  0.  0.  1.]]\n",
      "[[ 0. -1.  0.  0. -1.]\n",
      " [ 0.  1.  0.  0.  1.]\n",
      " [ 0.  1.  0.  0.  1.]\n",
      " [ 0.  1.  0.  0.  1.]\n",
      " [ 0.  1.  0. -1.  0.]\n",
      " [ 0.  1.  0.  0.  0.]]\n",
      "[[ 0.  1.  0.  0.  0.]\n",
      " [ 0.  1.  0.  0. -1.]\n",
      " [ 0.  1.  0.  0.  1.]\n",
      " [ 0.  1.  0.  0.  1.]\n",
      " [ 0.  1.  0.  0.  1.]\n",
      " [ 0.  1.  0.  0.  1.]]\n",
      "[[-1.  1.  0.  0. -1.]\n",
      " [-1.  1.  0. -1.  0.]\n",
      " [-1.  1.  0. -1.  1.]\n",
      " [ 0.  1.  0. -1.  1.]\n",
      " [ 0.  1.  0. -1.  1.]\n",
      " [ 1.  0.  1. -1. -1.]]\n"
     ]
    }
   ],
   "source": [
    "for k in fp:\n",
    "    print_lfs(lf_ism[k])"
   ]
  },
  {
   "cell_type": "code",
   "execution_count": 78,
   "metadata": {},
   "outputs": [
    {
     "data": {
      "text/plain": [
       "{4: [<Interval t1:0 t2:6 payload:1.0>], 7: [<Interval t1:0 t2:6 payload:1.0>], 22: [<Interval t1:0 t2:6 payload:1.0>], 36: [<Interval t1:0 t2:6 payload:1.0>], 43: [<Interval t1:0 t2:6 payload:1.0>], 53: [<Interval t1:0 t2:6 payload:1.0>], 69: [<Interval t1:0 t2:6 payload:1.0>]}"
      ]
     },
     "execution_count": 78,
     "metadata": {},
     "output_type": "execute_result"
    }
   ],
   "source": [
    "gt_ism_patient.filter(payload_satisfies(lambda p: p == 1))"
   ]
  },
  {
   "cell_type": "code",
   "execution_count": 44,
   "metadata": {},
   "outputs": [],
   "source": [
    "def print_lfs(iset):\n",
    "    print(np.array(\n",
    "        iset.map(\n",
    "            lambda intrvl: Interval(intrvl['bounds'], [intrvl['payload']])\n",
    "        ).coalesce(\n",
    "            ('t1', 't2'), Bounds1D.span, lambda p1, p2: p1 + p2\n",
    "        ).get_intervals()[0]['payload']))"
   ]
  },
  {
   "cell_type": "code",
   "execution_count": 74,
   "metadata": {},
   "outputs": [
    {
     "name": "stdout",
     "output_type": "stream",
     "text": [
      "[[1. 1. 1. 0. 0.]\n",
      " [1. 1. 1. 0. 1.]\n",
      " [1. 1. 1. 0. 1.]\n",
      " [1. 1. 1. 0. 1.]\n",
      " [1. 1. 1. 0. 1.]\n",
      " [1. 1. 1. 0. 1.]]\n",
      "[[ 0.  0.  0.  1.  1.]\n",
      " [ 1.  1.  0.  1.  1.]\n",
      " [ 1.  1.  1.  0.  1.]\n",
      " [ 1.  1.  1.  0.  1.]\n",
      " [ 1.  1.  1.  0.  0.]\n",
      " [ 1. -1.  1.  0. -1.]]\n",
      "[[-1.  0.  0.  0.  1.]\n",
      " [ 0.  1.  0.  0.  1.]\n",
      " [ 0.  1.  0.  0.  1.]\n",
      " [ 0.  1.  0. -1.  1.]\n",
      " [ 0.  1.  0.  0.  1.]\n",
      " [ 0.  1.  0.  0.  1.]]\n",
      "[[ 0.  1.  0.  1.  0.]\n",
      " [ 0.  1.  0.  0.  1.]\n",
      " [ 0.  1.  0.  0.  1.]\n",
      " [ 0.  1.  0.  1.  1.]\n",
      " [ 0.  1.  0.  0.  1.]\n",
      " [ 0.  1.  0.  1. -1.]]\n",
      "[[1. 1. 1. 1. 1.]\n",
      " [1. 1. 0. 1. 1.]\n",
      " [1. 1. 0. 1. 1.]\n",
      " [1. 1. 1. 1. 1.]\n",
      " [1. 1. 1. 1. 1.]\n",
      " [1. 1. 1. 1. 1.]]\n",
      "[[0. 1. 0. 0. 1.]\n",
      " [0. 1. 0. 1. 1.]\n",
      " [0. 1. 0. 0. 1.]\n",
      " [0. 1. 0. 0. 1.]\n",
      " [0. 1. 0. 0. 1.]\n",
      " [0. 1. 0. 0. 1.]]\n"
     ]
    }
   ],
   "source": [
    "for k in gt_ism_patient.filter(payload_satisfies(lambda p: p == 1)):\n",
    "    print_lfs(lf_ism[k])"
   ]
  },
  {
   "cell_type": "code",
   "execution_count": 75,
   "metadata": {},
   "outputs": [
    {
     "name": "stdout",
     "output_type": "stream",
     "text": [
      "[[ 0.  0.  0.  0. -1.]\n",
      " [ 0.  1.  0.  0. -1.]\n",
      " [ 0.  1.  0.  1. -1.]\n",
      " [ 0.  1.  1.  0. -1.]\n",
      " [ 1.  1.  1.  0. -1.]\n",
      " [ 1.  1.  1.  0. -1.]]\n",
      "[[ 0. -1.  0.  1. -1.]\n",
      " [ 0. -1.  0.  1.  0.]\n",
      " [ 0.  0.  0.  1. -1.]\n",
      " [ 0.  0.  0.  1.  1.]\n",
      " [ 0. -1.  0.  0.  1.]\n",
      " [ 1. -1.  0.  0.  1.]]\n",
      "[[ 0.  0.  0.  1. -1.]\n",
      " [ 0.  1.  0.  1. -1.]\n",
      " [ 0.  1.  0.  0. -1.]\n",
      " [ 0. -1.  0.  0. -1.]\n",
      " [ 0. -1.  0.  0. -1.]\n",
      " [ 0.  1.  1.  0. -1.]]\n",
      "[[ 0. -1.  0.  1. -1.]\n",
      " [ 0. -1.  0.  0. -1.]\n",
      " [ 0. -1.  0.  0. -1.]\n",
      " [ 0.  0.  0.  0.  1.]\n",
      " [ 0. -1.  1.  0. -1.]\n",
      " [ 1. -1.  1.  0. -1.]]\n",
      "[[ 0. -1.  0.  0. -1.]\n",
      " [ 0. -1.  0.  0. -1.]\n",
      " [ 0. -1.  0.  1. -1.]\n",
      " [ 0. -1.  1.  1. -1.]\n",
      " [ 0. -1.  1.  0. -1.]\n",
      " [ 1. -1.  1.  0. -1.]]\n",
      "[[-1. -1.  0.  0. -1.]\n",
      " [-1.  1.  0.  0.  1.]\n",
      " [ 0.  1.  0.  0.  1.]\n",
      " [ 0.  1.  0.  0. -1.]\n",
      " [ 0.  1.  0.  0. -1.]\n",
      " [ 0.  1.  0.  0. -1.]]\n",
      "[[-1. -1.  0.  0. -1.]\n",
      " [ 0. -1.  0.  0. -1.]\n",
      " [ 0. -1.  0. -1.  0.]\n",
      " [ 0.  1.  0. -1. -1.]\n",
      " [ 0.  1.  0.  0.  1.]\n",
      " [ 0.  1.  0. -1.  1.]]\n",
      "[[ 0. -1.  0.  0. -1.]\n",
      " [ 0.  1.  0.  1. -1.]\n",
      " [ 0.  1.  0.  0.  1.]\n",
      " [ 1.  1.  1.  0.  0.]\n",
      " [ 0.  1.  1.  0. -1.]\n",
      " [ 0.  1.  0.  0.  1.]]\n",
      "[[-1. -1.  0.  0.  1.]\n",
      " [-1.  1.  0.  0.  0.]\n",
      " [ 0.  1.  0.  1.  1.]\n",
      " [ 0.  1.  0.  0.  0.]\n",
      " [ 0.  0.  0.  0.  0.]\n",
      " [ 0.  1.  0.  0. -1.]]\n",
      "[[ 1. -1.  1.  1. -1.]\n",
      " [ 1. -1.  1.  0.  1.]\n",
      " [ 1.  1.  1.  0. -1.]\n",
      " [ 1.  1.  1.  1.  1.]\n",
      " [ 1.  1.  1.  0.  1.]\n",
      " [ 1.  1.  1.  0.  1.]]\n",
      "[[-1. -1.  0. -1. -1.]\n",
      " [-1. -1.  0. -1. -1.]\n",
      " [-1. -1.  0.  0. -1.]\n",
      " [ 0.  1.  0. -1.  1.]\n",
      " [ 0.  1.  0. -1.  1.]\n",
      " [ 0.  1.  0.  0.  1.]]\n",
      "[[ 0.  0.  0.  0.  0.]\n",
      " [ 0. -1.  0.  0.  0.]\n",
      " [ 0.  1.  0.  0.  1.]\n",
      " [ 0.  0.  0.  0.  1.]\n",
      " [ 0.  0.  0.  0. -1.]\n",
      " [ 1.  0.  1.  0. -1.]]\n",
      "[[ 0. -1.  0.  0. -1.]\n",
      " [ 0.  1.  0.  0.  1.]\n",
      " [ 0.  1.  0.  0.  0.]\n",
      " [ 0.  0.  0.  0. -1.]\n",
      " [ 0.  0.  0.  0. -1.]\n",
      " [ 0. -1.  0.  0.  1.]]\n",
      "[[0. 1. 0. 0. 1.]\n",
      " [0. 1. 0. 0. 1.]\n",
      " [0. 1. 0. 0. 1.]\n",
      " [0. 1. 0. 0. 1.]\n",
      " [0. 1. 0. 0. 1.]\n",
      " [0. 1. 0. 0. 1.]]\n",
      "[[-1.  1.  0. -1.  1.]\n",
      " [ 0.  1.  0.  0.  1.]\n",
      " [ 0. -1.  0.  0.  1.]\n",
      " [ 0.  1.  0.  0.  1.]\n",
      " [ 0.  0.  0.  0.  1.]\n",
      " [ 0. -1.  0.  0. -1.]]\n",
      "[[ 0. -1.  0.  0. -1.]\n",
      " [ 0. -1.  0.  0. -1.]\n",
      " [ 0. -1.  0.  1.  1.]\n",
      " [ 0.  0.  0.  0.  1.]\n",
      " [ 0.  0.  0.  0.  1.]\n",
      " [ 0.  1.  0.  0.  1.]]\n",
      "[[-1. -1.  0.  0. -1.]\n",
      " [-1. -1.  0.  0. -1.]\n",
      " [-1.  0.  0.  0.  1.]\n",
      " [ 0.  0.  0.  0.  1.]\n",
      " [ 0.  1.  0.  0.  1.]\n",
      " [ 0.  1.  0.  0.  1.]]\n",
      "[[ 0.  1.  0.  0.  0.]\n",
      " [ 0.  1.  0.  0.  1.]\n",
      " [ 0.  0.  0.  0.  1.]\n",
      " [ 0. -1.  0.  0.  1.]\n",
      " [ 0.  0.  0.  0.  1.]\n",
      " [ 0.  0.  0.  0.  1.]]\n",
      "[[-1. -1.  0. -1.  0.]\n",
      " [-1.  1.  0.  0.  0.]\n",
      " [ 0.  1.  0.  0.  1.]\n",
      " [ 0.  1.  0.  0.  1.]\n",
      " [ 0.  1.  0.  0.  1.]\n",
      " [ 0.  1.  0.  0.  1.]]\n",
      "[[ 0.  0.  0.  0.  0.]\n",
      " [ 0.  0.  0.  0. -1.]\n",
      " [ 0. -1.  0.  0. -1.]\n",
      " [ 0. -1.  0.  0. -1.]\n",
      " [ 0. -1.  0.  0.  1.]\n",
      " [ 0. -1.  0. -1. -1.]]\n",
      "[[ 1.  0.  1.  1. -1.]\n",
      " [ 1. -1.  1.  0. -1.]\n",
      " [ 1.  1.  1.  0. -1.]\n",
      " [ 1.  1.  1.  0. -1.]\n",
      " [ 1.  0.  1.  1. -1.]\n",
      " [ 1.  1.  1.  0. -1.]]\n",
      "[[-1. -1.  0. -1. -1.]\n",
      " [-1.  1.  0. -1.  1.]\n",
      " [ 0.  1.  0.  0.  1.]\n",
      " [ 0.  1.  0. -1.  1.]\n",
      " [ 0.  1.  0. -1.  1.]\n",
      " [ 0.  1.  0.  0.  1.]]\n",
      "[[ 0. -1.  0.  0. -1.]\n",
      " [ 0. -1.  0.  1. -1.]\n",
      " [ 1. -1.  1.  1. -1.]\n",
      " [ 1.  1.  1.  1.  1.]\n",
      " [ 1.  1.  1.  0.  1.]\n",
      " [ 1.  1.  1.  0.  0.]]\n",
      "[[ 0. -1.  0.  1. -1.]\n",
      " [ 1. -1.  1.  1. -1.]\n",
      " [ 1. -1.  1.  1. -1.]\n",
      " [ 1.  1.  1.  0.  1.]\n",
      " [ 1.  1.  0.  0.  1.]\n",
      " [ 1.  1.  1.  0.  0.]]\n",
      "[[-1. -1.  0. -1.  1.]\n",
      " [-1.  1.  0.  0.  1.]\n",
      " [ 0.  1.  0.  0.  1.]\n",
      " [ 0.  1.  0.  0.  1.]\n",
      " [ 0.  1.  0.  0.  1.]\n",
      " [ 1.  1.  0. -1.  1.]]\n",
      "[[-1. -1.  0.  0. -1.]\n",
      " [ 0. -1.  0.  1.  1.]\n",
      " [ 0.  1.  0.  0.  1.]\n",
      " [ 0.  1.  0.  0.  1.]\n",
      " [ 0.  1.  0.  0.  1.]\n",
      " [ 0.  1.  1.  0. -1.]]\n",
      "[[-1. -1.  0. -1. -1.]\n",
      " [ 0. -1.  0.  0.  1.]\n",
      " [ 0. -1.  0.  0. -1.]\n",
      " [ 0. -1.  0.  0. -1.]\n",
      " [ 0.  1.  0.  0.  1.]\n",
      " [ 0.  1.  0.  0.  1.]]\n",
      "[[ 0. -1.  0.  0.  1.]\n",
      " [ 0. -1.  0.  0. -1.]\n",
      " [ 0. -1.  0.  0. -1.]\n",
      " [ 0. -1.  0.  0. -1.]\n",
      " [ 0. -1.  0.  0. -1.]\n",
      " [ 0. -1.  0.  0.  1.]]\n",
      "[[ 0. -1.  0.  0. -1.]\n",
      " [ 0. -1.  0.  0. -1.]\n",
      " [ 0. -1.  0. -1. -1.]\n",
      " [ 0. -1.  0. -1. -1.]\n",
      " [ 0. -1.  0. -1. -1.]\n",
      " [ 0. -1.  0. -1. -1.]]\n",
      "[[ 0. -1.  0.  1. -1.]\n",
      " [ 0. -1.  0.  0. -1.]\n",
      " [ 0.  0.  0.  1. -1.]\n",
      " [ 0.  0.  0.  0. -1.]\n",
      " [ 0.  1.  1.  1. -1.]\n",
      " [ 0. -1.  0.  1. -1.]]\n",
      "[[-1. -1.  0. -1.  1.]\n",
      " [ 0.  1.  0.  0.  1.]\n",
      " [ 0.  1.  0.  0.  1.]\n",
      " [ 0.  1.  0.  0.  1.]\n",
      " [ 0.  1.  0.  0.  1.]\n",
      " [ 0.  1.  0.  0.  1.]]\n",
      "[[ 0. -1.  0.  0. -1.]\n",
      " [ 0. -1.  1.  1. -1.]\n",
      " [ 0.  1.  1.  1. -1.]\n",
      " [ 0. -1.  1.  0. -1.]\n",
      " [ 1.  0.  1.  0. -1.]\n",
      " [ 1.  0.  1.  0.  1.]]\n",
      "[[ 0.  0.  0.  1. -1.]\n",
      " [ 0.  1.  0.  0.  0.]\n",
      " [ 0.  1.  0.  0.  1.]\n",
      " [ 1.  1.  0.  0.  1.]\n",
      " [ 1.  1.  1.  0. -1.]\n",
      " [ 1.  1.  0.  0.  1.]]\n",
      "[[ 0. -1.  0.  0. -1.]\n",
      " [ 0.  0.  0.  1. -1.]\n",
      " [ 0.  0.  0.  0. -1.]\n",
      " [ 0.  0.  0.  0. -1.]\n",
      " [ 0.  1.  0.  0. -1.]\n",
      " [ 0.  0.  0.  0.  1.]]\n",
      "[[ 0.  1.  0. -1. -1.]\n",
      " [ 0.  1.  0.  0. -1.]\n",
      " [ 0.  0.  0.  0.  1.]\n",
      " [ 0.  1.  0.  0.  1.]\n",
      " [ 1.  1.  0.  0.  1.]\n",
      " [ 1.  1.  1.  0. -1.]]\n",
      "[[ 0.  0.  0.  0. -1.]\n",
      " [ 0.  1.  0.  0. -1.]\n",
      " [ 0.  1.  0.  0.  1.]\n",
      " [ 0.  1.  0.  0.  1.]\n",
      " [ 0.  1.  0.  0.  1.]\n",
      " [ 0.  1.  0.  0. -1.]]\n",
      "[[ 0.  0.  0.  0. -1.]\n",
      " [ 0.  1.  0. -1.  0.]\n",
      " [ 0.  1.  0.  0. -1.]\n",
      " [ 0.  1.  0.  0. -1.]\n",
      " [ 0.  1.  0.  0.  1.]\n",
      " [ 0.  1.  0.  0.  1.]]\n",
      "[[ 0. -1.  0.  0. -1.]\n",
      " [ 0. -1.  0.  0. -1.]\n",
      " [ 0. -1.  0.  0.  1.]\n",
      " [ 0.  1.  0.  0.  0.]\n",
      " [ 0.  1.  0.  0.  1.]\n",
      " [ 0.  1.  0.  0.  1.]]\n",
      "[[-1.  0.  0. -1.  1.]\n",
      " [ 0.  1.  0.  0.  1.]\n",
      " [ 0.  1.  0.  0.  1.]\n",
      " [ 0.  1.  0. -1.  1.]\n",
      " [ 0.  1.  0.  0.  1.]\n",
      " [ 0.  1.  0. -1.  1.]]\n",
      "[[-1. -1.  0.  0. -1.]\n",
      " [-1. -1.  0.  0. -1.]\n",
      " [ 0.  1.  0.  0. -1.]\n",
      " [ 0.  1.  0.  0.  1.]\n",
      " [ 0.  1.  0.  0.  1.]\n",
      " [ 0.  1.  0. -1.  1.]]\n",
      "[[ 0. -1.  0. -1.  1.]\n",
      " [ 0.  0.  0.  0. -1.]\n",
      " [ 0. -1.  0.  0. -1.]\n",
      " [ 0. -1.  1.  0. -1.]\n",
      " [ 0. -1.  0.  0.  0.]\n",
      " [ 1. -1.  1.  0.  1.]]\n",
      "[[ 0. -1.  0.  1. -1.]\n",
      " [ 0. -1.  0.  1. -1.]\n",
      " [ 0. -1.  0.  0. -1.]\n",
      " [ 0. -1.  0. -1. -1.]\n",
      " [ 0.  1.  1. -1. -1.]\n",
      " [ 1.  1.  0. -1.  1.]]\n",
      "[[-1. -1.  0.  0.  0.]\n",
      " [ 0. -1.  0.  0.  1.]\n",
      " [ 0.  1.  0.  0.  0.]\n",
      " [ 0.  1.  0.  0.  1.]\n",
      " [ 0.  1.  0. -1.  1.]\n",
      " [ 1.  1.  0.  0.  1.]]\n",
      "[[ 0. -1.  0.  1. -1.]\n",
      " [ 0. -1.  0.  1. -1.]\n",
      " [ 0. -1.  0.  0. -1.]\n",
      " [ 0. -1.  0. -1. -1.]\n",
      " [ 0. -1.  0.  0. -1.]\n",
      " [ 0. -1.  0. -1. -1.]]\n",
      "[[ 0.  1.  0.  1.  1.]\n",
      " [ 0.  1.  0.  0.  1.]\n",
      " [ 0.  1.  0.  0.  1.]\n",
      " [ 0.  1.  0.  0.  1.]\n",
      " [ 0.  1.  0. -1.  1.]\n",
      " [ 0.  1.  0.  0.  1.]]\n",
      "[[ 0. -1.  0. -1. -1.]\n",
      " [ 0.  1.  0. -1.  0.]\n",
      " [ 0.  1.  0. -1.  0.]\n",
      " [ 0.  1.  0.  0.  1.]\n",
      " [ 0.  1.  0. -1.  1.]\n",
      " [ 0.  1.  0. -1.  1.]]\n",
      "[[-1.  1.  0. -1.  0.]\n",
      " [ 0.  1.  0. -1.  1.]\n",
      " [ 0.  1.  0. -1.  1.]\n",
      " [ 0.  1.  0. -1.  1.]\n",
      " [ 0.  1.  0.  0.  1.]\n",
      " [ 1.  1.  0. -1.  1.]]\n",
      "[[ 0. -1.  0.  0. -1.]\n",
      " [ 0. -1.  0.  0. -1.]\n",
      " [ 0. -1.  0.  1. -1.]\n",
      " [ 0. -1.  0.  0. -1.]\n",
      " [ 0. -1.  0.  0. -1.]\n",
      " [ 0. -1.  0.  0. -1.]]\n",
      "[[ 0. -1.  0.  1. -1.]\n",
      " [ 0. -1.  0.  0. -1.]\n",
      " [ 0. -1.  0.  0. -1.]\n",
      " [ 0. -1.  0.  0.  1.]\n",
      " [ 0.  0.  0.  0.  1.]\n",
      " [ 0.  0.  0.  0. -1.]]\n",
      "[[-1. -1.  0.  0. -1.]\n",
      " [ 0. -1.  0.  0. -1.]\n",
      " [ 0. -1.  0.  0. -1.]\n",
      " [ 0. -1.  0.  0. -1.]\n",
      " [ 0.  0.  0.  0.  0.]\n",
      " [ 0. -1.  0. -1.  1.]]\n",
      "[[-1. -1.  0.  0.  1.]\n",
      " [ 0.  1.  0.  0. -1.]\n",
      " [ 0.  1.  0.  0. -1.]\n",
      " [ 0.  1.  0.  0. -1.]\n",
      " [ 0.  1.  0.  0. -1.]\n",
      " [ 0.  1.  0.  0.  0.]]\n",
      "[[ 0. -1.  0.  1. -1.]\n",
      " [ 0. -1.  0.  0. -1.]\n",
      " [ 0.  1.  0.  0. -1.]\n",
      " [ 0.  1.  0.  1. -1.]\n",
      " [ 0.  1.  0.  0. -1.]\n",
      " [ 0.  1.  1.  0. -1.]]\n",
      "[[-1. -1.  0. -1. -1.]\n",
      " [ 0.  0.  0.  0. -1.]\n",
      " [ 0.  1.  0.  0.  1.]\n",
      " [ 0.  1.  0. -1.  1.]\n",
      " [ 0.  1.  0. -1.  1.]\n",
      " [ 0.  1.  0. -1.  1.]]\n",
      "[[-1. -1.  0.  0. -1.]\n",
      " [ 0.  1.  0.  0.  1.]\n",
      " [ 0.  1.  0.  0.  1.]\n",
      " [ 0.  1.  0.  0.  1.]\n",
      " [ 0.  1.  0.  0.  1.]\n",
      " [ 0.  1.  0.  0.  1.]]\n",
      "[[ 0. -1.  0. -1.  1.]\n",
      " [ 0. -1.  0.  0. -1.]\n",
      " [ 0. -1.  0. -1. -1.]\n",
      " [ 0. -1.  0. -1.  1.]\n",
      " [ 0. -1.  0.  0. -1.]\n",
      " [ 0.  0.  0. -1.  1.]]\n",
      "[[-1.  0.  0.  0. -1.]\n",
      " [ 0. -1.  0.  1.  0.]\n",
      " [-1. -1.  0.  1. -1.]\n",
      " [-1. -1.  0.  0. -1.]\n",
      " [-1. -1.  0.  0. -1.]\n",
      " [-1. -1.  0.  0. -1.]]\n",
      "[[ 0. -1.  0.  0. -1.]\n",
      " [ 0. -1.  0.  0. -1.]\n",
      " [ 0. -1.  0.  0. -1.]\n",
      " [ 0.  0.  0.  0.  1.]\n",
      " [ 0.  0.  0.  0.  0.]\n",
      " [ 0.  0.  0. -1.  1.]]\n",
      "[[-1. -1.  0.  0. -1.]\n",
      " [ 0.  0.  0.  0. -1.]\n",
      " [ 0.  1.  0.  0. -1.]\n",
      " [ 0.  1.  0.  0.  0.]\n",
      " [ 0.  1.  0.  0.  0.]\n",
      " [ 1.  1.  1.  0. -1.]]\n",
      "[[-1. -1.  0. -1.  0.]\n",
      " [ 0.  1.  0. -1.  1.]\n",
      " [ 0.  1.  0. -1.  1.]\n",
      " [ 0.  1.  0. -1.  1.]\n",
      " [ 0.  1.  0. -1.  1.]\n",
      " [ 0.  1.  0. -1.  1.]]\n",
      "[[ 0. -1.  0.  0. -1.]\n",
      " [ 0.  0.  0.  0.  0.]\n",
      " [ 1.  1.  1.  1.  1.]\n",
      " [ 1.  1.  1.  1. -1.]\n",
      " [ 1. -1.  1.  0. -1.]\n",
      " [ 1.  0.  1.  0. -1.]]\n",
      "[[-1. -1.  0.  0. -1.]\n",
      " [ 0.  0.  0.  0. -1.]\n",
      " [ 0.  1.  0.  0.  0.]\n",
      " [ 0.  1.  0.  0.  1.]\n",
      " [ 0.  1.  0.  0.  1.]\n",
      " [ 0.  1.  0.  0.  1.]]\n",
      "[[-1. -1.  0. -1. -1.]\n",
      " [-1.  1.  0.  0.  1.]\n",
      " [ 0.  1.  0.  0.  1.]\n",
      " [ 0.  1.  0.  0.  1.]\n",
      " [ 0.  1.  0. -1.  1.]\n",
      " [ 0.  1.  0. -1.  1.]]\n",
      "[[ 0. -1.  0.  0. -1.]\n",
      " [ 0. -1.  0.  0.  1.]\n",
      " [ 0.  0.  0.  0. -1.]\n",
      " [ 0.  1.  0.  0. -1.]\n",
      " [ 0.  1.  0.  1.  0.]\n",
      " [ 0.  1.  0.  0.  1.]]\n",
      "[[ 0. -1.  0.  0. -1.]\n",
      " [ 0.  1.  0.  0.  1.]\n",
      " [ 0.  1.  0.  0.  1.]\n",
      " [ 0.  1.  0. -1.  1.]\n",
      " [ 0.  1.  0.  0.  1.]\n",
      " [ 1.  1.  0.  0.  1.]]\n",
      "[[ 0. -1.  0.  0. -1.]\n",
      " [ 0. -1.  1.  0. -1.]\n",
      " [ 0. -1.  1.  1. -1.]\n",
      " [ 0. -1.  1.  0. -1.]\n",
      " [ 0. -1.  1.  1. -1.]\n",
      " [ 0. -1.  1.  0. -1.]]\n",
      "[[ 0. -1.  0.  0. -1.]\n",
      " [ 0. -1.  0.  1. -1.]\n",
      " [ 0. -1.  0.  0. -1.]\n",
      " [ 0.  0.  0.  0.  0.]\n",
      " [ 0.  1.  0.  0.  1.]\n",
      " [ 0.  1.  0.  0.  1.]]\n",
      "[[ 0. -1.  0.  0.  1.]\n",
      " [ 0. -1.  0.  0.  1.]\n",
      " [ 0. -1.  0.  0. -1.]\n",
      " [ 0. -1.  0.  0. -1.]\n",
      " [ 1. -1.  1.  0.  1.]\n",
      " [ 1.  1.  1.  0.  1.]]\n",
      "[[ 0. -1.  0.  0. -1.]\n",
      " [ 0. -1.  0.  0. -1.]\n",
      " [ 0. -1.  0.  0. -1.]\n",
      " [ 0. -1.  0.  0.  1.]\n",
      " [ 0. -1.  0.  0. -1.]\n",
      " [ 0.  0.  0.  0.  0.]]\n",
      "[[ 0. -1.  0.  0.  0.]\n",
      " [ 0. -1.  0.  0.  1.]\n",
      " [ 0. -1.  0.  0.  1.]\n",
      " [ 0. -1.  0.  0.  1.]\n",
      " [ 0. -1.  0.  0.  1.]\n",
      " [ 0. -1.  0. -1.  1.]]\n",
      "[[ 0. -1.  0.  0. -1.]\n",
      " [ 0. -1.  0.  0.  1.]\n",
      " [ 0. -1.  0.  0.  0.]\n",
      " [ 0. -1.  0.  0.  1.]\n",
      " [ 0.  0.  0. -1.  1.]\n",
      " [ 0.  1.  0.  0.  1.]]\n",
      "[[-1. -1.  0.  0. -1.]\n",
      " [ 0.  1.  0.  0. -1.]\n",
      " [ 0.  1.  0.  0. -1.]\n",
      " [ 0.  1.  0.  0. -1.]\n",
      " [ 0.  1.  0.  0.  0.]\n",
      " [ 0.  1.  0. -1.  1.]]\n",
      "[[-1. -1.  0.  0.  1.]\n",
      " [ 0. -1.  0.  0.  0.]\n",
      " [ 0.  1.  0.  0.  1.]\n",
      " [ 0.  1.  0.  0.  1.]\n",
      " [ 0.  1.  0. -1.  1.]\n",
      " [ 1.  1.  0.  0.  1.]]\n",
      "[[ 0. -1.  0.  0. -1.]\n",
      " [ 0.  1.  0.  0.  0.]\n",
      " [ 0.  1.  0.  0.  1.]\n",
      " [ 0.  0.  0. -1.  0.]\n",
      " [ 0. -1.  0.  0. -1.]\n",
      " [ 1.  1.  1.  0. -1.]]\n",
      "[[ 0. -1.  0.  0.  1.]\n",
      " [ 0. -1.  0.  0. -1.]\n",
      " [ 0. -1.  0.  0. -1.]\n",
      " [ 0. -1.  0.  0.  1.]\n",
      " [ 0. -1.  0.  0.  1.]\n",
      " [ 0.  0.  0.  0.  1.]]\n",
      "[[ 0. -1.  0.  1. -1.]\n",
      " [ 0. -1.  0.  1. -1.]\n",
      " [ 0. -1.  1.  1. -1.]\n",
      " [ 0. -1.  1.  1. -1.]\n",
      " [ 0. -1.  0.  1. -1.]\n",
      " [ 1. -1.  1.  1. -1.]]\n",
      "[[-1.  0.  0. -1. -1.]\n",
      " [-1.  1.  0. -1.  1.]\n",
      " [ 0.  1.  0.  0.  1.]\n",
      " [ 0.  1.  0.  0.  1.]\n",
      " [ 1.  1.  0. -1.  1.]\n",
      " [ 1.  1.  0. -1.  1.]]\n",
      "[[ 0. -1.  0.  0. -1.]\n",
      " [ 0. -1.  0.  0. -1.]\n",
      " [ 0. -1.  0.  0.  0.]\n",
      " [ 0. -1.  0.  0. -1.]\n",
      " [ 0. -1.  0.  0.  1.]\n",
      " [ 0. -1.  0. -1.  1.]]\n",
      "[[-1. -1.  0.  0. -1.]\n",
      " [ 0.  0.  0.  0. -1.]\n",
      " [ 0. -1.  0.  0.  1.]\n",
      " [ 0. -1.  0.  0.  1.]\n",
      " [ 0.  1.  0. -1.  1.]\n",
      " [ 0.  1.  0. -1.  1.]]\n",
      "[[ 0.  1.  0.  0. -1.]\n",
      " [ 0.  1.  0.  0.  1.]\n",
      " [ 0.  1.  0.  0.  1.]\n",
      " [ 0.  1.  0.  0.  1.]\n",
      " [ 0.  1.  0.  0.  1.]\n",
      " [ 1.  1.  1.  0. -1.]]\n",
      "[[-1.  1.  0.  0.  0.]\n",
      " [ 0.  1.  0. -1.  1.]\n",
      " [ 0.  1.  0.  0.  1.]\n",
      " [ 0.  1.  0.  0.  1.]\n",
      " [ 0.  1.  0.  0.  1.]\n",
      " [ 0.  1.  0.  0.  1.]]\n",
      "[[ 0.  1.  0.  1. -1.]\n",
      " [ 0.  1.  0.  1. -1.]\n",
      " [ 0.  1.  0.  0. -1.]\n",
      " [ 0.  1.  0.  0. -1.]\n",
      " [ 0.  1.  0.  0. -1.]\n",
      " [ 0.  1.  0. -1. -1.]]\n",
      "[[ 0. -1.  0.  0.  1.]\n",
      " [ 0.  0.  0.  1.  1.]\n",
      " [ 0.  1.  0.  1.  1.]\n",
      " [ 0.  1.  0.  1.  1.]\n",
      " [ 0.  1.  0.  0.  1.]\n",
      " [ 1.  1.  1.  0.  0.]]\n",
      "[[-1. -1.  0.  0. -1.]\n",
      " [ 0.  0.  0.  0. -1.]\n",
      " [ 0.  1.  0.  0. -1.]\n",
      " [ 0.  1.  0.  0.  1.]\n",
      " [ 0.  1.  0. -1.  1.]\n",
      " [ 0.  1.  0. -1.  1.]]\n",
      "[[ 0. -1.  0.  0. -1.]\n",
      " [ 0. -1.  0.  0. -1.]\n",
      " [ 0. -1.  0.  0. -1.]\n",
      " [ 0. -1.  0. -1. -1.]\n",
      " [ 0. -1.  0. -1. -1.]\n",
      " [ 0. -1.  0. -1. -1.]]\n",
      "[[-1. -1.  0.  0. -1.]\n",
      " [-1. -1.  0.  0. -1.]\n",
      " [ 0. -1.  0. -1. -1.]\n",
      " [ 0. -1.  0. -1. -1.]\n",
      " [ 0. -1.  0. -1.  1.]\n",
      " [ 0.  0.  0.  0.  0.]]\n",
      "[[-1. -1.  0.  0. -1.]\n",
      " [-1.  0.  0.  0.  1.]\n",
      " [ 0. -1.  0. -1. -1.]\n",
      " [ 0. -1.  0. -1. -1.]\n",
      " [ 0. -1.  0. -1.  1.]\n",
      " [ 1.  1.  1. -1. -1.]]\n",
      "[[-1. -1.  0. -1. -1.]\n",
      " [ 0. -1.  0.  0. -1.]\n",
      " [ 0. -1.  0.  0. -1.]\n",
      " [ 0.  0.  0.  0. -1.]\n",
      " [ 0.  1.  0.  0. -1.]\n",
      " [ 0.  1.  0.  0. -1.]]\n",
      "[[ 0. -1.  0.  1. -1.]\n",
      " [ 0. -1.  0.  0. -1.]\n",
      " [ 0. -1.  0.  1. -1.]\n",
      " [ 0. -1.  0.  0. -1.]\n",
      " [ 0. -1.  0.  1. -1.]\n",
      " [ 0. -1.  0.  0.  1.]]\n",
      "[[ 0. -1.  0.  0. -1.]\n",
      " [ 0. -1.  0.  0. -1.]\n",
      " [ 0. -1.  0.  1. -1.]\n",
      " [ 0. -1.  0.  0. -1.]\n",
      " [ 0. -1.  0.  0. -1.]\n",
      " [ 0. -1.  1.  0. -1.]]\n",
      "[[ 0. -1.  0.  0.  0.]\n",
      " [ 0.  1.  0.  0.  1.]\n",
      " [ 0.  1.  0.  0.  1.]\n",
      " [ 0.  1.  0.  0.  0.]\n",
      " [ 0.  1.  0.  0.  1.]\n",
      " [ 0.  1.  0.  0.  1.]]\n",
      "[[ 0. -1.  0.  1. -1.]\n",
      " [ 0. -1.  0.  1. -1.]\n",
      " [ 0. -1.  0.  1. -1.]\n",
      " [ 0. -1.  0.  1. -1.]\n",
      " [ 0.  0.  0.  1.  1.]\n",
      " [ 0. -1.  0.  0.  0.]]\n",
      "[[ 0. -1.  0.  0. -1.]\n",
      " [ 0. -1.  0.  0. -1.]\n",
      " [ 0. -1.  0.  0. -1.]\n",
      " [ 0. -1.  0. -1.  1.]\n",
      " [ 0. -1.  0. -1.  1.]\n",
      " [ 1.  1.  1. -1. -1.]]\n",
      "[[-1.  0.  0.  0. -1.]\n",
      " [ 0.  0.  0.  0. -1.]\n",
      " [ 0.  0.  0.  0. -1.]\n",
      " [ 0.  0.  0.  0. -1.]\n",
      " [ 0.  1.  0.  0.  1.]\n",
      " [ 0.  1.  0.  0.  1.]]\n",
      "[[ 0. -1.  0.  1. -1.]\n",
      " [ 0. -1.  0.  1. -1.]\n",
      " [ 0. -1.  0.  0. -1.]\n",
      " [ 0. -1.  0.  0. -1.]\n",
      " [ 0. -1.  1.  0. -1.]\n",
      " [ 0. -1.  1.  0. -1.]]\n",
      "[[ 0. -1.  0.  0. -1.]\n",
      " [ 0. -1.  0.  0. -1.]\n",
      " [ 0. -1.  0. -1.  1.]\n",
      " [ 0.  1.  0. -1.  1.]\n",
      " [ 0.  1.  0.  0.  1.]\n",
      " [ 1.  1.  1. -1.  1.]]\n",
      "[[ 0. -1.  0.  0. -1.]\n",
      " [ 0. -1.  0.  1. -1.]\n",
      " [ 0. -1.  0.  1. -1.]\n",
      " [ 0. -1.  0.  1. -1.]\n",
      " [ 0. -1.  0.  0. -1.]\n",
      " [ 0. -1.  0.  0. -1.]]\n",
      "[[ 0. -1.  0.  0. -1.]\n",
      " [ 0.  1.  0.  0.  1.]\n",
      " [ 0.  1.  0. -1.  1.]\n",
      " [ 0.  1.  0.  0.  1.]\n",
      " [ 0.  1.  0.  0.  1.]\n",
      " [ 0.  1.  0. -1.  1.]]\n",
      "[[-1. -1.  0.  0. -1.]\n",
      " [-1. -1.  0.  0. -1.]\n",
      " [-1.  0.  0. -1.  1.]\n",
      " [ 0.  0.  0. -1.  1.]\n",
      " [ 0.  0.  0.  0.  1.]\n",
      " [ 0.  1.  0.  0.  1.]]\n",
      "[[-1. -1.  0. -1. -1.]\n",
      " [ 0. -1.  0.  0. -1.]\n",
      " [ 0.  1.  0.  0.  0.]\n",
      " [ 0.  1.  0.  0. -1.]\n",
      " [ 0.  1.  0.  0.  1.]\n",
      " [ 0.  1.  0.  0.  1.]]\n",
      "[[-1.  1.  0.  0.  1.]\n",
      " [ 0.  1.  0.  0.  1.]\n",
      " [ 0.  1.  0.  0.  1.]\n",
      " [ 0.  1.  0. -1.  1.]\n",
      " [ 0.  1.  0.  0.  1.]\n",
      " [ 1.  1.  0. -1.  1.]]\n"
     ]
    }
   ],
   "source": [
    "for k in gt_ism_patient.filter(payload_satisfies(lambda p: p == -1)):\n",
    "    print_lfs(lf_ism[k])"
   ]
  },
  {
   "cell_type": "code",
   "execution_count": null,
   "metadata": {},
   "outputs": [],
   "source": []
  }
 ],
 "metadata": {
  "kernelspec": {
   "display_name": "Python [conda env:rekall]",
   "language": "python",
   "name": "conda-env-rekall-py"
  },
  "language_info": {
   "codemirror_mode": {
    "name": "ipython",
    "version": 3
   },
   "file_extension": ".py",
   "mimetype": "text/x-python",
   "name": "python",
   "nbconvert_exporter": "python",
   "pygments_lexer": "ipython3",
   "version": "3.7.3"
  }
 },
 "nbformat": 4,
 "nbformat_minor": 2
}
