{
 "cells": [
  {
   "cell_type": "code",
   "execution_count": 50,
   "metadata": {},
   "outputs": [],
   "source": [
    "from rekall import IntervalSetMapping, IntervalSet, Interval\n",
    "from rekall.bounds import Bounds1D\n",
    "from rekall.predicates import *"
   ]
  },
  {
   "cell_type": "code",
   "execution_count": 3,
   "metadata": {},
   "outputs": [],
   "source": [
    "import numpy as np"
   ]
  },
  {
   "cell_type": "code",
   "execution_count": 4,
   "metadata": {},
   "outputs": [],
   "source": [
    "a = np.load('/dfs/scratch0/paroma/heart-MRI/bav-classification/coral/gen_unknown_L_dev.npy')"
   ]
  },
  {
   "cell_type": "code",
   "execution_count": 5,
   "metadata": {},
   "outputs": [],
   "source": [
    "b = np.load('/dfs/scratch0/paroma/heart-MRI/bav-classification/coral/gen_unknown_y_dev.npy')"
   ]
  },
  {
   "cell_type": "code",
   "execution_count": 38,
   "metadata": {},
   "outputs": [
    {
     "data": {
      "text/plain": [
       "array([[ 0.,  0.,  0.,  0., -1.],\n",
       "       [ 0.,  1.,  0.,  0., -1.],\n",
       "       [ 1.,  1.,  1.,  0., -1.],\n",
       "       [ 1.,  1.,  1.,  0.,  1.],\n",
       "       [ 0.,  1.,  0., -1.,  1.],\n",
       "       [ 1.,  1.,  1., -1.,  1.]])"
      ]
     },
     "execution_count": 38,
     "metadata": {},
     "output_type": "execute_result"
    }
   ],
   "source": [
    "a.T[6:12]"
   ]
  },
  {
   "cell_type": "code",
   "execution_count": 9,
   "metadata": {},
   "outputs": [
    {
     "data": {
      "text/plain": [
       "540"
      ]
     },
     "execution_count": 9,
     "metadata": {},
     "output_type": "execute_result"
    }
   ],
   "source": [
    "b.shape[0]"
   ]
  },
  {
   "cell_type": "code",
   "execution_count": 16,
   "metadata": {},
   "outputs": [
    {
     "data": {
      "text/plain": [
       "(540, 5)"
      ]
     },
     "execution_count": 16,
     "metadata": {},
     "output_type": "execute_result"
    }
   ],
   "source": [
    "a.T.shape"
   ]
  },
  {
   "cell_type": "code",
   "execution_count": 40,
   "metadata": {},
   "outputs": [],
   "source": [
    "gt_ism_frame = IntervalSetMapping({\n",
    "    i: IntervalSet([\n",
    "        Interval(Bounds1D(frame, frame+1), payload = b.tolist()[i*6 + frame])\n",
    "        for frame in range(6)\n",
    "    ])\n",
    "    for i in range(int(b.shape[0] / 6))\n",
    "})"
   ]
  },
  {
   "cell_type": "code",
   "execution_count": 41,
   "metadata": {},
   "outputs": [],
   "source": [
    "gt_ism_patient = gt_ism_frame.coalesce(\n",
    "    ('t1', 't2'), Bounds1D.span\n",
    ")"
   ]
  },
  {
   "cell_type": "code",
   "execution_count": 43,
   "metadata": {},
   "outputs": [],
   "source": [
    "lf_ism = IntervalSetMapping({\n",
    "    i: IntervalSet([\n",
    "        Interval(Bounds1D(frame, frame+1), payload=lfs)\n",
    "        for frame, lfs in enumerate(a.T.tolist()[i * 6:i*6 + 6])\n",
    "    ])\n",
    "    for i in range(int(a.T.shape[0] / 6))\n",
    "})"
   ]
  },
  {
   "cell_type": "code",
   "execution_count": 44,
   "metadata": {},
   "outputs": [],
   "source": [
    "frame_mv = lf_ism.map(\n",
    "    lambda intrvl: Interval(\n",
    "        intrvl['bounds'],\n",
    "        payload = [1 if intrvl['payload'].count(1) > intrvl['payload'].count(-1) else -1]\n",
    "    )\n",
    ")"
   ]
  },
  {
   "cell_type": "code",
   "execution_count": 48,
   "metadata": {},
   "outputs": [],
   "source": [
    "patient_mv = frame_mv.coalesce(\n",
    "    ('t1', 't2'), Bounds1D.span, lambda p1, p2: p1 + p2\n",
    ").map(\n",
    "    lambda intrvl: Interval(\n",
    "        intrvl['bounds'],\n",
    "        payload = 1 if intrvl['payload'].count(1) > intrvl['payload'].count(-1) else -1\n",
    "    )\n",
    ")"
   ]
  },
  {
   "cell_type": "code",
   "execution_count": 52,
   "metadata": {},
   "outputs": [
    {
     "data": {
      "text/plain": [
       "33"
      ]
     },
     "execution_count": 52,
     "metadata": {},
     "output_type": "execute_result"
    }
   ],
   "source": [
    "len(patient_mv.filter(payload_satisfies(lambda p: p == 1)))"
   ]
  },
  {
   "cell_type": "code",
   "execution_count": 96,
   "metadata": {},
   "outputs": [],
   "source": [
    "def tp_fp_fn_patient(predicted, gt):\n",
    "    tp = predicted.filter(\n",
    "        payload_satisfies(lambda p: p == 1)\n",
    "    ).filter_against(\n",
    "        gt,\n",
    "        predicate = lambda i1, i2: i1['payload'] == i2['payload']\n",
    "    )\n",
    "    \n",
    "    fp = predicted.filter(\n",
    "        payload_satisfies(lambda p: p == 1)\n",
    "    ).minus(tp)\n",
    "    \n",
    "    fn = gt.filter(\n",
    "        payload_satisfies(lambda p: p == 1)\n",
    "    ).minus(\n",
    "        predicted.filter(\n",
    "            payload_satisfies(lambda p: p == 1)\n",
    "        )\n",
    "    )\n",
    "    \n",
    "    return tp, fp, fn"
   ]
  },
  {
   "cell_type": "code",
   "execution_count": 53,
   "metadata": {},
   "outputs": [],
   "source": [
    "def prf1_patient(predicted, gt):\n",
    "    tp = predicted.filter(\n",
    "        payload_satisfies(lambda p: p == 1)\n",
    "    ).filter_against(\n",
    "        gt,\n",
    "        predicate = lambda i1, i2: i1['payload'] == i2['payload']\n",
    "    )\n",
    "    \n",
    "    fp = predicted.filter(\n",
    "        payload_satisfies(lambda p: p == 1)\n",
    "    ).minus(tp)\n",
    "    \n",
    "    fn = gt.filter(\n",
    "        payload_satisfies(lambda p: p == 1)\n",
    "    ).minus(\n",
    "        predicted.filter(\n",
    "            payload_satisfies(lambda p: p == 1)\n",
    "        )\n",
    "    )\n",
    "    \n",
    "    pre = len(tp) / (len(tp) + len(fp))\n",
    "    rec = len(tp) / (len(tp) + len(fn))\n",
    "    f1 = 2 * pre * rec / (pre + rec)\n",
    "    \n",
    "    return pre, rec, f1, len(tp), len(fp), len(fn)"
   ]
  },
  {
   "cell_type": "code",
   "execution_count": 54,
   "metadata": {},
   "outputs": [
    {
     "data": {
      "text/plain": [
       "(0.15151515151515152, 0.7142857142857143, 0.25, 5, 28, 2)"
      ]
     },
     "execution_count": 54,
     "metadata": {},
     "output_type": "execute_result"
    }
   ],
   "source": [
    "prf1_patient(patient_mv, gt_ism_patient)"
   ]
  },
  {
   "cell_type": "code",
   "execution_count": 75,
   "metadata": {},
   "outputs": [],
   "source": [
    "threshold_frame = 0\n",
    "threshold_seq = 0"
   ]
  },
  {
   "cell_type": "code",
   "execution_count": 76,
   "metadata": {},
   "outputs": [],
   "source": [
    "attempt2 = lf_ism.map(\n",
    "    lambda intrvl: Interval(\n",
    "        intrvl['bounds'],\n",
    "        payload = [\n",
    "            1 if intrvl['payload'].count(1) > intrvl['payload'].count(-1) + threshold_frame\n",
    "            else -1]\n",
    "    )\n",
    ").coalesce(\n",
    "    ('t1', 't2'), Bounds1D.span, lambda p1, p2: p1 + p2\n",
    ").map(\n",
    "    lambda intrvl: Interval(\n",
    "        intrvl['bounds'],\n",
    "        payload = (\n",
    "            1 if intrvl['payload'].count(1) > intrvl['payload'].count(-1) + threshold_seq\n",
    "            else -1\n",
    "        )\n",
    "    )\n",
    ")"
   ]
  },
  {
   "cell_type": "code",
   "execution_count": 77,
   "metadata": {},
   "outputs": [
    {
     "data": {
      "text/plain": [
       "(0.15151515151515152, 0.7142857142857143, 0.25, 5, 28, 2)"
      ]
     },
     "execution_count": 77,
     "metadata": {},
     "output_type": "execute_result"
    }
   ],
   "source": [
    "prf1_patient(attempt2, gt_ism_patient)"
   ]
  },
  {
   "cell_type": "code",
   "execution_count": 94,
   "metadata": {},
   "outputs": [],
   "source": [
    "second_lf_unsure = lf_ism.map(\n",
    "    lambda intrvl: Interval(\n",
    "        intrvl['bounds'],\n",
    "        payload = [intrvl['payload'][1]]\n",
    "    )\n",
    ").coalesce(\n",
    "    ('t1', 't2'), Bounds1D.span, lambda p1, p2: p1 + p2\n",
    ").map(\n",
    "    lambda intrvl: Interval(\n",
    "        intrvl['bounds'],\n",
    "        payload = (\n",
    "            1 if intrvl['payload'].count(1) > 4\n",
    "            else -1\n",
    "        )\n",
    "    )\n",
    ")"
   ]
  },
  {
   "cell_type": "code",
   "execution_count": 95,
   "metadata": {},
   "outputs": [
    {
     "data": {
      "text/plain": [
       "(0.24, 0.8571428571428571, 0.375, 6, 19, 1)"
      ]
     },
     "execution_count": 95,
     "metadata": {},
     "output_type": "execute_result"
    }
   ],
   "source": [
    "prf1_patient(second_lf_unsure, gt_ism_patient)"
   ]
  },
  {
   "cell_type": "code",
   "execution_count": 114,
   "metadata": {},
   "outputs": [],
   "source": [
    "fourth_lf_negative = lf_ism.map(\n",
    "    lambda intrvl: Interval(\n",
    "        intrvl['bounds'],\n",
    "        payload = [intrvl['payload'][3]]\n",
    "    )\n",
    ").coalesce(\n",
    "    ('t1', 't2'), Bounds1D.span, lambda p1, p2: p1 + p2\n",
    ").map(\n",
    "    lambda intrvl: Interval(\n",
    "        intrvl['bounds'],\n",
    "        payload = (\n",
    "            -1 if intrvl['payload'].count(-1) in (2, 3)\n",
    "            else 1\n",
    "        )\n",
    "    )\n",
    ")"
   ]
  },
  {
   "cell_type": "code",
   "execution_count": 115,
   "metadata": {},
   "outputs": [
    {
     "data": {
      "text/plain": [
       "(0.09859154929577464, 1.0, 0.17948717948717946, 7, 64, 0)"
      ]
     },
     "execution_count": 115,
     "metadata": {},
     "output_type": "execute_result"
    }
   ],
   "source": [
    "prf1_patient(fourth_lf_negative, gt_ism_patient)"
   ]
  },
  {
   "cell_type": "code",
   "execution_count": 117,
   "metadata": {},
   "outputs": [],
   "source": [
    "second_fourth = second_lf_unsure.join(\n",
    "    fourth_lf_negative,\n",
    "    predicate = equal(),\n",
    "    merge_op = lambda i1, i2: Interval(\n",
    "        i1['bounds'],\n",
    "        1 if i1['payload'] == 1 and i2['payload'] == 1 else -1\n",
    "    )\n",
    ")"
   ]
  },
  {
   "cell_type": "code",
   "execution_count": 123,
   "metadata": {},
   "outputs": [
    {
     "data": {
      "text/plain": [
       "(0.3, 0.8571428571428571, 0.4444444444444444, 6, 14, 1)"
      ]
     },
     "execution_count": 123,
     "metadata": {},
     "output_type": "execute_result"
    }
   ],
   "source": [
    "prf1_patient(\n",
    "    second_fourth,\n",
    "    gt_ism_patient\n",
    ")"
   ]
  },
  {
   "cell_type": "code",
   "execution_count": 118,
   "metadata": {},
   "outputs": [],
   "source": [
    "tp, fp, fn = tp_fp_fn_patient(second_fourth, gt_ism_patient)"
   ]
  },
  {
   "cell_type": "code",
   "execution_count": 127,
   "metadata": {},
   "outputs": [],
   "source": [
    "second_has_zero = lf_ism.map(\n",
    "    lambda intrvl: Interval(\n",
    "        intrvl['bounds'],\n",
    "        payload = [intrvl['payload'][1]]\n",
    "    )\n",
    ").coalesce(\n",
    "    ('t1', 't2'), Bounds1D.span, lambda p1, p2: p1 + p2\n",
    ").map(\n",
    "    lambda intrvl: Interval(\n",
    "        intrvl['bounds'],\n",
    "        payload = (\n",
    "            -1 if intrvl['payload'].count(0) > 0\n",
    "            else 1\n",
    "        )\n",
    "    )\n",
    ")"
   ]
  },
  {
   "cell_type": "code",
   "execution_count": 128,
   "metadata": {},
   "outputs": [
    {
     "data": {
      "text/plain": [
       "(0.1794871794871795, 1.0, 0.30434782608695654, 7, 32, 0)"
      ]
     },
     "execution_count": 128,
     "metadata": {},
     "output_type": "execute_result"
    }
   ],
   "source": [
    "prf1_patient(second_has_zero, gt_ism_patient)"
   ]
  },
  {
   "cell_type": "code",
   "execution_count": 129,
   "metadata": {},
   "outputs": [],
   "source": [
    "attempt3 = second_fourth.join(\n",
    "    second_has_zero,\n",
    "    predicate = equal(),\n",
    "    merge_op = lambda i1, i2: Interval(\n",
    "        i1['bounds'],\n",
    "        1 if i1['payload'] == 1 and i2['payload'] == 1 else -1\n",
    "    )\n",
    ")"
   ]
  },
  {
   "cell_type": "code",
   "execution_count": 130,
   "metadata": {},
   "outputs": [
    {
     "data": {
      "text/plain": [
       "(0.375, 0.8571428571428571, 0.5217391304347825, 6, 10, 1)"
      ]
     },
     "execution_count": 130,
     "metadata": {},
     "output_type": "execute_result"
    }
   ],
   "source": [
    "prf1_patient(attempt3, gt_ism_patient)"
   ]
  },
  {
   "cell_type": "code",
   "execution_count": 135,
   "metadata": {},
   "outputs": [],
   "source": [
    "fifth_lf_starts_or_ends_with_0 = lf_ism.map(\n",
    "    lambda intrvl: Interval(\n",
    "        intrvl['bounds'],\n",
    "        payload = [intrvl['payload'][4]]\n",
    "    )\n",
    ").coalesce(\n",
    "    ('t1', 't2'), Bounds1D.span, lambda p1, p2: p1 + p2\n",
    ").map(\n",
    "    lambda intrvl: Interval(\n",
    "        intrvl['bounds'],\n",
    "        payload = (\n",
    "            -1 if intrvl['payload'][0] == 0 or intrvl['payload'][-1] == 0\n",
    "            else 1\n",
    "        )\n",
    "    )\n",
    ")"
   ]
  },
  {
   "cell_type": "code",
   "execution_count": 136,
   "metadata": {},
   "outputs": [
    {
     "data": {
      "text/plain": [
       "(0.09210526315789473, 1.0, 0.1686746987951807, 7, 69, 0)"
      ]
     },
     "execution_count": 136,
     "metadata": {},
     "output_type": "execute_result"
    }
   ],
   "source": [
    "prf1_patient(fifth_lf_starts_or_ends_with_0, gt_ism_patient)"
   ]
  },
  {
   "cell_type": "code",
   "execution_count": 138,
   "metadata": {},
   "outputs": [],
   "source": [
    "attempt4 = attempt3.join(\n",
    "    fifth_lf_starts_or_ends_with_0,\n",
    "    predicate = equal(),\n",
    "    merge_op = lambda i1, i2: Interval(\n",
    "        i1['bounds'],\n",
    "        1 if i1['payload'] == 1 and i2['payload'] == 1 else -1\n",
    "    )\n",
    ")"
   ]
  },
  {
   "cell_type": "code",
   "execution_count": 140,
   "metadata": {},
   "outputs": [
    {
     "data": {
      "text/plain": [
       "(0.46153846153846156, 0.8571428571428571, 0.6, 6, 7, 1)"
      ]
     },
     "execution_count": 140,
     "metadata": {},
     "output_type": "execute_result"
    }
   ],
   "source": [
    "prf1_patient(attempt4, gt_ism_patient)"
   ]
  },
  {
   "cell_type": "code",
   "execution_count": 141,
   "metadata": {},
   "outputs": [],
   "source": [
    "tp, fp, fn = tp_fp_fn_patient(attempt4, gt_ism_patient)"
   ]
  },
  {
   "cell_type": "code",
   "execution_count": 152,
   "metadata": {},
   "outputs": [],
   "source": [
    "three_negatives_twice = lf_ism.map(\n",
    "    lambda intrvl: Interval(\n",
    "        intrvl['bounds'],\n",
    "        payload = [-1 if intrvl['payload'].count(-1) >= 3 else 1]\n",
    "    )\n",
    ").coalesce(\n",
    "    ('t1', 't2'), Bounds1D.span, lambda p1, p2: p1 + p2\n",
    ").map(\n",
    "    lambda intrvl: Interval(\n",
    "        intrvl['bounds'],\n",
    "        payload = (\n",
    "            -1 if intrvl['payload'].count(-1) >= 2\n",
    "            else 1\n",
    "        )\n",
    "    )\n",
    ")"
   ]
  },
  {
   "cell_type": "code",
   "execution_count": 153,
   "metadata": {},
   "outputs": [
    {
     "data": {
      "text/plain": [
       "(0.08860759493670886, 1.0, 0.1627906976744186, 7, 72, 0)"
      ]
     },
     "execution_count": 153,
     "metadata": {},
     "output_type": "execute_result"
    }
   ],
   "source": [
    "prf1_patient(three_negatives_twice, gt_ism_patient)"
   ]
  },
  {
   "cell_type": "code",
   "execution_count": 166,
   "metadata": {},
   "outputs": [],
   "source": [
    "fifth_lf_less_than_three_positive = lf_ism.map(\n",
    "    lambda intrvl: Interval(\n",
    "        intrvl['bounds'],\n",
    "        payload = [intrvl['payload'][4]]\n",
    "    )\n",
    ").coalesce(\n",
    "    ('t1', 't2'), Bounds1D.span, lambda p1, p2: p1 + p2\n",
    ").map(\n",
    "    lambda intrvl: Interval(\n",
    "        intrvl['bounds'],\n",
    "        payload = (\n",
    "            -1 if (intrvl['payload'].count(-1) > 3 or\n",
    "                  intrvl['payload'].count(-1) > 2 and\n",
    "                  intrvl['payload'].count(0) == 1)\n",
    "            else 1\n",
    "        )\n",
    "    )\n",
    ")"
   ]
  },
  {
   "cell_type": "code",
   "execution_count": 167,
   "metadata": {},
   "outputs": [
    {
     "data": {
      "text/plain": [
       "(0.10714285714285714, 0.8571428571428571, 0.19047619047619047, 6, 50, 1)"
      ]
     },
     "execution_count": 167,
     "metadata": {},
     "output_type": "execute_result"
    }
   ],
   "source": [
    "prf1_patient(fifth_lf_less_than_three_positive, gt_ism_patient)"
   ]
  },
  {
   "cell_type": "code",
   "execution_count": 168,
   "metadata": {},
   "outputs": [],
   "source": [
    "attempt5 = attempt4.join(\n",
    "    three_negatives_twice,\n",
    "    predicate = equal(),\n",
    "    merge_op = lambda i1, i2: Interval(\n",
    "        i1['bounds'],\n",
    "        1 if i1['payload'] == 1 and i2['payload'] == 1 else -1\n",
    "    )\n",
    ").join(\n",
    "    fifth_lf_less_than_three_positive,\n",
    "    predicate = equal(),\n",
    "    merge_op = lambda i1, i2: Interval(\n",
    "        i1['bounds'],\n",
    "        1 if i1['payload'] == 1 and i2['payload'] == 1 else -1\n",
    "    )\n",
    ")"
   ]
  },
  {
   "cell_type": "code",
   "execution_count": 169,
   "metadata": {},
   "outputs": [
    {
     "data": {
      "text/plain": [
       "(0.6, 0.8571428571428571, 0.7058823529411764, 6, 4, 1)"
      ]
     },
     "execution_count": 169,
     "metadata": {},
     "output_type": "execute_result"
    }
   ],
   "source": [
    "prf1_patient(attempt5, gt_ism_patient)"
   ]
  },
  {
   "cell_type": "code",
   "execution_count": 170,
   "metadata": {},
   "outputs": [],
   "source": [
    "tp, fp, fn = tp_fp_fn_patient(attempt5, gt_ism_patient)"
   ]
  },
  {
   "cell_type": "code",
   "execution_count": 171,
   "metadata": {},
   "outputs": [
    {
     "name": "stdout",
     "output_type": "stream",
     "text": [
      "[[ 0. -1.  0.  0. -1.]\n",
      " [ 0.  1.  0.  1. -1.]\n",
      " [ 0.  1.  0.  1. -1.]\n",
      " [ 0.  1.  0.  0.  1.]\n",
      " [ 0.  1.  0.  0.  1.]\n",
      " [ 0.  1.  0. -1.  1.]]\n",
      "[[-1. -1.  0.  0. -1.]\n",
      " [ 0.  1.  0.  0.  1.]\n",
      " [ 0.  1.  0.  0.  1.]\n",
      " [ 0.  1.  0.  0.  1.]\n",
      " [ 0.  1.  0.  0.  1.]\n",
      " [ 0.  1.  0.  0.  1.]]\n",
      "[[-1.  1.  0.  0.  1.]\n",
      " [ 0.  1.  0.  0.  1.]\n",
      " [ 0.  1.  0.  0.  1.]\n",
      " [ 0.  1.  0.  0.  1.]\n",
      " [ 0.  1.  0.  0.  1.]\n",
      " [ 0.  1.  0.  0.  1.]]\n",
      "[[ 0. -1.  0.  1. -1.]\n",
      " [ 0.  1.  0.  0. -1.]\n",
      " [ 0.  1.  0.  0. -1.]\n",
      " [ 0.  1.  0.  0.  1.]\n",
      " [ 0.  1.  0. -1.  1.]\n",
      " [ 0.  1.  0.  0.  1.]]\n"
     ]
    }
   ],
   "source": [
    "for k in fp:\n",
    "    print_lfs(lf_ism[k])"
   ]
  },
  {
   "cell_type": "code",
   "execution_count": 172,
   "metadata": {},
   "outputs": [
    {
     "name": "stdout",
     "output_type": "stream",
     "text": [
      "[[-1. -1.  0.  0. -1.]\n",
      " [ 0.  1.  0.  0. -1.]\n",
      " [ 0.  1.  0.  0.  1.]\n",
      " [ 0.  1.  0.  0.  1.]\n",
      " [ 0.  1.  0.  0.  1.]\n",
      " [ 0.  1.  0.  0.  1.]]\n",
      "[[-1.  1.  0. -1.  1.]\n",
      " [-1.  1.  0.  0.  1.]\n",
      " [-1.  1.  0. -1.  1.]\n",
      " [ 0.  1.  0. -1.  1.]\n",
      " [ 1.  1.  1. -1.  1.]\n",
      " [ 1.  1.  0. -1.  1.]]\n",
      "[[ 0.  1.  0.  0. -1.]\n",
      " [ 0.  1.  0.  0.  0.]\n",
      " [ 0.  1.  0.  0.  1.]\n",
      " [ 0.  1.  0.  0. -1.]\n",
      " [ 0.  1.  0.  0.  0.]\n",
      " [ 0.  1.  0.  0.  1.]]\n",
      "[[ 0. -1.  0. -1.  1.]\n",
      " [ 0.  1.  0.  0.  1.]\n",
      " [ 0.  1.  0.  0.  1.]\n",
      " [ 0.  1.  0. -1.  1.]\n",
      " [ 0.  1.  0. -1.  1.]\n",
      " [ 0.  1.  0. -1.  1.]]\n",
      "[[ 1.  1.  1.  0.  1.]\n",
      " [ 0.  1.  0. -1.  1.]\n",
      " [ 1.  1.  1.  0.  1.]\n",
      " [ 1.  1.  1.  0.  1.]\n",
      " [ 1.  1.  1.  0.  1.]\n",
      " [ 1.  1.  1.  0.  1.]]\n",
      "[[ 0.  1.  0.  0. -1.]\n",
      " [ 0. -1.  0.  0. -1.]\n",
      " [ 0.  1.  0.  0. -1.]\n",
      " [ 0.  1.  0. -1.  1.]\n",
      " [ 0.  1.  0.  0.  1.]\n",
      " [ 1.  1.  0.  0.  1.]]\n"
     ]
    }
   ],
   "source": [
    "for k in tp:\n",
    "    print_lfs(lf_ism[k])"
   ]
  },
  {
   "cell_type": "code",
   "execution_count": 142,
   "metadata": {},
   "outputs": [
    {
     "name": "stdout",
     "output_type": "stream",
     "text": [
      "[[-1. -1.  0.  0. -1.]\n",
      " [-1.  1.  0. -1. -1.]\n",
      " [ 0.  1.  0.  0.  1.]\n",
      " [ 0.  1.  0.  0.  1.]\n",
      " [ 0.  1.  0.  0.  1.]\n",
      " [ 1.  1.  0.  0.  1.]]\n",
      "[[ 0. -1.  0.  0. -1.]\n",
      " [ 0.  1.  0.  1. -1.]\n",
      " [ 0.  1.  0.  1. -1.]\n",
      " [ 0.  1.  0.  0.  1.]\n",
      " [ 0.  1.  0.  0.  1.]\n",
      " [ 0.  1.  0. -1.  1.]]\n",
      "[[-1. -1.  0.  0. -1.]\n",
      " [ 0.  1.  0.  0.  1.]\n",
      " [ 0.  1.  0.  0. -1.]\n",
      " [ 0.  1.  0.  0. -1.]\n",
      " [ 0.  1.  1.  0. -1.]\n",
      " [ 1.  1.  1.  0. -1.]]\n",
      "[[-1. -1.  0.  0. -1.]\n",
      " [ 0.  1.  0.  0.  1.]\n",
      " [ 0.  1.  0.  0.  1.]\n",
      " [ 0.  1.  0.  0.  1.]\n",
      " [ 0.  1.  0.  0.  1.]\n",
      " [ 0.  1.  0.  0.  1.]]\n",
      "[[-1.  1.  0.  0.  1.]\n",
      " [ 0.  1.  0.  0.  1.]\n",
      " [ 0.  1.  0.  0.  1.]\n",
      " [ 0.  1.  0.  0.  1.]\n",
      " [ 0.  1.  0.  0.  1.]\n",
      " [ 0.  1.  0.  0.  1.]]\n",
      "[[ 0. -1.  0.  1. -1.]\n",
      " [ 0.  1.  0.  0. -1.]\n",
      " [ 0.  1.  0.  0. -1.]\n",
      " [ 0.  1.  0.  0.  1.]\n",
      " [ 0.  1.  0. -1.  1.]\n",
      " [ 0.  1.  0.  0.  1.]]\n",
      "[[ 0. -1.  0.  1. -1.]\n",
      " [ 0.  1.  0.  1.  0.]\n",
      " [ 0.  1.  0.  0. -1.]\n",
      " [ 0.  1.  0.  0. -1.]\n",
      " [ 0.  1.  0.  0.  1.]\n",
      " [ 0.  1.  0.  0.  1.]]\n"
     ]
    }
   ],
   "source": [
    "for k in fp:\n",
    "    print_lfs(lf_ism[k])"
   ]
  },
  {
   "cell_type": "code",
   "execution_count": 143,
   "metadata": {},
   "outputs": [
    {
     "name": "stdout",
     "output_type": "stream",
     "text": [
      "[[-1. -1.  0.  0. -1.]\n",
      " [ 0.  1.  0.  0. -1.]\n",
      " [ 0.  1.  0.  0.  1.]\n",
      " [ 0.  1.  0.  0.  1.]\n",
      " [ 0.  1.  0.  0.  1.]\n",
      " [ 0.  1.  0.  0.  1.]]\n",
      "[[-1.  1.  0. -1.  1.]\n",
      " [-1.  1.  0.  0.  1.]\n",
      " [-1.  1.  0. -1.  1.]\n",
      " [ 0.  1.  0. -1.  1.]\n",
      " [ 1.  1.  1. -1.  1.]\n",
      " [ 1.  1.  0. -1.  1.]]\n",
      "[[ 0.  1.  0.  0. -1.]\n",
      " [ 0.  1.  0.  0.  0.]\n",
      " [ 0.  1.  0.  0.  1.]\n",
      " [ 0.  1.  0.  0. -1.]\n",
      " [ 0.  1.  0.  0.  0.]\n",
      " [ 0.  1.  0.  0.  1.]]\n",
      "[[ 0. -1.  0. -1.  1.]\n",
      " [ 0.  1.  0.  0.  1.]\n",
      " [ 0.  1.  0.  0.  1.]\n",
      " [ 0.  1.  0. -1.  1.]\n",
      " [ 0.  1.  0. -1.  1.]\n",
      " [ 0.  1.  0. -1.  1.]]\n",
      "[[ 1.  1.  1.  0.  1.]\n",
      " [ 0.  1.  0. -1.  1.]\n",
      " [ 1.  1.  1.  0.  1.]\n",
      " [ 1.  1.  1.  0.  1.]\n",
      " [ 1.  1.  1.  0.  1.]\n",
      " [ 1.  1.  1.  0.  1.]]\n",
      "[[ 0.  1.  0.  0. -1.]\n",
      " [ 0. -1.  0.  0. -1.]\n",
      " [ 0.  1.  0.  0. -1.]\n",
      " [ 0.  1.  0. -1.  1.]\n",
      " [ 0.  1.  0.  0.  1.]\n",
      " [ 1.  1.  0.  0.  1.]]\n"
     ]
    }
   ],
   "source": [
    "for k in tp:\n",
    "    print_lfs(lf_ism[k])"
   ]
  },
  {
   "cell_type": "code",
   "execution_count": 131,
   "metadata": {},
   "outputs": [],
   "source": [
    "tp, fp, fn = tp_fp_fn_patient(attempt3, gt_ism_patient)"
   ]
  },
  {
   "cell_type": "code",
   "execution_count": 132,
   "metadata": {},
   "outputs": [
    {
     "name": "stdout",
     "output_type": "stream",
     "text": [
      "[[-1. -1.  0.  0. -1.]\n",
      " [ 0.  1.  0.  0.  1.]\n",
      " [ 0.  1.  0.  0.  1.]\n",
      " [ 0.  1.  0.  0.  1.]\n",
      " [ 0.  1.  0.  0.  1.]\n",
      " [ 0.  1.  0.  0.  1.]]\n",
      "[[-1.  1.  0.  0.  1.]\n",
      " [ 0.  1.  0.  0.  1.]\n",
      " [ 0.  1.  0.  0.  1.]\n",
      " [ 0.  1.  0.  0.  1.]\n",
      " [ 0.  1.  0.  0.  1.]\n",
      " [ 0.  1.  0.  0.  1.]]\n",
      "[[-1. -1.  0.  0.  0.]\n",
      " [ 0.  1.  0.  0.  1.]\n",
      " [ 0.  1.  0.  0.  1.]\n",
      " [ 0.  1.  0.  0.  1.]\n",
      " [ 0.  1.  0.  0.  1.]\n",
      " [ 0.  1.  0.  0.  1.]]\n",
      "[[ 0. -1.  0.  1. -1.]\n",
      " [ 0.  1.  0.  1.  0.]\n",
      " [ 0.  1.  0.  0. -1.]\n",
      " [ 0.  1.  0.  0. -1.]\n",
      " [ 0.  1.  0.  0.  1.]\n",
      " [ 0.  1.  0.  0.  1.]]\n",
      "[[-1. -1.  0.  0. -1.]\n",
      " [-1.  1.  0. -1. -1.]\n",
      " [ 0.  1.  0.  0.  1.]\n",
      " [ 0.  1.  0.  0.  1.]\n",
      " [ 0.  1.  0.  0.  1.]\n",
      " [ 1.  1.  0.  0.  1.]]\n",
      "[[ 0. -1.  0.  0. -1.]\n",
      " [ 0.  1.  0.  1. -1.]\n",
      " [ 0.  1.  0.  1. -1.]\n",
      " [ 0.  1.  0.  0.  1.]\n",
      " [ 0.  1.  0.  0.  1.]\n",
      " [ 0.  1.  0. -1.  1.]]\n",
      "[[-1. -1.  0.  0. -1.]\n",
      " [ 0.  1.  0.  0.  1.]\n",
      " [ 0.  1.  0.  0. -1.]\n",
      " [ 0.  1.  0.  0. -1.]\n",
      " [ 0.  1.  1.  0. -1.]\n",
      " [ 1.  1.  1.  0. -1.]]\n",
      "[[ 0. -1.  0.  1. -1.]\n",
      " [ 0.  1.  0.  0. -1.]\n",
      " [ 0.  1.  0.  0. -1.]\n",
      " [ 0.  1.  0.  0.  1.]\n",
      " [ 0.  1.  0. -1.  1.]\n",
      " [ 0.  1.  0.  0.  1.]]\n",
      "[[ 0. -1.  0.  0. -1.]\n",
      " [ 0.  1.  0.  0.  1.]\n",
      " [ 0.  1.  0.  0.  1.]\n",
      " [ 0.  1.  0.  0.  1.]\n",
      " [ 0.  1.  0. -1.  0.]\n",
      " [ 0.  1.  0.  0.  0.]]\n",
      "[[ 0.  1.  0.  0.  0.]\n",
      " [ 0.  1.  0.  0. -1.]\n",
      " [ 0.  1.  0.  0.  1.]\n",
      " [ 0.  1.  0.  0.  1.]\n",
      " [ 0.  1.  0.  0.  1.]\n",
      " [ 0.  1.  0.  0.  1.]]\n"
     ]
    }
   ],
   "source": [
    "for k in fp:\n",
    "    print_lfs(lf_ism[k])"
   ]
  },
  {
   "cell_type": "code",
   "execution_count": 134,
   "metadata": {},
   "outputs": [
    {
     "name": "stdout",
     "output_type": "stream",
     "text": [
      "[[-1. -1.  0.  0. -1.]\n",
      " [ 0.  1.  0.  0. -1.]\n",
      " [ 0.  1.  0.  0.  1.]\n",
      " [ 0.  1.  0.  0.  1.]\n",
      " [ 0.  1.  0.  0.  1.]\n",
      " [ 0.  1.  0.  0.  1.]]\n",
      "[[-1.  1.  0. -1.  1.]\n",
      " [-1.  1.  0.  0.  1.]\n",
      " [-1.  1.  0. -1.  1.]\n",
      " [ 0.  1.  0. -1.  1.]\n",
      " [ 1.  1.  1. -1.  1.]\n",
      " [ 1.  1.  0. -1.  1.]]\n",
      "[[ 0.  1.  0.  0. -1.]\n",
      " [ 0.  1.  0.  0.  0.]\n",
      " [ 0.  1.  0.  0.  1.]\n",
      " [ 0.  1.  0.  0. -1.]\n",
      " [ 0.  1.  0.  0.  0.]\n",
      " [ 0.  1.  0.  0.  1.]]\n",
      "[[ 0. -1.  0. -1.  1.]\n",
      " [ 0.  1.  0.  0.  1.]\n",
      " [ 0.  1.  0.  0.  1.]\n",
      " [ 0.  1.  0. -1.  1.]\n",
      " [ 0.  1.  0. -1.  1.]\n",
      " [ 0.  1.  0. -1.  1.]]\n",
      "[[ 1.  1.  1.  0.  1.]\n",
      " [ 0.  1.  0. -1.  1.]\n",
      " [ 1.  1.  1.  0.  1.]\n",
      " [ 1.  1.  1.  0.  1.]\n",
      " [ 1.  1.  1.  0.  1.]\n",
      " [ 1.  1.  1.  0.  1.]]\n",
      "[[ 0.  1.  0.  0. -1.]\n",
      " [ 0. -1.  0.  0. -1.]\n",
      " [ 0.  1.  0.  0. -1.]\n",
      " [ 0.  1.  0. -1.  1.]\n",
      " [ 0.  1.  0.  0.  1.]\n",
      " [ 1.  1.  0.  0.  1.]]\n"
     ]
    }
   ],
   "source": [
    "for k in tp:\n",
    "    print_lfs(lf_ism[k])"
   ]
  },
  {
   "cell_type": "code",
   "execution_count": 119,
   "metadata": {
    "scrolled": true
   },
   "outputs": [
    {
     "name": "stdout",
     "output_type": "stream",
     "text": [
      "[[ 1.  1.  1. -1. -1.]\n",
      " [ 0.  0.  0.  0. -1.]\n",
      " [ 0.  1.  0.  0.  1.]\n",
      " [ 0.  1.  0.  1.  1.]\n",
      " [ 0.  1.  0.  0.  1.]\n",
      " [ 1.  1.  0.  0.  1.]]\n",
      "[[-1. -1.  0.  0. -1.]\n",
      " [ 0.  1.  0.  0.  1.]\n",
      " [ 0.  1.  0.  0.  1.]\n",
      " [ 0.  1.  0.  0.  1.]\n",
      " [ 0.  1.  0.  0.  1.]\n",
      " [ 0.  1.  0.  0.  1.]]\n",
      "[[ 0.  1.  0.  0. -1.]\n",
      " [ 0.  1.  0.  0. -1.]\n",
      " [ 0.  1.  0.  0. -1.]\n",
      " [ 0.  1.  0.  0. -1.]\n",
      " [ 0.  0.  0.  0. -1.]\n",
      " [ 0.  1.  0.  0.  1.]]\n",
      "[[-1.  1.  0.  0.  1.]\n",
      " [ 0.  1.  0.  0.  1.]\n",
      " [ 0.  1.  0.  0.  1.]\n",
      " [ 0.  1.  0.  0.  1.]\n",
      " [ 0.  1.  0.  0.  1.]\n",
      " [ 0.  1.  0.  0.  1.]]\n",
      "[[-1. -1.  0.  0.  0.]\n",
      " [ 0.  1.  0.  0.  1.]\n",
      " [ 0.  1.  0.  0.  1.]\n",
      " [ 0.  1.  0.  0.  1.]\n",
      " [ 0.  1.  0.  0.  1.]\n",
      " [ 0.  1.  0.  0.  1.]]\n",
      "[[-1.  1.  0. -1.  1.]\n",
      " [-1.  1.  0. -1.  1.]\n",
      " [ 0.  0.  0. -1.  1.]\n",
      " [ 0.  1.  0.  0.  1.]\n",
      " [ 0.  1.  0. -1.  1.]\n",
      " [ 0.  1.  0. -1.  1.]]\n",
      "[[ 0. -1.  0.  1. -1.]\n",
      " [ 0.  1.  0.  1.  0.]\n",
      " [ 0.  1.  0.  0. -1.]\n",
      " [ 0.  1.  0.  0. -1.]\n",
      " [ 0.  1.  0.  0.  1.]\n",
      " [ 0.  1.  0.  0.  1.]]\n",
      "[[-1. -1.  0.  0. -1.]\n",
      " [-1.  1.  0. -1. -1.]\n",
      " [ 0.  1.  0.  0.  1.]\n",
      " [ 0.  1.  0.  0.  1.]\n",
      " [ 0.  1.  0.  0.  1.]\n",
      " [ 1.  1.  0.  0.  1.]]\n",
      "[[ 0. -1.  0.  0. -1.]\n",
      " [ 0.  1.  0.  1. -1.]\n",
      " [ 0.  1.  0.  1. -1.]\n",
      " [ 0.  1.  0.  0.  1.]\n",
      " [ 0.  1.  0.  0.  1.]\n",
      " [ 0.  1.  0. -1.  1.]]\n",
      "[[-1. -1.  0.  0. -1.]\n",
      " [ 0.  1.  0.  0.  1.]\n",
      " [ 0.  1.  0.  0. -1.]\n",
      " [ 0.  1.  0.  0. -1.]\n",
      " [ 0.  1.  1.  0. -1.]\n",
      " [ 1.  1.  1.  0. -1.]]\n",
      "[[ 0. -1.  0.  1. -1.]\n",
      " [ 0.  1.  0.  0. -1.]\n",
      " [ 0.  1.  0.  0. -1.]\n",
      " [ 0.  1.  0.  0.  1.]\n",
      " [ 0.  1.  0. -1.  1.]\n",
      " [ 0.  1.  0.  0.  1.]]\n",
      "[[ 0. -1.  0.  0. -1.]\n",
      " [ 0.  1.  0.  0.  1.]\n",
      " [ 0.  1.  0.  0.  1.]\n",
      " [ 0.  1.  0.  0.  1.]\n",
      " [ 0.  1.  0. -1.  0.]\n",
      " [ 0.  1.  0.  0.  0.]]\n",
      "[[ 0.  1.  0.  0.  0.]\n",
      " [ 0.  1.  0.  0. -1.]\n",
      " [ 0.  1.  0.  0.  1.]\n",
      " [ 0.  1.  0.  0.  1.]\n",
      " [ 0.  1.  0.  0.  1.]\n",
      " [ 0.  1.  0.  0.  1.]]\n",
      "[[-1.  1.  0.  0. -1.]\n",
      " [-1.  1.  0. -1.  0.]\n",
      " [-1.  1.  0. -1.  1.]\n",
      " [ 0.  1.  0. -1.  1.]\n",
      " [ 0.  1.  0. -1.  1.]\n",
      " [ 1.  0.  1. -1. -1.]]\n"
     ]
    }
   ],
   "source": [
    "for k in fp:\n",
    "    print_lfs(lf_ism[k])"
   ]
  },
  {
   "cell_type": "code",
   "execution_count": 120,
   "metadata": {},
   "outputs": [],
   "source": [
    "tp, fp, fn = tp_fp_fn_patient(second_lf_unsure, gt_ism_patient)"
   ]
  },
  {
   "cell_type": "code",
   "execution_count": 108,
   "metadata": {},
   "outputs": [
    {
     "data": {
      "text/plain": [
       "[0, 1, 2, 18, 28, 29, 35, 39, 40, 45, 46, 52, 54, 56, 61, 76, 77, 80, 89]"
      ]
     },
     "execution_count": 108,
     "metadata": {},
     "output_type": "execute_result"
    }
   ],
   "source": [
    "sorted(list(fp.get_grouped_intervals().keys()))"
   ]
  },
  {
   "cell_type": "code",
   "execution_count": 110,
   "metadata": {},
   "outputs": [
    {
     "data": {
      "text/plain": [
       "[0,\n",
       " 1,\n",
       " 2,\n",
       " 4,\n",
       " 6,\n",
       " 7,\n",
       " 12,\n",
       " 13,\n",
       " 18,\n",
       " 20,\n",
       " 27,\n",
       " 28,\n",
       " 29,\n",
       " 31,\n",
       " 32,\n",
       " 35,\n",
       " 36,\n",
       " 39,\n",
       " 40,\n",
       " 41,\n",
       " 42,\n",
       " 43,\n",
       " 45,\n",
       " 46,\n",
       " 49,\n",
       " 50,\n",
       " 52,\n",
       " 53,\n",
       " 54,\n",
       " 56,\n",
       " 61,\n",
       " 69,\n",
       " 70,\n",
       " 73,\n",
       " 74,\n",
       " 75,\n",
       " 76,\n",
       " 77,\n",
       " 80,\n",
       " 89]"
      ]
     },
     "execution_count": 110,
     "metadata": {},
     "output_type": "execute_result"
    }
   ],
   "source": [
    "sorted(list(fourth_lf_negative.filter(\n",
    "    payload_satisfies(lambda p: p == 1)\n",
    ").get_grouped_intervals().keys()))"
   ]
  },
  {
   "cell_type": "code",
   "execution_count": 98,
   "metadata": {},
   "outputs": [
    {
     "name": "stdout",
     "output_type": "stream",
     "text": [
      "[[-1.  1.  0.  0.  1.]\n",
      " [-1.  0.  0.  0. -1.]\n",
      " [-1.  1.  0.  0. -1.]\n",
      " [ 0.  1.  0.  0.  1.]\n",
      " [ 0.  1.  0. -1.  1.]\n",
      " [ 0.  1.  0. -1.  1.]]\n",
      "[[ 0.  0.  0.  0. -1.]\n",
      " [ 0.  1.  0.  0. -1.]\n",
      " [ 1.  1.  1.  0. -1.]\n",
      " [ 1.  1.  1.  0.  1.]\n",
      " [ 0.  1.  0. -1.  1.]\n",
      " [ 1.  1.  1. -1.  1.]]\n",
      "[[ 1.  1.  1. -1. -1.]\n",
      " [ 0.  0.  0.  0. -1.]\n",
      " [ 0.  1.  0.  0.  1.]\n",
      " [ 0.  1.  0.  1.  1.]\n",
      " [ 0.  1.  0.  0.  1.]\n",
      " [ 1.  1.  0.  0.  1.]]\n",
      "[[ 0.  0.  0.  0.  1.]\n",
      " [ 0.  1.  0.  0.  1.]\n",
      " [ 0.  1.  0.  0.  1.]\n",
      " [ 0.  1.  0.  0.  1.]\n",
      " [ 0.  1.  0. -1.  1.]\n",
      " [ 0.  1.  0. -1.  1.]]\n",
      "[[-1. -1.  0.  0. -1.]\n",
      " [ 0.  1.  0.  0.  1.]\n",
      " [ 0.  1.  0.  0.  1.]\n",
      " [ 0.  1.  0.  0.  1.]\n",
      " [ 0.  1.  0.  0.  1.]\n",
      " [ 0.  1.  0.  0.  1.]]\n",
      "[[ 0.  1.  0.  0. -1.]\n",
      " [ 0.  1.  0.  0. -1.]\n",
      " [ 0.  1.  0.  0. -1.]\n",
      " [ 0.  1.  0.  0. -1.]\n",
      " [ 0.  0.  0.  0. -1.]\n",
      " [ 0.  1.  0.  0.  1.]]\n",
      "[[-1.  1.  0.  0.  1.]\n",
      " [ 0.  1.  0.  0.  1.]\n",
      " [ 0.  1.  0.  0.  1.]\n",
      " [ 0.  1.  0.  0.  1.]\n",
      " [ 0.  1.  0.  0.  1.]\n",
      " [ 0.  1.  0.  0.  1.]]\n",
      "[[-1. -1.  0.  0.  0.]\n",
      " [ 0.  1.  0.  0.  1.]\n",
      " [ 0.  1.  0.  0.  1.]\n",
      " [ 0.  1.  0.  0.  1.]\n",
      " [ 0.  1.  0.  0.  1.]\n",
      " [ 0.  1.  0.  0.  1.]]\n",
      "[[-1.  1.  0. -1.  1.]\n",
      " [-1.  1.  0. -1.  1.]\n",
      " [ 0.  0.  0. -1.  1.]\n",
      " [ 0.  1.  0.  0.  1.]\n",
      " [ 0.  1.  0. -1.  1.]\n",
      " [ 0.  1.  0. -1.  1.]]\n",
      "[[ 0. -1.  0.  1. -1.]\n",
      " [ 0.  1.  0.  1.  0.]\n",
      " [ 0.  1.  0.  0. -1.]\n",
      " [ 0.  1.  0.  0. -1.]\n",
      " [ 0.  1.  0.  0.  1.]\n",
      " [ 0.  1.  0.  0.  1.]]\n",
      "[[ 0.  1.  0. -1.  1.]\n",
      " [ 0.  1.  0.  0. -1.]\n",
      " [ 0.  1.  0.  0.  1.]\n",
      " [ 0.  1.  0. -1.  1.]\n",
      " [ 0.  1.  0.  0.  1.]\n",
      " [ 0.  1.  0. -1.  1.]]\n",
      "[[-1. -1.  0.  0. -1.]\n",
      " [-1.  1.  0. -1. -1.]\n",
      " [ 0.  1.  0.  0.  1.]\n",
      " [ 0.  1.  0.  0.  1.]\n",
      " [ 0.  1.  0.  0.  1.]\n",
      " [ 1.  1.  0.  0.  1.]]\n",
      "[[ 0. -1.  0.  0. -1.]\n",
      " [ 0.  1.  0.  1. -1.]\n",
      " [ 0.  1.  0.  1. -1.]\n",
      " [ 0.  1.  0.  0.  1.]\n",
      " [ 0.  1.  0.  0.  1.]\n",
      " [ 0.  1.  0. -1.  1.]]\n",
      "[[-1. -1.  0.  0. -1.]\n",
      " [ 0.  1.  0.  0.  1.]\n",
      " [ 0.  1.  0.  0. -1.]\n",
      " [ 0.  1.  0.  0. -1.]\n",
      " [ 0.  1.  1.  0. -1.]\n",
      " [ 1.  1.  1.  0. -1.]]\n",
      "[[-1. -1.  0.  0.  1.]\n",
      " [-1.  1.  0.  0.  1.]\n",
      " [ 0.  1.  0. -1.  1.]\n",
      " [ 0.  1.  0. -1.  1.]\n",
      " [ 0.  1.  0.  0.  1.]\n",
      " [ 0.  1.  0.  0.  1.]]\n",
      "[[ 0. -1.  0.  1. -1.]\n",
      " [ 0.  1.  0.  0. -1.]\n",
      " [ 0.  1.  0.  0. -1.]\n",
      " [ 0.  1.  0.  0.  1.]\n",
      " [ 0.  1.  0. -1.  1.]\n",
      " [ 0.  1.  0.  0.  1.]]\n",
      "[[ 0. -1.  0.  0. -1.]\n",
      " [ 0.  1.  0.  0.  1.]\n",
      " [ 0.  1.  0.  0.  1.]\n",
      " [ 0.  1.  0.  0.  1.]\n",
      " [ 0.  1.  0. -1.  0.]\n",
      " [ 0.  1.  0.  0.  0.]]\n",
      "[[ 0.  1.  0.  0.  0.]\n",
      " [ 0.  1.  0.  0. -1.]\n",
      " [ 0.  1.  0.  0.  1.]\n",
      " [ 0.  1.  0.  0.  1.]\n",
      " [ 0.  1.  0.  0.  1.]\n",
      " [ 0.  1.  0.  0.  1.]]\n",
      "[[-1.  1.  0.  0. -1.]\n",
      " [-1.  1.  0. -1.  0.]\n",
      " [-1.  1.  0. -1.  1.]\n",
      " [ 0.  1.  0. -1.  1.]\n",
      " [ 0.  1.  0. -1.  1.]\n",
      " [ 1.  0.  1. -1. -1.]]\n"
     ]
    }
   ],
   "source": [
    "for k in fp:\n",
    "    print_lfs(lf_ism[k])"
   ]
  },
  {
   "cell_type": "code",
   "execution_count": 78,
   "metadata": {},
   "outputs": [
    {
     "data": {
      "text/plain": [
       "{4: [<Interval t1:0 t2:6 payload:1.0>], 7: [<Interval t1:0 t2:6 payload:1.0>], 22: [<Interval t1:0 t2:6 payload:1.0>], 36: [<Interval t1:0 t2:6 payload:1.0>], 43: [<Interval t1:0 t2:6 payload:1.0>], 53: [<Interval t1:0 t2:6 payload:1.0>], 69: [<Interval t1:0 t2:6 payload:1.0>]}"
      ]
     },
     "execution_count": 78,
     "metadata": {},
     "output_type": "execute_result"
    }
   ],
   "source": [
    "gt_ism_patient.filter(payload_satisfies(lambda p: p == 1))"
   ]
  },
  {
   "cell_type": "code",
   "execution_count": 88,
   "metadata": {},
   "outputs": [],
   "source": [
    "def print_lfs(iset):\n",
    "    print(np.array(\n",
    "        iset.map(\n",
    "            lambda intrvl: Interval(intrvl['bounds'], [intrvl['payload']])\n",
    "        ).coalesce(\n",
    "            ('t1', 't2'), Bounds1D.span, lambda p1, p2: p1 + p2\n",
    "        ).get_intervals()[0]['payload']))"
   ]
  },
  {
   "cell_type": "code",
   "execution_count": 92,
   "metadata": {},
   "outputs": [
    {
     "name": "stdout",
     "output_type": "stream",
     "text": [
      "[[-1. -1.  0.  0. -1.]\n",
      " [ 0.  1.  0.  0. -1.]\n",
      " [ 0.  1.  0.  0.  1.]\n",
      " [ 0.  1.  0.  0.  1.]\n",
      " [ 0.  1.  0.  0.  1.]\n",
      " [ 0.  1.  0.  0.  1.]]\n",
      "[[-1.  1.  0. -1.  1.]\n",
      " [-1.  1.  0.  0.  1.]\n",
      " [-1.  1.  0. -1.  1.]\n",
      " [ 0.  1.  0. -1.  1.]\n",
      " [ 1.  1.  1. -1.  1.]\n",
      " [ 1.  1.  0. -1.  1.]]\n",
      "[[ 0. -1.  0.  0. -1.]\n",
      " [ 1.  1.  1.  0. -1.]\n",
      " [ 1. -1.  1.  0. -1.]\n",
      " [ 1.  1.  1.  0. -1.]\n",
      " [ 1.  1.  1.  0. -1.]\n",
      " [ 1. -1.  1.  0. -1.]]\n",
      "[[ 0.  1.  0.  0. -1.]\n",
      " [ 0.  1.  0.  0.  0.]\n",
      " [ 0.  1.  0.  0.  1.]\n",
      " [ 0.  1.  0.  0. -1.]\n",
      " [ 0.  1.  0.  0.  0.]\n",
      " [ 0.  1.  0.  0.  1.]]\n",
      "[[ 0. -1.  0. -1.  1.]\n",
      " [ 0.  1.  0.  0.  1.]\n",
      " [ 0.  1.  0.  0.  1.]\n",
      " [ 0.  1.  0. -1.  1.]\n",
      " [ 0.  1.  0. -1.  1.]\n",
      " [ 0.  1.  0. -1.  1.]]\n",
      "[[ 1.  1.  1.  0.  1.]\n",
      " [ 0.  1.  0. -1.  1.]\n",
      " [ 1.  1.  1.  0.  1.]\n",
      " [ 1.  1.  1.  0.  1.]\n",
      " [ 1.  1.  1.  0.  1.]\n",
      " [ 1.  1.  1.  0.  1.]]\n",
      "[[ 0.  1.  0.  0. -1.]\n",
      " [ 0. -1.  0.  0. -1.]\n",
      " [ 0.  1.  0.  0. -1.]\n",
      " [ 0.  1.  0. -1.  1.]\n",
      " [ 0.  1.  0.  0.  1.]\n",
      " [ 1.  1.  0.  0.  1.]]\n"
     ]
    }
   ],
   "source": [
    "for k in gt_ism_patient.filter(payload_satisfies(lambda p: p == 1)):\n",
    "    print_lfs(lf_ism[k])"
   ]
  },
  {
   "cell_type": "code",
   "execution_count": 93,
   "metadata": {},
   "outputs": [
    {
     "name": "stdout",
     "output_type": "stream",
     "text": [
      "[[-1.  1.  0.  0.  1.]\n",
      " [-1.  0.  0.  0. -1.]\n",
      " [-1.  1.  0.  0. -1.]\n",
      " [ 0.  1.  0.  0.  1.]\n",
      " [ 0.  1.  0. -1.  1.]\n",
      " [ 0.  1.  0. -1.  1.]]\n",
      "[[ 0.  0.  0.  0. -1.]\n",
      " [ 0.  1.  0.  0. -1.]\n",
      " [ 1.  1.  1.  0. -1.]\n",
      " [ 1.  1.  1.  0.  1.]\n",
      " [ 0.  1.  0. -1.  1.]\n",
      " [ 1.  1.  1. -1.  1.]]\n",
      "[[ 1.  1.  1. -1. -1.]\n",
      " [ 0.  0.  0.  0. -1.]\n",
      " [ 0.  1.  0.  0.  1.]\n",
      " [ 0.  1.  0.  1.  1.]\n",
      " [ 0.  1.  0.  0.  1.]\n",
      " [ 1.  1.  0.  0.  1.]]\n",
      "[[-1. -1.  0. -1. -1.]\n",
      " [ 0. -1.  0.  0. -1.]\n",
      " [ 0.  0.  0.  0.  1.]\n",
      " [ 0.  1.  0.  0. -1.]\n",
      " [ 0.  1.  0.  0.  1.]\n",
      " [ 0.  1.  0.  0.  1.]]\n",
      "[[ 1. -1.  1. -1. -1.]\n",
      " [-1. -1.  0.  0. -1.]\n",
      " [ 0. -1.  0.  0.  0.]\n",
      " [ 0. -1.  0.  0.  1.]\n",
      " [ 0.  1.  0.  0.  1.]\n",
      " [ 0.  1.  0. -1.  1.]]\n",
      "[[-1. -1.  0.  0. -1.]\n",
      " [ 0.  0.  0.  1. -1.]\n",
      " [ 0.  1.  1.  1. -1.]\n",
      " [ 0.  1.  0.  0. -1.]\n",
      " [ 0.  1.  0. -1.  0.]\n",
      " [ 1.  1.  0. -1.  1.]]\n",
      "[[ 0. -1.  0.  0.  0.]\n",
      " [ 0. -1.  0.  0. -1.]\n",
      " [ 0.  0.  0.  1.  1.]\n",
      " [ 0.  1.  0.  1.  0.]\n",
      " [ 0.  1.  0.  0.  0.]\n",
      " [ 0.  1.  1.  0. -1.]]\n",
      "[[ 0. -1.  0.  1. -1.]\n",
      " [ 0. -1.  0.  1. -1.]\n",
      " [ 0. -1.  0.  0. -1.]\n",
      " [ 0. -1.  0.  1.  0.]\n",
      " [ 0. -1.  1.  0. -1.]\n",
      " [ 1.  0.  1.  1. -1.]]\n",
      "[[-1. -1.  0. -1. -1.]\n",
      " [-1. -1.  0. -1. -1.]\n",
      " [ 0.  1.  0.  0.  1.]\n",
      " [ 0.  1.  0.  0.  1.]\n",
      " [ 0.  0.  0.  0.  0.]\n",
      " [ 0.  1.  0. -1.  1.]]\n",
      "[[-1. -1.  0.  0. -1.]\n",
      " [ 0. -1.  0.  0.  0.]\n",
      " [ 0. -1.  0.  0.  0.]\n",
      " [ 0. -1.  0. -1.  0.]\n",
      " [ 0. -1.  0.  0.  1.]\n",
      " [ 1.  1.  0.  0.  1.]]\n",
      "[[-1. -1.  0.  0. -1.]\n",
      " [-1.  0.  0.  0.  0.]\n",
      " [ 0.  1.  0.  0.  1.]\n",
      " [ 0.  1.  0.  0.  1.]\n",
      " [ 0.  1.  0.  0.  1.]\n",
      " [ 0.  1.  0.  0.  0.]]\n",
      "[[ 0. -1.  0.  1. -1.]\n",
      " [ 0.  0.  0.  0. -1.]\n",
      " [ 0.  1.  0.  0.  0.]\n",
      " [ 0.  1.  0.  0.  1.]\n",
      " [ 0.  1.  0.  0.  1.]\n",
      " [ 0.  1.  0.  0.  1.]]\n",
      "[[-1. -1.  0.  0. -1.]\n",
      " [ 0. -1.  0.  0. -1.]\n",
      " [ 0. -1.  0.  1. -1.]\n",
      " [ 0.  0.  0.  0.  1.]\n",
      " [ 1.  0.  1.  0.  1.]\n",
      " [ 0.  0.  1.  0. -1.]]\n",
      "[[-1. -1.  0.  0. -1.]\n",
      " [ 0. -1.  0.  0. -1.]\n",
      " [ 0.  1.  0.  0.  1.]\n",
      " [ 0.  1.  0.  0.  0.]\n",
      " [ 0.  1.  0.  0.  1.]\n",
      " [ 0.  1.  0.  0.  1.]]\n",
      "[[-1. -1.  0.  0. -1.]\n",
      " [ 0. -1.  0.  0. -1.]\n",
      " [ 0.  1.  0.  0.  1.]\n",
      " [ 0.  1.  0.  0.  1.]\n",
      " [ 0.  1.  0.  0.  1.]\n",
      " [ 0.  1.  0.  0.  1.]]\n",
      "[[-1. -1.  0.  0.  0.]\n",
      " [ 0.  0.  0.  0.  1.]\n",
      " [ 0. -1.  0.  0.  0.]\n",
      " [ 0. -1.  0. -1. -1.]\n",
      " [ 0.  1.  0.  0. -1.]\n",
      " [ 0.  1.  0. -1.  1.]]\n",
      "[[-1.  1.  0.  0.  1.]\n",
      " [ 0.  1.  0.  0.  1.]\n",
      " [ 0.  1.  0.  0.  1.]\n",
      " [ 0.  1.  0.  0.  1.]\n",
      " [ 0.  1.  0.  0.  1.]\n",
      " [ 0.  1.  0.  0.  1.]]\n",
      "[[-1. -1.  0. -1. -1.]\n",
      " [-1. -1.  0. -1.  0.]\n",
      " [-1.  1.  0.  0.  1.]\n",
      " [ 0.  1.  0.  0.  1.]\n",
      " [ 0.  1.  0. -1.  1.]\n",
      " [ 0.  1.  0. -1.  1.]]\n",
      "[[-1. -1.  0.  1. -1.]\n",
      " [ 0.  1.  0.  0.  1.]\n",
      " [ 0.  0.  0.  0. -1.]\n",
      " [ 0.  1.  0.  0. -1.]\n",
      " [ 0.  0.  1.  0. -1.]\n",
      " [ 1.  1.  1.  0. -1.]]\n",
      "[[-1. -1.  0. -1.  1.]\n",
      " [-1. -1.  0. -1.  1.]\n",
      " [ 0.  0.  0. -1.  1.]\n",
      " [ 0.  1.  0. -1.  1.]\n",
      " [ 0.  1.  0. -1.  1.]\n",
      " [ 0.  1.  0. -1.  1.]]\n",
      "[[-1. -1.  0.  0.  0.]\n",
      " [ 0. -1.  0.  0.  1.]\n",
      " [ 0. -1.  0.  0. -1.]\n",
      " [ 0.  1.  0.  0. -1.]\n",
      " [ 0.  1.  0.  0. -1.]\n",
      " [ 0.  1.  0.  0.  1.]]\n",
      "[[ 1. -1.  1.  0. -1.]\n",
      " [ 0.  1.  0.  0.  0.]\n",
      " [ 0.  1.  0.  0.  1.]\n",
      " [ 1. -1.  1. -1. -1.]\n",
      " [ 0.  1.  0. -1.  1.]\n",
      " [ 0.  1.  0. -1.  1.]]\n",
      "[[ 0.  1.  0. -1.  1.]\n",
      " [ 0. -1.  0.  0. -1.]\n",
      " [ 0. -1.  0.  1.  1.]\n",
      " [ 0. -1.  0.  0. -1.]\n",
      " [ 0. -1.  0.  0. -1.]\n",
      " [ 0.  0.  0.  0. -1.]]\n",
      "[[ 0. -1.  0. -1.  1.]\n",
      " [ 0. -1.  0.  0.  0.]\n",
      " [ 0.  0.  0.  0.  1.]\n",
      " [ 0.  1.  0.  0.  1.]\n",
      " [ 0. -1.  0. -1.  1.]\n",
      " [ 0. -1.  0. -1.  1.]]\n",
      "[[-1. -1.  0. -1. -1.]\n",
      " [-1.  0.  0.  0.  1.]\n",
      " [-1.  1.  0. -1.  1.]\n",
      " [-1.  1.  0.  0.  1.]\n",
      " [ 0.  1.  0.  0.  1.]\n",
      " [ 0.  1.  0.  0.  0.]]\n",
      "[[-1.  1.  0. -1.  1.]\n",
      " [-1.  1.  0. -1.  1.]\n",
      " [ 0.  0.  0. -1.  1.]\n",
      " [ 0.  1.  0.  0.  1.]\n",
      " [ 0.  1.  0. -1.  1.]\n",
      " [ 0.  1.  0. -1.  1.]]\n",
      "[[ 0. -1.  0.  1. -1.]\n",
      " [ 0.  1.  0.  1.  0.]\n",
      " [ 0.  1.  0.  0. -1.]\n",
      " [ 0.  1.  0.  0. -1.]\n",
      " [ 0.  1.  0.  0.  1.]\n",
      " [ 0.  1.  0.  0.  1.]]\n",
      "[[-1. -1.  0. -1. -1.]\n",
      " [ 0. -1.  0.  0.  1.]\n",
      " [ 0. -1.  0.  0.  1.]\n",
      " [ 0. -1.  0.  0.  1.]\n",
      " [ 0.  1.  0. -1.  1.]\n",
      " [ 0.  1.  0. -1.  1.]]\n",
      "[[ 0. -1.  0.  1. -1.]\n",
      " [ 0.  0.  0.  0. -1.]\n",
      " [ 0.  1.  0.  0. -1.]\n",
      " [ 0.  1.  0.  0. -1.]\n",
      " [ 0.  1.  0.  0. -1.]\n",
      " [ 0.  1.  0.  0.  1.]]\n",
      "[[ 0. -1.  0.  0. -1.]\n",
      " [ 0.  1.  0.  0. -1.]\n",
      " [ 0.  1.  0. -1.  1.]\n",
      " [ 0.  1.  0.  0.  1.]\n",
      " [ 0.  1.  0.  0. -1.]\n",
      " [ 1.  0.  1.  0. -1.]]\n",
      "[[-1. -1.  0.  0. -1.]\n",
      " [ 0. -1.  0. -1.  1.]\n",
      " [ 0.  1.  0.  0. -1.]\n",
      " [ 0.  1.  0. -1.  1.]\n",
      " [ 0.  1.  0. -1.  0.]\n",
      " [ 1.  1.  0. -1.  1.]]\n",
      "[[-1. -1.  0. -1. -1.]\n",
      " [-1. -1.  0. -1. -1.]\n",
      " [ 0.  0.  0.  0.  1.]\n",
      " [ 0.  1.  0. -1.  1.]\n",
      " [ 0.  1.  0. -1.  1.]\n",
      " [ 1.  1.  0. -1.  1.]]\n",
      "[[ 0.  1.  0. -1.  1.]\n",
      " [ 0.  1.  0.  0. -1.]\n",
      " [ 0.  1.  0.  0.  1.]\n",
      " [ 0.  1.  0. -1.  1.]\n",
      " [ 0.  1.  0.  0.  1.]\n",
      " [ 0.  1.  0. -1.  1.]]\n",
      "[[ 0. -1.  0.  0. -1.]\n",
      " [ 0. -1.  0.  0. -1.]\n",
      " [ 0.  0.  0. -1.  0.]\n",
      " [ 0.  1.  0.  0. -1.]\n",
      " [ 0. -1.  0.  0.  1.]\n",
      " [ 0.  0.  0.  0.  1.]]\n",
      "[[ 0. -1.  0.  1. -1.]\n",
      " [ 0. -1.  0.  1.  1.]\n",
      " [ 0. -1.  0.  1.  1.]\n",
      " [ 0. -1.  0.  1.  1.]\n",
      " [ 0. -1.  0.  0.  1.]\n",
      " [ 0. -1.  0.  0.  1.]]\n",
      "[[-1. -1.  0.  0. -1.]\n",
      " [-1.  1.  0. -1. -1.]\n",
      " [ 0.  1.  0.  0.  1.]\n",
      " [ 0.  1.  0.  0.  1.]\n",
      " [ 0.  1.  0.  0.  1.]\n",
      " [ 1.  1.  0.  0.  1.]]\n",
      "[[ 0. -1.  0.  0. -1.]\n",
      " [ 0.  1.  0.  1. -1.]\n",
      " [ 0.  1.  0.  1. -1.]\n",
      " [ 0.  1.  0.  0.  1.]\n",
      " [ 0.  1.  0.  0.  1.]\n",
      " [ 0.  1.  0. -1.  1.]]\n",
      "[[ 0. -1.  0.  0. -1.]\n",
      " [ 0.  0.  0. -1. -1.]\n",
      " [ 0.  1.  0.  0.  1.]\n",
      " [ 0.  1.  0.  0.  1.]\n",
      " [ 0.  1.  0.  0.  0.]\n",
      " [ 0.  1.  0.  0.  1.]]\n",
      "[[ 0. -1.  0.  0. -1.]\n",
      " [ 0.  0.  0.  0. -1.]\n",
      " [ 0.  1.  0.  0.  1.]\n",
      " [ 0.  1.  0.  0.  1.]\n",
      " [ 1.  1.  1.  0. -1.]\n",
      " [ 1.  1.  0.  0.  1.]]\n",
      "[[-1. -1.  0.  0. -1.]\n",
      " [ 0. -1.  0.  0. -1.]\n",
      " [ 0. -1.  0.  0. -1.]\n",
      " [ 0.  0.  0. -1.  1.]\n",
      " [ 0.  1.  0. -1.  1.]\n",
      " [ 1.  1.  1. -1. -1.]]\n",
      "[[-1. -1.  0.  0. -1.]\n",
      " [ 0.  1.  0.  0.  1.]\n",
      " [ 0.  1.  0.  0. -1.]\n",
      " [ 0.  1.  0.  0. -1.]\n",
      " [ 0.  1.  1.  0. -1.]\n",
      " [ 1.  1.  1.  0. -1.]]\n",
      "[[-1. -1.  0.  0.  1.]\n",
      " [-1.  1.  0.  0.  1.]\n",
      " [ 0.  1.  0. -1.  1.]\n",
      " [ 0.  1.  0. -1.  1.]\n",
      " [ 0.  1.  0.  0.  1.]\n",
      " [ 0.  1.  0.  0.  1.]]\n",
      "[[-1. -1.  0. -1.  0.]\n",
      " [ 0. -1.  0.  0.  1.]\n",
      " [ 0.  0.  0. -1.  1.]\n",
      " [ 0.  1.  0.  0.  1.]\n",
      " [ 0.  1.  0.  0.  1.]\n",
      " [ 0.  1.  0. -1.  1.]]\n",
      "[[ 0. -1.  0.  0.  0.]\n",
      " [ 0. -1.  0.  0.  1.]\n",
      " [ 0. -1.  0.  0.  1.]\n",
      " [ 0. -1.  0.  0.  1.]\n",
      " [ 0.  0.  0.  0.  1.]\n",
      " [ 0.  0.  0.  0.  0.]]\n",
      "[[ 0. -1.  0.  0. -1.]\n",
      " [ 0.  0.  0.  0. -1.]\n",
      " [ 0.  0.  0.  1. -1.]\n",
      " [ 0.  1.  0.  1.  0.]\n",
      " [ 0.  0.  0.  1. -1.]\n",
      " [ 0.  1.  0.  0. -1.]]\n",
      "[[-1. -1.  0.  0. -1.]\n",
      " [ 0.  0.  0.  0. -1.]\n",
      " [ 0.  1.  0.  0.  0.]\n",
      " [ 0.  1.  0.  0.  1.]\n",
      " [ 0.  1.  0.  0.  1.]\n",
      " [ 0.  1.  0.  0.  1.]]\n",
      "[[ 0. -1.  0.  0. -1.]\n",
      " [ 0. -1.  0.  1.  1.]\n",
      " [ 0. -1.  0.  1.  1.]\n",
      " [ 0. -1.  0.  0.  1.]\n",
      " [ 0. -1.  0.  0.  1.]\n",
      " [ 1. -1.  0.  1.  1.]]\n",
      "[[ 0. -1.  0.  1. -1.]\n",
      " [ 0.  1.  0.  0. -1.]\n",
      " [ 0.  1.  0.  0. -1.]\n",
      " [ 0.  1.  0.  0.  1.]\n",
      " [ 0.  1.  0. -1.  1.]\n",
      " [ 0.  1.  0.  0.  1.]]\n",
      "[[ 0. -1.  0.  0. -1.]\n",
      " [ 0.  1.  0.  0.  1.]\n",
      " [ 0.  1.  0.  0.  1.]\n",
      " [ 0.  1.  0.  0.  1.]\n",
      " [ 0.  1.  0. -1.  0.]\n",
      " [ 0.  1.  0.  0.  0.]]\n",
      "[[ 0. -1.  0. -1. -1.]\n",
      " [ 0. -1.  0.  0.  0.]\n",
      " [ 0.  0.  0.  0. -1.]\n",
      " [ 0.  1.  0.  0. -1.]\n",
      " [ 0.  1.  1.  0.  0.]\n",
      " [ 1.  0.  1.  0. -1.]]\n",
      "[[ 0.  1.  0.  0.  0.]\n",
      " [ 0.  1.  0.  0. -1.]\n",
      " [ 0.  1.  0.  0.  1.]\n",
      " [ 0.  1.  0.  0.  1.]\n",
      " [ 0.  1.  0.  0.  1.]\n",
      " [ 0.  1.  0.  0.  1.]]\n",
      "[[ 0. -1.  0.  1. -1.]\n",
      " [ 0. -1.  0.  1. -1.]\n",
      " [ 0. -1.  0.  0. -1.]\n",
      " [ 0. -1.  1.  0. -1.]\n",
      " [ 0. -1.  1.  0. -1.]\n",
      " [ 1.  0.  1.  0. -1.]]\n",
      "[[-1. -1.  0.  0. -1.]\n",
      " [ 0. -1.  0.  0. -1.]\n",
      " [ 0.  1.  0.  1. -1.]\n",
      " [ 0.  1.  1.  1. -1.]\n",
      " [ 1.  1.  1.  0. -1.]\n",
      " [ 1.  1.  1.  0. -1.]]\n",
      "[[ 0. -1.  0.  0. -1.]\n",
      " [ 0. -1.  0.  0. -1.]\n",
      " [ 0.  0.  0.  0. -1.]\n",
      " [ 0.  1.  0.  0. -1.]\n",
      " [ 0.  0.  0.  0. -1.]\n",
      " [ 0.  0.  0.  0.  1.]]\n",
      "[[ 0. -1.  0.  0. -1.]\n",
      " [ 0. -1.  0.  1. -1.]\n",
      " [ 0. -1.  0.  0. -1.]\n",
      " [ 0.  0.  0.  0. -1.]\n",
      " [ 0.  0.  0.  0. -1.]\n",
      " [ 0.  1.  0.  0. -1.]]\n",
      "[[-1.  1.  0.  0. -1.]\n",
      " [-1.  1.  0. -1.  0.]\n",
      " [-1.  1.  0. -1.  1.]\n",
      " [ 0.  1.  0. -1.  1.]\n",
      " [ 0.  1.  0. -1.  1.]\n",
      " [ 1.  0.  1. -1. -1.]]\n",
      "[[ 0. -1.  0.  0. -1.]\n",
      " [ 0. -1.  0.  0. -1.]\n",
      " [ 0. -1.  0.  1. -1.]\n",
      " [ 0. -1.  0.  1.  1.]\n",
      " [ 0. -1.  0.  0.  1.]\n",
      " [ 0.  0.  0.  0. -1.]]\n",
      "[[ 0. -1.  0.  1. -1.]\n",
      " [ 0. -1.  0.  1. -1.]\n",
      " [ 0. -1.  1.  1. -1.]\n",
      " [ 0. -1.  0.  1.  0.]\n",
      " [ 1.  1.  0.  0.  1.]\n",
      " [ 1.  1.  0.  0.  1.]]\n",
      "[[-1. -1.  0.  0. -1.]\n",
      " [ 0. -1.  0.  0. -1.]\n",
      " [-1. -1.  0.  0. -1.]\n",
      " [ 0. -1.  0.  0.  0.]\n",
      " [ 0. -1.  0. -1.  0.]\n",
      " [ 0. -1.  0. -1.  1.]]\n",
      "[[-1. -1.  0.  0. -1.]\n",
      " [-1. -1.  0.  0. -1.]\n",
      " [ 0.  1.  0.  0.  1.]\n",
      " [ 0.  0.  0.  0. -1.]\n",
      " [ 0.  0.  0.  1. -1.]\n",
      " [ 0.  1.  0.  0. -1.]]\n",
      "[[-1. -1.  0.  0.  1.]\n",
      " [-1. -1.  0.  0. -1.]\n",
      " [ 0. -1.  0.  0.  0.]\n",
      " [ 0.  1.  0.  0.  1.]\n",
      " [ 0.  1.  0.  0.  1.]\n",
      " [ 0.  1.  0.  0.  1.]]\n",
      "[[ 0. -1.  0.  0. -1.]\n",
      " [ 0. -1.  0.  1. -1.]\n",
      " [ 0. -1.  0.  0. -1.]\n",
      " [ 0. -1.  1.  0. -1.]\n",
      " [ 0. -1.  1.  0. -1.]\n",
      " [ 1.  0.  1.  0. -1.]]\n",
      "[[ 0. -1.  0.  0. -1.]\n",
      " [ 0. -1.  0.  0. -1.]\n",
      " [ 0. -1.  0.  0. -1.]\n",
      " [ 0. -1.  0.  0. -1.]\n",
      " [ 0. -1.  0.  0. -1.]\n",
      " [ 0. -1.  0. -1. -1.]]\n",
      "[[ 0. -1.  0.  0. -1.]\n",
      " [ 0.  0.  0.  0.  1.]\n",
      " [ 0.  1.  0.  0.  1.]\n",
      " [ 1.  1.  1.  0.  0.]\n",
      " [ 1.  1.  1. -1. -1.]\n",
      " [ 1.  1.  1. -1.  1.]]\n",
      "[[-1. -1.  0.  0. -1.]\n",
      " [ 0.  0.  0.  0. -1.]\n",
      " [ 0.  1.  0.  0.  1.]\n",
      " [ 0.  1.  0.  0.  1.]\n",
      " [ 0.  0.  0.  0. -1.]\n",
      " [ 0. -1.  0.  0. -1.]]\n",
      "[[ 0. -1.  0.  0. -1.]\n",
      " [ 0. -1.  0.  0. -1.]\n",
      " [ 0. -1.  0.  0. -1.]\n",
      " [ 0.  1.  0.  0.  1.]\n",
      " [ 0.  1.  0.  0.  1.]\n",
      " [ 0.  0.  0.  0.  0.]]\n",
      "[[ 0. -1.  0.  0.  1.]\n",
      " [ 0.  0.  0.  0.  0.]\n",
      " [ 0.  1.  0.  0. -1.]\n",
      " [ 0.  1.  0.  0. -1.]\n",
      " [ 0.  1.  0.  0. -1.]\n",
      " [ 0.  1.  0.  0.  1.]]\n",
      "[[-1. -1.  0. -1.  1.]\n",
      " [ 0.  0.  0.  0.  1.]\n",
      " [ 0.  1.  0.  0.  1.]\n",
      " [ 0.  1.  0. -1.  1.]\n",
      " [ 0.  1.  0. -1.  1.]\n",
      " [ 0.  1.  0.  0.  1.]]\n",
      "[[-1. -1.  0.  0. -1.]\n",
      " [ 1.  1.  1. -1. -1.]\n",
      " [ 0.  1.  0.  0.  1.]\n",
      " [ 1.  0.  1. -1. -1.]\n",
      " [ 1.  1.  1. -1. -1.]\n",
      " [ 1.  0.  1. -1. -1.]]\n",
      "[[ 0.  0.  0.  0.  1.]\n",
      " [ 0.  1.  0.  0.  1.]\n",
      " [ 0.  1.  0.  0.  1.]\n",
      " [ 0.  1.  0.  0.  1.]\n",
      " [ 0.  1.  0. -1.  1.]\n",
      " [ 0.  1.  0. -1.  1.]]\n",
      "[[-1. -1.  0.  0. -1.]\n",
      " [ 0.  1.  0.  0.  1.]\n",
      " [ 0.  1.  0.  0.  1.]\n",
      " [ 0.  1.  0.  0.  1.]\n",
      " [ 0.  1.  0.  0.  1.]\n",
      " [ 0.  1.  0.  0.  1.]]\n",
      "[[ 0. -1.  0.  0. -1.]\n",
      " [ 0. -1.  0.  1. -1.]\n",
      " [ 0.  0.  0.  1.  1.]\n",
      " [ 0.  0.  0.  0. -1.]\n",
      " [ 1.  1.  1.  0. -1.]\n",
      " [ 1.  1.  1.  0.  0.]]\n",
      "[[ 0. -1.  0.  0. -1.]\n",
      " [ 0.  0.  0.  0. -1.]\n",
      " [ 0.  0.  0.  0. -1.]\n",
      " [ 0. -1.  0.  0. -1.]\n",
      " [ 0. -1.  0. -1.  1.]\n",
      " [ 0. -1.  0.  0.  1.]]\n",
      "[[ 0.  1.  0.  0. -1.]\n",
      " [ 0.  1.  0.  0. -1.]\n",
      " [ 0.  1.  0.  0. -1.]\n",
      " [ 0.  1.  0.  0. -1.]\n",
      " [ 0.  0.  0.  0. -1.]\n",
      " [ 0.  1.  0.  0.  1.]]\n",
      "[[ 0. -1.  0.  0.  0.]\n",
      " [ 0. -1.  0.  0. -1.]\n",
      " [ 0. -1.  0.  0. -1.]\n",
      " [ 0.  1.  0.  0.  1.]\n",
      " [ 0.  1.  0.  0.  1.]\n",
      " [ 0.  1.  0. -1.  1.]]\n",
      "[[-1. -1.  0. -1. -1.]\n",
      " [-1. -1.  0.  0. -1.]\n",
      " [ 0. -1.  0.  0. -1.]\n",
      " [ 0. -1.  0.  0.  0.]\n",
      " [ 0.  0.  0.  0. -1.]\n",
      " [ 0.  1.  0.  0. -1.]]\n",
      "[[-1. -1.  0.  0. -1.]\n",
      " [ 0. -1.  0.  0. -1.]\n",
      " [ 0. -1.  0.  0.  0.]\n",
      " [ 0.  1.  0.  0.  1.]\n",
      " [ 0.  1.  0.  0. -1.]\n",
      " [ 0.  1.  0.  0.  0.]]\n",
      "[[-1. -1.  0.  0. -1.]\n",
      " [-1. -1.  0.  0. -1.]\n",
      " [-1.  0.  0. -1.  1.]\n",
      " [ 0.  1.  0. -1.  1.]\n",
      " [ 0.  1.  0.  0.  1.]\n",
      " [ 0. -1.  0.  0.  1.]]\n",
      "[[ 0. -1.  0.  0. -1.]\n",
      " [ 0. -1.  0.  0. -1.]\n",
      " [ 0.  0.  0.  0.  1.]\n",
      " [ 0.  1.  0.  0. -1.]\n",
      " [ 0.  1.  0.  0. -1.]\n",
      " [ 0.  1.  0.  0.  1.]]\n",
      "[[ 0. -1.  0. -1. -1.]\n",
      " [ 0. -1.  0.  0. -1.]\n",
      " [ 0.  0.  0.  0. -1.]\n",
      " [ 0.  0.  0.  1. -1.]\n",
      " [ 0.  1.  0.  0. -1.]\n",
      " [ 0.  1.  0.  0. -1.]]\n",
      "[[-1. -1.  0. -1.  1.]\n",
      " [-1. -1.  0. -1.  0.]\n",
      " [-1. -1.  0. -1.  1.]\n",
      " [ 0. -1.  0.  0. -1.]\n",
      " [ 0.  1.  0.  0.  1.]\n",
      " [ 0.  1.  0. -1.  1.]]\n",
      "[[-1. -1.  0.  0. -1.]\n",
      " [ 0. -1.  0.  0. -1.]\n",
      " [ 0.  1.  0.  0.  1.]\n",
      " [ 0.  1.  0.  0.  1.]\n",
      " [ 0.  1.  0.  0.  1.]\n",
      " [ 0.  1.  0.  0.  1.]]\n",
      "[[-1. -1.  0.  0.  0.]\n",
      " [ 0.  1.  0.  0.  1.]\n",
      " [ 0.  1.  0.  0.  1.]\n",
      " [ 0.  1.  0.  0.  1.]\n",
      " [ 0.  1.  0.  0.  1.]\n",
      " [ 0.  1.  0.  0.  1.]]\n"
     ]
    }
   ],
   "source": [
    "for k in gt_ism_patient.filter(payload_satisfies(lambda p: p == -1)):\n",
    "    print_lfs(lf_ism[k])"
   ]
  },
  {
   "cell_type": "code",
   "execution_count": null,
   "metadata": {},
   "outputs": [],
   "source": []
  }
 ],
 "metadata": {
  "kernelspec": {
   "display_name": "Python [conda env:rekall]",
   "language": "python",
   "name": "conda-env-rekall-py"
  },
  "language_info": {
   "codemirror_mode": {
    "name": "ipython",
    "version": 3
   },
   "file_extension": ".py",
   "mimetype": "text/x-python",
   "name": "python",
   "nbconvert_exporter": "python",
   "pygments_lexer": "ipython3",
   "version": "3.7.3"
  }
 },
 "nbformat": 4,
 "nbformat_minor": 2
}
