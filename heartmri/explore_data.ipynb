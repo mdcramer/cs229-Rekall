{
 "cells": [
  {
   "cell_type": "code",
   "execution_count": null,
   "metadata": {},
   "outputs": [],
   "source": [
    "import os\n",
    "import numpy as np\n",
    "import matplotlib.pyplot as plt"
   ]
  },
  {
   "cell_type": "code",
   "execution_count": null,
   "metadata": {},
   "outputs": [],
   "source": [
    "root_path = '/lfs/1/danfu/rekall_experiments/heartmri'\n",
    "dev_folder = 'dev32'\n",
    "test_folder = 'test32'\n",
    "video_folder = 'flow_250_tp_AoV_bh_ePAT@c_MAG'\n",
    "dev_labels_file = 'labels.csv'\n",
    "test_labels_file = 'labels.csv'"
   ]
  },
  {
   "cell_type": "code",
   "execution_count": null,
   "metadata": {},
   "outputs": [],
   "source": [
    "dev_labels_path = os.path.join(\n",
    "    os.path.join(root_path, dev_folder),\n",
    "    dev_labels_file\n",
    ")\n",
    "dev_labels = []\n",
    "with open(dev_labels_path, 'r') as f:\n",
    "    f.readline()\n",
    "    for line in f.readlines():\n",
    "        video_id, label = line.strip().split(',')\n",
    "        dev_labels.append((video_id, int(label)))"
   ]
  },
  {
   "cell_type": "code",
   "execution_count": null,
   "metadata": {},
   "outputs": [],
   "source": [
    "len([dv for dv in dev_labels if dv[1] == 1])"
   ]
  },
  {
   "cell_type": "code",
   "execution_count": null,
   "metadata": {},
   "outputs": [],
   "source": [
    "test_labels_path = os.path.join(\n",
    "    os.path.join(root_path, test_folder),\n",
    "    test_labels_file\n",
    ")\n",
    "test_labels = []\n",
    "with open(test_labels_path, 'r') as f:\n",
    "    f.readline()\n",
    "    for line in f.readlines():\n",
    "        video_id, label = line.strip().split(',')\n",
    "        test_labels.append((video_id, int(label)))"
   ]
  },
  {
   "cell_type": "code",
   "execution_count": null,
   "metadata": {},
   "outputs": [],
   "source": [
    "len([tv for tv in test_labels if tv[1] == 0])"
   ]
  },
  {
   "cell_type": "code",
   "execution_count": null,
   "metadata": {},
   "outputs": [],
   "source": [
    "patient_id = dev_labels[0][0]"
   ]
  },
  {
   "cell_type": "code",
   "execution_count": null,
   "metadata": {},
   "outputs": [],
   "source": [
    "mri = np.load(os.path.join(\n",
    "    os.path.join(\n",
    "        os.path.join(root_path, dev_folder),\n",
    "        video_folder\n",
    "    ),\n",
    "    '{}.npy'.format(patient_id)\n",
    "))"
   ]
  },
  {
   "cell_type": "code",
   "execution_count": null,
   "metadata": {},
   "outputs": [],
   "source": [
    "mri.shape"
   ]
  },
  {
   "cell_type": "code",
   "execution_count": null,
   "metadata": {},
   "outputs": [],
   "source": [
    "mri[0]"
   ]
  },
  {
   "cell_type": "code",
   "execution_count": null,
   "metadata": {},
   "outputs": [],
   "source": [
    "def montage(X): \n",
    "    count, m, n = X.shape\n",
    "    nn = int(np.ceil(np.sqrt(count)))\n",
    "    mm = nn\n",
    "    M = np.zeros((mm * m, nn * n))\n",
    "\n",
    "    image_id = 0\n",
    "    for k in range(mm):\n",
    "        for j in range(nn):\n",
    "            if image_id >= count: \n",
    "                break\n",
    "            sliceM, sliceN = j * m, k * n\n",
    "            M[sliceN:sliceN + m, sliceM:sliceM + n] = X[image_id, :, :]\n",
    "            image_id += 1\n",
    "                               \n",
    "    return M"
   ]
  },
  {
   "cell_type": "code",
   "execution_count": null,
   "metadata": {
    "scrolled": true
   },
   "outputs": [],
   "source": [
    "# Show negative examples\n",
    "negatives_montaged = []\n",
    "for patient_id, label in dev_labels:\n",
    "    if label != 0:\n",
    "        continue\n",
    "    mri = np.load(os.path.join(\n",
    "        os.path.join(\n",
    "            os.path.join(root_path, dev_folder),\n",
    "            video_folder\n",
    "        ),\n",
    "        '{}.npy'.format(patient_id)\n",
    "    ))\n",
    "    mri_montage = montage(mri)\n",
    "    negatives_montaged.append(mri_montage)\n",
    "#     plt.imshow(mri_montage, cmap='gray')\n",
    "#     plt.show()\n",
    "negatives_montaged = np.array(negatives_montaged)\n",
    "negatives_montaged.shape"
   ]
  },
  {
   "cell_type": "code",
   "execution_count": null,
   "metadata": {},
   "outputs": [],
   "source": [
    "plt.figure(figsize=(40,40))\n",
    "plt.imshow(montage(negatives_montaged), cmap='gray')\n",
    "plt.savefig('devs_negative_montaged.png')\n",
    "plt.show()"
   ]
  },
  {
   "cell_type": "code",
   "execution_count": null,
   "metadata": {
    "scrolled": true
   },
   "outputs": [],
   "source": [
    "# Show positive examples\n",
    "positives_montaged = []\n",
    "for patient_id, label in dev_labels:\n",
    "    if label != 1:\n",
    "        continue\n",
    "    mri = np.load(os.path.join(\n",
    "        os.path.join(\n",
    "            os.path.join(root_path, dev_folder),\n",
    "            video_folder\n",
    "        ),\n",
    "        '{}.npy'.format(patient_id)\n",
    "    ))\n",
    "    mri_montage = montage(mri)\n",
    "    positives_montaged.append(mri_montage)\n",
    "#     plt.imshow(mri_montage, cmap='gray')\n",
    "#     plt.show()\n",
    "positives_montaged = np.array(positives_montaged)\n",
    "positives_montaged.shape"
   ]
  },
  {
   "cell_type": "code",
   "execution_count": null,
   "metadata": {},
   "outputs": [],
   "source": [
    "plt.figure(figsize=(10,10))\n",
    "plt.imshow(montage(positives_montaged), cmap='gray')\n",
    "plt.savefig('devs_positive_montaged.png')\n",
    "plt.show()"
   ]
  }
 ],
 "metadata": {
  "kernelspec": {
   "display_name": "Python 3",
   "language": "python",
   "name": "python3"
  },
  "language_info": {
   "codemirror_mode": {
    "name": "ipython",
    "version": 3
   },
   "file_extension": ".py",
   "mimetype": "text/x-python",
   "name": "python",
   "nbconvert_exporter": "python",
   "pygments_lexer": "ipython3",
   "version": "3.6.7"
  }
 },
 "nbformat": 4,
 "nbformat_minor": 2
}
